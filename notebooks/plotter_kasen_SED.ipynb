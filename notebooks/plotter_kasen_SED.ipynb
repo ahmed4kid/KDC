{
 "cells": [
  {
   "cell_type": "markdown",
   "id": "b6747441",
   "metadata": {},
   "source": [
    "## This notebook plots the KN lightcurves"
   ]
  },
  {
   "cell_type": "code",
   "execution_count": null,
   "id": "35333f7a",
   "metadata": {},
   "outputs": [],
   "source": [
    "import matplotlib.pyplot as plt\n",
    "import pandas as pd\n",
    "import numpy as np\n",
    "from astropy.cosmology import FlatLambdaCDM\n",
    "z = 0.0099"
   ]
  },
  {
   "cell_type": "markdown",
   "id": "be85c750",
   "metadata": {},
   "source": [
    "## Generate the cosmology"
   ]
  },
  {
   "cell_type": "code",
   "execution_count": null,
   "id": "96dcee46",
   "metadata": {},
   "outputs": [],
   "source": [
    "cosmo = FlatLambdaCDM(H0=69.6, Om0=0.286)\n",
    "dc = cosmo.comoving_distance(z)\n",
    "dlum_mpc = (1+z)*dc    #in Mpc\n",
    "dlum_cm =  3.086e+24 * (dlum_mpc)"
   ]
  },
  {
   "cell_type": "markdown",
   "id": "651ac6a9",
   "metadata": {},
   "source": [
    "## Reads in a list of all the SEDs and then reads them in one by one"
   ]
  },
  {
   "cell_type": "code",
   "execution_count": null,
   "id": "e21b626a",
   "metadata": {},
   "outputs": [],
   "source": [
    "lister = np.loadtxt('/Users/mwiesner/KDC/notebooks/output/list', dtype='str')\n",
    "\n",
    "for x in range (0, len(lister)):\n",
    "    data = pd.read_csv('/Users/mwiesner/KDC/kasen/temp/'+lister[x], sep=',')\n",
    "    print(x)\n",
    "#data2 = pd.read_csv('~/Exp.40E08.1Z.spec', delim_whitespace=True)\n",
    "\n",
    "#for col in data.columns:\n",
    "#    print(col)\n",
    "\n",
    "#print(data['Llam'])\n",
    "    #lam_ok = data.loc[data.index%20. ==0]['LAMBDA']\n",
    "    #flux_ok = data.loc[data.index%20. ==0]['Llam']\n",
    "  \n",
    "      \n",
    "    lam_ok = data.loc[data.index%20. ==0]['LAMBDA']\n",
    "    flux_ok = data.loc[data.index%20. ==0]['Llam']\n",
    "   \n",
    "  #  lam_ok = data['LAMBDA']\n",
    "  #  flux_ok = data['Llam']\n",
    "    \n",
    "    #Find the average flux between 490 and 510 nm \n",
    "  #  normer = data[( (data.LAMBDA > 4500.) & (data.LAMBDA < 5500.) )]\n",
    "   # norm = np.mean(normer['Llam'])\n",
    "    \n",
    "    #Define the wavelength and flux columns from the initial SED file read in.\n",
    "    lam_nm = lam_ok/10.\n",
    "    Flam = flux_ok / ((4.*np.pi*(dlum_cm)**2.))#*(1E-17)) #Flam [ergs/s/cm2/Angstrom]\n",
    "    #norm_norm = np.mean(Flam)\n",
    "    Flim = Flam\n",
    "    \n",
    "    #  normer = Flam[( (lam_nm.LAMBDA > 450.) & (lam_nm.LAMBDA < 550.) )]\n",
    "   \n",
    "    #diff = abs(lam_nm - 500.0)\n",
    "    #fine = np.where(diff == min(diff))\n",
    "    #print('The value at '+str(lam_nm.iloc[fine])+' nm is '+str(Flim.iloc[fine])+' (subscript is '+str(fine)+')')    \n",
    "    \n",
    "    \n",
    " #   print(lam_nm.iloc[fine].to_string(index=False))\n",
    " #   print(Flim.iloc[fine].to_string(index=False))\n",
    "    #This is where we write out the SED file\n",
    "    pd.concat([lam_nm, Flim], axis=1).to_csv('/Users/mwiesner/KDC/kasen/SEDs/'+lister[x], header = ['# Wavelength (nm)' ,   'F_lamA (normalized erg/cm2/s/A)'], index = False, float_format='%g', sep=' ')\n",
    "\n",
    "    #i_band_mag = data.loc[data['Band'] == 'i']['Mag']\n",
    "\n",
    "    scatter = plt.plot(lam_nm, Flim)\n",
    "                                        #, '.g-') \n",
    "    plt.title(lister[x])\n",
    "    plt.xlim([0., 1200.]) #PhoSim doesn't look beyond 1200 nm\n",
    "    #plt.ylim([0.,1.1])\n",
    "    plt.xlabel('Wavelength (nm)')\n",
    "    plt.ylabel('Flux')\n",
    "    plt.show()\n",
    "\n",
    "\n",
    "   # print('normalization factor is=', norm_norm)\n",
    "    print('Max = ', format(max(Flim), '4.4'))\n",
    "    print('Min = ', min(Flim))\n",
    "    print('Mean = ', format(np.mean(Flim), '4.4'))\n",
    "\n",
    "    \n",
    "  "
   ]
  },
  {
   "cell_type": "markdown",
   "id": "efb91bc4",
   "metadata": {},
   "source": [
    "## Make the plots"
   ]
  },
  {
   "cell_type": "code",
   "execution_count": null,
   "id": "3c01122a",
   "metadata": {},
   "outputs": [],
   "source": [
    "cosmo = FlatLambdaCDM(H0=69.6, Om0=0.286)\n",
    "dc = cosmo.comoving_distance(z)\n",
    "dlum_mpc = (1+z)*dc    #in Mpc\n",
    "dlum_cm =  3.086e+24 * (dlum_mpc)\n",
    "\n",
    "Flam = flux / (4.*np.pi*(dlum_cm)**2. ) #Flam [ergs/s/cm2/Angstrom]\n",
    "\n",
    "Flim = Flam/(1E-17)\n",
    "\n",
    "str_list = '# Wavelength (nm)   F_lamA (normalized erg/cm2/s/A)'\n",
    "pd.concat([lam_nm, Flim], axis=1).to_csv('output/kasen.spec', header = ['# Wavelength (nm)' ,   'F_lamA (normalized erg/cm2/s/A)'], index = False, sep=' ')"
   ]
  },
  {
   "cell_type": "code",
   "execution_count": null,
   "id": "184dd4be",
   "metadata": {},
   "outputs": [],
   "source": []
  },
  {
   "cell_type": "code",
   "execution_count": null,
   "id": "bb3fb10c",
   "metadata": {},
   "outputs": [],
   "source": [
    "scatter = plt.plot(lam_nm, Flam)\n",
    "                                        #, '.g-') \n",
    "plt.title('Kasen SED at z = 0.0099')\n",
    "plt.xlim([0., 1200.]) #PhoSim doesn't look beyond 1200 nm\n",
    "#plt.ylim([0.,1.1])\n",
    "plt.xlabel('Wavelength (nm)')\n",
    "plt.ylabel('Flux')\n",
    "plt.show()\n",
    "\n",
    "#scatter = plt.plot(data2['Wavelength'], data2['F_lam'])\n",
    "                                        #, '.g-') \n",
    "#plt.title('PhoSim SED at z = 0.0099')\n",
    "#plt.xlim([0., 1000.])\n",
    "#plt.ylim([0.,1.1])\n",
    "#plt.xlabel('Wavelength (nm)')\n",
    "#plt.ylabel('Flux')\n",
    "#plt.show()\n"
   ]
  },
  {
   "cell_type": "markdown",
   "id": "e8aed19d",
   "metadata": {},
   "source": [
    "## Output the data to a text file"
   ]
  },
  {
   "cell_type": "code",
   "execution_count": null,
   "id": "145ded61",
   "metadata": {},
   "outputs": [],
   "source": [
    "Flim = Flam/(1E-17)\n",
    "#print(lam_nm)\n",
    "#print(Flim)\n",
    "\n",
    "#lam_nm.rename(index={0:\"# Wavelength (nm)\"})\n",
    "#Flim.columns = '  F_lamA (normalized erg/cm2/s/A)'\n",
    "\n",
    "#print(lam_nm)\n",
    "\n",
    "#Flimm = Flim['Llam'].data.tolist()\n",
    "#lamm_nm = lam_nm['LAMBDA'].data.tolist()\n",
    "#print(lam_nm)\n",
    "#print(datta)\n",
    "#print(SED)\n",
    "#print(SED)\n",
    "#print(lam_nm)\n",
    "#print(max(Flam))\n",
    "#df = pd.DataFrame(SED, columns = ['# Wavelength (nm)', 'F_lamA (normalized erg/cm2/s/A)'])\n",
    "#print(df)\n",
    "\n",
    "str_list = '# Wavelength (nm)   F_lamA (normalized erg/cm2/s/A)'\n",
    "pd.concat([lam_nm, Flim], axis=1).to_csv('output/kasen.spec', header = ['# Wavelength (nm)' ,   'F_lamA (normalized erg/cm2/s/A)'], index = False, sep=' ')\n",
    "\n",
    "#Flim.to_csv('output/kasen.spec', index = False, sep=' ')\n"
   ]
  },
  {
   "cell_type": "code",
   "execution_count": null,
   "id": "69b4d429",
   "metadata": {},
   "outputs": [],
   "source": []
  },
  {
   "cell_type": "code",
   "execution_count": null,
   "id": "68570594",
   "metadata": {},
   "outputs": [],
   "source": []
  }
 ],
 "metadata": {
  "kernelspec": {
   "display_name": "LSST",
   "language": "python",
   "name": "lsst"
  },
  "language_info": {
   "codemirror_mode": {
    "name": "ipython",
    "version": 3
   },
   "file_extension": ".py",
   "mimetype": "text/x-python",
   "name": "python",
   "nbconvert_exporter": "python",
   "pygments_lexer": "ipython3",
   "version": "3.10.10"
  }
 },
 "nbformat": 4,
 "nbformat_minor": 5
}
