{
 "cells": [
  {
   "cell_type": "code",
   "execution_count": null,
   "id": "8484f178",
   "metadata": {},
   "outputs": [],
   "source": [
    "import matplotlib.pyplot as plt\n",
    "import pandas as pd\n",
    "import numpy as np"
   ]
  },
  {
   "cell_type": "code",
   "execution_count": null,
   "id": "7c969367",
   "metadata": {},
   "outputs": [],
   "source": [
    "data = pd.read_csv('input/dp0.csv')"
   ]
  },
  {
   "cell_type": "code",
   "execution_count": null,
   "id": "f29342a7",
   "metadata": {},
   "outputs": [],
   "source": [
    "ra = data['coord_ra']\n",
    "dec = data['coord_dec']"
   ]
  },
  {
   "cell_type": "code",
   "execution_count": null,
   "id": "f0b50a6b",
   "metadata": {},
   "outputs": [],
   "source": [
    "scatter = plt.plot(ra, dec, '.g-') \n",
    "plt.title('u-band')\n",
    "plt.xlabel('MJD')\n",
    "plt.ylabel('u-band magnitude')\n",
    "plt.xlim(57980,57996)\n",
    "plt.gca().invert_yaxis()\n",
    "plt.show()"
   ]
  },
  {
   "cell_type": "code",
   "execution_count": null,
   "id": "cfc80d02",
   "metadata": {},
   "outputs": [],
   "source": []
  }
 ],
 "metadata": {
  "kernelspec": {
   "display_name": "LSST",
   "language": "python",
   "name": "lsst"
  },
  "language_info": {
   "codemirror_mode": {
    "name": "ipython",
    "version": 3
   },
   "file_extension": ".py",
   "mimetype": "text/x-python",
   "name": "python",
   "nbconvert_exporter": "python",
   "pygments_lexer": "ipython3",
   "version": "3.10.10"
  }
 },
 "nbformat": 4,
 "nbformat_minor": 5
}
