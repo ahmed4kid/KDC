{
 "cells": [
  {
   "cell_type": "code",
   "execution_count": 1,
   "id": "8484f178",
   "metadata": {},
   "outputs": [],
   "source": [
    "import matplotlib.pyplot as plt\n",
    "import pandas as pd\n",
    "import numpy as np"
   ]
  },
  {
   "cell_type": "code",
   "execution_count": 8,
   "id": "7c969367",
   "metadata": {},
   "outputs": [],
   "source": [
    "data = pd.read_csv('input/dp0.csv')"
   ]
  },
  {
   "cell_type": "code",
   "execution_count": 9,
   "id": "f29342a7",
   "metadata": {},
   "outputs": [],
   "source": [
    "ra = data['coord_ra']\n",
    "dec = data['coord_dec']"
   ]
  },
  {
   "cell_type": "code",
   "execution_count": 11,
   "id": "f0b50a6b",
   "metadata": {},
   "outputs": [
    {
     "name": "stdout",
     "output_type": "stream",
     "text": [
      "0      -36.776907\n",
      "1      -36.777069\n",
      "2      -36.776875\n",
      "3      -36.777323\n",
      "4      -36.777528\n",
      "5      -36.775894\n",
      "6      -36.774789\n",
      "7      -36.776560\n",
      "8      -36.776078\n",
      "9      -36.775332\n",
      "10     -36.776032\n",
      "11     -36.775486\n",
      "12     -36.775828\n",
      "13     -36.776338\n",
      "14     -36.778012\n",
      "15     -36.777486\n",
      "16     -36.776668\n",
      "17     -36.774695\n",
      "18     -36.773309\n",
      "19     -36.775044\n",
      "20     -36.775044\n",
      "21     -36.775153\n",
      "22     -36.774258\n",
      "23     -36.775313\n",
      "24     -36.772812\n",
      "25     -36.774183\n",
      "26     -36.774767\n",
      "27     -36.772530\n",
      "28     -36.775654\n",
      "29     -36.775747\n",
      "          ...    \n",
      "1943   -36.747573\n",
      "1944   -36.747160\n",
      "1945   -36.747956\n",
      "1946   -36.746820\n",
      "1947   -36.748209\n",
      "1948   -36.747941\n",
      "1949   -36.747510\n",
      "1950   -36.745307\n",
      "1951   -36.745777\n",
      "1952   -36.747479\n",
      "1953   -36.748160\n",
      "1954   -36.747202\n",
      "1955   -36.747434\n",
      "1956   -36.746655\n",
      "1957   -36.747504\n",
      "1958   -36.747970\n",
      "1959   -36.747485\n",
      "1960   -36.747500\n",
      "1961   -36.746733\n",
      "1962   -36.747270\n",
      "1963   -36.747806\n",
      "1964   -36.746294\n",
      "1965   -36.746362\n",
      "1966   -36.748190\n",
      "1967   -36.746820\n",
      "1968   -36.747880\n",
      "1969   -36.747887\n",
      "1970   -36.748112\n",
      "1971   -36.747650\n",
      "1972   -36.740938\n",
      "Name: coord_dec, Length: 1973, dtype: float64\n"
     ]
    }
   ],
   "source": [
    "scatter = plt.plot(ra, dec, '.g-') \n",
    "plt.title('u-band')\n",
    "plt.xlabel('MJD')\n",
    "plt.ylabel('u-band magnitude')\n",
    "plt.xlim(57980,57996)\n",
    "plt.gca().invert_yaxis()\n",
    "plt.show()"
   ]
  },
  {
   "cell_type": "code",
   "execution_count": null,
   "id": "cfc80d02",
   "metadata": {},
   "outputs": [],
   "source": []
  }
 ],
 "metadata": {
  "kernelspec": {
   "display_name": "p3workshop",
   "language": "python",
   "name": "p3workshop"
  },
  "language_info": {
   "codemirror_mode": {
    "name": "ipython",
    "version": 2
   },
   "file_extension": ".py",
   "mimetype": "text/x-python",
   "name": "python",
   "nbconvert_exporter": "python",
   "pygments_lexer": "ipython2",
   "version": "2.7.15"
  }
 },
 "nbformat": 4,
 "nbformat_minor": 5
}
