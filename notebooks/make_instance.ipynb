{
 "cells": [
  {
   "cell_type": "markdown",
   "id": "b6747441",
   "metadata": {},
   "source": [
    "## This notebook make instance catalogs to simulate GW170817"
   ]
  },
  {
   "cell_type": "code",
   "execution_count": 28,
   "id": "35333f7a",
   "metadata": {},
   "outputs": [],
   "source": [
    "import matplotlib.pyplot as plt\n",
    "import pandas as pd\n",
    "import numpy as np\n",
    "import sys\n",
    "from numpy import loadtxt\n",
    "from pathlib import Path\n",
    "home = str(Path.home())"
   ]
  },
  {
   "cell_type": "markdown",
   "id": "ea8af119",
   "metadata": {},
   "source": [
    "## User inputs"
   ]
  },
  {
   "cell_type": "code",
   "execution_count": 29,
   "id": "e28356be",
   "metadata": {},
   "outputs": [],
   "source": [
    "#This is the kilonova redshift\n",
    "z = 0.0099\n",
    "data = pd.read_csv('input/gw170817.data', delim_whitespace=True)\n",
    "zero_time = 57982.36181\n",
    "seds = loadtxt(home+\"/KDC/notebooks/input/sed.list\", dtype='float')"
   ]
  },
  {
   "cell_type": "markdown",
   "id": "651ac6a9",
   "metadata": {},
   "source": [
    "## Read the data, sort it by filter"
   ]
  },
  {
   "cell_type": "code",
   "execution_count": 1,
   "id": "e21b626a",
   "metadata": {},
   "outputs": [
    {
     "ename": "NameError",
     "evalue": "name 'home' is not defined",
     "output_type": "error",
     "traceback": [
      "\u001b[0;31m---------------------------------------------------------------------------\u001b[0m",
      "\u001b[0;31mNameError\u001b[0m                                 Traceback (most recent call last)",
      "\u001b[0;32m<ipython-input-1-9f5e0f6d614f>\u001b[0m in \u001b[0;36m<module>\u001b[0;34m\u001b[0m\n\u001b[1;32m      9\u001b[0m \u001b[0;31m#    for x in range (0, end[y]):\u001b[0m\u001b[0;34m\u001b[0m\u001b[0;34m\u001b[0m\u001b[0;34m\u001b[0m\u001b[0m\n\u001b[1;32m     10\u001b[0m \u001b[0;34m\u001b[0m\u001b[0m\n\u001b[0;32m---> 11\u001b[0;31m     \u001b[0mf2\u001b[0m \u001b[0;34m=\u001b[0m \u001b[0mopen\u001b[0m\u001b[0;34m(\u001b[0m\u001b[0mhome\u001b[0m\u001b[0;34m+\u001b[0m\u001b[0;34m'/KDC/instance/phosim_159479_'\u001b[0m\u001b[0;34m+\u001b[0m\u001b[0mstr\u001b[0m\u001b[0;34m(\u001b[0m\u001b[0mfilters\u001b[0m\u001b[0;34m[\u001b[0m\u001b[0my\u001b[0m\u001b[0;34m]\u001b[0m\u001b[0;34m)\u001b[0m\u001b[0;34m+\u001b[0m\u001b[0;34m'_'\u001b[0m\u001b[0;34m+\u001b[0m\u001b[0mstr\u001b[0m\u001b[0;34m(\u001b[0m\u001b[0mx\u001b[0m\u001b[0;34m)\u001b[0m\u001b[0;34m+\u001b[0m\u001b[0;34m'.instance'\u001b[0m\u001b[0;34m,\u001b[0m \u001b[0;34m'w'\u001b[0m\u001b[0;34m)\u001b[0m\u001b[0;34m\u001b[0m\u001b[0;34m\u001b[0m\u001b[0m\n\u001b[0m\u001b[1;32m     12\u001b[0m     outputline55 = \"\"\"rightascension 57.98644604060054 \n\u001b[1;32m     13\u001b[0m \u001b[0mdeclination\u001b[0m \u001b[0;34m-\u001b[0m\u001b[0;36m31.44913136508897\u001b[0m\u001b[0;34m\u001b[0m\u001b[0;34m\u001b[0m\u001b[0m\n",
      "\u001b[0;31mNameError\u001b[0m: name 'home' is not defined"
     ]
    }
   ],
   "source": [
    "#for col in data.columns:\n",
    "#    print(col)\n",
    "#print(data['MJD'])\n",
    "filters = ['u','g', 'r', 'i', 'z', 'Y']\n",
    "fil_name =[0,1,2,3,5,6]\n",
    "end = [4,6,8,9,10,9]\n",
    "\n",
    "for y in range (0, len(filters)):\n",
    "#    for x in range (0, end[y]):\n",
    "\n",
    "    f2 = open(home+'/KDC/instance/phosim_159479_'+str(filters[y])+'_'+str(x)+'.instance', 'w')\n",
    "    outputline55 = \"\"\"rightascension 57.98644604060054 \n",
    "declination -31.44913136508897 \n",
    "mjd 59791.35263861111161532\n",
    "altitude 44.27882101450589403\n",
    "azimuth 107.79080005245262441\n",
    "filter \"\"\"+str(fil_name[y])+\"\"\" \n",
    "rotskypos 1.11155811669162241\n",
    "camconfig 1\n",
    "dist2moon 107.9188352\n",
    "moonalt -62.3057574\n",
    "moondec 13.5088352\n",
    "moonphase 6.5219941\n",
    "moonra 161.1541705\n",
    "nsnap 1\n",
    "obshistid 159479\n",
    "rottelpos -100.9803163\n",
    "seed 159479\n",
    "seeing 0.6723040\n",
    "sunalt -39.3280073\n",
    "vistime 30.0000000\n",
    "minsource 100\n",
    "includeobj star_cat_159479.txt.gz\n",
    "includeobj gal_cat_159479.txt.gz\n",
    "includeobj uDDF_hostlessSN_cat_159479.txt.gz\n",
    "includeobj MainSurvey_hostlessSN_cat_159479.txt.gz\n",
    "includeobj MainSurvey_hostlessSN_highz_cat_159479.txt.gz\n",
    "includeobj uDDFHostedSNPositions_cat_159479.txt.gz\n",
    "includeobj MainSurveyHostedSNPositions_cat_159479.txt.gz\"\"\"\n",
    "    \n",
    "    \n",
    "    f2.write(outputline55)\n",
    "    f2.close()\n",
    "    \n",
    "    \n",
    "\n",
    "    mag = data.loc[data['Band'] == str(filters[y])]['Mag']\n",
    "    time = data.loc[data['Band'] == str(filters[y])]['MJD']    \n",
    "    after = (time - zero_time)\n",
    "\n",
    "    for x in range (0,len(after)):\n",
    "        diff = abs(seds - after.iloc[x])\n",
    "        this = np.where(diff == min(diff))\n",
    "    \n",
    "        f = open(home+'/KDC/instance/KN_'+filters[y]+'_'+str(x)+'.instance', 'w')\n",
    "     #   outputLine = 'rightascension 197.45033 \\ndeclination -23.38147 \\nfilter '+str(fil_name[y])+' \\nseed 1000 \\nvistime 15.0 \\nnsnap 1\\n'\n",
    "        outputLine2 ='object 1 57.989746 -31.45243137 '+str(mag.iloc[x])+' kasen/sed_'+str(*seds[this])+'.spec '+str(z)+' 0 0 0 0 0 point none none\\n'\n",
    "       # outputLine3 = 'object 2 197.44703 -23.37817 14.76 galaxySED/Burst.20E09.02Z.spec.gz '+str(z)+' 0 0 0 0 0 galaxy_'+(filters[y])+'.fits 0.01 0'\n",
    "        outputLine3 = 'object 33889 57.98644604060054 -31.44913136508897 17.5 galaxySED/Inst.25E09.02Z.spec.gz '+str(z)+' 0 0 0 0 0 sersic2d 4 3 88.921'\n",
    "        outputLine4 = '6574 4 CCM 3.09503567 4.929006 97 CCM 0.0347803061 3.1'\n",
    "        f.write(outputLine2)\n",
    "        f.write(outputLine3) \n",
    "        f.write(outputLine4) \n",
    "        \n",
    "        #Do we want to open and append? On open statement?    \n",
    "        outputline56 = \"includeobj KN_\"+str(filters[y])+\"_\"+str(end[x])\n",
    "        f2 = open(home+'/KDC/instance/phosim_159479_'+str(filters[y])+'_'+str(x)+'.instance', 'w')\n",
    "        f2.write(outputline56)\n",
    "\n",
    "        f.close\n",
    "        f2.close()\n",
    "   \n",
    "   \n",
    "       \n",
    "       \n",
    "    \n",
    "#i_band_mag = data.loc[data['Band'] == 'i']['Mag']\n",
    "#i_band_time = data.loc[data['Band'] == 'i']['MJD']\n",
    "#z_band_mag = data.loc[data['Band'] == 'z']['Mag']\n",
    "#z_band_time = data.loc[data['Band'] == 'z']['MJD']\n",
    "#Y_band_mag = data.loc[data['Band'] == 'Y']['Mag']\n",
    "#Y_band_time = data.loc[data['Band'] == 'Y']['MJD']\n",
    "#r_band_mag = data.loc[data['Band'] == 'r']['Mag']\n",
    "#r_band_time = data.loc[data['Band'] == 'r']['MJD']\n",
    "#g_band_mag = data.loc[data['Band'] == 'g']['Mag']\n",
    "#g_band_time = data.loc[data['Band'] == 'g']['MJD']\n",
    "#u_band_mag = data.loc[data['Band'] == 'u']['Mag']\n",
    "#u_band_time = data.loc[data['Band'] == 'u']['MJD']\n",
    "\n",
    "\n",
    "\n",
    "#Calculate how much time has elapsed since GW event\n",
    "\n",
    "#u_band_after = (u_band_time - zero_time)\n",
    "#g_band_after = (g_band_time - zero_time)\n",
    "#r_band_after = (r_band_time - zero_time) \n",
    "#i_band_after = (i_band_time - zero_time) \n",
    "#z_band_after = (z_band_time - zero_time) \n",
    "#Y_band_after = (Y_band_time - zero_time)\n",
    "\n",
    "#seds = loadtxt(home+\"/KDC/notebooks/input/sed.list\", dtype='float')\n",
    "\n",
    "#for x in range (0,len(u_band_after)):\n",
    "#    diff = abs(seds - u_band_after.iloc[x])\n",
    "#    this = np.where(diff == min(diff))\n",
    "\n"
   ]
  },
  {
   "cell_type": "code",
   "execution_count": 11,
   "id": "dcf25992",
   "metadata": {},
   "outputs": [],
   "source": [
    "#lines = loadtxt(\"/Users/mwiesner/KDC/kasen/SEDs/SEDlist\", dtype='str')\n",
    "\n",
    "#ff = open('nums', 'w')\n",
    "#for x in range (0,len(lines)):\n",
    "#    aa = lines[x]\n",
    "#    f.write(aa[4:9])\n",
    "\n",
    "#ff.close\n"
   ]
  },
  {
   "cell_type": "markdown",
   "id": "efb91bc4",
   "metadata": {},
   "source": [
    "## Write the data to instance catalogs"
   ]
  },
  {
   "cell_type": "code",
   "execution_count": 10,
   "id": "06cb2e73",
   "metadata": {},
   "outputs": [
    {
     "name": "stdout",
     "output_type": "stream",
     "text": [
      "1.65\n"
     ]
    },
    {
     "ename": "NameError",
     "evalue": "name 'filters_band_after' is not defined",
     "output_type": "error",
     "traceback": [
      "\u001b[0;31m---------------------------------------------------------------------------\u001b[0m",
      "\u001b[0;31mNameError\u001b[0m                                 Traceback (most recent call last)",
      "\u001b[0;32m<ipython-input-10-e3dca0d736ea>\u001b[0m in \u001b[0;36m<module>\u001b[0;34m\u001b[0m\n\u001b[1;32m      9\u001b[0m         \u001b[0mthis\u001b[0m \u001b[0;34m=\u001b[0m \u001b[0mnp\u001b[0m\u001b[0;34m.\u001b[0m\u001b[0mwhere\u001b[0m\u001b[0;34m(\u001b[0m\u001b[0mdiff\u001b[0m \u001b[0;34m==\u001b[0m \u001b[0mmin\u001b[0m\u001b[0;34m(\u001b[0m\u001b[0mdiff\u001b[0m\u001b[0;34m)\u001b[0m\u001b[0;34m)\u001b[0m\u001b[0;34m\u001b[0m\u001b[0;34m\u001b[0m\u001b[0m\n\u001b[1;32m     10\u001b[0m         \u001b[0mprint\u001b[0m\u001b[0;34m(\u001b[0m\u001b[0;34m*\u001b[0m\u001b[0mseds\u001b[0m\u001b[0;34m[\u001b[0m\u001b[0mthis\u001b[0m\u001b[0;34m]\u001b[0m\u001b[0;34m)\u001b[0m\u001b[0;34m\u001b[0m\u001b[0;34m\u001b[0m\u001b[0m\n\u001b[0;32m---> 11\u001b[0;31m         \u001b[0mprint\u001b[0m\u001b[0;34m(\u001b[0m\u001b[0mfilters_band_after\u001b[0m\u001b[0;34m.\u001b[0m\u001b[0miloc\u001b[0m\u001b[0;34m[\u001b[0m\u001b[0mx\u001b[0m\u001b[0;34m]\u001b[0m\u001b[0;34m)\u001b[0m\u001b[0;34m\u001b[0m\u001b[0;34m\u001b[0m\u001b[0m\n\u001b[0m\u001b[1;32m     12\u001b[0m \u001b[0;34m\u001b[0m\u001b[0m\n\u001b[1;32m     13\u001b[0m         \u001b[0mf\u001b[0m \u001b[0;34m=\u001b[0m \u001b[0mopen\u001b[0m\u001b[0;34m(\u001b[0m\u001b[0mhome\u001b[0m\u001b[0;34m+\u001b[0m\u001b[0;34m'/KDC/instance/KN_'\u001b[0m\u001b[0;34m+\u001b[0m\u001b[0mstr\u001b[0m\u001b[0;34m(\u001b[0m\u001b[0mfilters\u001b[0m\u001b[0;34m[\u001b[0m\u001b[0my\u001b[0m\u001b[0;34m]\u001b[0m\u001b[0;34m)\u001b[0m\u001b[0;34m+\u001b[0m\u001b[0;34m'_'\u001b[0m\u001b[0;34m+\u001b[0m\u001b[0mstr\u001b[0m\u001b[0;34m(\u001b[0m\u001b[0mx\u001b[0m\u001b[0;34m)\u001b[0m\u001b[0;34m+\u001b[0m\u001b[0;34m'.instance'\u001b[0m\u001b[0;34m,\u001b[0m \u001b[0;34m'w'\u001b[0m\u001b[0;34m)\u001b[0m\u001b[0;34m\u001b[0m\u001b[0;34m\u001b[0m\u001b[0m\n",
      "\u001b[0;31mNameError\u001b[0m: name 'filters_band_after' is not defined"
     ]
    }
   ],
   "source": [
    "filters = ['u','g', 'r', 'i', 'z', 'Y']\n",
    "fil_name =[0,1,2,3,5,6]\n",
    "end = [4,6,8,9,10,9]\n",
    "\n",
    "for y in range (0, len(filters)):\n",
    "    for x in range (0, end[y]):\n",
    "    \n",
    "        diff = abs(seds - u_band_after.iloc[x])\n",
    "        this = np.where(diff == min(diff))\n",
    "        print(*seds[this])\n",
    "        print(u_band_after.iloc[x])\n",
    "   \n",
    "        f = open(home+'/KDC/instance/KN_'+str(filters[y])+'_'+str(x)+'.instance', 'w')\n",
    "        outputLine = 'rightascension 197.45033 \\ndeclination -23.38147 \\nfilter 0 \\nseed 1000 \\nvistime 15.0 \\nnsnap 1\\n'\n",
    "        outputLine2 ='object 1 197.45033 -23.38147 '+str(u_band_mag.iloc[x])+' sed_'+str(*seds[this])+'.spec '+str(z)+' 0 0 0 0 0 point none none'\n",
    "        f.write(outputLine)\n",
    "        f.write(outputLine2) \n",
    "\n",
    "        f.close\n",
    "\n",
    "\n",
    " "
   ]
  },
  {
   "cell_type": "code",
   "execution_count": 4,
   "id": "b4dcd2f9",
   "metadata": {},
   "outputs": [
    {
     "name": "stdout",
     "output_type": "stream",
     "text": [
      "1.65\n",
      "1.6155650000000605\n",
      "2.65\n",
      "2.616993999996339\n",
      "3.65\n",
      "3.6186699999962\n",
      "7.65\n",
      "7.644102999998722\n"
     ]
    }
   ],
   "source": [
    "for x in range (0,len(u_band_mag)):\n",
    "    \n",
    "    diff = abs(seds - u_band_after.iloc[x])\n",
    "    this = np.where(diff == min(diff))\n",
    "    print(*seds[this])\n",
    "    print(u_band_after.iloc[x])\n",
    "   \n",
    "    f = open(home+'/KDC/instance/KN_u_'+str(x)+'.instance', 'w')\n",
    "    outputLine = 'rightascension 197.45033 \\ndeclination -23.38147 \\nfilter 0 \\nobshistid 99999999 \\nseed 1000 \\nvistime 15.0 \\nnsnap 1\\n'\n",
    "    outputLine2 ='object 1 197.45033 -23.38147 '+str(u_band_mag.iloc[x])+' sed_'+str(*seds[this])+'.spec '+str(z)+' 0 0 0 0 0 point none none'\n",
    "    f.write(outputLine)\n",
    "    f.write(outputLine2) \n",
    "\n",
    "    f.close\n",
    "\n",
    "\n",
    " "
   ]
  },
  {
   "cell_type": "code",
   "execution_count": 16,
   "id": "d11a6b06",
   "metadata": {},
   "outputs": [
    {
     "name": "stdout",
     "output_type": "stream",
     "text": [
      "1.65\n",
      "1.6148780000003171\n",
      "2.65\n",
      "2.615957999994862\n",
      "3.65\n",
      "3.6162589999948977\n",
      "4.65\n",
      "4.625485999997181\n",
      "5.65\n",
      "5.62479099999473\n",
      "7.65\n",
      "7.629644000000553\n"
     ]
    }
   ],
   "source": [
    "for x in range (0,len(g_band_mag)):\n",
    "   \n",
    "    diff = abs(seds - g_band_after.iloc[x])\n",
    "    this = np.where(diff == min(diff))\n",
    "    print(*seds[this])\n",
    "    print(g_band_after.iloc[x])\n",
    "\n",
    "    f = open(home+'/KDC/instance/KN_g_'+str(x)+'.instance', 'w')\n",
    "    outputLine = 'rightascension 197.45033 \\ndeclination -23.38147 \\nfilter 1 \\nobshistid 99999999 \\nseed 1000 \\nvistime 15.0 \\nnsnap 1\\n'\n",
    "    outputLine2 ='object 1 197.45033 -23.38147 '+str(g_band_mag.iloc[x])+' sed_'+str(*seds[this])+'.spec '+str(z)+' 0 0 0 0 0 point none none'\n",
    "    f.write(outputLine)\n",
    "    f.write(outputLine2) \n",
    "\n",
    "    f.close\n",
    "\n",
    "\n",
    " "
   ]
  },
  {
   "cell_type": "code",
   "execution_count": 17,
   "id": "8104478a",
   "metadata": {},
   "outputs": [
    {
     "name": "stdout",
     "output_type": "stream",
     "text": [
      "1.65\n",
      "1.6142049999980372\n",
      "2.65\n",
      "2.6152689999944414\n",
      "3.65\n",
      "3.6155699999944773\n",
      "4.65\n",
      "4.6206810000003316\n",
      "5.65\n",
      "5.619965999998385\n",
      "6.65\n",
      "6.621158999994805\n",
      "7.65\n",
      "7.622414999998\n",
      "8.65\n",
      "8.629468999999517\n"
     ]
    }
   ],
   "source": [
    "for x in range (0,len(r_band_mag)):\n",
    "   \n",
    "    diff = abs(seds - r_band_after.iloc[x])\n",
    "    this = np.where(diff == min(diff))\n",
    "    print(*seds[this])\n",
    "    print(r_band_after.iloc[x])\n",
    "\n",
    "    f = open(home+'/KDC/instance/KN_r_'+str(x)+'.instance', 'w')\n",
    "    outputLine = 'rightascension 197.45033 \\ndeclination -23.38147 \\nfilter 2 \\nobshistid 99999999 \\nseed 1000 \\nvistime 15.0 \\nnsnap 1\\n'\n",
    "    outputLine2 ='object 1 197.45033 -23.38147 '+str(r_band_mag.iloc[x])+' sed_'+str(*seds[this])+'.spec '+str(z)+' 0 0 0 0 0 point none none'\n",
    "    f.write(outputLine)\n",
    "    f.write(outputLine2) \n",
    "\n",
    "    f.close\n",
    "\n",
    "\n",
    " "
   ]
  },
  {
   "cell_type": "code",
   "execution_count": 18,
   "id": "f3bdc98b",
   "metadata": {},
   "outputs": [
    {
     "name": "stdout",
     "output_type": "stream",
     "text": [
      "0.65\n",
      "0.6412490000002435\n",
      "1.65\n",
      "1.6135139999969397\n",
      "2.65\n",
      "2.6145790000009583\n",
      "3.65\n",
      "3.6148810000013327\n",
      "4.65\n",
      "4.618265999997675\n",
      "5.65\n",
      "5.617552999996406\n",
      "7.65\n",
      "7.619999999995343\n",
      "9.65\n",
      "9.630614999994577\n",
      "11.65\n",
      "11.630639999995765\n"
     ]
    }
   ],
   "source": [
    "for x in range (0,len(i_band_mag)):\n",
    "   \n",
    "    diff = abs(seds - i_band_after.iloc[x])\n",
    "    this = np.where(diff == min(diff))\n",
    "    print(*seds[this])\n",
    "    print(i_band_after.iloc[x])\n",
    "\n",
    "    f = open(home+'/KDC/instance/KN_i_'+str(x)+'.instance', 'w')\n",
    "    outputLine = 'rightascension 197.45033 \\ndeclination -23.38147 \\nfilter 3 \\nobshistid 99999999 \\nseed 1000 \\nvistime 15.0 \\nnsnap 1\\n'\n",
    "    outputLine2 ='object 1 197.45033 -23.38147 '+str(i_band_mag.iloc[x])+' sed_'+str(*seds[this])+'.spec '+str(z)+' 0 0 0 0 0 point none none'\n",
    "    f.write(outputLine)\n",
    "    f.write(outputLine2) \n",
    "\n",
    "    f.close\n",
    "\n",
    "\n",
    " "
   ]
  },
  {
   "cell_type": "code",
   "execution_count": 19,
   "id": "9d749063",
   "metadata": {},
   "outputs": [
    {
     "name": "stdout",
     "output_type": "stream",
     "text": [
      "0.65\n",
      "0.6419309999982943\n",
      "1.65\n",
      "1.6128170000010869\n",
      "3.65\n",
      "3.614218999995501\n",
      "5.65\n",
      "5.61514399999578\n",
      "7.65\n",
      "7.617581999998947\n",
      "8.65\n",
      "8.619804999994813\n",
      "9.65\n",
      "9.620974999997998\n",
      "10.65\n",
      "10.621347000000242\n",
      "11.65\n",
      "11.620984000001044\n",
      "12.65\n",
      "12.627826999996614\n",
      "13.65\n",
      "13.629274999999325\n"
     ]
    }
   ],
   "source": [
    "for x in range (0,len(z_band_mag)):\n",
    "   \n",
    "    diff = abs(seds - z_band_after.iloc[x])\n",
    "    this = np.where(diff == min(diff))\n",
    "    print(*seds[this])\n",
    "    print(z_band_after.iloc[x])\n",
    "\n",
    "    f = open(home+'/KDC/instance/KN_z_'+str(x)+'.instance', 'w')\n",
    "    outputLine = 'rightascension 197.45033 \\ndeclination -23.38147 \\nfilter 4 \\nobshistid 99999999 \\nseed 1000 \\nvistime 15.0 \\nnsnap 1\\n'\n",
    "    outputLine2 ='object 1 197.45033 -23.38147 '+str(z_band_mag.iloc[x])+' sed_'+str(*seds[this])+'.spec '+str(z)+' 0 0 0 0 0 point none none'\n",
    "    f.write(outputLine)\n",
    "    f.write(outputLine2) \n",
    "\n",
    "    f.close\n",
    "\n",
    "\n",
    " "
   ]
  },
  {
   "cell_type": "code",
   "execution_count": 20,
   "id": "a509b388",
   "metadata": {},
   "outputs": [
    {
     "name": "stdout",
     "output_type": "stream",
     "text": [
      "1.65\n",
      "1.612143999998807\n",
      "2.65\n",
      "2.6128399999943213\n",
      "3.65\n",
      "3.6131849999947008\n",
      "4.65\n",
      "4.613431999998284\n",
      "5.65\n",
      "5.612728000000061\n",
      "7.65\n",
      "7.607912999999826\n",
      "8.65\n",
      "8.605318999994779\n",
      "9.65\n",
      "9.606161999996402\n",
      "10.65\n",
      "10.60684599999513\n",
      "11.65\n",
      "11.606526999996277\n"
     ]
    }
   ],
   "source": [
    "for x in range (0,len(Y_band_mag)):\n",
    "   \n",
    "    diff = abs(seds - Y_band_after.iloc[x])\n",
    "    this = np.where(diff == min(diff))\n",
    "    print(*seds[this])\n",
    "    print(Y_band_after.iloc[x])\n",
    "\n",
    "    f = open(home+'/KDC/instance/KN_Y_'+str(x)+'.instance', 'w')\n",
    "    outputLine = 'rightascension 197.45033 \\ndeclination -23.38147 \\nfilter 5 \\nobshistid 99999999 \\nseed 1000 \\nvistime 15.0 \\nnsnap 1\\n'\n",
    "    outputLine2 ='object 1 197.45033 -23.38147 '+str(Y_band_mag.iloc[x])+' sed_'+str(*seds[this])+'.spec '+str(z)+' 0 0 0 0 0 point none none'\n",
    "    f.write(outputLine)\n",
    "    f.write(outputLine2) \n",
    "\n",
    "    f.close\n",
    "\n",
    "\n",
    " "
   ]
  },
  {
   "cell_type": "code",
   "execution_count": null,
   "id": "117a743a",
   "metadata": {},
   "outputs": [],
   "source": []
  },
  {
   "cell_type": "code",
   "execution_count": null,
   "id": "19336dde",
   "metadata": {},
   "outputs": [],
   "source": []
  },
  {
   "cell_type": "code",
   "execution_count": null,
   "id": "fa15183b",
   "metadata": {},
   "outputs": [],
   "source": []
  }
 ],
 "metadata": {
  "kernelspec": {
   "display_name": "Python 3",
   "language": "python",
   "name": "python3"
  },
  "language_info": {
   "codemirror_mode": {
    "name": "ipython",
    "version": 3
   },
   "file_extension": ".py",
   "mimetype": "text/x-python",
   "name": "python",
   "nbconvert_exporter": "python",
   "pygments_lexer": "ipython3",
   "version": "3.9.5"
  }
 },
 "nbformat": 4,
 "nbformat_minor": 5
}
