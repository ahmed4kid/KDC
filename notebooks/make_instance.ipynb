{
 "cells": [
  {
   "cell_type": "markdown",
   "id": "b6747441",
   "metadata": {},
   "source": [
    "## This notebook make instance catalogs to simulate GW170817"
   ]
  },
  {
   "cell_type": "code",
   "execution_count": 11,
   "id": "35333f7a",
   "metadata": {},
   "outputs": [],
   "source": [
    "import matplotlib.pyplot as plt\n",
    "import pandas as pd\n",
    "import numpy as np\n",
    "import sys\n",
    "from numpy import loadtxt\n",
    "from pathlib import Path\n",
    "home = str(Path.home())"
   ]
  },
  {
   "cell_type": "markdown",
   "id": "ea8af119",
   "metadata": {},
   "source": [
    "## User inputs"
   ]
  },
  {
   "cell_type": "code",
   "execution_count": 12,
   "id": "e28356be",
   "metadata": {},
   "outputs": [],
   "source": [
    "#This is the kilonova redshift\n",
    "z = 0.0099\n"
   ]
  },
  {
   "cell_type": "markdown",
   "id": "651ac6a9",
   "metadata": {},
   "source": [
    "## Read the data, sort it by filter"
   ]
  },
  {
   "cell_type": "code",
   "execution_count": 13,
   "id": "e21b626a",
   "metadata": {},
   "outputs": [
    {
     "name": "stdout",
     "output_type": "stream",
     "text": [
      "MJD\n",
      "Band\n",
      "Mag\n",
      "e_mag\n"
     ]
    }
   ],
   "source": [
    "data = pd.read_csv('input/gw170817.data', delim_whitespace=True)\n",
    "\n",
    "for col in data.columns:\n",
    "    print(col)\n",
    "#print(data['MJD'])\n",
    "\n",
    "\n",
    "\n",
    "i_band_mag = data.loc[data['Band'] == 'i']['Mag']\n",
    "i_band_time = data.loc[data['Band'] == 'i']['MJD']\n",
    "z_band_mag = data.loc[data['Band'] == 'z']['Mag']\n",
    "z_band_time = data.loc[data['Band'] == 'z']['MJD']\n",
    "Y_band_mag = data.loc[data['Band'] == 'Y']['Mag']\n",
    "Y_band_time = data.loc[data['Band'] == 'Y']['MJD']\n",
    "r_band_mag = data.loc[data['Band'] == 'r']['Mag']\n",
    "r_band_time = data.loc[data['Band'] == 'r']['MJD']\n",
    "g_band_mag = data.loc[data['Band'] == 'g']['Mag']\n",
    "g_band_time = data.loc[data['Band'] == 'g']['MJD']\n",
    "u_band_mag = data.loc[data['Band'] == 'u']['Mag']\n",
    "u_band_time = data.loc[data['Band'] == 'u']['MJD']\n",
    "\n",
    "zero_time = 57982.36181\n",
    "\n",
    "#Calculate how much time has elapsed since GW event\n",
    "\n",
    "u_band_after = (u_band_time - zero_time)\n",
    "g_band_after = (g_band_time - zero_time)\n",
    "r_band_after = (r_band_time - zero_time) \n",
    "i_band_after = (i_band_time - zero_time) \n",
    "z_band_after = (z_band_time - zero_time) \n",
    "Y_band_after = (Y_band_time - zero_time)\n",
    "\n",
    "seds = loadtxt(home+\"/KDC/notebooks/input/sed.list\", dtype='float')\n",
    "\n",
    "#for x in range (0,len(u_band_after)):\n",
    "#    diff = abs(seds - u_band_after.iloc[x])\n",
    "#    this = np.where(diff == min(diff))\n",
    "\n"
   ]
  },
  {
   "cell_type": "code",
   "execution_count": 14,
   "id": "dcf25992",
   "metadata": {},
   "outputs": [],
   "source": [
    "#lines = loadtxt(\"/Users/mwiesner/KDC/kasen/SEDs/SEDlist\", dtype='str')\n",
    "\n",
    "#ff = open('nums', 'w')\n",
    "#for x in range (0,len(lines)):\n",
    "#    aa = lines[x]\n",
    "#    f.write(aa[4:9])\n",
    "\n",
    "#ff.close\n"
   ]
  },
  {
   "cell_type": "markdown",
   "id": "efb91bc4",
   "metadata": {},
   "source": [
    "## Write the data to instance catalogs"
   ]
  },
  {
   "cell_type": "code",
   "execution_count": 15,
   "id": "b4dcd2f9",
   "metadata": {},
   "outputs": [
    {
     "name": "stdout",
     "output_type": "stream",
     "text": [
      "1.65\n",
      "1.6155650000000605\n",
      "2.65\n",
      "2.616993999996339\n",
      "3.65\n",
      "3.6186699999962\n",
      "7.65\n",
      "7.644102999998722\n"
     ]
    }
   ],
   "source": [
    "for x in range (0,len(u_band_mag)):\n",
    "    \n",
    "    diff = abs(seds - u_band_after.iloc[x])\n",
    "    this = np.where(diff == min(diff))\n",
    "    print(*seds[this])\n",
    "    print(u_band_after.iloc[x])\n",
    "   \n",
    "    f = open(home+'/KDC/instance/KN_u_'+str(x)+'.instance', 'w')\n",
    "    outputLine = 'rightascension 197.45033 \\ndeclination -23.38147 \\nfilter 0 \\nobshistid 99999999 \\nseed 1000 \\nvistime 15.0 \\nnsnap 1\\n'\n",
    "    outputLine2 ='object 1 197.45033 -23.38147 '+str(u_band_mag.iloc[x])+' sed_'+str(*seds[this])+'.spec '+str(z)+' 0 0 0 0 0 point none none'\n",
    "    f.write(outputLine)\n",
    "    f.write(outputLine2) \n",
    "\n",
    "    f.close\n",
    "\n",
    "\n",
    " "
   ]
  },
  {
   "cell_type": "code",
   "execution_count": 16,
   "id": "d11a6b06",
   "metadata": {},
   "outputs": [
    {
     "name": "stdout",
     "output_type": "stream",
     "text": [
      "1.65\n",
      "1.6148780000003171\n",
      "2.65\n",
      "2.615957999994862\n",
      "3.65\n",
      "3.6162589999948977\n",
      "4.65\n",
      "4.625485999997181\n",
      "5.65\n",
      "5.62479099999473\n",
      "7.65\n",
      "7.629644000000553\n"
     ]
    }
   ],
   "source": [
    "for x in range (0,len(g_band_mag)):\n",
    "   \n",
    "    diff = abs(seds - g_band_after.iloc[x])\n",
    "    this = np.where(diff == min(diff))\n",
    "    print(*seds[this])\n",
    "    print(g_band_after.iloc[x])\n",
    "\n",
    "    f = open(home+'/KDC/instance/KN_g_'+str(x)+'.instance', 'w')\n",
    "    outputLine = 'rightascension 197.45033 \\ndeclination -23.38147 \\nfilter 1 \\nobshistid 99999999 \\nseed 1000 \\nvistime 15.0 \\nnsnap 1\\n'\n",
    "    outputLine2 ='object 1 197.45033 -23.38147 '+str(g_band_mag.iloc[x])+' sed_'+str(*seds[this])+'.spec '+str(z)+' 0 0 0 0 0 point none none'\n",
    "    f.write(outputLine)\n",
    "    f.write(outputLine2) \n",
    "\n",
    "    f.close\n",
    "\n",
    "\n",
    " "
   ]
  },
  {
   "cell_type": "code",
   "execution_count": 17,
   "id": "8104478a",
   "metadata": {},
   "outputs": [
    {
     "name": "stdout",
     "output_type": "stream",
     "text": [
      "1.65\n",
      "1.6142049999980372\n",
      "2.65\n",
      "2.6152689999944414\n",
      "3.65\n",
      "3.6155699999944773\n",
      "4.65\n",
      "4.6206810000003316\n",
      "5.65\n",
      "5.619965999998385\n",
      "6.65\n",
      "6.621158999994805\n",
      "7.65\n",
      "7.622414999998\n",
      "8.65\n",
      "8.629468999999517\n"
     ]
    }
   ],
   "source": [
    "for x in range (0,len(r_band_mag)):\n",
    "   \n",
    "    diff = abs(seds - r_band_after.iloc[x])\n",
    "    this = np.where(diff == min(diff))\n",
    "    print(*seds[this])\n",
    "    print(r_band_after.iloc[x])\n",
    "\n",
    "    f = open(home+'/KDC/instance/KN_r_'+str(x)+'.instance', 'w')\n",
    "    outputLine = 'rightascension 197.45033 \\ndeclination -23.38147 \\nfilter 2 \\nobshistid 99999999 \\nseed 1000 \\nvistime 15.0 \\nnsnap 1\\n'\n",
    "    outputLine2 ='object 1 197.45033 -23.38147 '+str(r_band_mag.iloc[x])+' sed_'+str(*seds[this])+'.spec '+str(z)+' 0 0 0 0 0 point none none'\n",
    "    f.write(outputLine)\n",
    "    f.write(outputLine2) \n",
    "\n",
    "    f.close\n",
    "\n",
    "\n",
    " "
   ]
  },
  {
   "cell_type": "code",
   "execution_count": 18,
   "id": "f3bdc98b",
   "metadata": {},
   "outputs": [
    {
     "name": "stdout",
     "output_type": "stream",
     "text": [
      "0.65\n",
      "0.6412490000002435\n",
      "1.65\n",
      "1.6135139999969397\n",
      "2.65\n",
      "2.6145790000009583\n",
      "3.65\n",
      "3.6148810000013327\n",
      "4.65\n",
      "4.618265999997675\n",
      "5.65\n",
      "5.617552999996406\n",
      "7.65\n",
      "7.619999999995343\n",
      "9.65\n",
      "9.630614999994577\n",
      "11.65\n",
      "11.630639999995765\n"
     ]
    }
   ],
   "source": [
    "for x in range (0,len(i_band_mag)):\n",
    "   \n",
    "    diff = abs(seds - i_band_after.iloc[x])\n",
    "    this = np.where(diff == min(diff))\n",
    "    print(*seds[this])\n",
    "    print(i_band_after.iloc[x])\n",
    "\n",
    "    f = open(home+'/KDC/instance/KN_i_'+str(x)+'.instance', 'w')\n",
    "    outputLine = 'rightascension 197.45033 \\ndeclination -23.38147 \\nfilter 3 \\nobshistid 99999999 \\nseed 1000 \\nvistime 15.0 \\nnsnap 1\\n'\n",
    "    outputLine2 ='object 1 197.45033 -23.38147 '+str(i_band_mag.iloc[x])+' sed_'+str(*seds[this])+'.spec '+str(z)+' 0 0 0 0 0 point none none'\n",
    "    f.write(outputLine)\n",
    "    f.write(outputLine2) \n",
    "\n",
    "    f.close\n",
    "\n",
    "\n",
    " "
   ]
  },
  {
   "cell_type": "code",
   "execution_count": 19,
   "id": "9d749063",
   "metadata": {},
   "outputs": [
    {
     "name": "stdout",
     "output_type": "stream",
     "text": [
      "0.65\n",
      "0.6419309999982943\n",
      "1.65\n",
      "1.6128170000010869\n",
      "3.65\n",
      "3.614218999995501\n",
      "5.65\n",
      "5.61514399999578\n",
      "7.65\n",
      "7.617581999998947\n",
      "8.65\n",
      "8.619804999994813\n",
      "9.65\n",
      "9.620974999997998\n",
      "10.65\n",
      "10.621347000000242\n",
      "11.65\n",
      "11.620984000001044\n",
      "12.65\n",
      "12.627826999996614\n",
      "13.65\n",
      "13.629274999999325\n"
     ]
    }
   ],
   "source": [
    "for x in range (0,len(z_band_mag)):\n",
    "   \n",
    "    diff = abs(seds - z_band_after.iloc[x])\n",
    "    this = np.where(diff == min(diff))\n",
    "    print(*seds[this])\n",
    "    print(z_band_after.iloc[x])\n",
    "\n",
    "    f = open(home+'/KDC/instance/KN_z_'+str(x)+'.instance', 'w')\n",
    "    outputLine = 'rightascension 197.45033 \\ndeclination -23.38147 \\nfilter 4 \\nobshistid 99999999 \\nseed 1000 \\nvistime 15.0 \\nnsnap 1\\n'\n",
    "    outputLine2 ='object 1 197.45033 -23.38147 '+str(z_band_mag.iloc[x])+' sed_'+str(*seds[this])+'.spec '+str(z)+' 0 0 0 0 0 point none none'\n",
    "    f.write(outputLine)\n",
    "    f.write(outputLine2) \n",
    "\n",
    "    f.close\n",
    "\n",
    "\n",
    " "
   ]
  },
  {
   "cell_type": "code",
   "execution_count": 20,
   "id": "a509b388",
   "metadata": {},
   "outputs": [
    {
     "name": "stdout",
     "output_type": "stream",
     "text": [
      "1.65\n",
      "1.612143999998807\n",
      "2.65\n",
      "2.6128399999943213\n",
      "3.65\n",
      "3.6131849999947008\n",
      "4.65\n",
      "4.613431999998284\n",
      "5.65\n",
      "5.612728000000061\n",
      "7.65\n",
      "7.607912999999826\n",
      "8.65\n",
      "8.605318999994779\n",
      "9.65\n",
      "9.606161999996402\n",
      "10.65\n",
      "10.60684599999513\n",
      "11.65\n",
      "11.606526999996277\n"
     ]
    }
   ],
   "source": [
    "for x in range (0,len(Y_band_mag)):\n",
    "   \n",
    "    diff = abs(seds - Y_band_after.iloc[x])\n",
    "    this = np.where(diff == min(diff))\n",
    "    print(*seds[this])\n",
    "    print(Y_band_after.iloc[x])\n",
    "\n",
    "    f = open(home+'/KDC/instance/KN_Y_'+str(x)+'.instance', 'w')\n",
    "    outputLine = 'rightascension 197.45033 \\ndeclination -23.38147 \\nfilter 5 \\nobshistid 99999999 \\nseed 1000 \\nvistime 15.0 \\nnsnap 1\\n'\n",
    "    outputLine2 ='object 1 197.45033 -23.38147 '+str(Y_band_mag.iloc[x])+' sed_'+str(*seds[this])+'.spec '+str(z)+' 0 0 0 0 0 point none none'\n",
    "    f.write(outputLine)\n",
    "    f.write(outputLine2) \n",
    "\n",
    "    f.close\n",
    "\n",
    "\n",
    " "
   ]
  },
  {
   "cell_type": "code",
   "execution_count": null,
   "id": "117a743a",
   "metadata": {},
   "outputs": [],
   "source": []
  },
  {
   "cell_type": "code",
   "execution_count": null,
   "id": "19336dde",
   "metadata": {},
   "outputs": [],
   "source": []
  },
  {
   "cell_type": "code",
   "execution_count": null,
   "id": "fa15183b",
   "metadata": {},
   "outputs": [],
   "source": []
  }
 ],
 "metadata": {
  "kernelspec": {
   "display_name": "Python 3",
   "language": "python",
   "name": "python3"
  },
  "language_info": {
   "codemirror_mode": {
    "name": "ipython",
    "version": 3
   },
   "file_extension": ".py",
   "mimetype": "text/x-python",
   "name": "python",
   "nbconvert_exporter": "python",
   "pygments_lexer": "ipython3",
   "version": "3.9.5"
  }
 },
 "nbformat": 4,
 "nbformat_minor": 5
}
