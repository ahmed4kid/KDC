{
 "cells": [
  {
   "cell_type": "markdown",
   "id": "b6747441",
   "metadata": {},
   "source": [
    "## This notebook make instance catalogs to simulate GW170817"
   ]
  },
  {
   "cell_type": "code",
   "execution_count": 67,
   "id": "35333f7a",
   "metadata": {},
   "outputs": [],
   "source": [
    "import matplotlib.pyplot as plt\n",
    "import pandas as pd\n",
    "import numpy as np\n",
    "import sys"
   ]
  },
  {
   "cell_type": "markdown",
   "id": "651ac6a9",
   "metadata": {},
   "source": [
    "## Read the data, sort it by filter"
   ]
  },
  {
   "cell_type": "code",
   "execution_count": 68,
   "id": "e21b626a",
   "metadata": {},
   "outputs": [
    {
     "name": "stdout",
     "output_type": "stream",
     "text": [
      "MJD\n",
      "Band\n",
      "Mag\n",
      "e_mag\n"
     ]
    }
   ],
   "source": [
    "data = pd.read_csv('input/gw170817.data', delim_whitespace=True)\n",
    "\n",
    "for col in data.columns:\n",
    "    print(col)\n",
    "#print(data['MJD'])\n",
    "\n",
    "i_band_mag = data.loc[data['Band'] == 'i']['Mag']\n",
    "i_band_time = data.loc[data['Band'] == 'i']['MJD']\n",
    "z_band_mag = data.loc[data['Band'] == 'z']['Mag']\n",
    "z_band_time = data.loc[data['Band'] == 'z']['MJD']\n",
    "Y_band_mag = data.loc[data['Band'] == 'Y']['Mag']\n",
    "Y_band_time = data.loc[data['Band'] == 'Y']['MJD']\n",
    "r_band_mag = data.loc[data['Band'] == 'r']['Mag']\n",
    "r_band_time = data.loc[data['Band'] == 'r']['MJD']\n",
    "g_band_mag = data.loc[data['Band'] == 'g']['Mag']\n",
    "g_band_time = data.loc[data['Band'] == 'g']['MJD']\n",
    "u_band_mag = data.loc[data['Band'] == 'u']['Mag']\n",
    "u_band_time = data.loc[data['Band'] == 'u']['MJD']\n",
    "\n",
    "zero_time = 57982.36181\n",
    "\n",
    "#Calculate how much time has elapsed since GW event\n",
    "\n",
    "u_band_after = round(u_band_time - zero_time)\n",
    "g_band_after = round(g_band_time - zero_time)\n",
    "r_band_after = round(r_band_time - zero_time) \n",
    "i_band_after = round(i_band_time - zero_time) \n",
    "z_band_after = round(z_band_time - zero_time) \n",
    "Y_band_after = round(Y_band_time - zero_time)\n"
   ]
  },
  {
   "cell_type": "markdown",
   "id": "efb91bc4",
   "metadata": {},
   "source": [
    "## Write the data to instance catalogs"
   ]
  },
  {
   "cell_type": "code",
   "execution_count": 69,
   "id": "b4dcd2f9",
   "metadata": {},
   "outputs": [],
   "source": [
    "for x in range (0,len(u_band_mag)):\n",
    "   \n",
    "    f = open('/Users/mwiesner/KDC/instance/KN_u_'+str(x)+'.instance', 'w')\n",
    "    outputLine = 'right ascension 197.45033 \\ndeclination -23.38147 \\nfilter 0 \\nobshistid 99999999 \\nseed 1000 \\nvistime 30.0 \\nnsnap 1\\n'\n",
    "    outputLine2 ='object 1 197.45033 -23.38147 '+str(u_band_mag.iloc[x])+' kasen_'+str(u_band_after.iloc[x])+'.spec 0 0 0 0 0 0 point none none'\n",
    "    f.write(outputLine)\n",
    "    f.write(outputLine2) \n",
    "\n",
    "    f.close\n",
    "\n",
    "\n",
    " "
   ]
  },
  {
   "cell_type": "code",
   "execution_count": null,
   "id": "d11a6b06",
   "metadata": {},
   "outputs": [],
   "source": []
  }
 ],
 "metadata": {
  "kernelspec": {
   "display_name": "Python 3",
   "language": "python",
   "name": "python3"
  },
  "language_info": {
   "codemirror_mode": {
    "name": "ipython",
    "version": 3
   },
   "file_extension": ".py",
   "mimetype": "text/x-python",
   "name": "python",
   "nbconvert_exporter": "python",
   "pygments_lexer": "ipython3",
   "version": "3.9.5"
  }
 },
 "nbformat": 4,
 "nbformat_minor": 5
}
