{
 "cells": [
  {
   "cell_type": "markdown",
   "id": "b6747441",
   "metadata": {},
   "source": [
    "## This notebook make instance catalogs to simulate GW170817"
   ]
  },
  {
   "cell_type": "code",
   "execution_count": 69,
   "id": "35333f7a",
   "metadata": {},
   "outputs": [],
   "source": [
    "import matplotlib.pyplot as plt\n",
    "import pandas as pd\n",
    "import numpy as np\n",
    "import sys\n",
    "from numpy import loadtxt"
   ]
  },
  {
   "cell_type": "markdown",
   "id": "651ac6a9",
   "metadata": {},
   "source": [
    "## Read the data, sort it by filter"
   ]
  },
  {
   "cell_type": "code",
   "execution_count": 70,
   "id": "e21b626a",
   "metadata": {},
   "outputs": [
    {
     "name": "stdout",
     "output_type": "stream",
     "text": [
      "MJD\n",
      "Band\n",
      "Mag\n",
      "e_mag\n",
      "7     1.615565\n",
      "12    2.616994\n",
      "18    3.618670\n",
      "34    7.644103\n",
      "Name: MJD, dtype: float64\n"
     ]
    }
   ],
   "source": [
    "data = pd.read_csv('input/gw170817.data', delim_whitespace=True)\n",
    "\n",
    "for col in data.columns:\n",
    "    print(col)\n",
    "#print(data['MJD'])\n",
    "\n",
    "i_band_mag = data.loc[data['Band'] == 'i']['Mag']\n",
    "i_band_time = data.loc[data['Band'] == 'i']['MJD']\n",
    "z_band_mag = data.loc[data['Band'] == 'z']['Mag']\n",
    "z_band_time = data.loc[data['Band'] == 'z']['MJD']\n",
    "Y_band_mag = data.loc[data['Band'] == 'Y']['Mag']\n",
    "Y_band_time = data.loc[data['Band'] == 'Y']['MJD']\n",
    "r_band_mag = data.loc[data['Band'] == 'r']['Mag']\n",
    "r_band_time = data.loc[data['Band'] == 'r']['MJD']\n",
    "g_band_mag = data.loc[data['Band'] == 'g']['Mag']\n",
    "g_band_time = data.loc[data['Band'] == 'g']['MJD']\n",
    "u_band_mag = data.loc[data['Band'] == 'u']['Mag']\n",
    "u_band_time = data.loc[data['Band'] == 'u']['MJD']\n",
    "\n",
    "zero_time = 57982.36181\n",
    "\n",
    "#Calculate how much time has elapsed since GW event\n",
    "\n",
    "u_band_after = (u_band_time - zero_time)\n",
    "g_band_after = (g_band_time - zero_time)\n",
    "r_band_after = (r_band_time - zero_time) \n",
    "i_band_after = (i_band_time - zero_time) \n",
    "z_band_after = (z_band_time - zero_time) \n",
    "Y_band_after = (Y_band_time - zero_time)\n",
    "\n",
    "print(u_band_after)\n"
   ]
  },
  {
   "cell_type": "code",
   "execution_count": 71,
   "id": "dcf25992",
   "metadata": {},
   "outputs": [
    {
     "ename": "UnsupportedOperation",
     "evalue": "not writable",
     "output_type": "error",
     "traceback": [
      "\u001b[0;31m---------------------------------------------------------------------------\u001b[0m",
      "\u001b[0;31mUnsupportedOperation\u001b[0m                      Traceback (most recent call last)",
      "\u001b[0;32m<ipython-input-71-84b9f36b102e>\u001b[0m in \u001b[0;36m<module>\u001b[0;34m\u001b[0m\n\u001b[1;32m      4\u001b[0m \u001b[0;32mfor\u001b[0m \u001b[0mx\u001b[0m \u001b[0;32min\u001b[0m \u001b[0mrange\u001b[0m \u001b[0;34m(\u001b[0m\u001b[0;36m0\u001b[0m\u001b[0;34m,\u001b[0m\u001b[0mlen\u001b[0m\u001b[0;34m(\u001b[0m\u001b[0mlines\u001b[0m\u001b[0;34m)\u001b[0m\u001b[0;34m)\u001b[0m\u001b[0;34m:\u001b[0m\u001b[0;34m\u001b[0m\u001b[0;34m\u001b[0m\u001b[0m\n\u001b[1;32m      5\u001b[0m     \u001b[0maa\u001b[0m \u001b[0;34m=\u001b[0m \u001b[0mlines\u001b[0m\u001b[0;34m[\u001b[0m\u001b[0mx\u001b[0m\u001b[0;34m]\u001b[0m\u001b[0;34m\u001b[0m\u001b[0;34m\u001b[0m\u001b[0m\n\u001b[0;32m----> 6\u001b[0;31m     \u001b[0mf\u001b[0m\u001b[0;34m.\u001b[0m\u001b[0mwrite\u001b[0m\u001b[0;34m(\u001b[0m\u001b[0maa\u001b[0m\u001b[0;34m[\u001b[0m\u001b[0;36m4\u001b[0m\u001b[0;34m:\u001b[0m\u001b[0;36m9\u001b[0m\u001b[0;34m]\u001b[0m\u001b[0;34m)\u001b[0m\u001b[0;34m\u001b[0m\u001b[0;34m\u001b[0m\u001b[0m\n\u001b[0m\u001b[1;32m      7\u001b[0m \u001b[0;34m\u001b[0m\u001b[0m\n\u001b[1;32m      8\u001b[0m \u001b[0mff\u001b[0m\u001b[0;34m.\u001b[0m\u001b[0mclose\u001b[0m\u001b[0;34m\u001b[0m\u001b[0;34m\u001b[0m\u001b[0m\n",
      "\u001b[0;31mUnsupportedOperation\u001b[0m: not writable"
     ]
    }
   ],
   "source": [
    "lines = loadtxt(\"/Users/mwiesner/KDC/kasen/SEDs/SEDlist\", dtype='str')\n",
    "\n",
    "ff = open('nums', 'w')\n",
    "for x in range (0,len(lines)):\n",
    "    aa = lines[x]\n",
    "    f.write(aa[4:9])\n",
    "\n",
    "ff.close\n"
   ]
  },
  {
   "cell_type": "markdown",
   "id": "efb91bc4",
   "metadata": {},
   "source": [
    "## Write the data to instance catalogs"
   ]
  },
  {
   "cell_type": "code",
   "execution_count": 72,
   "id": "b4dcd2f9",
   "metadata": {},
   "outputs": [],
   "source": [
    "for x in range (0,len(u_band_mag)):\n",
    "   \n",
    "    f = open('/Users/mwiesner/KDC/instance/KN_u_'+str(x)+'.instance', 'w')\n",
    "    outputLine = 'right ascension 197.45033 \\ndeclination -23.38147 \\nfilter 0 \\nobshistid 99999999 \\nseed 1000 \\nvistime 30.0 \\nnsnap 1\\n'\n",
    "    outputLine2 ='object 1 197.45033 -23.38147 '+str(u_band_mag.iloc[x])+' kasen_'+str(u_band_after.iloc[x])+'.spec 0 0 0 0 0 0 point none none'\n",
    "    f.write(outputLine)\n",
    "    f.write(outputLine2) \n",
    "\n",
    "    f.close\n",
    "\n",
    "\n",
    " "
   ]
  },
  {
   "cell_type": "code",
   "execution_count": 73,
   "id": "d11a6b06",
   "metadata": {},
   "outputs": [],
   "source": [
    "for x in range (0,len(g_band_mag)):\n",
    "   \n",
    "    f = open('/Users/mwiesner/KDC/instance/KN_g_'+str(x)+'.instance', 'w')\n",
    "    outputLine = 'right ascension 197.45033 \\ndeclination -23.38147 \\nfilter 1 \\nobshistid 99999999 \\nseed 1000 \\nvistime 30.0 \\nnsnap 1\\n'\n",
    "    outputLine2 ='object 1 197.45033 -23.38147 '+str(g_band_mag.iloc[x])+' kasen_'+str(g_band_after.iloc[x])+'.spec 0 0 0 0 0 0 point none none'\n",
    "    f.write(outputLine)\n",
    "    f.write(outputLine2) \n",
    "\n",
    "    f.close\n",
    "\n",
    "\n",
    " "
   ]
  },
  {
   "cell_type": "code",
   "execution_count": 74,
   "id": "8104478a",
   "metadata": {},
   "outputs": [],
   "source": [
    "for x in range (0,len(r_band_mag)):\n",
    "   \n",
    "    f = open('/Users/mwiesner/KDC/instance/KN_r_'+str(x)+'.instance', 'w')\n",
    "    outputLine = 'right ascension 197.45033 \\ndeclination -23.38147 \\nfilter 2 \\nobshistid 99999999 \\nseed 1000 \\nvistime 30.0 \\nnsnap 1\\n'\n",
    "    outputLine2 ='object 1 197.45033 -23.38147 '+str(r_band_mag.iloc[x])+' kasen_'+str(r_band_after.iloc[x])+'.spec 0 0 0 0 0 0 point none none'\n",
    "    f.write(outputLine)\n",
    "    f.write(outputLine2) \n",
    "\n",
    "    f.close\n",
    "\n",
    "\n",
    " "
   ]
  },
  {
   "cell_type": "code",
   "execution_count": 75,
   "id": "f3bdc98b",
   "metadata": {},
   "outputs": [],
   "source": [
    "for x in range (0,len(i_band_mag)):\n",
    "   \n",
    "    f = open('/Users/mwiesner/KDC/instance/KN_i_'+str(x)+'.instance', 'w')\n",
    "    outputLine = 'right ascension 197.45033 \\ndeclination -23.38147 \\nfilter 3 \\nobshistid 99999999 \\nseed 1000 \\nvistime 30.0 \\nnsnap 1\\n'\n",
    "    outputLine2 ='object 1 197.45033 -23.38147 '+str(i_band_mag.iloc[x])+' kasen_'+str(i_band_after.iloc[x])+'.spec 0 0 0 0 0 0 point none none'\n",
    "    f.write(outputLine)\n",
    "    f.write(outputLine2) \n",
    "\n",
    "    f.close\n",
    "\n",
    "\n",
    " "
   ]
  },
  {
   "cell_type": "code",
   "execution_count": 76,
   "id": "9d749063",
   "metadata": {},
   "outputs": [],
   "source": [
    "for x in range (0,len(z_band_mag)):\n",
    "   \n",
    "    f = open('/Users/mwiesner/KDC/instance/KN_z_'+str(x)+'.instance', 'w')\n",
    "    outputLine = 'right ascension 197.45033 \\ndeclination -23.38147 \\nfilter 4 \\nobshistid 99999999 \\nseed 1000 \\nvistime 30.0 \\nnsnap 1\\n'\n",
    "    outputLine2 ='object 1 197.45033 -23.38147 '+str(z_band_mag.iloc[x])+' kasen_'+str(z_band_after.iloc[x])+'.spec 0 0 0 0 0 0 point none none'\n",
    "    f.write(outputLine)\n",
    "    f.write(outputLine2) \n",
    "\n",
    "    f.close\n",
    "\n",
    "\n",
    " "
   ]
  },
  {
   "cell_type": "code",
   "execution_count": 77,
   "id": "a509b388",
   "metadata": {},
   "outputs": [],
   "source": [
    "for x in range (0,len(Y_band_mag)):\n",
    "   \n",
    "    f = open('/Users/mwiesner/KDC/instance/KN_Y_'+str(x)+'.instance', 'w')\n",
    "    outputLine = 'right ascension 197.45033 \\ndeclination -23.38147 \\nfilter 5 \\nobshistid 99999999 \\nseed 1000 \\nvistime 30.0 \\nnsnap 1\\n'\n",
    "    outputLine2 ='object 1 197.45033 -23.38147 '+str(Y_band_mag.iloc[x])+' kasen_'+str(Y_band_after.iloc[x])+'.spec 0 0 0 0 0 0 point none none'\n",
    "    f.write(outputLine)\n",
    "    f.write(outputLine2) \n",
    "\n",
    "    f.close\n",
    "\n",
    "\n",
    " "
   ]
  },
  {
   "cell_type": "code",
   "execution_count": null,
   "id": "117a743a",
   "metadata": {},
   "outputs": [],
   "source": []
  }
 ],
 "metadata": {
  "kernelspec": {
   "display_name": "Python 3",
   "language": "python",
   "name": "python3"
  },
  "language_info": {
   "codemirror_mode": {
    "name": "ipython",
    "version": 3
   },
   "file_extension": ".py",
   "mimetype": "text/x-python",
   "name": "python",
   "nbconvert_exporter": "python",
   "pygments_lexer": "ipython3",
   "version": "3.8.8"
  }
 },
 "nbformat": 4,
 "nbformat_minor": 5
}
