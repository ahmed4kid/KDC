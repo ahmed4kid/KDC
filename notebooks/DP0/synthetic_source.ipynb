{
 "cells": [
  {
   "cell_type": "markdown",
   "id": "40ce4a79-6afd-4306-937d-5acad040ad1a",
   "metadata": {},
   "source": [
    "# Injecting and Measuring Artificial Stars in Single-Visit Images\n",
    "\n",
    "Jeff Carlin <br>\n",
    "Last verified to run Monday, April 26, 2022, with weekly 2022_12.\n",
    "\n",
    "Recommended container size: large (or possibly medium; small will definitely run out of memory and kill the kernel).\n"
   ]
  },
  {
   "cell_type": "code",
   "execution_count": null,
   "id": "42187a4e",
   "metadata": {
    "tags": []
   },
   "outputs": [],
   "source": [
    "# Import python packages\n",
    "import time\n",
    "import os\n",
    "import warnings\n",
    "import numpy as np\n",
    "import matplotlib as mpl\n",
    "import matplotlib.pyplot as plt\n",
    "from IPython.display import IFrame, display, Markdown\n",
    "from mpl_toolkits.axes_grid1 import make_axes_locatable\n",
    "from matplotlib.patches import Rectangle\n",
    "from astropy.visualization import ZScaleInterval\n",
    "from astropy.coordinates import SkyCoord\n",
    "import astropy.units as u\n",
    "from astropy.table import Table\n",
    "import pandas as pd\n",
    "\n",
    "%matplotlib inline"
   ]
  },
  {
   "cell_type": "code",
   "execution_count": null,
   "id": "1c9fbfe1-296c-4980-80c0-4b2b8efca6ed",
   "metadata": {
    "tags": []
   },
   "outputs": [],
   "source": [
    "# Import tasks from the LSST Science Pipelines for reprocessing images\n",
    "from lsst.pipe.tasks.characterizeImage import CharacterizeImageTask\n",
    "from lsst.pipe.tasks.calibrate import CalibrateTask\n",
    "from lsst.meas.algorithms.detection import SourceDetectionTask\n",
    "from lsst.meas.deblender import SourceDeblendTask\n",
    "from lsst.meas.base import SingleFrameMeasurementTask\n",
    "\n",
    "import lsst.sphgeom\n",
    "import lsst.afw.display as afwDisplay\n",
    "import lsst.geom as geom\n",
    "from lsst.geom import SpherePoint, Angle"
   ]
  },
  {
   "cell_type": "code",
   "execution_count": null,
   "id": "a0868985",
   "metadata": {
    "tags": []
   },
   "outputs": [],
   "source": [
    "# Import LSST Science Pipelines packages (see pipelines.lsst.io)\n",
    "import lsst.daf.base as dafBase\n",
    "from lsst.daf.butler import Butler\n",
    "import lsst.afw.image as afwImage\n",
    "import lsst.afw.display as afwDisplay\n",
    "import lsst.afw.table as afwTable\n",
    "import lsst.geom as geom\n",
    "import lsst.pipe.tasks.fakes as fakes\n",
    "import warnings\n",
    "\n",
    "# Use lsst.afw.display with the matplotlib backend\n",
    "afwDisplay.setDefaultBackend('matplotlib')"
   ]
  },
  {
   "cell_type": "code",
   "execution_count": null,
   "id": "d8094618-1aef-4e41-b8e6-992aecbe5961",
   "metadata": {
    "tags": []
   },
   "outputs": [],
   "source": [
    "# Set up some plotting defaults:\n",
    "\n",
    "params = {'axes.labelsize': 28,\n",
    "          'font.size': 24,\n",
    "          'legend.fontsize': 14,\n",
    "          'xtick.major.width': 3,\n",
    "          'xtick.minor.width': 2,\n",
    "          'xtick.major.size': 12,\n",
    "          'xtick.minor.size': 6,\n",
    "          'xtick.direction': 'in',\n",
    "          'xtick.top': True,\n",
    "          'lines.linewidth': 3,\n",
    "          'axes.linewidth': 3,\n",
    "          'axes.labelweight': 3,\n",
    "          'axes.titleweight': 3,\n",
    "          'ytick.major.width': 3,\n",
    "          'ytick.minor.width': 2,\n",
    "          'ytick.major.size': 12,\n",
    "          'ytick.minor.size': 6,\n",
    "          'ytick.direction': 'in',\n",
    "          'ytick.right': True,\n",
    "          'figure.figsize': [9, 9],\n",
    "          'figure.facecolor': 'White'\n",
    "          }\n",
    "\n",
    "plt.rcParams.update(params)"
   ]
  },
  {
   "cell_type": "markdown",
   "id": "bf8c5bae-55da-4046-867d-e6f84d72bfff",
   "metadata": {},
   "source": [
    "#### Instantiate the Butler."
   ]
  },
  {
   "cell_type": "code",
   "execution_count": null,
   "id": "d3251edd",
   "metadata": {
    "tags": []
   },
   "outputs": [],
   "source": [
    "# For DC2 gen3, these are the only options\n",
    "repo = 's3://butler-us-central1-dp01'\n",
    "collection = '2.2i/runs/DP0.1'\n",
    "\n",
    "butler = Butler(repo, collections=collection)\n",
    "registry = butler.registry"
   ]
  },
  {
   "cell_type": "markdown",
   "id": "4e038f66-74cc-4f50-a9ef-99d5d6963e82",
   "metadata": {},
   "source": [
    "#### Read in the list of kilonovae and the center of the fields."
   ]
  },
  {
   "cell_type": "code",
   "execution_count": null,
   "id": "697dad31-9de9-411a-94b2-9cb59a429ff2",
   "metadata": {
    "tags": []
   },
   "outputs": [],
   "source": [
    "# Central (RA, Dec) position (in degrees) at which to insert stars:\n",
    "racen = 59.65688129\n",
    "deccen = -36.75083078\n",
    "\n",
    "data =pd.read_csv('magnitudes_fake.txt')\n",
    "# Place all the fake stars within `scatter_arcmin` arcminutes of the center coordinate:\n",
    "#scatter_arcmin = 1.0\n",
    "\n",
    "# Assign positions using a (random) normal distribution about the center coordinates:\n",
    "fake_ras = data['ra']\n",
    "fake_decs = data['dec']\n",
    "fake_umags = data['u']\n",
    "fake_gmags = data['g']\n",
    "fake_rmags = data['r']\n",
    "fake_imags = data['i']\n",
    "\n",
    "\n",
    "# \"nfakes\" is the number of fake stars to inject:\n",
    "nfakes = len(fake_ras)\n"
   ]
  },
  {
   "cell_type": "markdown",
   "id": "cd2b2e7c-e186-43ad-8632-e8c8dd2d5967",
   "metadata": {
    "execution": {
     "iopub.execute_input": "2023-06-28T18:49:40.797390Z",
     "iopub.status.busy": "2023-06-28T18:49:40.796922Z",
     "iopub.status.idle": "2023-06-28T18:49:40.801102Z",
     "shell.execute_reply": "2023-06-28T18:49:40.800412Z",
     "shell.execute_reply.started": "2023-06-28T18:49:40.797356Z"
    }
   },
   "source": [
    "#### Here we make a plot of the positions of the fake kilonovae. We also overplot the center of the field as well as the locations of kilonovae that are in the current detector image (+ symbols)."
   ]
  },
  {
   "cell_type": "code",
   "execution_count": null,
   "id": "7c68f35c-4ef4-48bd-ba5a-0a52c3692563",
   "metadata": {
    "tags": []
   },
   "outputs": [],
   "source": [
    "plt.plot(fake_ras, fake_decs, '*r')\n",
    "plt.plot(racen, deccen,'.k-', markersize=20)\n",
    "plt.plot(fake_ras[6], fake_decs[6], '+g', markersize = 20)\n",
    "plt.plot(fake_ras[7], fake_decs[7], '+g', markersize = 20)\n",
    "plt.plot(fake_ras[15], fake_decs[15], '+g', markersize = 20)\n",
    "plt.plot(fake_ras[16], fake_decs[16], '+g', markersize = 20)\n",
    "#plt.plot(fake_ras[7], fake_decs[7], '+g', markersize = 20)\n",
    "#plt.plot(fake_ras[16], fake_decs[16], '+g', markersize = 20)\n",
    "plt.show()"
   ]
  },
  {
   "cell_type": "markdown",
   "id": "8523f75d-5b8c-4b84-89e0-22fabd2f9d7e",
   "metadata": {},
   "source": [
    "### Look up the images that overlap the desired coordinates\n",
    "\n",
    "We will use the spatial query method introduced in [notebook 04: Intro to the Butler](https://github.com/rubin-dp0/tutorial-notebooks/blob/main/04_Intro_to_Butler.ipynb)."
   ]
  },
  {
   "cell_type": "code",
   "execution_count": null,
   "id": "5ebeca84-1d38-409b-8525-3e8bb5e0c0aa",
   "metadata": {
    "tags": []
   },
   "outputs": [],
   "source": [
    "import lsst.sphgeom\n",
    "\n",
    "pixelization = lsst.sphgeom.HtmPixelization(12)"
   ]
  },
  {
   "cell_type": "code",
   "execution_count": null,
   "id": "202ca902-361f-4feb-853b-e665cb0d2951",
   "metadata": {
    "tags": []
   },
   "outputs": [],
   "source": [
    "htm_id = pixelization.index(\n",
    "    lsst.sphgeom.UnitVector3d(\n",
    "        lsst.sphgeom.LonLat.fromDegrees(racen, deccen)\n",
    "    )\n",
    ")\n",
    "\n",
    "# Obtain and print the scale to provide a sense of the size of the sky pixelization being used\n",
    "scale = pixelization.triangle(htm_id).getBoundingCircle().getOpeningAngle().asDegrees()*3600\n",
    "print(f'HTM ID={htm_id} at level={pixelization.getLevel()} is a ~{scale:0.2}\" triangle.')"
   ]
  },
  {
   "cell_type": "markdown",
   "id": "3484fb71-9939-4ce7-b345-be7f804d50c7",
   "metadata": {},
   "source": [
    "#### Now query the registry for all \"calexp\" images overlapping the desired position:"
   ]
  },
  {
   "cell_type": "code",
   "execution_count": null,
   "id": "d47c7be4-a872-44a4-98d9-24e6f8f7a63f",
   "metadata": {
    "tags": []
   },
   "outputs": [],
   "source": [
    "datasetRefs = registry.queryDatasets(\"calexp\", htm20=htm_id)\n",
    "\n",
    "#print(\"Found \", datasetRefs.count(discard=True), \" calexps at that position.\")\n",
    "print(\"Found \", datasetRefs.count(), \" calexps at that position.\")\n"
   ]
  },
  {
   "cell_type": "markdown",
   "id": "2c975f67-11de-4165-8dbb-898ea6c7a49b",
   "metadata": {
    "tags": []
   },
   "source": [
    "That's nice, but it finds images from all bands overlapping the position in a single iterator. Let's get lists separately for each band:"
   ]
  },
  {
   "cell_type": "code",
   "execution_count": null,
   "id": "e6ecb201-a53b-4c25-80e8-cee0ea43a857",
   "metadata": {
    "tags": []
   },
   "outputs": [],
   "source": [
    "datasetRefs_u = registry.queryDatasets(\"calexp\", htm20=htm_id, band=\"u\")\n",
    "datasetRefs_g = registry.queryDatasets(\"calexp\", htm20=htm_id, band=\"g\")\n",
    "datasetRefs_r = registry.queryDatasets(\"calexp\", htm20=htm_id, band=\"r\")\n",
    "datasetRefs_i = registry.queryDatasets(\"calexp\", htm20=htm_id, band=\"i\")\n",
    "\n",
    "#print(\"Found \", datasetRefs_u.count(discard=True), \" u-band calexps at that position.\")\n",
    "#print(\"Found \", datasetRefs_g.count(discard=True), \" g-band calexps at that position.\")\n",
    "#print(\"Found \", datasetRefs_r.count(discard=True), \" r-band calexps at that position.\")\n",
    "#print(\"Found \", datasetRefs_i.count(discard=True), \" i-band calexps at that position.\")\n",
    "print(\"Found \", datasetRefs_u.count(), \" u-band calexps at that position.\")\n",
    "print(\"Found \", datasetRefs_g.count(), \" g-band calexps at that position.\")\n",
    "print(\"Found \", datasetRefs_r.count(), \" r-band calexps at that position.\")\n",
    "print(\"Found \", datasetRefs_i.count(), \" i-band calexps at that position.\")"
   ]
  },
  {
   "cell_type": "markdown",
   "id": "a4371855-afdb-48d2-a129-79cb9baf1a1f",
   "metadata": {},
   "source": [
    "For now, let's just grab the first image in the list for each band."
   ]
  },
  {
   "cell_type": "code",
   "execution_count": null,
   "id": "a66283e9-99c7-43b2-abb6-71b2b220217a",
   "metadata": {
    "tags": []
   },
   "outputs": [],
   "source": [
    "for i, ref in enumerate(datasetRefs_u):\n",
    "    uref = ref\n",
    "    if i > 0:\n",
    "        break\n",
    "\n",
    "for i, ref in enumerate(datasetRefs_g):\n",
    "    gref = ref\n",
    "    if i > 0:\n",
    "        break\n",
    "\n",
    "for i, ref in enumerate(datasetRefs_r):\n",
    "    rref = ref\n",
    "    if i > 0:\n",
    "        break\n",
    "\n",
    "for i, ref in enumerate(datasetRefs_i):\n",
    "    iref = ref\n",
    "    if i > 0:\n",
    "        break"
   ]
  },
  {
   "cell_type": "markdown",
   "id": "70129752-4014-456a-801c-df0110c8c540",
   "metadata": {},
   "source": [
    "#### Here I am taking the Dataref for u-band and writing the dataId portion to a file. Then I repeat that for g, r and i bands."
   ]
  },
  {
   "cell_type": "code",
   "execution_count": null,
   "id": "d9c9b375-ee36-4cdd-a947-4e514144e1ae",
   "metadata": {
    "tags": []
   },
   "outputs": [],
   "source": [
    "fox = open('u_band.out', 'w')\n",
    "\n",
    "for i, ref in enumerate(datasetRefs_u):\n",
    "    uref = ref\n",
    "    fox.write(str(uref.dataId))\n",
    "    fox.write('\\n')\n",
    "    if i > datasetRefs_u.count():\n",
    "        break\n",
    "\n",
    "fox.close()\n"
   ]
  },
  {
   "cell_type": "code",
   "execution_count": null,
   "id": "84e280c9-ea2e-4d79-8ba1-4d1df0fc7ab4",
   "metadata": {
    "tags": []
   },
   "outputs": [],
   "source": [
    "fox = open('g_band.out', 'w')\n",
    "\n",
    "for i, ref in enumerate(datasetRefs_g):\n",
    "    gref = ref\n",
    "    fox.write(str(gref.dataId))\n",
    "    fox.write('\\n')\n",
    "    if i > datasetRefs_g.count():\n",
    "        break\n",
    "\n",
    "fox.close()\n"
   ]
  },
  {
   "cell_type": "code",
   "execution_count": null,
   "id": "aad6d2d6-5dff-4087-acb4-e9dee946a35e",
   "metadata": {
    "tags": []
   },
   "outputs": [],
   "source": [
    "fox = open('r_band.out', 'w')\n",
    "\n",
    "for i, ref in enumerate(datasetRefs_r):\n",
    "    rref = ref\n",
    "    fox.write(str(rref.dataId))\n",
    "    fox.write('\\n')\n",
    "    if i > datasetRefs_r.count():\n",
    "        break\n",
    "\n",
    "fox.close()\n"
   ]
  },
  {
   "cell_type": "code",
   "execution_count": null,
   "id": "588ef6b9-3ff3-44f6-ad87-5702440e0c90",
   "metadata": {
    "tags": []
   },
   "outputs": [],
   "source": [
    "fox = open('i_band.out', 'w')\n",
    "\n",
    "for i, ref in enumerate(datasetRefs_i):\n",
    "    iref = ref\n",
    "    fox.write(str(iref.dataId))\n",
    "    fox.write('\\n')\n",
    "    if i > datasetRefs_i.count():\n",
    "        break\n",
    "\n",
    "fox.close()\n"
   ]
  },
  {
   "cell_type": "markdown",
   "id": "15ea6f09-1bf9-45c1-9b9b-2fa45e2b49a0",
   "metadata": {},
   "source": [
    "##### Now I read in that data and then place it in the format for the dataId to be read into butler\n",
    "\n",
    "At the end here I produce a dataframe for each filter with the visit and detector number."
   ]
  },
  {
   "cell_type": "code",
   "execution_count": null,
   "id": "040b2712-c890-464c-986b-bd71a8443e19",
   "metadata": {
    "tags": []
   },
   "outputs": [],
   "source": [
    "df_u = pd.read_csv('u_band.out', header=None)\n",
    "#df2 = pd.DataFrame.from_dict(df)\n",
    "df_u['visit'] = df_u[2].str.split(':', expand=True)[1]\n",
    "df_u['detector'] = df_u[1].str.split(':', expand=True)[1]\n",
    "detector_u = df_u['detector']\n",
    "visit_u = df_u['visit']\n",
    "\n",
    "df_g = pd.read_csv('g_band.out', header=None)\n",
    "#df2 = pd.DataFrame.from_dict(df)\n",
    "df_g['visit'] = df_g[2].str.split(':', expand=True)[1]\n",
    "df_g['detector'] = df_g[1].str.split(':', expand=True)[1]\n",
    "detector_g = df_g['detector']\n",
    "visit_g = df_g['visit']\n",
    "\n",
    "df_r = pd.read_csv('r_band.out', header=None)\n",
    "#df2 = pd.DataFrame.from_dict(df)\n",
    "df_r['visit'] = df_r[2].str.split(':', expand=True)[1]\n",
    "df_r['detector'] = df_r[1].str.split(':', expand=True)[1]\n",
    "detector_r = df_r['detector']\n",
    "visit_r = df_r['visit']\n",
    "\n",
    "df_i = pd.read_csv('i_band.out', header=None)\n",
    "#df2 = pd.DataFrame.from_dict(df)\n",
    "df_i['visit'] = df_i[2].str.split(':', expand=True)[1]\n",
    "df_i['detector'] = df_i[1].str.split(':', expand=True)[1]\n",
    "detector_i = df_i['detector']\n",
    "visit_i = df_i['visit']\n"
   ]
  },
  {
   "cell_type": "code",
   "execution_count": null,
   "id": "4808cd2b-13d7-404f-965f-dadfea41bf0b",
   "metadata": {},
   "outputs": [],
   "source": [
    "def fxn():\n",
    "    warnings.warn(\"deprecated\", DeprecationWarning)\n"
   ]
  },
  {
   "cell_type": "markdown",
   "id": "f7da40af-a2b6-48e1-8e0f-a2b487ad5694",
   "metadata": {},
   "source": [
    "#### Now we use the dataframes from above to go to the Butler to get MJD for each observation."
   ]
  },
  {
   "cell_type": "code",
   "execution_count": null,
   "id": "8442c9ea-1174-4644-a616-6047fee55b32",
   "metadata": {
    "tags": []
   },
   "outputs": [],
   "source": [
    "MJD_u = []\n",
    "MJD_g = []\n",
    "MJD_r = []\n",
    "visit_rr = []\n",
    "detector_rr = []\n",
    "MJD_i = []\n",
    "\n",
    "#for i in range(0,len(df_u)):\n",
    "#    dataId = {'visit': int(visit_u[i]), 'detector': int(detector_u[i]), 'band': 'u'}\n",
    "#    calexp = butler.get('calexp', **dataId)\n",
    "#    a = calexp.getInfo().getVisitInfo().getDate().get(lsst.daf.base.DateTime.MJD)\n",
    "#    MJD_u.append(a)\n",
    "    \n",
    "#for i in range(0,len(df_g)):\n",
    "#    dataId = {'visit': int(visit_g[i]), 'detector': int(detector_g[i]), 'band': 'g'}\n",
    "#    calexp = butler.get('calexp', **dataId)\n",
    "#    a = calexp.getInfo().getVisitInfo().getDate().get(lsst.daf.base.DateTime.MJD)\n",
    "#    MJD_g.append(a)\n",
    "\n",
    "\n",
    "    \n",
    "for i in range(0,len(df_r)):\n",
    "    with warnings.catch_warnings():\n",
    "        warnings.simplefilter(\"ignore\")\n",
    "        dataId = {'visit': int(visit_r[i]), 'detector': int(detector_r[i]), 'band': 'r'}\n",
    "        calexp = butler.get('calexp', **dataId)\n",
    "        a = calexp.getInfo().getVisitInfo().getDate().get(lsst.daf.base.DateTime.MJD)\n",
    "        MJD_r.append(a)\n",
    "        visit_rr.append(visit_r[i])\n",
    "        detector_rr.append(detector_r[i])\n",
    "    \n",
    "#for i in range(0,len(df_i)):\n",
    "#    dataId = {'visit': int(visit_i[i]), 'detector': int(detector_i[i]), 'band': 'i'}\n",
    "#    calexp = butler.get('calexp', **dataId)\n",
    "#    a = calexp.getInfo().getVisitInfo().getDate().get(lsst.daf.base.DateTime.MJD)\n",
    "#    MJD_i.append(a)"
   ]
  },
  {
   "cell_type": "code",
   "execution_count": null,
   "id": "622e59aa-8b07-4646-93e4-26cdecd39c47",
   "metadata": {
    "tags": []
   },
   "outputs": [],
   "source": [
    "df1 = pd.DataFrame(visit_rr)\n",
    "df2 = pd.DataFrame(detector_rr)\n",
    "df3 = pd.DataFrame(MJD_r)\n",
    "\n",
    "data = pd.DataFrame({'visit': visit_rr, 'detector': detector_rr, 'MJD': MJD_r}, columns=['visit','detector','MJD'])\n",
    "\n",
    "r_band = data.loc[data['MJD'] < 61329.2]\n",
    "r_band2 = r_band.loc[r_band['MJD'] > 61316.0]\n",
    "print(r_band2)\n",
    "\n",
    "#print(df3)\n",
    "#result = pd.concat(frames)\n",
    "#print(result)"
   ]
  },
  {
   "cell_type": "code",
   "execution_count": null,
   "id": "10735dc2-3669-4ead-a8de-fecba88d16d1",
   "metadata": {
    "tags": []
   },
   "outputs": [],
   "source": [
    "udf = pd.DataFrame(MJD_u)\n",
    "gdf = pd.DataFrame(MJD_g)\n",
    "rdf = pd.DataFrame(MJD_r)\n",
    "idf = pd.DataFrame(MJD_i)\n",
    "\n",
    "udf.to_csv('udf.csv')\n",
    "gdf.to_csv('gdf.csv')\n",
    "rdf.to_csv('rdf.csv')\n",
    "idf.to_csv('idf.csv')"
   ]
  },
  {
   "cell_type": "code",
   "execution_count": null,
   "id": "f559a50a-e84f-40da-926a-d9509d655d99",
   "metadata": {
    "tags": []
   },
   "outputs": [],
   "source": [
    "dataId = {'visit': 911700, 'detector': 2, 'band': 'i'} \n",
    "calexp = butler.get('calexp', **dataId)\n",
    "\n",
    "#butler.get('calexp_visitInfo', dataId)\n",
    "calexp.getInfo().getVisitInfo().getDate().get(lsst.daf.base.DateTime.MJD)"
   ]
  },
  {
   "cell_type": "code",
   "execution_count": null,
   "id": "28369ab2-97bc-4a7e-99e7-50eb45335b0f",
   "metadata": {
    "tags": []
   },
   "outputs": [],
   "source": [
    "iref"
   ]
  },
  {
   "cell_type": "markdown",
   "id": "373b3c73",
   "metadata": {},
   "source": [
    "### Make stars and inject them into images:\n",
    "\n",
    "First, write a function (\"makeFakeStar\") that takes as inputs the position, flux (intensity), and the PSF, and returns an image of the PSF scaled to the desired flux at the input position.\n",
    "\n",
    "Next, we add a function (\"addFakeStars\") that takes the list of RAs, Decs, and magnitudes, and a `datasetRef` for a `calexp` image, and returns a version of the input `calexp` that has the fake stars injected into it. (This function calls \"makeFakeStar\" for each star in the list.)\n",
    "\n",
    "The source injection steps were developed following this piece of code as an example: https://github.com/lsst/pipe_tasks/blob/387f8f07a2b66205f9fa6bda9a89dcdbbef3f64c/tests/test_fakeProcessing.py"
   ]
  },
  {
   "cell_type": "code",
   "execution_count": null,
   "id": "d9aa8aa7",
   "metadata": {
    "tags": []
   },
   "outputs": [],
   "source": [
    "# make stars at a given position with a given intensity\n",
    "def makeFakeStar(position, intensity, psf):\n",
    "    psfImage = psf.computeImage(geom.Point2D(position.x, position.y)).getArray()\n",
    "    psfImage *= intensity\n",
    "    noise = np.random.normal(0, np.sqrt(abs(psfImage)))\n",
    "    return psfImage + noise, noise"
   ]
  },
  {
   "cell_type": "code",
   "execution_count": null,
   "id": "3ac55d1f-ce5c-4e71-aaa1-2c0c5632493b",
   "metadata": {
    "tags": []
   },
   "outputs": [],
   "source": [
    "def addFakeStars(ras, decs, mags, calexp_ref):\n",
    "    calexp_inp = butler.get('calexp', calexp_ref.dataId)\n",
    "    calexp_withFakes = calexp_inp.clone()\n",
    "\n",
    "    # Fetch objects from the exposure\n",
    "    psf = calexp_withFakes.getPsf()\n",
    "    image = calexp_withFakes.getMaskedImage().getImage()\n",
    "    variance = calexp_withFakes.getMaskedImage().getVariance()\n",
    "    wcs = calexp_withFakes.getWcs()\n",
    "    photocalib = calexp_withFakes.getPhotoCalib()\n",
    "\n",
    "    fluxes = []\n",
    "\n",
    "    # Use the \"photocalib\" from the calexp to convert magnitudes to instrumental fluxes:\n",
    "    for mag in mags:\n",
    "        fluxes.append(photocalib.magnitudeToInstFlux(mag))\n",
    "\n",
    "    # Get the corner coordinates of the image:\n",
    "    y0 = image.getY0()\n",
    "    x0 = image.getX0()\n",
    "    ymax = y0 + calexp_withFakes.getDimensions()[1]\n",
    "    xmax = x0 + calexp_withFakes.getDimensions()[0]\n",
    "\n",
    "    #xvals = []\n",
    "    #yvals = []\n",
    "    \n",
    "    # At each position create a star with the given intensity and add it\n",
    "    # to the image.\n",
    "    for ra, dec, intensity in zip(ras, decs, fluxes):\n",
    "        # Use the WCS to convert RA, Dec to X, Y pixel coordinates:\n",
    "        pos = wcs.skyToPixel(geom.SpherePoint(ra, dec, geom.degrees))\n",
    "        #xvals.append(pos.x)\n",
    "        #yvals.append(pos.y)\n",
    "\n",
    "        # Call \"makeFakeStar\" to get the image of a PSF-like object with the desired flux:\n",
    "        objArray, noiseArray = makeFakeStar(pos, intensity, psf)\n",
    "        psfRad = int((objArray.shape[0]-1)/2.)\n",
    "\n",
    "        # Check that the desired position is within the image:\n",
    "        oky = (pos.y > psfRad) & (pos.y < ymax - psfRad)\n",
    "        okx = (pos.x > psfRad) & (pos.x < xmax - psfRad)\n",
    "\n",
    "        if okx & oky:\n",
    "            yslice = slice(int(np.floor(pos.y - psfRad - y0)), int(np.floor(pos.y + psfRad + y0 + 1)))\n",
    "            xslice = slice(int(np.floor(pos.x - psfRad - x0)), int(np.floor(pos.x + psfRad + x0 + 1)))\n",
    "\n",
    "            print('Injecting source at x, y = ', pos.x, pos.y)\n",
    "\n",
    "            # NOTE: while image arrays are indexed with x, y, the extraction of the data into (numpy) arrays\n",
    "            # means that the returned arrays follow numpy's y, x convention.\n",
    "            # More on indexing: https://pipelines.lsst.io/modules/lsst.afw.image/indexing-conventions.html\n",
    "            image.getArray()[yslice, xslice] += objArray\n",
    "            variance.getArray()[yslice, xslice] += noiseArray**2\n",
    "        else:\n",
    "            print('Skipped injecting source at x, y = ', pos.x, pos.y, ' because it is too close to (or off) the edge.')\n",
    "\n",
    "    return calexp_inp, calexp_withFakes"
   ]
  },
  {
   "cell_type": "markdown",
   "id": "e5e78af4-6f87-453f-8391-2a4a845ef433",
   "metadata": {},
   "source": [
    "### Call the \"addFakeStars\" function to create calexp images with the artificial stars injected:"
   ]
  },
  {
   "cell_type": "code",
   "execution_count": null,
   "id": "898f7dae-fdf3-4c75-b16b-59f8fba70cc4",
   "metadata": {
    "tags": []
   },
   "outputs": [],
   "source": [
    "calexp_orig_u, calexp_new_u = addFakeStars(fake_ras, fake_decs, fake_umags, uref)\n",
    "calexp_orig_g, calexp_new_g = addFakeStars(fake_ras, fake_decs, fake_gmags, gref)\n",
    "calexp_orig_r, calexp_new_r = addFakeStars(fake_ras, fake_decs, fake_rmags, rref)\n",
    "calexp_orig_i, calexp_new_i = addFakeStars(fake_ras, fake_decs, fake_imags, iref)"
   ]
  },
  {
   "cell_type": "markdown",
   "id": "a05a2147-24d6-42f1-82bd-5ef64c55d452",
   "metadata": {
    "tags": []
   },
   "source": [
    "### Wrap all of the detection and measurement steps in a function.\n",
    "\n",
    "The steps here follow the <a href=\"https://github.com/rubin-dp0/tutorial-notebooks/blob/main/05_Intro_to_Source_Detection.ipynb\">Intro to Source Detection</a> tutorial notebook, so rather than explain them in detail here, we simply wrap all the steps in a single function that can be executed for each image."
   ]
  },
  {
   "cell_type": "code",
   "execution_count": null,
   "id": "0dd528c4-80e3-404f-b277-1d7c5f6d2065",
   "metadata": {
    "tags": []
   },
   "outputs": [],
   "source": [
    "def processFakes(calexp_inp):\n",
    "    \n",
    "    # Create a basic schema to use with these tasks\n",
    "    schema = afwTable.SourceTable.makeMinimalSchema()\n",
    "\n",
    "    # Create a container which will be used to record metadata about algorithm execution\n",
    "    algMetadata = dafBase.PropertyList()\n",
    "\n",
    "    # Initialize CharacterizeImageTask and its configuration:\n",
    "    config = CharacterizeImageTask.ConfigClass()\n",
    "    config.psfIterations = 1\n",
    "    charImageTask = CharacterizeImageTask(None, config=config)\n",
    "\n",
    "    # Initialize SourceDetectionTask and its configuration:\n",
    "    config = SourceDetectionTask.ConfigClass()\n",
    "    config.thresholdValue = 10      # detection threshold in units of thresholdType\n",
    "    config.thresholdType = \"stdev\"   # units for thresholdValue\n",
    "    sourceDetectionTask = SourceDetectionTask(schema=schema, config=config)\n",
    "    sourceDeblendTask = SourceDeblendTask(schema=schema)\n",
    "\n",
    "    # Initialize SingleFrameMeasurementTask and its configuration:\n",
    "    config = SingleFrameMeasurementTask.ConfigClass()\n",
    "    sourceMeasurementTask = SingleFrameMeasurementTask(schema=schema, config=config, algMetadata=algMetadata)\n",
    "\n",
    "    # Make an empty table that we'll put the results in:\n",
    "    tab = afwTable.SourceTable.make(schema)\n",
    "    \n",
    "    # Image characterization\n",
    "    result = charImageTask.run(calexp_inp)\n",
    "\n",
    "    # Get the PSF and some image properties\n",
    "    psf = calexp_inp.getPsf()\n",
    "    sigma = psf.computeShape().getDeterminantRadius()\n",
    "    pixelScale = calexp_inp.getWcs().getPixelScale().asArcseconds()\n",
    "\n",
    "    # The factor of 2.355 converts from std to fwhm\n",
    "    print('psf fwhm = {:.2f} arcsec'.format(sigma*pixelScale*2.355))\n",
    "    \n",
    "    # Run source detection\n",
    "    result = sourceDetectionTask.run(tab, calexp_inp)\n",
    "    \n",
    "    sources = result.sources\n",
    "    \n",
    "    # Run source deblending\n",
    "    sourceDeblendTask.run(calexp_inp, sources)\n",
    "\n",
    "    # Run source measurement\n",
    "    sourceMeasurementTask.run(measCat=sources, exposure=calexp_inp)\n",
    "\n",
    "    # The copy makes sure that the sources are sequential in memory\n",
    "    sources = sources.copy(True)\n",
    "    \n",
    "    # For convenience, return an Astropy table:\n",
    "    source_tab = sources.asAstropy()\n",
    "    \n",
    "    # Convert fluxes to magnitudes and add them to the table\n",
    "    photocalib = calexp_inp.getPhotoCalib()\n",
    "    psfmags = photocalib.instFluxToMagnitude(sources, 'base_PsfFlux')\n",
    "    source_tab.add_columns([psfmags[:,0], psfmags[:,1]], names=['mag_psf', 'magerr_psf'])\n",
    "    \n",
    "    return(source_tab)"
   ]
  },
  {
   "cell_type": "markdown",
   "id": "c1fd9490-5b58-4799-9987-785583ab97c4",
   "metadata": {
    "tags": []
   },
   "source": [
    "### Run the \"processFakes\" function on each image that we injected fake stars into\n",
    "\n",
    "**This may take at least a couple minutes to run**"
   ]
  },
  {
   "cell_type": "code",
   "execution_count": null,
   "id": "cee54085-8f58-4ecc-bb17-67ae4016ac67",
   "metadata": {
    "tags": []
   },
   "outputs": [],
   "source": [
    "t1 = time.time()\n",
    "\n",
    "sources_withfakes_u = processFakes(calexp_new_u)\n",
    "sources_withfakes_g = processFakes(calexp_new_g)\n",
    "sources_withfakes_r = processFakes(calexp_new_r)\n",
    "sources_withfakes_i = processFakes(calexp_new_i)\n",
    "\n",
    "t2 = time.time()\n",
    "print('dt', t2 - t1)"
   ]
  },
  {
   "cell_type": "code",
   "execution_count": null,
   "id": "a6b88d6c-d908-4a5f-96ee-64be2d9bbf3c",
   "metadata": {
    "tags": []
   },
   "outputs": [],
   "source": [
    "# Take a look at the catalog:\n",
    "\n",
    "sources_withfakes_i"
   ]
  },
  {
   "cell_type": "markdown",
   "id": "342f9835-4e2f-4759-8a6d-ad331c339f2d",
   "metadata": {},
   "source": [
    "### Match coordinates from the original list of fake stars to the new catalog:"
   ]
  },
  {
   "cell_type": "code",
   "execution_count": null,
   "id": "905764b9-0ed9-4975-a4a7-b40511acb0a1",
   "metadata": {
    "tags": []
   },
   "outputs": [],
   "source": [
    "# Coordinates of input fake stars\n",
    "sc_fakes = SkyCoord(ra=fake_ras*u.deg, dec=fake_decs*u.deg, frame='icrs')\n",
    "\n",
    "# Coordinates of objects in calexps with fakes added:\n",
    "sc_withfakes_u = SkyCoord(ra=sources_withfakes_u['coord_ra'], dec=sources_withfakes_u['coord_dec'], frame='icrs')\n",
    "sc_withfakes_g = SkyCoord(ra=sources_withfakes_g['coord_ra'], dec=sources_withfakes_g['coord_dec'], frame='icrs')\n",
    "sc_withfakes_r = SkyCoord(ra=sources_withfakes_r['coord_ra'], dec=sources_withfakes_r['coord_dec'], frame='icrs')\n",
    "sc_withfakes_i = SkyCoord(ra=sources_withfakes_i['coord_ra'], dec=sources_withfakes_i['coord_dec'], frame='icrs')\n",
    "# Note that units weren't required for sc_withfakes_*, because it already has them."
   ]
  },
  {
   "cell_type": "code",
   "execution_count": null,
   "id": "5272b12a-794e-4973-9875-16c93fbb0d3a",
   "metadata": {
    "tags": []
   },
   "outputs": [],
   "source": [
    "fig, ax = plt.subplots(1, 1)\n",
    "plt.plot(sc_withfakes_g.ra, sc_withfakes_g.dec, '.k', label='detected sources')\n",
    "plt.plot(sc_fakes.ra, sc_fakes.dec, 'sr', fillstyle='none', label='fake sources')\n",
    "ax.invert_xaxis()\n",
    "plt.legend()\n",
    "plt.xlabel('RA (deg)')\n",
    "plt.ylabel('Dec (deg)')\n",
    "plt.show()"
   ]
  },
  {
   "cell_type": "code",
   "execution_count": null,
   "id": "0b89df62-46fb-493d-8b09-c1eee98980d3",
   "metadata": {
    "tags": []
   },
   "outputs": [],
   "source": [
    "# Match them using the Astropy SkyCoord \"match_to_catalog_sky\" method:\n",
    "\n",
    "idx_u, sep_u, _ = sc_fakes.match_to_catalog_sky(sc_withfakes_u)\n",
    "idx_g, sep_g, _ = sc_fakes.match_to_catalog_sky(sc_withfakes_g)\n",
    "idx_r, sep_r, _ = sc_fakes.match_to_catalog_sky(sc_withfakes_r)\n",
    "idx_i, sep_i, _ = sc_fakes.match_to_catalog_sky(sc_withfakes_i)"
   ]
  },
  {
   "cell_type": "markdown",
   "id": "91dbd3a2-c12e-456c-b6d8-9929bb809aa9",
   "metadata": {},
   "source": [
    "The \"idx*\" arrays are the indices into sc_withfakes* files to extract the closest match, and \"sep*\" are the actual separations between the sources. Note that this returns a separation for all objects -- in the following, we will keep only sources with match separations less than 1 arcsecond (i.e., \"good\" matches).\n",
    "\n",
    "Extract info about the good matches into arrays:"
   ]
  },
  {
   "cell_type": "code",
   "execution_count": null,
   "id": "a94319b0-0943-4099-a222-e47d8e2297a8",
   "metadata": {
    "tags": []
   },
   "outputs": [],
   "source": [
    "okmch_u = (sep_u.arcsec < 1.0)\n",
    "mch_mags_u = sources_withfakes_u[idx_u]['mag_psf']\n",
    "mch_magerrs_u = sources_withfakes_u[idx_u]['magerr_psf']\n",
    "# If the nearest match is >1\" away, set its magnitudes to -99.9:\n",
    "mch_mags_u[~okmch_u] = -99.9\n",
    "mch_magerrs_u[~okmch_u] = 99.9\n",
    "seps_u = sep_u.arcsec\n",
    "\n",
    "okmch_g = (sep_g.arcsec < 1.0)\n",
    "mch_mags_g = sources_withfakes_g[idx_g]['mag_psf']\n",
    "mch_magerrs_g = sources_withfakes_g[idx_g]['magerr_psf']\n",
    "mch_mags_g[~okmch_g] = -99.9\n",
    "mch_magerrs_g[~okmch_g] = 99.9\n",
    "seps_g = sep_g.arcsec\n",
    "\n",
    "okmch_r = (sep_r.arcsec < 1.0)\n",
    "mch_mags_r = sources_withfakes_r[idx_r]['mag_psf']\n",
    "mch_magerrs_r = sources_withfakes_r[idx_r]['magerr_psf']\n",
    "mch_mags_r[~okmch_r] = -99.9\n",
    "mch_magerrs_r[~okmch_r] = 99.9\n",
    "seps_r = sep_r.arcsec\n",
    "\n",
    "okmch_i = (sep_i.arcsec < 1.0)\n",
    "mch_mags_i = sources_withfakes_i[idx_i]['mag_psf']\n",
    "mch_magerrs_i = sources_withfakes_i[idx_i]['magerr_psf']\n",
    "mch_mags_i[~okmch_i] = -99.9\n",
    "mch_magerrs_i[~okmch_i] = 99.9\n",
    "seps_i = sep_i.arcsec\n",
    "\n",
    "#print(fake_imags[okmch], sources_withfakes_i[idx_i[okmch]]['mag_psf'])"
   ]
  },
  {
   "cell_type": "code",
   "execution_count": null,
   "id": "94695591-aff0-4688-b7fd-5e5e9303fe4c",
   "metadata": {
    "tags": []
   },
   "outputs": [],
   "source": [
    "sep_g.arcsec"
   ]
  },
  {
   "cell_type": "markdown",
   "id": "e023c05a-6b9f-4bea-8a0b-d83190d24fa0",
   "metadata": {},
   "source": [
    "Combine all of the information into a single table:"
   ]
  },
  {
   "cell_type": "code",
   "execution_count": null,
   "id": "d77edcf9-0c9e-4434-b8b7-c0de6352fa03",
   "metadata": {
    "tags": []
   },
   "outputs": [],
   "source": [
    "tab_all = Table([fake_ras, fake_decs, fake_umags, fake_gmags, fake_rmags, fake_imags,\n",
    "                 mch_mags_u, mch_magerrs_u, seps_u, mch_mags_g, mch_magerrs_g, seps_g,\n",
    "                 mch_mags_r, mch_magerrs_r, seps_r, mch_mags_i, mch_magerrs_i, seps_i],\n",
    "                 names=['ra', 'dec', 'u_fake', 'g_fake', 'r_fake', 'i_fake', 'u_meas', 'uerr_meas', 'sep_u',\n",
    "                        'g_meas', 'gerr_meas', 'sep_g', 'r_meas', 'rerr_meas', 'sep_r',\n",
    "                        'i_meas', 'ierr_meas', 'sep_i'],\n",
    "                 units=[u.deg, u.deg, u.mag, u.mag, u.mag, u.mag, u.mag, u.mag, u.arcsec,\n",
    "                        u.mag, u.mag, u.arcsec, u.mag, u.mag, u.arcsec, u.mag, u.mag, u.arcsec])\n",
    "\n",
    "for col in tab_all.colnames[0:2]:\n",
    "    tab_all[col].info.format = '%.8g'  # for consistent table output\n",
    "for col in tab_all.colnames[2:]:\n",
    "    tab_all[col].info.format = '%.5g'  # for consistent table output\n"
   ]
  },
  {
   "cell_type": "code",
   "execution_count": null,
   "id": "cfd44c12-74b0-4eb5-b2e7-1862aa9cec4f",
   "metadata": {
    "tags": []
   },
   "outputs": [],
   "source": [
    "tab_all"
   ]
  },
  {
   "cell_type": "markdown",
   "id": "3ec21cf5-5603-49da-a5c7-d4b9a0046719",
   "metadata": {},
   "source": [
    "Now we have completed all the steps of injecting fake sources, running pipeline tasks to detect and measure all sources in the resulting images, and extracting the matches from the catalogs. Let's look at the results!\n",
    "\n",
    "Compare the \"fake\" magnitudes we assigned to each star to their output (measured) magnitude:"
   ]
  },
  {
   "cell_type": "code",
   "execution_count": null,
   "id": "0e32d786-b71a-4323-afca-4b9f77ddccb0",
   "metadata": {
    "tags": []
   },
   "outputs": [],
   "source": [
    "fig = plt.plot(figsize=(9, 9))\n",
    "\n",
    "plt.hlines(0, 0, 30, linestyle=':', color='Black')\n",
    "plt.plot(tab_all['u_fake'], 1000.0 * (tab_all['u_meas'] - tab_all['u_fake']),\n",
    "         'o', ms=10, color='royalblue', label='u')\n",
    "plt.plot(tab_all['g_fake'], 1000.0 * (tab_all['g_meas'] - tab_all['g_fake']),\n",
    "         'D', ms=10, color='mediumseagreen', label='g')\n",
    "plt.plot(tab_all['r_fake'], 1000.0 * (tab_all['r_meas'] - tab_all['r_fake']),\n",
    "         '*', ms=10, color='firebrick', label='r')\n",
    "plt.plot(tab_all['i_fake'], 1000.0 * (tab_all['i_meas'] - tab_all['i_fake']),\n",
    "         's', ms=10, color='indigo', label='i')\n",
    "plt.legend()\n",
    "plt.xlabel(r'$mag_{\\rm fake}$')\n",
    "plt.ylabel(r'$(mag_{\\rm meas} - mag_{\\rm fake})$ (mmag)')\n",
    "#plt.xlim(15.2, 23.3)\n",
    "#plt.ylim(-48, 48)\n",
    "plt.minorticks_on()\n",
    "plt.show()"
   ]
  },
  {
   "cell_type": "markdown",
   "id": "d1a5512f-a74c-497b-8624-ed904505ca65",
   "metadata": {},
   "source": [
    "Looks good! (Note that the y-axis is showing residuals in _millimags_.)"
   ]
  },
  {
   "cell_type": "code",
   "execution_count": null,
   "id": "2947affa-683e-4237-a09c-19678f29f835",
   "metadata": {
    "tags": []
   },
   "outputs": [],
   "source": [
    "afwDisplay.setDefaultBackend('firefly')"
   ]
  },
  {
   "cell_type": "code",
   "execution_count": null,
   "id": "dba6a7f9-a07e-49a1-903c-b3324589f93a",
   "metadata": {
    "tags": []
   },
   "outputs": [],
   "source": [
    "from astropy.io import fits\n",
    "\n",
    "fig, ax = plt.subplots(1, 2, figsize=(14*3, 7*3))\n",
    "plt.sca(ax[0])  # set the first axis as current\n",
    "display1 = afwDisplay.Display(frame=fig)\n",
    "display1.scale('linear', 'zscale')\n",
    "#afw_display = afwDisplay.Display(frame=1)\n",
    "display1.mtv(calexp_orig_g.image)\n",
    "\n",
    "#outfile = 'calexp_orig.fits'\n",
    "#hdu = fits.PrimaryHDU(calexp_orig_g.image)\n",
    "#hdu.writeto(outfile, overwrite=True)\n",
    "\n",
    "plt.title('original image')\n",
    "#plt.xlim(1000, 2500)\n",
    "#plt.ylim(300, 1800)\n",
    "plt.sca(ax[1])  # set the second axis as current\n",
    "\n",
    "display2 = afwDisplay.Display(frame=fig)\n",
    "radec = SpherePoint(fake_ras[0], fake_decs[0], lsst.geom.degrees)\n",
    "#radec2 = SpherePoint(fake_ras[7], fake_decs[7], lsst.geom.degrees)\n",
    "#radec3 = SpherePoint(fake_ras[16], fake_decs[16], lsst.geom.degrees)\n",
    "xy = calexp_new_g.getWcs().skyToPixel(radec)\n",
    "#xy2 = calexp_new_g.getWcs().skyToPixel(radec2)\n",
    "#xy3 = calexp_new_g.getWcs().skyToPixel(radec3)\n",
    "display2.scale('linear', 'zscale')\n",
    "#display2.mtv(calexp_new_g.image)\n",
    "display2.mtv(calexp_orig_g.image)\n",
    "display2.dot('o', xy.getX(), xy.getY(), ctype='red', size = 20)\n",
    "#display2.dot('o', xy2.getX(), xy2.getY(), ctype='red', size = 20)\n",
    "#display2.dot('o', xy3.getX(), xy3.getY(), ctype='red', size = 20)\n",
    "\n",
    "\n",
    "\n",
    "# display2.mtv(image0)\n",
    "plt.title('with fake stars')\n",
    "#plt.xlim(1000, 2500)\n",
    "#plt.ylim(300, 1800)\n",
    "plt.tight_layout()\n",
    "plt.show()"
   ]
  },
  {
   "cell_type": "markdown",
   "id": "24f35eb2-054c-4186-99a8-a35e95e4a277",
   "metadata": {},
   "source": [
    "Ideas for further exploration:\n",
    "\n",
    "- Inject stars using a realistic stellar population (i.e., get colors and a luminosity function from isochrones).\n",
    "- Inject galaxies or other objects.\n",
    "- Inject periodic variables into a set of overlapping visit images (using their time of observation to determine the input phase, and thus magnitude, for each image).\n",
    "- Test completeness of detection/measurement (will need to inject stars over a variety of magnitudes and colors, and probably many times over to build up a large enough statistical sample).\n"
   ]
  },
  {
   "cell_type": "code",
   "execution_count": null,
   "id": "31f63032-21f3-46d5-a150-fd5e1aec599b",
   "metadata": {
    "tags": []
   },
   "outputs": [],
   "source": [
    "\n",
    "fig, ax = plt.subplots(1, 1, figsize=(14*3, 7*3))\n",
    "radec = SpherePoint(fake_ras[0], fake_decs[0], lsst.geom.degrees)\n",
    "xy = geom.PointI(calexp_new_g.getWcs().skyToPixel(radec))\n",
    "cutoutSideLength = 51\n",
    "cutoutSize = geom.ExtentI(cutoutSideLength, cutoutSideLength)\n",
    "\n",
    "bbox = geom.BoxI(xy - cutoutSize // 2, cutoutSize)\n",
    " \n",
    "display1 = afwDisplay.Display(frame=fig)\n",
    "display1.scale('linear', 'zscale')\n",
    "display1.mtv(calexp_new_g.image)\n"
   ]
  },
  {
   "cell_type": "code",
   "execution_count": null,
   "id": "de8ee367-b655-4d43-8333-e06eda42a4b7",
   "metadata": {},
   "outputs": [],
   "source": [
    "display1.mtv.help"
   ]
  },
  {
   "cell_type": "code",
   "execution_count": null,
   "id": "8586d695-b22a-46b0-ad1f-9c5012361209",
   "metadata": {},
   "outputs": [],
   "source": []
  }
 ],
 "metadata": {
  "kernelspec": {
   "display_name": "LSST",
   "language": "python",
   "name": "lsst"
  },
  "language_info": {
   "codemirror_mode": {
    "name": "ipython",
    "version": 3
   },
   "file_extension": ".py",
   "mimetype": "text/x-python",
   "name": "python",
   "nbconvert_exporter": "python",
   "pygments_lexer": "ipython3",
   "version": "3.10.10"
  }
 },
 "nbformat": 4,
 "nbformat_minor": 5
}
