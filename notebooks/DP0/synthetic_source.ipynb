{
 "cells": [
  {
   "cell_type": "markdown",
   "id": "40ce4a79-6afd-4306-937d-5acad040ad1a",
   "metadata": {},
   "source": [
    "# Injecting and Measuring Artificial Stars in Single-Visit Images\n",
    "\n",
    "Jeff Carlin <br>\n",
    "Last verified to run Monday, April 26, 2022, with weekly 2022_12.\n",
    "\n",
    "Recommended container size: large (or possibly medium; small will definitely run out of memory and kill the kernel).\n"
   ]
  },
  {
   "cell_type": "code",
   "execution_count": 1,
   "id": "42187a4e",
   "metadata": {
    "execution": {
     "iopub.execute_input": "2023-06-22T22:44:31.655411Z",
     "iopub.status.busy": "2023-06-22T22:44:31.655235Z",
     "iopub.status.idle": "2023-06-22T22:44:32.342847Z",
     "shell.execute_reply": "2023-06-22T22:44:32.342328Z",
     "shell.execute_reply.started": "2023-06-22T22:44:31.655365Z"
    },
    "tags": []
   },
   "outputs": [],
   "source": [
    "# Import python packages\n",
    "import time\n",
    "import os\n",
    "import warnings\n",
    "import numpy as np\n",
    "import matplotlib as mpl\n",
    "import matplotlib.pyplot as plt\n",
    "from IPython.display import IFrame, display, Markdown\n",
    "from mpl_toolkits.axes_grid1 import make_axes_locatable\n",
    "from matplotlib.patches import Rectangle\n",
    "from astropy.visualization import ZScaleInterval\n",
    "from astropy.coordinates import SkyCoord\n",
    "import astropy.units as u\n",
    "from astropy.table import Table\n",
    "import pandas as pd\n",
    "\n",
    "%matplotlib inline"
   ]
  },
  {
   "cell_type": "code",
   "execution_count": 2,
   "id": "1c9fbfe1-296c-4980-80c0-4b2b8efca6ed",
   "metadata": {
    "execution": {
     "iopub.execute_input": "2023-06-22T22:44:32.710529Z",
     "iopub.status.busy": "2023-06-22T22:44:32.709921Z",
     "iopub.status.idle": "2023-06-22T22:44:34.447561Z",
     "shell.execute_reply": "2023-06-22T22:44:34.446888Z",
     "shell.execute_reply.started": "2023-06-22T22:44:32.710503Z"
    },
    "tags": []
   },
   "outputs": [],
   "source": [
    "# Import tasks from the LSST Science Pipelines for reprocessing images\n",
    "from lsst.pipe.tasks.characterizeImage import CharacterizeImageTask\n",
    "from lsst.pipe.tasks.calibrate import CalibrateTask\n",
    "from lsst.meas.algorithms.detection import SourceDetectionTask\n",
    "from lsst.meas.deblender import SourceDeblendTask\n",
    "from lsst.meas.base import SingleFrameMeasurementTask\n",
    "\n",
    "import lsst.sphgeom\n",
    "import lsst.afw.display as afwDisplay\n",
    "import lsst.geom as geom\n",
    "from lsst.geom import SpherePoint, Angle"
   ]
  },
  {
   "cell_type": "code",
   "execution_count": 3,
   "id": "a0868985",
   "metadata": {
    "execution": {
     "iopub.execute_input": "2023-06-22T22:44:34.449072Z",
     "iopub.status.busy": "2023-06-22T22:44:34.448891Z",
     "iopub.status.idle": "2023-06-22T22:44:34.461997Z",
     "shell.execute_reply": "2023-06-22T22:44:34.461467Z",
     "shell.execute_reply.started": "2023-06-22T22:44:34.449052Z"
    },
    "tags": []
   },
   "outputs": [],
   "source": [
    "# Import LSST Science Pipelines packages (see pipelines.lsst.io)\n",
    "import lsst.daf.base as dafBase\n",
    "from lsst.daf.butler import Butler\n",
    "import lsst.afw.image as afwImage\n",
    "import lsst.afw.display as afwDisplay\n",
    "import lsst.afw.table as afwTable\n",
    "import lsst.geom as geom\n",
    "import lsst.pipe.tasks.fakes as fakes\n",
    "\n",
    "# Use lsst.afw.display with the matplotlib backend\n",
    "afwDisplay.setDefaultBackend('matplotlib')"
   ]
  },
  {
   "cell_type": "code",
   "execution_count": 4,
   "id": "d8094618-1aef-4e41-b8e6-992aecbe5961",
   "metadata": {
    "execution": {
     "iopub.execute_input": "2023-06-22T22:44:35.350419Z",
     "iopub.status.busy": "2023-06-22T22:44:35.349709Z",
     "iopub.status.idle": "2023-06-22T22:44:35.354952Z",
     "shell.execute_reply": "2023-06-22T22:44:35.354372Z",
     "shell.execute_reply.started": "2023-06-22T22:44:35.350380Z"
    },
    "tags": []
   },
   "outputs": [],
   "source": [
    "# Set up some plotting defaults:\n",
    "\n",
    "params = {'axes.labelsize': 28,\n",
    "          'font.size': 24,\n",
    "          'legend.fontsize': 14,\n",
    "          'xtick.major.width': 3,\n",
    "          'xtick.minor.width': 2,\n",
    "          'xtick.major.size': 12,\n",
    "          'xtick.minor.size': 6,\n",
    "          'xtick.direction': 'in',\n",
    "          'xtick.top': True,\n",
    "          'lines.linewidth': 3,\n",
    "          'axes.linewidth': 3,\n",
    "          'axes.labelweight': 3,\n",
    "          'axes.titleweight': 3,\n",
    "          'ytick.major.width': 3,\n",
    "          'ytick.minor.width': 2,\n",
    "          'ytick.major.size': 12,\n",
    "          'ytick.minor.size': 6,\n",
    "          'ytick.direction': 'in',\n",
    "          'ytick.right': True,\n",
    "          'figure.figsize': [9, 9],\n",
    "          'figure.facecolor': 'White'\n",
    "          }\n",
    "\n",
    "plt.rcParams.update(params)"
   ]
  },
  {
   "cell_type": "markdown",
   "id": "bf8c5bae-55da-4046-867d-e6f84d72bfff",
   "metadata": {},
   "source": [
    "#### Instantiate the Butler."
   ]
  },
  {
   "cell_type": "code",
   "execution_count": 5,
   "id": "d3251edd",
   "metadata": {
    "execution": {
     "iopub.execute_input": "2023-06-22T22:44:38.713925Z",
     "iopub.status.busy": "2023-06-22T22:44:38.713665Z",
     "iopub.status.idle": "2023-06-22T22:44:39.964142Z",
     "shell.execute_reply": "2023-06-22T22:44:39.963488Z",
     "shell.execute_reply.started": "2023-06-22T22:44:38.713899Z"
    },
    "tags": []
   },
   "outputs": [],
   "source": [
    "# For DC2 gen3, these are the only options\n",
    "repo = 's3://butler-us-central1-dp01'\n",
    "collection = '2.2i/runs/DP0.1'\n",
    "\n",
    "butler = Butler(repo, collections=collection)\n",
    "registry = butler.registry"
   ]
  },
  {
   "cell_type": "markdown",
   "id": "4e038f66-74cc-4f50-a9ef-99d5d6963e82",
   "metadata": {},
   "source": [
    "#### Create a list of artificial stars to inject: \n",
    "\n",
    "To inject artificial stars, all that is needed is a list of RA, Dec positions, and magnitudes to assign the simulated stars.\n",
    "\n",
    "We will generate `nfakes` stars with positions randomly distributed (using a normal distribution of size `scatter_arcmin` in arcminutes) about the center coordinate (racen, deccen). The stars will be evenly spaced in u-band magnitude (i.e., in `nfakes` equal intervals between magmin and magmax), and randomly distributed about a mean color for each band. (I chose to use a fixed mean color for all stars for simplicity, but apply a normally-distributed scatter of `mag_scatter` magnitudes about this mean value so they are not all identical.)\n"
   ]
  },
  {
   "cell_type": "code",
   "execution_count": 32,
   "id": "697dad31-9de9-411a-94b2-9cb59a429ff2",
   "metadata": {
    "execution": {
     "iopub.execute_input": "2023-06-22T22:54:03.591628Z",
     "iopub.status.busy": "2023-06-22T22:54:03.591152Z",
     "iopub.status.idle": "2023-06-22T22:54:03.601528Z",
     "shell.execute_reply": "2023-06-22T22:54:03.600851Z",
     "shell.execute_reply.started": "2023-06-22T22:54:03.591590Z"
    },
    "tags": []
   },
   "outputs": [],
   "source": [
    "# Central (RA, Dec) position (in degrees) at which to insert stars:\n",
    "racen = 59.3477705 #59.65688129\n",
    "deccen = -36.7143011  #-36.75083078\n",
    "\n",
    "data =pd.read_csv('magnitudes2.txt')\n",
    "# Place all the fake stars within `scatter_arcmin` arcminutes of the center coordinate:\n",
    "#scatter_arcmin = 1.0\n",
    "\n",
    "# Assign positions using a (random) normal distribution about the center coordinates:\n",
    "fake_ras = data['ra']\n",
    "fake_decs = data['dec']\n",
    "fake_umags = data['u']\n",
    "fake_gmags = data['g']\n",
    "fake_rmags = data['r']\n",
    "fake_imags = data['i']\n",
    "\n",
    "\n",
    "# \"nfakes\" is the number of fake stars to inject:\n",
    "nfakes = len(fake_ras)\n"
   ]
  },
  {
   "cell_type": "code",
   "execution_count": 34,
   "id": "7c68f35c-4ef4-48bd-ba5a-0a52c3692563",
   "metadata": {
    "execution": {
     "iopub.execute_input": "2023-06-22T22:54:24.256325Z",
     "iopub.status.busy": "2023-06-22T22:54:24.255519Z",
     "iopub.status.idle": "2023-06-22T22:54:24.410912Z",
     "shell.execute_reply": "2023-06-22T22:54:24.410349Z",
     "shell.execute_reply.started": "2023-06-22T22:54:24.256290Z"
    },
    "tags": []
   },
   "outputs": [
    {
     "data": {
      "image/png": "[encoded data removed]",
      "text/plain": [
       "<Figure size 648x648 with 1 Axes>"
      ]
     },
     "metadata": {},
     "output_type": "display_data"
    }
   ],
   "source": [
    "plt.plot(fake_ras, fake_decs, '*r')\n",
    "plt.plot(racen, deccen,'.k-', markersize=20)\n",
    "plt.plot(fake_ras[0], fake_decs[0], '+g', markersize = 20)\n",
    "#plt.plot(fake_ras[7], fake_decs[7], '+g', markersize = 20)\n",
    "#plt.plot(fake_ras[16], fake_decs[16], '+g', markersize = 20)\n",
    "plt.show()"
   ]
  },
  {
   "cell_type": "markdown",
   "id": "8523f75d-5b8c-4b84-89e0-22fabd2f9d7e",
   "metadata": {},
   "source": [
    "### Look up the images that overlap the desired coordinates\n",
    "\n",
    "We will use the spatial query method introduced in [notebook 04: Intro to the Butler](https://github.com/rubin-dp0/tutorial-notebooks/blob/main/04_Intro_to_Butler.ipynb)."
   ]
  },
  {
   "cell_type": "code",
   "execution_count": 35,
   "id": "5ebeca84-1d38-409b-8525-3e8bb5e0c0aa",
   "metadata": {
    "execution": {
     "iopub.execute_input": "2023-06-22T22:56:05.305540Z",
     "iopub.status.busy": "2023-06-22T22:56:05.304630Z",
     "iopub.status.idle": "2023-06-22T22:56:05.308683Z",
     "shell.execute_reply": "2023-06-22T22:56:05.308131Z",
     "shell.execute_reply.started": "2023-06-22T22:56:05.305506Z"
    },
    "tags": []
   },
   "outputs": [],
   "source": [
    "import lsst.sphgeom\n",
    "\n",
    "pixelization = lsst.sphgeom.HtmPixelization(12)"
   ]
  },
  {
   "cell_type": "code",
   "execution_count": 36,
   "id": "202ca902-361f-4feb-853b-e665cb0d2951",
   "metadata": {
    "execution": {
     "iopub.execute_input": "2023-06-22T22:56:06.173139Z",
     "iopub.status.busy": "2023-06-22T22:56:06.172455Z",
     "iopub.status.idle": "2023-06-22T22:56:06.178296Z",
     "shell.execute_reply": "2023-06-22T22:56:06.177412Z",
     "shell.execute_reply.started": "2023-06-22T22:56:06.173107Z"
    },
    "tags": []
   },
   "outputs": [
    {
     "name": "stdout",
     "output_type": "stream",
     "text": [
      "HTM ID=147183353 at level=12 is a ~6.7e+01\" triangle.\n"
     ]
    }
   ],
   "source": [
    "htm_id = pixelization.index(\n",
    "    lsst.sphgeom.UnitVector3d(\n",
    "        lsst.sphgeom.LonLat.fromDegrees(racen, deccen)\n",
    "    )\n",
    ")\n",
    "\n",
    "# Obtain and print the scale to provide a sense of the size of the sky pixelization being used\n",
    "scale = pixelization.triangle(htm_id).getBoundingCircle().getOpeningAngle().asDegrees()*3600\n",
    "print(f'HTM ID={htm_id} at level={pixelization.getLevel()} is a ~{scale:0.2}\" triangle.')"
   ]
  },
  {
   "cell_type": "markdown",
   "id": "3484fb71-9939-4ce7-b345-be7f804d50c7",
   "metadata": {},
   "source": [
    "#### Now query the registry for all \"calexp\" images overlapping the desired position:"
   ]
  },
  {
   "cell_type": "code",
   "execution_count": 37,
   "id": "d47c7be4-a872-44a4-98d9-24e6f8f7a63f",
   "metadata": {
    "execution": {
     "iopub.execute_input": "2023-06-22T22:56:07.637594Z",
     "iopub.status.busy": "2023-06-22T22:56:07.636827Z",
     "iopub.status.idle": "2023-06-22T22:56:08.020729Z",
     "shell.execute_reply": "2023-06-22T22:56:08.020079Z",
     "shell.execute_reply.started": "2023-06-22T22:56:07.637563Z"
    },
    "tags": []
   },
   "outputs": [
    {
     "name": "stdout",
     "output_type": "stream",
     "text": [
      "Found  524  calexps at that position.\n"
     ]
    }
   ],
   "source": [
    "datasetRefs = registry.queryDatasets(\"calexp\", htm20=htm_id)\n",
    "\n",
    "#print(\"Found \", datasetRefs.count(discard=True), \" calexps at that position.\")\n",
    "print(\"Found \", datasetRefs.count(), \" calexps at that position.\")"
   ]
  },
  {
   "cell_type": "markdown",
   "id": "2c975f67-11de-4165-8dbb-898ea6c7a49b",
   "metadata": {
    "tags": []
   },
   "source": [
    "That's nice, but it finds images from all bands overlapping the position in a single iterator. Let's get lists separately for each band:"
   ]
  },
  {
   "cell_type": "code",
   "execution_count": 38,
   "id": "e6ecb201-a53b-4c25-80e8-cee0ea43a857",
   "metadata": {
    "execution": {
     "iopub.execute_input": "2023-06-22T22:56:10.109482Z",
     "iopub.status.busy": "2023-06-22T22:56:10.108756Z",
     "iopub.status.idle": "2023-06-22T22:56:11.115159Z",
     "shell.execute_reply": "2023-06-22T22:56:11.114517Z",
     "shell.execute_reply.started": "2023-06-22T22:56:10.109438Z"
    },
    "tags": []
   },
   "outputs": [
    {
     "name": "stdout",
     "output_type": "stream",
     "text": [
      "Found  37  u-band calexps at that position.\n",
      "Found  51  g-band calexps at that position.\n",
      "Found  143  r-band calexps at that position.\n",
      "Found  131  i-band calexps at that position.\n"
     ]
    }
   ],
   "source": [
    "datasetRefs_u = registry.queryDatasets(\"calexp\", htm20=htm_id, band=\"u\")\n",
    "datasetRefs_g = registry.queryDatasets(\"calexp\", htm20=htm_id, band=\"g\")\n",
    "datasetRefs_r = registry.queryDatasets(\"calexp\", htm20=htm_id, band=\"r\")\n",
    "datasetRefs_i = registry.queryDatasets(\"calexp\", htm20=htm_id, band=\"i\")\n",
    "\n",
    "#print(\"Found \", datasetRefs_u.count(discard=True), \" u-band calexps at that position.\")\n",
    "#print(\"Found \", datasetRefs_g.count(discard=True), \" g-band calexps at that position.\")\n",
    "#print(\"Found \", datasetRefs_r.count(discard=True), \" r-band calexps at that position.\")\n",
    "#print(\"Found \", datasetRefs_i.count(discard=True), \" i-band calexps at that position.\")\n",
    "print(\"Found \", datasetRefs_u.count(), \" u-band calexps at that position.\")\n",
    "print(\"Found \", datasetRefs_g.count(), \" g-band calexps at that position.\")\n",
    "print(\"Found \", datasetRefs_r.count(), \" r-band calexps at that position.\")\n",
    "print(\"Found \", datasetRefs_i.count(), \" i-band calexps at that position.\")"
   ]
  },
  {
   "cell_type": "markdown",
   "id": "a4371855-afdb-48d2-a129-79cb9baf1a1f",
   "metadata": {},
   "source": [
    "For now, let's just grab the first image in the list for each band."
   ]
  },
  {
   "cell_type": "code",
   "execution_count": 39,
   "id": "a66283e9-99c7-43b2-abb6-71b2b220217a",
   "metadata": {
    "execution": {
     "iopub.execute_input": "2023-06-22T22:56:12.508226Z",
     "iopub.status.busy": "2023-06-22T22:56:12.507412Z",
     "iopub.status.idle": "2023-06-22T22:56:13.420223Z",
     "shell.execute_reply": "2023-06-22T22:56:13.419565Z",
     "shell.execute_reply.started": "2023-06-22T22:56:12.508185Z"
    },
    "tags": []
   },
   "outputs": [],
   "source": [
    "for i, ref in enumerate(datasetRefs_u):\n",
    "    uref = ref\n",
    "    if i > 0:\n",
    "        break\n",
    "\n",
    "for i, ref in enumerate(datasetRefs_g):\n",
    "    gref = ref\n",
    "    if i > 0:\n",
    "        break\n",
    "\n",
    "for i, ref in enumerate(datasetRefs_r):\n",
    "    rref = ref\n",
    "    if i > 0:\n",
    "        break\n",
    "\n",
    "for i, ref in enumerate(datasetRefs_i):\n",
    "    iref = ref\n",
    "    if i > 0:\n",
    "        break\n"
   ]
  },
  {
   "cell_type": "markdown",
   "id": "15ea6f09-1bf9-45c1-9b9b-2fa45e2b49a0",
   "metadata": {},
   "source": [
    "What does that `datasetRef` object look like?"
   ]
  },
  {
   "cell_type": "code",
   "execution_count": 40,
   "id": "28369ab2-97bc-4a7e-99e7-50eb45335b0f",
   "metadata": {
    "execution": {
     "iopub.execute_input": "2023-06-22T22:56:14.420370Z",
     "iopub.status.busy": "2023-06-22T22:56:14.419562Z",
     "iopub.status.idle": "2023-06-22T22:56:14.424928Z",
     "shell.execute_reply": "2023-06-22T22:56:14.424277Z",
     "shell.execute_reply.started": "2023-06-22T22:56:14.420336Z"
    },
    "tags": []
   },
   "outputs": [
    {
     "data": {
      "text/plain": [
       "DatasetRef(DatasetType('calexp', {band, instrument, detector, physical_filter, visit_system, visit}, ExposureF), {instrument: 'LSSTCam-imSim', detector: 11, visit: 654494, ...}, id=7017c318-ecf2-44c2-8cf6-120767dbe3ba, run='2.2i/runs/DP0.1/calexp/v1')"
      ]
     },
     "execution_count": 40,
     "metadata": {},
     "output_type": "execute_result"
    }
   ],
   "source": [
    "iref"
   ]
  },
  {
   "cell_type": "markdown",
   "id": "373b3c73",
   "metadata": {},
   "source": [
    "### Make stars and inject them into images:\n",
    "\n",
    "First, write a function (\"makeFakeStar\") that takes as inputs the position, flux (intensity), and the PSF, and returns an image of the PSF scaled to the desired flux at the input position.\n",
    "\n",
    "Next, we add a function (\"addFakeStars\") that takes the list of RAs, Decs, and magnitudes, and a `datasetRef` for a `calexp` image, and returns a version of the input `calexp` that has the fake stars injected into it. (This function calls \"makeFakeStar\" for each star in the list.)\n",
    "\n",
    "The source injection steps were developed following this piece of code as an example: https://github.com/lsst/pipe_tasks/blob/387f8f07a2b66205f9fa6bda9a89dcdbbef3f64c/tests/test_fakeProcessing.py"
   ]
  },
  {
   "cell_type": "code",
   "execution_count": 41,
   "id": "d9aa8aa7",
   "metadata": {
    "execution": {
     "iopub.execute_input": "2023-06-22T22:56:16.664244Z",
     "iopub.status.busy": "2023-06-22T22:56:16.663680Z",
     "iopub.status.idle": "2023-06-22T22:56:16.668442Z",
     "shell.execute_reply": "2023-06-22T22:56:16.667781Z",
     "shell.execute_reply.started": "2023-06-22T22:56:16.664203Z"
    },
    "tags": []
   },
   "outputs": [],
   "source": [
    "# make stars at a given position with a given intensity\n",
    "def makeFakeStar(position, intensity, psf):\n",
    "    psfImage = psf.computeImage(geom.Point2D(position.x, position.y)).getArray()\n",
    "    psfImage *= intensity\n",
    "    noise = np.random.normal(0, np.sqrt(abs(psfImage)))\n",
    "    return psfImage + noise, noise"
   ]
  },
  {
   "cell_type": "code",
   "execution_count": 42,
   "id": "3ac55d1f-ce5c-4e71-aaa1-2c0c5632493b",
   "metadata": {
    "execution": {
     "iopub.execute_input": "2023-06-22T22:56:18.727079Z",
     "iopub.status.busy": "2023-06-22T22:56:18.726830Z",
     "iopub.status.idle": "2023-06-22T22:56:18.735623Z",
     "shell.execute_reply": "2023-06-22T22:56:18.734934Z",
     "shell.execute_reply.started": "2023-06-22T22:56:18.727056Z"
    },
    "tags": []
   },
   "outputs": [],
   "source": [
    "def addFakeStars(ras, decs, mags, calexp_ref):\n",
    "    calexp_inp = butler.get('calexp', calexp_ref.dataId)\n",
    "    calexp_withFakes = calexp_inp.clone()\n",
    "\n",
    "    # Fetch objects from the exposure\n",
    "    psf = calexp_withFakes.getPsf()\n",
    "    image = calexp_withFakes.getMaskedImage().getImage()\n",
    "    variance = calexp_withFakes.getMaskedImage().getVariance()\n",
    "    wcs = calexp_withFakes.getWcs()\n",
    "    photocalib = calexp_withFakes.getPhotoCalib()\n",
    "\n",
    "    fluxes = []\n",
    "\n",
    "    # Use the \"photocalib\" from the calexp to convert magnitudes to instrumental fluxes:\n",
    "    for mag in mags:\n",
    "        fluxes.append(photocalib.magnitudeToInstFlux(mag))\n",
    "\n",
    "    # Get the corner coordinates of the image:\n",
    "    y0 = image.getY0()\n",
    "    x0 = image.getX0()\n",
    "    ymax = y0 + calexp_withFakes.getDimensions()[1]\n",
    "    xmax = x0 + calexp_withFakes.getDimensions()[0]\n",
    "\n",
    "    #xvals = []\n",
    "    #yvals = []\n",
    "    \n",
    "    # At each position create a star with the given intensity and add it\n",
    "    # to the image.\n",
    "    for ra, dec, intensity in zip(ras, decs, fluxes):\n",
    "        # Use the WCS to convert RA, Dec to X, Y pixel coordinates:\n",
    "        pos = wcs.skyToPixel(geom.SpherePoint(ra, dec, geom.degrees))\n",
    "        #xvals.append(pos.x)\n",
    "        #yvals.append(pos.y)\n",
    "\n",
    "        # Call \"makeFakeStar\" to get the image of a PSF-like object with the desired flux:\n",
    "        objArray, noiseArray = makeFakeStar(pos, intensity, psf)\n",
    "        psfRad = int((objArray.shape[0]-1)/2.)\n",
    "\n",
    "        # Check that the desired position is within the image:\n",
    "        oky = (pos.y > psfRad) & (pos.y < ymax - psfRad)\n",
    "        okx = (pos.x > psfRad) & (pos.x < xmax - psfRad)\n",
    "\n",
    "        if okx & oky:\n",
    "            yslice = slice(int(np.floor(pos.y - psfRad - y0)), int(np.floor(pos.y + psfRad + y0 + 1)))\n",
    "            xslice = slice(int(np.floor(pos.x - psfRad - x0)), int(np.floor(pos.x + psfRad + x0 + 1)))\n",
    "\n",
    "            print('Injecting source at x, y = ', pos.x, pos.y)\n",
    "\n",
    "            # NOTE: while image arrays are indexed with x, y, the extraction of the data into (numpy) arrays\n",
    "            # means that the returned arrays follow numpy's y, x convention.\n",
    "            # More on indexing: https://pipelines.lsst.io/modules/lsst.afw.image/indexing-conventions.html\n",
    "            image.getArray()[yslice, xslice] += objArray\n",
    "            variance.getArray()[yslice, xslice] += noiseArray**2\n",
    "        else:\n",
    "            print('Skipped injecting source at x, y = ', pos.x, pos.y, ' because it is too close to (or off) the edge.')\n",
    "\n",
    "    return calexp_inp, calexp_withFakes"
   ]
  },
  {
   "cell_type": "markdown",
   "id": "e5e78af4-6f87-453f-8391-2a4a845ef433",
   "metadata": {},
   "source": [
    "### Call the \"addFakeStars\" function to create calexp images with the artificial stars injected:"
   ]
  },
  {
   "cell_type": "code",
   "execution_count": 43,
   "id": "898f7dae-fdf3-4c75-b16b-59f8fba70cc4",
   "metadata": {
    "execution": {
     "iopub.execute_input": "2023-06-22T22:56:21.408375Z",
     "iopub.status.busy": "2023-06-22T22:56:21.407552Z",
     "iopub.status.idle": "2023-06-22T22:56:26.538346Z",
     "shell.execute_reply": "2023-06-22T22:56:26.537810Z",
     "shell.execute_reply.started": "2023-06-22T22:56:21.408332Z"
    },
    "tags": []
   },
   "outputs": [
    {
     "name": "stdout",
     "output_type": "stream",
     "text": [
      "Injecting source at x, y =  1815.232574209814 2172.9207571109437\n",
      "Injecting source at x, y =  1025.6882880759774 3780.9930130545226\n",
      "Injecting source at x, y =  3383.904026326003 3661.714241032448\n",
      "Injecting source at x, y =  3247.1083367766932 2052.1609588054753\n"
     ]
    }
   ],
   "source": [
    "calexp_orig_u, calexp_new_u = addFakeStars(fake_ras, fake_decs, fake_umags, uref)\n",
    "calexp_orig_g, calexp_new_g = addFakeStars(fake_ras, fake_decs, fake_gmags, gref)\n",
    "calexp_orig_r, calexp_new_r = addFakeStars(fake_ras, fake_decs, fake_rmags, rref)\n",
    "calexp_orig_i, calexp_new_i = addFakeStars(fake_ras, fake_decs, fake_imags, iref)"
   ]
  },
  {
   "cell_type": "markdown",
   "id": "a05a2147-24d6-42f1-82bd-5ef64c55d452",
   "metadata": {
    "tags": []
   },
   "source": [
    "### Wrap all of the detection and measurement steps in a function.\n",
    "\n",
    "The steps here follow the <a href=\"https://github.com/rubin-dp0/tutorial-notebooks/blob/main/05_Intro_to_Source_Detection.ipynb\">Intro to Source Detection</a> tutorial notebook, so rather than explain them in detail here, we simply wrap all the steps in a single function that can be executed for each image."
   ]
  },
  {
   "cell_type": "code",
   "execution_count": 44,
   "id": "0dd528c4-80e3-404f-b277-1d7c5f6d2065",
   "metadata": {
    "execution": {
     "iopub.execute_input": "2023-06-22T22:56:37.087241Z",
     "iopub.status.busy": "2023-06-22T22:56:37.086983Z",
     "iopub.status.idle": "2023-06-22T22:56:37.095021Z",
     "shell.execute_reply": "2023-06-22T22:56:37.094556Z",
     "shell.execute_reply.started": "2023-06-22T22:56:37.087217Z"
    },
    "tags": []
   },
   "outputs": [],
   "source": [
    "def processFakes(calexp_inp):\n",
    "    \n",
    "    # Create a basic schema to use with these tasks\n",
    "    schema = afwTable.SourceTable.makeMinimalSchema()\n",
    "\n",
    "    # Create a container which will be used to record metadata about algorithm execution\n",
    "    algMetadata = dafBase.PropertyList()\n",
    "\n",
    "    # Initialize CharacterizeImageTask and its configuration:\n",
    "    config = CharacterizeImageTask.ConfigClass()\n",
    "    config.psfIterations = 1\n",
    "    charImageTask = CharacterizeImageTask(None, config=config)\n",
    "\n",
    "    # Initialize SourceDetectionTask and its configuration:\n",
    "    config = SourceDetectionTask.ConfigClass()\n",
    "    config.thresholdValue = 10      # detection threshold in units of thresholdType\n",
    "    config.thresholdType = \"stdev\"   # units for thresholdValue\n",
    "    sourceDetectionTask = SourceDetectionTask(schema=schema, config=config)\n",
    "    sourceDeblendTask = SourceDeblendTask(schema=schema)\n",
    "\n",
    "    # Initialize SingleFrameMeasurementTask and its configuration:\n",
    "    config = SingleFrameMeasurementTask.ConfigClass()\n",
    "    sourceMeasurementTask = SingleFrameMeasurementTask(schema=schema, config=config, algMetadata=algMetadata)\n",
    "\n",
    "    # Make an empty table that we'll put the results in:\n",
    "    tab = afwTable.SourceTable.make(schema)\n",
    "    \n",
    "    # Image characterization\n",
    "    result = charImageTask.run(calexp_inp)\n",
    "\n",
    "    # Get the PSF and some image properties\n",
    "    psf = calexp_inp.getPsf()\n",
    "    sigma = psf.computeShape().getDeterminantRadius()\n",
    "    pixelScale = calexp_inp.getWcs().getPixelScale().asArcseconds()\n",
    "\n",
    "    # The factor of 2.355 converts from std to fwhm\n",
    "    print('psf fwhm = {:.2f} arcsec'.format(sigma*pixelScale*2.355))\n",
    "    \n",
    "    # Run source detection\n",
    "    result = sourceDetectionTask.run(tab, calexp_inp)\n",
    "    \n",
    "    sources = result.sources\n",
    "    \n",
    "    # Run source deblending\n",
    "    sourceDeblendTask.run(calexp_inp, sources)\n",
    "\n",
    "    # Run source measurement\n",
    "    sourceMeasurementTask.run(measCat=sources, exposure=calexp_inp)\n",
    "\n",
    "    # The copy makes sure that the sources are sequential in memory\n",
    "    sources = sources.copy(True)\n",
    "    \n",
    "    # For convenience, return an Astropy table:\n",
    "    source_tab = sources.asAstropy()\n",
    "    \n",
    "    # Convert fluxes to magnitudes and add them to the table\n",
    "    photocalib = calexp_inp.getPhotoCalib()\n",
    "    psfmags = photocalib.instFluxToMagnitude(sources, 'base_PsfFlux')\n",
    "    source_tab.add_columns([psfmags[:,0], psfmags[:,1]], names=['mag_psf', 'magerr_psf'])\n",
    "    \n",
    "    return(source_tab)"
   ]
  },
  {
   "cell_type": "markdown",
   "id": "c1fd9490-5b58-4799-9987-785583ab97c4",
   "metadata": {
    "tags": []
   },
   "source": [
    "### Run the \"processFakes\" function on each image that we injected fake stars into\n",
    "\n",
    "**This may take at least a couple minutes to run**"
   ]
  },
  {
   "cell_type": "code",
   "execution_count": 45,
   "id": "cee54085-8f58-4ecc-bb17-67ae4016ac67",
   "metadata": {
    "execution": {
     "iopub.execute_input": "2023-06-22T22:56:39.177668Z",
     "iopub.status.busy": "2023-06-22T22:56:39.177442Z",
     "iopub.status.idle": "2023-06-22T22:57:51.165418Z",
     "shell.execute_reply": "2023-06-22T22:57:51.164791Z",
     "shell.execute_reply.started": "2023-06-22T22:56:39.177646Z"
    },
    "tags": []
   },
   "outputs": [
    {
     "data": {
      "text/html": [
       "<pre style=\"margin: 0.1em;\n",
       "padding-left: 0.25em;\n",
       "border-left-style: solid;\n",
       "font-family: var(--jp-code-font-family);\n",
       "font-size: var(--jp-code-font-size);\n",
       "line-height: var(--jp-code-line-height);\n",
       "\"><span style=\"color: var(--jp-warn-color2)\">lsst.characterizeImage</span> <span style=\"color: var(--jp-info-color0)\">INFO</span>: PSF estimation initialized with &#x27;simple&#x27; PSF</pre>"
      ],
      "text/plain": [
       "<IPython.core.display.HTML object>"
      ]
     },
     "metadata": {},
     "output_type": "display_data"
    },
    {
     "name": "stderr",
     "output_type": "stream",
     "text": [
      "/opt/lsst/software/stack/stack/miniconda3-py38_4.9.2-3.0.0/Linux64/meas_algorithms/gbe01a4569f+96caca4d65/python/lsst/meas/algorithms/installGaussianPsf.py:77: FutureWarning: Default position argument overload is deprecated and will be removed in version 24.0.  Please explicitly specify a position.\n",
      "  psfSigma = psfModel.computeShape().getDeterminantRadius()\n",
      "/opt/lsst/software/stack/stack/miniconda3-py38_4.9.2-3.0.0/Linux64/meas_algorithms/gbe01a4569f+96caca4d65/python/lsst/meas/algorithms/installGaussianPsf.py:78: FutureWarning: Default position argument overload is deprecated and will be removed in version 24.0.  Please explicitly specify a position.\n",
      "  width, height = psfModel.computeImage().getDimensions()\n"
     ]
    },
    {
     "data": {
      "text/html": [
       "<pre style=\"margin: 0.1em;\n",
       "padding-left: 0.25em;\n",
       "border-left-style: solid;\n",
       "font-family: var(--jp-code-font-family);\n",
       "font-size: var(--jp-code-font-size);\n",
       "line-height: var(--jp-code-line-height);\n",
       "\"><span style=\"color: var(--jp-warn-color2)\">lsst.characterizeImage.repair</span> <span style=\"color: var(--jp-info-color0)\">INFO</span>: Identified 0 cosmic rays.</pre>"
      ],
      "text/plain": [
       "<IPython.core.display.HTML object>"
      ]
     },
     "metadata": {},
     "output_type": "display_data"
    },
    {
     "name": "stderr",
     "output_type": "stream",
     "text": [
      "/opt/lsst/software/stack/stack/miniconda3-py38_4.9.2-3.0.0/Linux64/meas_algorithms/gbe01a4569f+96caca4d65/python/lsst/meas/algorithms/detection.py:410: FutureWarning: Default position argument overload is deprecated and will be removed in version 24.0.  Please explicitly specify a position.\n",
      "  sigma = psf.computeShape().getDeterminantRadius()\n",
      "/opt/lsst/software/stack/stack/miniconda3-py38_4.9.2-3.0.0/Linux64/meas_algorithms/gbe01a4569f+96caca4d65/python/lsst/meas/algorithms/detection.py:447: FutureWarning: Default position argument overload is deprecated and will be removed in version 24.0.  Please explicitly specify a position.\n",
      "  sigma = psf.computeShape().getDeterminantRadius()\n"
     ]
    },
    {
     "data": {
      "text/html": [
       "<pre style=\"margin: 0.1em;\n",
       "padding-left: 0.25em;\n",
       "border-left-style: solid;\n",
       "font-family: var(--jp-code-font-family);\n",
       "font-size: var(--jp-code-font-size);\n",
       "line-height: var(--jp-code-line-height);\n",
       "\"><span style=\"color: var(--jp-warn-color2)\">lsst.characterizeImage.detection</span> <span style=\"color: var(--jp-info-color0)\">INFO</span>: Detected 95 positive peaks in 85 footprints and 0 negative peaks in 0 footprints to 50 sigma</pre>"
      ],
      "text/plain": [
       "<IPython.core.display.HTML object>"
      ]
     },
     "metadata": {},
     "output_type": "display_data"
    },
    {
     "data": {
      "text/html": [
       "<pre style=\"margin: 0.1em;\n",
       "padding-left: 0.25em;\n",
       "border-left-style: solid;\n",
       "font-family: var(--jp-code-font-family);\n",
       "font-size: var(--jp-code-font-size);\n",
       "line-height: var(--jp-code-line-height);\n",
       "\"><span style=\"color: var(--jp-warn-color2)\">lsst.characterizeImage.detection</span> <span style=\"color: var(--jp-info-color0)\">INFO</span>: Resubtracting the background after object detection</pre>"
      ],
      "text/plain": [
       "<IPython.core.display.HTML object>"
      ]
     },
     "metadata": {},
     "output_type": "display_data"
    },
    {
     "data": {
      "text/html": [
       "<pre style=\"margin: 0.1em;\n",
       "padding-left: 0.25em;\n",
       "border-left-style: solid;\n",
       "font-family: var(--jp-code-font-family);\n",
       "font-size: var(--jp-code-font-size);\n",
       "line-height: var(--jp-code-line-height);\n",
       "\"><span style=\"color: var(--jp-warn-color2)\">lsst.characterizeImage.measurement</span> <span style=\"color: var(--jp-info-color0)\">INFO</span>: Measuring 85 sources (85 parents, 0 children) </pre>"
      ],
      "text/plain": [
       "<IPython.core.display.HTML object>"
      ]
     },
     "metadata": {},
     "output_type": "display_data"
    },
    {
     "data": {
      "text/html": [
       "<pre style=\"margin: 0.1em;\n",
       "padding-left: 0.25em;\n",
       "border-left-style: solid;\n",
       "font-family: var(--jp-code-font-family);\n",
       "font-size: var(--jp-code-font-size);\n",
       "line-height: var(--jp-code-line-height);\n",
       "\"><span style=\"color: var(--jp-warn-color2)\">lsst.characterizeImage.measurePsf</span> <span style=\"color: var(--jp-info-color0)\">INFO</span>: Measuring PSF</pre>"
      ],
      "text/plain": [
       "<IPython.core.display.HTML object>"
      ]
     },
     "metadata": {},
     "output_type": "display_data"
    },
    {
     "data": {
      "text/html": [
       "<pre style=\"margin: 0.1em;\n",
       "padding-left: 0.25em;\n",
       "border-left-style: solid;\n",
       "font-family: var(--jp-code-font-family);\n",
       "font-size: var(--jp-code-font-size);\n",
       "line-height: var(--jp-code-line-height);\n",
       "\"><span style=\"color: var(--jp-warn-color2)\">lsst.characterizeImage.measurePsf</span> <span style=\"color: var(--jp-info-color0)\">INFO</span>: PSF star selector found 41 candidates</pre>"
      ],
      "text/plain": [
       "<IPython.core.display.HTML object>"
      ]
     },
     "metadata": {},
     "output_type": "display_data"
    },
    {
     "data": {
      "text/html": [
       "<pre style=\"margin: 0.1em;\n",
       "padding-left: 0.25em;\n",
       "border-left-style: solid;\n",
       "font-family: var(--jp-code-font-family);\n",
       "font-size: var(--jp-code-font-size);\n",
       "line-height: var(--jp-code-line-height);\n",
       "\"><span style=\"color: var(--jp-warn-color2)\">lsst.characterizeImage.measurePsf.reserve</span> <span style=\"color: var(--jp-info-color0)\">INFO</span>: Reserved 0/41 sources</pre>"
      ],
      "text/plain": [
       "<IPython.core.display.HTML object>"
      ]
     },
     "metadata": {},
     "output_type": "display_data"
    },
    {
     "data": {
      "text/html": [
       "<pre style=\"margin: 0.1em;\n",
       "padding-left: 0.25em;\n",
       "border-left-style: solid;\n",
       "font-family: var(--jp-code-font-family);\n",
       "font-size: var(--jp-code-font-size);\n",
       "line-height: var(--jp-code-line-height);\n",
       "\"><span style=\"color: var(--jp-warn-color2)\">lsst.characterizeImage.measurePsf</span> <span style=\"color: var(--jp-info-color0)\">INFO</span>: Sending 41 candidates to PSF determiner</pre>"
      ],
      "text/plain": [
       "<IPython.core.display.HTML object>"
      ]
     },
     "metadata": {},
     "output_type": "display_data"
    },
    {
     "data": {
      "text/html": [
       "<pre style=\"margin: 0.1em;\n",
       "padding-left: 0.25em;\n",
       "border-left-style: solid;\n",
       "font-family: var(--jp-code-font-family);\n",
       "font-size: var(--jp-code-font-size);\n",
       "line-height: var(--jp-code-line-height);\n",
       "\"><span style=\"color: var(--jp-warn-color2)\">lsst.characterizeImage.measurePsf.psfDeterminer</span> <span style=\"color: var(--jp-warn-color0)\">WARNING</span>: NOT scaling kernelSize by stellar quadrupole moment, but using absolute value</pre>"
      ],
      "text/plain": [
       "<IPython.core.display.HTML object>"
      ]
     },
     "metadata": {},
     "output_type": "display_data"
    },
    {
     "data": {
      "text/html": [
       "<pre style=\"margin: 0.1em;\n",
       "padding-left: 0.25em;\n",
       "border-left-style: solid;\n",
       "font-family: var(--jp-code-font-family);\n",
       "font-size: var(--jp-code-font-size);\n",
       "line-height: var(--jp-code-line-height);\n",
       "\"><span style=\"color: var(--jp-warn-color2)\">lsst.characterizeImage.measurePsf</span> <span style=\"color: var(--jp-info-color0)\">INFO</span>: PSF determination using 41/41 stars.</pre>"
      ],
      "text/plain": [
       "<IPython.core.display.HTML object>"
      ]
     },
     "metadata": {},
     "output_type": "display_data"
    },
    {
     "data": {
      "text/html": [
       "<pre style=\"margin: 0.1em;\n",
       "padding-left: 0.25em;\n",
       "border-left-style: solid;\n",
       "font-family: var(--jp-code-font-family);\n",
       "font-size: var(--jp-code-font-size);\n",
       "line-height: var(--jp-code-line-height);\n",
       "\"><span style=\"color: var(--jp-warn-color2)\">lsst.characterizeImage</span> <span style=\"color: var(--jp-info-color0)\">INFO</span>: iter 1; PSF sigma=2.12, dimensions=(41, 41); median background=0.05</pre>"
      ],
      "text/plain": [
       "<IPython.core.display.HTML object>"
      ]
     },
     "metadata": {},
     "output_type": "display_data"
    },
    {
     "data": {
      "text/html": [
       "<pre style=\"margin: 0.1em;\n",
       "padding-left: 0.25em;\n",
       "border-left-style: solid;\n",
       "font-family: var(--jp-code-font-family);\n",
       "font-size: var(--jp-code-font-size);\n",
       "line-height: var(--jp-code-line-height);\n",
       "\"><span style=\"color: var(--jp-warn-color2)\">lsst.characterizeImage.repair</span> <span style=\"color: var(--jp-info-color0)\">INFO</span>: Identified 0 cosmic rays.</pre>"
      ],
      "text/plain": [
       "<IPython.core.display.HTML object>"
      ]
     },
     "metadata": {},
     "output_type": "display_data"
    },
    {
     "data": {
      "text/html": [
       "<pre style=\"margin: 0.1em;\n",
       "padding-left: 0.25em;\n",
       "border-left-style: solid;\n",
       "font-family: var(--jp-code-font-family);\n",
       "font-size: var(--jp-code-font-size);\n",
       "line-height: var(--jp-code-line-height);\n",
       "\"><span style=\"color: var(--jp-warn-color2)\">lsst.characterizeImage.measurement</span> <span style=\"color: var(--jp-info-color0)\">INFO</span>: Measuring 85 sources (85 parents, 0 children) </pre>"
      ],
      "text/plain": [
       "<IPython.core.display.HTML object>"
      ]
     },
     "metadata": {},
     "output_type": "display_data"
    },
    {
     "data": {
      "text/html": [
       "<pre style=\"margin: 0.1em;\n",
       "padding-left: 0.25em;\n",
       "border-left-style: solid;\n",
       "font-family: var(--jp-code-font-family);\n",
       "font-size: var(--jp-code-font-size);\n",
       "line-height: var(--jp-code-line-height);\n",
       "\"><span style=\"color: var(--jp-warn-color2)\">lsst.characterizeImage.measureApCorr</span> <span style=\"color: var(--jp-info-color0)\">INFO</span>: Measuring aperture corrections for 2 flux fields</pre>"
      ],
      "text/plain": [
       "<IPython.core.display.HTML object>"
      ]
     },
     "metadata": {},
     "output_type": "display_data"
    },
    {
     "data": {
      "text/html": [
       "<pre style=\"margin: 0.1em;\n",
       "padding-left: 0.25em;\n",
       "border-left-style: solid;\n",
       "font-family: var(--jp-code-font-family);\n",
       "font-size: var(--jp-code-font-size);\n",
       "line-height: var(--jp-code-line-height);\n",
       "\"><span style=\"color: var(--jp-warn-color2)\">lsst.characterizeImage.measureApCorr</span> <span style=\"color: var(--jp-info-color0)\">INFO</span>: Aperture correction for base_GaussianFlux: RMS 0.005027 from 40</pre>"
      ],
      "text/plain": [
       "<IPython.core.display.HTML object>"
      ]
     },
     "metadata": {},
     "output_type": "display_data"
    },
    {
     "data": {
      "text/html": [
       "<pre style=\"margin: 0.1em;\n",
       "padding-left: 0.25em;\n",
       "border-left-style: solid;\n",
       "font-family: var(--jp-code-font-family);\n",
       "font-size: var(--jp-code-font-size);\n",
       "line-height: var(--jp-code-line-height);\n",
       "\"><span style=\"color: var(--jp-warn-color2)\">lsst.characterizeImage.measureApCorr</span> <span style=\"color: var(--jp-info-color0)\">INFO</span>: Aperture correction for base_PsfFlux: RMS 0.006225 from 41</pre>"
      ],
      "text/plain": [
       "<IPython.core.display.HTML object>"
      ]
     },
     "metadata": {},
     "output_type": "display_data"
    },
    {
     "data": {
      "text/html": [
       "<pre style=\"margin: 0.1em;\n",
       "padding-left: 0.25em;\n",
       "border-left-style: solid;\n",
       "font-family: var(--jp-code-font-family);\n",
       "font-size: var(--jp-code-font-size);\n",
       "line-height: var(--jp-code-line-height);\n",
       "\"><span style=\"color: var(--jp-warn-color2)\">lsst.characterizeImage.applyApCorr</span> <span style=\"color: var(--jp-info-color0)\">INFO</span>: Applying aperture corrections to 2 instFlux fields</pre>"
      ],
      "text/plain": [
       "<IPython.core.display.HTML object>"
      ]
     },
     "metadata": {},
     "output_type": "display_data"
    },
    {
     "name": "stderr",
     "output_type": "stream",
     "text": [
      "/tmp/ipykernel_713/125701312.py:33: FutureWarning: Default position argument overload is deprecated and will be removed in version 24.0.  Please explicitly specify a position.\n",
      "  sigma = psf.computeShape().getDeterminantRadius()\n",
      "/opt/lsst/software/stack/stack/miniconda3-py38_4.9.2-3.0.0/Linux64/meas_algorithms/gbe01a4569f+96caca4d65/python/lsst/meas/algorithms/detection.py:410: FutureWarning: Default position argument overload is deprecated and will be removed in version 24.0.  Please explicitly specify a position.\n",
      "  sigma = psf.computeShape().getDeterminantRadius()\n",
      "/opt/lsst/software/stack/stack/miniconda3-py38_4.9.2-3.0.0/Linux64/meas_algorithms/gbe01a4569f+96caca4d65/python/lsst/meas/algorithms/detection.py:447: FutureWarning: Default position argument overload is deprecated and will be removed in version 24.0.  Please explicitly specify a position.\n",
      "  sigma = psf.computeShape().getDeterminantRadius()\n"
     ]
    },
    {
     "name": "stdout",
     "output_type": "stream",
     "text": [
      "psf fwhm = 1.00 arcsec\n"
     ]
    },
    {
     "data": {
      "text/html": [
       "<pre style=\"margin: 0.1em;\n",
       "padding-left: 0.25em;\n",
       "border-left-style: solid;\n",
       "font-family: var(--jp-code-font-family);\n",
       "font-size: var(--jp-code-font-size);\n",
       "line-height: var(--jp-code-line-height);\n",
       "\"><span style=\"color: var(--jp-warn-color2)\">lsst.sourceDetection</span> <span style=\"color: var(--jp-info-color0)\">INFO</span>: Detected 338 positive peaks in 332 footprints and 0 negative peaks in 0 footprints to 10 sigma</pre>"
      ],
      "text/plain": [
       "<IPython.core.display.HTML object>"
      ]
     },
     "metadata": {},
     "output_type": "display_data"
    },
    {
     "data": {
      "text/html": [
       "<pre style=\"margin: 0.1em;\n",
       "padding-left: 0.25em;\n",
       "border-left-style: solid;\n",
       "font-family: var(--jp-code-font-family);\n",
       "font-size: var(--jp-code-font-size);\n",
       "line-height: var(--jp-code-line-height);\n",
       "\"><span style=\"color: var(--jp-warn-color2)\">lsst.sourceDetection</span> <span style=\"color: var(--jp-info-color0)\">INFO</span>: Resubtracting the background after object detection</pre>"
      ],
      "text/plain": [
       "<IPython.core.display.HTML object>"
      ]
     },
     "metadata": {},
     "output_type": "display_data"
    },
    {
     "data": {
      "text/html": [
       "<pre style=\"margin: 0.1em;\n",
       "padding-left: 0.25em;\n",
       "border-left-style: solid;\n",
       "font-family: var(--jp-code-font-family);\n",
       "font-size: var(--jp-code-font-size);\n",
       "line-height: var(--jp-code-line-height);\n",
       "\"><span style=\"color: var(--jp-warn-color2)\">lsst.sourceDeblend</span> <span style=\"color: var(--jp-info-color0)\">INFO</span>: Deblending 332 sources</pre>"
      ],
      "text/plain": [
       "<IPython.core.display.HTML object>"
      ]
     },
     "metadata": {},
     "output_type": "display_data"
    },
    {
     "name": "stderr",
     "output_type": "stream",
     "text": [
      "/opt/lsst/software/stack/stack/miniconda3-py38_4.9.2-3.0.0/Linux64/meas_deblender/g359a236c20+7ff1c4ce37/python/lsst/meas/deblender/sourceDeblendTask.py:281: FutureWarning: Default position argument overload is deprecated and will be removed in version 24.0.  Please explicitly specify a position.\n",
      "  return psf.computeShape().getDeterminantRadius() * 2.35\n"
     ]
    },
    {
     "data": {
      "text/html": [
       "<pre style=\"margin: 0.1em;\n",
       "padding-left: 0.25em;\n",
       "border-left-style: solid;\n",
       "font-family: var(--jp-code-font-family);\n",
       "font-size: var(--jp-code-font-size);\n",
       "line-height: var(--jp-code-line-height);\n",
       "\"><span style=\"color: var(--jp-warn-color2)\">lsst.sourceDeblend</span> <span style=\"color: var(--jp-info-color0)\">INFO</span>: Deblended: of 332 sources, 6 were deblended, creating 12 children, total 344 sources</pre>"
      ],
      "text/plain": [
       "<IPython.core.display.HTML object>"
      ]
     },
     "metadata": {},
     "output_type": "display_data"
    },
    {
     "data": {
      "text/html": [
       "<pre style=\"margin: 0.1em;\n",
       "padding-left: 0.25em;\n",
       "border-left-style: solid;\n",
       "font-family: var(--jp-code-font-family);\n",
       "font-size: var(--jp-code-font-size);\n",
       "line-height: var(--jp-code-line-height);\n",
       "\"><span style=\"color: var(--jp-warn-color2)\">lsst.measurement</span> <span style=\"color: var(--jp-info-color0)\">INFO</span>: Measuring 344 sources (332 parents, 12 children) </pre>"
      ],
      "text/plain": [
       "<IPython.core.display.HTML object>"
      ]
     },
     "metadata": {},
     "output_type": "display_data"
    },
    {
     "data": {
      "text/html": [
       "<pre style=\"margin: 0.1em;\n",
       "padding-left: 0.25em;\n",
       "border-left-style: solid;\n",
       "font-family: var(--jp-code-font-family);\n",
       "font-size: var(--jp-code-font-size);\n",
       "line-height: var(--jp-code-line-height);\n",
       "\"><span style=\"color: var(--jp-warn-color2)\">lsst.characterizeImage</span> <span style=\"color: var(--jp-info-color0)\">INFO</span>: PSF estimation initialized with &#x27;simple&#x27; PSF</pre>"
      ],
      "text/plain": [
       "<IPython.core.display.HTML object>"
      ]
     },
     "metadata": {},
     "output_type": "display_data"
    },
    {
     "name": "stderr",
     "output_type": "stream",
     "text": [
      "/opt/lsst/software/stack/stack/miniconda3-py38_4.9.2-3.0.0/Linux64/meas_algorithms/gbe01a4569f+96caca4d65/python/lsst/meas/algorithms/installGaussianPsf.py:77: FutureWarning: Default position argument overload is deprecated and will be removed in version 24.0.  Please explicitly specify a position.\n",
      "  psfSigma = psfModel.computeShape().getDeterminantRadius()\n",
      "/opt/lsst/software/stack/stack/miniconda3-py38_4.9.2-3.0.0/Linux64/meas_algorithms/gbe01a4569f+96caca4d65/python/lsst/meas/algorithms/installGaussianPsf.py:78: FutureWarning: Default position argument overload is deprecated and will be removed in version 24.0.  Please explicitly specify a position.\n",
      "  width, height = psfModel.computeImage().getDimensions()\n"
     ]
    },
    {
     "data": {
      "text/html": [
       "<pre style=\"margin: 0.1em;\n",
       "padding-left: 0.25em;\n",
       "border-left-style: solid;\n",
       "font-family: var(--jp-code-font-family);\n",
       "font-size: var(--jp-code-font-size);\n",
       "line-height: var(--jp-code-line-height);\n",
       "\"><span style=\"color: var(--jp-warn-color2)\">lsst.characterizeImage.repair</span> <span style=\"color: var(--jp-info-color0)\">INFO</span>: Identified 2 cosmic rays.</pre>"
      ],
      "text/plain": [
       "<IPython.core.display.HTML object>"
      ]
     },
     "metadata": {},
     "output_type": "display_data"
    },
    {
     "name": "stderr",
     "output_type": "stream",
     "text": [
      "/opt/lsst/software/stack/stack/miniconda3-py38_4.9.2-3.0.0/Linux64/meas_algorithms/gbe01a4569f+96caca4d65/python/lsst/meas/algorithms/detection.py:410: FutureWarning: Default position argument overload is deprecated and will be removed in version 24.0.  Please explicitly specify a position.\n",
      "  sigma = psf.computeShape().getDeterminantRadius()\n",
      "/opt/lsst/software/stack/stack/miniconda3-py38_4.9.2-3.0.0/Linux64/meas_algorithms/gbe01a4569f+96caca4d65/python/lsst/meas/algorithms/detection.py:447: FutureWarning: Default position argument overload is deprecated and will be removed in version 24.0.  Please explicitly specify a position.\n",
      "  sigma = psf.computeShape().getDeterminantRadius()\n"
     ]
    },
    {
     "data": {
      "text/html": [
       "<pre style=\"margin: 0.1em;\n",
       "padding-left: 0.25em;\n",
       "border-left-style: solid;\n",
       "font-family: var(--jp-code-font-family);\n",
       "font-size: var(--jp-code-font-size);\n",
       "line-height: var(--jp-code-line-height);\n",
       "\"><span style=\"color: var(--jp-warn-color2)\">lsst.characterizeImage.detection</span> <span style=\"color: var(--jp-info-color0)\">INFO</span>: Detected 283 positive peaks in 196 footprints and 0 negative peaks in 0 footprints to 50 sigma</pre>"
      ],
      "text/plain": [
       "<IPython.core.display.HTML object>"
      ]
     },
     "metadata": {},
     "output_type": "display_data"
    },
    {
     "data": {
      "text/html": [
       "<pre style=\"margin: 0.1em;\n",
       "padding-left: 0.25em;\n",
       "border-left-style: solid;\n",
       "font-family: var(--jp-code-font-family);\n",
       "font-size: var(--jp-code-font-size);\n",
       "line-height: var(--jp-code-line-height);\n",
       "\"><span style=\"color: var(--jp-warn-color2)\">lsst.characterizeImage.detection</span> <span style=\"color: var(--jp-info-color0)\">INFO</span>: Resubtracting the background after object detection</pre>"
      ],
      "text/plain": [
       "<IPython.core.display.HTML object>"
      ]
     },
     "metadata": {},
     "output_type": "display_data"
    },
    {
     "data": {
      "text/html": [
       "<pre style=\"margin: 0.1em;\n",
       "padding-left: 0.25em;\n",
       "border-left-style: solid;\n",
       "font-family: var(--jp-code-font-family);\n",
       "font-size: var(--jp-code-font-size);\n",
       "line-height: var(--jp-code-line-height);\n",
       "\"><span style=\"color: var(--jp-warn-color2)\">lsst.characterizeImage.measurement</span> <span style=\"color: var(--jp-info-color0)\">INFO</span>: Measuring 196 sources (196 parents, 0 children) </pre>"
      ],
      "text/plain": [
       "<IPython.core.display.HTML object>"
      ]
     },
     "metadata": {},
     "output_type": "display_data"
    },
    {
     "data": {
      "text/html": [
       "<pre style=\"margin: 0.1em;\n",
       "padding-left: 0.25em;\n",
       "border-left-style: solid;\n",
       "font-family: var(--jp-code-font-family);\n",
       "font-size: var(--jp-code-font-size);\n",
       "line-height: var(--jp-code-line-height);\n",
       "\"><span style=\"color: var(--jp-warn-color2)\">lsst.characterizeImage.measurePsf</span> <span style=\"color: var(--jp-info-color0)\">INFO</span>: Measuring PSF</pre>"
      ],
      "text/plain": [
       "<IPython.core.display.HTML object>"
      ]
     },
     "metadata": {},
     "output_type": "display_data"
    },
    {
     "data": {
      "text/html": [
       "<pre style=\"margin: 0.1em;\n",
       "padding-left: 0.25em;\n",
       "border-left-style: solid;\n",
       "font-family: var(--jp-code-font-family);\n",
       "font-size: var(--jp-code-font-size);\n",
       "line-height: var(--jp-code-line-height);\n",
       "\"><span style=\"color: var(--jp-warn-color2)\">lsst.characterizeImage.measurePsf</span> <span style=\"color: var(--jp-info-color0)\">INFO</span>: PSF star selector found 108 candidates</pre>"
      ],
      "text/plain": [
       "<IPython.core.display.HTML object>"
      ]
     },
     "metadata": {},
     "output_type": "display_data"
    },
    {
     "data": {
      "text/html": [
       "<pre style=\"margin: 0.1em;\n",
       "padding-left: 0.25em;\n",
       "border-left-style: solid;\n",
       "font-family: var(--jp-code-font-family);\n",
       "font-size: var(--jp-code-font-size);\n",
       "line-height: var(--jp-code-line-height);\n",
       "\"><span style=\"color: var(--jp-warn-color2)\">lsst.characterizeImage.measurePsf.reserve</span> <span style=\"color: var(--jp-info-color0)\">INFO</span>: Reserved 0/108 sources</pre>"
      ],
      "text/plain": [
       "<IPython.core.display.HTML object>"
      ]
     },
     "metadata": {},
     "output_type": "display_data"
    },
    {
     "data": {
      "text/html": [
       "<pre style=\"margin: 0.1em;\n",
       "padding-left: 0.25em;\n",
       "border-left-style: solid;\n",
       "font-family: var(--jp-code-font-family);\n",
       "font-size: var(--jp-code-font-size);\n",
       "line-height: var(--jp-code-line-height);\n",
       "\"><span style=\"color: var(--jp-warn-color2)\">lsst.characterizeImage.measurePsf</span> <span style=\"color: var(--jp-info-color0)\">INFO</span>: Sending 108 candidates to PSF determiner</pre>"
      ],
      "text/plain": [
       "<IPython.core.display.HTML object>"
      ]
     },
     "metadata": {},
     "output_type": "display_data"
    },
    {
     "data": {
      "text/html": [
       "<pre style=\"margin: 0.1em;\n",
       "padding-left: 0.25em;\n",
       "border-left-style: solid;\n",
       "font-family: var(--jp-code-font-family);\n",
       "font-size: var(--jp-code-font-size);\n",
       "line-height: var(--jp-code-line-height);\n",
       "\"><span style=\"color: var(--jp-warn-color2)\">lsst.characterizeImage.measurePsf.psfDeterminer</span> <span style=\"color: var(--jp-warn-color0)\">WARNING</span>: NOT scaling kernelSize by stellar quadrupole moment, but using absolute value</pre>"
      ],
      "text/plain": [
       "<IPython.core.display.HTML object>"
      ]
     },
     "metadata": {},
     "output_type": "display_data"
    },
    {
     "data": {
      "text/html": [
       "<pre style=\"margin: 0.1em;\n",
       "padding-left: 0.25em;\n",
       "border-left-style: solid;\n",
       "font-family: var(--jp-code-font-family);\n",
       "font-size: var(--jp-code-font-size);\n",
       "line-height: var(--jp-code-line-height);\n",
       "\"><span style=\"color: var(--jp-warn-color2)\">lsst.characterizeImage.measurePsf</span> <span style=\"color: var(--jp-info-color0)\">INFO</span>: PSF determination using 105/108 stars.</pre>"
      ],
      "text/plain": [
       "<IPython.core.display.HTML object>"
      ]
     },
     "metadata": {},
     "output_type": "display_data"
    },
    {
     "data": {
      "text/html": [
       "<pre style=\"margin: 0.1em;\n",
       "padding-left: 0.25em;\n",
       "border-left-style: solid;\n",
       "font-family: var(--jp-code-font-family);\n",
       "font-size: var(--jp-code-font-size);\n",
       "line-height: var(--jp-code-line-height);\n",
       "\"><span style=\"color: var(--jp-warn-color2)\">lsst.characterizeImage</span> <span style=\"color: var(--jp-info-color0)\">INFO</span>: iter 1; PSF sigma=2.57, dimensions=(41, 41); median background=0.44</pre>"
      ],
      "text/plain": [
       "<IPython.core.display.HTML object>"
      ]
     },
     "metadata": {},
     "output_type": "display_data"
    },
    {
     "data": {
      "text/html": [
       "<pre style=\"margin: 0.1em;\n",
       "padding-left: 0.25em;\n",
       "border-left-style: solid;\n",
       "font-family: var(--jp-code-font-family);\n",
       "font-size: var(--jp-code-font-size);\n",
       "line-height: var(--jp-code-line-height);\n",
       "\"><span style=\"color: var(--jp-warn-color2)\">lsst.characterizeImage.repair</span> <span style=\"color: var(--jp-info-color0)\">INFO</span>: Identified 2 cosmic rays.</pre>"
      ],
      "text/plain": [
       "<IPython.core.display.HTML object>"
      ]
     },
     "metadata": {},
     "output_type": "display_data"
    },
    {
     "data": {
      "text/html": [
       "<pre style=\"margin: 0.1em;\n",
       "padding-left: 0.25em;\n",
       "border-left-style: solid;\n",
       "font-family: var(--jp-code-font-family);\n",
       "font-size: var(--jp-code-font-size);\n",
       "line-height: var(--jp-code-line-height);\n",
       "\"><span style=\"color: var(--jp-warn-color2)\">lsst.characterizeImage.measurement</span> <span style=\"color: var(--jp-info-color0)\">INFO</span>: Measuring 196 sources (196 parents, 0 children) </pre>"
      ],
      "text/plain": [
       "<IPython.core.display.HTML object>"
      ]
     },
     "metadata": {},
     "output_type": "display_data"
    },
    {
     "data": {
      "text/html": [
       "<pre style=\"margin: 0.1em;\n",
       "padding-left: 0.25em;\n",
       "border-left-style: solid;\n",
       "font-family: var(--jp-code-font-family);\n",
       "font-size: var(--jp-code-font-size);\n",
       "line-height: var(--jp-code-line-height);\n",
       "\"><span style=\"color: var(--jp-warn-color2)\">lsst.characterizeImage.measureApCorr</span> <span style=\"color: var(--jp-info-color0)\">INFO</span>: Measuring aperture corrections for 2 flux fields</pre>"
      ],
      "text/plain": [
       "<IPython.core.display.HTML object>"
      ]
     },
     "metadata": {},
     "output_type": "display_data"
    },
    {
     "data": {
      "text/html": [
       "<pre style=\"margin: 0.1em;\n",
       "padding-left: 0.25em;\n",
       "border-left-style: solid;\n",
       "font-family: var(--jp-code-font-family);\n",
       "font-size: var(--jp-code-font-size);\n",
       "line-height: var(--jp-code-line-height);\n",
       "\"><span style=\"color: var(--jp-warn-color2)\">lsst.characterizeImage.measureApCorr</span> <span style=\"color: var(--jp-info-color0)\">INFO</span>: Aperture correction for base_GaussianFlux: RMS 0.008120 from 98</pre>"
      ],
      "text/plain": [
       "<IPython.core.display.HTML object>"
      ]
     },
     "metadata": {},
     "output_type": "display_data"
    },
    {
     "data": {
      "text/html": [
       "<pre style=\"margin: 0.1em;\n",
       "padding-left: 0.25em;\n",
       "border-left-style: solid;\n",
       "font-family: var(--jp-code-font-family);\n",
       "font-size: var(--jp-code-font-size);\n",
       "line-height: var(--jp-code-line-height);\n",
       "\"><span style=\"color: var(--jp-warn-color2)\">lsst.characterizeImage.measureApCorr</span> <span style=\"color: var(--jp-info-color0)\">INFO</span>: Aperture correction for base_PsfFlux: RMS 0.007223 from 99</pre>"
      ],
      "text/plain": [
       "<IPython.core.display.HTML object>"
      ]
     },
     "metadata": {},
     "output_type": "display_data"
    },
    {
     "data": {
      "text/html": [
       "<pre style=\"margin: 0.1em;\n",
       "padding-left: 0.25em;\n",
       "border-left-style: solid;\n",
       "font-family: var(--jp-code-font-family);\n",
       "font-size: var(--jp-code-font-size);\n",
       "line-height: var(--jp-code-line-height);\n",
       "\"><span style=\"color: var(--jp-warn-color2)\">lsst.characterizeImage.applyApCorr</span> <span style=\"color: var(--jp-info-color0)\">INFO</span>: Applying aperture corrections to 2 instFlux fields</pre>"
      ],
      "text/plain": [
       "<IPython.core.display.HTML object>"
      ]
     },
     "metadata": {},
     "output_type": "display_data"
    },
    {
     "name": "stderr",
     "output_type": "stream",
     "text": [
      "/tmp/ipykernel_713/125701312.py:33: FutureWarning: Default position argument overload is deprecated and will be removed in version 24.0.  Please explicitly specify a position.\n",
      "  sigma = psf.computeShape().getDeterminantRadius()\n",
      "/opt/lsst/software/stack/stack/miniconda3-py38_4.9.2-3.0.0/Linux64/meas_algorithms/gbe01a4569f+96caca4d65/python/lsst/meas/algorithms/detection.py:410: FutureWarning: Default position argument overload is deprecated and will be removed in version 24.0.  Please explicitly specify a position.\n",
      "  sigma = psf.computeShape().getDeterminantRadius()\n",
      "/opt/lsst/software/stack/stack/miniconda3-py38_4.9.2-3.0.0/Linux64/meas_algorithms/gbe01a4569f+96caca4d65/python/lsst/meas/algorithms/detection.py:447: FutureWarning: Default position argument overload is deprecated and will be removed in version 24.0.  Please explicitly specify a position.\n",
      "  sigma = psf.computeShape().getDeterminantRadius()\n"
     ]
    },
    {
     "name": "stdout",
     "output_type": "stream",
     "text": [
      "psf fwhm = 1.21 arcsec\n"
     ]
    },
    {
     "data": {
      "text/html": [
       "<pre style=\"margin: 0.1em;\n",
       "padding-left: 0.25em;\n",
       "border-left-style: solid;\n",
       "font-family: var(--jp-code-font-family);\n",
       "font-size: var(--jp-code-font-size);\n",
       "line-height: var(--jp-code-line-height);\n",
       "\"><span style=\"color: var(--jp-warn-color2)\">lsst.sourceDetection</span> <span style=\"color: var(--jp-info-color0)\">INFO</span>: Detected 1075 positive peaks in 1007 footprints and 0 negative peaks in 0 footprints to 10 sigma</pre>"
      ],
      "text/plain": [
       "<IPython.core.display.HTML object>"
      ]
     },
     "metadata": {},
     "output_type": "display_data"
    },
    {
     "data": {
      "text/html": [
       "<pre style=\"margin: 0.1em;\n",
       "padding-left: 0.25em;\n",
       "border-left-style: solid;\n",
       "font-family: var(--jp-code-font-family);\n",
       "font-size: var(--jp-code-font-size);\n",
       "line-height: var(--jp-code-line-height);\n",
       "\"><span style=\"color: var(--jp-warn-color2)\">lsst.sourceDetection</span> <span style=\"color: var(--jp-info-color0)\">INFO</span>: Resubtracting the background after object detection</pre>"
      ],
      "text/plain": [
       "<IPython.core.display.HTML object>"
      ]
     },
     "metadata": {},
     "output_type": "display_data"
    },
    {
     "data": {
      "text/html": [
       "<pre style=\"margin: 0.1em;\n",
       "padding-left: 0.25em;\n",
       "border-left-style: solid;\n",
       "font-family: var(--jp-code-font-family);\n",
       "font-size: var(--jp-code-font-size);\n",
       "line-height: var(--jp-code-line-height);\n",
       "\"><span style=\"color: var(--jp-warn-color2)\">lsst.sourceDeblend</span> <span style=\"color: var(--jp-info-color0)\">INFO</span>: Deblending 1007 sources</pre>"
      ],
      "text/plain": [
       "<IPython.core.display.HTML object>"
      ]
     },
     "metadata": {},
     "output_type": "display_data"
    },
    {
     "name": "stderr",
     "output_type": "stream",
     "text": [
      "/opt/lsst/software/stack/stack/miniconda3-py38_4.9.2-3.0.0/Linux64/meas_deblender/g359a236c20+7ff1c4ce37/python/lsst/meas/deblender/sourceDeblendTask.py:281: FutureWarning: Default position argument overload is deprecated and will be removed in version 24.0.  Please explicitly specify a position.\n",
      "  return psf.computeShape().getDeterminantRadius() * 2.35\n"
     ]
    },
    {
     "data": {
      "text/html": [
       "<pre style=\"margin: 0.1em;\n",
       "padding-left: 0.25em;\n",
       "border-left-style: solid;\n",
       "font-family: var(--jp-code-font-family);\n",
       "font-size: var(--jp-code-font-size);\n",
       "line-height: var(--jp-code-line-height);\n",
       "\"><span style=\"color: var(--jp-warn-color2)\">lsst.sourceDeblend</span> <span style=\"color: var(--jp-info-color0)\">INFO</span>: Deblended: of 1007 sources, 56 were deblended, creating 124 children, total 1131 sources</pre>"
      ],
      "text/plain": [
       "<IPython.core.display.HTML object>"
      ]
     },
     "metadata": {},
     "output_type": "display_data"
    },
    {
     "data": {
      "text/html": [
       "<pre style=\"margin: 0.1em;\n",
       "padding-left: 0.25em;\n",
       "border-left-style: solid;\n",
       "font-family: var(--jp-code-font-family);\n",
       "font-size: var(--jp-code-font-size);\n",
       "line-height: var(--jp-code-line-height);\n",
       "\"><span style=\"color: var(--jp-warn-color2)\">lsst.measurement</span> <span style=\"color: var(--jp-info-color0)\">INFO</span>: Measuring 1131 sources (1007 parents, 124 children) </pre>"
      ],
      "text/plain": [
       "<IPython.core.display.HTML object>"
      ]
     },
     "metadata": {},
     "output_type": "display_data"
    },
    {
     "data": {
      "text/html": [
       "<pre style=\"margin: 0.1em;\n",
       "padding-left: 0.25em;\n",
       "border-left-style: solid;\n",
       "font-family: var(--jp-code-font-family);\n",
       "font-size: var(--jp-code-font-size);\n",
       "line-height: var(--jp-code-line-height);\n",
       "\"><span style=\"color: var(--jp-warn-color2)\">lsst.characterizeImage</span> <span style=\"color: var(--jp-info-color0)\">INFO</span>: PSF estimation initialized with &#x27;simple&#x27; PSF</pre>"
      ],
      "text/plain": [
       "<IPython.core.display.HTML object>"
      ]
     },
     "metadata": {},
     "output_type": "display_data"
    },
    {
     "name": "stderr",
     "output_type": "stream",
     "text": [
      "/opt/lsst/software/stack/stack/miniconda3-py38_4.9.2-3.0.0/Linux64/meas_algorithms/gbe01a4569f+96caca4d65/python/lsst/meas/algorithms/installGaussianPsf.py:77: FutureWarning: Default position argument overload is deprecated and will be removed in version 24.0.  Please explicitly specify a position.\n",
      "  psfSigma = psfModel.computeShape().getDeterminantRadius()\n",
      "/opt/lsst/software/stack/stack/miniconda3-py38_4.9.2-3.0.0/Linux64/meas_algorithms/gbe01a4569f+96caca4d65/python/lsst/meas/algorithms/installGaussianPsf.py:78: FutureWarning: Default position argument overload is deprecated and will be removed in version 24.0.  Please explicitly specify a position.\n",
      "  width, height = psfModel.computeImage().getDimensions()\n"
     ]
    },
    {
     "data": {
      "text/html": [
       "<pre style=\"margin: 0.1em;\n",
       "padding-left: 0.25em;\n",
       "border-left-style: solid;\n",
       "font-family: var(--jp-code-font-family);\n",
       "font-size: var(--jp-code-font-size);\n",
       "line-height: var(--jp-code-line-height);\n",
       "\"><span style=\"color: var(--jp-warn-color2)\">lsst.characterizeImage.repair</span> <span style=\"color: var(--jp-info-color0)\">INFO</span>: Identified 16 cosmic rays.</pre>"
      ],
      "text/plain": [
       "<IPython.core.display.HTML object>"
      ]
     },
     "metadata": {},
     "output_type": "display_data"
    },
    {
     "name": "stderr",
     "output_type": "stream",
     "text": [
      "/opt/lsst/software/stack/stack/miniconda3-py38_4.9.2-3.0.0/Linux64/meas_algorithms/gbe01a4569f+96caca4d65/python/lsst/meas/algorithms/detection.py:410: FutureWarning: Default position argument overload is deprecated and will be removed in version 24.0.  Please explicitly specify a position.\n",
      "  sigma = psf.computeShape().getDeterminantRadius()\n",
      "/opt/lsst/software/stack/stack/miniconda3-py38_4.9.2-3.0.0/Linux64/meas_algorithms/gbe01a4569f+96caca4d65/python/lsst/meas/algorithms/detection.py:447: FutureWarning: Default position argument overload is deprecated and will be removed in version 24.0.  Please explicitly specify a position.\n",
      "  sigma = psf.computeShape().getDeterminantRadius()\n"
     ]
    },
    {
     "data": {
      "text/html": [
       "<pre style=\"margin: 0.1em;\n",
       "padding-left: 0.25em;\n",
       "border-left-style: solid;\n",
       "font-family: var(--jp-code-font-family);\n",
       "font-size: var(--jp-code-font-size);\n",
       "line-height: var(--jp-code-line-height);\n",
       "\"><span style=\"color: var(--jp-warn-color2)\">lsst.characterizeImage.detection</span> <span style=\"color: var(--jp-info-color0)\">INFO</span>: Detected 462 positive peaks in 250 footprints and 0 negative peaks in 0 footprints to 50 sigma</pre>"
      ],
      "text/plain": [
       "<IPython.core.display.HTML object>"
      ]
     },
     "metadata": {},
     "output_type": "display_data"
    },
    {
     "data": {
      "text/html": [
       "<pre style=\"margin: 0.1em;\n",
       "padding-left: 0.25em;\n",
       "border-left-style: solid;\n",
       "font-family: var(--jp-code-font-family);\n",
       "font-size: var(--jp-code-font-size);\n",
       "line-height: var(--jp-code-line-height);\n",
       "\"><span style=\"color: var(--jp-warn-color2)\">lsst.characterizeImage.detection</span> <span style=\"color: var(--jp-info-color0)\">INFO</span>: Resubtracting the background after object detection</pre>"
      ],
      "text/plain": [
       "<IPython.core.display.HTML object>"
      ]
     },
     "metadata": {},
     "output_type": "display_data"
    },
    {
     "data": {
      "text/html": [
       "<pre style=\"margin: 0.1em;\n",
       "padding-left: 0.25em;\n",
       "border-left-style: solid;\n",
       "font-family: var(--jp-code-font-family);\n",
       "font-size: var(--jp-code-font-size);\n",
       "line-height: var(--jp-code-line-height);\n",
       "\"><span style=\"color: var(--jp-warn-color2)\">lsst.characterizeImage.measurement</span> <span style=\"color: var(--jp-info-color0)\">INFO</span>: Measuring 250 sources (250 parents, 0 children) </pre>"
      ],
      "text/plain": [
       "<IPython.core.display.HTML object>"
      ]
     },
     "metadata": {},
     "output_type": "display_data"
    },
    {
     "data": {
      "text/html": [
       "<pre style=\"margin: 0.1em;\n",
       "padding-left: 0.25em;\n",
       "border-left-style: solid;\n",
       "font-family: var(--jp-code-font-family);\n",
       "font-size: var(--jp-code-font-size);\n",
       "line-height: var(--jp-code-line-height);\n",
       "\"><span style=\"color: var(--jp-warn-color2)\">lsst.characterizeImage.measurePsf</span> <span style=\"color: var(--jp-info-color0)\">INFO</span>: Measuring PSF</pre>"
      ],
      "text/plain": [
       "<IPython.core.display.HTML object>"
      ]
     },
     "metadata": {},
     "output_type": "display_data"
    },
    {
     "data": {
      "text/html": [
       "<pre style=\"margin: 0.1em;\n",
       "padding-left: 0.25em;\n",
       "border-left-style: solid;\n",
       "font-family: var(--jp-code-font-family);\n",
       "font-size: var(--jp-code-font-size);\n",
       "line-height: var(--jp-code-line-height);\n",
       "\"><span style=\"color: var(--jp-warn-color2)\">lsst.characterizeImage.measurePsf</span> <span style=\"color: var(--jp-info-color0)\">INFO</span>: PSF star selector found 110 candidates</pre>"
      ],
      "text/plain": [
       "<IPython.core.display.HTML object>"
      ]
     },
     "metadata": {},
     "output_type": "display_data"
    },
    {
     "data": {
      "text/html": [
       "<pre style=\"margin: 0.1em;\n",
       "padding-left: 0.25em;\n",
       "border-left-style: solid;\n",
       "font-family: var(--jp-code-font-family);\n",
       "font-size: var(--jp-code-font-size);\n",
       "line-height: var(--jp-code-line-height);\n",
       "\"><span style=\"color: var(--jp-warn-color2)\">lsst.characterizeImage.measurePsf.reserve</span> <span style=\"color: var(--jp-info-color0)\">INFO</span>: Reserved 0/110 sources</pre>"
      ],
      "text/plain": [
       "<IPython.core.display.HTML object>"
      ]
     },
     "metadata": {},
     "output_type": "display_data"
    },
    {
     "data": {
      "text/html": [
       "<pre style=\"margin: 0.1em;\n",
       "padding-left: 0.25em;\n",
       "border-left-style: solid;\n",
       "font-family: var(--jp-code-font-family);\n",
       "font-size: var(--jp-code-font-size);\n",
       "line-height: var(--jp-code-line-height);\n",
       "\"><span style=\"color: var(--jp-warn-color2)\">lsst.characterizeImage.measurePsf</span> <span style=\"color: var(--jp-info-color0)\">INFO</span>: Sending 110 candidates to PSF determiner</pre>"
      ],
      "text/plain": [
       "<IPython.core.display.HTML object>"
      ]
     },
     "metadata": {},
     "output_type": "display_data"
    },
    {
     "data": {
      "text/html": [
       "<pre style=\"margin: 0.1em;\n",
       "padding-left: 0.25em;\n",
       "border-left-style: solid;\n",
       "font-family: var(--jp-code-font-family);\n",
       "font-size: var(--jp-code-font-size);\n",
       "line-height: var(--jp-code-line-height);\n",
       "\"><span style=\"color: var(--jp-warn-color2)\">lsst.characterizeImage.measurePsf.psfDeterminer</span> <span style=\"color: var(--jp-warn-color0)\">WARNING</span>: NOT scaling kernelSize by stellar quadrupole moment, but using absolute value</pre>"
      ],
      "text/plain": [
       "<IPython.core.display.HTML object>"
      ]
     },
     "metadata": {},
     "output_type": "display_data"
    },
    {
     "data": {
      "text/html": [
       "<pre style=\"margin: 0.1em;\n",
       "padding-left: 0.25em;\n",
       "border-left-style: solid;\n",
       "font-family: var(--jp-code-font-family);\n",
       "font-size: var(--jp-code-font-size);\n",
       "line-height: var(--jp-code-line-height);\n",
       "\"><span style=\"color: var(--jp-warn-color2)\">lsst.characterizeImage.measurePsf</span> <span style=\"color: var(--jp-info-color0)\">INFO</span>: PSF determination using 108/110 stars.</pre>"
      ],
      "text/plain": [
       "<IPython.core.display.HTML object>"
      ]
     },
     "metadata": {},
     "output_type": "display_data"
    },
    {
     "data": {
      "text/html": [
       "<pre style=\"margin: 0.1em;\n",
       "padding-left: 0.25em;\n",
       "border-left-style: solid;\n",
       "font-family: var(--jp-code-font-family);\n",
       "font-size: var(--jp-code-font-size);\n",
       "line-height: var(--jp-code-line-height);\n",
       "\"><span style=\"color: var(--jp-warn-color2)\">lsst.characterizeImage</span> <span style=\"color: var(--jp-info-color0)\">INFO</span>: iter 1; PSF sigma=1.72, dimensions=(41, 41); median background=0.44</pre>"
      ],
      "text/plain": [
       "<IPython.core.display.HTML object>"
      ]
     },
     "metadata": {},
     "output_type": "display_data"
    },
    {
     "data": {
      "text/html": [
       "<pre style=\"margin: 0.1em;\n",
       "padding-left: 0.25em;\n",
       "border-left-style: solid;\n",
       "font-family: var(--jp-code-font-family);\n",
       "font-size: var(--jp-code-font-size);\n",
       "line-height: var(--jp-code-line-height);\n",
       "\"><span style=\"color: var(--jp-warn-color2)\">lsst.characterizeImage.repair</span> <span style=\"color: var(--jp-info-color0)\">INFO</span>: Identified 16 cosmic rays.</pre>"
      ],
      "text/plain": [
       "<IPython.core.display.HTML object>"
      ]
     },
     "metadata": {},
     "output_type": "display_data"
    },
    {
     "data": {
      "text/html": [
       "<pre style=\"margin: 0.1em;\n",
       "padding-left: 0.25em;\n",
       "border-left-style: solid;\n",
       "font-family: var(--jp-code-font-family);\n",
       "font-size: var(--jp-code-font-size);\n",
       "line-height: var(--jp-code-line-height);\n",
       "\"><span style=\"color: var(--jp-warn-color2)\">lsst.characterizeImage.measurement</span> <span style=\"color: var(--jp-info-color0)\">INFO</span>: Measuring 250 sources (250 parents, 0 children) </pre>"
      ],
      "text/plain": [
       "<IPython.core.display.HTML object>"
      ]
     },
     "metadata": {},
     "output_type": "display_data"
    },
    {
     "data": {
      "text/html": [
       "<pre style=\"margin: 0.1em;\n",
       "padding-left: 0.25em;\n",
       "border-left-style: solid;\n",
       "font-family: var(--jp-code-font-family);\n",
       "font-size: var(--jp-code-font-size);\n",
       "line-height: var(--jp-code-line-height);\n",
       "\"><span style=\"color: var(--jp-warn-color2)\">lsst.characterizeImage.measureApCorr</span> <span style=\"color: var(--jp-info-color0)\">INFO</span>: Measuring aperture corrections for 2 flux fields</pre>"
      ],
      "text/plain": [
       "<IPython.core.display.HTML object>"
      ]
     },
     "metadata": {},
     "output_type": "display_data"
    },
    {
     "data": {
      "text/html": [
       "<pre style=\"margin: 0.1em;\n",
       "padding-left: 0.25em;\n",
       "border-left-style: solid;\n",
       "font-family: var(--jp-code-font-family);\n",
       "font-size: var(--jp-code-font-size);\n",
       "line-height: var(--jp-code-line-height);\n",
       "\"><span style=\"color: var(--jp-warn-color2)\">lsst.characterizeImage.measureApCorr</span> <span style=\"color: var(--jp-info-color0)\">INFO</span>: Aperture correction for base_GaussianFlux: RMS 0.015900 from 98</pre>"
      ],
      "text/plain": [
       "<IPython.core.display.HTML object>"
      ]
     },
     "metadata": {},
     "output_type": "display_data"
    },
    {
     "data": {
      "text/html": [
       "<pre style=\"margin: 0.1em;\n",
       "padding-left: 0.25em;\n",
       "border-left-style: solid;\n",
       "font-family: var(--jp-code-font-family);\n",
       "font-size: var(--jp-code-font-size);\n",
       "line-height: var(--jp-code-line-height);\n",
       "\"><span style=\"color: var(--jp-warn-color2)\">lsst.characterizeImage.measureApCorr</span> <span style=\"color: var(--jp-info-color0)\">INFO</span>: Aperture correction for base_PsfFlux: RMS 0.015152 from 98</pre>"
      ],
      "text/plain": [
       "<IPython.core.display.HTML object>"
      ]
     },
     "metadata": {},
     "output_type": "display_data"
    },
    {
     "data": {
      "text/html": [
       "<pre style=\"margin: 0.1em;\n",
       "padding-left: 0.25em;\n",
       "border-left-style: solid;\n",
       "font-family: var(--jp-code-font-family);\n",
       "font-size: var(--jp-code-font-size);\n",
       "line-height: var(--jp-code-line-height);\n",
       "\"><span style=\"color: var(--jp-warn-color2)\">lsst.characterizeImage.applyApCorr</span> <span style=\"color: var(--jp-info-color0)\">INFO</span>: Applying aperture corrections to 2 instFlux fields</pre>"
      ],
      "text/plain": [
       "<IPython.core.display.HTML object>"
      ]
     },
     "metadata": {},
     "output_type": "display_data"
    },
    {
     "name": "stderr",
     "output_type": "stream",
     "text": [
      "/tmp/ipykernel_713/125701312.py:33: FutureWarning: Default position argument overload is deprecated and will be removed in version 24.0.  Please explicitly specify a position.\n",
      "  sigma = psf.computeShape().getDeterminantRadius()\n",
      "/opt/lsst/software/stack/stack/miniconda3-py38_4.9.2-3.0.0/Linux64/meas_algorithms/gbe01a4569f+96caca4d65/python/lsst/meas/algorithms/detection.py:410: FutureWarning: Default position argument overload is deprecated and will be removed in version 24.0.  Please explicitly specify a position.\n",
      "  sigma = psf.computeShape().getDeterminantRadius()\n",
      "/opt/lsst/software/stack/stack/miniconda3-py38_4.9.2-3.0.0/Linux64/meas_algorithms/gbe01a4569f+96caca4d65/python/lsst/meas/algorithms/detection.py:447: FutureWarning: Default position argument overload is deprecated and will be removed in version 24.0.  Please explicitly specify a position.\n",
      "  sigma = psf.computeShape().getDeterminantRadius()\n"
     ]
    },
    {
     "name": "stdout",
     "output_type": "stream",
     "text": [
      "psf fwhm = 0.81 arcsec\n"
     ]
    },
    {
     "data": {
      "text/html": [
       "<pre style=\"margin: 0.1em;\n",
       "padding-left: 0.25em;\n",
       "border-left-style: solid;\n",
       "font-family: var(--jp-code-font-family);\n",
       "font-size: var(--jp-code-font-size);\n",
       "line-height: var(--jp-code-line-height);\n",
       "\"><span style=\"color: var(--jp-warn-color2)\">lsst.sourceDetection</span> <span style=\"color: var(--jp-info-color0)\">INFO</span>: Detected 1127 positive peaks in 1055 footprints and 0 negative peaks in 0 footprints to 10 sigma</pre>"
      ],
      "text/plain": [
       "<IPython.core.display.HTML object>"
      ]
     },
     "metadata": {},
     "output_type": "display_data"
    },
    {
     "data": {
      "text/html": [
       "<pre style=\"margin: 0.1em;\n",
       "padding-left: 0.25em;\n",
       "border-left-style: solid;\n",
       "font-family: var(--jp-code-font-family);\n",
       "font-size: var(--jp-code-font-size);\n",
       "line-height: var(--jp-code-line-height);\n",
       "\"><span style=\"color: var(--jp-warn-color2)\">lsst.sourceDetection</span> <span style=\"color: var(--jp-info-color0)\">INFO</span>: Resubtracting the background after object detection</pre>"
      ],
      "text/plain": [
       "<IPython.core.display.HTML object>"
      ]
     },
     "metadata": {},
     "output_type": "display_data"
    },
    {
     "data": {
      "text/html": [
       "<pre style=\"margin: 0.1em;\n",
       "padding-left: 0.25em;\n",
       "border-left-style: solid;\n",
       "font-family: var(--jp-code-font-family);\n",
       "font-size: var(--jp-code-font-size);\n",
       "line-height: var(--jp-code-line-height);\n",
       "\"><span style=\"color: var(--jp-warn-color2)\">lsst.sourceDeblend</span> <span style=\"color: var(--jp-info-color0)\">INFO</span>: Deblending 1055 sources</pre>"
      ],
      "text/plain": [
       "<IPython.core.display.HTML object>"
      ]
     },
     "metadata": {},
     "output_type": "display_data"
    },
    {
     "name": "stderr",
     "output_type": "stream",
     "text": [
      "/opt/lsst/software/stack/stack/miniconda3-py38_4.9.2-3.0.0/Linux64/meas_deblender/g359a236c20+7ff1c4ce37/python/lsst/meas/deblender/sourceDeblendTask.py:281: FutureWarning: Default position argument overload is deprecated and will be removed in version 24.0.  Please explicitly specify a position.\n",
      "  return psf.computeShape().getDeterminantRadius() * 2.35\n"
     ]
    },
    {
     "data": {
      "text/html": [
       "<pre style=\"margin: 0.1em;\n",
       "padding-left: 0.25em;\n",
       "border-left-style: solid;\n",
       "font-family: var(--jp-code-font-family);\n",
       "font-size: var(--jp-code-font-size);\n",
       "line-height: var(--jp-code-line-height);\n",
       "\"><span style=\"color: var(--jp-warn-color2)\">lsst.sourceDeblend</span> <span style=\"color: var(--jp-info-color0)\">INFO</span>: Deblended: of 1055 sources, 46 were deblended, creating 118 children, total 1173 sources</pre>"
      ],
      "text/plain": [
       "<IPython.core.display.HTML object>"
      ]
     },
     "metadata": {},
     "output_type": "display_data"
    },
    {
     "data": {
      "text/html": [
       "<pre style=\"margin: 0.1em;\n",
       "padding-left: 0.25em;\n",
       "border-left-style: solid;\n",
       "font-family: var(--jp-code-font-family);\n",
       "font-size: var(--jp-code-font-size);\n",
       "line-height: var(--jp-code-line-height);\n",
       "\"><span style=\"color: var(--jp-warn-color2)\">lsst.measurement</span> <span style=\"color: var(--jp-info-color0)\">INFO</span>: Measuring 1173 sources (1055 parents, 118 children) </pre>"
      ],
      "text/plain": [
       "<IPython.core.display.HTML object>"
      ]
     },
     "metadata": {},
     "output_type": "display_data"
    },
    {
     "data": {
      "text/html": [
       "<pre style=\"margin: 0.1em;\n",
       "padding-left: 0.25em;\n",
       "border-left-style: solid;\n",
       "font-family: var(--jp-code-font-family);\n",
       "font-size: var(--jp-code-font-size);\n",
       "line-height: var(--jp-code-line-height);\n",
       "\"><span style=\"color: var(--jp-warn-color2)\">lsst.characterizeImage</span> <span style=\"color: var(--jp-info-color0)\">INFO</span>: PSF estimation initialized with &#x27;simple&#x27; PSF</pre>"
      ],
      "text/plain": [
       "<IPython.core.display.HTML object>"
      ]
     },
     "metadata": {},
     "output_type": "display_data"
    },
    {
     "name": "stderr",
     "output_type": "stream",
     "text": [
      "/opt/lsst/software/stack/stack/miniconda3-py38_4.9.2-3.0.0/Linux64/meas_algorithms/gbe01a4569f+96caca4d65/python/lsst/meas/algorithms/installGaussianPsf.py:77: FutureWarning: Default position argument overload is deprecated and will be removed in version 24.0.  Please explicitly specify a position.\n",
      "  psfSigma = psfModel.computeShape().getDeterminantRadius()\n",
      "/opt/lsst/software/stack/stack/miniconda3-py38_4.9.2-3.0.0/Linux64/meas_algorithms/gbe01a4569f+96caca4d65/python/lsst/meas/algorithms/installGaussianPsf.py:78: FutureWarning: Default position argument overload is deprecated and will be removed in version 24.0.  Please explicitly specify a position.\n",
      "  width, height = psfModel.computeImage().getDimensions()\n"
     ]
    },
    {
     "data": {
      "text/html": [
       "<pre style=\"margin: 0.1em;\n",
       "padding-left: 0.25em;\n",
       "border-left-style: solid;\n",
       "font-family: var(--jp-code-font-family);\n",
       "font-size: var(--jp-code-font-size);\n",
       "line-height: var(--jp-code-line-height);\n",
       "\"><span style=\"color: var(--jp-warn-color2)\">lsst.characterizeImage.repair</span> <span style=\"color: var(--jp-info-color0)\">INFO</span>: Identified 0 cosmic rays.</pre>"
      ],
      "text/plain": [
       "<IPython.core.display.HTML object>"
      ]
     },
     "metadata": {},
     "output_type": "display_data"
    },
    {
     "name": "stderr",
     "output_type": "stream",
     "text": [
      "/opt/lsst/software/stack/stack/miniconda3-py38_4.9.2-3.0.0/Linux64/meas_algorithms/gbe01a4569f+96caca4d65/python/lsst/meas/algorithms/detection.py:410: FutureWarning: Default position argument overload is deprecated and will be removed in version 24.0.  Please explicitly specify a position.\n",
      "  sigma = psf.computeShape().getDeterminantRadius()\n",
      "/opt/lsst/software/stack/stack/miniconda3-py38_4.9.2-3.0.0/Linux64/meas_algorithms/gbe01a4569f+96caca4d65/python/lsst/meas/algorithms/detection.py:447: FutureWarning: Default position argument overload is deprecated and will be removed in version 24.0.  Please explicitly specify a position.\n",
      "  sigma = psf.computeShape().getDeterminantRadius()\n"
     ]
    },
    {
     "data": {
      "text/html": [
       "<pre style=\"margin: 0.1em;\n",
       "padding-left: 0.25em;\n",
       "border-left-style: solid;\n",
       "font-family: var(--jp-code-font-family);\n",
       "font-size: var(--jp-code-font-size);\n",
       "line-height: var(--jp-code-line-height);\n",
       "\"><span style=\"color: var(--jp-warn-color2)\">lsst.characterizeImage.detection</span> <span style=\"color: var(--jp-info-color0)\">INFO</span>: Detected 423 positive peaks in 250 footprints and 0 negative peaks in 0 footprints to 50 sigma</pre>"
      ],
      "text/plain": [
       "<IPython.core.display.HTML object>"
      ]
     },
     "metadata": {},
     "output_type": "display_data"
    },
    {
     "data": {
      "text/html": [
       "<pre style=\"margin: 0.1em;\n",
       "padding-left: 0.25em;\n",
       "border-left-style: solid;\n",
       "font-family: var(--jp-code-font-family);\n",
       "font-size: var(--jp-code-font-size);\n",
       "line-height: var(--jp-code-line-height);\n",
       "\"><span style=\"color: var(--jp-warn-color2)\">lsst.characterizeImage.detection</span> <span style=\"color: var(--jp-info-color0)\">INFO</span>: Resubtracting the background after object detection</pre>"
      ],
      "text/plain": [
       "<IPython.core.display.HTML object>"
      ]
     },
     "metadata": {},
     "output_type": "display_data"
    },
    {
     "data": {
      "text/html": [
       "<pre style=\"margin: 0.1em;\n",
       "padding-left: 0.25em;\n",
       "border-left-style: solid;\n",
       "font-family: var(--jp-code-font-family);\n",
       "font-size: var(--jp-code-font-size);\n",
       "line-height: var(--jp-code-line-height);\n",
       "\"><span style=\"color: var(--jp-warn-color2)\">lsst.characterizeImage.measurement</span> <span style=\"color: var(--jp-info-color0)\">INFO</span>: Measuring 250 sources (250 parents, 0 children) </pre>"
      ],
      "text/plain": [
       "<IPython.core.display.HTML object>"
      ]
     },
     "metadata": {},
     "output_type": "display_data"
    },
    {
     "data": {
      "text/html": [
       "<pre style=\"margin: 0.1em;\n",
       "padding-left: 0.25em;\n",
       "border-left-style: solid;\n",
       "font-family: var(--jp-code-font-family);\n",
       "font-size: var(--jp-code-font-size);\n",
       "line-height: var(--jp-code-line-height);\n",
       "\"><span style=\"color: var(--jp-warn-color2)\">lsst.characterizeImage.measurePsf</span> <span style=\"color: var(--jp-info-color0)\">INFO</span>: Measuring PSF</pre>"
      ],
      "text/plain": [
       "<IPython.core.display.HTML object>"
      ]
     },
     "metadata": {},
     "output_type": "display_data"
    },
    {
     "data": {
      "text/html": [
       "<pre style=\"margin: 0.1em;\n",
       "padding-left: 0.25em;\n",
       "border-left-style: solid;\n",
       "font-family: var(--jp-code-font-family);\n",
       "font-size: var(--jp-code-font-size);\n",
       "line-height: var(--jp-code-line-height);\n",
       "\"><span style=\"color: var(--jp-warn-color2)\">lsst.characterizeImage.measurePsf</span> <span style=\"color: var(--jp-info-color0)\">INFO</span>: PSF star selector found 116 candidates</pre>"
      ],
      "text/plain": [
       "<IPython.core.display.HTML object>"
      ]
     },
     "metadata": {},
     "output_type": "display_data"
    },
    {
     "data": {
      "text/html": [
       "<pre style=\"margin: 0.1em;\n",
       "padding-left: 0.25em;\n",
       "border-left-style: solid;\n",
       "font-family: var(--jp-code-font-family);\n",
       "font-size: var(--jp-code-font-size);\n",
       "line-height: var(--jp-code-line-height);\n",
       "\"><span style=\"color: var(--jp-warn-color2)\">lsst.characterizeImage.measurePsf.reserve</span> <span style=\"color: var(--jp-info-color0)\">INFO</span>: Reserved 0/116 sources</pre>"
      ],
      "text/plain": [
       "<IPython.core.display.HTML object>"
      ]
     },
     "metadata": {},
     "output_type": "display_data"
    },
    {
     "data": {
      "text/html": [
       "<pre style=\"margin: 0.1em;\n",
       "padding-left: 0.25em;\n",
       "border-left-style: solid;\n",
       "font-family: var(--jp-code-font-family);\n",
       "font-size: var(--jp-code-font-size);\n",
       "line-height: var(--jp-code-line-height);\n",
       "\"><span style=\"color: var(--jp-warn-color2)\">lsst.characterizeImage.measurePsf</span> <span style=\"color: var(--jp-info-color0)\">INFO</span>: Sending 116 candidates to PSF determiner</pre>"
      ],
      "text/plain": [
       "<IPython.core.display.HTML object>"
      ]
     },
     "metadata": {},
     "output_type": "display_data"
    },
    {
     "data": {
      "text/html": [
       "<pre style=\"margin: 0.1em;\n",
       "padding-left: 0.25em;\n",
       "border-left-style: solid;\n",
       "font-family: var(--jp-code-font-family);\n",
       "font-size: var(--jp-code-font-size);\n",
       "line-height: var(--jp-code-line-height);\n",
       "\"><span style=\"color: var(--jp-warn-color2)\">lsst.characterizeImage.measurePsf.psfDeterminer</span> <span style=\"color: var(--jp-warn-color0)\">WARNING</span>: NOT scaling kernelSize by stellar quadrupole moment, but using absolute value</pre>"
      ],
      "text/plain": [
       "<IPython.core.display.HTML object>"
      ]
     },
     "metadata": {},
     "output_type": "display_data"
    },
    {
     "data": {
      "text/html": [
       "<pre style=\"margin: 0.1em;\n",
       "padding-left: 0.25em;\n",
       "border-left-style: solid;\n",
       "font-family: var(--jp-code-font-family);\n",
       "font-size: var(--jp-code-font-size);\n",
       "line-height: var(--jp-code-line-height);\n",
       "\"><span style=\"color: var(--jp-warn-color2)\">lsst.characterizeImage.measurePsf</span> <span style=\"color: var(--jp-info-color0)\">INFO</span>: PSF determination using 114/116 stars.</pre>"
      ],
      "text/plain": [
       "<IPython.core.display.HTML object>"
      ]
     },
     "metadata": {},
     "output_type": "display_data"
    },
    {
     "data": {
      "text/html": [
       "<pre style=\"margin: 0.1em;\n",
       "padding-left: 0.25em;\n",
       "border-left-style: solid;\n",
       "font-family: var(--jp-code-font-family);\n",
       "font-size: var(--jp-code-font-size);\n",
       "line-height: var(--jp-code-line-height);\n",
       "\"><span style=\"color: var(--jp-warn-color2)\">lsst.characterizeImage</span> <span style=\"color: var(--jp-info-color0)\">INFO</span>: iter 1; PSF sigma=1.93, dimensions=(41, 41); median background=0.64</pre>"
      ],
      "text/plain": [
       "<IPython.core.display.HTML object>"
      ]
     },
     "metadata": {},
     "output_type": "display_data"
    },
    {
     "data": {
      "text/html": [
       "<pre style=\"margin: 0.1em;\n",
       "padding-left: 0.25em;\n",
       "border-left-style: solid;\n",
       "font-family: var(--jp-code-font-family);\n",
       "font-size: var(--jp-code-font-size);\n",
       "line-height: var(--jp-code-line-height);\n",
       "\"><span style=\"color: var(--jp-warn-color2)\">lsst.characterizeImage.repair</span> <span style=\"color: var(--jp-info-color0)\">INFO</span>: Identified 0 cosmic rays.</pre>"
      ],
      "text/plain": [
       "<IPython.core.display.HTML object>"
      ]
     },
     "metadata": {},
     "output_type": "display_data"
    },
    {
     "data": {
      "text/html": [
       "<pre style=\"margin: 0.1em;\n",
       "padding-left: 0.25em;\n",
       "border-left-style: solid;\n",
       "font-family: var(--jp-code-font-family);\n",
       "font-size: var(--jp-code-font-size);\n",
       "line-height: var(--jp-code-line-height);\n",
       "\"><span style=\"color: var(--jp-warn-color2)\">lsst.characterizeImage.measurement</span> <span style=\"color: var(--jp-info-color0)\">INFO</span>: Measuring 250 sources (250 parents, 0 children) </pre>"
      ],
      "text/plain": [
       "<IPython.core.display.HTML object>"
      ]
     },
     "metadata": {},
     "output_type": "display_data"
    },
    {
     "data": {
      "text/html": [
       "<pre style=\"margin: 0.1em;\n",
       "padding-left: 0.25em;\n",
       "border-left-style: solid;\n",
       "font-family: var(--jp-code-font-family);\n",
       "font-size: var(--jp-code-font-size);\n",
       "line-height: var(--jp-code-line-height);\n",
       "\"><span style=\"color: var(--jp-warn-color2)\">lsst.characterizeImage.measureApCorr</span> <span style=\"color: var(--jp-info-color0)\">INFO</span>: Measuring aperture corrections for 2 flux fields</pre>"
      ],
      "text/plain": [
       "<IPython.core.display.HTML object>"
      ]
     },
     "metadata": {},
     "output_type": "display_data"
    },
    {
     "data": {
      "text/html": [
       "<pre style=\"margin: 0.1em;\n",
       "padding-left: 0.25em;\n",
       "border-left-style: solid;\n",
       "font-family: var(--jp-code-font-family);\n",
       "font-size: var(--jp-code-font-size);\n",
       "line-height: var(--jp-code-line-height);\n",
       "\"><span style=\"color: var(--jp-warn-color2)\">lsst.characterizeImage.measureApCorr</span> <span style=\"color: var(--jp-info-color0)\">INFO</span>: Aperture correction for base_GaussianFlux: RMS 0.015117 from 107</pre>"
      ],
      "text/plain": [
       "<IPython.core.display.HTML object>"
      ]
     },
     "metadata": {},
     "output_type": "display_data"
    },
    {
     "data": {
      "text/html": [
       "<pre style=\"margin: 0.1em;\n",
       "padding-left: 0.25em;\n",
       "border-left-style: solid;\n",
       "font-family: var(--jp-code-font-family);\n",
       "font-size: var(--jp-code-font-size);\n",
       "line-height: var(--jp-code-line-height);\n",
       "\"><span style=\"color: var(--jp-warn-color2)\">lsst.characterizeImage.measureApCorr</span> <span style=\"color: var(--jp-info-color0)\">INFO</span>: Aperture correction for base_PsfFlux: RMS 0.011974 from 104</pre>"
      ],
      "text/plain": [
       "<IPython.core.display.HTML object>"
      ]
     },
     "metadata": {},
     "output_type": "display_data"
    },
    {
     "data": {
      "text/html": [
       "<pre style=\"margin: 0.1em;\n",
       "padding-left: 0.25em;\n",
       "border-left-style: solid;\n",
       "font-family: var(--jp-code-font-family);\n",
       "font-size: var(--jp-code-font-size);\n",
       "line-height: var(--jp-code-line-height);\n",
       "\"><span style=\"color: var(--jp-warn-color2)\">lsst.characterizeImage.applyApCorr</span> <span style=\"color: var(--jp-info-color0)\">INFO</span>: Applying aperture corrections to 2 instFlux fields</pre>"
      ],
      "text/plain": [
       "<IPython.core.display.HTML object>"
      ]
     },
     "metadata": {},
     "output_type": "display_data"
    },
    {
     "name": "stderr",
     "output_type": "stream",
     "text": [
      "/tmp/ipykernel_713/125701312.py:33: FutureWarning: Default position argument overload is deprecated and will be removed in version 24.0.  Please explicitly specify a position.\n",
      "  sigma = psf.computeShape().getDeterminantRadius()\n",
      "/opt/lsst/software/stack/stack/miniconda3-py38_4.9.2-3.0.0/Linux64/meas_algorithms/gbe01a4569f+96caca4d65/python/lsst/meas/algorithms/detection.py:410: FutureWarning: Default position argument overload is deprecated and will be removed in version 24.0.  Please explicitly specify a position.\n",
      "  sigma = psf.computeShape().getDeterminantRadius()\n",
      "/opt/lsst/software/stack/stack/miniconda3-py38_4.9.2-3.0.0/Linux64/meas_algorithms/gbe01a4569f+96caca4d65/python/lsst/meas/algorithms/detection.py:447: FutureWarning: Default position argument overload is deprecated and will be removed in version 24.0.  Please explicitly specify a position.\n",
      "  sigma = psf.computeShape().getDeterminantRadius()\n"
     ]
    },
    {
     "name": "stdout",
     "output_type": "stream",
     "text": [
      "psf fwhm = 0.91 arcsec\n"
     ]
    },
    {
     "data": {
      "text/html": [
       "<pre style=\"margin: 0.1em;\n",
       "padding-left: 0.25em;\n",
       "border-left-style: solid;\n",
       "font-family: var(--jp-code-font-family);\n",
       "font-size: var(--jp-code-font-size);\n",
       "line-height: var(--jp-code-line-height);\n",
       "\"><span style=\"color: var(--jp-warn-color2)\">lsst.sourceDetection</span> <span style=\"color: var(--jp-info-color0)\">INFO</span>: Detected 1175 positive peaks in 1083 footprints and 0 negative peaks in 0 footprints to 10 sigma</pre>"
      ],
      "text/plain": [
       "<IPython.core.display.HTML object>"
      ]
     },
     "metadata": {},
     "output_type": "display_data"
    },
    {
     "data": {
      "text/html": [
       "<pre style=\"margin: 0.1em;\n",
       "padding-left: 0.25em;\n",
       "border-left-style: solid;\n",
       "font-family: var(--jp-code-font-family);\n",
       "font-size: var(--jp-code-font-size);\n",
       "line-height: var(--jp-code-line-height);\n",
       "\"><span style=\"color: var(--jp-warn-color2)\">lsst.sourceDetection</span> <span style=\"color: var(--jp-info-color0)\">INFO</span>: Resubtracting the background after object detection</pre>"
      ],
      "text/plain": [
       "<IPython.core.display.HTML object>"
      ]
     },
     "metadata": {},
     "output_type": "display_data"
    },
    {
     "data": {
      "text/html": [
       "<pre style=\"margin: 0.1em;\n",
       "padding-left: 0.25em;\n",
       "border-left-style: solid;\n",
       "font-family: var(--jp-code-font-family);\n",
       "font-size: var(--jp-code-font-size);\n",
       "line-height: var(--jp-code-line-height);\n",
       "\"><span style=\"color: var(--jp-warn-color2)\">lsst.sourceDeblend</span> <span style=\"color: var(--jp-info-color0)\">INFO</span>: Deblending 1083 sources</pre>"
      ],
      "text/plain": [
       "<IPython.core.display.HTML object>"
      ]
     },
     "metadata": {},
     "output_type": "display_data"
    },
    {
     "name": "stderr",
     "output_type": "stream",
     "text": [
      "/opt/lsst/software/stack/stack/miniconda3-py38_4.9.2-3.0.0/Linux64/meas_deblender/g359a236c20+7ff1c4ce37/python/lsst/meas/deblender/sourceDeblendTask.py:281: FutureWarning: Default position argument overload is deprecated and will be removed in version 24.0.  Please explicitly specify a position.\n",
      "  return psf.computeShape().getDeterminantRadius() * 2.35\n"
     ]
    },
    {
     "data": {
      "text/html": [
       "<pre style=\"margin: 0.1em;\n",
       "padding-left: 0.25em;\n",
       "border-left-style: solid;\n",
       "font-family: var(--jp-code-font-family);\n",
       "font-size: var(--jp-code-font-size);\n",
       "line-height: var(--jp-code-line-height);\n",
       "\"><span style=\"color: var(--jp-warn-color2)\">lsst.sourceDeblend</span> <span style=\"color: var(--jp-info-color0)\">INFO</span>: Deblended: of 1083 sources, 77 were deblended, creating 169 children, total 1252 sources</pre>"
      ],
      "text/plain": [
       "<IPython.core.display.HTML object>"
      ]
     },
     "metadata": {},
     "output_type": "display_data"
    },
    {
     "data": {
      "text/html": [
       "<pre style=\"margin: 0.1em;\n",
       "padding-left: 0.25em;\n",
       "border-left-style: solid;\n",
       "font-family: var(--jp-code-font-family);\n",
       "font-size: var(--jp-code-font-size);\n",
       "line-height: var(--jp-code-line-height);\n",
       "\"><span style=\"color: var(--jp-warn-color2)\">lsst.measurement</span> <span style=\"color: var(--jp-info-color0)\">INFO</span>: Measuring 1252 sources (1083 parents, 169 children) </pre>"
      ],
      "text/plain": [
       "<IPython.core.display.HTML object>"
      ]
     },
     "metadata": {},
     "output_type": "display_data"
    },
    {
     "name": "stdout",
     "output_type": "stream",
     "text": [
      "dt 71.98368954658508\n"
     ]
    }
   ],
   "source": [
    "t1 = time.time()\n",
    "\n",
    "sources_withfakes_u = processFakes(calexp_new_u)\n",
    "sources_withfakes_g = processFakes(calexp_new_g)\n",
    "sources_withfakes_r = processFakes(calexp_new_r)\n",
    "sources_withfakes_i = processFakes(calexp_new_i)\n",
    "\n",
    "t2 = time.time()\n",
    "print('dt', t2 - t1)"
   ]
  },
  {
   "cell_type": "code",
   "execution_count": 46,
   "id": "a6b88d6c-d908-4a5f-96ee-64be2d9bbf3c",
   "metadata": {
    "execution": {
     "iopub.execute_input": "2023-06-22T22:57:55.233666Z",
     "iopub.status.busy": "2023-06-22T22:57:55.232832Z",
     "iopub.status.idle": "2023-06-22T22:57:55.284079Z",
     "shell.execute_reply": "2023-06-22T22:57:55.283503Z",
     "shell.execute_reply.started": "2023-06-22T22:57:55.233625Z"
    },
    "tags": []
   },
   "outputs": [
    {
     "data": {
      "text/html": [
       "<div><i>Table length=1252</i>\n",
       "<table id=\"table140411655803472\" class=\"table-striped table-bordered table-condensed\">\n",
       "<thead><tr><th>id</th><th>coord_ra</th><th>coord_dec</th><th>parent</th><th>deblend_nChild</th><th>deblend_deblendedAsPsf</th><th>deblend_psfCenter_x</th><th>deblend_psfCenter_y</th><th>deblend_psf_instFlux</th><th>deblend_tooManyPeaks</th><th>deblend_parentTooBig</th><th>deblend_masked</th><th>deblend_skipped</th><th>deblend_rampedTemplate</th><th>deblend_patchedTemplate</th><th>deblend_hasStrayFlux</th><th>deblend_peak_center_x</th><th>deblend_peak_center_y</th><th>deblend_peakId</th><th>deblend_nPeaks</th><th>deblend_parentNPeaks</th><th>base_NaiveCentroid_x</th><th>base_NaiveCentroid_y</th><th>base_NaiveCentroid_flag</th><th>base_NaiveCentroid_flag_noCounts</th><th>base_NaiveCentroid_flag_edge</th><th>base_NaiveCentroid_flag_resetToPeak</th><th>base_SdssCentroid_x</th><th>slot_Centroid_x</th><th>base_SdssCentroid_y</th><th>slot_Centroid_y</th><th>base_SdssCentroid_xErr</th><th>slot_Centroid_xErr</th><th>base_SdssCentroid_yErr</th><th>slot_Centroid_yErr</th><th>base_SdssCentroid_flag</th><th>base_CircularApertureFlux_flag_badCentroid</th><th>base_GaussianFlux_flag_badCentroid</th><th>base_LocalBackground_flag_badCentroid</th><th>base_NaiveCentroid_flag_badInitialCentroid</th><th>base_PsfFlux_flag_badCentroid</th><th>base_SdssShape_flag_badCentroid</th><th>base_Variance_flag_badCentroid</th><th>slot_Centroid_flag</th><th>base_SdssCentroid_flag_edge</th><th>base_CircularApertureFlux_flag_badCentroid_edge</th><th>base_GaussianFlux_flag_badCentroid_edge</th><th>base_LocalBackground_flag_badCentroid_edge</th><th>base_NaiveCentroid_flag_badInitialCentroid_edge</th><th>base_PsfFlux_flag_badCentroid_edge</th><th>base_SdssShape_flag_badCentroid_edge</th><th>base_Variance_flag_badCentroid_edge</th><th>slot_Centroid_flag_edge</th><th>base_SdssCentroid_flag_noSecondDerivative</th><th>base_CircularApertureFlux_flag_badCentroid_noSecondDerivative</th><th>base_GaussianFlux_flag_badCentroid_noSecondDerivative</th><th>base_LocalBackground_flag_badCentroid_noSecondDerivative</th><th>base_NaiveCentroid_flag_badInitialCentroid_noSecondDerivative</th><th>base_PsfFlux_flag_badCentroid_noSecondDerivative</th><th>base_SdssShape_flag_badCentroid_noSecondDerivative</th><th>base_Variance_flag_badCentroid_noSecondDerivative</th><th>slot_Centroid_flag_noSecondDerivative</th><th>base_SdssCentroid_flag_almostNoSecondDerivative</th><th>base_CircularApertureFlux_flag_badCentroid_almostNoSecondDerivative</th><th>base_GaussianFlux_flag_badCentroid_almostNoSecondDerivative</th><th>base_LocalBackground_flag_badCentroid_almostNoSecondDerivative</th><th>base_NaiveCentroid_flag_badInitialCentroid_almostNoSecondDerivative</th><th>base_PsfFlux_flag_badCentroid_almostNoSecondDerivative</th><th>base_SdssShape_flag_badCentroid_almostNoSecondDerivative</th><th>base_Variance_flag_badCentroid_almostNoSecondDerivative</th><th>slot_Centroid_flag_almostNoSecondDerivative</th><th>base_SdssCentroid_flag_notAtMaximum</th><th>base_CircularApertureFlux_flag_badCentroid_notAtMaximum</th><th>base_GaussianFlux_flag_badCentroid_notAtMaximum</th><th>base_LocalBackground_flag_badCentroid_notAtMaximum</th><th>base_NaiveCentroid_flag_badInitialCentroid_notAtMaximum</th><th>base_PsfFlux_flag_badCentroid_notAtMaximum</th><th>base_SdssShape_flag_badCentroid_notAtMaximum</th><th>base_Variance_flag_badCentroid_notAtMaximum</th><th>slot_Centroid_flag_notAtMaximum</th><th>base_SdssCentroid_flag_resetToPeak</th><th>base_CircularApertureFlux_flag_badCentroid_resetToPeak</th><th>base_GaussianFlux_flag_badCentroid_resetToPeak</th><th>base_LocalBackground_flag_badCentroid_resetToPeak</th><th>base_NaiveCentroid_flag_badInitialCentroid_resetToPeak</th><th>base_PsfFlux_flag_badCentroid_resetToPeak</th><th>base_SdssShape_flag_badCentroid_resetToPeak</th><th>base_Variance_flag_badCentroid_resetToPeak</th><th>slot_Centroid_flag_resetToPeak</th><th>base_SdssCentroid_flag_badError</th><th>base_CircularApertureFlux_flag_badCentroid_badError</th><th>base_GaussianFlux_flag_badCentroid_badError</th><th>base_LocalBackground_flag_badCentroid_badError</th><th>base_NaiveCentroid_flag_badInitialCentroid_badError</th><th>base_PsfFlux_flag_badCentroid_badError</th><th>base_SdssShape_flag_badCentroid_badError</th><th>base_Variance_flag_badCentroid_badError</th><th>slot_Centroid_flag_badError</th><th>base_Blendedness_old</th><th>base_Blendedness_raw</th><th>base_Blendedness_raw_child_instFlux</th><th>base_Blendedness_raw_parent_instFlux</th><th>base_Blendedness_abs</th><th>base_Blendedness_abs_child_instFlux</th><th>base_Blendedness_abs_parent_instFlux</th><th>base_Blendedness_raw_child_xx</th><th>base_Blendedness_raw_child_yy</th><th>base_Blendedness_raw_child_xy</th><th>base_Blendedness_raw_parent_xx</th><th>base_Blendedness_raw_parent_yy</th><th>base_Blendedness_raw_parent_xy</th><th>base_Blendedness_abs_child_xx</th><th>base_Blendedness_abs_child_yy</th><th>base_Blendedness_abs_child_xy</th><th>base_Blendedness_abs_parent_xx</th><th>base_Blendedness_abs_parent_yy</th><th>base_Blendedness_abs_parent_xy</th><th>base_Blendedness_flag</th><th>base_Blendedness_flag_noCentroid</th><th>base_Blendedness_flag_noShape</th><th>base_SdssShape_xx</th><th>slot_Shape_xx</th><th>base_SdssShape_yy</th><th>slot_Shape_yy</th><th>base_SdssShape_xy</th><th>slot_Shape_xy</th><th>base_SdssShape_xxErr</th><th>slot_Shape_xxErr</th><th>base_SdssShape_yyErr</th><th>slot_Shape_yyErr</th><th>base_SdssShape_xyErr</th><th>slot_Shape_xyErr</th><th>base_SdssShape_x</th><th>slot_Shape_x</th><th>base_SdssShape_y</th><th>slot_Shape_y</th><th>base_SdssShape_instFlux</th><th>slot_Shape_instFlux</th><th>base_SdssShape_instFluxErr</th><th>slot_Shape_instFluxErr</th><th>base_SdssShape_psf_xx</th><th>slot_PsfShape_xx</th><th>slot_Shape_psf_xx</th><th>base_SdssShape_psf_yy</th><th>slot_PsfShape_yy</th><th>slot_Shape_psf_yy</th><th>base_SdssShape_psf_xy</th><th>slot_PsfShape_xy</th><th>slot_Shape_psf_xy</th><th>base_SdssShape_instFlux_xx_Cov</th><th>slot_Shape_instFlux_xx_Cov</th><th>base_SdssShape_instFlux_yy_Cov</th><th>slot_Shape_instFlux_yy_Cov</th><th>base_SdssShape_instFlux_xy_Cov</th><th>slot_Shape_instFlux_xy_Cov</th><th>base_SdssShape_flag</th><th>base_GaussianFlux_flag_badShape</th><th>slot_Shape_flag</th><th>base_SdssShape_flag_unweightedBad</th><th>base_GaussianFlux_flag_badShape_unweightedBad</th><th>slot_Shape_flag_unweightedBad</th><th>base_SdssShape_flag_unweighted</th><th>base_GaussianFlux_flag_badShape_unweighted</th><th>slot_Shape_flag_unweighted</th><th>base_SdssShape_flag_shift</th><th>base_GaussianFlux_flag_badShape_shift</th><th>slot_Shape_flag_shift</th><th>base_SdssShape_flag_maxIter</th><th>base_GaussianFlux_flag_badShape_maxIter</th><th>slot_Shape_flag_maxIter</th><th>base_SdssShape_flag_psf</th><th>base_GaussianFlux_flag_badShape_psf</th><th>slot_Shape_flag_psf</th><th>base_CircularApertureFlux_3_0_instFlux</th><th>base_CircularApertureFlux_3_0_instFluxErr</th><th>base_CircularApertureFlux_3_0_flag</th><th>base_CircularApertureFlux_3_0_flag_apertureTruncated</th><th>base_CircularApertureFlux_3_0_flag_sincCoeffsTruncated</th><th>base_CircularApertureFlux_4_5_instFlux</th><th>base_CircularApertureFlux_4_5_instFluxErr</th><th>base_CircularApertureFlux_4_5_flag</th><th>base_CircularApertureFlux_4_5_flag_apertureTruncated</th><th>base_CircularApertureFlux_4_5_flag_sincCoeffsTruncated</th><th>base_CircularApertureFlux_6_0_instFlux</th><th>base_CircularApertureFlux_6_0_instFluxErr</th><th>base_CircularApertureFlux_6_0_flag</th><th>base_CircularApertureFlux_6_0_flag_apertureTruncated</th><th>base_CircularApertureFlux_6_0_flag_sincCoeffsTruncated</th><th>base_CircularApertureFlux_9_0_instFlux</th><th>base_CircularApertureFlux_9_0_instFluxErr</th><th>base_CircularApertureFlux_9_0_flag</th><th>base_CircularApertureFlux_9_0_flag_apertureTruncated</th><th>base_CircularApertureFlux_9_0_flag_sincCoeffsTruncated</th><th>base_CircularApertureFlux_12_0_instFlux</th><th>slot_ApFlux_instFlux</th><th>slot_CalibFlux_instFlux</th><th>base_CircularApertureFlux_12_0_instFluxErr</th><th>slot_ApFlux_instFluxErr</th><th>slot_CalibFlux_instFluxErr</th><th>base_CircularApertureFlux_12_0_flag</th><th>slot_ApFlux_flag</th><th>slot_CalibFlux_flag</th><th>base_CircularApertureFlux_12_0_flag_apertureTruncated</th><th>slot_ApFlux_flag_apertureTruncated</th><th>slot_CalibFlux_flag_apertureTruncated</th><th>base_CircularApertureFlux_17_0_instFlux</th><th>base_CircularApertureFlux_17_0_instFluxErr</th><th>base_CircularApertureFlux_17_0_flag</th><th>base_CircularApertureFlux_17_0_flag_apertureTruncated</th><th>base_CircularApertureFlux_25_0_instFlux</th><th>base_CircularApertureFlux_25_0_instFluxErr</th><th>base_CircularApertureFlux_25_0_flag</th><th>base_CircularApertureFlux_25_0_flag_apertureTruncated</th><th>base_CircularApertureFlux_35_0_instFlux</th><th>base_CircularApertureFlux_35_0_instFluxErr</th><th>base_CircularApertureFlux_35_0_flag</th><th>base_CircularApertureFlux_35_0_flag_apertureTruncated</th><th>base_CircularApertureFlux_50_0_instFlux</th><th>base_CircularApertureFlux_50_0_instFluxErr</th><th>base_CircularApertureFlux_50_0_flag</th><th>base_CircularApertureFlux_50_0_flag_apertureTruncated</th><th>base_CircularApertureFlux_70_0_instFlux</th><th>base_CircularApertureFlux_70_0_instFluxErr</th><th>base_CircularApertureFlux_70_0_flag</th><th>base_CircularApertureFlux_70_0_flag_apertureTruncated</th><th>base_GaussianFlux_instFlux</th><th>slot_GaussianFlux_instFlux</th><th>slot_ModelFlux_instFlux</th><th>base_GaussianFlux_instFluxErr</th><th>slot_GaussianFlux_instFluxErr</th><th>slot_ModelFlux_instFluxErr</th><th>base_GaussianFlux_flag</th><th>slot_GaussianFlux_flag</th><th>slot_ModelFlux_flag</th><th>base_LocalBackground_instFlux</th><th>base_LocalBackground_instFluxErr</th><th>base_LocalBackground_flag</th><th>base_LocalBackground_flag_noGoodPixels</th><th>base_LocalBackground_flag_noPsf</th><th>base_PixelFlags_flag</th><th>base_PixelFlags_flag_offimage</th><th>base_PixelFlags_flag_edge</th><th>base_PixelFlags_flag_interpolated</th><th>base_PixelFlags_flag_saturated</th><th>base_PixelFlags_flag_cr</th><th>base_PixelFlags_flag_bad</th><th>base_PixelFlags_flag_suspect</th><th>base_PixelFlags_flag_interpolatedCenter</th><th>base_PixelFlags_flag_saturatedCenter</th><th>base_PixelFlags_flag_crCenter</th><th>base_PixelFlags_flag_suspectCenter</th><th>base_PsfFlux_instFlux</th><th>slot_PsfFlux_instFlux</th><th>base_PsfFlux_instFluxErr</th><th>slot_PsfFlux_instFluxErr</th><th>base_PsfFlux_area</th><th>slot_PsfFlux_area</th><th>base_PsfFlux_chi2</th><th>slot_PsfFlux_chi2</th><th>base_PsfFlux_npixels</th><th>slot_PsfFlux_npixels</th><th>base_PsfFlux_flag</th><th>slot_PsfFlux_flag</th><th>base_PsfFlux_flag_noGoodPixels</th><th>slot_PsfFlux_flag_noGoodPixels</th><th>base_PsfFlux_flag_edge</th><th>slot_PsfFlux_flag_edge</th><th>base_Variance_flag</th><th>base_Variance_value</th><th>base_Variance_flag_emptyFootprint</th><th>mag_psf</th><th>magerr_psf</th></tr></thead>\n",
       "<thead><tr><th></th><th>rad</th><th>rad</th><th></th><th></th><th></th><th>pix</th><th>pix</th><th>ct</th><th></th><th></th><th></th><th></th><th></th><th></th><th></th><th>pix</th><th>pix</th><th></th><th></th><th></th><th>pix</th><th>pix</th><th></th><th></th><th></th><th></th><th>pix</th><th>pix</th><th>pix</th><th>pix</th><th>pix</th><th>pix</th><th>pix</th><th>pix</th><th></th><th></th><th></th><th></th><th></th><th></th><th></th><th></th><th></th><th></th><th></th><th></th><th></th><th></th><th></th><th></th><th></th><th></th><th></th><th></th><th></th><th></th><th></th><th></th><th></th><th></th><th></th><th></th><th></th><th></th><th></th><th></th><th></th><th></th><th></th><th></th><th></th><th></th><th></th><th></th><th></th><th></th><th></th><th></th><th></th><th></th><th></th><th></th><th></th><th></th><th></th><th></th><th></th><th></th><th></th><th></th><th></th><th></th><th></th><th></th><th></th><th></th><th></th><th></th><th></th><th>ct</th><th>ct</th><th></th><th>ct</th><th>ct</th><th>pix2</th><th>pix2</th><th>pix2</th><th>pix2</th><th>pix2</th><th>pix2</th><th>pix2</th><th>pix2</th><th>pix2</th><th>pix2</th><th>pix2</th><th>pix2</th><th></th><th></th><th></th><th>pix2</th><th>pix2</th><th>pix2</th><th>pix2</th><th>pix2</th><th>pix2</th><th>pix2</th><th>pix2</th><th>pix2</th><th>pix2</th><th>pix2</th><th>pix2</th><th>pix</th><th>pix</th><th>pix</th><th>pix</th><th>ct</th><th>ct</th><th>ct</th><th>ct</th><th>pix2</th><th>pix2</th><th>pix2</th><th>pix2</th><th>pix2</th><th>pix2</th><th>pix2</th><th>pix2</th><th>pix2</th><th>ct pix2</th><th>ct pix2</th><th>ct pix2</th><th>ct pix2</th><th>ct pix2</th><th>ct pix2</th><th></th><th></th><th></th><th></th><th></th><th></th><th></th><th></th><th></th><th></th><th></th><th></th><th></th><th></th><th></th><th></th><th></th><th></th><th>ct</th><th>ct</th><th></th><th></th><th></th><th>ct</th><th>ct</th><th></th><th></th><th></th><th>ct</th><th>ct</th><th></th><th></th><th></th><th>ct</th><th>ct</th><th></th><th></th><th></th><th>ct</th><th>ct</th><th>ct</th><th>ct</th><th>ct</th><th>ct</th><th></th><th></th><th></th><th></th><th></th><th></th><th>ct</th><th>ct</th><th></th><th></th><th>ct</th><th>ct</th><th></th><th></th><th>ct</th><th>ct</th><th></th><th></th><th>ct</th><th>ct</th><th></th><th></th><th>ct</th><th>ct</th><th></th><th></th><th>ct</th><th>ct</th><th>ct</th><th>ct</th><th>ct</th><th>ct</th><th></th><th></th><th></th><th>ct</th><th>ct</th><th></th><th></th><th></th><th></th><th></th><th></th><th></th><th></th><th></th><th></th><th></th><th></th><th></th><th></th><th></th><th>ct</th><th>ct</th><th>ct</th><th>ct</th><th>pix</th><th>pix</th><th></th><th></th><th>pix</th><th>pix</th><th></th><th></th><th></th><th></th><th></th><th></th><th></th><th></th><th></th><th></th><th></th></tr></thead>\n",
       "<thead><tr><th>int64</th><th>float64</th><th>float64</th><th>int64</th><th>int32</th><th>bool</th><th>float64</th><th>float64</th><th>float64</th><th>bool</th><th>bool</th><th>bool</th><th>bool</th><th>bool</th><th>bool</th><th>bool</th><th>int32</th><th>int32</th><th>int32</th><th>int32</th><th>int32</th><th>float64</th><th>float64</th><th>bool</th><th>bool</th><th>bool</th><th>bool</th><th>float64</th><th>float64</th><th>float64</th><th>float64</th><th>float32</th><th>float32</th><th>float32</th><th>float32</th><th>bool</th><th>bool</th><th>bool</th><th>bool</th><th>bool</th><th>bool</th><th>bool</th><th>bool</th><th>bool</th><th>bool</th><th>bool</th><th>bool</th><th>bool</th><th>bool</th><th>bool</th><th>bool</th><th>bool</th><th>bool</th><th>bool</th><th>bool</th><th>bool</th><th>bool</th><th>bool</th><th>bool</th><th>bool</th><th>bool</th><th>bool</th><th>bool</th><th>bool</th><th>bool</th><th>bool</th><th>bool</th><th>bool</th><th>bool</th><th>bool</th><th>bool</th><th>bool</th><th>bool</th><th>bool</th><th>bool</th><th>bool</th><th>bool</th><th>bool</th><th>bool</th><th>bool</th><th>bool</th><th>bool</th><th>bool</th><th>bool</th><th>bool</th><th>bool</th><th>bool</th><th>bool</th><th>bool</th><th>bool</th><th>bool</th><th>bool</th><th>bool</th><th>bool</th><th>bool</th><th>bool</th><th>bool</th><th>bool</th><th>float64</th><th>float64</th><th>float64</th><th>float64</th><th>float64</th><th>float64</th><th>float64</th><th>float64</th><th>float64</th><th>float64</th><th>float64</th><th>float64</th><th>float64</th><th>float64</th><th>float64</th><th>float64</th><th>float64</th><th>float64</th><th>float64</th><th>bool</th><th>bool</th><th>bool</th><th>float64</th><th>float64</th><th>float64</th><th>float64</th><th>float64</th><th>float64</th><th>float32</th><th>float32</th><th>float32</th><th>float32</th><th>float32</th><th>float32</th><th>float64</th><th>float64</th><th>float64</th><th>float64</th><th>float64</th><th>float64</th><th>float64</th><th>float64</th><th>float64</th><th>float64</th><th>float64</th><th>float64</th><th>float64</th><th>float64</th><th>float64</th><th>float64</th><th>float64</th><th>float32</th><th>float32</th><th>float32</th><th>float32</th><th>float32</th><th>float32</th><th>bool</th><th>bool</th><th>bool</th><th>bool</th><th>bool</th><th>bool</th><th>bool</th><th>bool</th><th>bool</th><th>bool</th><th>bool</th><th>bool</th><th>bool</th><th>bool</th><th>bool</th><th>bool</th><th>bool</th><th>bool</th><th>float64</th><th>float64</th><th>bool</th><th>bool</th><th>bool</th><th>float64</th><th>float64</th><th>bool</th><th>bool</th><th>bool</th><th>float64</th><th>float64</th><th>bool</th><th>bool</th><th>bool</th><th>float64</th><th>float64</th><th>bool</th><th>bool</th><th>bool</th><th>float64</th><th>float64</th><th>float64</th><th>float64</th><th>float64</th><th>float64</th><th>bool</th><th>bool</th><th>bool</th><th>bool</th><th>bool</th><th>bool</th><th>float64</th><th>float64</th><th>bool</th><th>bool</th><th>float64</th><th>float64</th><th>bool</th><th>bool</th><th>float64</th><th>float64</th><th>bool</th><th>bool</th><th>float64</th><th>float64</th><th>bool</th><th>bool</th><th>float64</th><th>float64</th><th>bool</th><th>bool</th><th>float64</th><th>float64</th><th>float64</th><th>float64</th><th>float64</th><th>float64</th><th>bool</th><th>bool</th><th>bool</th><th>float64</th><th>float64</th><th>bool</th><th>bool</th><th>bool</th><th>bool</th><th>bool</th><th>bool</th><th>bool</th><th>bool</th><th>bool</th><th>bool</th><th>bool</th><th>bool</th><th>bool</th><th>bool</th><th>bool</th><th>float64</th><th>float64</th><th>float64</th><th>float64</th><th>float32</th><th>float32</th><th>float32</th><th>float32</th><th>int32</th><th>int32</th><th>bool</th><th>bool</th><th>bool</th><th>bool</th><th>bool</th><th>bool</th><th>bool</th><th>float64</th><th>bool</th><th>float64</th><th>float64</th></tr></thead>\n",
       "<tr><td>1</td><td>1.038941111959905</td><td>-0.6382379815342551</td><td>0</td><td>0</td><td>False</td><td>nan</td><td>nan</td><td>nan</td><td>False</td><td>False</td><td>False</td><td>False</td><td>False</td><td>False</td><td>False</td><td>0</td><td>0</td><td>0</td><td>0</td><td>0</td><td>174.00713218330645</td><td>5.775491051969156</td><td>False</td><td>False</td><td>False</td><td>False</td><td>174.0</td><td>174.0</td><td>6.0</td><td>6.0</td><td>nan</td><td>nan</td><td>nan</td><td>nan</td><td>True</td><td>True</td><td>True</td><td>True</td><td>True</td><td>True</td><td>True</td><td>True</td><td>True</td><td>True</td><td>True</td><td>True</td><td>True</td><td>True</td><td>True</td><td>True</td><td>True</td><td>True</td><td>False</td><td>False</td><td>False</td><td>False</td><td>False</td><td>False</td><td>False</td><td>False</td><td>False</td><td>False</td><td>False</td><td>False</td><td>False</td><td>False</td><td>False</td><td>False</td><td>False</td><td>False</td><td>False</td><td>False</td><td>False</td><td>False</td><td>False</td><td>False</td><td>False</td><td>False</td><td>False</td><td>False</td><td>False</td><td>False</td><td>False</td><td>False</td><td>False</td><td>False</td><td>False</td><td>False</td><td>False</td><td>False</td><td>False</td><td>False</td><td>False</td><td>False</td><td>False</td><td>False</td><td>False</td><td>0.0</td><td>0.0</td><td>90154.03549646793</td><td>90154.03549646793</td><td>0.0</td><td>90141.32832906448</td><td>90141.32832906448</td><td>9.900097382082643</td><td>25.101081891748887</td><td>1.0572813886331873</td><td>9.900097382082643</td><td>25.101081891748887</td><td>1.0572813886331873</td><td>9.899007975759478</td><td>25.088226153137203</td><td>1.0566151786516338</td><td>9.899007975759478</td><td>25.088226153137203</td><td>1.0566151786516338</td><td>True</td><td>True</td><td>True</td><td>7.46501374048014</td><td>7.46501374048014</td><td>12.539550591108403</td><td>12.539550591108403</td><td>0.4105268183975942</td><td>0.4105268183975942</td><td>nan</td><td>nan</td><td>nan</td><td>nan</td><td>nan</td><td>nan</td><td>173.98518379979467</td><td>173.98518379979467</td><td>5.501892268274176</td><td>5.501892268274176</td><td>nan</td><td>nan</td><td>nan</td><td>nan</td><td>3.7336339926416944</td><td>3.7336339926416944</td><td>3.7336339926416944</td><td>3.724854445047564</td><td>3.724854445047564</td><td>3.724854445047564</td><td>0.029396829368879766</td><td>0.029396829368879766</td><td>0.029396829368879766</td><td>nan</td><td>nan</td><td>nan</td><td>nan</td><td>nan</td><td>nan</td><td>True</td><td>True</td><td>True</td><td>False</td><td>False</td><td>False</td><td>True</td><td>True</td><td>True</td><td>False</td><td>False</td><td>False</td><td>False</td><td>False</td><td>False</td><td>False</td><td>False</td><td>False</td><td>19687.693359375</td><td>309.8287658691406</td><td>True</td><td>False</td><td>True</td><td>48149.12109375</td><td>474.42315673828125</td><td>True</td><td>False</td><td>True</td><td>93295.8828125</td><td>643.81298828125</td><td>True</td><td>False</td><td>True</td><td>nan</td><td>nan</td><td>True</td><td>True</td><td>True</td><td>nan</td><td>nan</td><td>nan</td><td>nan</td><td>nan</td><td>nan</td><td>True</td><td>True</td><td>True</td><td>True</td><td>True</td><td>True</td><td>nan</td><td>nan</td><td>True</td><td>True</td><td>nan</td><td>nan</td><td>True</td><td>True</td><td>nan</td><td>nan</td><td>True</td><td>True</td><td>nan</td><td>nan</td><td>True</td><td>True</td><td>nan</td><td>nan</td><td>True</td><td>True</td><td>93648.5535392724</td><td>93648.5535392724</td><td>93648.5535392724</td><td>654.641678568146</td><td>654.641678568146</td><td>654.641678568146</td><td>False</td><td>False</td><td>False</td><td>30.227620995805278</td><td>53.615568013829986</td><td>True</td><td>False</td><td>False</td><td>False</td><td>False</td><td>True</td><td>False</td><td>False</td><td>False</td><td>False</td><td>False</td><td>False</td><td>False</td><td>False</td><td>False</td><td>39469.73775786264</td><td>39469.73775786264</td><td>449.24674607371435</td><td>449.24674607371435</td><td>55.493706</td><td>55.493706</td><td>36020.473</td><td>36020.473</td><td>1107</td><td>1107</td><td>True</td><td>True</td><td>False</td><td>False</td><td>True</td><td>True</td><td>False</td><td>2735.31396484375</td><td>False</td><td>20.351732257158393</td><td>0.01236014811565461</td></tr>\n",
       "<tr><td>2</td><td>1.0387690691193754</td><td>-0.6389542160633087</td><td>0</td><td>0</td><td>False</td><td>nan</td><td>nan</td><td>nan</td><td>False</td><td>False</td><td>False</td><td>False</td><td>False</td><td>False</td><td>False</td><td>0</td><td>0</td><td>0</td><td>0</td><td>0</td><td>927.0750023423852</td><td>5.631535289349715</td><td>False</td><td>False</td><td>False</td><td>False</td><td>927.0</td><td>927.0</td><td>6.0</td><td>6.0</td><td>nan</td><td>nan</td><td>nan</td><td>nan</td><td>True</td><td>True</td><td>True</td><td>True</td><td>True</td><td>True</td><td>True</td><td>True</td><td>True</td><td>True</td><td>True</td><td>True</td><td>True</td><td>True</td><td>True</td><td>True</td><td>True</td><td>True</td><td>False</td><td>False</td><td>False</td><td>False</td><td>False</td><td>False</td><td>False</td><td>False</td><td>False</td><td>False</td><td>False</td><td>False</td><td>False</td><td>False</td><td>False</td><td>False</td><td>False</td><td>False</td><td>False</td><td>False</td><td>False</td><td>False</td><td>False</td><td>False</td><td>False</td><td>False</td><td>False</td><td>False</td><td>False</td><td>False</td><td>False</td><td>False</td><td>False</td><td>False</td><td>False</td><td>False</td><td>False</td><td>False</td><td>False</td><td>False</td><td>False</td><td>False</td><td>False</td><td>False</td><td>False</td><td>0.0</td><td>0.0</td><td>12873.212750321707</td><td>12873.212750321707</td><td>0.0</td><td>12931.711926811593</td><td>12931.711926811593</td><td>6.878210175871242</td><td>12.413251684447404</td><td>-2.7779735605552167</td><td>6.878210175871242</td><td>12.413251684447404</td><td>-2.7779735605552167</td><td>7.117485172983125</td><td>12.750275782045485</td><td>-2.834736219041488</td><td>7.117485172983125</td><td>12.750275782045485</td><td>-2.834736219041488</td><td>True</td><td>True</td><td>True</td><td>5.8320774826865085</td><td>5.8320774826865085</td><td>8.888892968056352</td><td>8.888892968056352</td><td>-1.6681840105550618</td><td>-1.6681840105550618</td><td>nan</td><td>nan</td><td>nan</td><td>nan</td><td>nan</td><td>nan</td><td>927.0666602611399</td><td>927.0666602611399</td><td>5.32137911672914</td><td>5.32137911672914</td><td>nan</td><td>nan</td><td>nan</td><td>nan</td><td>3.7497788762249766</td><td>3.7497788762249766</td><td>3.7497788762249766</td><td>3.724911818651103</td><td>3.724911818651103</td><td>3.724911818651103</td><td>0.02953307461117736</td><td>0.02953307461117736</td><td>0.02953307461117736</td><td>nan</td><td>nan</td><td>nan</td><td>nan</td><td>nan</td><td>nan</td><td>True</td><td>True</td><td>True</td><td>False</td><td>False</td><td>False</td><td>True</td><td>True</td><td>True</td><td>False</td><td>False</td><td>False</td><td>False</td><td>False</td><td>False</td><td>False</td><td>False</td><td>False</td><td>5181.32373046875</td><td>276.82672119140625</td><td>True</td><td>False</td><td>True</td><td>10095.666015625</td><td>416.8013000488281</td><td>True</td><td>False</td><td>True</td><td>13958.5107421875</td><td>553.8450927734375</td><td>True</td><td>False</td><td>True</td><td>nan</td><td>nan</td><td>True</td><td>True</td><td>True</td><td>nan</td><td>nan</td><td>nan</td><td>nan</td><td>nan</td><td>nan</td><td>True</td><td>True</td><td>True</td><td>True</td><td>True</td><td>True</td><td>nan</td><td>nan</td><td>True</td><td>True</td><td>nan</td><td>nan</td><td>True</td><td>True</td><td>nan</td><td>nan</td><td>True</td><td>True</td><td>nan</td><td>nan</td><td>True</td><td>True</td><td>nan</td><td>nan</td><td>True</td><td>True</td><td>13147.846949887462</td><td>13147.846949887462</td><td>13147.846949887462</td><td>496.7457852621976</td><td>496.7457852621976</td><td>496.7457852621976</td><td>False</td><td>False</td><td>False</td><td>-0.6684774836263593</td><td>50.8340465323243</td><td>True</td><td>False</td><td>False</td><td>False</td><td>False</td><td>True</td><td>False</td><td>False</td><td>False</td><td>False</td><td>False</td><td>False</td><td>False</td><td>False</td><td>False</td><td>8800.387877820327</td><td>8800.387877820327</td><td>402.86612870160894</td><td>402.86612870160894</td><td>55.79182</td><td>55.79182</td><td>1778.3024</td><td>1778.3024</td><td>1107</td><td>1107</td><td>True</td><td>True</td><td>False</td><td>False</td><td>True</td><td>True</td><td>False</td><td>2621.4306640625</td><td>False</td><td>21.98113832405411</td><td>0.04970363191004359</td></tr>\n",
       "<tr><td>3</td><td>1.0386634100232173</td><td>-0.6393936438200585</td><td>0</td><td>0</td><td>False</td><td>nan</td><td>nan</td><td>nan</td><td>False</td><td>False</td><td>False</td><td>False</td><td>False</td><td>False</td><td>False</td><td>0</td><td>0</td><td>0</td><td>0</td><td>0</td><td>1388.9995776541234</td><td>5.67707570385128</td><td>False</td><td>False</td><td>False</td><td>False</td><td>1389.0</td><td>1389.0</td><td>6.0</td><td>6.0</td><td>nan</td><td>nan</td><td>nan</td><td>nan</td><td>True</td><td>True</td><td>True</td><td>True</td><td>True</td><td>True</td><td>True</td><td>True</td><td>True</td><td>True</td><td>True</td><td>True</td><td>True</td><td>True</td><td>True</td><td>True</td><td>True</td><td>True</td><td>False</td><td>False</td><td>False</td><td>False</td><td>False</td><td>False</td><td>False</td><td>False</td><td>False</td><td>False</td><td>False</td><td>False</td><td>False</td><td>False</td><td>False</td><td>False</td><td>False</td><td>False</td><td>False</td><td>False</td><td>False</td><td>False</td><td>False</td><td>False</td><td>False</td><td>False</td><td>False</td><td>False</td><td>False</td><td>False</td><td>False</td><td>False</td><td>False</td><td>False</td><td>False</td><td>False</td><td>False</td><td>False</td><td>False</td><td>False</td><td>False</td><td>False</td><td>False</td><td>False</td><td>False</td><td>0.0</td><td>0.0</td><td>1713944.154821773</td><td>1713944.154821773</td><td>0.0</td><td>1713944.1389170235</td><td>1713944.1389170235</td><td>3.8658868190370406</td><td>8.8832150357117</td><td>0.027783867173287985</td><td>3.8658868190370406</td><td>8.8832150357117</td><td>0.027783867173287985</td><td>3.865886779895556</td><td>8.883213935948387</td><td>0.027783572256779267</td><td>3.865886779895556</td><td>8.883213935948387</td><td>0.027783572256779267</td><td>False</td><td>True</td><td>False</td><td>3.8823339365236715</td><td>3.8823339365236715</td><td>8.888869820222057</td><td>8.888869820222057</td><td>0.02800669671200905</td><td>0.02800669671200905</td><td>0.013865157</td><td>0.013865157</td><td>0.03174523</td><td>0.03174523</td><td>0.014835137</td><td>0.014835137</td><td>1388.9931987595664</td><td>1388.9931987595664</td><td>4.721076902065218</td><td>4.721076902065218</td><td>1754645.2627622802</td><td>1754645.2627622802</td><td>3133.2226139460336</td><td>3133.2226139460336</td><td>3.7623722796572143</td><td>3.7623722796572143</td><td>3.7623722796572143</td><td>3.7226280536911065</td><td>3.7226280536911065</td><td>3.7226280536911065</td><td>0.02826646374316349</td><td>0.02826646374316349</td><td>0.02826646374316349</td><td>-21.721312</td><td>-21.721312</td><td>-49.732433</td><td>-49.732433</td><td>-0.15669498</td><td>-0.15669498</td><td>False</td><td>False</td><td>False</td><td>False</td><td>False</td><td>False</td><td>False</td><td>False</td><td>False</td><td>False</td><td>False</td><td>False</td><td>False</td><td>False</td><td>False</td><td>False</td><td>False</td><td>False</td><td>912870.375</td><td>1164.785400390625</td><td>True</td><td>False</td><td>True</td><td>1421335.5</td><td>1484.5469970703125</td><td>True</td><td>False</td><td>True</td><td>1663466.5</td><td>1643.92041015625</td><td>True</td><td>False</td><td>True</td><td>nan</td><td>nan</td><td>True</td><td>True</td><td>True</td><td>nan</td><td>nan</td><td>nan</td><td>nan</td><td>nan</td><td>nan</td><td>True</td><td>True</td><td>True</td><td>True</td><td>True</td><td>True</td><td>nan</td><td>nan</td><td>True</td><td>True</td><td>nan</td><td>nan</td><td>True</td><td>True</td><td>nan</td><td>nan</td><td>True</td><td>True</td><td>nan</td><td>nan</td><td>True</td><td>True</td><td>nan</td><td>nan</td><td>True</td><td>True</td><td>1754645.2627622802</td><td>1754645.2627622802</td><td>1754645.2627622802</td><td>2215.5229650089937</td><td>2215.5229650089937</td><td>2215.5229650089937</td><td>False</td><td>False</td><td>False</td><td>4.100421785476368</td><td>50.76433486892095</td><td>True</td><td>False</td><td>False</td><td>False</td><td>False</td><td>True</td><td>False</td><td>False</td><td>False</td><td>False</td><td>False</td><td>False</td><td>False</td><td>False</td><td>False</td><td>1456537.0327626292</td><td>1456537.0327626292</td><td>1737.2193618115182</td><td>1737.2193618115182</td><td>56.010494</td><td>56.010494</td><td>604788.7</td><td>604788.7</td><td>1107</td><td>1107</td><td>True</td><td>True</td><td>False</td><td>False</td><td>True</td><td>True</td><td>False</td><td>4762.58203125</td><td>False</td><td>16.43408903156359</td><td>0.0013161526924397723</td></tr>\n",
       "<tr><td>4</td><td>1.038263392641077</td><td>-0.64105423212134</td><td>0</td><td>0</td><td>False</td><td>nan</td><td>nan</td><td>nan</td><td>False</td><td>False</td><td>False</td><td>False</td><td>False</td><td>False</td><td>False</td><td>0</td><td>0</td><td>0</td><td>0</td><td>0</td><td>3135.2569192109836</td><td>5.579935310389705</td><td>False</td><td>False</td><td>False</td><td>False</td><td>3135.0</td><td>3135.0</td><td>6.0</td><td>6.0</td><td>nan</td><td>nan</td><td>nan</td><td>nan</td><td>True</td><td>True</td><td>True</td><td>True</td><td>True</td><td>True</td><td>True</td><td>True</td><td>True</td><td>True</td><td>True</td><td>True</td><td>True</td><td>True</td><td>True</td><td>True</td><td>True</td><td>True</td><td>False</td><td>False</td><td>False</td><td>False</td><td>False</td><td>False</td><td>False</td><td>False</td><td>False</td><td>False</td><td>False</td><td>False</td><td>False</td><td>False</td><td>False</td><td>False</td><td>False</td><td>False</td><td>False</td><td>False</td><td>False</td><td>False</td><td>False</td><td>False</td><td>False</td><td>False</td><td>False</td><td>False</td><td>False</td><td>False</td><td>False</td><td>False</td><td>False</td><td>False</td><td>False</td><td>False</td><td>False</td><td>False</td><td>False</td><td>False</td><td>False</td><td>False</td><td>False</td><td>False</td><td>False</td><td>0.0</td><td>0.0</td><td>9254.403477195934</td><td>9254.403477195934</td><td>0.0</td><td>9826.978998567047</td><td>9826.978998567047</td><td>7.3916578950472225</td><td>23.588959826683617</td><td>3.3952677521031878</td><td>7.3916578950472225</td><td>23.588959826683617</td><td>3.3952677521031878</td><td>7.959092256054049</td><td>24.410154416004364</td><td>3.4598116140363677</td><td>7.959092256054049</td><td>24.410154416004364</td><td>3.4598116140363677</td><td>True</td><td>True</td><td>True</td><td>6.227582202028492</td><td>6.227582202028492</td><td>12.365968916892493</td><td>12.365968916892493</td><td>1.3617616419542626</td><td>1.3617616419542626</td><td>nan</td><td>nan</td><td>nan</td><td>nan</td><td>nan</td><td>nan</td><td>3135.2424416313193</td><td>3135.2424416313193</td><td>5.146941256624001</td><td>5.146941256624001</td><td>nan</td><td>nan</td><td>nan</td><td>nan</td><td>3.830739779312611</td><td>3.830739779312611</td><td>3.830739779312611</td><td>3.6990923467326677</td><td>3.6990923467326677</td><td>3.6990923467326677</td><td>0.013130864613092534</td><td>0.013130864613092534</td><td>0.013130864613092534</td><td>nan</td><td>nan</td><td>nan</td><td>nan</td><td>nan</td><td>nan</td><td>True</td><td>True</td><td>True</td><td>False</td><td>False</td><td>False</td><td>True</td><td>True</td><td>True</td><td>False</td><td>False</td><td>False</td><td>False</td><td>False</td><td>False</td><td>False</td><td>False</td><td>False</td><td>2363.96142578125</td><td>269.91986083984375</td><td>True</td><td>False</td><td>True</td><td>5563.9365234375</td><td>409.052978515625</td><td>True</td><td>False</td><td>True</td><td>9770.376953125</td><td>548.3698120117188</td><td>True</td><td>False</td><td>True</td><td>nan</td><td>nan</td><td>True</td><td>True</td><td>True</td><td>nan</td><td>nan</td><td>nan</td><td>nan</td><td>nan</td><td>nan</td><td>True</td><td>True</td><td>True</td><td>True</td><td>True</td><td>True</td><td>nan</td><td>nan</td><td>True</td><td>True</td><td>nan</td><td>nan</td><td>True</td><td>True</td><td>nan</td><td>nan</td><td>True</td><td>True</td><td>nan</td><td>nan</td><td>True</td><td>True</td><td>nan</td><td>nan</td><td>True</td><td>True</td><td>9598.094435841762</td><td>9598.094435841762</td><td>9598.094435841762</td><td>542.3506582407009</td><td>542.3506582407009</td><td>542.3506582407009</td><td>False</td><td>False</td><td>False</td><td>1.8766540796323807</td><td>53.00258561551216</td><td>True</td><td>False</td><td>False</td><td>False</td><td>False</td><td>True</td><td>False</td><td>False</td><td>False</td><td>False</td><td>False</td><td>False</td><td>False</td><td>False</td><td>False</td><td>4548.800330450391</td><td>4548.800330450391</td><td>397.3710220031983</td><td>397.3710220031983</td><td>57.083366</td><td>57.083366</td><td>1893.7985</td><td>1893.7985</td><td>1107</td><td>1107</td><td>True</td><td>True</td><td>False</td><td>False</td><td>True</td><td>True</td><td>False</td><td>2635.88525390625</td><td>False</td><td>22.697650674656874</td><td>0.09484730054400424</td></tr>\n",
       "<tr><td>5</td><td>1.0382780051071236</td><td>-0.6409529116078244</td><td>0</td><td>0</td><td>False</td><td>nan</td><td>nan</td><td>nan</td><td>False</td><td>False</td><td>False</td><td>False</td><td>False</td><td>False</td><td>False</td><td>0</td><td>0</td><td>0</td><td>0</td><td>0</td><td>3030.0442112686233</td><td>13.899432771971714</td><td>False</td><td>False</td><td>False</td><td>False</td><td>3030.0</td><td>3030.0</td><td>14.0</td><td>14.0</td><td>nan</td><td>nan</td><td>nan</td><td>nan</td><td>True</td><td>True</td><td>True</td><td>True</td><td>True</td><td>True</td><td>True</td><td>True</td><td>True</td><td>True</td><td>True</td><td>True</td><td>True</td><td>True</td><td>True</td><td>True</td><td>True</td><td>True</td><td>False</td><td>False</td><td>False</td><td>False</td><td>False</td><td>False</td><td>False</td><td>False</td><td>False</td><td>False</td><td>False</td><td>False</td><td>False</td><td>False</td><td>False</td><td>False</td><td>False</td><td>False</td><td>False</td><td>False</td><td>False</td><td>False</td><td>False</td><td>False</td><td>False</td><td>False</td><td>False</td><td>False</td><td>False</td><td>False</td><td>False</td><td>False</td><td>False</td><td>False</td><td>False</td><td>False</td><td>False</td><td>False</td><td>False</td><td>False</td><td>False</td><td>False</td><td>False</td><td>False</td><td>False</td><td>0.0</td><td>0.0</td><td>21210.33847668898</td><td>21210.33847668898</td><td>0.0</td><td>21410.2556497818</td><td>21410.2556497818</td><td>8.853575258274002</td><td>7.532831102595206</td><td>-0.07341475574645906</td><td>8.853575258274002</td><td>7.532831102595206</td><td>-0.07341475574645906</td><td>9.152474098478116</td><td>7.683758264293946</td><td>-0.09939964336418733</td><td>9.152474098478116</td><td>7.683758264293946</td><td>-0.09939964336418733</td><td>False</td><td>True</td><td>False</td><td>8.952742407396856</td><td>8.952742407396856</td><td>7.625731011008247</td><td>7.625731011008247</td><td>-0.06568562298745582</td><td>-0.06568562298745582</td><td>0.68515396</td><td>0.68515396</td><td>0.58359766</td><td>0.58359766</td><td>0.44714627</td><td>0.44714627</td><td>3030.2387120676317</td><td>3030.2387120676317</td><td>13.864934879380979</td><td>13.864934879380979</td><td>21477.20158401038</td><td>21477.20158401038</td><td>821.8258400812897</td><td>821.8258400812897</td><td>3.8251591289937754</td><td>3.8251591289937754</td><td>3.8251591289937754</td><td>3.701317506790886</td><td>3.701317506790886</td><td>3.701317506790886</td><td>0.01434032143585944</td><td>0.01434032143585944</td><td>0.01434032143585944</td><td>-281.5386</td><td>-281.5386</td><td>-239.80783</td><td>-239.80783</td><td>2.0656283</td><td>2.0656283</td><td>False</td><td>False</td><td>False</td><td>False</td><td>False</td><td>False</td><td>False</td><td>False</td><td>False</td><td>False</td><td>False</td><td>False</td><td>False</td><td>False</td><td>False</td><td>False</td><td>False</td><td>False</td><td>9276.1376953125</td><td>287.3371276855469</td><td>True</td><td>False</td><td>False</td><td>14750.107421875</td><td>425.08001708984375</td><td>True</td><td>False</td><td>True</td><td>18348.3359375</td><td>559.9395751953125</td><td>True</td><td>False</td><td>True</td><td>23142.44140625</td><td>828.18603515625</td><td>True</td><td>False</td><td>True</td><td>26759.053595900536</td><td>26759.053595900536</td><td>26759.053595900536</td><td>1092.3838320496316</td><td>1092.3838320496316</td><td>1092.3838320496316</td><td>True</td><td>True</td><td>True</td><td>False</td><td>False</td><td>False</td><td>nan</td><td>nan</td><td>True</td><td>True</td><td>nan</td><td>nan</td><td>True</td><td>True</td><td>nan</td><td>nan</td><td>True</td><td>True</td><td>nan</td><td>nan</td><td>True</td><td>True</td><td>nan</td><td>nan</td><td>True</td><td>True</td><td>21477.201584010385</td><td>21477.201584010385</td><td>21477.201584010385</td><td>581.1186254330163</td><td>581.1186254330163</td><td>581.1186254330163</td><td>False</td><td>False</td><td>False</td><td>1.181910402558456</td><td>48.177174618704065</td><td>True</td><td>False</td><td>False</td><td>False</td><td>False</td><td>True</td><td>False</td><td>False</td><td>False</td><td>False</td><td>False</td><td>False</td><td>False</td><td>False</td><td>False</td><td>15271.53402970806</td><td>15271.53402970806</td><td>424.7564511665018</td><td>424.7564511665018</td><td>57.686977</td><td>57.686977</td><td>1657.674</td><td>1657.674</td><td>1435</td><td>1435</td><td>True</td><td>True</td><td>False</td><td>False</td><td>True</td><td>True</td><td>False</td><td>2630.689208984375</td><td>False</td><td>21.382686198783357</td><td>0.030199156553778084</td></tr>\n",
       "<tr><td>6</td><td>1.038080965769489</td><td>-0.6417895825415102</td><td>0</td><td>0</td><td>False</td><td>nan</td><td>nan</td><td>nan</td><td>False</td><td>False</td><td>False</td><td>False</td><td>False</td><td>False</td><td>False</td><td>0</td><td>0</td><td>0</td><td>0</td><td>0</td><td>3908.8608276937716</td><td>9.940784288785471</td><td>False</td><td>False</td><td>False</td><td>False</td><td>3909.0</td><td>3909.0</td><td>10.0</td><td>10.0</td><td>nan</td><td>nan</td><td>nan</td><td>nan</td><td>True</td><td>True</td><td>True</td><td>True</td><td>True</td><td>True</td><td>True</td><td>True</td><td>True</td><td>True</td><td>True</td><td>True</td><td>True</td><td>True</td><td>True</td><td>True</td><td>True</td><td>True</td><td>False</td><td>False</td><td>False</td><td>False</td><td>False</td><td>False</td><td>False</td><td>False</td><td>False</td><td>False</td><td>False</td><td>False</td><td>False</td><td>False</td><td>False</td><td>False</td><td>False</td><td>False</td><td>False</td><td>False</td><td>False</td><td>False</td><td>False</td><td>False</td><td>False</td><td>False</td><td>False</td><td>False</td><td>False</td><td>False</td><td>False</td><td>False</td><td>False</td><td>False</td><td>False</td><td>False</td><td>False</td><td>False</td><td>False</td><td>False</td><td>False</td><td>False</td><td>False</td><td>False</td><td>False</td><td>0.0</td><td>0.0</td><td>4778.384365973484</td><td>4778.384365973484</td><td>0.0</td><td>5008.97559346324</td><td>5008.97559346324</td><td>8.071871544165372</td><td>3.7149716456506643</td><td>1.3967031875636209</td><td>8.071871544165372</td><td>3.7149716456506643</td><td>1.3967031875636209</td><td>9.927264204386523</td><td>4.900679941192601</td><td>1.8997686175157495</td><td>9.927264204386523</td><td>4.900679941192601</td><td>1.8997686175157495</td><td>False</td><td>True</td><td>False</td><td>8.179999540580697</td><td>8.179999540580697</td><td>3.8233380055519093</td><td>3.8233380055519093</td><td>1.494333595259377</td><td>1.494333595259377</td><td>2.049969</td><td>2.049969</td><td>0.9581571</td><td>0.9581571</td><td>1.0257767</td><td>1.0257767</td><td>3908.97981160803</td><td>3908.97981160803</td><td>9.973553462206281</td><td>9.973553462206281</td><td>4845.867048772052</td><td>4845.867048772052</td><td>607.2052545578243</td><td>607.2052545578243</td><td>3.8708597200534904</td><td>3.8708597200534904</td><td>3.8708597200534904</td><td>3.6809923245111045</td><td>3.6809923245111045</td><td>3.6809923245111045</td><td>0.0011708510048818968</td><td>0.0011708510048818968</td><td>0.0011708510048818968</td><td>-622.376</td><td>-622.376</td><td>-290.89902</td><td>-290.89902</td><td>-113.69651</td><td>-113.69651</td><td>False</td><td>False</td><td>False</td><td>False</td><td>False</td><td>False</td><td>False</td><td>False</td><td>False</td><td>False</td><td>False</td><td>False</td><td>False</td><td>False</td><td>False</td><td>False</td><td>False</td><td>False</td><td>2748.32177734375</td><td>270.8600158691406</td><td>True</td><td>False</td><td>False</td><td>4028.59033203125</td><td>406.4264831542969</td><td>True</td><td>False</td><td>True</td><td>4442.7578125</td><td>541.2879028320312</td><td>True</td><td>False</td><td>True</td><td>5319.59375</td><td>811.7353515625</td><td>True</td><td>False</td><td>True</td><td>nan</td><td>nan</td><td>nan</td><td>nan</td><td>nan</td><td>nan</td><td>True</td><td>True</td><td>True</td><td>True</td><td>True</td><td>True</td><td>nan</td><td>nan</td><td>True</td><td>True</td><td>nan</td><td>nan</td><td>True</td><td>True</td><td>nan</td><td>nan</td><td>True</td><td>True</td><td>nan</td><td>nan</td><td>True</td><td>True</td><td>nan</td><td>nan</td><td>True</td><td>True</td><td>4845.867048772052</td><td>4845.867048772052</td><td>4845.867048772052</td><td>429.35895306709756</td><td>429.35895306709756</td><td>429.35895306709756</td><td>False</td><td>False</td><td>False</td><td>2.494275362329257</td><td>51.15622371129441</td><td>True</td><td>False</td><td>False</td><td>False</td><td>False</td><td>True</td><td>False</td><td>False</td><td>False</td><td>False</td><td>False</td><td>False</td><td>False</td><td>False</td><td>False</td><td>4320.636299955004</td><td>4320.636299955004</td><td>401.1137420457595</td><td>401.1137420457595</td><td>58.32168</td><td>58.32168</td><td>1319.4324</td><td>1319.4324</td><td>1271</td><td>1271</td><td>True</td><td>True</td><td>False</td><td>False</td><td>True</td><td>True</td><td>False</td><td>2628.108154296875</td><td>False</td><td>22.753523584251912</td><td>0.10079647245205313</td></tr>\n",
       "<tr><td>7</td><td>1.0383343118381023</td><td>-0.640704140650313</td><td>0</td><td>0</td><td>False</td><td>nan</td><td>nan</td><td>nan</td><td>False</td><td>False</td><td>False</td><td>False</td><td>False</td><td>False</td><td>False</td><td>0</td><td>0</td><td>0</td><td>0</td><td>0</td><td>2769.0019917174827</td><td>17.010799609104687</td><td>False</td><td>False</td><td>False</td><td>False</td><td>2769.0</td><td>2769.0</td><td>17.0</td><td>17.0</td><td>nan</td><td>nan</td><td>nan</td><td>nan</td><td>True</td><td>True</td><td>True</td><td>True</td><td>True</td><td>True</td><td>True</td><td>True</td><td>True</td><td>True</td><td>True</td><td>True</td><td>True</td><td>True</td><td>True</td><td>True</td><td>True</td><td>True</td><td>False</td><td>False</td><td>False</td><td>False</td><td>False</td><td>False</td><td>False</td><td>False</td><td>False</td><td>False</td><td>False</td><td>False</td><td>False</td><td>False</td><td>False</td><td>False</td><td>False</td><td>False</td><td>False</td><td>False</td><td>False</td><td>False</td><td>False</td><td>False</td><td>False</td><td>False</td><td>False</td><td>False</td><td>False</td><td>False</td><td>False</td><td>False</td><td>False</td><td>False</td><td>False</td><td>False</td><td>False</td><td>False</td><td>False</td><td>False</td><td>False</td><td>False</td><td>False</td><td>False</td><td>False</td><td>0.0</td><td>0.0</td><td>41261.01488907795</td><td>41261.01488907795</td><td>0.0</td><td>41282.410856804716</td><td>41282.410856804716</td><td>12.700364111806385</td><td>18.746717466518824</td><td>-2.6287164403481107</td><td>12.700364111806385</td><td>18.746717466518824</td><td>-2.6287164403481107</td><td>12.85463686530359</td><td>18.906842247270614</td><td>-2.652610133354782</td><td>12.85463686530359</td><td>18.906842247270614</td><td>-2.652610133354782</td><td>False</td><td>True</td><td>False</td><td>12.760181180565374</td><td>12.760181180565374</td><td>18.844836908187695</td><td>18.844836908187695</td><td>-2.6708353695502205</td><td>-2.6708353695502205</td><td>0.6886903</td><td>0.6886903</td><td>1.0170903</td><td>1.0170903</td><td>0.6005162</td><td>0.6005162</td><td>2769.088045331484</td><td>2769.088045331484</td><td>16.747760750349308</td><td>16.747760750349308</td><td>41743.29553000862</td><td>41743.29553000862</td><td>1126.480946585434</td><td>1126.480946585434</td><td>3.813111848724622</td><td>3.813111848724622</td><td>3.813111848724622</td><td>3.706225256069009</td><td>3.706225256069009</td><td>3.706225256069009</td><td>0.017409746950032726</td><td>0.017409746950032726</td><td>0.017409746950032726</td><td>-387.8983</td><td>-387.8983</td><td>-572.86646</td><td>-572.86646</td><td>81.19103</td><td>81.19103</td><td>False</td><td>False</td><td>False</td><td>False</td><td>False</td><td>False</td><td>False</td><td>False</td><td>False</td><td>False</td><td>False</td><td>False</td><td>False</td><td>False</td><td>False</td><td>False</td><td>False</td><td>False</td><td>11375.0166015625</td><td>291.650634765625</td><td>True</td><td>False</td><td>False</td><td>20023.6796875</td><td>432.9118957519531</td><td>True</td><td>False</td><td>False</td><td>27689.58984375</td><td>570.69189453125</td><td>True</td><td>False</td><td>False</td><td>38730.3828125</td><td>840.9220581054688</td><td>True</td><td>False</td><td>True</td><td>43245.07374536991</td><td>43245.07374536991</td><td>43245.07374536991</td><td>1102.1692592010243</td><td>1102.1692592010243</td><td>1102.1692592010243</td><td>True</td><td>True</td><td>True</td><td>False</td><td>False</td><td>False</td><td>47601.98605924845</td><td>1556.901845240377</td><td>True</td><td>False</td><td>nan</td><td>nan</td><td>True</td><td>True</td><td>nan</td><td>nan</td><td>True</td><td>True</td><td>nan</td><td>nan</td><td>True</td><td>True</td><td>nan</td><td>nan</td><td>True</td><td>True</td><td>41743.29553000862</td><td>41743.29553000862</td><td>41743.29553000862</td><td>796.5423301497871</td><td>796.5423301497871</td><td>796.5423301497871</td><td>False</td><td>False</td><td>False</td><td>1.865368440444272</td><td>50.65479994084391</td><td>True</td><td>False</td><td>False</td><td>False</td><td>False</td><td>True</td><td>False</td><td>False</td><td>False</td><td>False</td><td>False</td><td>False</td><td>False</td><td>False</td><td>False</td><td>19498.51118149549</td><td>19498.51118149549</td><td>430.50283083765197</td><td>430.50283083765197</td><td>57.504616</td><td>57.504616</td><td>2476.6436</td><td>2476.6436</td><td>1558</td><td>1558</td><td>True</td><td>True</td><td>False</td><td>False</td><td>True</td><td>True</td><td>False</td><td>2625.343017578125</td><td>False</td><td>21.11738922975273</td><td>0.0239728565238181</td></tr>\n",
       "<tr><td>8</td><td>1.0381870620862617</td><td>-0.6413196423911409</td><td>0</td><td>0</td><td>False</td><td>nan</td><td>nan</td><td>nan</td><td>False</td><td>False</td><td>False</td><td>False</td><td>False</td><td>False</td><td>False</td><td>0</td><td>0</td><td>0</td><td>0</td><td>0</td><td>3416.0061410129374</td><td>16.016110416444267</td><td>False</td><td>False</td><td>False</td><td>False</td><td>3416.0</td><td>3416.0</td><td>16.0</td><td>16.0</td><td>nan</td><td>nan</td><td>nan</td><td>nan</td><td>True</td><td>True</td><td>True</td><td>True</td><td>True</td><td>True</td><td>True</td><td>True</td><td>True</td><td>True</td><td>True</td><td>True</td><td>True</td><td>True</td><td>True</td><td>True</td><td>True</td><td>True</td><td>False</td><td>False</td><td>False</td><td>False</td><td>False</td><td>False</td><td>False</td><td>False</td><td>False</td><td>False</td><td>False</td><td>False</td><td>False</td><td>False</td><td>False</td><td>False</td><td>False</td><td>False</td><td>False</td><td>False</td><td>False</td><td>False</td><td>False</td><td>False</td><td>False</td><td>False</td><td>False</td><td>False</td><td>False</td><td>False</td><td>False</td><td>False</td><td>False</td><td>False</td><td>False</td><td>False</td><td>False</td><td>False</td><td>False</td><td>False</td><td>False</td><td>False</td><td>False</td><td>False</td><td>False</td><td>0.0</td><td>0.0</td><td>18908.64384509817</td><td>18908.64384509817</td><td>0.0</td><td>19240.398396341134</td><td>19240.398396341134</td><td>11.955731158131966</td><td>13.355909254464326</td><td>1.6547917765405606</td><td>11.955731158131966</td><td>13.355909254464326</td><td>1.6547917765405606</td><td>12.509644904127718</td><td>14.490248302664977</td><td>1.5523135492973887</td><td>12.509644904127718</td><td>14.490248302664977</td><td>1.5523135492973887</td><td>False</td><td>True</td><td>False</td><td>11.93534094019706</td><td>11.93534094019706</td><td>13.441671529999729</td><td>13.441671529999729</td><td>1.6347021021332004</td><td>1.6347021021332004</td><td>1.2279938</td><td>1.2279938</td><td>1.382976</td><td>1.382976</td><td>0.9291324</td><td>0.9291324</td><td>3415.8407261863636</td><td>3415.8407261863636</td><td>16.106853509927436</td><td>16.106853509927436</td><td>19121.240105488276</td><td>19121.240105488276</td><td>983.6655815702208</td><td>983.6655815702208</td><td>3.843869479161679</td><td>3.843869479161679</td><td>3.843869479161679</td><td>3.693188647182753</td><td>3.693188647182753</td><td>3.693188647182753</td><td>0.009018920798441564</td><td>0.009018920798441564</td><td>0.009018920798441564</td><td>-603.9677</td><td>-603.9677</td><td>-680.193</td><td>-680.193</td><td>-82.72133</td><td>-82.72133</td><td>False</td><td>False</td><td>False</td><td>False</td><td>False</td><td>False</td><td>False</td><td>False</td><td>False</td><td>False</td><td>False</td><td>False</td><td>False</td><td>False</td><td>False</td><td>False</td><td>False</td><td>False</td><td>5951.8388671875</td><td>278.933837890625</td><td>True</td><td>False</td><td>False</td><td>10644.5</td><td>417.7410583496094</td><td>True</td><td>False</td><td>False</td><td>13763.6572265625</td><td>553.467041015625</td><td>True</td><td>False</td><td>False</td><td>18562.1328125</td><td>823.7098388671875</td><td>True</td><td>False</td><td>True</td><td>20446.036603212357</td><td>20446.036603212357</td><td>20446.036603212357</td><td>1087.3963087015397</td><td>1087.3963087015397</td><td>1087.3963087015397</td><td>True</td><td>True</td><td>True</td><td>False</td><td>False</td><td>False</td><td>nan</td><td>nan</td><td>True</td><td>True</td><td>nan</td><td>nan</td><td>True</td><td>True</td><td>nan</td><td>nan</td><td>True</td><td>True</td><td>nan</td><td>nan</td><td>True</td><td>True</td><td>nan</td><td>nan</td><td>True</td><td>True</td><td>19121.24010548828</td><td>19121.24010548828</td><td>19121.24010548828</td><td>695.5565805420893</td><td>695.5565805420893</td><td>695.5565805420893</td><td>False</td><td>False</td><td>False</td><td>2.947856848032552</td><td>49.98994886983186</td><td>True</td><td>False</td><td>False</td><td>False</td><td>False</td><td>True</td><td>False</td><td>False</td><td>False</td><td>False</td><td>False</td><td>False</td><td>False</td><td>False</td><td>False</td><td>10383.425851417212</td><td>10383.425851417212</td><td>413.39226723469557</td><td>413.39226723469557</td><td>57.96186</td><td>57.96186</td><td>1654.3706</td><td>1654.3706</td><td>1517</td><td>1517</td><td>True</td><td>True</td><td>False</td><td>False</td><td>True</td><td>True</td><td>False</td><td>2624.53759765625</td><td>False</td><td>21.801541194571282</td><td>0.04322673488564218</td></tr>\n",
       "<tr><td>9</td><td>1.0387196641779148</td><td>-0.6390985018257813</td><td>0</td><td>0</td><td>False</td><td>nan</td><td>nan</td><td>nan</td><td>False</td><td>False</td><td>False</td><td>False</td><td>False</td><td>False</td><td>False</td><td>0</td><td>0</td><td>0</td><td>0</td><td>0</td><td>1081.1279700411062</td><td>18.1198423477606</td><td>False</td><td>False</td><td>False</td><td>False</td><td>1081.0</td><td>1081.0</td><td>18.0</td><td>18.0</td><td>nan</td><td>nan</td><td>nan</td><td>nan</td><td>True</td><td>True</td><td>True</td><td>True</td><td>True</td><td>True</td><td>True</td><td>True</td><td>True</td><td>True</td><td>True</td><td>True</td><td>True</td><td>True</td><td>True</td><td>True</td><td>True</td><td>True</td><td>False</td><td>False</td><td>False</td><td>False</td><td>False</td><td>False</td><td>False</td><td>False</td><td>False</td><td>False</td><td>False</td><td>False</td><td>False</td><td>False</td><td>False</td><td>False</td><td>False</td><td>False</td><td>False</td><td>False</td><td>False</td><td>False</td><td>False</td><td>False</td><td>False</td><td>False</td><td>False</td><td>False</td><td>False</td><td>False</td><td>False</td><td>False</td><td>False</td><td>False</td><td>False</td><td>False</td><td>False</td><td>False</td><td>False</td><td>False</td><td>False</td><td>False</td><td>False</td><td>False</td><td>False</td><td>0.0</td><td>0.0</td><td>4797.049610446571</td><td>4797.049610446571</td><td>0.0</td><td>4935.17332714918</td><td>4935.17332714918</td><td>8.541655134648874</td><td>3.466373141147298</td><td>0.6986258202316004</td><td>8.541655134648874</td><td>3.466373141147298</td><td>0.6986258202316004</td><td>9.667970422663286</td><td>4.289552603530465</td><td>0.9423988373024439</td><td>9.667970422663286</td><td>4.289552603530465</td><td>0.9423988373024439</td><td>False</td><td>True</td><td>False</td><td>8.466534328898813</td><td>8.466534328898813</td><td>3.4553615833144544</td><td>3.4553615833144544</td><td>0.6362232667396767</td><td>0.6362232667396767</td><td>2.1245034</td><td>2.1245034</td><td>0.86705226</td><td>0.86705226</td><td>0.9663185</td><td>0.9663185</td><td>1081.136217181122</td><td>1081.136217181122</td><td>18.0843830653527</td><td>18.0843830653527</td><td>4851.0313275094395</td><td>4851.0313275094395</td><td>608.6334621229261</td><td>608.6334621229261</td><td>3.7531447577131596</td><td>3.7531447577131596</td><td>3.7531447577131596</td><td>3.7244625759337295</td><td>3.7244625759337295</td><td>3.7244625759337295</td><td>0.028944513727836543</td><td>0.028944513727836543</td><td>0.028944513727836543</td><td>-646.5219</td><td>-646.5219</td><td>-263.85852</td><td>-263.85852</td><td>-48.583313</td><td>-48.583313</td><td>False</td><td>False</td><td>False</td><td>False</td><td>False</td><td>False</td><td>False</td><td>False</td><td>False</td><td>False</td><td>False</td><td>False</td><td>False</td><td>False</td><td>False</td><td>False</td><td>False</td><td>False</td><td>2757.96484375</td><td>270.96282958984375</td><td>True</td><td>False</td><td>False</td><td>3943.157958984375</td><td>406.4284362792969</td><td>True</td><td>False</td><td>False</td><td>4258.294921875</td><td>541.2990112304688</td><td>True</td><td>False</td><td>False</td><td>4647.66650390625</td><td>811.73583984375</td><td>True</td><td>False</td><td>True</td><td>4327.334289073944</td><td>4327.334289073944</td><td>4327.334289073944</td><td>1076.9514454103696</td><td>1076.9514454103696</td><td>1076.9514454103696</td><td>True</td><td>True</td><td>True</td><td>False</td><td>False</td><td>False</td><td>4477.579261779785</td><td>1537.343836390891</td><td>True</td><td>False</td><td>nan</td><td>nan</td><td>True</td><td>True</td><td>nan</td><td>nan</td><td>True</td><td>True</td><td>nan</td><td>nan</td><td>True</td><td>True</td><td>nan</td><td>nan</td><td>True</td><td>True</td><td>4851.031327509438</td><td>4851.031327509438</td><td>4851.031327509438</td><td>430.368853220637</td><td>430.368853220637</td><td>430.368853220637</td><td>False</td><td>False</td><td>False</td><td>0.814448060894983</td><td>50.68672357493089</td><td>True</td><td>False</td><td>False</td><td>False</td><td>False</td><td>False</td><td>False</td><td>False</td><td>False</td><td>False</td><td>False</td><td>False</td><td>False</td><td>False</td><td>False</td><td>4313.910724017991</td><td>4313.910724017991</td><td>395.56609193420223</td><td>395.56609193420223</td><td>56.49643</td><td>56.49643</td><td>1605.6735</td><td>1605.6735</td><td>1599</td><td>1599</td><td>True</td><td>True</td><td>False</td><td>False</td><td>True</td><td>True</td><td>False</td><td>2614.2060546875</td><td>False</td><td>22.755214976457935</td><td>0.0995573746357614</td></tr>\n",
       "<tr><td>...</td><td>...</td><td>...</td><td>...</td><td>...</td><td>...</td><td>...</td><td>...</td><td>...</td><td>...</td><td>...</td><td>...</td><td>...</td><td>...</td><td>...</td><td>...</td><td>...</td><td>...</td><td>...</td><td>...</td><td>...</td><td>...</td><td>...</td><td>...</td><td>...</td><td>...</td><td>...</td><td>...</td><td>...</td><td>...</td><td>...</td><td>...</td><td>...</td><td>...</td><td>...</td><td>...</td><td>...</td><td>...</td><td>...</td><td>...</td><td>...</td><td>...</td><td>...</td><td>...</td><td>...</td><td>...</td><td>...</td><td>...</td><td>...</td><td>...</td><td>...</td><td>...</td><td>...</td><td>...</td><td>...</td><td>...</td><td>...</td><td>...</td><td>...</td><td>...</td><td>...</td><td>...</td><td>...</td><td>...</td><td>...</td><td>...</td><td>...</td><td>...</td><td>...</td><td>...</td><td>...</td><td>...</td><td>...</td><td>...</td><td>...</td><td>...</td><td>...</td><td>...</td><td>...</td><td>...</td><td>...</td><td>...</td><td>...</td><td>...</td><td>...</td><td>...</td><td>...</td><td>...</td><td>...</td><td>...</td><td>...</td><td>...</td><td>...</td><td>...</td><td>...</td><td>...</td><td>...</td><td>...</td><td>...</td><td>...</td><td>...</td><td>...</td><td>...</td><td>...</td><td>...</td><td>...</td><td>...</td><td>...</td><td>...</td><td>...</td><td>...</td><td>...</td><td>...</td><td>...</td><td>...</td><td>...</td><td>...</td><td>...</td><td>...</td><td>...</td><td>...</td><td>...</td><td>...</td><td>...</td><td>...</td><td>...</td><td>...</td><td>...</td><td>...</td><td>...</td><td>...</td><td>...</td><td>...</td><td>...</td><td>...</td><td>...</td><td>...</td><td>...</td><td>...</td><td>...</td><td>...</td><td>...</td><td>...</td><td>...</td><td>...</td><td>...</td><td>...</td><td>...</td><td>...</td><td>...</td><td>...</td><td>...</td><td>...</td><td>...</td><td>...</td><td>...</td><td>...</td><td>...</td><td>...</td><td>...</td><td>...</td><td>...</td><td>...</td><td>...</td><td>...</td><td>...</td><td>...</td><td>...</td><td>...</td><td>...</td><td>...</td><td>...</td><td>...</td><td>...</td><td>...</td><td>...</td><td>...</td><td>...</td><td>...</td><td>...</td><td>...</td><td>...</td><td>...</td><td>...</td><td>...</td><td>...</td><td>...</td><td>...</td><td>...</td><td>...</td><td>...</td><td>...</td><td>...</td><td>...</td><td>...</td><td>...</td><td>...</td><td>...</td><td>...</td><td>...</td><td>...</td><td>...</td><td>...</td><td>...</td><td>...</td><td>...</td><td>...</td><td>...</td><td>...</td><td>...</td><td>...</td><td>...</td><td>...</td><td>...</td><td>...</td><td>...</td><td>...</td><td>...</td><td>...</td><td>...</td><td>...</td><td>...</td><td>...</td><td>...</td><td>...</td><td>...</td><td>...</td><td>...</td><td>...</td><td>...</td><td>...</td><td>...</td><td>...</td><td>...</td><td>...</td><td>...</td><td>...</td><td>...</td><td>...</td><td>...</td><td>...</td><td>...</td><td>...</td><td>...</td><td>...</td><td>...</td><td>...</td><td>...</td><td>...</td><td>...</td><td>...</td><td>...</td><td>...</td><td>...</td><td>...</td><td>...</td><td>...</td><td>...</td><td>...</td><td>...</td><td>...</td><td>...</td><td>...</td><td>...</td><td>...</td><td>...</td><td>...</td><td>...</td><td>...</td><td>...</td><td>...</td><td>...</td></tr>\n",
       "<tr><td>1243</td><td>1.0341600936340265</td><td>-0.6396290224188468</td><td>986</td><td>0</td><td>False</td><td>nan</td><td>nan</td><td>nan</td><td>False</td><td>False</td><td>False</td><td>False</td><td>False</td><td>False</td><td>False</td><td>2337</td><td>3627</td><td>113743</td><td>1</td><td>2</td><td>2336.1778256513244</td><td>3627.0208195462683</td><td>False</td><td>False</td><td>False</td><td>False</td><td>2336.9606135464137</td><td>2336.9606135464137</td><td>3627.1145277836</td><td>3627.1145277836</td><td>0.0027705077</td><td>0.0027705077</td><td>0.0027437392</td><td>0.0027437392</td><td>False</td><td>False</td><td>False</td><td>False</td><td>False</td><td>False</td><td>False</td><td>False</td><td>False</td><td>False</td><td>False</td><td>False</td><td>False</td><td>False</td><td>False</td><td>False</td><td>False</td><td>False</td><td>False</td><td>False</td><td>False</td><td>False</td><td>False</td><td>False</td><td>False</td><td>False</td><td>False</td><td>False</td><td>False</td><td>False</td><td>False</td><td>False</td><td>False</td><td>False</td><td>False</td><td>False</td><td>False</td><td>False</td><td>False</td><td>False</td><td>False</td><td>False</td><td>False</td><td>False</td><td>False</td><td>False</td><td>False</td><td>False</td><td>False</td><td>False</td><td>False</td><td>False</td><td>False</td><td>False</td><td>False</td><td>False</td><td>False</td><td>False</td><td>False</td><td>False</td><td>False</td><td>False</td><td>False</td><td>1.5287345936985098e-06</td><td>0.0</td><td>2595359.52934688</td><td>2595359.52934688</td><td>0.0</td><td>2595359.52934688</td><td>2595359.52934688</td><td>3.7230062293957347</td><td>3.6948950070123634</td><td>-0.019873253054470807</td><td>3.7230062293957347</td><td>3.6948950070123634</td><td>-0.019873253054470807</td><td>3.7230062293957347</td><td>3.6948950070123634</td><td>-0.019873253054470807</td><td>3.7230062293957347</td><td>3.6948950070123634</td><td>-0.019873253054470807</td><td>False</td><td>False</td><td>False</td><td>3.7374623451355036</td><td>3.7374623451355036</td><td>3.708569881619557</td><td>3.708569881619557</td><td>-0.019332921337683315</td><td>-0.019332921337683315</td><td>0.011422222</td><td>0.011422222</td><td>0.011333922</td><td>0.011333922</td><td>0.00804556</td><td>0.00804556</td><td>2336.9605223557105</td><td>2336.9605223557105</td><td>3627.114093051528</td><td>3627.114093051528</td><td>2626508.544242382</td><td>2626508.544242382</td><td>4013.4937699087186</td><td>4013.4937699087186</td><td>3.7174748851995556</td><td>3.7174748851995556</td><td>3.7174748851995556</td><td>3.6854147946342692</td><td>3.6854147946342692</td><td>3.6854147946342692</td><td>-0.0015131821639323396</td><td>-0.0015131821639323396</td><td>-0.0015131821639323396</td><td>-22.921509</td><td>-22.921509</td><td>-22.744312</td><td>-22.744312</td><td>0.11856701</td><td>0.11856701</td><td>False</td><td>False</td><td>False</td><td>False</td><td>False</td><td>False</td><td>False</td><td>False</td><td>False</td><td>False</td><td>False</td><td>False</td><td>False</td><td>False</td><td>False</td><td>False</td><td>False</td><td>False</td><td>1837408.75</td><td>1647.1531982421875</td><td>False</td><td>False</td><td>False</td><td>2443644.25</td><td>1928.2076416015625</td><td>False</td><td>False</td><td>False</td><td>2679287.0</td><td>2051.291015625</td><td>False</td><td>False</td><td>False</td><td>2822594.25</td><td>2186.850830078125</td><td>False</td><td>False</td><td>False</td><td>2867074.5690350533</td><td>2867074.5690350533</td><td>2867074.5690350533</td><td>2315.927980927256</td><td>2315.927980927256</td><td>2315.927980927256</td><td>False</td><td>False</td><td>False</td><td>False</td><td>False</td><td>False</td><td>2894522.0467308164</td><td>2568.5189256525923</td><td>False</td><td>False</td><td>2898080.4117534384</td><td>3093.170399068855</td><td>False</td><td>False</td><td>2907454.991249405</td><td>4318.780970204846</td><td>False</td><td>False</td><td>2916648.808692783</td><td>5461.5518741269225</td><td>False</td><td>False</td><td>2915424.1170496717</td><td>7037.950671539926</td><td>False</td><td>False</td><td>2626508.544242382</td><td>2626508.544242382</td><td>2626508.544242382</td><td>2706.2824925378527</td><td>2706.2824925378527</td><td>2706.2824925378527</td><td>False</td><td>False</td><td>False</td><td>10.245615931172967</td><td>53.68519781751281</td><td>False</td><td>False</td><td>False</td><td>False</td><td>False</td><td>False</td><td>False</td><td>False</td><td>False</td><td>False</td><td>False</td><td>False</td><td>False</td><td>False</td><td>False</td><td>2880889.461272262</td><td>2880889.461272262</td><td>2536.2609708106006</td><td>2536.2609708106006</td><td>56.140266</td><td>56.140266</td><td>3179.5437</td><td>3179.5437</td><td>1681</td><td>1681</td><td>False</td><td>False</td><td>False</td><td>False</td><td>False</td><td>False</td><td>True</td><td>nan</td><td>True</td><td>15.693576372217493</td><td>0.0009843705301495003</td></tr>\n",
       "<tr><td>1244</td><td>1.0341962551420207</td><td>-0.6396363456557163</td><td>986</td><td>0</td><td>False</td><td>nan</td><td>nan</td><td>nan</td><td>False</td><td>False</td><td>False</td><td>False</td><td>False</td><td>False</td><td>False</td><td>2340</td><td>3596</td><td>113742</td><td>1</td><td>2</td><td>2338.0609217102074</td><td>3596.0129520090186</td><td>False</td><td>False</td><td>False</td><td>False</td><td>2338.6445891714025</td><td>2338.6445891714025</td><td>3596.2303079870476</td><td>3596.2303079870476</td><td>0.010183507</td><td>0.010183507</td><td>0.009019412</td><td>0.009019412</td><td>False</td><td>False</td><td>False</td><td>False</td><td>False</td><td>False</td><td>False</td><td>False</td><td>False</td><td>False</td><td>False</td><td>False</td><td>False</td><td>False</td><td>False</td><td>False</td><td>False</td><td>False</td><td>False</td><td>False</td><td>False</td><td>False</td><td>False</td><td>False</td><td>False</td><td>False</td><td>False</td><td>False</td><td>False</td><td>False</td><td>False</td><td>False</td><td>False</td><td>False</td><td>False</td><td>False</td><td>False</td><td>False</td><td>False</td><td>False</td><td>False</td><td>False</td><td>False</td><td>False</td><td>False</td><td>False</td><td>False</td><td>False</td><td>False</td><td>False</td><td>False</td><td>False</td><td>False</td><td>False</td><td>False</td><td>False</td><td>False</td><td>False</td><td>False</td><td>False</td><td>False</td><td>False</td><td>False</td><td>2.756361724666734e-06</td><td>0.0</td><td>2382539.969020506</td><td>2382539.969020506</td><td>0.0</td><td>2382539.969020506</td><td>2382539.969020506</td><td>12.808725589542533</td><td>9.02281588438329</td><td>-0.1384758381412862</td><td>12.808725589542533</td><td>9.02281588438329</td><td>-0.1384758381412862</td><td>12.808725589542533</td><td>9.02281588438329</td><td>-0.1384758381412862</td><td>12.808725589542533</td><td>9.02281588438329</td><td>-0.1384758381412862</td><td>True</td><td>False</td><td>True</td><td>8.471084713940343</td><td>8.471084713940343</td><td>6.95228334200569</td><td>6.95228334200569</td><td>-0.04202602912536186</td><td>-0.04202602912536186</td><td>nan</td><td>nan</td><td>nan</td><td>nan</td><td>nan</td><td>nan</td><td>2338.8624083597674</td><td>2338.8624083597674</td><td>3596.296032566946</td><td>3596.296032566946</td><td>nan</td><td>nan</td><td>nan</td><td>nan</td><td>3.7170064072761955</td><td>3.7170064072761955</td><td>3.7170064072761955</td><td>3.686236033045422</td><td>3.686236033045422</td><td>3.686236033045422</td><td>-0.0016925232013639897</td><td>-0.0016925232013639897</td><td>-0.0016925232013639897</td><td>nan</td><td>nan</td><td>nan</td><td>nan</td><td>nan</td><td>nan</td><td>True</td><td>True</td><td>True</td><td>False</td><td>False</td><td>False</td><td>True</td><td>True</td><td>True</td><td>False</td><td>False</td><td>False</td><td>False</td><td>False</td><td>False</td><td>False</td><td>False</td><td>False</td><td>902627.375</td><td>1121.67041015625</td><td>False</td><td>False</td><td>False</td><td>1840162.25</td><td>1656.68505859375</td><td>False</td><td>False</td><td>False</td><td>2622646.5</td><td>2008.8016357421875</td><td>False</td><td>False</td><td>False</td><td>3227585.5</td><td>2302.6953125</td><td>False</td><td>False</td><td>False</td><td>3420100.351135254</td><td>3420100.351135254</td><td>3420100.351135254</td><td>2474.1411535629704</td><td>2474.1411535629704</td><td>2474.1411535629704</td><td>False</td><td>False</td><td>False</td><td>False</td><td>False</td><td>False</td><td>3523448.1442961395</td><td>2731.4695303828958</td><td>False</td><td>False</td><td>3535918.2053496055</td><td>3208.4207907409814</td><td>False</td><td>False</td><td>3542667.4234461524</td><td>4384.285215386143</td><td>False</td><td>False</td><td>3542998.8950972594</td><td>5464.517749568718</td><td>False</td><td>False</td><td>3543484.16121741</td><td>7038.651269098951</td><td>False</td><td>False</td><td>2409174.9227101803</td><td>2409174.9227101803</td><td>2409174.9227101803</td><td>1394.7182739761324</td><td>1394.7182739761324</td><td>1394.7182739761324</td><td>False</td><td>False</td><td>False</td><td>21.16808765686737</td><td>63.70137529300516</td><td>False</td><td>False</td><td>False</td><td>False</td><td>False</td><td>False</td><td>True</td><td>True</td><td>False</td><td>False</td><td>False</td><td>True</td><td>True</td><td>False</td><td>False</td><td>1462802.4411606588</td><td>1462802.4411606588</td><td>1539.1686740183488</td><td>1539.1686740183488</td><td>56.12194</td><td>56.12194</td><td>1321411.1</td><td>1321411.1</td><td>1681</td><td>1681</td><td>False</td><td>False</td><td>False</td><td>False</td><td>False</td><td>False</td><td>True</td><td>nan</td><td>True</td><td>16.42942866832698</td><td>0.001166381524322451</td></tr>\n",
       "<tr><td>1245</td><td>1.034114262486247</td><td>-0.6391924209401688</td><td>1021</td><td>0</td><td>False</td><td>nan</td><td>nan</td><td>nan</td><td>False</td><td>False</td><td>False</td><td>False</td><td>False</td><td>False</td><td>False</td><td>1902</td><td>3751</td><td>113744</td><td>1</td><td>3</td><td>1901.0732563416568</td><td>3750.9914870473553</td><td>False</td><td>False</td><td>False</td><td>False</td><td>1901.9734897141675</td><td>1901.9734897141675</td><td>3751.137737078173</td><td>3751.137737078173</td><td>0.1480295</td><td>0.1480295</td><td>0.14384677</td><td>0.14384677</td><td>False</td><td>False</td><td>False</td><td>False</td><td>False</td><td>False</td><td>False</td><td>False</td><td>False</td><td>False</td><td>False</td><td>False</td><td>False</td><td>False</td><td>False</td><td>False</td><td>False</td><td>False</td><td>False</td><td>False</td><td>False</td><td>False</td><td>False</td><td>False</td><td>False</td><td>False</td><td>False</td><td>False</td><td>False</td><td>False</td><td>False</td><td>False</td><td>False</td><td>False</td><td>False</td><td>False</td><td>False</td><td>False</td><td>False</td><td>False</td><td>False</td><td>False</td><td>False</td><td>False</td><td>False</td><td>False</td><td>False</td><td>False</td><td>False</td><td>False</td><td>False</td><td>False</td><td>False</td><td>False</td><td>False</td><td>False</td><td>False</td><td>False</td><td>False</td><td>False</td><td>False</td><td>False</td><td>False</td><td>0.004273402235319848</td><td>0.00043797326404371173</td><td>79554.0158965278</td><td>79588.8736953217</td><td>0.00044762529583275423</td><td>79484.07369388816</td><td>79519.6687091186</td><td>18.073321397029762</td><td>16.566147577733286</td><td>-0.9160784977010153</td><td>18.12799259384491</td><td>16.566225805672264</td><td>-0.9132295049879583</td><td>18.03727061898082</td><td>16.48590481618849</td><td>-0.9092603431794407</td><td>18.093564776389925</td><td>16.486206046686533</td><td>-0.9061251803393096</td><td>False</td><td>False</td><td>False</td><td>18.329730967022392</td><td>18.329730967022392</td><td>16.75237455877173</td><td>16.75237455877173</td><td>-0.9545414016680063</td><td>-0.9545414016680063</td><td>0.60825104</td><td>0.60825104</td><td>0.55590826</td><td>0.55590826</td><td>0.4117858</td><td>0.4117858</td><td>1901.9751962842886</td><td>1901.9751962842886</td><td>3751.1377472278946</td><td>3751.1377472278946</td><td>80527.9718408268</td><td>80527.9718408268</td><td>1336.1140072194733</td><td>1336.1140072194733</td><td>3.7213784222110466</td><td>3.7213784222110466</td><td>3.7213784222110466</td><td>3.6849210083574877</td><td>3.6849210083574877</td><td>3.6849210083574877</td><td>-0.0014933472701989412</td><td>-0.0014933472701989412</td><td>-0.0014933472701989412</td><td>-406.34634</td><td>-406.34634</td><td>-371.37842</td><td>-371.37842</td><td>21.160946</td><td>21.160946</td><td>False</td><td>False</td><td>False</td><td>False</td><td>False</td><td>False</td><td>False</td><td>False</td><td>False</td><td>False</td><td>False</td><td>False</td><td>False</td><td>False</td><td>False</td><td>False</td><td>False</td><td>False</td><td>21295.021484375</td><td>314.76715087890625</td><td>False</td><td>False</td><td>False</td><td>36126.34765625</td><td>458.0631103515625</td><td>False</td><td>False</td><td>False</td><td>49275.48046875</td><td>596.6642456054688</td><td>False</td><td>False</td><td>False</td><td>70230.7421875</td><td>866.5776977539062</td><td>False</td><td>False</td><td>False</td><td>85618.98588687181</td><td>85618.98588687181</td><td>85618.98588687181</td><td>1135.978133837373</td><td>1135.978133837373</td><td>1135.978133837373</td><td>False</td><td>False</td><td>False</td><td>False</td><td>False</td><td>False</td><td>104820.9801889211</td><td>1587.0889133864368</td><td>False</td><td>False</td><td>119083.97853298485</td><td>2305.7515352027513</td><td>False</td><td>False</td><td>129179.54086269438</td><td>3203.8172868882007</td><td>False</td><td>False</td><td>134003.5201614052</td><td>4549.284224074818</td><td>False</td><td>False</td><td>140243.55121684074</td><td>6355.487447959588</td><td>False</td><td>False</td><td>80527.9718408268</td><td>80527.9718408268</td><td>80527.9718408268</td><td>907.6282331531762</td><td>907.6282331531762</td><td>907.6282331531762</td><td>False</td><td>False</td><td>False</td><td>15.247142866948806</td><td>53.465246392471244</td><td>False</td><td>False</td><td>False</td><td>False</td><td>False</td><td>False</td><td>False</td><td>False</td><td>False</td><td>False</td><td>False</td><td>False</td><td>False</td><td>False</td><td>False</td><td>35097.23377545087</td><td>35097.23377545087</td><td>458.23366649806906</td><td>458.23366649806906</td><td>56.217102</td><td>56.217102</td><td>4883.002</td><td>4883.002</td><td>1681</td><td>1681</td><td>False</td><td>False</td><td>False</td><td>False</td><td>False</td><td>False</td><td>False</td><td>2643.78564453125</td><td>False</td><td>20.479210638274882</td><td>0.014177452673084713</td></tr>\n",
       "<tr><td>1246</td><td>1.0341089109120327</td><td>-0.6392081580386593</td><td>1021</td><td>0</td><td>True</td><td>1918.0</td><td>3752.0</td><td>3783.6918309614075</td><td>False</td><td>False</td><td>False</td><td>False</td><td>False</td><td>False</td><td>False</td><td>1918</td><td>3752</td><td>113745</td><td>1</td><td>3</td><td>1917.9897486196437</td><td>3752.136298575707</td><td>False</td><td>False</td><td>False</td><td>False</td><td>1918.7633927897457</td><td>1918.7633927897457</td><td>3752.3685355016596</td><td>3752.3685355016596</td><td>0.32720047</td><td>0.32720047</td><td>0.5193159</td><td>0.5193159</td><td>False</td><td>False</td><td>False</td><td>False</td><td>False</td><td>False</td><td>False</td><td>False</td><td>False</td><td>False</td><td>False</td><td>False</td><td>False</td><td>False</td><td>False</td><td>False</td><td>False</td><td>False</td><td>False</td><td>False</td><td>False</td><td>False</td><td>False</td><td>False</td><td>False</td><td>False</td><td>False</td><td>False</td><td>False</td><td>False</td><td>False</td><td>False</td><td>False</td><td>False</td><td>False</td><td>False</td><td>False</td><td>False</td><td>False</td><td>False</td><td>False</td><td>False</td><td>False</td><td>False</td><td>False</td><td>False</td><td>False</td><td>False</td><td>False</td><td>False</td><td>False</td><td>False</td><td>False</td><td>False</td><td>False</td><td>False</td><td>False</td><td>False</td><td>False</td><td>False</td><td>False</td><td>False</td><td>False</td><td>0.09417112359705704</td><td>0.1534509823378153</td><td>14368.997540047567</td><td>16973.61551458502</td><td>0.16581578430998622</td><td>14204.732937336463</td><td>17028.292636281432</td><td>7.712065446364998</td><td>23.753920693976227</td><td>-1.0544323266042874</td><td>11.72501810531082</td><td>23.86855426524737</td><td>-0.170174557028353</td><td>7.29755272158834</td><td>26.6856831795101</td><td>-1.2863054950909545</td><td>11.807426294640802</td><td>26.434465036277793</td><td>-0.30356663113795906</td><td>False</td><td>False</td><td>False</td><td>7.80796580738316</td><td>7.80796580738316</td><td>24.116208934712823</td><td>24.116208934712823</td><td>-1.0286610290706302</td><td>-1.0286610290706302</td><td>1.0588752</td><td>1.0588752</td><td>3.270513</td><td>3.270513</td><td>1.3195691</td><td>1.3195691</td><td>1918.859535017685</td><td>1918.859535017685</td><td>3752.4540189596837</td><td>3752.4540189596837</td><td>14543.948589942256</td><td>14543.948589942256</td><td>986.186765648018</td><td>986.186765648018</td><td>3.721303264284795</td><td>3.721303264284795</td><td>3.721303264284795</td><td>3.684794710484223</td><td>3.684794710484223</td><td>3.684794710484223</td><td>-0.0014379668202198358</td><td>-0.0014379668202198358</td><td>-0.0014379668202198358</td><td>-522.1243</td><td>-522.1243</td><td>-1612.6683</td><td>-1612.6683</td><td>68.78729</td><td>68.78729</td><td>False</td><td>False</td><td>False</td><td>False</td><td>False</td><td>False</td><td>False</td><td>False</td><td>False</td><td>False</td><td>False</td><td>False</td><td>False</td><td>False</td><td>False</td><td>False</td><td>False</td><td>False</td><td>4524.23193359375</td><td>277.83770751953125</td><td>False</td><td>False</td><td>False</td><td>7458.1611328125</td><td>413.44158935546875</td><td>False</td><td>False</td><td>False</td><td>9717.720703125</td><td>551.2766723632812</td><td>False</td><td>False</td><td>False</td><td>13188.34765625</td><td>825.4779052734375</td><td>False</td><td>False</td><td>False</td><td>15722.528851598501</td><td>15722.528851598501</td><td>15722.528851598501</td><td>1112.011576530519</td><td>1112.011576530519</td><td>1112.011576530519</td><td>False</td><td>False</td><td>False</td><td>False</td><td>False</td><td>False</td><td>19847.267230608093</td><td>1575.4952707464822</td><td>False</td><td>False</td><td>27737.85258504844</td><td>2304.3791790056525</td><td>False</td><td>False</td><td>35016.74846160508</td><td>3203.2285267568573</td><td>False</td><td>False</td><td>43113.88284070886</td><td>4551.378191535264</td><td>False</td><td>False</td><td>58348.766537950396</td><td>6358.61910000015</td><td>False</td><td>False</td><td>14543.948589942258</td><td>14543.948589942258</td><td>14543.948589942258</td><td>712.6398886138348</td><td>712.6398886138348</td><td>712.6398886138348</td><td>False</td><td>False</td><td>False</td><td>6.145797042881815</td><td>47.18522374692823</td><td>False</td><td>False</td><td>False</td><td>False</td><td>False</td><td>False</td><td>False</td><td>False</td><td>False</td><td>False</td><td>False</td><td>False</td><td>False</td><td>False</td><td>False</td><td>7341.519000756068</td><td>7341.519000756068</td><td>401.29087510169006</td><td>401.29087510169006</td><td>56.1716</td><td>56.1716</td><td>1335.8988</td><td>1335.8988</td><td>1681</td><td>1681</td><td>False</td><td>False</td><td>False</td><td>False</td><td>False</td><td>False</td><td>False</td><td>2641.83056640625</td><td>False</td><td>22.17792804155668</td><td>0.05934731679701303</td></tr>\n",
       "<tr><td>1247</td><td>1.034110348848954</td><td>-0.6392185792163182</td><td>1021</td><td>0</td><td>False</td><td>nan</td><td>nan</td><td>nan</td><td>False</td><td>False</td><td>False</td><td>False</td><td>False</td><td>False</td><td>False</td><td>1929</td><td>3749</td><td>113746</td><td>1</td><td>3</td><td>1929.1086845394627</td><td>3749.0954938014033</td><td>False</td><td>False</td><td>False</td><td>False</td><td>1929.091239895427</td><td>1929.091239895427</td><td>3749.1280373469085</td><td>3749.1280373469085</td><td>0.24666613</td><td>0.24666613</td><td>0.22255994</td><td>0.22255994</td><td>False</td><td>False</td><td>False</td><td>False</td><td>False</td><td>False</td><td>False</td><td>False</td><td>False</td><td>False</td><td>False</td><td>False</td><td>False</td><td>False</td><td>False</td><td>False</td><td>False</td><td>False</td><td>False</td><td>False</td><td>False</td><td>False</td><td>False</td><td>False</td><td>False</td><td>False</td><td>False</td><td>False</td><td>False</td><td>False</td><td>False</td><td>False</td><td>False</td><td>False</td><td>False</td><td>False</td><td>False</td><td>False</td><td>False</td><td>False</td><td>False</td><td>False</td><td>False</td><td>False</td><td>False</td><td>False</td><td>False</td><td>False</td><td>False</td><td>False</td><td>False</td><td>False</td><td>False</td><td>False</td><td>False</td><td>False</td><td>False</td><td>False</td><td>False</td><td>False</td><td>False</td><td>False</td><td>False</td><td>0.023099259915666446</td><td>0.021483644552699244</td><td>9279.621804938299</td><td>9483.358917078484</td><td>0.018110593230103667</td><td>9314.468809933593</td><td>9486.270801693676</td><td>7.380506464442043</td><td>5.814137446740717</td><td>-0.47567427113745003</td><td>8.150617503153637</td><td>6.31685889535275</td><td>-0.708833783175205</td><td>7.66135680142973</td><td>6.185573044371508</td><td>-0.4282188604833829</td><td>8.324234460399492</td><td>6.501001267772829</td><td>-0.7469681665076993</td><td>False</td><td>False</td><td>False</td><td>7.4859633513420345</td><td>7.4859633513420345</td><td>5.837289599030146</td><td>5.837289599030146</td><td>-0.43541191609926194</td><td>-0.43541191609926194</td><td>1.1174908</td><td>1.1174908</td><td>0.87137985</td><td>0.87137985</td><td>0.6992795</td><td>0.6992795</td><td>1929.03842021072</td><td>1929.03842021072</td><td>3749.117618276762</td><td>3749.117618276762</td><td>9384.350992990892</td><td>9384.350992990892</td><td>700.4392302993301</td><td>700.4392302993301</td><td>3.7211654186398526</td><td>3.7211654186398526</td><td>3.7211654186398526</td><td>3.6848384058386916</td><td>3.6848384058386916</td><td>3.6848384058386916</td><td>-0.001428769790308905</td><td>-0.001428769790308905</td><td>-0.001428769790308905</td><td>-391.36716</td><td>-391.36716</td><td>-305.17432</td><td>-305.17432</td><td>22.763395</td><td>22.763395</td><td>False</td><td>False</td><td>False</td><td>False</td><td>False</td><td>False</td><td>False</td><td>False</td><td>False</td><td>False</td><td>False</td><td>False</td><td>False</td><td>False</td><td>False</td><td>False</td><td>False</td><td>False</td><td>4766.5107421875</td><td>277.4555969238281</td><td>False</td><td>False</td><td>False</td><td>7140.60693359375</td><td>411.888671875</td><td>False</td><td>False</td><td>False</td><td>8823.5205078125</td><td>547.5590209960938</td><td>False</td><td>False</td><td>False</td><td>10077.36328125</td><td>819.5050659179688</td><td>False</td><td>False</td><td>False</td><td>11764.77177041769</td><td>11764.77177041769</td><td>11764.77177041769</td><td>1094.7829098176983</td><td>1094.7829098176983</td><td>1094.7829098176983</td><td>False</td><td>False</td><td>False</td><td>False</td><td>False</td><td>False</td><td>13980.712602749467</td><td>1551.9215942713165</td><td>False</td><td>False</td><td>17350.77244760096</td><td>2284.6964560396714</td><td>False</td><td>False</td><td>25608.320331811905</td><td>3198.388728179076</td><td>False</td><td>False</td><td>39617.132160663605</td><td>4549.937716134488</td><td>False</td><td>False</td><td>54325.12630906701</td><td>6356.191145080734</td><td>False</td><td>False</td><td>9384.35099299089</td><td>9384.35099299089</td><td>9384.35099299089</td><td>495.2853416120047</td><td>495.2853416120047</td><td>495.2853416120047</td><td>False</td><td>False</td><td>False</td><td>3.520652752327573</td><td>52.19333278203609</td><td>False</td><td>False</td><td>False</td><td>False</td><td>False</td><td>False</td><td>False</td><td>False</td><td>False</td><td>False</td><td>False</td><td>False</td><td>False</td><td>False</td><td>False</td><td>7496.063144441272</td><td>7496.063144441272</td><td>402.1740859790556</td><td>402.1740859790556</td><td>56.214024</td><td>56.214024</td><td>1727.1163</td><td>1727.1163</td><td>1681</td><td>1681</td><td>False</td><td>False</td><td>False</td><td>False</td><td>False</td><td>False</td><td>False</td><td>2628.27294921875</td><td>False</td><td>22.155309768763995</td><td>0.05825171390372142</td></tr>\n",
       "<tr><td>1248</td><td>1.0335904777581846</td><td>-0.6407941195088142</td><td>1045</td><td>0</td><td>False</td><td>nan</td><td>nan</td><td>nan</td><td>False</td><td>False</td><td>False</td><td>False</td><td>False</td><td>False</td><td>False</td><td>3606</td><td>3859</td><td>113747</td><td>1</td><td>2</td><td>3606.9280772085776</td><td>3858.0351273210613</td><td>False</td><td>False</td><td>False</td><td>False</td><td>3607.5006191328753</td><td>3607.5006191328753</td><td>3858.826083879035</td><td>3858.826083879035</td><td>0.044829465</td><td>0.044829465</td><td>0.070340745</td><td>0.070340745</td><td>False</td><td>False</td><td>False</td><td>False</td><td>False</td><td>False</td><td>False</td><td>False</td><td>False</td><td>False</td><td>False</td><td>False</td><td>False</td><td>False</td><td>False</td><td>False</td><td>False</td><td>False</td><td>False</td><td>False</td><td>False</td><td>False</td><td>False</td><td>False</td><td>False</td><td>False</td><td>False</td><td>False</td><td>False</td><td>False</td><td>False</td><td>False</td><td>False</td><td>False</td><td>False</td><td>False</td><td>False</td><td>False</td><td>False</td><td>False</td><td>False</td><td>False</td><td>False</td><td>False</td><td>False</td><td>False</td><td>False</td><td>False</td><td>False</td><td>False</td><td>False</td><td>False</td><td>False</td><td>False</td><td>False</td><td>False</td><td>False</td><td>False</td><td>False</td><td>False</td><td>False</td><td>False</td><td>False</td><td>0.25363014096390607</td><td>0.07567319875779721</td><td>345143.5147264656</td><td>373399.87790316937</td><td>0.07567319875779721</td><td>345143.5147264656</td><td>373399.87790316937</td><td>11.748316602435844</td><td>16.91445027961104</td><td>-0.1144386980310083</td><td>12.652266357415659</td><td>17.04262175785408</td><td>-0.10514977284898541</td><td>11.748316602435844</td><td>16.91445027961104</td><td>-0.1144386980310083</td><td>12.652266357415659</td><td>17.04262175785408</td><td>-0.10514977284898541</td><td>True</td><td>False</td><td>True</td><td>7.484273168938618</td><td>7.484273168938618</td><td>9.496213773776407</td><td>9.496213773776407</td><td>-0.05178326881214218</td><td>-0.05178326881214218</td><td>nan</td><td>nan</td><td>nan</td><td>nan</td><td>nan</td><td>nan</td><td>3607.382345331157</td><td>3607.382345331157</td><td>3858.8429997355393</td><td>3858.8429997355393</td><td>nan</td><td>nan</td><td>nan</td><td>nan</td><td>3.7253423455171357</td><td>3.7253423455171357</td><td>3.7253423455171357</td><td>3.6618917941748763</td><td>3.6618917941748763</td><td>3.6618917941748763</td><td>-0.0029085542594894814</td><td>-0.0029085542594894814</td><td>-0.0029085542594894814</td><td>nan</td><td>nan</td><td>nan</td><td>nan</td><td>nan</td><td>nan</td><td>True</td><td>True</td><td>True</td><td>False</td><td>False</td><td>False</td><td>True</td><td>True</td><td>True</td><td>False</td><td>False</td><td>False</td><td>False</td><td>False</td><td>False</td><td>False</td><td>False</td><td>False</td><td>108223.6796875</td><td>470.77947998046875</td><td>False</td><td>False</td><td>False</td><td>221185.625</td><td>696.16748046875</td><td>False</td><td>False</td><td>False</td><td>367562.5625</td><td>918.5519409179688</td><td>False</td><td>False</td><td>False</td><td>650983.375</td><td>1319.2064208984375</td><td>False</td><td>False</td><td>False</td><td>840089.7253112793</td><td>840089.7253112793</td><td>840089.7253112793</td><td>1669.0174199790006</td><td>1669.0174199790006</td><td>1669.0174199790006</td><td>False</td><td>False</td><td>False</td><td>False</td><td>False</td><td>False</td><td>1026534.3361539841</td><td>2197.201702125733</td><td>False</td><td>False</td><td>1153582.8816082478</td><td>2879.546507586823</td><td>False</td><td>False</td><td>1200526.8607930094</td><td>3668.309960833463</td><td>False</td><td>False</td><td>1252072.0583636612</td><td>4900.773597380642</td><td>False</td><td>False</td><td>1285745.2048922628</td><td>6624.484247392043</td><td>False</td><td>False</td><td>350655.13988411427</td><td>350655.13988411427</td><td>350655.13988411427</td><td>929.0896456626198</td><td>929.0896456626198</td><td>929.0896456626198</td><td>False</td><td>False</td><td>False</td><td>89.24816013040946</td><td>83.23137083261429</td><td>False</td><td>False</td><td>False</td><td>False</td><td>False</td><td>False</td><td>True</td><td>True</td><td>False</td><td>False</td><td>False</td><td>True</td><td>True</td><td>False</td><td>False</td><td>191820.98853443097</td><td>191820.98853443097</td><td>674.5301933593768</td><td>674.5301933593768</td><td>55.82863</td><td>55.82863</td><td>241567.05</td><td>241567.05</td><td>1681</td><td>1681</td><td>False</td><td>False</td><td>False</td><td>False</td><td>False</td><td>False</td><td>True</td><td>nan</td><td>True</td><td>18.635152547487582</td><td>0.0038251832392505415</td></tr>\n",
       "<tr><td>1249</td><td>1.0335871556303984</td><td>-0.6408075233700478</td><td>1045</td><td>0</td><td>False</td><td>nan</td><td>nan</td><td>nan</td><td>False</td><td>False</td><td>False</td><td>False</td><td>True</td><td>False</td><td>False</td><td>3623</td><td>3859</td><td>113748</td><td>1</td><td>2</td><td>3621.032056427834</td><td>3858.0253712787535</td><td>False</td><td>False</td><td>False</td><td>False</td><td>3621.604947520293</td><td>3621.604947520293</td><td>3858.8596005925347</td><td>3858.8596005925347</td><td>0.04736186</td><td>0.04736186</td><td>0.070936136</td><td>0.070936136</td><td>False</td><td>False</td><td>False</td><td>False</td><td>False</td><td>False</td><td>False</td><td>False</td><td>False</td><td>False</td><td>False</td><td>False</td><td>False</td><td>False</td><td>False</td><td>False</td><td>False</td><td>False</td><td>False</td><td>False</td><td>False</td><td>False</td><td>False</td><td>False</td><td>False</td><td>False</td><td>False</td><td>False</td><td>False</td><td>False</td><td>False</td><td>False</td><td>False</td><td>False</td><td>False</td><td>False</td><td>False</td><td>False</td><td>False</td><td>False</td><td>False</td><td>False</td><td>False</td><td>False</td><td>False</td><td>False</td><td>False</td><td>False</td><td>False</td><td>False</td><td>False</td><td>False</td><td>False</td><td>False</td><td>False</td><td>False</td><td>False</td><td>False</td><td>False</td><td>False</td><td>False</td><td>False</td><td>False</td><td>0.25498627794111023</td><td>0.07601693202704307</td><td>363588.13866366167</td><td>393500.8673495553</td><td>0.07601693202704307</td><td>363588.13866366167</td><td>393500.8673495553</td><td>12.96982508877009</td><td>16.827847478594563</td><td>0.14556532208389034</td><td>14.169811089995997</td><td>16.94743015154976</td><td>0.17389558626877183</td><td>12.96982508877009</td><td>16.827847478594563</td><td>0.14556532208389034</td><td>14.169811089995997</td><td>16.94743015154976</td><td>0.17389558626877183</td><td>True</td><td>False</td><td>True</td><td>8.58488435889097</td><td>8.58488435889097</td><td>9.479708525581268</td><td>9.479708525581268</td><td>0.07079762016400953</td><td>0.07079762016400953</td><td>nan</td><td>nan</td><td>nan</td><td>nan</td><td>nan</td><td>nan</td><td>3621.7177067980297</td><td>3621.7177067980297</td><td>3858.8752722468043</td><td>3858.8752722468043</td><td>nan</td><td>nan</td><td>nan</td><td>nan</td><td>3.7254740039484076</td><td>3.7254740039484076</td><td>3.7254740039484076</td><td>3.6616297802644127</td><td>3.6616297802644127</td><td>3.6616297802644127</td><td>-0.0029882796162322123</td><td>-0.0029882796162322123</td><td>-0.0029882796162322123</td><td>nan</td><td>nan</td><td>nan</td><td>nan</td><td>nan</td><td>nan</td><td>True</td><td>True</td><td>True</td><td>False</td><td>False</td><td>False</td><td>True</td><td>True</td><td>True</td><td>False</td><td>False</td><td>False</td><td>False</td><td>False</td><td>False</td><td>False</td><td>False</td><td>False</td><td>109620.1640625</td><td>470.8762512207031</td><td>False</td><td>False</td><td>False</td><td>220521.65625</td><td>694.4447631835938</td><td>False</td><td>False</td><td>False</td><td>365433.1875</td><td>914.8165283203125</td><td>False</td><td>False</td><td>False</td><td>650092.6875</td><td>1313.8604736328125</td><td>False</td><td>False</td><td>False</td><td>844654.2090148926</td><td>844654.2090148926</td><td>844654.2090148926</td><td>1667.675697250869</td><td>1667.675697250869</td><td>1667.675697250869</td><td>False</td><td>False</td><td>False</td><td>False</td><td>False</td><td>False</td><td>1031111.6850471497</td><td>2192.807544840846</td><td>False</td><td>False</td><td>1154322.48527883</td><td>2877.65005123674</td><td>False</td><td>False</td><td>1205898.3620351255</td><td>3665.364186826503</td><td>False</td><td>False</td><td>1266783.2827745825</td><td>4901.007715779169</td><td>False</td><td>False</td><td>1302375.1946077198</td><td>6618.77883922025</td><td>False</td><td>False</td><td>368863.298158586</td><td>368863.298158586</td><td>368863.298158586</td><td>940.3931406461008</td><td>940.3931406461008</td><td>940.3931406461008</td><td>False</td><td>False</td><td>False</td><td>89.23909884010828</td><td>77.84032948996588</td><td>False</td><td>False</td><td>False</td><td>False</td><td>False</td><td>False</td><td>True</td><td>True</td><td>False</td><td>False</td><td>False</td><td>True</td><td>True</td><td>False</td><td>False</td><td>191764.03059740158</td><td>191764.03059740158</td><td>674.0054700766177</td><td>674.0054700766177</td><td>55.807903</td><td>55.807903</td><td>241635.94</td><td>241635.94</td><td>1681</td><td>1681</td><td>False</td><td>False</td><td>False</td><td>False</td><td>False</td><td>False</td><td>True</td><td>nan</td><td>True</td><td>18.63547498601751</td><td>0.003823349830225584</td></tr>\n",
       "<tr><td>1250</td><td>1.033739875845108</td><td>-0.6401008179652189</td><td>1053</td><td>0</td><td>True</td><td>2882.0</td><td>3875.0</td><td>8311.851794639633</td><td>False</td><td>False</td><td>False</td><td>False</td><td>False</td><td>False</td><td>False</td><td>2882</td><td>3875</td><td>113750</td><td>1</td><td>3</td><td>2881.0674654190666</td><td>3874.955035920604</td><td>False</td><td>False</td><td>False</td><td>False</td><td>2881.5285894714384</td><td>2881.5285894714384</td><td>3875.2572493859866</td><td>3875.2572493859866</td><td>0.3270974</td><td>0.3270974</td><td>0.32692575</td><td>0.32692575</td><td>False</td><td>False</td><td>False</td><td>False</td><td>False</td><td>False</td><td>False</td><td>False</td><td>False</td><td>False</td><td>False</td><td>False</td><td>False</td><td>False</td><td>False</td><td>False</td><td>False</td><td>False</td><td>False</td><td>False</td><td>False</td><td>False</td><td>False</td><td>False</td><td>False</td><td>False</td><td>False</td><td>False</td><td>False</td><td>False</td><td>False</td><td>False</td><td>False</td><td>False</td><td>False</td><td>False</td><td>False</td><td>False</td><td>False</td><td>False</td><td>False</td><td>False</td><td>False</td><td>False</td><td>False</td><td>False</td><td>False</td><td>False</td><td>False</td><td>False</td><td>False</td><td>False</td><td>False</td><td>False</td><td>False</td><td>False</td><td>False</td><td>False</td><td>False</td><td>False</td><td>False</td><td>False</td><td>False</td><td>0.043319701134123534</td><td>0.020405263267815443</td><td>21182.637890705977</td><td>21623.878831126454</td><td>0.024370903707537694</td><td>21120.506624868074</td><td>21648.09014525006</td><td>10.538230501675308</td><td>9.615630818658198</td><td>-0.6616228949594759</td><td>11.342749221318721</td><td>10.231935791130557</td><td>-0.9651855687814949</td><td>10.451354438510991</td><td>9.693877351465586</td><td>-0.6536107510782518</td><td>11.486048209226986</td><td>10.448854305902215</td><td>-1.0423271410058486</td><td>False</td><td>False</td><td>False</td><td>10.589161750761546</td><td>10.589161750761546</td><td>9.631884108554603</td><td>9.631884108554603</td><td>-0.6369742941101442</td><td>-0.6369742941101442</td><td>0.86362594</td><td>0.86362594</td><td>0.78555274</td><td>0.78555274</td><td>0.58357626</td><td>0.58357626</td><td>2881.5896939969334</td><td>2881.5896939969334</td><td>3875.236046425148</td><td>3875.236046425148</td><td>21419.103863459168</td><td>21419.103863459168</td><td>873.4446464795383</td><td>873.4446464795383</td><td>3.7215239276217296</td><td>3.7215239276217296</td><td>3.7215239276217296</td><td>3.6725908891579753</td><td>3.6725908891579753</td><td>3.6725908891579753</td><td>-6.83664025889352e-05</td><td>-6.83664025889352e-05</td><td>-6.83664025889352e-05</td><td>-377.16473</td><td>-377.16473</td><td>-343.06842</td><td>-343.06842</td><td>22.687746</td><td>22.687746</td><td>False</td><td>False</td><td>False</td><td>False</td><td>False</td><td>False</td><td>False</td><td>False</td><td>False</td><td>False</td><td>False</td><td>False</td><td>False</td><td>False</td><td>False</td><td>False</td><td>False</td><td>False</td><td>8248.1455078125</td><td>286.1319580078125</td><td>False</td><td>False</td><td>False</td><td>13364.9462890625</td><td>421.1915283203125</td><td>False</td><td>False</td><td>False</td><td>17395.091796875</td><td>557.006103515625</td><td>False</td><td>False</td><td>False</td><td>21875.76953125</td><td>827.0357666015625</td><td>False</td><td>False</td><td>False</td><td>23999.29447391443</td><td>23999.29447391443</td><td>23999.29447391443</td><td>1109.1765871203809</td><td>1109.1765871203809</td><td>1109.1765871203809</td><td>False</td><td>False</td><td>False</td><td>False</td><td>False</td><td>False</td><td>27156.161055260105</td><td>1560.774651790538</td><td>False</td><td>False</td><td>30270.494575768564</td><td>2281.1676292384886</td><td>False</td><td>False</td><td>31958.42938846335</td><td>3182.1717601480887</td><td>False</td><td>False</td><td>38790.73970380411</td><td>4537.744857239584</td><td>False</td><td>False</td><td>47733.34864509091</td><td>6348.514602869068</td><td>False</td><td>False</td><td>21419.103863459168</td><td>21419.103863459168</td><td>21419.103863459168</td><td>624.0432427674288</td><td>624.0432427674288</td><td>624.0432427674288</td><td>False</td><td>False</td><td>False</td><td>3.2028039245173945</td><td>49.57142572722419</td><td>False</td><td>False</td><td>False</td><td>False</td><td>False</td><td>False</td><td>False</td><td>False</td><td>False</td><td>False</td><td>False</td><td>False</td><td>False</td><td>False</td><td>False</td><td>12989.573567481442</td><td>12989.573567481442</td><td>411.767299879851</td><td>411.767299879851</td><td>55.903896</td><td>55.903896</td><td>1607.743</td><td>1607.743</td><td>1681</td><td>1681</td><td>False</td><td>False</td><td>False</td><td>False</td><td>False</td><td>False</td><td>False</td><td>2615.966796875</td><td>False</td><td>21.558405624579784</td><td>0.03441845905517374</td></tr>\n",
       "<tr><td>1251</td><td>1.0337478161022453</td><td>-0.640109636905127</td><td>1053</td><td>0</td><td>True</td><td>2889.0</td><td>3867.0</td><td>3683.3550916597537</td><td>False</td><td>False</td><td>False</td><td>False</td><td>False</td><td>False</td><td>False</td><td>2889</td><td>3867</td><td>113749</td><td>1</td><td>3</td><td>2888.8605538850734</td><td>3867.0222735689754</td><td>False</td><td>False</td><td>False</td><td>False</td><td>2889.2014070270784</td><td>2889.2014070270784</td><td>3867.0440986806625</td><td>3867.0440986806625</td><td>0.6633671</td><td>0.6633671</td><td>0.7016642</td><td>0.7016642</td><td>False</td><td>False</td><td>False</td><td>False</td><td>False</td><td>False</td><td>False</td><td>False</td><td>False</td><td>False</td><td>False</td><td>False</td><td>False</td><td>False</td><td>False</td><td>False</td><td>False</td><td>False</td><td>False</td><td>False</td><td>False</td><td>False</td><td>False</td><td>False</td><td>False</td><td>False</td><td>False</td><td>False</td><td>False</td><td>False</td><td>False</td><td>False</td><td>False</td><td>False</td><td>False</td><td>False</td><td>False</td><td>False</td><td>False</td><td>False</td><td>False</td><td>False</td><td>False</td><td>False</td><td>False</td><td>False</td><td>False</td><td>False</td><td>False</td><td>False</td><td>False</td><td>False</td><td>False</td><td>False</td><td>False</td><td>False</td><td>False</td><td>False</td><td>False</td><td>False</td><td>False</td><td>False</td><td>False</td><td>0.13350906955638192</td><td>0.03990846415438076</td><td>7317.350206075202</td><td>7621.5130879477065</td><td>0.04948981942438946</td><td>7390.170064474571</td><td>7774.95098474298</td><td>6.785121745412682</td><td>7.778672170426941</td><td>0.7449856242516144</td><td>7.316690068697975</td><td>8.480602620759395</td><td>0.3586501035892962</td><td>7.473865694998562</td><td>7.848020372218398</td><td>0.9043288187938803</td><td>8.204350818574655</td><td>8.810121068551776</td><td>0.5486312706624875</td><td>True</td><td>False</td><td>True</td><td>6.020594682501247</td><td>6.020594682501247</td><td>6.490451932028335</td><td>6.490451932028335</td><td>0.26211533823303457</td><td>0.26211533823303457</td><td>nan</td><td>nan</td><td>nan</td><td>nan</td><td>nan</td><td>nan</td><td>2889.1804042286713</td><td>2889.1804042286713</td><td>3867.074739857454</td><td>3867.074739857454</td><td>nan</td><td>nan</td><td>nan</td><td>nan</td><td>3.721420747184686</td><td>3.721420747184686</td><td>3.721420747184686</td><td>3.6727331978055924</td><td>3.6727331978055924</td><td>3.6727331978055924</td><td>-0.0001554695339522114</td><td>-0.0001554695339522114</td><td>-0.0001554695339522114</td><td>nan</td><td>nan</td><td>nan</td><td>nan</td><td>nan</td><td>nan</td><td>True</td><td>True</td><td>True</td><td>False</td><td>False</td><td>False</td><td>True</td><td>True</td><td>True</td><td>False</td><td>False</td><td>False</td><td>False</td><td>False</td><td>False</td><td>False</td><td>False</td><td>False</td><td>3832.935546875</td><td>274.793701171875</td><td>False</td><td>False</td><td>False</td><td>6010.42431640625</td><td>409.6522216796875</td><td>False</td><td>False</td><td>False</td><td>7705.1494140625</td><td>546.0845947265625</td><td>False</td><td>False</td><td>False</td><td>8960.392578125</td><td>818.49951171875</td><td>False</td><td>False</td><td>False</td><td>9453.249227631837</td><td>9453.249227631837</td><td>9453.249227631837</td><td>1100.7260964713814</td><td>1100.7260964713814</td><td>1100.7260964713814</td><td>False</td><td>False</td><td>False</td><td>False</td><td>False</td><td>False</td><td>11305.73416961939</td><td>1556.3619741186244</td><td>False</td><td>False</td><td>15783.699141540885</td><td>2278.567915030887</td><td>False</td><td>False</td><td>20838.40720407045</td><td>3179.9289711367155</td><td>False</td><td>False</td><td>28154.21266181147</td><td>4536.202543604239</td><td>False</td><td>False</td><td>32164.90568906939</td><td>6344.3063027516855</td><td>False</td><td>False</td><td>7399.986855074647</td><td>7399.986855074647</td><td>7399.986855074647</td><td>471.5512015615041</td><td>471.5512015615041</td><td>471.5512015615041</td><td>False</td><td>False</td><td>False</td><td>4.111507592526241</td><td>48.045107020389636</td><td>False</td><td>False</td><td>False</td><td>False</td><td>False</td><td>False</td><td>False</td><td>False</td><td>False</td><td>False</td><td>False</td><td>False</td><td>False</td><td>False</td><td>False</td><td>5776.009283893076</td><td>5776.009283893076</td><td>395.4127528928216</td><td>395.4127528928216</td><td>55.94437</td><td>55.94437</td><td>1305.415</td><td>1305.415</td><td>1681</td><td>1681</td><td>False</td><td>False</td><td>False</td><td>False</td><td>False</td><td>False</td><td>False</td><td>2611.52587890625</td><td>False</td><td>22.4383231528663</td><td>0.07432745868689217</td></tr>\n",
       "<tr><td>1252</td><td>1.0337316735393787</td><td>-0.6401122189232118</td><td>1053</td><td>0</td><td>True</td><td>2895.0</td><td>3879.0</td><td>4498.7937836704095</td><td>False</td><td>False</td><td>False</td><td>False</td><td>False</td><td>False</td><td>False</td><td>2895</td><td>3879</td><td>113751</td><td>1</td><td>3</td><td>2894.1167943193755</td><td>3879.182046509665</td><td>False</td><td>False</td><td>False</td><td>False</td><td>2894.378605076567</td><td>2894.378605076567</td><td>3879.6620760303435</td><td>3879.6620760303435</td><td>0.6105612</td><td>0.6105612</td><td>0.59195775</td><td>0.59195775</td><td>False</td><td>False</td><td>False</td><td>False</td><td>False</td><td>False</td><td>False</td><td>False</td><td>False</td><td>False</td><td>False</td><td>False</td><td>False</td><td>False</td><td>False</td><td>False</td><td>False</td><td>False</td><td>False</td><td>False</td><td>False</td><td>False</td><td>False</td><td>False</td><td>False</td><td>False</td><td>False</td><td>False</td><td>False</td><td>False</td><td>False</td><td>False</td><td>False</td><td>False</td><td>False</td><td>False</td><td>False</td><td>False</td><td>False</td><td>False</td><td>False</td><td>False</td><td>False</td><td>False</td><td>False</td><td>False</td><td>False</td><td>False</td><td>False</td><td>False</td><td>False</td><td>False</td><td>False</td><td>False</td><td>False</td><td>False</td><td>False</td><td>False</td><td>False</td><td>False</td><td>False</td><td>False</td><td>False</td><td>0.07583777049486723</td><td>0.034554710240662034</td><td>11832.11189344518</td><td>12255.60062175521</td><td>0.044293623844465335</td><td>11798.236250636177</td><td>12345.04293891631</td><td>10.627938208148759</td><td>9.951391183522665</td><td>-0.7297602865212124</td><td>12.209454489855185</td><td>10.325512655631192</td><td>-0.33652391069153764</td><td>10.772519135070397</td><td>10.85072293018915</td><td>-1.3407457121067383</td><td>12.756576188866182</td><td>11.525102641839075</td><td>-0.7950440972146033</td><td>False</td><td>False</td><td>False</td><td>10.661586912950265</td><td>10.661586912950265</td><td>9.995048088775786</td><td>9.995048088775786</td><td>-0.7501498707373545</td><td>-0.7501498707373545</td><td>1.5150421</td><td>1.5150421</td><td>1.420325</td><td>1.420325</td><td>1.0400037</td><td>1.0400037</td><td>2894.3922439577245</td><td>2894.3922439577245</td><td>3879.5870923646044</td><td>3879.5870923646044</td><td>11962.623734848705</td><td>11962.623734848705</td><td>849.9614815454827</td><td>849.9614815454827</td><td>3.7216122586532436</td><td>3.7216122586532436</td><td>3.7216122586532436</td><td>3.6723022958276195</td><td>3.6723022958276195</td><td>3.6723022958276195</td><td>-5.284305268550969e-05</td><td>-5.284305268550969e-05</td><td>-5.284305268550969e-05</td><td>-643.8637</td><td>-643.8637</td><td>-603.6108</td><td>-603.6108</td><td>45.30228</td><td>45.30228</td><td>False</td><td>False</td><td>False</td><td>False</td><td>False</td><td>False</td><td>False</td><td>False</td><td>False</td><td>False</td><td>False</td><td>False</td><td>False</td><td>False</td><td>False</td><td>False</td><td>False</td><td>False</td><td>4536.103515625</td><td>277.1618957519531</td><td>False</td><td>False</td><td>False</td><td>7221.5732421875</td><td>410.6081237792969</td><td>False</td><td>False</td><td>False</td><td>9726.658203125</td><td>546.86962890625</td><td>False</td><td>False</td><td>False</td><td>12176.025390625</td><td>817.5950927734375</td><td>False</td><td>False</td><td>False</td><td>13056.467546541244</td><td>13056.467546541244</td><td>13056.467546541244</td><td>1102.484228845708</td><td>1102.484228845708</td><td>1102.484228845708</td><td>False</td><td>False</td><td>False</td><td>False</td><td>False</td><td>False</td><td>14062.204514060868</td><td>1557.9500943027317</td><td>False</td><td>False</td><td>16318.197719097312</td><td>2281.6494657207595</td><td>False</td><td>False</td><td>20268.975766658958</td><td>3184.1757650887484</td><td>False</td><td>False</td><td>29741.63299211877</td><td>4537.359116323974</td><td>False</td><td>False</td><td>33082.072189003404</td><td>6346.249221827557</td><td>False</td><td>False</td><td>11962.623734848705</td><td>11962.623734848705</td><td>11962.623734848705</td><td>597.2696723440696</td><td>597.2696723440696</td><td>597.2696723440696</td><td>False</td><td>False</td><td>False</td><td>3.729989843192675</td><td>49.35769764403802</td><td>False</td><td>False</td><td>False</td><td>False</td><td>False</td><td>False</td><td>False</td><td>False</td><td>False</td><td>False</td><td>False</td><td>False</td><td>False</td><td>False</td><td>False</td><td>7177.535796816542</td><td>7177.535796816542</td><td>398.59915808628824</td><td>398.59915808628824</td><td>55.91484</td><td>55.91484</td><td>1480.1353</td><td>1480.1353</td><td>1681</td><td>1681</td><td>False</td><td>False</td><td>False</td><td>False</td><td>False</td><td>False</td><td>False</td><td>2620.69287109375</td><td>False</td><td>22.202454441525518</td><td>0.06029601836372325</td></tr>\n",
       "</table></div>"
      ],
      "text/plain": [
       "<Table length=1252>\n",
       "  id       coord_ra      ...      mag_psf             magerr_psf     \n",
       "             rad         ...                                         \n",
       "int64      float64       ...      float64              float64       \n",
       "----- ------------------ ... ------------------ ---------------------\n",
       "    1  1.038941111959905 ... 20.351732257158393   0.01236014811565461\n",
       "    2 1.0387690691193754 ...  21.98113832405411   0.04970363191004359\n",
       "    3 1.0386634100232173 ...  16.43408903156359 0.0013161526924397723\n",
       "    4  1.038263392641077 ... 22.697650674656874   0.09484730054400424\n",
       "    5 1.0382780051071236 ... 21.382686198783357  0.030199156553778084\n",
       "    6  1.038080965769489 ... 22.753523584251912   0.10079647245205313\n",
       "    7 1.0383343118381023 ...  21.11738922975273    0.0239728565238181\n",
       "    8 1.0381870620862617 ... 21.801541194571282   0.04322673488564218\n",
       "    9 1.0387196641779148 ... 22.755214976457935    0.0995573746357614\n",
       "  ...                ... ...                ...                   ...\n",
       " 1243 1.0341600936340265 ... 15.693576372217493 0.0009843705301495003\n",
       " 1244 1.0341962551420207 ...  16.42942866832698  0.001166381524322451\n",
       " 1245  1.034114262486247 ... 20.479210638274882  0.014177452673084713\n",
       " 1246 1.0341089109120327 ...  22.17792804155668   0.05934731679701303\n",
       " 1247  1.034110348848954 ... 22.155309768763995   0.05825171390372142\n",
       " 1248 1.0335904777581846 ... 18.635152547487582 0.0038251832392505415\n",
       " 1249 1.0335871556303984 ...  18.63547498601751  0.003823349830225584\n",
       " 1250  1.033739875845108 ... 21.558405624579784   0.03441845905517374\n",
       " 1251 1.0337478161022453 ...   22.4383231528663   0.07432745868689217\n",
       " 1252 1.0337316735393787 ... 22.202454441525518   0.06029601836372325"
      ]
     },
     "execution_count": 46,
     "metadata": {},
     "output_type": "execute_result"
    }
   ],
   "source": [
    "# Take a look at the catalog:\n",
    "\n",
    "sources_withfakes_i"
   ]
  },
  {
   "cell_type": "markdown",
   "id": "342f9835-4e2f-4759-8a6d-ad331c339f2d",
   "metadata": {},
   "source": [
    "### Match coordinates from the original list of fake stars to the new catalog:"
   ]
  },
  {
   "cell_type": "code",
   "execution_count": 47,
   "id": "905764b9-0ed9-4975-a4a7-b40511acb0a1",
   "metadata": {
    "execution": {
     "iopub.execute_input": "2023-06-22T22:57:58.703430Z",
     "iopub.status.busy": "2023-06-22T22:57:58.703018Z",
     "iopub.status.idle": "2023-06-22T22:57:58.714082Z",
     "shell.execute_reply": "2023-06-22T22:57:58.713476Z",
     "shell.execute_reply.started": "2023-06-22T22:57:58.703397Z"
    },
    "tags": []
   },
   "outputs": [],
   "source": [
    "# Coordinates of input fake stars\n",
    "sc_fakes = SkyCoord(ra=fake_ras*u.deg, dec=fake_decs*u.deg, frame='icrs')\n",
    "\n",
    "# Coordinates of objects in calexps with fakes added:\n",
    "sc_withfakes_u = SkyCoord(ra=sources_withfakes_u['coord_ra'], dec=sources_withfakes_u['coord_dec'], frame='icrs')\n",
    "sc_withfakes_g = SkyCoord(ra=sources_withfakes_g['coord_ra'], dec=sources_withfakes_g['coord_dec'], frame='icrs')\n",
    "sc_withfakes_r = SkyCoord(ra=sources_withfakes_r['coord_ra'], dec=sources_withfakes_r['coord_dec'], frame='icrs')\n",
    "sc_withfakes_i = SkyCoord(ra=sources_withfakes_i['coord_ra'], dec=sources_withfakes_i['coord_dec'], frame='icrs')\n",
    "# Note that units weren't required for sc_withfakes_*, because it already has them."
   ]
  },
  {
   "cell_type": "code",
   "execution_count": 48,
   "id": "5272b12a-794e-4973-9875-16c93fbb0d3a",
   "metadata": {
    "execution": {
     "iopub.execute_input": "2023-06-22T22:57:59.638510Z",
     "iopub.status.busy": "2023-06-22T22:57:59.637883Z",
     "iopub.status.idle": "2023-06-22T22:57:59.777679Z",
     "shell.execute_reply": "2023-06-22T22:57:59.777121Z",
     "shell.execute_reply.started": "2023-06-22T22:57:59.638478Z"
    },
    "tags": []
   },
   "outputs": [
    {
     "data": {
      "image/png": "[encoded data removed]",
      "text/plain": [
       "<Figure size 648x648 with 1 Axes>"
      ]
     },
     "metadata": {},
     "output_type": "display_data"
    }
   ],
   "source": [
    "fig, ax = plt.subplots(1, 1)\n",
    "plt.plot(sc_withfakes_g.ra, sc_withfakes_g.dec, '.k', label='detected sources')\n",
    "plt.plot(sc_fakes.ra, sc_fakes.dec, 'sr', fillstyle='none', label='fake sources')\n",
    "ax.invert_xaxis()\n",
    "plt.legend()\n",
    "plt.xlabel('RA (deg)')\n",
    "plt.ylabel('Dec (deg)')\n",
    "plt.show()"
   ]
  },
  {
   "cell_type": "code",
   "execution_count": 49,
   "id": "0b89df62-46fb-493d-8b09-c1eee98980d3",
   "metadata": {
    "execution": {
     "iopub.execute_input": "2023-06-22T22:58:07.401402Z",
     "iopub.status.busy": "2023-06-22T22:58:07.401139Z",
     "iopub.status.idle": "2023-06-22T22:58:07.415906Z",
     "shell.execute_reply": "2023-06-22T22:58:07.415332Z",
     "shell.execute_reply.started": "2023-06-22T22:58:07.401376Z"
    },
    "tags": []
   },
   "outputs": [],
   "source": [
    "# Match them using the Astropy SkyCoord \"match_to_catalog_sky\" method:\n",
    "\n",
    "idx_u, sep_u, _ = sc_fakes.match_to_catalog_sky(sc_withfakes_u)\n",
    "idx_g, sep_g, _ = sc_fakes.match_to_catalog_sky(sc_withfakes_g)\n",
    "idx_r, sep_r, _ = sc_fakes.match_to_catalog_sky(sc_withfakes_r)\n",
    "idx_i, sep_i, _ = sc_fakes.match_to_catalog_sky(sc_withfakes_i)"
   ]
  },
  {
   "cell_type": "markdown",
   "id": "91dbd3a2-c12e-456c-b6d8-9929bb809aa9",
   "metadata": {},
   "source": [
    "The \"idx*\" arrays are the indices into sc_withfakes* files to extract the closest match, and \"sep*\" are the actual separations between the sources. Note that this returns a separation for all objects -- in the following, we will keep only sources with match separations less than 1 arcsecond (i.e., \"good\" matches).\n",
    "\n",
    "Extract info about the good matches into arrays:"
   ]
  },
  {
   "cell_type": "code",
   "execution_count": 50,
   "id": "a94319b0-0943-4099-a222-e47d8e2297a8",
   "metadata": {
    "execution": {
     "iopub.execute_input": "2023-06-22T22:58:11.265898Z",
     "iopub.status.busy": "2023-06-22T22:58:11.265109Z",
     "iopub.status.idle": "2023-06-22T22:58:11.305144Z",
     "shell.execute_reply": "2023-06-22T22:58:11.304540Z",
     "shell.execute_reply.started": "2023-06-22T22:58:11.265868Z"
    },
    "tags": []
   },
   "outputs": [],
   "source": [
    "okmch_u = (sep_u.arcsec < 1.0)\n",
    "mch_mags_u = sources_withfakes_u[idx_u]['mag_psf']\n",
    "mch_magerrs_u = sources_withfakes_u[idx_u]['magerr_psf']\n",
    "# If the nearest match is >1\" away, set its magnitudes to -99.9:\n",
    "mch_mags_u[~okmch_u] = -99.9\n",
    "mch_magerrs_u[~okmch_u] = 99.9\n",
    "seps_u = sep_u.arcsec\n",
    "\n",
    "okmch_g = (sep_g.arcsec < 1.0)\n",
    "mch_mags_g = sources_withfakes_g[idx_g]['mag_psf']\n",
    "mch_magerrs_g = sources_withfakes_g[idx_g]['magerr_psf']\n",
    "mch_mags_g[~okmch_g] = -99.9\n",
    "mch_magerrs_g[~okmch_g] = 99.9\n",
    "seps_g = sep_g.arcsec\n",
    "\n",
    "okmch_r = (sep_r.arcsec < 1.0)\n",
    "mch_mags_r = sources_withfakes_r[idx_r]['mag_psf']\n",
    "mch_magerrs_r = sources_withfakes_r[idx_r]['magerr_psf']\n",
    "mch_mags_r[~okmch_r] = -99.9\n",
    "mch_magerrs_r[~okmch_r] = 99.9\n",
    "seps_r = sep_r.arcsec\n",
    "\n",
    "okmch_i = (sep_i.arcsec < 1.0)\n",
    "mch_mags_i = sources_withfakes_i[idx_i]['mag_psf']\n",
    "mch_magerrs_i = sources_withfakes_i[idx_i]['magerr_psf']\n",
    "mch_mags_i[~okmch_i] = -99.9\n",
    "mch_magerrs_i[~okmch_i] = 99.9\n",
    "seps_i = sep_i.arcsec\n",
    "\n",
    "#print(fake_imags[okmch], sources_withfakes_i[idx_i[okmch]]['mag_psf'])"
   ]
  },
  {
   "cell_type": "code",
   "execution_count": 51,
   "id": "94695591-aff0-4688-b7fd-5e5e9303fe4c",
   "metadata": {
    "execution": {
     "iopub.execute_input": "2023-06-22T22:58:12.888638Z",
     "iopub.status.busy": "2023-06-22T22:58:12.887841Z",
     "iopub.status.idle": "2023-06-22T22:58:12.893211Z",
     "shell.execute_reply": "2023-06-22T22:58:12.892607Z",
     "shell.execute_reply.started": "2023-06-22T22:58:12.888605Z"
    },
    "tags": []
   },
   "outputs": [
    {
     "data": {
      "text/plain": [
       "array([0.28215163])"
      ]
     },
     "execution_count": 51,
     "metadata": {},
     "output_type": "execute_result"
    }
   ],
   "source": [
    "sep_g.arcsec"
   ]
  },
  {
   "cell_type": "markdown",
   "id": "e023c05a-6b9f-4bea-8a0b-d83190d24fa0",
   "metadata": {},
   "source": [
    "Combine all of the information into a single table:"
   ]
  },
  {
   "cell_type": "code",
   "execution_count": 52,
   "id": "d77edcf9-0c9e-4434-b8b7-c0de6352fa03",
   "metadata": {
    "execution": {
     "iopub.execute_input": "2023-06-22T22:58:14.651053Z",
     "iopub.status.busy": "2023-06-22T22:58:14.650252Z",
     "iopub.status.idle": "2023-06-22T22:58:14.659812Z",
     "shell.execute_reply": "2023-06-22T22:58:14.659230Z",
     "shell.execute_reply.started": "2023-06-22T22:58:14.651017Z"
    },
    "tags": []
   },
   "outputs": [],
   "source": [
    "tab_all = Table([fake_ras, fake_decs, fake_umags, fake_gmags, fake_rmags, fake_imags,\n",
    "                 mch_mags_u, mch_magerrs_u, seps_u, mch_mags_g, mch_magerrs_g, seps_g,\n",
    "                 mch_mags_r, mch_magerrs_r, seps_r, mch_mags_i, mch_magerrs_i, seps_i],\n",
    "                 names=['ra', 'dec', 'u_fake', 'g_fake', 'r_fake', 'i_fake', 'u_meas', 'uerr_meas', 'sep_u',\n",
    "                        'g_meas', 'gerr_meas', 'sep_g', 'r_meas', 'rerr_meas', 'sep_r',\n",
    "                        'i_meas', 'ierr_meas', 'sep_i'],\n",
    "                 units=[u.deg, u.deg, u.mag, u.mag, u.mag, u.mag, u.mag, u.mag, u.arcsec,\n",
    "                        u.mag, u.mag, u.arcsec, u.mag, u.mag, u.arcsec, u.mag, u.mag, u.arcsec])\n",
    "\n",
    "for col in tab_all.colnames[0:2]:\n",
    "    tab_all[col].info.format = '%.8g'  # for consistent table output\n",
    "for col in tab_all.colnames[2:]:\n",
    "    tab_all[col].info.format = '%.5g'  # for consistent table output\n"
   ]
  },
  {
   "cell_type": "code",
   "execution_count": 53,
   "id": "cfd44c12-74b0-4eb5-b2e7-1862aa9cec4f",
   "metadata": {
    "execution": {
     "iopub.execute_input": "2023-06-22T22:58:16.035885Z",
     "iopub.status.busy": "2023-06-22T22:58:16.035638Z",
     "iopub.status.idle": "2023-06-22T22:58:16.041999Z",
     "shell.execute_reply": "2023-06-22T22:58:16.041450Z",
     "shell.execute_reply.started": "2023-06-22T22:58:16.035859Z"
    },
    "tags": []
   },
   "outputs": [
    {
     "data": {
      "text/html": [
       "<div><i>Table length=1</i>\n",
       "<table id=\"table140411655661312\" class=\"table-striped table-bordered table-condensed\">\n",
       "<thead><tr><th>ra</th><th>dec</th><th>u_fake</th><th>g_fake</th><th>r_fake</th><th>i_fake</th><th>u_meas</th><th>uerr_meas</th><th>sep_u</th><th>g_meas</th><th>gerr_meas</th><th>sep_g</th><th>r_meas</th><th>rerr_meas</th><th>sep_r</th><th>i_meas</th><th>ierr_meas</th><th>sep_i</th></tr></thead>\n",
       "<thead><tr><th>deg</th><th>deg</th><th>mag</th><th>mag</th><th>mag</th><th>mag</th><th>mag</th><th>mag</th><th>arcsec</th><th>mag</th><th>mag</th><th>arcsec</th><th>mag</th><th>mag</th><th>arcsec</th><th>mag</th><th>mag</th><th>arcsec</th></tr></thead>\n",
       "<thead><tr><th>float64</th><th>float64</th><th>float64</th><th>float64</th><th>float64</th><th>float64</th><th>float64</th><th>float64</th><th>float64</th><th>float64</th><th>float64</th><th>float64</th><th>float64</th><th>float64</th><th>float64</th><th>float64</th><th>float64</th><th>float64</th></tr></thead>\n",
       "<tr><td>59.347771</td><td>-36.714301</td><td>15</td><td>15</td><td>15</td><td>15</td><td>14.998</td><td>0.0012081</td><td>0.19933</td><td>14.988</td><td>0.00046173</td><td>0.28215</td><td>14.977</td><td>0.00066589</td><td>0.28159</td><td>14.988</td><td>0.00072425</td><td>0.00074351</td></tr>\n",
       "</table></div>"
      ],
      "text/plain": [
       "<Table length=1>\n",
       "    ra       dec      u_fake  g_fake ...  sep_r   i_meas ierr_meas    sep_i   \n",
       "   deg       deg       mag     mag   ...  arcsec   mag      mag       arcsec  \n",
       " float64   float64   float64 float64 ... float64 float64  float64    float64  \n",
       "--------- ---------- ------- ------- ... ------- ------- ---------- ----------\n",
       "59.347771 -36.714301      15      15 ... 0.28159  14.988 0.00072425 0.00074351"
      ]
     },
     "execution_count": 53,
     "metadata": {},
     "output_type": "execute_result"
    }
   ],
   "source": [
    "tab_all"
   ]
  },
  {
   "cell_type": "markdown",
   "id": "3ec21cf5-5603-49da-a5c7-d4b9a0046719",
   "metadata": {},
   "source": [
    "Now we have completed all the steps of injecting fake sources, running pipeline tasks to detect and measure all sources in the resulting images, and extracting the matches from the catalogs. Let's look at the results!\n",
    "\n",
    "Compare the \"fake\" magnitudes we assigned to each star to their output (measured) magnitude:"
   ]
  },
  {
   "cell_type": "code",
   "execution_count": 55,
   "id": "0e32d786-b71a-4323-afca-4b9f77ddccb0",
   "metadata": {
    "execution": {
     "iopub.execute_input": "2023-06-22T22:58:29.105271Z",
     "iopub.status.busy": "2023-06-22T22:58:29.104396Z",
     "iopub.status.idle": "2023-06-22T22:58:29.348094Z",
     "shell.execute_reply": "2023-06-22T22:58:29.347617Z",
     "shell.execute_reply.started": "2023-06-22T22:58:29.105238Z"
    },
    "tags": []
   },
   "outputs": [
    {
     "data": {
      "image/png": "[encoded data removed]",
      "text/plain": [
       "<Figure size 648x648 with 1 Axes>"
      ]
     },
     "metadata": {},
     "output_type": "display_data"
    }
   ],
   "source": [
    "fig = plt.plot(figsize=(9, 9))\n",
    "\n",
    "plt.hlines(0, 0, 30, linestyle=':', color='Black')\n",
    "plt.plot(tab_all['u_fake'], 1000.0 * (tab_all['u_meas'] - tab_all['u_fake']),\n",
    "         'o', ms=10, color='royalblue', label='u')\n",
    "plt.plot(tab_all['g_fake'], 1000.0 * (tab_all['g_meas'] - tab_all['g_fake']),\n",
    "         'D', ms=10, color='mediumseagreen', label='g')\n",
    "plt.plot(tab_all['r_fake'], 1000.0 * (tab_all['r_meas'] - tab_all['r_fake']),\n",
    "         '*', ms=10, color='firebrick', label='r')\n",
    "plt.plot(tab_all['i_fake'], 1000.0 * (tab_all['i_meas'] - tab_all['i_fake']),\n",
    "         's', ms=10, color='indigo', label='i')\n",
    "plt.legend()\n",
    "plt.xlabel(r'$mag_{\\rm fake}$')\n",
    "plt.ylabel(r'$(mag_{\\rm meas} - mag_{\\rm fake})$ (mmag)')\n",
    "#plt.xlim(15.2, 23.3)\n",
    "#plt.ylim(-48, 48)\n",
    "plt.minorticks_on()\n",
    "plt.show()"
   ]
  },
  {
   "cell_type": "markdown",
   "id": "d1a5512f-a74c-497b-8624-ed904505ca65",
   "metadata": {},
   "source": [
    "Looks good! (Note that the y-axis is showing residuals in _millimags_.)"
   ]
  },
  {
   "cell_type": "code",
   "execution_count": 56,
   "id": "2947affa-683e-4237-a09c-19678f29f835",
   "metadata": {
    "execution": {
     "iopub.execute_input": "2023-06-22T22:58:59.281845Z",
     "iopub.status.busy": "2023-06-22T22:58:59.281277Z",
     "iopub.status.idle": "2023-06-22T22:58:59.284872Z",
     "shell.execute_reply": "2023-06-22T22:58:59.284397Z",
     "shell.execute_reply.started": "2023-06-22T22:58:59.281819Z"
    },
    "tags": []
   },
   "outputs": [],
   "source": [
    "afwDisplay.setDefaultBackend('firefly')"
   ]
  },
  {
   "cell_type": "code",
   "execution_count": 67,
   "id": "dba6a7f9-a07e-49a1-903c-b3324589f93a",
   "metadata": {
    "execution": {
     "iopub.execute_input": "2023-06-22T23:22:06.152538Z",
     "iopub.status.busy": "2023-06-22T23:22:06.151841Z",
     "iopub.status.idle": "2023-06-22T23:22:09.243694Z",
     "shell.execute_reply": "2023-06-22T23:22:09.243244Z",
     "shell.execute_reply.started": "2023-06-22T23:22:06.152508Z"
    },
    "tags": []
   },
   "outputs": [
    {
     "data": {
      "image/png": "[encoded data removed]",
      "text/plain": [
       "<Figure size 3024x1512 with 2 Axes>"
      ]
     },
     "metadata": {},
     "output_type": "display_data"
    }
   ],
   "source": [
    "from astropy.io import fits\n",
    "\n",
    "fig, ax = plt.subplots(1, 2, figsize=(14*3, 7*3))\n",
    "plt.sca(ax[0])  # set the first axis as current\n",
    "display1 = afwDisplay.Display(frame=fig)\n",
    "display1.scale('linear', 'zscale')\n",
    "#afw_display = afwDisplay.Display(frame=1)\n",
    "display1.mtv(calexp_orig_g.image)\n",
    "\n",
    "#outfile = 'calexp_orig.fits'\n",
    "#hdu = fits.PrimaryHDU(calexp_orig_g.image)\n",
    "#hdu.writeto(outfile, overwrite=True)\n",
    "\n",
    "plt.title('original image')\n",
    "#plt.xlim(1000, 2500)\n",
    "#plt.ylim(300, 1800)\n",
    "plt.sca(ax[1])  # set the second axis as current\n",
    "\n",
    "display2 = afwDisplay.Display(frame=fig)\n",
    "radec = SpherePoint(fake_ras[0], fake_decs[0], lsst.geom.degrees)\n",
    "#radec2 = SpherePoint(fake_ras[7], fake_decs[7], lsst.geom.degrees)\n",
    "#radec3 = SpherePoint(fake_ras[16], fake_decs[16], lsst.geom.degrees)\n",
    "xy = calexp_new_g.getWcs().skyToPixel(radec)\n",
    "#xy2 = calexp_new_g.getWcs().skyToPixel(radec2)\n",
    "#xy3 = calexp_new_g.getWcs().skyToPixel(radec3)\n",
    "display2.scale('linear', 'zscale')\n",
    "#display2.mtv(calexp_new_g.image)\n",
    "display2.mtv(calexp_orig_g.image)\n",
    "display2.dot('o', xy.getX(), xy.getY(), ctype='red', size = 20)\n",
    "#display2.dot('o', xy2.getX(), xy2.getY(), ctype='red', size = 20)\n",
    "#display2.dot('o', xy3.getX(), xy3.getY(), ctype='red', size = 20)\n",
    "\n",
    "\n",
    "\n",
    "# display2.mtv(image0)\n",
    "plt.title('with fake stars')\n",
    "#plt.xlim(1000, 2500)\n",
    "#plt.ylim(300, 1800)\n",
    "plt.tight_layout()\n",
    "plt.show()"
   ]
  },
  {
   "cell_type": "markdown",
   "id": "24f35eb2-054c-4186-99a8-a35e95e4a277",
   "metadata": {},
   "source": [
    "Ideas for further exploration:\n",
    "\n",
    "- Inject stars using a realistic stellar population (i.e., get colors and a luminosity function from isochrones).\n",
    "- Inject galaxies or other objects.\n",
    "- Inject periodic variables into a set of overlapping visit images (using their time of observation to determine the input phase, and thus magnitude, for each image).\n",
    "- Test completeness of detection/measurement (will need to inject stars over a variety of magnitudes and colors, and probably many times over to build up a large enough statistical sample).\n"
   ]
  },
  {
   "cell_type": "code",
   "execution_count": 59,
   "id": "31f63032-21f3-46d5-a150-fd5e1aec599b",
   "metadata": {
    "execution": {
     "iopub.execute_input": "2023-06-22T22:59:22.040579Z",
     "iopub.status.busy": "2023-06-22T22:59:22.039882Z",
     "iopub.status.idle": "2023-06-22T22:59:23.533566Z",
     "shell.execute_reply": "2023-06-22T22:59:23.533109Z",
     "shell.execute_reply.started": "2023-06-22T22:59:22.040547Z"
    },
    "tags": []
   },
   "outputs": [
    {
     "data": {
      "image/png": "[encoded data removed]",
      "text/plain": [
       "<Figure size 3024x1512 with 1 Axes>"
      ]
     },
     "metadata": {},
     "output_type": "display_data"
    }
   ],
   "source": [
    "\n",
    "fig, ax = plt.subplots(1, 1, figsize=(14*3, 7*3))\n",
    "radec = SpherePoint(fake_ras[0], fake_decs[0], lsst.geom.degrees)\n",
    "xy = geom.PointI(calexp_new_g.getWcs().skyToPixel(radec))\n",
    "cutoutSideLength = 51\n",
    "cutoutSize = geom.ExtentI(cutoutSideLength, cutoutSideLength)\n",
    "\n",
    "bbox = geom.BoxI(xy - cutoutSize // 2, cutoutSize)\n",
    " \n",
    "display1 = afwDisplay.Display(frame=fig)\n",
    "display1.scale('linear', 'zscale')\n",
    "display1.mtv(calexp_new_g.image)\n"
   ]
  },
  {
   "cell_type": "code",
   "execution_count": 93,
   "id": "de8ee367-b655-4d43-8333-e06eda42a4b7",
   "metadata": {
    "execution": {
     "iopub.execute_input": "2023-06-22T21:36:32.777078Z",
     "iopub.status.busy": "2023-06-22T21:36:32.775995Z",
     "iopub.status.idle": "2023-06-22T21:36:32.796807Z",
     "shell.execute_reply": "2023-06-22T21:36:32.795524Z",
     "shell.execute_reply.started": "2023-06-22T21:36:32.777014Z"
    }
   },
   "outputs": [
    {
     "ename": "AttributeError",
     "evalue": "'function' object has no attribute 'help'",
     "output_type": "error",
     "traceback": [
      "\u001b[0;31m---------------------------------------------------------------------------\u001b[0m",
      "\u001b[0;31mAttributeError\u001b[0m                            Traceback (most recent call last)",
      "Input \u001b[0;32mIn [93]\u001b[0m, in \u001b[0;36m<cell line: 1>\u001b[0;34m()\u001b[0m\n\u001b[0;32m----> 1\u001b[0m \u001b[43mdisplay1\u001b[49m\u001b[38;5;241;43m.\u001b[39;49m\u001b[43mmtv\u001b[49m\u001b[38;5;241;43m.\u001b[39;49m\u001b[43mhelp\u001b[49m\n",
      "\u001b[0;31mAttributeError\u001b[0m: 'function' object has no attribute 'help'"
     ]
    }
   ],
   "source": [
    "display1.mtv.help"
   ]
  },
  {
   "cell_type": "code",
   "execution_count": null,
   "id": "8586d695-b22a-46b0-ad1f-9c5012361209",
   "metadata": {},
   "outputs": [],
   "source": []
  }
 ],
 "metadata": {
  "kernelspec": {
   "display_name": "LSST",
   "language": "python",
   "name": "lsst"
  },
  "language_info": {
   "codemirror_mode": {
    "name": "ipython",
    "version": 3
   },
   "file_extension": ".py",
   "mimetype": "text/x-python",
   "name": "python",
   "nbconvert_exporter": "python",
   "pygments_lexer": "ipython3",
   "version": "3.8.12"
  }
 },
 "nbformat": 4,
 "nbformat_minor": 5
}
