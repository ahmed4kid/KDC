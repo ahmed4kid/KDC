{
 "cells": [
  {
   "cell_type": "code",
   "execution_count": 1,
   "id": "9d88fe21-505f-4507-a419-2129ac9161e6",
   "metadata": {
    "execution": {
     "iopub.execute_input": "2023-07-06T18:06:42.878603Z",
     "iopub.status.busy": "2023-07-06T18:06:42.877496Z",
     "iopub.status.idle": "2023-07-06T18:06:42.882490Z",
     "shell.execute_reply": "2023-07-06T18:06:42.881673Z",
     "shell.execute_reply.started": "2023-07-06T18:06:42.878569Z"
    },
    "tags": []
   },
   "outputs": [],
   "source": [
    "ra_known_rrl = 60.2238149\n",
    "dec_known_rrl = -37.1914235"
   ]
  },
  {
   "cell_type": "code",
   "execution_count": 2,
   "id": "caf8e85c-41bf-47fd-af5c-fb0da9b31fb2",
   "metadata": {
    "execution": {
     "iopub.execute_input": "2023-07-06T18:06:44.406840Z",
     "iopub.status.busy": "2023-07-06T18:06:44.405907Z",
     "iopub.status.idle": "2023-07-06T18:06:45.521623Z",
     "shell.execute_reply": "2023-07-06T18:06:45.520541Z",
     "shell.execute_reply.started": "2023-07-06T18:06:44.406806Z"
    },
    "tags": []
   },
   "outputs": [],
   "source": [
    "import numpy as np\n",
    "import matplotlib.pyplot as plt\n",
    "import astropy.units as u\n",
    "from astropy.table import unique\n",
    "from astropy.timeseries import LombScargle\n",
    "from lsst.rsp import get_tap_service\n",
    "import pandas as pd"
   ]
  },
  {
   "cell_type": "code",
   "execution_count": 3,
   "id": "da263256-d72e-4190-bc14-58da041eb453",
   "metadata": {
    "execution": {
     "iopub.execute_input": "2023-07-06T18:06:45.606334Z",
     "iopub.status.busy": "2023-07-06T18:06:45.605947Z",
     "iopub.status.idle": "2023-07-06T18:06:45.670207Z",
     "shell.execute_reply": "2023-07-06T18:06:45.669171Z",
     "shell.execute_reply.started": "2023-07-06T18:06:45.606294Z"
    },
    "tags": []
   },
   "outputs": [],
   "source": [
    "service = get_tap_service(\"tap\")"
   ]
  },
  {
   "cell_type": "code",
   "execution_count": 4,
   "id": "a125a6c5-71a0-41c9-85cf-fb0461f0243d",
   "metadata": {
    "execution": {
     "iopub.execute_input": "2023-07-06T18:06:47.893061Z",
     "iopub.status.busy": "2023-07-06T18:06:47.892327Z",
     "iopub.status.idle": "2023-07-06T18:06:53.361409Z",
     "shell.execute_reply": "2023-07-06T18:06:53.360068Z",
     "shell.execute_reply.started": "2023-07-06T18:06:47.893025Z"
    },
    "tags": []
   },
   "outputs": [],
   "source": [
    "results = service.search(\"SELECT TOP 100 \"\n",
    "                         \"coord_ra, coord_dec, objectId, \"\n",
    "                         \"g_psfFlux, r_psfFlux, i_psfFlux, detect_isPrimary, \"\n",
    "                         \"scisql_nanojanskyToAbMag(g_psfFlux) as gPSFMag, \"\n",
    "                         \"scisql_nanojanskyToAbMag(r_psfFlux) as rPSFMag, \"\n",
    "                         \"scisql_nanojanskyToAbMag(i_psfFlux) as iPSFMag, \"\n",
    "                         \"g_extendedness, r_extendedness, i_extendedness \"\n",
    "                         \"FROM dp02_dc2_catalogs.Object \"\n",
    "                         \"WHERE CONTAINS(POINT('ICRS', coord_ra, coord_dec), \"\n",
    "                         \"CIRCLE('ICRS',\" + str(ra_known_rrl) + \", \"\n",
    "                         + str(dec_known_rrl) + \", 0.001)) = 1 \"\n",
    "                         \"AND detect_isPrimary = 1\")\n",
    "\n",
    "objs = results.to_table()"
   ]
  },
  {
   "cell_type": "code",
   "execution_count": 5,
   "id": "d6d38e89-1b30-464e-9db7-aa0ee6d1bd93",
   "metadata": {
    "execution": {
     "iopub.execute_input": "2023-07-06T18:07:00.434728Z",
     "iopub.status.busy": "2023-07-06T18:07:00.433835Z",
     "iopub.status.idle": "2023-07-06T18:07:00.453139Z",
     "shell.execute_reply": "2023-07-06T18:07:00.452115Z",
     "shell.execute_reply.started": "2023-07-06T18:07:00.434668Z"
    },
    "tags": []
   },
   "outputs": [],
   "source": [
    "%matplotlib inline\n",
    "plt.style.use('tableau-colorblind10')\n",
    "params = {'axes.labelsize': 24,\n",
    "          'font.size': 20,\n",
    "          'legend.fontsize': 14,\n",
    "          'xtick.major.width': 3,\n",
    "          'xtick.minor.width': 2,\n",
    "          'xtick.major.size': 12,\n",
    "          'xtick.minor.size': 6,\n",
    "          'xtick.direction': 'in',\n",
    "          'xtick.top': True,\n",
    "          'lines.linewidth': 3,\n",
    "          'axes.linewidth': 3,\n",
    "          'axes.labelweight': 3,\n",
    "          'axes.titleweight': 3,\n",
    "          'ytick.major.width': 3,\n",
    "          'ytick.minor.width': 2,\n",
    "          'ytick.major.size': 12,\n",
    "          'ytick.minor.size': 6,\n",
    "          'ytick.direction': 'in',\n",
    "          'ytick.right': True,\n",
    "          'figure.figsize': [10, 8],\n",
    "          'figure.facecolor': 'White'}\n",
    "plt.rcParams.update(params)"
   ]
  },
  {
   "cell_type": "code",
   "execution_count": 6,
   "id": "4e882d18-b063-4e4d-8b33-a9d003282267",
   "metadata": {
    "execution": {
     "iopub.execute_input": "2023-07-06T18:07:01.617312Z",
     "iopub.status.busy": "2023-07-06T18:07:01.616296Z",
     "iopub.status.idle": "2023-07-06T18:07:01.621408Z",
     "shell.execute_reply": "2023-07-06T18:07:01.620639Z",
     "shell.execute_reply.started": "2023-07-06T18:07:01.617280Z"
    },
    "tags": []
   },
   "outputs": [],
   "source": [
    "plot_filter_labels = ['u', 'g', 'r', 'i', 'z', 'y']\n",
    "plot_filter_colors = {'u': '#56b4e9', 'g': '#008060', 'r': '#ff4000',\n",
    "                      'i': '#850000', 'z': '#6600cc', 'y': '#000000'}\n",
    "plot_filter_symbols = {'u': 'o', 'g': '^', 'r': 'v', 'i': 's', 'z': '*', 'y': 'p'}"
   ]
  },
  {
   "cell_type": "code",
   "execution_count": 7,
   "id": "87ad54bf-afac-4b00-bdb4-3fd01da9dbfb",
   "metadata": {
    "execution": {
     "iopub.execute_input": "2023-07-06T18:07:02.416082Z",
     "iopub.status.busy": "2023-07-06T18:07:02.415141Z",
     "iopub.status.idle": "2023-07-06T18:07:02.422997Z",
     "shell.execute_reply": "2023-07-06T18:07:02.422233Z",
     "shell.execute_reply.started": "2023-07-06T18:07:02.416050Z"
    },
    "tags": []
   },
   "outputs": [
    {
     "data": {
      "text/html": [
       "<div><i>Table length=1</i>\n",
       "<table id=\"table140463397003584\" class=\"table-striped table-bordered table-condensed\">\n",
       "<thead><tr><th>coord_ra</th><th>coord_dec</th><th>objectId</th><th>g_psfFlux</th><th>r_psfFlux</th><th>i_psfFlux</th><th>detect_isPrimary</th><th>gPSFMag</th><th>rPSFMag</th><th>iPSFMag</th><th>g_extendedness</th><th>r_extendedness</th><th>i_extendedness</th></tr></thead>\n",
       "<thead><tr><th>deg</th><th>deg</th><th></th><th>nJy</th><th>nJy</th><th>nJy</th><th></th><th></th><th></th><th></th><th></th><th></th><th></th></tr></thead>\n",
       "<thead><tr><th>float64</th><th>float64</th><th>int64</th><th>float64</th><th>float64</th><th>float64</th><th>bool</th><th>float64</th><th>float64</th><th>float64</th><th>float64</th><th>float64</th><th>float64</th></tr></thead>\n",
       "<tr><td>60.2236846</td><td>-37.1910992</td><td>1567525349208669536</td><td>314.9305113</td><td>693.3339676</td><td>318.6078193</td><td>True</td><td>25.15446315432072</td><td>24.297643806152873</td><td>25.141858924780635</td><td>--</td><td>--</td><td>--</td></tr>\n",
       "</table></div>"
      ],
      "text/plain": [
       "<Table length=1>\n",
       " coord_ra   coord_dec        objectId      ... r_extendedness i_extendedness\n",
       "   deg         deg                         ...                              \n",
       " float64     float64          int64        ...    float64        float64    \n",
       "---------- ----------- ------------------- ... -------------- --------------\n",
       "60.2236846 -37.1910992 1567525349208669536 ...             --             --"
      ]
     },
     "execution_count": 7,
     "metadata": {},
     "output_type": "execute_result"
    }
   ],
   "source": [
    "objs"
   ]
  },
  {
   "cell_type": "code",
   "execution_count": 8,
   "id": "df972599-2de8-4975-8da9-dbbaf42f41dc",
   "metadata": {
    "execution": {
     "iopub.execute_input": "2023-07-06T18:07:08.542171Z",
     "iopub.status.busy": "2023-07-06T18:07:08.541273Z",
     "iopub.status.idle": "2023-07-06T18:07:08.547112Z",
     "shell.execute_reply": "2023-07-06T18:07:08.546134Z",
     "shell.execute_reply.started": "2023-07-06T18:07:08.542137Z"
    },
    "tags": []
   },
   "outputs": [
    {
     "name": "stdout",
     "output_type": "stream",
     "text": [
      "1567525349208669536\n"
     ]
    }
   ],
   "source": [
    "sel_objid = objs[0]['objectId']\n",
    "print(sel_objid)"
   ]
  },
  {
   "cell_type": "code",
   "execution_count": 9,
   "id": "a3b4269e-e406-48c6-9c7e-a4b6bc88147c",
   "metadata": {
    "execution": {
     "iopub.execute_input": "2023-07-06T18:07:14.292429Z",
     "iopub.status.busy": "2023-07-06T18:07:14.291508Z",
     "iopub.status.idle": "2023-07-06T18:07:14.296377Z",
     "shell.execute_reply": "2023-07-06T18:07:14.295590Z",
     "shell.execute_reply.started": "2023-07-06T18:07:14.292391Z"
    },
    "tags": []
   },
   "outputs": [],
   "source": [
    "query = \"SELECT src.band, src.ccdVisitId, src.coord_ra, src.coord_dec, \"\\\n",
    "        \"src.objectId, src.psfFlux, src.psfFluxErr, \"\\\n",
    "        \"scisql_nanojanskyToAbMag(psfFlux) as psfMag, \"\\\n",
    "        \"visinfo.ccdVisitId, visinfo.band, \"\\\n",
    "        \"visinfo.expMidptMJD, visinfo.zeroPoint \"\\\n",
    "        \"FROM dp02_dc2_catalogs.ForcedSource as src \"\\\n",
    "        \"JOIN dp02_dc2_catalogs.CcdVisit as visinfo \"\\\n",
    "        \"ON visinfo.ccdVisitId = src.ccdVisitId \"\\\n",
    "        \"WHERE src.objectId = \"+str(sel_objid)+\" \"\n"
   ]
  },
  {
   "cell_type": "code",
   "execution_count": 10,
   "id": "eb276b27-80c4-4db7-940d-a0f785de55ec",
   "metadata": {
    "execution": {
     "iopub.execute_input": "2023-07-06T18:07:17.448162Z",
     "iopub.status.busy": "2023-07-06T18:07:17.447138Z",
     "iopub.status.idle": "2023-07-06T18:07:18.538955Z",
     "shell.execute_reply": "2023-07-06T18:07:18.537928Z",
     "shell.execute_reply.started": "2023-07-06T18:07:17.448125Z"
    },
    "tags": []
   },
   "outputs": [
    {
     "name": "stdout",
     "output_type": "stream",
     "text": [
      "416\n"
     ]
    }
   ],
   "source": [
    "results = service.search(query)\n",
    "srcs = results.to_table()\n",
    "print(len(srcs))"
   ]
  },
  {
   "cell_type": "code",
   "execution_count": 11,
   "id": "aaef1e84-00ff-483b-9745-f18db9b4b708",
   "metadata": {
    "execution": {
     "iopub.execute_input": "2023-07-06T18:07:20.679987Z",
     "iopub.status.busy": "2023-07-06T18:07:20.678880Z",
     "iopub.status.idle": "2023-07-06T18:07:20.695516Z",
     "shell.execute_reply": "2023-07-06T18:07:20.694671Z",
     "shell.execute_reply.started": "2023-07-06T18:07:20.679953Z"
    },
    "tags": []
   },
   "outputs": [
    {
     "data": {
      "text/html": [
       "<div><i>Table length=416</i>\n",
       "<table id=\"table140463393664992\" class=\"table-striped table-bordered table-condensed\">\n",
       "<thead><tr><th>band</th><th>ccdVisitId</th><th>coord_ra</th><th>coord_dec</th><th>objectId</th><th>psfFlux</th><th>psfFluxErr</th><th>psfMag</th><th>ccdVisitId2</th><th>band2</th><th>expMidptMJD</th><th>zeroPoint</th></tr></thead>\n",
       "<thead><tr><th></th><th></th><th>deg</th><th>deg</th><th></th><th>nJy</th><th>nJy</th><th></th><th></th><th></th><th>d</th><th>mag</th></tr></thead>\n",
       "<thead><tr><th>object</th><th>int64</th><th>float64</th><th>float64</th><th>int64</th><th>float64</th><th>float64</th><th>float64</th><th>int64</th><th>object</th><th>float64</th><th>float32</th></tr></thead>\n",
       "<tr><td>u</td><td>466747134</td><td>60.2236846</td><td>-37.1910992</td><td>1567525349208669536</td><td>591.109453</td><td>243.7957407</td><td>24.47083023843665</td><td>466747134</td><td>u</td><td>60261.0894252</td><td>30.4676</td></tr>\n",
       "<tr><td>z</td><td>691061021</td><td>60.2236846</td><td>-37.1910992</td><td>1567525349208669536</td><td>3563.8668944</td><td>538.9190508</td><td>22.520196311606902</td><td>691061021</td><td>z</td><td>60601.3578332</td><td>31.4636</td></tr>\n",
       "<tr><td>y</td><td>938255157</td><td>60.2236846</td><td>-37.1910992</td><td>1567525349208669536</td><td>6038.1534866</td><td>1450.5755477</td><td>21.94773962910368</td><td>938255157</td><td>y</td><td>60955.2141882</td><td>30.6288</td></tr>\n",
       "<tr><td>u</td><td>466717070</td><td>60.2236846</td><td>-37.1910992</td><td>1567525349208669536</td><td>-7.4144805</td><td>251.3468053</td><td>--</td><td>466717070</td><td>u</td><td>60261.0759832</td><td>30.4662</td></tr>\n",
       "<tr><td>y</td><td>1214714101</td><td>60.2236846</td><td>-37.1910992</td><td>1567525349208669536</td><td>5151.1002461</td><td>1245.5484575</td><td>22.120249995467244</td><td>1214714101</td><td>y</td><td>61368.1482252</td><td>30.6364</td></tr>\n",
       "<tr><td>y</td><td>407915187</td><td>60.2236846</td><td>-37.1910992</td><td>1567525349208669536</td><td>5919.4430991</td><td>1344.0757835</td><td>21.96929787439393</td><td>407915187</td><td>y</td><td>60159.3434602</td><td>30.6299</td></tr>\n",
       "<tr><td>y</td><td>407945008</td><td>60.2236846</td><td>-37.1910992</td><td>1567525349208669536</td><td>4703.3469667</td><td>1372.8449105</td><td>22.21898245523717</td><td>407945008</td><td>y</td><td>60159.3568792</td><td>30.6294</td></tr>\n",
       "<tr><td>y</td><td>456674038</td><td>60.2236846</td><td>-37.1910992</td><td>1567525349208669536</td><td>5358.9863884</td><td>1233.1689633</td><td>22.077293365111757</td><td>456674038</td><td>y</td><td>60240.1254512</td><td>30.6276</td></tr>\n",
       "<tr><td>y</td><td>937361141</td><td>60.2236846</td><td>-37.1910992</td><td>1567525349208669536</td><td>5483.2923649</td><td>1506.5703745</td><td>22.05239649313478</td><td>937361141</td><td>y</td><td>60954.2130252</td><td>30.6196</td></tr>\n",
       "<tr><td>...</td><td>...</td><td>...</td><td>...</td><td>...</td><td>...</td><td>...</td><td>...</td><td>...</td><td>...</td><td>...</td><td>...</td></tr>\n",
       "<tr><td>i</td><td>945621065</td><td>60.2236846</td><td>-37.1910992</td><td>1567525349208669536</td><td>2574.5653912</td><td>230.6054434</td><td>22.873240182706382</td><td>945621065</td><td>i</td><td>60964.1609392</td><td>31.8468</td></tr>\n",
       "<tr><td>r</td><td>942567058</td><td>60.2236846</td><td>-37.1910992</td><td>1567525349208669536</td><td>948.4793737</td><td>195.1267722</td><td>23.957430272865217</td><td>942567058</td><td>r</td><td>60960.2786722</td><td>32.1775</td></tr>\n",
       "<tr><td>i</td><td>635904006</td><td>60.2236846</td><td>-37.1910992</td><td>1567525349208669536</td><td>2626.2770049</td><td>243.5704908</td><td>22.8516486722396</td><td>635904006</td><td>i</td><td>60528.3688052</td><td>31.8428</td></tr>\n",
       "<tr><td>r</td><td>655433121</td><td>60.2236846</td><td>-37.1910992</td><td>1567525349208669536</td><td>2601.4574854</td><td>156.4124354</td><td>22.861958168036097</td><td>655433121</td><td>r</td><td>60550.2819792</td><td>32.1667</td></tr>\n",
       "<tr><td>r</td><td>694266138</td><td>60.2236846</td><td>-37.1910992</td><td>1567525349208669536</td><td>826.337202</td><td>186.137652</td><td>24.107106736771534</td><td>694266138</td><td>r</td><td>60605.3240872</td><td>32.181</td></tr>\n",
       "<tr><td>r</td><td>716037109</td><td>60.2236846</td><td>-37.1910992</td><td>1567525349208669536</td><td>1359.7410454</td><td>125.2364793</td><td>23.566359481394446</td><td>716037109</td><td>r</td><td>60636.1346392</td><td>32.1776</td></tr>\n",
       "<tr><td>i</td><td>932414154</td><td>60.2236846</td><td>-37.1910992</td><td>1567525349208669536</td><td>2694.3810602</td><td>242.3666482</td><td>22.82385245746523</td><td>932414154</td><td>i</td><td>60946.3470132</td><td>31.8457</td></tr>\n",
       "<tr><td>i</td><td>966879030</td><td>60.2236846</td><td>-37.1910992</td><td>1567525349208669536</td><td>2011.2016519</td><td>224.5948265</td><td>23.141360957375753</td><td>966879030</td><td>i</td><td>61003.0922032</td><td>31.8465</td></tr>\n",
       "<tr><td>r</td><td>913774008</td><td>60.2236846</td><td>-37.1910992</td><td>1567525349208669536</td><td>4361.1998528</td><td>176.9792269</td><td>22.300985028111487</td><td>913774008</td><td>r</td><td>60910.3417092</td><td>32.1569</td></tr>\n",
       "<tr><td>r</td><td>694315082</td><td>60.2236846</td><td>-37.1910992</td><td>1567525349208669536</td><td>840.7689376</td><td>190.4318799</td><td>24.088308354480073</td><td>694315082</td><td>r</td><td>60605.3469472</td><td>32.1816</td></tr>\n",
       "</table></div>"
      ],
      "text/plain": [
       "<Table length=416>\n",
       " band  ccdVisitId  coord_ra   coord_dec  ... band2   expMidptMJD  zeroPoint\n",
       "                     deg         deg     ...              d          mag   \n",
       "object   int64     float64     float64   ... object    float64     float32 \n",
       "------ ---------- ---------- ----------- ... ------ ------------- ---------\n",
       "     u  466747134 60.2236846 -37.1910992 ...      u 60261.0894252   30.4676\n",
       "     z  691061021 60.2236846 -37.1910992 ...      z 60601.3578332   31.4636\n",
       "     y  938255157 60.2236846 -37.1910992 ...      y 60955.2141882   30.6288\n",
       "     u  466717070 60.2236846 -37.1910992 ...      u 60261.0759832   30.4662\n",
       "     y 1214714101 60.2236846 -37.1910992 ...      y 61368.1482252   30.6364\n",
       "     y  407915187 60.2236846 -37.1910992 ...      y 60159.3434602   30.6299\n",
       "     y  407945008 60.2236846 -37.1910992 ...      y 60159.3568792   30.6294\n",
       "     y  456674038 60.2236846 -37.1910992 ...      y 60240.1254512   30.6276\n",
       "     y  937361141 60.2236846 -37.1910992 ...      y 60954.2130252   30.6196\n",
       "   ...        ...        ...         ... ...    ...           ...       ...\n",
       "     i  945621065 60.2236846 -37.1910992 ...      i 60964.1609392   31.8468\n",
       "     r  942567058 60.2236846 -37.1910992 ...      r 60960.2786722   32.1775\n",
       "     i  635904006 60.2236846 -37.1910992 ...      i 60528.3688052   31.8428\n",
       "     r  655433121 60.2236846 -37.1910992 ...      r 60550.2819792   32.1667\n",
       "     r  694266138 60.2236846 -37.1910992 ...      r 60605.3240872    32.181\n",
       "     r  716037109 60.2236846 -37.1910992 ...      r 60636.1346392   32.1776\n",
       "     i  932414154 60.2236846 -37.1910992 ...      i 60946.3470132   31.8457\n",
       "     i  966879030 60.2236846 -37.1910992 ...      i 61003.0922032   31.8465\n",
       "     r  913774008 60.2236846 -37.1910992 ...      r 60910.3417092   32.1569\n",
       "     r  694315082 60.2236846 -37.1910992 ...      r 60605.3469472   32.1816"
      ]
     },
     "execution_count": 11,
     "metadata": {},
     "output_type": "execute_result"
    }
   ],
   "source": [
    "srcs"
   ]
  },
  {
   "cell_type": "code",
   "execution_count": 12,
   "id": "557ae8ae-c60f-47ff-8f43-42cdcc4b33e2",
   "metadata": {
    "execution": {
     "iopub.execute_input": "2023-07-06T18:07:33.602084Z",
     "iopub.status.busy": "2023-07-06T18:07:33.600751Z",
     "iopub.status.idle": "2023-07-06T18:07:33.683675Z",
     "shell.execute_reply": "2023-07-06T18:07:33.682768Z",
     "shell.execute_reply.started": "2023-07-06T18:07:33.602038Z"
    },
    "tags": []
   },
   "outputs": [],
   "source": [
    "import csv \n",
    "with open('table.csv', 'w') as f:\n",
    "    writer = csv.writer(f)\n",
    "    writer.writerows(srcs)\n",
    "# Close the file\n",
    "f.close() "
   ]
  },
  {
   "cell_type": "code",
   "execution_count": 13,
   "id": "a49a2469-3973-4d95-a51a-dbde5b83d808",
   "metadata": {
    "execution": {
     "iopub.execute_input": "2023-07-06T18:07:38.612246Z",
     "iopub.status.busy": "2023-07-06T18:07:38.611051Z",
     "iopub.status.idle": "2023-07-06T18:07:38.619060Z",
     "shell.execute_reply": "2023-07-06T18:07:38.617877Z",
     "shell.execute_reply.started": "2023-07-06T18:07:38.612206Z"
    },
    "tags": []
   },
   "outputs": [],
   "source": [
    "pick = {}\n",
    "for filter in plot_filter_labels:\n",
    "    pick[filter] = (srcs['band'] == filter)"
   ]
  },
  {
   "cell_type": "code",
   "execution_count": 14,
   "id": "e17fbdd8-3f24-440b-a3a0-bbc10735f179",
   "metadata": {
    "execution": {
     "iopub.execute_input": "2023-07-06T18:07:40.456819Z",
     "iopub.status.busy": "2023-07-06T18:07:40.456393Z",
     "iopub.status.idle": "2023-07-06T18:07:40.637072Z",
     "shell.execute_reply": "2023-07-06T18:07:40.636272Z",
     "shell.execute_reply.started": "2023-07-06T18:07:40.456786Z"
    },
    "tags": []
   },
   "outputs": [
    {
     "data": {
      "image/png": "[encoded data removed]",
      "text/plain": [
       "<Figure size 600x400 with 1 Axes>"
      ]
     },
     "metadata": {},
     "output_type": "display_data"
    }
   ],
   "source": [
    "fig = plt.figure(figsize=(6, 4))\n",
    "plt.plot(srcs[pick['r']]['expMidptMJD'], srcs[pick['r']]['psfMag'],\n",
    "         'k.', ms=10)\n",
    "plt.minorticks_on()\n",
    "plt.xlabel('MJD (days)')\n",
    "plt.ylabel('r')\n",
    "plt.gca().invert_yaxis()\n",
    "plt.show()"
   ]
  },
  {
   "cell_type": "code",
   "execution_count": null,
   "id": "5b8e5461-da9d-469b-9e32-20c42af3edcc",
   "metadata": {},
   "outputs": [],
   "source": []
  }
 ],
 "metadata": {
  "kernelspec": {
   "display_name": "LSST",
   "language": "python",
   "name": "lsst"
  },
  "language_info": {
   "codemirror_mode": {
    "name": "ipython",
    "version": 3
   },
   "file_extension": ".py",
   "mimetype": "text/x-python",
   "name": "python",
   "nbconvert_exporter": "python",
   "pygments_lexer": "ipython3",
   "version": "3.10.10"
  }
 },
 "nbformat": 4,
 "nbformat_minor": 5
}
