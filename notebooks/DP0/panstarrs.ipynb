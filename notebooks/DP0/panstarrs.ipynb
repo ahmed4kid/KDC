{
 "cells": [
  {
   "cell_type": "markdown",
   "id": "f9072000-71fc-4b5a-a1a3-2510fccdf03f",
   "metadata": {},
   "source": [
    "# This is a notebook that reads in the Pan-STARRS data alongside the matched DP0 data."
   ]
  },
  {
   "cell_type": "code",
   "execution_count": null,
   "id": "0aae3ab3-0f6f-4fa4-9283-1c2bcf3048b9",
   "metadata": {
    "tags": []
   },
   "outputs": [],
   "source": [
    "import numpy as np\n",
    "import matplotlib\n",
    "import pandas as pd\n",
    "import matplotlib.pyplot as plt \n",
    "import math "
   ]
  },
  {
   "cell_type": "code",
   "execution_count": null,
   "id": "d2e1da76-d945-4ddc-939a-4ff30e819d71",
   "metadata": {
    "tags": []
   },
   "outputs": [],
   "source": [
    "def plotter(x,y,xtitle,ytitle):\n",
    "    scatter = plt.plot(x, y, '.r') \n",
    "    plt.title(xtitle+' vs '+ytitle)\n",
    "    plt.xlabel(xtitle)\n",
    "    plt.ylabel(ytitle)\n",
    "    plt.show()\n",
    "    return\n"
   ]
  },
  {
   "cell_type": "markdown",
   "id": "52fc6fc0-9f92-4046-8de1-7decb5c93f4c",
   "metadata": {},
   "source": [
    "Read in the csv file"
   ]
  },
  {
   "cell_type": "code",
   "execution_count": null,
   "id": "7fe00b6b-1392-43c9-b8eb-10310fb97ef7",
   "metadata": {
    "tags": []
   },
   "outputs": [],
   "source": [
    "galaxies = pd.read_csv('truth_DP0_phosim_real.csv')\n",
    "\n",
    "#These are DP0 values\n",
    "ra = galaxies['ra_1']\n",
    "dec = galaxies['dec_1']\n",
    "z_phot = galaxies['z_phot']  #PanSTARRS photo-z\n",
    "redshift = galaxies['redshift'] #DC2 photo-z\n",
    "r = galaxies['mag_r_2']\n",
    "i = galaxies ['mag_i']\n",
    "g = galaxies['mag_g']\n",
    "#print(r-i)\n",
    "\n",
    "#These are Pan-STARRS values\n",
    "ra_ps = galaxies['raStack']\n",
    "dec_ps = galaxies['decStack']\n",
    "r_ps = galaxies['rApMag']\n",
    "i_ps = galaxies['iApMag']\n",
    "g_ps = galaxies['gApMag']\n",
    "#print(r_ps - i_ps)"
   ]
  },
  {
   "cell_type": "code",
   "execution_count": null,
   "id": "b7c8d970-5755-4bb2-86f2-6a64bc00308c",
   "metadata": {
    "tags": []
   },
   "outputs": [],
   "source": [
    "print(ra[0])"
   ]
  },
  {
   "cell_type": "markdown",
   "id": "b3f8c693-36b5-4447-ba29-e7d5e2f5a708",
   "metadata": {},
   "source": [
    "This routine below takes the DP0 RA and DEC and joins them with the u,g,r,i magnitudes for the 20 KN and prints to a file"
   ]
  },
  {
   "cell_type": "code",
   "execution_count": null,
   "id": "c79cd6e6-f3d4-4208-9503-240719e4cccf",
   "metadata": {
    "tags": []
   },
   "outputs": [],
   "source": [
    "f = open('/home/mwiesner/KDC/notebooks/DP0/magnitudes.txt', \"w\")\n",
    "f.write('ra,dec,u,g,r,i,time \\n')\n",
    "for i in range(0,20):\n",
    "    galaxies = pd.read_csv('/home/mwiesner/KDC/notebooks/output/light_curve_'+str(i)+'.txt')\n",
    "    fine = galaxies[galaxies['time']==0.05]\n",
    "    u = fine['u']\n",
    "    g = fine['g']\n",
    "    r = fine['r']\n",
    "    ii = fine['i']\n",
    "    time = fine['time']\n",
    "    f.write(str(ra[i])+','+str(dec[i])+','+u.to_string(index=False)+','+g.to_string(index=False)+','+r.to_string(index=False)+','+ii.to_string(index=False)+','+time.to_string(index=False)+\"\\n\")\n",
    "            \n",
    " #   print(u[i],g[i],r[i],ii[i])\n",
    " #   f.write(str(ra[i])+str(dec[i]))#+str(u)+str(g)+str(r)+str(i)+str(time))\n",
    "f.close()"
   ]
  },
  {
   "cell_type": "markdown",
   "id": "f85632f6-6d63-4e5b-9560-7b5cc4595a6f",
   "metadata": {},
   "source": [
    "## Plot of r-i color of DC2 vs r-i color of DP0. This is what the galaxies matched on."
   ]
  },
  {
   "cell_type": "code",
   "execution_count": null,
   "id": "8b432126-092e-4f8c-99ad-88bf5ca1ded6",
   "metadata": {
    "tags": []
   },
   "outputs": [],
   "source": [
    "plotter((r-i),(r_ps-i_ps), 'DC2 r-i color', 'DP0 r-i color')\n",
    "#plt.title('RA vs DEC')\n",
    "#plt.xlabel('RA')\n",
    "#plt.ylabel('DEC')\n",
    "#plt.xlim(59.2,60.2)\n",
    "#plt.ylim(-37.4,-36.4)\n",
    "#plt.xlabel('MJD')\n",
    "#plt.ylabel('u-band magnitude')\n",
    "#plt.xlim(57980,57996)\n",
    "#plt.gca().invert_yaxis()\n",
    "#plt.show()"
   ]
  },
  {
   "cell_type": "code",
   "execution_count": null,
   "id": "944b45d8-5044-4148-84de-8516d151ee6c",
   "metadata": {
    "tags": []
   },
   "outputs": [],
   "source": [
    "plotter((g-r),(g_ps-r_ps), 'DC2 g-r color', 'DP0 g-r color') \n"
   ]
  },
  {
   "cell_type": "code",
   "execution_count": null,
   "id": "1a2bffd4-c929-48ed-938c-119cc4750fe4",
   "metadata": {
    "tags": []
   },
   "outputs": [],
   "source": [
    "plt.hist(z_phot, bins=10, color='r')\n",
    "plt.title('Histogram of real photometric redshifts')"
   ]
  },
  {
   "cell_type": "code",
   "execution_count": null,
   "id": "a3fbbd54-25fc-4853-90ac-194dea9a58d8",
   "metadata": {
    "tags": []
   },
   "outputs": [],
   "source": [
    "plt.hist(redshift, bins=10, color='r')\n",
    "#plt.title('Histogram of DC2 redshifts')"
   ]
  },
  {
   "cell_type": "code",
   "execution_count": null,
   "id": "c719e3fe-a3fc-4161-b6ac-eb8c71b95699",
   "metadata": {
    "tags": []
   },
   "outputs": [],
   "source": [
    "#The parameters for subplot are: number of rows, number of columns, and which subplot you're currently on. \n",
    "\n",
    "\n",
    "plt.subplot(1, 2, 1)\n",
    "plt.plot(ra, dec, 'b.')\n",
    "plt.title('RA and DEC for DC2')\n",
    "plt.xlabel('ra')\n",
    "plt.ylabel('dec')\n",
    "\n",
    "\n",
    "\n",
    "plt.subplot(1, 2, 2)\n",
    "plt.plot(ra_ps, dec_ps, 'r.')\n",
    "plt.title('RA and DEC for PanStarrs')\n",
    "plt.xlabel('ra')\n",
    "plt.ylabel('dec')\n",
    "\n",
    "plt.tight_layout()\n",
    "#plt.show()"
   ]
  },
  {
   "cell_type": "code",
   "execution_count": null,
   "id": "44cb876e-0852-4db1-81da-6b26ad564a74",
   "metadata": {
    "tags": []
   },
   "outputs": [],
   "source": [
    "print(np.min(redshift))"
   ]
  },
  {
   "cell_type": "code",
   "execution_count": null,
   "id": "edc1f4d7-4189-4f9a-884a-d7219aaf26f8",
   "metadata": {},
   "outputs": [],
   "source": []
  }
 ],
 "metadata": {
  "kernelspec": {
   "display_name": "LSST",
   "language": "python",
   "name": "lsst"
  },
  "language_info": {
   "codemirror_mode": {
    "name": "ipython",
    "version": 3
   },
   "file_extension": ".py",
   "mimetype": "text/x-python",
   "name": "python",
   "nbconvert_exporter": "python",
   "pygments_lexer": "ipython3",
   "version": "3.10.10"
  }
 },
 "nbformat": 4,
 "nbformat_minor": 5
}
