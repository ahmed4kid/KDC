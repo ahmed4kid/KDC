{
 "cells": [
  {
   "cell_type": "markdown",
   "id": "f9072000-71fc-4b5a-a1a3-2510fccdf03f",
   "metadata": {},
   "source": [
    "# This is a notebook that reads in the Pan-STARRS data alongside the matched DP0 data."
   ]
  },
  {
   "cell_type": "code",
   "execution_count": 1,
   "id": "0aae3ab3-0f6f-4fa4-9283-1c2bcf3048b9",
   "metadata": {
    "execution": {
     "iopub.execute_input": "2023-06-22T23:37:22.362817Z",
     "iopub.status.busy": "2023-06-22T23:37:22.362081Z",
     "iopub.status.idle": "2023-06-22T23:37:22.982855Z",
     "shell.execute_reply": "2023-06-22T23:37:22.982326Z",
     "shell.execute_reply.started": "2023-06-22T23:37:22.362730Z"
    },
    "tags": []
   },
   "outputs": [],
   "source": [
    "import numpy as np\n",
    "import matplotlib\n",
    "import pandas as pd\n",
    "import matplotlib.pyplot as plt \n",
    "import math "
   ]
  },
  {
   "cell_type": "code",
   "execution_count": 2,
   "id": "d2e1da76-d945-4ddc-939a-4ff30e819d71",
   "metadata": {
    "execution": {
     "iopub.execute_input": "2023-06-22T23:37:23.137173Z",
     "iopub.status.busy": "2023-06-22T23:37:23.136541Z",
     "iopub.status.idle": "2023-06-22T23:37:23.140359Z",
     "shell.execute_reply": "2023-06-22T23:37:23.139835Z",
     "shell.execute_reply.started": "2023-06-22T23:37:23.137143Z"
    },
    "tags": []
   },
   "outputs": [],
   "source": [
    "def plotter(x,y,xtitle,ytitle):\n",
    "    scatter = plt.plot(x, y, '.r') \n",
    "    plt.title(xtitle+' vs '+ytitle)\n",
    "    plt.xlabel(xtitle)\n",
    "    plt.ylabel(ytitle)\n",
    "    plt.show()\n",
    "    return\n"
   ]
  },
  {
   "cell_type": "markdown",
   "id": "52fc6fc0-9f92-4046-8de1-7decb5c93f4c",
   "metadata": {},
   "source": [
    "Read in the csv file"
   ]
  },
  {
   "cell_type": "code",
   "execution_count": 3,
   "id": "7fe00b6b-1392-43c9-b8eb-10310fb97ef7",
   "metadata": {
    "execution": {
     "iopub.execute_input": "2023-06-22T23:37:24.605168Z",
     "iopub.status.busy": "2023-06-22T23:37:24.604449Z",
     "iopub.status.idle": "2023-06-22T23:37:24.627892Z",
     "shell.execute_reply": "2023-06-22T23:37:24.627433Z",
     "shell.execute_reply.started": "2023-06-22T23:37:24.605125Z"
    },
    "tags": []
   },
   "outputs": [],
   "source": [
    "galaxies = pd.read_csv('truth_DP0_phosim_real.csv')\n",
    "\n",
    "#These are DP0 values\n",
    "ra = galaxies['ra_1']\n",
    "dec = galaxies['dec_1']\n",
    "z_phot = galaxies['z_phot']  #PanSTARRS photo-z\n",
    "redshift = galaxies['redshift'] #DC2 photo-z\n",
    "r = galaxies['mag_r_2']\n",
    "i = galaxies ['mag_i']\n",
    "g = galaxies['mag_g']\n",
    "#print(r-i)\n",
    "\n",
    "#These are Pan-STARRS values\n",
    "ra_ps = galaxies['raStack']\n",
    "dec_ps = galaxies['decStack']\n",
    "r_ps = galaxies['rApMag']\n",
    "i_ps = galaxies['iApMag']\n",
    "g_ps = galaxies['gApMag']\n",
    "#print(r_ps - i_ps)"
   ]
  },
  {
   "cell_type": "code",
   "execution_count": 4,
   "id": "b7c8d970-5755-4bb2-86f2-6a64bc00308c",
   "metadata": {
    "execution": {
     "iopub.execute_input": "2023-06-22T23:37:25.356465Z",
     "iopub.status.busy": "2023-06-22T23:37:25.355783Z",
     "iopub.status.idle": "2023-06-22T23:37:25.359852Z",
     "shell.execute_reply": "2023-06-22T23:37:25.359336Z",
     "shell.execute_reply.started": "2023-06-22T23:37:25.356437Z"
    },
    "tags": []
   },
   "outputs": [
    {
     "name": "stdout",
     "output_type": "stream",
     "text": [
      "60.2294718\n"
     ]
    }
   ],
   "source": [
    "print(ra[0])"
   ]
  },
  {
   "cell_type": "markdown",
   "id": "b3f8c693-36b5-4447-ba29-e7d5e2f5a708",
   "metadata": {},
   "source": [
    "This routine below takes the DP0 RA and DEC and joins them with the u,g,r,i magnitudes for the 20 KN and prints to a file"
   ]
  },
  {
   "cell_type": "code",
   "execution_count": 10,
   "id": "c79cd6e6-f3d4-4208-9503-240719e4cccf",
   "metadata": {
    "execution": {
     "iopub.execute_input": "2023-06-22T23:39:06.115108Z",
     "iopub.status.busy": "2023-06-22T23:39:06.114361Z",
     "iopub.status.idle": "2023-06-22T23:39:06.185026Z",
     "shell.execute_reply": "2023-06-22T23:39:06.184537Z",
     "shell.execute_reply.started": "2023-06-22T23:39:06.115058Z"
    },
    "tags": []
   },
   "outputs": [],
   "source": [
    "f = open('/home/mwiesner/KDC/notebooks/DP0/magnitudes.txt', \"w\")\n",
    "f.write('ra,dec,u,g,r,i,time \\n')\n",
    "for i in range(0,20):\n",
    "    galaxies = pd.read_csv('/home/mwiesner/KDC/notebooks/output/light_curve_'+str(i)+'.txt')\n",
    "    fine = galaxies[galaxies['time']==0.05]\n",
    "    u = fine['u']\n",
    "    g = fine['g']\n",
    "    r = fine['r']\n",
    "    ii = fine['i']\n",
    "    time = fine['time']\n",
    "    f.write(str(ra[i])+','+str(dec[i])+','+u.to_string(index=False)+','+g.to_string(index=False)+','+r.to_string(index=False)+','+ii.to_string(index=False)+','+time.to_string(index=False)+\"\\n\")\n",
    "            \n",
    " #   print(u[i],g[i],r[i],ii[i])\n",
    " #   f.write(str(ra[i])+str(dec[i]))#+str(u)+str(g)+str(r)+str(i)+str(time))\n",
    "f.close()"
   ]
  },
  {
   "cell_type": "markdown",
   "id": "f85632f6-6d63-4e5b-9560-7b5cc4595a6f",
   "metadata": {},
   "source": [
    "## Plot of r-i color of DC2 vs r-i color of DP0. This is what the galaxies matched on."
   ]
  },
  {
   "cell_type": "code",
   "execution_count": 7,
   "id": "8b432126-092e-4f8c-99ad-88bf5ca1ded6",
   "metadata": {
    "execution": {
     "iopub.execute_input": "2023-06-22T23:37:34.878858Z",
     "iopub.status.busy": "2023-06-22T23:37:34.878340Z",
     "iopub.status.idle": "2023-06-22T23:37:36.947331Z",
     "shell.execute_reply": "2023-06-22T23:37:36.946504Z",
     "shell.execute_reply.started": "2023-06-22T23:37:34.878831Z"
    },
    "tags": []
   },
   "outputs": [
    {
     "ename": "ValueError",
     "evalue": "x and y must have same first dimension, but have shapes (1,) and (25,)",
     "output_type": "error",
     "traceback": [
      "\u001b[0;31m---------------------------------------------------------------------------\u001b[0m",
      "\u001b[0;31mValueError\u001b[0m                                Traceback (most recent call last)",
      "Input \u001b[0;32mIn [7]\u001b[0m, in \u001b[0;36m<cell line: 1>\u001b[0;34m()\u001b[0m\n\u001b[0;32m----> 1\u001b[0m \u001b[43mplotter\u001b[49m\u001b[43m(\u001b[49m\u001b[43m(\u001b[49m\u001b[43mr\u001b[49m\u001b[38;5;241;43m-\u001b[39;49m\u001b[43mi\u001b[49m\u001b[43m)\u001b[49m\u001b[43m,\u001b[49m\u001b[43m(\u001b[49m\u001b[43mr_ps\u001b[49m\u001b[38;5;241;43m-\u001b[39;49m\u001b[43mi_ps\u001b[49m\u001b[43m)\u001b[49m\u001b[43m,\u001b[49m\u001b[43m \u001b[49m\u001b[38;5;124;43m'\u001b[39;49m\u001b[38;5;124;43mDC2 r-i color\u001b[39;49m\u001b[38;5;124;43m'\u001b[39;49m\u001b[43m,\u001b[49m\u001b[43m \u001b[49m\u001b[38;5;124;43m'\u001b[39;49m\u001b[38;5;124;43mDP0 r-i color\u001b[39;49m\u001b[38;5;124;43m'\u001b[39;49m\u001b[43m)\u001b[49m\n",
      "Input \u001b[0;32mIn [2]\u001b[0m, in \u001b[0;36mplotter\u001b[0;34m(x, y, xtitle, ytitle)\u001b[0m\n\u001b[1;32m      1\u001b[0m \u001b[38;5;28;01mdef\u001b[39;00m \u001b[38;5;21mplotter\u001b[39m(x,y,xtitle,ytitle):\n\u001b[0;32m----> 2\u001b[0m     scatter \u001b[38;5;241m=\u001b[39m \u001b[43mplt\u001b[49m\u001b[38;5;241;43m.\u001b[39;49m\u001b[43mplot\u001b[49m\u001b[43m(\u001b[49m\u001b[43mx\u001b[49m\u001b[43m,\u001b[49m\u001b[43m \u001b[49m\u001b[43my\u001b[49m\u001b[43m,\u001b[49m\u001b[43m \u001b[49m\u001b[38;5;124;43m'\u001b[39;49m\u001b[38;5;124;43m.r\u001b[39;49m\u001b[38;5;124;43m'\u001b[39;49m\u001b[43m)\u001b[49m \n\u001b[1;32m      3\u001b[0m     plt\u001b[38;5;241m.\u001b[39mtitle(xtitle\u001b[38;5;241m+\u001b[39m\u001b[38;5;124m'\u001b[39m\u001b[38;5;124m vs \u001b[39m\u001b[38;5;124m'\u001b[39m\u001b[38;5;241m+\u001b[39mytitle)\n\u001b[1;32m      4\u001b[0m     plt\u001b[38;5;241m.\u001b[39mxlabel(xtitle)\n",
      "File \u001b[0;32m/opt/lsst/software/stack/conda/miniconda3-py38_4.9.2/envs/lsst-scipipe-3.0.0/lib/python3.8/site-packages/matplotlib/pyplot.py:2757\u001b[0m, in \u001b[0;36mplot\u001b[0;34m(scalex, scaley, data, *args, **kwargs)\u001b[0m\n\u001b[1;32m   2755\u001b[0m \u001b[38;5;129m@_copy_docstring_and_deprecators\u001b[39m(Axes\u001b[38;5;241m.\u001b[39mplot)\n\u001b[1;32m   2756\u001b[0m \u001b[38;5;28;01mdef\u001b[39;00m \u001b[38;5;21mplot\u001b[39m(\u001b[38;5;241m*\u001b[39margs, scalex\u001b[38;5;241m=\u001b[39m\u001b[38;5;28;01mTrue\u001b[39;00m, scaley\u001b[38;5;241m=\u001b[39m\u001b[38;5;28;01mTrue\u001b[39;00m, data\u001b[38;5;241m=\u001b[39m\u001b[38;5;28;01mNone\u001b[39;00m, \u001b[38;5;241m*\u001b[39m\u001b[38;5;241m*\u001b[39mkwargs):\n\u001b[0;32m-> 2757\u001b[0m     \u001b[38;5;28;01mreturn\u001b[39;00m \u001b[43mgca\u001b[49m\u001b[43m(\u001b[49m\u001b[43m)\u001b[49m\u001b[38;5;241;43m.\u001b[39;49m\u001b[43mplot\u001b[49m\u001b[43m(\u001b[49m\n\u001b[1;32m   2758\u001b[0m \u001b[43m        \u001b[49m\u001b[38;5;241;43m*\u001b[39;49m\u001b[43margs\u001b[49m\u001b[43m,\u001b[49m\u001b[43m \u001b[49m\u001b[43mscalex\u001b[49m\u001b[38;5;241;43m=\u001b[39;49m\u001b[43mscalex\u001b[49m\u001b[43m,\u001b[49m\u001b[43m \u001b[49m\u001b[43mscaley\u001b[49m\u001b[38;5;241;43m=\u001b[39;49m\u001b[43mscaley\u001b[49m\u001b[43m,\u001b[49m\n\u001b[1;32m   2759\u001b[0m \u001b[43m        \u001b[49m\u001b[38;5;241;43m*\u001b[39;49m\u001b[38;5;241;43m*\u001b[39;49m\u001b[43m(\u001b[49m\u001b[43m{\u001b[49m\u001b[38;5;124;43m\"\u001b[39;49m\u001b[38;5;124;43mdata\u001b[39;49m\u001b[38;5;124;43m\"\u001b[39;49m\u001b[43m:\u001b[49m\u001b[43m \u001b[49m\u001b[43mdata\u001b[49m\u001b[43m}\u001b[49m\u001b[43m \u001b[49m\u001b[38;5;28;43;01mif\u001b[39;49;00m\u001b[43m \u001b[49m\u001b[43mdata\u001b[49m\u001b[43m \u001b[49m\u001b[38;5;129;43;01mis\u001b[39;49;00m\u001b[43m \u001b[49m\u001b[38;5;129;43;01mnot\u001b[39;49;00m\u001b[43m \u001b[49m\u001b[38;5;28;43;01mNone\u001b[39;49;00m\u001b[43m \u001b[49m\u001b[38;5;28;43;01melse\u001b[39;49;00m\u001b[43m \u001b[49m\u001b[43m{\u001b[49m\u001b[43m}\u001b[49m\u001b[43m)\u001b[49m\u001b[43m,\u001b[49m\u001b[43m \u001b[49m\u001b[38;5;241;43m*\u001b[39;49m\u001b[38;5;241;43m*\u001b[39;49m\u001b[43mkwargs\u001b[49m\u001b[43m)\u001b[49m\n",
      "File \u001b[0;32m/opt/lsst/software/stack/conda/miniconda3-py38_4.9.2/envs/lsst-scipipe-3.0.0/lib/python3.8/site-packages/matplotlib/axes/_axes.py:1632\u001b[0m, in \u001b[0;36mAxes.plot\u001b[0;34m(self, scalex, scaley, data, *args, **kwargs)\u001b[0m\n\u001b[1;32m   1390\u001b[0m \u001b[38;5;124;03m\"\"\"\u001b[39;00m\n\u001b[1;32m   1391\u001b[0m \u001b[38;5;124;03mPlot y versus x as lines and/or markers.\u001b[39;00m\n\u001b[1;32m   1392\u001b[0m \n\u001b[0;32m   (...)\u001b[0m\n\u001b[1;32m   1629\u001b[0m \u001b[38;5;124;03m(``'green'``) or hex strings (``'#008000'``).\u001b[39;00m\n\u001b[1;32m   1630\u001b[0m \u001b[38;5;124;03m\"\"\"\u001b[39;00m\n\u001b[1;32m   1631\u001b[0m kwargs \u001b[38;5;241m=\u001b[39m cbook\u001b[38;5;241m.\u001b[39mnormalize_kwargs(kwargs, mlines\u001b[38;5;241m.\u001b[39mLine2D)\n\u001b[0;32m-> 1632\u001b[0m lines \u001b[38;5;241m=\u001b[39m [\u001b[38;5;241m*\u001b[39m\u001b[38;5;28mself\u001b[39m\u001b[38;5;241m.\u001b[39m_get_lines(\u001b[38;5;241m*\u001b[39margs, data\u001b[38;5;241m=\u001b[39mdata, \u001b[38;5;241m*\u001b[39m\u001b[38;5;241m*\u001b[39mkwargs)]\n\u001b[1;32m   1633\u001b[0m \u001b[38;5;28;01mfor\u001b[39;00m line \u001b[38;5;129;01min\u001b[39;00m lines:\n\u001b[1;32m   1634\u001b[0m     \u001b[38;5;28mself\u001b[39m\u001b[38;5;241m.\u001b[39madd_line(line)\n",
      "File \u001b[0;32m/opt/lsst/software/stack/conda/miniconda3-py38_4.9.2/envs/lsst-scipipe-3.0.0/lib/python3.8/site-packages/matplotlib/axes/_base.py:312\u001b[0m, in \u001b[0;36m_process_plot_var_args.__call__\u001b[0;34m(self, data, *args, **kwargs)\u001b[0m\n\u001b[1;32m    310\u001b[0m     this \u001b[38;5;241m+\u001b[39m\u001b[38;5;241m=\u001b[39m args[\u001b[38;5;241m0\u001b[39m],\n\u001b[1;32m    311\u001b[0m     args \u001b[38;5;241m=\u001b[39m args[\u001b[38;5;241m1\u001b[39m:]\n\u001b[0;32m--> 312\u001b[0m \u001b[38;5;28;01myield from\u001b[39;00m \u001b[38;5;28;43mself\u001b[39;49m\u001b[38;5;241;43m.\u001b[39;49m\u001b[43m_plot_args\u001b[49m\u001b[43m(\u001b[49m\u001b[43mthis\u001b[49m\u001b[43m,\u001b[49m\u001b[43m \u001b[49m\u001b[43mkwargs\u001b[49m\u001b[43m)\u001b[49m\n",
      "File \u001b[0;32m/opt/lsst/software/stack/conda/miniconda3-py38_4.9.2/envs/lsst-scipipe-3.0.0/lib/python3.8/site-packages/matplotlib/axes/_base.py:498\u001b[0m, in \u001b[0;36m_process_plot_var_args._plot_args\u001b[0;34m(self, tup, kwargs, return_kwargs)\u001b[0m\n\u001b[1;32m    495\u001b[0m     \u001b[38;5;28mself\u001b[39m\u001b[38;5;241m.\u001b[39maxes\u001b[38;5;241m.\u001b[39myaxis\u001b[38;5;241m.\u001b[39mupdate_units(y)\n\u001b[1;32m    497\u001b[0m \u001b[38;5;28;01mif\u001b[39;00m x\u001b[38;5;241m.\u001b[39mshape[\u001b[38;5;241m0\u001b[39m] \u001b[38;5;241m!=\u001b[39m y\u001b[38;5;241m.\u001b[39mshape[\u001b[38;5;241m0\u001b[39m]:\n\u001b[0;32m--> 498\u001b[0m     \u001b[38;5;28;01mraise\u001b[39;00m \u001b[38;5;167;01mValueError\u001b[39;00m(\u001b[38;5;124mf\u001b[39m\u001b[38;5;124m\"\u001b[39m\u001b[38;5;124mx and y must have same first dimension, but \u001b[39m\u001b[38;5;124m\"\u001b[39m\n\u001b[1;32m    499\u001b[0m                      \u001b[38;5;124mf\u001b[39m\u001b[38;5;124m\"\u001b[39m\u001b[38;5;124mhave shapes \u001b[39m\u001b[38;5;132;01m{\u001b[39;00mx\u001b[38;5;241m.\u001b[39mshape\u001b[38;5;132;01m}\u001b[39;00m\u001b[38;5;124m and \u001b[39m\u001b[38;5;132;01m{\u001b[39;00my\u001b[38;5;241m.\u001b[39mshape\u001b[38;5;132;01m}\u001b[39;00m\u001b[38;5;124m\"\u001b[39m)\n\u001b[1;32m    500\u001b[0m \u001b[38;5;28;01mif\u001b[39;00m x\u001b[38;5;241m.\u001b[39mndim \u001b[38;5;241m>\u001b[39m \u001b[38;5;241m2\u001b[39m \u001b[38;5;129;01mor\u001b[39;00m y\u001b[38;5;241m.\u001b[39mndim \u001b[38;5;241m>\u001b[39m \u001b[38;5;241m2\u001b[39m:\n\u001b[1;32m    501\u001b[0m     \u001b[38;5;28;01mraise\u001b[39;00m \u001b[38;5;167;01mValueError\u001b[39;00m(\u001b[38;5;124mf\u001b[39m\u001b[38;5;124m\"\u001b[39m\u001b[38;5;124mx and y can be no greater than 2D, but have \u001b[39m\u001b[38;5;124m\"\u001b[39m\n\u001b[1;32m    502\u001b[0m                      \u001b[38;5;124mf\u001b[39m\u001b[38;5;124m\"\u001b[39m\u001b[38;5;124mshapes \u001b[39m\u001b[38;5;132;01m{\u001b[39;00mx\u001b[38;5;241m.\u001b[39mshape\u001b[38;5;132;01m}\u001b[39;00m\u001b[38;5;124m and \u001b[39m\u001b[38;5;132;01m{\u001b[39;00my\u001b[38;5;241m.\u001b[39mshape\u001b[38;5;132;01m}\u001b[39;00m\u001b[38;5;124m\"\u001b[39m)\n",
      "\u001b[0;31mValueError\u001b[0m: x and y must have same first dimension, but have shapes (1,) and (25,)"
     ]
    },
    {
     "data": {
      "image/png": "[encoded data removed]",
      "text/plain": [
       "<Figure size 432x288 with 1 Axes>"
      ]
     },
     "metadata": {
      "needs_background": "light"
     },
     "output_type": "display_data"
    }
   ],
   "source": [
    "plotter((r-i),(r_ps-i_ps), 'DC2 r-i color', 'DP0 r-i color')\n",
    "#plt.title('RA vs DEC')\n",
    "#plt.xlabel('RA')\n",
    "#plt.ylabel('DEC')\n",
    "#plt.xlim(59.2,60.2)\n",
    "#plt.ylim(-37.4,-36.4)\n",
    "#plt.xlabel('MJD')\n",
    "#plt.ylabel('u-band magnitude')\n",
    "#plt.xlim(57980,57996)\n",
    "#plt.gca().invert_yaxis()\n",
    "#plt.show()"
   ]
  },
  {
   "cell_type": "code",
   "execution_count": null,
   "id": "944b45d8-5044-4148-84de-8516d151ee6c",
   "metadata": {
    "execution": {
     "iopub.status.busy": "2023-06-22T23:37:36.947974Z",
     "iopub.status.idle": "2023-06-22T23:37:36.948235Z",
     "shell.execute_reply": "2023-06-22T23:37:36.948118Z",
     "shell.execute_reply.started": "2023-06-22T23:37:36.948106Z"
    },
    "tags": []
   },
   "outputs": [],
   "source": [
    "plotter((g-r),(g_ps-r_ps), 'DC2 g-r color', 'DP0 g-r color') \n"
   ]
  },
  {
   "cell_type": "code",
   "execution_count": 8,
   "id": "1a2bffd4-c929-48ed-938c-119cc4750fe4",
   "metadata": {
    "execution": {
     "iopub.execute_input": "2023-06-22T23:37:37.527919Z",
     "iopub.status.busy": "2023-06-22T23:37:37.527311Z",
     "iopub.status.idle": "2023-06-22T23:37:37.630547Z",
     "shell.execute_reply": "2023-06-22T23:37:37.630049Z",
     "shell.execute_reply.started": "2023-06-22T23:37:37.527893Z"
    },
    "tags": []
   },
   "outputs": [
    {
     "data": {
      "text/plain": [
       "Text(0.5, 1.0, 'Histogram of real photometric redshifts')"
      ]
     },
     "execution_count": 8,
     "metadata": {},
     "output_type": "execute_result"
    },
    {
     "data": {
      "image/png": "[encoded data removed]",
      "text/plain": [
       "<Figure size 432x288 with 1 Axes>"
      ]
     },
     "metadata": {
      "needs_background": "light"
     },
     "output_type": "display_data"
    }
   ],
   "source": [
    "plt.hist(z_phot, bins=10, color='r')\n",
    "plt.title('Histogram of real photometric redshifts')"
   ]
  },
  {
   "cell_type": "code",
   "execution_count": 49,
   "id": "a3fbbd54-25fc-4853-90ac-194dea9a58d8",
   "metadata": {
    "execution": {
     "iopub.execute_input": "2023-06-16T22:52:07.738791Z",
     "iopub.status.busy": "2023-06-16T22:52:07.738047Z",
     "iopub.status.idle": "2023-06-16T22:52:07.905146Z",
     "shell.execute_reply": "2023-06-16T22:52:07.904423Z",
     "shell.execute_reply.started": "2023-06-16T22:52:07.738765Z"
    },
    "tags": []
   },
   "outputs": [
    {
     "data": {
      "text/plain": [
       "Text(0.5, 1.0, 'Histogram of DC2 redshifts')"
      ]
     },
     "execution_count": 49,
     "metadata": {},
     "output_type": "execute_result"
    },
    {
     "data": {
      "image/png": "[encoded data removed]",
      "text/plain": [
       "<Figure size 640x480 with 1 Axes>"
      ]
     },
     "metadata": {},
     "output_type": "display_data"
    }
   ],
   "source": [
    "plt.hist(redshift, bins=10, color='r')\n",
    "#plt.title('Histogram of DC2 redshifts')"
   ]
  },
  {
   "cell_type": "code",
   "execution_count": 39,
   "id": "c719e3fe-a3fc-4161-b6ac-eb8c71b95699",
   "metadata": {
    "execution": {
     "iopub.execute_input": "2023-06-20T16:13:50.137549Z",
     "iopub.status.busy": "2023-06-20T16:13:50.136341Z",
     "iopub.status.idle": "2023-06-20T16:13:50.456507Z",
     "shell.execute_reply": "2023-06-20T16:13:50.455757Z",
     "shell.execute_reply.started": "2023-06-20T16:13:50.137515Z"
    },
    "tags": []
   },
   "outputs": [
    {
     "data": {
      "image/png": "[encoded data removed]",
      "text/plain": [
       "<Figure size 640x480 with 2 Axes>"
      ]
     },
     "metadata": {},
     "output_type": "display_data"
    }
   ],
   "source": [
    "#The parameters for subplot are: number of rows, number of columns, and which subplot you're currently on. \n",
    "\n",
    "\n",
    "plt.subplot(1, 2, 1)\n",
    "plt.plot(ra, dec, 'b.')\n",
    "plt.title('RA and DEC for DC2')\n",
    "plt.xlabel('ra')\n",
    "plt.ylabel('dec')\n",
    "\n",
    "\n",
    "\n",
    "plt.subplot(1, 2, 2)\n",
    "plt.plot(ra_ps, dec_ps, 'r.')\n",
    "plt.title('RA and DEC for PanStarrs')\n",
    "plt.xlabel('ra')\n",
    "plt.ylabel('dec')\n",
    "\n",
    "plt.tight_layout()\n",
    "#plt.show()"
   ]
  },
  {
   "cell_type": "code",
   "execution_count": 41,
   "id": "44cb876e-0852-4db1-81da-6b26ad564a74",
   "metadata": {
    "execution": {
     "iopub.execute_input": "2023-06-20T20:45:07.028740Z",
     "iopub.status.busy": "2023-06-20T20:45:07.027843Z",
     "iopub.status.idle": "2023-06-20T20:45:07.032802Z",
     "shell.execute_reply": "2023-06-20T20:45:07.032102Z",
     "shell.execute_reply.started": "2023-06-20T20:45:07.028709Z"
    },
    "tags": []
   },
   "outputs": [
    {
     "name": "stdout",
     "output_type": "stream",
     "text": [
      "0.0390755\n"
     ]
    }
   ],
   "source": [
    "print(np.min(redshift))"
   ]
  },
  {
   "cell_type": "code",
   "execution_count": null,
   "id": "edc1f4d7-4189-4f9a-884a-d7219aaf26f8",
   "metadata": {},
   "outputs": [],
   "source": []
  }
 ],
 "metadata": {
  "kernelspec": {
   "display_name": "LSST",
   "language": "python",
   "name": "lsst"
  },
  "language_info": {
   "codemirror_mode": {
    "name": "ipython",
    "version": 3
   },
   "file_extension": ".py",
   "mimetype": "text/x-python",
   "name": "python",
   "nbconvert_exporter": "python",
   "pygments_lexer": "ipython3",
   "version": "3.8.12"
  }
 },
 "nbformat": 4,
 "nbformat_minor": 5
}
