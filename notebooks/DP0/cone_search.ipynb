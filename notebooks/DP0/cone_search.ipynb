{
 "cells": [
  {
   "cell_type": "markdown",
   "id": "5a943eea-65c6-423b-8cc2-473afb351728",
   "metadata": {},
   "source": [
    "<img align=\"left\" src = https://project.lsst.org/sites/default/files/Rubin-O-Logo_0.png width=250 style=\"padding: 10px\"> \n",
    "<br><b>Simple Cone Search</b> <br>\n",
    "Contact authors: Matt Wiesner <br>\n",
    "Last verified to run: 2023-06-09 <br>\n",
    "LSST Science Pipelines version: Weekly 2023_21 <br>\n",
    "Container Size: medium <br>\n",
    "Targeted learning level: beginner <br>"
   ]
  },
  {
   "cell_type": "markdown",
   "id": "a68d8630-0beb-469c-87cc-6353e1f0045a",
   "metadata": {
    "execution": {
     "iopub.execute_input": "2023-06-09T15:48:42.179011Z",
     "iopub.status.busy": "2023-06-09T15:48:42.178654Z",
     "iopub.status.idle": "2023-06-09T15:48:42.184220Z",
     "shell.execute_reply": "2023-06-09T15:48:42.183313Z",
     "shell.execute_reply.started": "2023-06-09T15:48:42.178990Z"
    },
    "tags": []
   },
   "source": [
    "**Description:** A simple notebook to complete a cone search around a point."
   ]
  },
  {
   "cell_type": "markdown",
   "id": "0b42ebb6-5c03-4f56-bbe9-b1757116cb4d",
   "metadata": {},
   "source": [
    "### Package Imports"
   ]
  },
  {
   "cell_type": "code",
   "execution_count": 46,
   "id": "720b3945-deb4-4084-a500-eda48a192e77",
   "metadata": {
    "execution": {
     "iopub.execute_input": "2023-06-09T19:01:55.830293Z",
     "iopub.status.busy": "2023-06-09T19:01:55.829875Z",
     "iopub.status.idle": "2023-06-09T19:01:55.835174Z",
     "shell.execute_reply": "2023-06-09T19:01:55.834250Z",
     "shell.execute_reply.started": "2023-06-09T19:01:55.830266Z"
    },
    "tags": []
   },
   "outputs": [],
   "source": [
    "import numpy as np\n",
    "import matplotlib.pyplot as plt\n",
    "import pandas\n",
    "from pandas.testing import assert_frame_equal\n",
    "from astropy import units as u\n",
    "from astropy.coordinates import SkyCoord\n",
    "\n",
    "from lsst.rsp import get_tap_service, retrieve_query\n"
   ]
  },
  {
   "cell_type": "markdown",
   "id": "b6a980cb-2d37-4f4d-aabf-2361359e432c",
   "metadata": {},
   "source": [
    "### Get an instance of TAP server"
   ]
  },
  {
   "cell_type": "code",
   "execution_count": 47,
   "id": "51fc8167-13c6-4f88-8da3-4254c8814dd9",
   "metadata": {
    "execution": {
     "iopub.execute_input": "2023-06-09T19:01:58.507727Z",
     "iopub.status.busy": "2023-06-09T19:01:58.506789Z",
     "iopub.status.idle": "2023-06-09T19:01:58.578207Z",
     "shell.execute_reply": "2023-06-09T19:01:58.577156Z",
     "shell.execute_reply.started": "2023-06-09T19:01:58.507682Z"
    },
    "tags": []
   },
   "outputs": [],
   "source": [
    "service = get_tap_service(\"tap\")\n",
    "assert service is not None"
   ]
  },
  {
   "cell_type": "markdown",
   "id": "5c4f1b94-6be9-4968-9ec7-6ed81685d8a8",
   "metadata": {},
   "source": [
    "### Now search for objects within 0.1 degree of the below ra and dec"
   ]
  },
  {
   "cell_type": "code",
   "execution_count": 50,
   "id": "bc52a500-d2b4-48d8-8172-31947fc65568",
   "metadata": {
    "execution": {
     "iopub.execute_input": "2023-06-09T19:03:05.913530Z",
     "iopub.status.busy": "2023-06-09T19:03:05.913205Z",
     "iopub.status.idle": "2023-06-09T19:03:06.170461Z",
     "shell.execute_reply": "2023-06-09T19:03:06.169522Z",
     "shell.execute_reply.started": "2023-06-09T19:03:05.913508Z"
    },
    "tags": []
   },
   "outputs": [
    {
     "name": "stdout",
     "output_type": "stream",
     "text": [
      "<Table length=1000>\n",
      "      objectId       coord_ra  ...        imag_err              rmag_err      \n",
      "                       deg     ...                                            \n",
      "       int64         float64   ...        float64               float64       \n",
      "------------------- ---------- ... --------------------- ---------------------\n",
      "1650868330594088632 59.6832312 ...  0.014485666515584151  0.020911686537059302\n",
      "1650868330594088633  59.684085 ...    0.0933971388979099   0.08364603469097315\n",
      "1650868330594088650 59.6681862 ...   0.00668084124802169  0.004928831644265322\n",
      "1650868330594088574 59.6700315 ...   0.05042745521454201   0.07016585199821905\n",
      "1650868330594088575 59.6712114 ...   0.09743180232155797   0.05329228754470493\n",
      "1650868330594088576 59.6707238 ...     1.739236122939562    0.2693699520552152\n",
      "1650868330594088578 59.6150549 ... 0.0044541730892442575  0.007138897600750499\n",
      "1650868330594088579 59.6151441 ...   0.06238625764868095   0.05824929484228592\n",
      "1650868330594088580  59.616035 ...   0.16538892526483492   0.09943412853716678\n",
      "                ...        ... ...                   ...                   ...\n",
      "1650868330594092962 59.6159344 ...  0.002581714089768392 0.0025203516866802336\n",
      "1650868330594092963 59.6155767 ...    1.1839278756439038    0.9272063636881198\n",
      "1650868330594092964 59.6278999 ...  0.015137703380756002  0.014168019892227737\n",
      "1650868330594092965 59.6293535 ...   0.01791523675906474  0.012538232049624749\n",
      "1650868330594092904 59.7405868 ...   0.04144133557408439   0.04507586438669988\n",
      "1650868330594092891 59.6968792 ...   0.25159618460971256   0.24570659916794138\n",
      "1650868330594092892 59.6981122 ...   0.19560508721364167   0.20377155260096536\n",
      "1650868330594092893 59.6990832 ...   0.31388234020264255     0.428772034895942\n",
      "1650868330594092898 59.7408573 ... 0.0007152877479548412 0.0006365406615900034\n",
      "1650868330594092899  59.739834 ...   0.00750084418198685  0.008815672642973267\n"
     ]
    }
   ],
   "source": [
    "#center_coords = SkyCoord(59.65688129, -36.75083078, frame='icrs', unit='deg')\n",
    "#search_radius = (1.0/3600.)*u.deg\n",
    "\n",
    "ra = 59.65688129\n",
    "dec = -36.75083078\n",
    "\n",
    "query = \"SELECT TOP 1000 objectId, coord_ra, coord_dec,\" + \\\n",
    "\"detect_isPrimary, scisql_nanojanskyToAbMag(g_cModelFlux) as gmag,\" + \\\n",
    "\"scisql_nanojanskyToAbMag(i_cModelFlux) as imag,\" + \\\n",
    "\"scisql_nanojanskyToAbMag(r_cModelFlux) as rmag, \" + \\\n",
    "\"scisql_nanojanskyToAbMagSigma(g_cModelFlux, g_cModelFluxErr) as gmag_err,\" + \\\n",
    "\"scisql_nanojanskyToAbMagSigma(i_cModelFlux, i_cModelFluxErr) as imag_err,\" + \\\n",
    "\"scisql_nanojanskyToAbMagSigma(r_cModelFlux, r_cModelFluxErr) as rmag_err \" + \\\n",
    "\"FROM dp02_dc2_catalogs.Object \" + \\\n",
    "\"WHERE CONTAINS (POINT('ICRS', coord_ra, coord_dec), \" + \\\n",
    "\"CIRCLE('ICRS' ,\"+str(ra)+\",\"+str(dec)+\", 0.1) ) = 1 \" + \\\n",
    "\"AND detect_isPrimary = 1 \"\n",
    "\n",
    "#print(query)\n",
    "results = service.search(query)\n",
    "print(results)\n"
   ]
  },
  {
   "cell_type": "code",
   "execution_count": null,
   "id": "9a745f51-7958-4d06-a17a-73715a158182",
   "metadata": {},
   "outputs": [],
   "source": []
  }
 ],
 "metadata": {
  "kernelspec": {
   "display_name": "LSST",
   "language": "python",
   "name": "lsst"
  },
  "language_info": {
   "codemirror_mode": {
    "name": "ipython",
    "version": 3
   },
   "file_extension": ".py",
   "mimetype": "text/x-python",
   "name": "python",
   "nbconvert_exporter": "python",
   "pygments_lexer": "ipython3",
   "version": "3.10.10"
  }
 },
 "nbformat": 4,
 "nbformat_minor": 5
}
