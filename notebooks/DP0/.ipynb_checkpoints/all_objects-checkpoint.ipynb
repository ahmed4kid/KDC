{
 "cells": [
  {
   "cell_type": "markdown",
   "id": "a92b1ac8-53bd-4773-a863-4656585cda6d",
   "metadata": {},
   "source": [
    "# Finds all objects in 1 square degree"
   ]
  },
  {
   "cell_type": "code",
   "execution_count": null,
   "id": "57ad74c6-a326-4f1c-96ec-88c1f28b27e5",
   "metadata": {
    "tags": []
   },
   "outputs": [],
   "source": [
    "import numpy as np\n",
    "import matplotlib.pyplot as plt\n",
    "import pandas\n",
    "from pandas.testing import assert_frame_equal\n",
    "from astropy import units as u\n",
    "from astropy.coordinates import SkyCoord\n",
    "\n",
    "from lsst.rsp import get_tap_service, retrieve_query"
   ]
  },
  {
   "cell_type": "markdown",
   "id": "034e71db-5d56-4dcd-8e9e-8abea4b4ce82",
   "metadata": {},
   "source": [
    "## Get an instance of TAP server"
   ]
  },
  {
   "cell_type": "code",
   "execution_count": null,
   "id": "ea3f5866-fe47-440f-ba7d-5610e85b4935",
   "metadata": {
    "tags": []
   },
   "outputs": [],
   "source": [
    "service = get_tap_service()\n",
    "assert service is not None"
   ]
  },
  {
   "cell_type": "markdown",
   "id": "f4672df3-e399-4973-8558-cd65d76032cf",
   "metadata": {},
   "source": [
    "## Enter RA and DEC here"
   ]
  },
  {
   "cell_type": "code",
   "execution_count": null,
   "id": "79ee49f1-4c96-41dc-adff-055cf443b687",
   "metadata": {},
   "outputs": [],
   "source": [
    "ra = 59.65688129\n",
    "dec = -36.75083078\n",
    "\n",
    "#center_coords = SkyCoord(59.65688129, -36.75083078, frame='icrs', unit='deg')\n",
    "#search_radius = (1.0/3600.)*u.deg\n",
    "\n",
    "query = \"SELECT TOP 1000 objectId, coord_ra, coord_dec,\" + \\\n",
    "\"detect_isPrimary, scisql_nanojanskyToAbMag(g_cModelFlux) as gmag,\" + \\\n",
    "\"scisql_nanojanskyToAbMag(i_cModelFlux) as imag,\" + \\\n",
    "\"scisql_nanojanskyToAbMag(r_cModelFlux) as rmag, \" + \\\n",
    "\"scisql_nanojanskyToAbMagSigma(g_cModelFlux, g_cModelFluxErr) as gmag_err,\" + \\\n",
    "\"scisql_nanojanskyToAbMagSigma(i_cModelFlux, i_cModelFluxErr) as imag_err,\" + \\\n",
    "\"scisql_nanojanskyToAbMagSigma(r_cModelFlux, r_cModelFluxErr) as rmag_err \" + \\\n",
    "\"FROM dp02_dc2_catalogs.Object \" + \\\n",
    "\"WHERE CONTAINS (POINT('ICRS', coord_ra, coord_dec), \" + \\\n",
    "\"CIRCLE('ICRS' ,\"+str(ra)+\",\"+str(dec)+\", 0.1) ) = 1 \" + \\\n",
    "\"AND detect_isPrimary = 1 \"\n",
    "\n",
    "#print(query)\n",
    "results = service.search(query)\n",
    "print(results)\n"
   ]
  },
  {
   "cell_type": "code",
   "execution_count": null,
   "id": "eb190b4a-d482-46d1-9336-4d55ebdd3840",
   "metadata": {},
   "outputs": [],
   "source": []
  }
 ],
 "metadata": {
  "kernelspec": {
   "display_name": "LSST",
   "language": "python",
   "name": "lsst"
  },
  "language_info": {
   "codemirror_mode": {
    "name": "ipython",
    "version": 3
   },
   "file_extension": ".py",
   "mimetype": "text/x-python",
   "name": "python",
   "nbconvert_exporter": "python",
   "pygments_lexer": "ipython3",
   "version": "3.10.10"
  }
 },
 "nbformat": 4,
 "nbformat_minor": 5
}
