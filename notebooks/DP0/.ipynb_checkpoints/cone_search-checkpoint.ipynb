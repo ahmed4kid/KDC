{
 "cells": [
  {
   "cell_type": "markdown",
   "id": "5a943eea-65c6-423b-8cc2-473afb351728",
   "metadata": {},
   "source": [
    "<img align=\"left\" src = https://project.lsst.org/sites/default/files/Rubin-O-Logo_0.png width=250 style=\"padding: 10px\"> \n",
    "<br><b>Simple Cone Search</b> <br>\n",
    "Contact authors: Matt Wiesner <br>\n",
    "Last verified to run: 2023-06-09 <br>\n",
    "LSST Science Pipelines version: Weekly 2023_21 <br>\n",
    "Container Size: medium <br>\n",
    "Targeted learning level: beginner <br>"
   ]
  },
  {
   "cell_type": "markdown",
   "id": "a68d8630-0beb-469c-87cc-6353e1f0045a",
   "metadata": {
    "execution": {
     "iopub.execute_input": "2023-06-09T15:48:42.179011Z",
     "iopub.status.busy": "2023-06-09T15:48:42.178654Z",
     "iopub.status.idle": "2023-06-09T15:48:42.184220Z",
     "shell.execute_reply": "2023-06-09T15:48:42.183313Z",
     "shell.execute_reply.started": "2023-06-09T15:48:42.178990Z"
    },
    "tags": []
   },
   "source": [
    "**Description:** A simple notebook to complete a cone search around a point."
   ]
  },
  {
   "cell_type": "markdown",
   "id": "0b42ebb6-5c03-4f56-bbe9-b1757116cb4d",
   "metadata": {},
   "source": [
    "### Package Imports"
   ]
  },
  {
   "cell_type": "code",
   "execution_count": null,
   "id": "720b3945-deb4-4084-a500-eda48a192e77",
   "metadata": {
    "tags": []
   },
   "outputs": [],
   "source": [
    "import numpy as np\n",
    "import matplotlib.pyplot as plt\n",
    "import pandas\n",
    "from pandas.testing import assert_frame_equal\n",
    "from astropy import units as u\n",
    "from astropy.coordinates import SkyCoord\n",
    "\n",
    "from lsst.rsp import get_tap_service, retrieve_query\n"
   ]
  },
  {
   "cell_type": "markdown",
   "id": "b6a980cb-2d37-4f4d-aabf-2361359e432c",
   "metadata": {},
   "source": [
    "### Get an instance of TAP server"
   ]
  },
  {
   "cell_type": "code",
   "execution_count": null,
   "id": "51fc8167-13c6-4f88-8da3-4254c8814dd9",
   "metadata": {
    "tags": []
   },
   "outputs": [],
   "source": [
    "service = get_tap_service(\"tap\")\n",
    "assert service is not None"
   ]
  },
  {
   "cell_type": "markdown",
   "id": "5c4f1b94-6be9-4968-9ec7-6ed81685d8a8",
   "metadata": {},
   "source": [
    "### Now search for objects within 0.1 degree of the below ra and dec"
   ]
  },
  {
   "cell_type": "code",
   "execution_count": null,
   "id": "bc52a500-d2b4-48d8-8172-31947fc65568",
   "metadata": {
    "tags": []
   },
   "outputs": [],
   "source": [
    "#center_coords = SkyCoord(59.65688129, -36.75083078, frame='icrs', unit='deg')\n",
    "#search_radius = (1.0/3600.)*u.deg\n",
    "\n",
    "ra = 59.65688129\n",
    "dec = -36.75083078\n",
    "\n",
    "query = \"SELECT TOP 1000 objectId, coord_ra, coord_dec,\" + \\\n",
    "\"detect_isPrimary, scisql_nanojanskyToAbMag(g_cModelFlux) as gmag,\" + \\\n",
    "\"scisql_nanojanskyToAbMag(i_cModelFlux) as imag,\" + \\\n",
    "\"scisql_nanojanskyToAbMag(r_cModelFlux) as rmag, \" + \\\n",
    "\"scisql_nanojanskyToAbMagSigma(g_cModelFlux, g_cModelFluxErr) as gmag_err,\" + \\\n",
    "\"scisql_nanojanskyToAbMagSigma(i_cModelFlux, i_cModelFluxErr) as imag_err,\" + \\\n",
    "\"scisql_nanojanskyToAbMagSigma(r_cModelFlux, r_cModelFluxErr) as rmag_err \" + \\\n",
    "\"FROM dp02_dc2_catalogs.Object \" + \\\n",
    "\"WHERE CONTAINS (POINT('ICRS', coord_ra, coord_dec), \" + \\\n",
    "\"CIRCLE('ICRS' ,\"+str(ra)+\",\"+str(dec)+\", 0.1) ) = 1 \" + \\\n",
    "\"AND detect_isPrimary = 1 \"\n",
    "\n",
    "#print(query)\n",
    "results = service.search(query)\n",
    "print(results)\n"
   ]
  },
  {
   "cell_type": "code",
   "execution_count": null,
   "id": "9a745f51-7958-4d06-a17a-73715a158182",
   "metadata": {},
   "outputs": [],
   "source": []
  }
 ],
 "metadata": {
  "kernelspec": {
   "display_name": "LSST",
   "language": "python",
   "name": "lsst"
  },
  "language_info": {
   "codemirror_mode": {
    "name": "ipython",
    "version": 3
   },
   "file_extension": ".py",
   "mimetype": "text/x-python",
   "name": "python",
   "nbconvert_exporter": "python",
   "pygments_lexer": "ipython3",
   "version": "3.10.10"
  }
 },
 "nbformat": 4,
 "nbformat_minor": 5
}
