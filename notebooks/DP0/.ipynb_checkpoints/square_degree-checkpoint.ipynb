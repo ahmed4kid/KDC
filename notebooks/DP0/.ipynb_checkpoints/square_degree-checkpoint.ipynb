{
 "cells": [
  {
   "cell_type": "markdown",
   "id": "b07a3431",
   "metadata": {},
   "source": [
    "## Run these cells just once"
   ]
  },
  {
   "cell_type": "code",
   "execution_count": null,
   "id": "56b6aef0",
   "metadata": {},
   "outputs": [],
   "source": [
    "import numpy\n",
    "print( 'numpy version: ', numpy.__version__ )\n",
    "\n",
    "import matplotlib\n",
    "print( 'matplotlib version: ', matplotlib.__version__ )\n",
    "import lsst.daf.butler as dafButler\n",
    "# What version of the LSST Science Pipelnes are we using?\n",
    "! echo $IMAGE_DESCRIPTION\n",
    "! eups list -s | grep lsst_distrib\n",
    "\n",
    "import pandas\n",
    "pandas.set_option('display.max_rows', 1000)\n",
    "\n",
    "from IPython.display import Markdown as md\n",
    "\n",
    "import lsst.afw.display as afwDisplay\n",
    "afwDisplay.setDefaultBackend('matplotlib') \n",
    "\n",
    "# from rubin_jupyter_utils.lab.notebook import get_catalog, retrieve_query    \n",
    "from rubin_jupyter_utils.lab.notebook import get_tap_service, retrieve_query    \n",
    "\n",
    "# allow for matplotlib to create inline plots in our notebook\n",
    "%matplotlib inline\n",
    "import matplotlib.pyplot as plt      # imports matplotlib.pyplot as plt\n",
    "import warnings                      # imports the warnings library\n",
    "\n",
    "from astropy.wcs import WCS          # imports astropy's World Coordinate System function WCS\n",
    "\n",
    "\n",
    "repo = 's3://butler-us-central1-dp01'  \n",
    "collection='2.2i/runs/DP0.1'\n",
    "\n",
    "# Deprecated\n",
    "# service = get_catalog()\n",
    "service = get_tap_service()\n",
    "butler = dafButler.Butler(repo,collections=collection)"
   ]
  },
  {
   "cell_type": "markdown",
   "id": "4066cf97",
   "metadata": {},
   "source": [
    "## Find object based on sensor ID and visit"
   ]
  },
  {
   "cell_type": "code",
   "execution_count": null,
   "id": "d83d237a",
   "metadata": {},
   "outputs": [],
   "source": [
    "# Note that the keys are slightly different for DC2/LSSTCam\n",
    "# You can view all the keys by creating the butler and calling:\n",
    "#   print(butler.getKeys('calexp'))\n",
    "\n",
    "visit_id = 192350\n",
    "band_name='i'\n",
    "\n",
    "\n",
    "detector=[128,135,136,137,144,89,96,97,98,105,86,93,94,95,102,83,90,91,92,99,44,51,52,53,60]\n",
    "\n",
    "for x in range(0, 25):\n",
    "    dataname = {'visit': visit_id, 'detector': detector[x], 'band': band_name}\n",
    "    print(dataname)\n",
    "    calexp = butler.get('calexp', **dataname)\n",
    "    # create a matplotlib.pyplot figure\n",
    "   \n",
    "    plt.figure()\n",
    "    #fig = plt.figure(figsize=(10,8)) \n",
    "    # get an alias to the lsst.afw.display.Display() method\n",
    "    display = afwDisplay.Display()\n",
    "    # set the image stretch algorithm and range\n",
    "    display.scale('asinh', 'zscale')\n",
    "    # load the image into the display\n",
    "    display.mtv(calexp.image)\n",
    "    # show the corresponding pyplot figure\n",
    "    plt.show()\n",
    "    \n",
    "    #plt.figure()\n",
    "    # Set the figure's projection to be the WCS of the calexp\n",
    "   # plt.subplot(projection=WCS(calexp.getWcs().getFitsMetadata()))\n",
    "    # Display the calexp image data array using the gray colormap (cmap)\n",
    "    #  and use approximately the same min and max scale values as above\n",
    "   # plt.imshow(calexp.image.array, cmap='gray', vmin=-200.0, vmax=400, origin='lower')\n",
    "    # Add solid white grid lines\n",
    "   # plt.grid(color='white', ls='solid')\n",
    "    # Label axes\n",
    "   # plt.xlabel('Right Ascension')\n",
    "   # plt.ylabel('Declination')\n",
    "    \n",
    "  \n",
    "    \n",
    "\n",
    "# Note: because the combination of visit+detector already uniquely identifies\n",
    "# the exposure, specifying \"band\" above is unnecessary.\n",
    "\n",
    "\n",
    "\n",
    "# Retrieve the data using the `butler` instance and its function `get()`\n",
    "#calexp = butler.get('calexp', **dataId1)"
   ]
  },
  {
   "cell_type": "code",
   "execution_count": null,
   "id": "e4d1246d",
   "metadata": {},
   "outputs": [],
   "source": []
  }
 ],
 "metadata": {
  "kernelspec": {
   "display_name": "LSST",
   "language": "python",
   "name": "lsst"
  },
  "language_info": {
   "codemirror_mode": {
    "name": "ipython",
    "version": 3
   },
   "file_extension": ".py",
   "mimetype": "text/x-python",
   "name": "python",
   "nbconvert_exporter": "python",
   "pygments_lexer": "ipython3",
   "version": "3.10.10"
  }
 },
 "nbformat": 4,
 "nbformat_minor": 5
}
