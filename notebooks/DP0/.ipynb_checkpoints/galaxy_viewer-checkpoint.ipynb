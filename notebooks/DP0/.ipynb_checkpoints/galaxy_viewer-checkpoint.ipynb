{
 "cells": [
  {
   "cell_type": "markdown",
   "id": "1c146131-e6c7-48e5-a34a-f8f3510df9c0",
   "metadata": {},
   "source": [
    "## Galaxy_viewer\n",
    "\n",
    "Produces an image of a single galaxy or several"
   ]
  },
  {
   "cell_type": "code",
   "execution_count": null,
   "id": "dc1077d7-bfdd-4e4a-9820-6efb4abed10d",
   "metadata": {
    "tags": []
   },
   "outputs": [],
   "source": [
    "import numpy as np\n",
    "import matplotlib\n",
    "import pandas as pd\n",
    "import gc\n",
    "# allow for matplotlib to create inline plots in our notebook\n",
    "%matplotlib inline\n",
    "import matplotlib.pyplot as plt      # imports matplotlib.pyplot as plt\n",
    "\n",
    "import lsst.daf.butler as dafButler     # gen3 butler\n",
    "from astropy.wcs import WCS          # imports astropy's World Coordinate System function WCS\n",
    "\n",
    "import lsst.sphgeom\n",
    "import lsst.afw.display as afwDisplay\n",
    "import lsst.afw.image as afwImage\n",
    "import lsst.afw.display.utils as dispUtils\n",
    "import lsst.geom as geom\n",
    "from lsst.geom import SpherePoint, Angle\n",
    "afwDisplay.setDefaultBackend('matplotlib')\n",
    "\n",
    "\n",
    "butler = dafButler.Butler('dp02', collections='2.2i/runs/DP0.2')\n",
    "filter_id = 'r'"
   ]
  },
  {
   "cell_type": "code",
   "execution_count": null,
   "id": "a15571a5-1299-4b7a-8276-40a7798ea5cf",
   "metadata": {
    "tags": []
   },
   "outputs": [],
   "source": [
    "#a = pd.read_csv('input.txt', delim_whitespace = True)\n",
    "#ra1 = a['RA']\n",
    "#dec1 = a['DEC']\n",
    "#print(len(ra1))\n",
    "\n",
    "galaxies = pd.read_csv('truth_DP0_phosim_real.csv')\n",
    "ra1 = galaxies['ra_1']\n",
    "dec1 = galaxies['dec_1']\n",
    "ra_off = galaxies['RA_offset']\n",
    "dec_off = galaxies['DEC_offset']\n",
    "kn_ra1 = ra1+ra_off\n",
    "kn_dec1 = dec1+dec_off"
   ]
  },
  {
   "cell_type": "code",
   "execution_count": null,
   "id": "b24a24cb-3176-4107-89a8-898f35f9c8c2",
   "metadata": {
    "tags": []
   },
   "outputs": [],
   "source": [
    "def remove_figure(fig):\n",
    "    \"\"\"\n",
    "    Remove a figure to reduce memory footprint.\n",
    "\n",
    "    Parameters\n",
    "    ----------\n",
    "    fig: matplotlib.figure.Figure\n",
    "        Figure to be removed.\n",
    "\n",
    "    Returns\n",
    "    -------\n",
    "    None\n",
    "    \"\"\"\n",
    "    # get the axes and clear their images\n",
    "    for ax in fig.get_axes():\n",
    "        for im in ax.get_images():\n",
    "            im.remove()\n",
    "    fig.clf()       # clear the figure\n",
    "    plt.close(fig)  # close the figure\n",
    "    gc.collect()    # call the garbage collector"
   ]
  },
  {
   "cell_type": "code",
   "execution_count": null,
   "id": "1b0087db-1473-4365-8b8b-16645dac0484",
   "metadata": {
    "tags": []
   },
   "outputs": [],
   "source": [
    "# Find the tract and patch for the coadd associated with a particular point\n",
    "def find_tract_patch(ra, dec):\n",
    "    my_spherePoint = lsst.geom.SpherePoint(ra*lsst.geom.degrees, dec*lsst.geom.degrees)\n",
    "    skymap = butler.get('skyMap')\n",
    "    my_tract = skymap.findTract(my_spherePoint)\n",
    "    my_patch = my_tract.findPatch(my_spherePoint)\n",
    "    my_patch_id = my_tract.getSequentialPatchIndex(my_patch)\n",
    "    tract1 = str(my_tract)\n",
    "    patch1_ok = str(my_patch_id)\n",
    "    tract1_ok = tract1[13:17]\n",
    "    tract = int(tract1_ok)\n",
    "    patch = int(patch1_ok)\n",
    "    dataId = {'band': filter_id, 'tract': int(tract1_ok), 'patch':int(patch1_ok)}\n",
    "    return dataId\n"
   ]
  },
  {
   "cell_type": "code",
   "execution_count": null,
   "id": "4c3d7cde-c012-4b88-97b8-6140537800e2",
   "metadata": {
    "tags": []
   },
   "outputs": [],
   "source": [
    "#Shows the full image view\n",
    "def full_image(ra, dec, dataId):\n",
    "    datasetType = 'deepCoadd'\n",
    "    coadd = butler.get(datasetType, **dataId)\n",
    "    radec = SpherePoint(ra, dec, lsst.geom.degrees)\n",
    "    xy = coadd.getWcs().skyToPixel(radec)\n",
    "#    fig, ax = plt.subplots(xdim, ydim, figsize=(10, 10))\n",
    "#    plt.sca(ax[0])\n",
    "\n",
    "    fig = plt.figure(figsize=(20,20))\n",
    "    display = afwDisplay.Display(frame=1, backend='matplotlib')\n",
    "    display.scale(\"asinh\", \"zscale\")\n",
    " #   display.mtv(image.getMaskedImage().getImage())\n",
    "    \n",
    " #   coadd.image.writeFits('output.fits')\n",
    "    display.mtv(coadd.image)\n",
    "    display.dot('o', xy.getX(), xy.getY(), ctype='green', size = 20)\n",
    "  #  display.dot('o', xy.getX(), xy.getY(), ctype='green', size =40)\n",
    " #   plt.show()\n",
    "  #  display.mtv(image.getMaskedImage().getImage())\n",
    "    return\n"
   ]
  },
  {
   "cell_type": "code",
   "execution_count": null,
   "id": "8122ef27-c235-4203-9c04-52588ca15d4e",
   "metadata": {
    "tags": []
   },
   "outputs": [],
   "source": [
    "def cutout_coadd(butler, ra, dec, dataid, band='r', datasetType='deepCoadd',\n",
    "                 skymap=None, cutoutSideLength=100, **kwargs):\n",
    "    \"\"\"\n",
    "    Produce a cutout from a coadd at the given ra, dec position.\n",
    "\n",
    "    Adapted from DC2 tutorial notebook by Michael Wood-Vasey.\n",
    "\n",
    "    Parameters\n",
    "    ----------\n",
    "    butler: lsst.daf.persistence.Butler\n",
    "        Helper object providing access to a data repository\n",
    "    ra: float\n",
    "        Right ascension of the center of the cutout, in degrees\n",
    "    dec: float\n",
    "        Declination of the center of the cutout, in degrees\n",
    "    band: string\n",
    "        Filter of the image to load\n",
    "    datasetType: string ['deepCoadd']\n",
    "        Which type of coadd to load.  Doesn't support 'calexp'\n",
    "    skymap: lsst.afw.skyMap.SkyMap [optional]\n",
    "        Pass in to avoid the Butler read.  Useful if you have lots of them.\n",
    "    cutoutSideLength: float [optional]\n",
    "        Size of the cutout region in pixels.\n",
    "\n",
    "    Returns\n",
    "    -------\n",
    "    MaskedImage\n",
    "    \"\"\"\n",
    "    radec = geom.SpherePoint(ra, dec, geom.degrees)\n",
    "    cutoutSize = geom.ExtentI(cutoutSideLength, cutoutSideLength)\n",
    "\n",
    "    if skymap is None:\n",
    "        skymap = butler.get(\"skyMap\")\n",
    "\n",
    "    # Look up the tract, patch for the RA, Dec\n",
    "    tractInfo = skymap.findTract(radec)\n",
    "    patchInfo = tractInfo.findPatch(radec)\n",
    "    xy = geom.PointI(tractInfo.getWcs().skyToPixel(radec))\n",
    "    bbox = geom.BoxI(xy - cutoutSize // 2, cutoutSize)\n",
    "    patch = tractInfo.getSequentialPatchIndex(patchInfo)\n",
    "\n",
    "  #  coaddId = {'tract': tractInfo.getId(), 'patch': patch, 'band': band}\n",
    "    parameters = {'bbox': bbox}\n",
    "\n",
    "    cutout_image = butler.get(datasetType, parameters=parameters,\n",
    "                              dataId=dataid)\n",
    "\n",
    "    return cutout_image"
   ]
  },
  {
   "cell_type": "markdown",
   "id": "f30990c3-577d-4724-9027-f45dc509bf9f",
   "metadata": {},
   "source": [
    "# This is a routine to view a single calexp, after we used Synthetic Source to find visit and band"
   ]
  },
  {
   "cell_type": "code",
   "execution_count": null,
   "id": "c192b20b-cb44-4b46-9069-32aab3718e13",
   "metadata": {
    "tags": []
   },
   "outputs": [],
   "source": [
    "for i in range(1,4):\n",
    "    fig, ax = plt.subplots(figsize=(20,20))\n",
    "    dataId1 = {'visit': 941094, 'detector': int(i), 'band': 'i'}  \n",
    "    im1 = butler.get('calexp', **dataId1)\n",
    "    display = afwDisplay.Display(frame=fig)\n",
    "    display.scale('asinh', 'zscale')\n",
    "    display.mtv(im1.image)"
   ]
  },
  {
   "cell_type": "code",
   "execution_count": null,
   "id": "fef85dc6-0737-4f1b-bee4-488289e21d90",
   "metadata": {
    "tags": []
   },
   "outputs": [],
   "source": [
    "dataId1 = {'visit': 941094, 'detector': 2, 'band': 'i'} #6,7,15,16\n",
    "im1 = butler.get('calexp', **dataId1)\n",
    "#dataId2 = {'visit': 941094, 'detector': 3, 'band': 'i'} #6,7,15,16\n",
    "#im2 = butler.get('calexp', **dataId2)\n",
    "#dataId3 = {'visit': 941094, 'detector': 4, 'band': 'i'} #6,7,15,16\n",
    "#im3 = butler.get('calexp', **dataId3)\n",
    "#dataId4 = {'visit': 941094, 'detector': 5, 'band': 'i'} #6,7,15,16\n",
    "#im4 = butler.get('calexp', **dataId4)\n",
    "#dataId5 = {'visit': 941094, 'detector': 6, 'band': 'i'} #6,7,15,16\n",
    "#im5 = butler.get('calexp', **dataId5)\n",
    "\n",
    "ra1 = 59.7288694,\n",
    "dec1 = -36.6912823\n",
    "ra2 = 59.5252768\n",
    "dec2 = -36.6754221\n",
    "\n",
    "fig = plt.figure(figsize=(20,20))\n",
    "display = afwDisplay.Display(frame=fig)\n",
    "display.scale('asinh', 'zscale')\n",
    "display.mtv(im1.image)\n",
    "\n",
    "#radec1 = SpherePoint(ra1, dec1, lsst.geom.degrees)\n",
    "#xy = coadd.getWcs().skyToPixel(radec1)\n",
    "#display.dot('o', xy.getX(), xy.getY(), ctype='green', size = 20)\n",
    "\n",
    "#radec2 = SpherePoint(ra2, dec2, lsst.geom.degrees)\n",
    "#xy = coadd.getWcs().skyToPixel(radec2)\n",
    "#display.dot('o', xy2.getX(), xy2.getY(), ctype='green', size = 20)\n",
    "\n",
    "\n",
    "plt.show()\n",
    "remove_figure(fig)\n"
   ]
  },
  {
   "cell_type": "code",
   "execution_count": null,
   "id": "78afb367-78cb-4573-a352-6088b9634186",
   "metadata": {},
   "outputs": [],
   "source": []
  },
  {
   "cell_type": "code",
   "execution_count": null,
   "id": "17f8a97f-c3e1-49e7-89ed-b2ca319368f4",
   "metadata": {
    "tags": []
   },
   "outputs": [],
   "source": [
    "images = [im1.image, im2.image, im3.image]\n",
    "labels = [\"Label 1\", \"Label 2\", \"Label 3\"]\n",
    "\n",
    "m = dispUtils.Mosaic()\n",
    "\n",
    "m.setGutter(5)\n",
    "m.setBackground(10)\n",
    "m.setMode(\"x\")                     # the default; other options are \"x\" or \"y\"\n",
    "\n",
    "mosaic = m.makeMosaic(images)\n",
    "afwDisplay.setDefaultBackend('matplotlib')\n",
    "disp = afwDisplay.getDisplay(frame=2)\n",
    "disp.mtv(mosaic)\n",
    "m.drawLabels(labels, display=disp)\n",
    "\n",
    "#m = dispUtils.Mosaic()\n",
    "#setGutter(5)\n",
    "#m.setBackground(10)\n",
    "#m.setMode(\"x\")\n",
    "    \n",
    "#for im, lab in zip(images, labels):\n",
    "#    m.append(im, lab)\n",
    "    \n",
    "#mos = m.makeMosaic(frame=3)  \n",
    "#m = afwDisplay.Mosaic()\n",
    "\n",
    "#mosaic = m.makeMosaic(images)\n",
    "#display.scale('asinh', 'zscale')\n",
    "display.mtv(mosaic)\n",
    "m.drawLabels(labels, display)\n",
    "\n",
    "#mosaic = m.makeMosaic(im1.image, im2.image)    # build the mosaic\n",
    "#display = afwDisplay.getDisplay()\n",
    "#display.mtv(mosaic)                         # display it\n",
    "#m.drawLabels([\"Label 1\", \"Label 2\", \"Label 3\", \"Label 4\", \"Label 5\"], display) # label the panels\n",
    "#remove_figure(fig)\n"
   ]
  },
  {
   "cell_type": "code",
   "execution_count": null,
   "id": "27c0a579-2a75-46ea-842e-e324d1f7d6dc",
   "metadata": {
    "tags": []
   },
   "outputs": [],
   "source": [
    "#ra = 57.6491576 edge on galaxy\n",
    "#dec = -39.26560194\n",
    "#ra = 59.6491576 \n",
    "#dec = -37.26560194\n",
    "#dataid = find_tract_patch(ra,dec)\n",
    "#full_image(ra,dec,dataid)\n",
    "\n",
    "\n",
    "\n",
    "i=15\n",
    "#for i in range(1,2):\n",
    "dataid = find_tract_patch(ra1[i],dec1[i])\n",
    "full_image(ra1[i],dec1[i],dataid)\n",
    "#    input()\n"
   ]
  },
  {
   "cell_type": "code",
   "execution_count": null,
   "id": "a60db06f-475b-423b-a940-e92bbbe622d0",
   "metadata": {
    "tags": []
   },
   "outputs": [],
   "source": [
    "for i in range(0,len(ra1)):\n",
    "    ra = ra1[i]\n",
    "    dec = dec1[i]\n",
    "    kn_ra = kn_ra1[i]\n",
    "    kn_dec = kn_dec1[i]\n",
    "    dataid = find_tract_patch(ra,dec)\n",
    "    cutout_image = cutout_coadd(butler, ra, dec, dataid, band='i', datasetType='deepCoadd',cutoutSideLength=100)\n",
    "   # fig = plt.figure(figsize=(40,40))\n",
    "    fig, ax = plt.subplots(figsize=(10,10))\n",
    "    radec = SpherePoint(ra, dec, lsst.geom.degrees)\n",
    "    xy = cutout_image.getWcs().skyToPixel(radec)\n",
    "    \n",
    "    radec2 = SpherePoint(kn_ra, kn_dec, lsst.geom.degrees)\n",
    "    xy2 = cutout_image.getWcs().skyToPixel(radec2)\n",
    "    \n",
    "    display = afwDisplay.Display(frame=fig)\n",
    "    display.scale('asinh', 'zscale')\n",
    "    display.mtv(cutout_image.image)\n",
    "    \n",
    "    display.dot('o', xy.getX(), xy.getY(), ctype='green', size = 5)\n",
    "    display.dot('o', xy2.getX(), xy2.getY(), ctype='red', size = 2)\n",
    "    \n",
    "    plt.title('Object '+str(i)+' at RA = '+str(ra)+' and dec = '+str(dec))\n",
    "    plt.show()\n",
    "    remove_figure(fig)"
   ]
  },
  {
   "cell_type": "code",
   "execution_count": null,
   "id": "fda842f0-cd90-4b50-a070-6121fa8ea6b2",
   "metadata": {},
   "outputs": [],
   "source": []
  }
 ],
 "metadata": {
  "kernelspec": {
   "display_name": "LSST",
   "language": "python",
   "name": "lsst"
  },
  "language_info": {
   "codemirror_mode": {
    "name": "ipython",
    "version": 3
   },
   "file_extension": ".py",
   "mimetype": "text/x-python",
   "name": "python",
   "nbconvert_exporter": "python",
   "pygments_lexer": "ipython3",
   "version": "3.10.10"
  }
 },
 "nbformat": 4,
 "nbformat_minor": 5
}
