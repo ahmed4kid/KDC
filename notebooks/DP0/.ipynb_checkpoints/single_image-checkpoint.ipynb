{
 "cells": [
  {
   "cell_type": "markdown",
   "id": "9343679d",
   "metadata": {},
   "source": [
    "## This notebook produces a single image if you enter RA and DEC"
   ]
  },
  {
   "cell_type": "code",
   "execution_count": null,
   "id": "c3af5863",
   "metadata": {
    "tags": []
   },
   "outputs": [],
   "source": [
    "import numpy\n",
    "import lsst.daf.butler as dafButler\n",
    "# What version of the LSST Science Pipelnes are we using?\n",
    "! echo $IMAGE_DESCRIPTION\n",
    "! eups list -s | grep lsst_distrib\n",
    "\n",
    "import pandas\n",
    "pandas.set_option('display.max_rows', 1000)\n",
    "\n",
    "# allow for matplotlib to create inline plots in our notebook\n",
    "%matplotlib inline\n",
    "import matplotlib.pyplot as plt      # imports matplotlib.pyplot as plt\n",
    "import warnings                      # imports the warnings library\n",
    "\n",
    "from astropy.wcs import WCS          # imports astropy's World Coordinate System function WCS\n",
    "\n",
    "from IPython.display import Markdown as md\n",
    "\n",
    "# from rubin_jupyter_utils.lab.notebook import get_catalog, retrieve_query    \n",
    "from rubin_jupyter_utils.lab.notebook import get_tap_service, retrieve_query    \n",
    "\n",
    "import lsst.afw.display as afwDisplay\n",
    "afwDisplay.setDefaultBackend('matplotlib') \n",
    "\n",
    "repo = 's3://butler-us-central1-dp01'  \n",
    "collection='2.2i/runs/DP0.1'\n",
    "#collection='1.2i/runs/DP0.1'\n",
    "\n",
    "from lsst.rsp import get_tap_service, retrieve_query\n",
    "\n",
    "# Deprecated\n",
    "# service = get_catalog()\n",
    "butler = dafButler.Butler(repo,collections=collection)\n",
    "import lsst.geom as geom\n",
    "from lsst.afw.image import MultibandExposure\n",
    "from astropy.visualization import make_lupton_rgb"
   ]
  },
  {
   "cell_type": "markdown",
   "id": "7829f154",
   "metadata": {},
   "source": [
    "## Put RA and DEC here:"
   ]
  },
  {
   "cell_type": "code",
   "execution_count": null,
   "id": "f05f61bb",
   "metadata": {
    "tags": []
   },
   "outputs": [],
   "source": [
    "ra = 59.65688129 \n",
    "dec = -36.75083078\n",
    "filter_id = 'r'"
   ]
  },
  {
   "cell_type": "markdown",
   "id": "67635a97",
   "metadata": {},
   "source": [
    "## This will produce the output image"
   ]
  },
  {
   "cell_type": "markdown",
   "id": "02a70761-cbfa-4d28-9696-50f9d5cdfc9e",
   "metadata": {},
   "source": [
    "This uses the input RA and DEC to find the tract and patch where that location is found."
   ]
  },
  {
   "cell_type": "code",
   "execution_count": null,
   "id": "85c7fb2d",
   "metadata": {
    "tags": []
   },
   "outputs": [],
   "source": [
    "import lsst.geom\n",
    "#my_spherePoint = lsst.geom.SpherePoint(55.745834*lsst.geom.degrees, -32.269167*lsst.geom.degrees)\n",
    "my_spherePoint = lsst.geom.SpherePoint(ra*lsst.geom.degrees, dec*lsst.geom.degrees)\n",
    "#print(my_spherePoint)\n",
    "\n",
    "skymap = butler.get('skyMap')\n",
    "my_tract = skymap.findTract(my_spherePoint)\n",
    "my_patch = my_tract.findPatch(my_spherePoint)\n",
    "my_patch_id = my_tract.getSequentialPatchIndex(my_patch)\n",
    "tract1 = str(my_tract)\n",
    "tract2 = str(my_patch_id)\n",
    "tract1_ok = tract1[13:17]\n",
    "#print(tract1_ok)\n",
    "\n",
    "#dataId = \"\"\"{'band': \"\"\"+\"\"\"'\"\"\"+filter_id+\"\"\"','tract': \"\"\"+tract1_ok+\"\"\", 'patch':\"\"\"+tract2+\"\"\"}\"\"\"\n",
    "\n",
    "#dataId1 = {'band': filter_id, 'tract': int(tract1_ok), 'patch':int(tract2)}\n",
    "dataId_g = {'band': 'g', 'tract': int(tract1_ok), 'patch':int(tract2)}\n",
    "dataId_r = {'band': 'r', 'tract': int(tract1_ok), 'patch':int(tract2)}\n",
    "dataId_i = {'band': 'i', 'tract': int(tract1_ok), 'patch':int(tract2)}\n",
    "\n",
    "\n",
    "#dataId2 = {'band': filter_id, 'tract': int(tract1_ok), 'patch':int(tract2), 'detector':76, 'visit':512055}\n",
    "\n",
    "\n",
    "#print('my_tract = ', my_tract)\n",
    "#print('my_patch = ', my_patch)\n",
    "#print('my_patch_id = ',my_patch_id)\n",
    "#print(\"For RA of \"+str(ra)+\" and DEC of \"+str(dec)+\", tract =\",dataId['tract'], \" and patch =\", dataId['patch'])"
   ]
  },
  {
   "cell_type": "code",
   "execution_count": null,
   "id": "894f0e58-4b98-4c35-ace0-705a9ad645aa",
   "metadata": {
    "tags": []
   },
   "outputs": [],
   "source": [
    "def cutout_coadd(butler, ra, dec, band='r', datasetType='deepCoadd',\n",
    "                 skymap=None, cutoutSideLength=51, **kwargs):\n",
    "    \"\"\"\n",
    "    Produce a cutout from a coadd at the given ra, dec position.\n",
    "\n",
    "    Adapted from DC2 tutorial notebook by Michael Wood-Vasey.\n",
    "\n",
    "    Parameters\n",
    "    ----------\n",
    "    butler: lsst.daf.persistence.Butler\n",
    "        Helper object providing access to a data repository\n",
    "    ra: float\n",
    "        Right ascension of the center of the cutout, in degrees\n",
    "    dec: float\n",
    "        Declination of the center of the cutout, in degrees\n",
    "    band: string\n",
    "        Filter of the image to load\n",
    "    datasetType: string ['deepCoadd']\n",
    "        Which type of coadd to load.  Doesn't support 'calexp'\n",
    "    skymap: lsst.afw.skyMap.SkyMap [optional]\n",
    "        Pass in to avoid the Butler read.  Useful if you have lots of them.\n",
    "    cutoutSideLength: float [optional]\n",
    "        Size of the cutout region in pixels.\n",
    "\n",
    "    Returns\n",
    "    -------\n",
    "    MaskedImage\n",
    "    \"\"\"\n",
    "    radec = geom.SpherePoint(ra, dec, geom.degrees)\n",
    "    cutoutSize = geom.ExtentI(cutoutSideLength, cutoutSideLength)\n",
    "\n",
    "    if skymap is None:\n",
    "        skymap = butler.get(\"skyMap\")\n",
    "\n",
    "    # Look up the tract, patch for the RA, Dec\n",
    "    tractInfo = skymap.findTract(radec)\n",
    "    patchInfo = tractInfo.findPatch(radec)\n",
    "    xy = geom.PointI(tractInfo.getWcs().skyToPixel(radec))\n",
    "    bbox = geom.BoxI(xy - cutoutSize // 2, cutoutSize)\n",
    "    patch = tractInfo.getSequentialPatchIndex(patchInfo)\n",
    "\n",
    "    coaddId = {'tract': tractInfo.getId(), 'patch': patch, 'band': band}\n",
    "    parameters = {'bbox': bbox}\n",
    "\n",
    "    cutout_image = butler.get(datasetType, parameters=parameters,\n",
    "                              dataId=coaddId)\n",
    "\n",
    "    return cutout_image"
   ]
  },
  {
   "cell_type": "code",
   "execution_count": null,
   "id": "bf7bde14-5a9b-4119-a988-f94d016343a0",
   "metadata": {
    "tags": []
   },
   "outputs": [],
   "source": [
    "def create_rgb(image, bgr=\"gri\", stretch=1, Q=10, scale=None):\n",
    "    \"\"\"\n",
    "    Create an RGB color composite image.\n",
    "\n",
    "    Parameters\n",
    "    ----------\n",
    "    image : `MultibandExposure`\n",
    "        `MultibandExposure` to display.\n",
    "    bgr : sequence\n",
    "        A 3-element sequence of filter names (i.e., keys of the exps dict)\n",
    "        indicating what band to use for each channel. If `image` only has\n",
    "        three filters then this parameter is ignored and the filters\n",
    "        in the image are used.\n",
    "    stretch: int\n",
    "        The linear stretch of the image.\n",
    "    Q: int\n",
    "        The Asinh softening parameter.\n",
    "    scale: list of 3 floats, each less than 1. (default: None)\n",
    "        Re-scales the RGB channels.\n",
    "\n",
    "    Returns\n",
    "    -------\n",
    "    rgb: ndarray\n",
    "        RGB (integer, 8-bits per channel) colour image as an NxNx3 numpy array.\n",
    "    \"\"\"\n",
    "\n",
    "    # If the image only has 3 bands, reverse the order of the bands\n",
    "    #   to produce the RGB image\n",
    "    if len(image) == 3:\n",
    "        bgr = image.filters\n",
    "\n",
    "    # Extract the primary image component of each Exposure with the\n",
    "    #   .image property, and use .array to get a NumPy array view.\n",
    "\n",
    "    if scale is None:\n",
    "        r_im = image[bgr[2]].array  # numpy array for the r channel\n",
    "        g_im = image[bgr[1]].array  # numpy array for the g channel\n",
    "        b_im = image[bgr[0]].array  # numpy array for the b channel\n",
    "    else:\n",
    "        # manually re-scaling the images here\n",
    "        r_im = image[bgr[2]].array * scale[0]\n",
    "        g_im = image[bgr[1]].array * scale[1]\n",
    "        b_im = image[bgr[0]].array * scale[2]\n",
    "\n",
    "    rgb = make_lupton_rgb(image_r=r_im,\n",
    "                          image_g=g_im,\n",
    "                          image_b=b_im,\n",
    "                          stretch=stretch, Q=Q)\n",
    "    # \"stretch\" and \"Q\" are parameters to stretch and scale the pixel values\n",
    "\n",
    "    return rgb"
   ]
  },
  {
   "cell_type": "code",
   "execution_count": null,
   "id": "aa7d0c28-13c0-47c1-9878-3945a963a766",
   "metadata": {
    "tags": []
   },
   "outputs": [],
   "source": [
    "cutout_image_g = cutout_coadd(butler, ra, dec, band='g',\n",
    "                              datasetType='deepCoadd', cutoutSideLength=701)\n",
    "cutout_image_r = cutout_coadd(butler, ra, dec, band='r',\n",
    "                              datasetType='deepCoadd', cutoutSideLength=701)\n",
    "cutout_image_i = cutout_coadd(butler, ra, dec, band='i',\n",
    "                              datasetType='deepCoadd', cutoutSideLength=701)\n",
    "coadds = [cutout_image_g, cutout_image_r, cutout_image_i]\n",
    "coadds = MultibandExposure.fromExposures(['g', 'r', 'i'], coadds)\n",
    "\n"
   ]
  },
  {
   "cell_type": "code",
   "execution_count": null,
   "id": "a5f877f9-025d-49cf-98a3-7ac63ccab9b6",
   "metadata": {
    "tags": []
   },
   "outputs": [],
   "source": [
    "fig, ax = plt.subplots(figsize=(20, 20), nrows=1, ncols=2)\n",
    "\n",
    "rgb_original = create_rgb(coadds.image, bgr=['g', 'r', 'i'], scale=None)\n",
    "ax[0].imshow(rgb_original, origin='lower')\n",
    "ax[0].set_title('original', fontsize=30)\n",
    "\n",
    "ax[1].set_title('re-scaled', fontsize=30)\n",
    "rgb_scaled = create_rgb(coadds.image, bgr=['g', 'r', 'i'],\n",
    "                        scale=[0.6, 0.7, 1.0])\n",
    "ax[1].imshow(rgb_scaled, origin='lower')\n",
    "\n",
    "ax[0].set_axis_off()\n",
    "ax[1].set_axis_off()\n",
    "plt.show()\n",
    "remove_figure(fig)"
   ]
  },
  {
   "cell_type": "markdown",
   "id": "acd65d72",
   "metadata": {},
   "source": [
    "This calls the Butler to get the coadded data corresponding to the tract and patch we asked for above"
   ]
  },
  {
   "cell_type": "code",
   "execution_count": null,
   "id": "594bd03f",
   "metadata": {
    "tags": []
   },
   "outputs": [],
   "source": [
    "#dataId = {'band': 'i', 'tract': 4641, 'patch':37}\n",
    "my_deepCoadd = butler.get('deepCoadd',dataId=dataId)\n",
    "\n",
    "#my_calexp = butler.get('calexp',dataId=dataId2)\n"
   ]
  },
  {
   "cell_type": "markdown",
   "id": "134e0f4b",
   "metadata": {},
   "source": [
    "This makes a plot of the coadded data."
   ]
  },
  {
   "cell_type": "code",
   "execution_count": null,
   "id": "929a5e6d",
   "metadata": {
    "tags": []
   },
   "outputs": [],
   "source": [
    "fig = plt.figure(figsize=(10,8))      # create a matplotlib.pyplot figure\n",
    "afw_display = afwDisplay.Display(1)   # create an alias for the lsst.afw.display.Display() method\n",
    "afw_display.scale('asinh', 'zscale')  # set the algorithm and scale for the pixel shading\n",
    "afw_display.mtv(my_deepCoadd.image)   # display the image data you retrieved with the butler\n",
    "#afw_display.mtv(my_calexp.image) \n",
    "plt.gca().axis('off')                 # turn off the x and y axes labels"
   ]
  },
  {
   "cell_type": "code",
   "execution_count": null,
   "id": "74b67aa9",
   "metadata": {
    "tags": []
   },
   "outputs": [],
   "source": [
    "import numpy as np\n",
    "print(np.sqrt(1/np.pi))"
   ]
  },
  {
   "cell_type": "code",
   "execution_count": null,
   "id": "2e1918ed-a9ff-4d40-b95a-6e2e4cebb7cf",
   "metadata": {},
   "outputs": [],
   "source": []
  }
 ],
 "metadata": {
  "kernelspec": {
   "display_name": "LSST",
   "language": "python",
   "name": "lsst"
  },
  "language_info": {
   "codemirror_mode": {
    "name": "ipython",
    "version": 3
   },
   "file_extension": ".py",
   "mimetype": "text/x-python",
   "name": "python",
   "nbconvert_exporter": "python",
   "pygments_lexer": "ipython3",
   "version": "3.10.10"
  }
 },
 "nbformat": 4,
 "nbformat_minor": 5
}
