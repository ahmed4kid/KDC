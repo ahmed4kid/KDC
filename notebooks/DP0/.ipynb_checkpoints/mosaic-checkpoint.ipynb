{
 "cells": [
  {
   "cell_type": "markdown",
   "id": "91cd1d88-360d-4e1f-ae35-522e09037aeb",
   "metadata": {},
   "source": [
    "## Displays a set of calibrated exposures in a mosaic, so we can view 1 square degree"
   ]
  },
  {
   "cell_type": "markdown",
   "id": "39274bce-ad37-4648-a22d-96b295fecf48",
   "metadata": {},
   "source": [
    "For this notebook you need a large container, otherwise it will produce a broken pipe."
   ]
  },
  {
   "cell_type": "code",
   "execution_count": null,
   "id": "e106f8f7-65ff-4e12-a6f7-05b60f459e40",
   "metadata": {
    "tags": []
   },
   "outputs": [],
   "source": [
    "import warnings\n",
    "import matplotlib.pyplot as plt\n",
    "\n",
    "from lsst.afw.display import Mosaic\n",
    "from lsst.daf.butler import Butler\n",
    "import lsst.afw.image as afwImage\n",
    "import lsst.afw.display as afwDisplay\n",
    "afwDisplay.setDefaultBackend('matplotlib')\n",
    "\n",
    "def fxn():\n",
    "    warnings.warn(\"deprecated\", DeprecationWarning)"
   ]
  },
  {
   "cell_type": "markdown",
   "id": "bb983425-a582-4aaf-80e3-caffc0f4332f",
   "metadata": {},
   "source": [
    "## Call the Butler for DP0.2"
   ]
  },
  {
   "cell_type": "code",
   "execution_count": null,
   "id": "c965cc78-e16a-4e4b-b944-cef9d51d5bad",
   "metadata": {
    "tags": []
   },
   "outputs": [],
   "source": [
    "# For DC2 gen3, these are the only options\n",
    "\n",
    "butler = Butler('dp02', collections='2.2i/runs/DP0.2')\n",
    "registry = butler.registry"
   ]
  },
  {
   "cell_type": "markdown",
   "id": "58054334-dd39-461b-9ef5-8d18a8115f3b",
   "metadata": {
    "execution": {
     "iopub.execute_input": "2023-06-30T20:26:23.145329Z",
     "iopub.status.busy": "2023-06-30T20:26:23.144322Z",
     "iopub.status.idle": "2023-06-30T20:26:23.149601Z",
     "shell.execute_reply": "2023-06-30T20:26:23.148631Z",
     "shell.execute_reply.started": "2023-06-30T20:26:23.145287Z"
    },
    "tags": []
   },
   "source": [
    "## Use the Butler to call calexps for 10 different detectors."
   ]
  },
  {
   "cell_type": "code",
   "execution_count": null,
   "id": "829d3a67-7c8b-4fdc-af4b-dd3168f0ab57",
   "metadata": {
    "tags": []
   },
   "outputs": [],
   "source": [
    "#with warnings.catch_warnings():\n",
    "#    warnings.simplefilter(\"ignore\")\n",
    "\n",
    "#This should be a loop!\n",
    "\n",
    "dataId1 = {'visit': 1185205, 'detector': 82, 'band': 'r'}\n",
    "im1 = butler.get('calexp', **dataId)\n",
    "    \n",
    "dataId2 = {'visit': 1185205, 'detector': 81, 'band': 'r'}\n",
    "im2 = butler.get('calexp', **dataId)\n",
    "        \n",
    "dataId3 = {'visit': 1185205, 'detector': 80, 'band': 'r'}\n",
    "im3 = butler.get('calexp', **dataId)\n",
    "    \n",
    "dataId4 = {'visit': 1185205, 'detector': 79, 'band': 'r'}\n",
    "im4 = butler.get('calexp', **dataId)\n",
    "    \n",
    "dataId5 = {'visit': 1185205, 'detector': 83, 'band': 'r'}\n",
    "im5 = butler.get('calexp', **dataId)\n",
    "    \n",
    "dataId6 = {'visit': 1185205, 'detector': 84, 'band': 'r'}\n",
    "im6 = butler.get('calexp', **dataId)\n",
    "    \n",
    "dataId7 = {'visit': 1185205, 'detector': 85, 'band': 'r'}\n",
    "im7 = butler.get('calexp', **dataId)\n",
    "    \n",
    "dataId8 = {'visit': 1185205, 'detector': 86, 'band': 'r'}\n",
    "im8 = butler.get('calexp', **dataId)\n",
    "   \n",
    "dataId9 = {'visit': 1185205, 'detector': 87, 'band': 'r'}\n",
    "im9 = butler.get('calexp', **dataId)\n",
    "    \n",
    "dataId10 = {'visit': 1185205, 'detector': 88, 'band': 'r'}\n",
    "im10 = butler.get('calexp', **dataId)\n",
    "\n",
    "dataId11 = {'visit': 1185205, 'detector': 89, 'band': 'r'}\n",
    "im11 = butler.get('calexp', **dataId)\n",
    "\n",
    "dataId12 = {'visit': 1185205, 'detector': 90, 'band': 'r'}\n",
    "im12 = butler.get('calexp', **dataId)\n"
   ]
  },
  {
   "cell_type": "markdown",
   "id": "e9350df4-0a26-447a-bcf0-48ab9ba9d1c0",
   "metadata": {
    "execution": {
     "iopub.execute_input": "2023-06-30T20:28:34.857604Z",
     "iopub.status.busy": "2023-06-30T20:28:34.857286Z",
     "iopub.status.idle": "2023-06-30T20:28:34.860730Z",
     "shell.execute_reply": "2023-06-30T20:28:34.860142Z",
     "shell.execute_reply.started": "2023-06-30T20:28:34.857583Z"
    },
    "tags": []
   },
   "source": [
    "## Now use the Mosaic class to display all 10 images together"
   ]
  },
  {
   "cell_type": "code",
   "execution_count": null,
   "id": "681231c2-e964-4485-b17e-578d34f63140",
   "metadata": {
    "tags": []
   },
   "outputs": [],
   "source": [
    "fig = plt.figure(figsize=(20,20))\n",
    "m = Mosaic()\n",
    "m.setGutter(5)\n",
    "m.setBackground(10)\n",
    "m.setMode(\"square\")  \n",
    "\n",
    "images = [im1.image, im2.image, im3.image, im4.image,im5.image, im6.image, im7.image, im8.image, im9.image, im10.image,im11.image,im12.image]\n",
    "labels = [\"Det 82\", \"Det 81\", \"Det 80\",\"Det 79\", \"Det 83\",\"Det 84\", \"Det 85\", \"Det 86\",\"Det 87\", \"Det 88\", \"Det 89\", \"Det 90\"]\n",
    "\n",
    "mosaic = m.makeMosaic(images)\n",
    "display = afwDisplay.Display(frame=fig)\n",
    "display.scale('asinh', 'zscale')\n",
    "display.mtv(mosaic)\n",
    "m.drawLabels(labels, display)"
   ]
  },
  {
   "cell_type": "code",
   "execution_count": null,
   "id": "ef5423d2-5785-44fd-bd63-d68e937c869d",
   "metadata": {},
   "outputs": [],
   "source": []
  }
 ],
 "metadata": {
  "kernelspec": {
   "display_name": "LSST",
   "language": "python",
   "name": "lsst"
  },
  "language_info": {
   "codemirror_mode": {
    "name": "ipython",
    "version": 3
   },
   "file_extension": ".py",
   "mimetype": "text/x-python",
   "name": "python",
   "nbconvert_exporter": "python",
   "pygments_lexer": "ipython3",
   "version": "3.10.10"
  }
 },
 "nbformat": 4,
 "nbformat_minor": 5
}
