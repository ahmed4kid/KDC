{
 "cells": [
  {
   "cell_type": "markdown",
   "id": "91cd1d88-360d-4e1f-ae35-522e09037aeb",
   "metadata": {},
   "source": [
    "## Displays a set of calibrated exposures in a mosaic, so we can view 1 square degree"
   ]
  },
  {
   "cell_type": "markdown",
   "id": "39274bce-ad37-4648-a22d-96b295fecf48",
   "metadata": {},
   "source": [
    "For this notebook you need a large container, otherwise it will produce a broken pipe.\n",
    "\n",
    "<b>Please use the current release of the Stack.<b>"
   ]
  },
  {
   "cell_type": "code",
   "execution_count": 1,
   "id": "e106f8f7-65ff-4e12-a6f7-05b60f459e40",
   "metadata": {
    "execution": {
     "iopub.execute_input": "2023-07-11T15:42:51.370160Z",
     "iopub.status.busy": "2023-07-11T15:42:51.369451Z",
     "iopub.status.idle": "2023-07-11T15:42:53.288854Z",
     "shell.execute_reply": "2023-07-11T15:42:53.287704Z",
     "shell.execute_reply.started": "2023-07-11T15:42:51.370124Z"
    },
    "tags": []
   },
   "outputs": [],
   "source": [
    "import warnings\n",
    "import matplotlib.pyplot as plt\n",
    "\n",
    "from lsst.afw.display import Mosaic\n",
    "from lsst.daf.butler import Butler\n",
    "import lsst.afw.image as afwImage\n",
    "import lsst.afw.display as afwDisplay\n",
    "afwDisplay.setDefaultBackend('matplotlib')\n",
    "#import lsst.sphgeom\n",
    "#import lsst.afw.display as afwDisplay\n",
    "#import lsst.geom as geom\n",
    "#from lsst.geom import SpherePoint, Angle\n",
    "import gc\n",
    "\n",
    "def fxn():\n",
    "    warnings.warn(\"deprecated\", DeprecationWarning)"
   ]
  },
  {
   "cell_type": "markdown",
   "id": "bb983425-a582-4aaf-80e3-caffc0f4332f",
   "metadata": {},
   "source": [
    "## Call the Butler for DP0.2"
   ]
  },
  {
   "cell_type": "code",
   "execution_count": 2,
   "id": "c965cc78-e16a-4e4b-b944-cef9d51d5bad",
   "metadata": {
    "execution": {
     "iopub.execute_input": "2023-07-11T15:42:53.298708Z",
     "iopub.status.busy": "2023-07-11T15:42:53.298049Z",
     "iopub.status.idle": "2023-07-11T15:42:56.428424Z",
     "shell.execute_reply": "2023-07-11T15:42:56.427657Z",
     "shell.execute_reply.started": "2023-07-11T15:42:53.298680Z"
    },
    "tags": []
   },
   "outputs": [],
   "source": [
    "# For DC2 gen3, these are the only options\n",
    "\n",
    "butler = Butler('dp02', collections='2.2i/runs/DP0.2')\n",
    "registry = butler.registry"
   ]
  },
  {
   "cell_type": "markdown",
   "id": "4375d9bf-f2c0-4fe1-84af-4bb57f556eb2",
   "metadata": {
    "execution": {
     "iopub.execute_input": "2023-07-10T23:44:12.450362Z",
     "iopub.status.busy": "2023-07-10T23:44:12.449353Z",
     "iopub.status.idle": "2023-07-10T23:44:12.453695Z",
     "shell.execute_reply": "2023-07-10T23:44:12.453021Z",
     "shell.execute_reply.started": "2023-07-10T23:44:12.450329Z"
    },
    "tags": []
   },
   "source": [
    "## How many images do you want to display? What chip do you want to start the display on?"
   ]
  },
  {
   "cell_type": "code",
   "execution_count": 6,
   "id": "54a33aaa-6b2a-42da-aadf-352cf9f4f8ca",
   "metadata": {
    "execution": {
     "iopub.execute_input": "2023-07-11T15:45:57.569114Z",
     "iopub.status.busy": "2023-07-11T15:45:57.568059Z",
     "iopub.status.idle": "2023-07-11T15:45:57.572870Z",
     "shell.execute_reply": "2023-07-11T15:45:57.571959Z",
     "shell.execute_reply.started": "2023-07-11T15:45:57.569077Z"
    },
    "tags": []
   },
   "outputs": [],
   "source": [
    "x = 21\n",
    "chip_start = 79\n",
    "display_in = 'firefly'"
   ]
  },
  {
   "cell_type": "markdown",
   "id": "58054334-dd39-461b-9ef5-8d18a8115f3b",
   "metadata": {
    "execution": {
     "iopub.execute_input": "2023-06-30T20:26:23.145329Z",
     "iopub.status.busy": "2023-06-30T20:26:23.144322Z",
     "iopub.status.idle": "2023-06-30T20:26:23.149601Z",
     "shell.execute_reply": "2023-06-30T20:26:23.148631Z",
     "shell.execute_reply.started": "2023-06-30T20:26:23.145287Z"
    },
    "tags": []
   },
   "source": [
    "## Use the Butler to call calexps for 10 different detectors."
   ]
  },
  {
   "cell_type": "code",
   "execution_count": null,
   "id": "829d3a67-7c8b-4fdc-af4b-dd3168f0ab57",
   "metadata": {
    "execution": {
     "iopub.execute_input": "2023-07-11T15:45:59.248611Z",
     "iopub.status.busy": "2023-07-11T15:45:59.247942Z"
    },
    "tags": []
   },
   "outputs": [],
   "source": [
    "fig = plt.figure(figsize=(20,20))  \n",
    "m = Mosaic()\n",
    "m.setGutter(5)\n",
    "m.setBackground(10)\n",
    "m.setMode(\"square\")  \n",
    "\n",
    "labels=[]  #This makes sure the labels and images lists start empty\n",
    "images= []\n",
    "\n",
    "for i in range(0,x):\n",
    "    name = \"im\"+str(i)\n",
    "    namer = \"im\"+str(i)+\".image\"\n",
    "    labels.append(\"Detector \"+str(79+i))\n",
    "    datad = \"dataId\"+str(i)\n",
    "    datad = {'visit': 1185205, 'detector': chip_start + i, 'band': 'r'}\n",
    "    vars()[name] = butler.get('calexp', **datad)\n",
    "    images.append(namer)\n",
    "\n",
    "images2 = [eval(string) for string in images] #This converts the list of strings to a list of string literals\n",
    "\n",
    "mosaic = m.makeMosaic(images2) #This creates the mosaic\n",
    "\n",
    "\n",
    "if display_in == 'firefly':\n",
    "    afwDisplay.setDefaultBackend('firefly') #This opens it in firefly. Uncomment below if you want it in matplotlib.\n",
    "    display = afwDisplay.Display(frame=1)\n",
    "\n",
    "else:\n",
    "    afwDisplay.setDefaultBackend('matplotlib')\n",
    "    display = afwDisplay.Display(frame=fig)\n",
    "\n",
    "display.scale('asinh', 'zscale')\n",
    "display.mtv(mosaic)\n",
    "m.drawLabels(labels, display)"
   ]
  },
  {
   "cell_type": "code",
   "execution_count": null,
   "id": "948af85e-0d50-435f-8f20-f752f5c670e3",
   "metadata": {},
   "outputs": [],
   "source": []
  }
 ],
 "metadata": {
  "kernelspec": {
   "display_name": "LSST",
   "language": "python",
   "name": "lsst"
  },
  "language_info": {
   "codemirror_mode": {
    "name": "ipython",
    "version": 3
   },
   "file_extension": ".py",
   "mimetype": "text/x-python",
   "name": "python",
   "nbconvert_exporter": "python",
   "pygments_lexer": "ipython3",
   "version": "3.10.10"
  }
 },
 "nbformat": 4,
 "nbformat_minor": 5
}
