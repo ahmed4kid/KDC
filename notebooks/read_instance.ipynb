{
 "cells": [
  {
   "cell_type": "code",
   "execution_count": 28,
   "id": "19905267",
   "metadata": {},
   "outputs": [],
   "source": [
    "import matplotlib.pyplot as plt\n",
    "import pandas as pd\n",
    "import numpy as np\n",
    "from astropy.cosmology import FlatLambdaCDM\n",
    "import matplotlib as mpl\n",
    "mpl.rcParams['agg.path.chunksize'] = 10000\n"
   ]
  },
  {
   "cell_type": "code",
   "execution_count": 45,
   "id": "238d0710",
   "metadata": {},
   "outputs": [
    {
     "name": "stderr",
     "output_type": "stream",
     "text": [
      "/Library/Frameworks/Python.framework/Versions/3.9/lib/python3.9/site-packages/IPython/core/interactiveshell.py:3169: DtypeWarning: Columns (13,14) have mixed types.Specify dtype option on import or set low_memory=False.\n",
      "  has_raised = await self.run_ast_nodes(code_ast.body, cell_name,\n"
     ]
    },
    {
     "name": "stdout",
     "output_type": "stream",
     "text": [
      "max RA1 is  58.01865105786287\n",
      "min RA1 is  56.43278795607514\n",
      "max DEC1 is  -30.82969901037355\n",
      "min DEC1 is  -32.27122228851101\n",
      "max RA2 is  58.00150607558987\n",
      "min RA2 is  55.06723007259853\n",
      "max DEC2 is  -27.72896233466438\n",
      "min DEC2 is  -31.92889365166543\n"
     ]
    }
   ],
   "source": [
    "header_list = [\"object\", \"id\", \"ra\", \"dec\", \"mag\", \"sed\", \"z\", \"u1\", \"u2\", \"u3\", \"u4\", \"u5\", \"model\", \"x1\", \"x2\",\"x3\",\"x4\",\"x5\",\"x6\",\"x7\",\"x8\",\"x9\",\"x10\"]\n",
    "data = pd.read_csv('/Users/mwiesner/000000/instCat/gal_cat_159479.txt.gz', names=header_list,delim_whitespace=True)\n",
    "data2 = pd.read_csv('/Users/mwiesner/000000/instCat/gal_cat_6826.txt.gz', names=header_list,delim_whitespace=True)\n",
    "\n",
    "RA1 = data['ra']\n",
    "DEC1 = data['dec']\n",
    "\n",
    "RA2 = data2['ra']\n",
    "DEC2 = data2['dec']\n",
    "\n",
    "print('max RA1 is ', max(RA1))\n",
    "print('min RA1 is ', min(RA1))\n",
    "print('max DEC1 is ', max(DEC1))\n",
    "print('min DEC1 is ', min(DEC1))\n",
    "\n",
    "print('max RA2 is ', max(RA2))\n",
    "print('min RA2 is ', min(RA2))\n",
    "print('max DEC2 is ', max(DEC2))\n",
    "print('min DEC2 is ', min(DEC2))\n",
    "#for col in data.columns:\n",
    "#    print(col)"
   ]
  },
  {
   "cell_type": "code",
   "execution_count": 46,
   "id": "adab5e64",
   "metadata": {},
   "outputs": [
    {
     "data": {
      "image/png": "[encoded data removed]",
      "text/plain": [
       "<Figure size 432x288 with 1 Axes>"
      ]
     },
     "metadata": {
      "needs_background": "light"
     },
     "output_type": "display_data"
    },
    {
     "data": {
      "image/png": "[encoded data removed]",
      "text/plain": [
       "<Figure size 432x288 with 1 Axes>"
      ]
     },
     "metadata": {
      "needs_background": "light"
     },
     "output_type": "display_data"
    }
   ],
   "source": [
    "scatter = plt.plot(RA1, DEC1, 'go') \n",
    "plt.title('RA vs. DEC')\n",
    "plt.xlabel('RA')\n",
    "plt.ylabel('DEC')\n",
    "plt.show()\n",
    "\n",
    "scatter = plt.plot(RA2, DEC2, 'go') \n",
    "plt.title('RA vs. DEC')\n",
    "plt.xlabel('RA')\n",
    "plt.ylabel('DEC')\n",
    "plt.show()"
   ]
  },
  {
   "cell_type": "code",
   "execution_count": null,
   "id": "af5e5b07",
   "metadata": {},
   "outputs": [],
   "source": []
  }
 ],
 "metadata": {
  "kernelspec": {
   "display_name": "Python 3",
   "language": "python",
   "name": "python3"
  },
  "language_info": {
   "codemirror_mode": {
    "name": "ipython",
    "version": 3
   },
   "file_extension": ".py",
   "mimetype": "text/x-python",
   "name": "python",
   "nbconvert_exporter": "python",
   "pygments_lexer": "ipython3",
   "version": "3.9.5"
  }
 },
 "nbformat": 4,
 "nbformat_minor": 5
}
