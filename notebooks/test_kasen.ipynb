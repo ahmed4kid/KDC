{
 "cells": [
  {
   "cell_type": "code",
   "execution_count": 19,
   "id": "4e9400a0",
   "metadata": {},
   "outputs": [
    {
     "name": "stdout",
     "output_type": "stream",
     "text": [
      "[[0.00000000e+00 0.00000000e+00 0.00000000e+00 ... 0.00000000e+00\n",
      "  0.00000000e+00 0.00000000e+00]\n",
      " [0.00000000e+00 0.00000000e+00 0.00000000e+00 ... 0.00000000e+00\n",
      "  0.00000000e+00 0.00000000e+00]\n",
      " [0.00000000e+00 0.00000000e+00 0.00000000e+00 ... 0.00000000e+00\n",
      "  0.00000000e+00 0.00000000e+00]\n",
      " ...\n",
      " [3.36875420e+25 4.11190494e+24 2.31001759e+24 ... 0.00000000e+00\n",
      "  0.00000000e+00 0.00000000e+00]\n",
      " [1.73226428e+25 5.78595506e+23 5.77084248e+23 ... 0.00000000e+00\n",
      "  0.00000000e+00 0.00000000e+00]\n",
      " [1.20440831e+25 1.15392693e+24 5.76969937e+23 ... 0.00000000e+00\n",
      "  0.00000000e+00 0.00000000e+00]]\n",
      "[[0.00000000e+00 0.00000000e+00 0.00000000e+00 ... 0.00000000e+00\n",
      "  0.00000000e+00 0.00000000e+00]\n",
      " [0.00000000e+00 0.00000000e+00 0.00000000e+00 ... 0.00000000e+00\n",
      "  0.00000000e+00 0.00000000e+00]\n",
      " [0.00000000e+00 0.00000000e+00 0.00000000e+00 ... 0.00000000e+00\n",
      "  0.00000000e+00 0.00000000e+00]\n",
      " ...\n",
      " [3.36875420e+25 4.11190494e+24 2.31001759e+24 ... 0.00000000e+00\n",
      "  0.00000000e+00 0.00000000e+00]\n",
      " [1.73226428e+25 5.78595506e+23 5.77084248e+23 ... 0.00000000e+00\n",
      "  0.00000000e+00 0.00000000e+00]\n",
      " [1.20440831e+25 1.15392693e+24 5.76969937e+23 ... 0.00000000e+00\n",
      "  0.00000000e+00 0.00000000e+00]]\n",
      "270\n"
     ]
    },
    {
     "data": {
      "image/png": "[encoded data removed]",
      "text/plain": [
       "<Figure size 432x288 with 1 Axes>"
      ]
     },
     "metadata": {
      "needs_background": "light"
     },
     "output_type": "display_data"
    }
   ],
   "source": [
    "import h5py\n",
    "import numpy as np\n",
    "import bisect\n",
    "import matplotlib.pyplot as plt \n",
    "\n",
    "# open model file\n",
    "name = '/Users/mwiesner/Kasen_Kilonova_Models_2017/kilonova_models/knova_d1_n10_m0.020_vk0.10_Xlan1e-3.0.h5'\n",
    "fin    = h5py.File(name,'r')\n",
    "\n",
    "# frequency in Hz\n",
    "nu    = np.array(fin['nu'],dtype='d')\n",
    "\n",
    "# array of time in seconds\n",
    "times = np.array(fin['time'])\n",
    "# covert time to days\n",
    "times = times/3600.0/24.0\n",
    "\n",
    "# specific luminosity (ergs/s/Hz) \n",
    "# this is a 2D array, Lnu[times][nu]\n",
    "Lnu_all   = np.array(fin['Lnu'],dtype='d')\n",
    "\n",
    "# for example, get the spectrum at day 2.0\n",
    "t = 2.0\n",
    "# index corresponding to t\n",
    "it = bisect.bisect(times,t)\n",
    "# spectrum at this epoch\n",
    "Lnu = Lnu_all[it,:]\n",
    "\n",
    "# if you want thing in Flambda (ergs/s/Angstrom)\n",
    "c    = 2.99e10\n",
    "lam  = c/nu*1e8\n",
    "Llam = Lnu*nu**2.0/c/1e8\n",
    "\n",
    "#plot it up\n",
    "plt.plot(lam,Llam)\n",
    "plt.ion()\n",
    "plt.show()\n",
    "#j = raw_input('press any key to exit>')"
   ]
  },
  {
   "cell_type": "code",
   "execution_count": null,
   "id": "ee0ce861",
   "metadata": {},
   "outputs": [],
   "source": []
  }
 ],
 "metadata": {
  "kernelspec": {
   "display_name": "Python 3",
   "language": "python",
   "name": "python3"
  },
  "language_info": {
   "codemirror_mode": {
    "name": "ipython",
    "version": 3
   },
   "file_extension": ".py",
   "mimetype": "text/x-python",
   "name": "python",
   "nbconvert_exporter": "python",
   "pygments_lexer": "ipython3",
   "version": "3.9.5"
  }
 },
 "nbformat": 4,
 "nbformat_minor": 5
}
