{
 "cells": [
  {
   "cell_type": "code",
   "execution_count": null,
   "id": "1863638e",
   "metadata": {},
   "outputs": [],
   "source": [
    "import numpy as np\n",
    "import pandas as pd"
   ]
  },
  {
   "cell_type": "code",
   "execution_count": null,
   "id": "ad22c358",
   "metadata": {},
   "outputs": [],
   "source": [
    "redshifts = pd.read_csv('~/KDC/redshift.in', delim_whitespace=True)\n",
    "redshifter = redshifts['z']\n",
    "\n",
    "g = np.arange(0, 20, dtype=float)\n",
    "\n",
    "for i in range(1,len(redshifter)):\n",
    "    z_kn = redshifter[i]\n",
    "    \n",
    "    print(\"mv ~/KDC/kasen/SEDs/gal\"+\"{:.0f}\".format(g[i])+\"/sed_\"+\"{:.7f}\".format(z_kn)+\"_2.15.spec ~/Desktop/PHOSIM_INPUT/KN_SED\")\n",
    "   # print(\"KN_SED/sed_\"+\"{:.7f}\".format(z_kn)+\"_2.15.spec\")"
   ]
  },
  {
   "cell_type": "code",
   "execution_count": null,
   "id": "7440c57e",
   "metadata": {},
   "outputs": [],
   "source": []
  }
 ],
 "metadata": {
  "kernelspec": {
   "display_name": "Python 3",
   "language": "python",
   "name": "python3"
  },
  "language_info": {
   "codemirror_mode": {
    "name": "ipython",
    "version": 3
   },
   "file_extension": ".py",
   "mimetype": "text/x-python",
   "name": "python",
   "nbconvert_exporter": "python",
   "pygments_lexer": "ipython3",
   "version": "3.9.5"
  }
 },
 "nbformat": 4,
 "nbformat_minor": 5
}
