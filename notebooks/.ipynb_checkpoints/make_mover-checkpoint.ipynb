{
 "cells": [
  {
   "cell_type": "code",
   "execution_count": 1,
   "id": "322386be",
   "metadata": {},
   "outputs": [],
   "source": [
    "import numpy as np\n",
    "import pandas as pd"
   ]
  },
  {
   "cell_type": "code",
   "execution_count": 19,
   "id": "e8045601",
   "metadata": {},
   "outputs": [
    {
     "name": "stdout",
     "output_type": "stream",
     "text": [
      "KN_SED/sed_0.1100030_2.15.spec\n",
      "KN_SED/sed_0.0903828_2.15.spec\n",
      "KN_SED/sed_0.0707116_2.15.spec\n",
      "KN_SED/sed_0.1127630_2.15.spec\n",
      "KN_SED/sed_0.1061880_2.15.spec\n",
      "KN_SED/sed_0.1042830_2.15.spec\n",
      "KN_SED/sed_0.1140150_2.15.spec\n",
      "KN_SED/sed_0.1126070_2.15.spec\n",
      "KN_SED/sed_0.0926463_2.15.spec\n",
      "KN_SED/sed_0.1100140_2.15.spec\n",
      "KN_SED/sed_0.1082850_2.15.spec\n",
      "KN_SED/sed_0.1083420_2.15.spec\n",
      "KN_SED/sed_0.0390755_2.15.spec\n",
      "KN_SED/sed_0.1154200_2.15.spec\n",
      "KN_SED/sed_0.1483190_2.15.spec\n",
      "KN_SED/sed_0.1135740_2.15.spec\n",
      "KN_SED/sed_0.1493400_2.15.spec\n",
      "KN_SED/sed_0.1155330_2.15.spec\n",
      "KN_SED/sed_0.0548784_2.15.spec\n",
      "KN_SED/sed_0.1137040_2.15.spec\n"
     ]
    }
   ],
   "source": [
    "redshifts = pd.read_csv('~/KDC/redshift.in', delim_whitespace=True)\n",
    "redshifter = redshifts['z']\n",
    "\n",
    "g = np.arange(0, 19, dtype=float)\n",
    "\n",
    "for i in range(0,len(redshifter)):\n",
    "    z_kn = redshifter[i]\n",
    "    \n",
    "    #print(\"mv ~/KDC/kasen/SEDs/gal0/sed_\"+\"{:.7f}\".format(z_kn)+\"_2.15.spec ~/Desktop/PHOSIM_INPUT/KN_SED\")\n",
    "    print(\"KN_SED/sed_\"+\"{:.7f}\".format(z_kn)+\"_2.15.spec\")"
   ]
  },
  {
   "cell_type": "code",
   "execution_count": null,
   "id": "3fd2aacb",
   "metadata": {},
   "outputs": [],
   "source": []
  }
 ],
 "metadata": {
  "kernelspec": {
   "display_name": "Python 3",
   "language": "python",
   "name": "python3"
  },
  "language_info": {
   "codemirror_mode": {
    "name": "ipython",
    "version": 3
   },
   "file_extension": ".py",
   "mimetype": "text/x-python",
   "name": "python",
   "nbconvert_exporter": "python",
   "pygments_lexer": "ipython3",
   "version": "3.9.5"
  }
 },
 "nbformat": 4,
 "nbformat_minor": 5
}
