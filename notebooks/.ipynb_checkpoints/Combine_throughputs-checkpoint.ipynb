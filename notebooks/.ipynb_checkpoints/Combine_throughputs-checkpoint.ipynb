{
 "cells": [
  {
   "cell_type": "markdown",
   "id": "d3cc6bb9",
   "metadata": {},
   "source": [
    "## Combine the LSST throughput files into a single file to be used by CreateSynthLightCurves..."
   ]
  },
  {
   "cell_type": "code",
   "execution_count": 1,
   "id": "868eb5a7",
   "metadata": {},
   "outputs": [],
   "source": [
    "import matplotlib.pyplot as plt\n",
    "import pandas as pd\n",
    "import numpy as np"
   ]
  },
  {
   "cell_type": "markdown",
   "id": "86d20714",
   "metadata": {},
   "source": [
    "Read in the data"
   ]
  },
  {
   "cell_type": "code",
   "execution_count": 2,
   "id": "d7876e07",
   "metadata": {},
   "outputs": [],
   "source": [
    "header_list = ['lambda', 'throughput']\n",
    "data_u = pd.read_csv('/Users/mwiesner/throughputs/baseline/total_u.dat', names=header_list, delim_whitespace=True, skiprows=7)\n",
    "data_g = pd.read_csv('/Users/mwiesner/throughputs/baseline/total_g.dat', names=header_list, delim_whitespace=True, skiprows=7)\n",
    "data_r = pd.read_csv('/Users/mwiesner/throughputs/baseline/total_r.dat', names=header_list, delim_whitespace=True, skiprows=7)\n",
    "data_i = pd.read_csv('/Users/mwiesner/throughputs/baseline/total_i.dat', names=header_list, delim_whitespace=True, skiprows=7)\n",
    "data_z = pd.read_csv('/Users/mwiesner/throughputs/baseline/total_z.dat', names=header_list, delim_whitespace=True, skiprows=7)\n",
    "data_y = pd.read_csv('/Users/mwiesner/throughputs/baseline/total_y.dat', names=header_list, delim_whitespace=True, skiprows=7)\n",
    "atmos = pd.read_csv('/Users/mwiesner/throughputs/baseline/atmos_std.dat', names = header_list, delim_whitespace=True, skiprows=5 )"
   ]
  },
  {
   "cell_type": "markdown",
   "id": "1c02a8c9",
   "metadata": {},
   "source": [
    "Print the data to a new file"
   ]
  },
  {
   "cell_type": "code",
   "execution_count": 3,
   "id": "d53807a8",
   "metadata": {},
   "outputs": [],
   "source": [
    "wavelength = data_u['lambda']*10.\n",
    "u = data_u['throughput']\n",
    "g = data_g['throughput']\n",
    "r = data_r['throughput']\n",
    "i = data_i['throughput']\n",
    "z = data_z['throughput']\n",
    "y = data_y['throughput']\n",
    "atm = atmos['throughput']\n",
    "\n",
    "df_new = pd.DataFrame({'LAMBDA':wavelength, 'u':u, 'g':g, 'r':r, 'i':i, 'z':z, 'Y':y, 'atm':atm})\n",
    "\n",
    "df_new.to_csv('input/LSST.dat', index=False)"
   ]
  },
  {
   "cell_type": "code",
   "execution_count": null,
   "id": "27b071f0",
   "metadata": {},
   "outputs": [],
   "source": []
  }
 ],
 "metadata": {
  "kernelspec": {
   "display_name": "Python 3",
   "language": "python",
   "name": "python3"
  },
  "language_info": {
   "codemirror_mode": {
    "name": "ipython",
    "version": 3
   },
   "file_extension": ".py",
   "mimetype": "text/x-python",
   "name": "python",
   "nbconvert_exporter": "python",
   "pygments_lexer": "ipython3",
   "version": "3.9.5"
  }
 },
 "nbformat": 4,
 "nbformat_minor": 5
}
