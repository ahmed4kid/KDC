{
 "cells": [
  {
   "cell_type": "markdown",
   "id": "b6747441",
   "metadata": {},
   "source": [
    "## This notebook plots the KN lightcurves"
   ]
  },
  {
   "cell_type": "code",
   "execution_count": 69,
   "id": "35333f7a",
   "metadata": {},
   "outputs": [],
   "source": [
    "import matplotlib.pyplot as plt\n",
    "import pandas as pd\n",
    "import numpy as np\n",
    "from astropy.cosmology import FlatLambdaCDM\n",
    "z = 0.0099"
   ]
  },
  {
   "cell_type": "markdown",
   "id": "651ac6a9",
   "metadata": {},
   "source": [
    "## Read the data, sort it by filter"
   ]
  },
  {
   "cell_type": "code",
   "execution_count": 96,
   "id": "e21b626a",
   "metadata": {},
   "outputs": [
    {
     "name": "stdout",
     "output_type": "stream",
     "text": [
      "100\n",
      "0            151.227626\n",
      "1            152.227626\n",
      "2            153.227626\n",
      "3            154.227626\n",
      "4            155.227626\n",
      "              ...      \n",
      "100297    100448.227626\n",
      "100298    100449.227626\n",
      "100299    100450.227626\n",
      "100300    100451.227626\n",
      "100301    100452.227626\n",
      "Name: LAMBDA, Length: 100302, dtype: float64\n"
     ]
    },
    {
     "data": {
      "image/png": "[encoded data removed]",
      "text/plain": [
       "<Figure size 432x288 with 1 Axes>"
      ]
     },
     "metadata": {
      "needs_background": "light"
     },
     "output_type": "display_data"
    }
   ],
   "source": [
    "lister = np.loadtxt('/Users/mwiesner/KDC/notebooks/output/list', dtype='str')\n",
    "\n",
    "for x in range (100,101): #len(lister)):\n",
    "    data = pd.read_csv('/Users/mwiesner/KDC/notebooks/output/'+lister[x], sep=',')\n",
    "    print(x)\n",
    "#data2 = pd.read_csv('~/Exp.40E08.1Z.spec', delim_whitespace=True)\n",
    "\n",
    "#for col in data.columns:\n",
    "#    print(col)\n",
    "\n",
    "#print(data['Llam'])\n",
    "   # lam_ok = data.loc[data.index%5. ==0]['LAMBDA']\n",
    "   # flux_ok = data.loc[data.index%5. ==0]['Llam']\n",
    "\n",
    "    lam_ok = data['LAMBDA']\n",
    "    flux_ok = data['Llam']\n",
    "    \n",
    "    print(lam_ok)\n",
    "    \n",
    "    lam_nm = lam_ok/10.\n",
    "    flux = flux_ok #data['Llam']\n",
    "    cosmo = FlatLambdaCDM(H0=69.6, Om0=0.286)\n",
    "    dc = cosmo.comoving_distance(z)\n",
    "    dlum_mpc = (1+z)*dc    #in Mpc\n",
    "    dlum_cm =  3.086e+24 * (dlum_mpc)\n",
    "\n",
    "    Flam = flux / (4.*np.pi*(dlum_cm)**2. ) #Flam [ergs/s/cm2/Angstrom]\n",
    "\n",
    "    Flim = Flam/(1E-17)\n",
    "\n",
    "    pd.concat([lam_nm, Flim], axis=1).to_csv('/Users/mwiesner/KDC/kasen/SEDs/'+lister[x], header = ['# Wavelength (nm)' ,   'F_lamA (normalized erg/cm2/s/A)'], index = False, float_format='%g', sep=' ')\n",
    "\n",
    "#i_band_mag = data.loc[data['Band'] == 'i']['Mag']\n",
    "\n",
    "scatter = plt.plot(lam_ok, flux_ok)\n",
    "                                        #, '.g-') \n",
    "plt.title('Kasen SED at z = 0.0099')\n",
    "plt.xlim([0., 1200.]) #PhoSim doesn't look beyond 1200 nm\n",
    "#plt.ylim([0.,1.1])\n",
    "plt.xlabel('Wavelength (nm)')\n",
    "plt.ylabel('Flux')\n",
    "plt.show()\n"
   ]
  },
  {
   "cell_type": "markdown",
   "id": "efb91bc4",
   "metadata": {},
   "source": [
    "## Make the plots"
   ]
  },
  {
   "cell_type": "code",
   "execution_count": 45,
   "id": "3c01122a",
   "metadata": {},
   "outputs": [],
   "source": [
    "cosmo = FlatLambdaCDM(H0=69.6, Om0=0.286)\n",
    "dc = cosmo.comoving_distance(z)\n",
    "dlum_mpc = (1+z)*dc    #in Mpc\n",
    "dlum_cm =  3.086e+24 * (dlum_mpc)\n",
    "\n",
    "Flam = flux / (4.*np.pi*(dlum_cm)**2. ) #Flam [ergs/s/cm2/Angstrom]\n",
    "\n",
    "Flim = Flam/(1E-17)\n",
    "\n",
    "str_list = '# Wavelength (nm)   F_lamA (normalized erg/cm2/s/A)'\n",
    "pd.concat([lam_nm, Flim], axis=1).to_csv('output/kasen.spec', header = ['# Wavelength (nm)' ,   'F_lamA (normalized erg/cm2/s/A)'], index = False, sep=' ')"
   ]
  },
  {
   "cell_type": "code",
   "execution_count": null,
   "id": "9e00e441",
   "metadata": {},
   "outputs": [],
   "source": []
  },
  {
   "cell_type": "code",
   "execution_count": 46,
   "id": "bb3fb10c",
   "metadata": {},
   "outputs": [
    {
     "data": {
      "image/png": "[encoded data removed]",
      "text/plain": [
       "<Figure size 432x288 with 1 Axes>"
      ]
     },
     "metadata": {
      "needs_background": "light"
     },
     "output_type": "display_data"
    }
   ],
   "source": [
    "scatter = plt.plot(lam_nm, Flam)\n",
    "                                        #, '.g-') \n",
    "plt.title('Kasen SED at z = 0.0099')\n",
    "plt.xlim([0., 1200.]) #PhoSim doesn't look beyond 1200 nm\n",
    "#plt.ylim([0.,1.1])\n",
    "plt.xlabel('Wavelength (nm)')\n",
    "plt.ylabel('Flux')\n",
    "plt.show()\n",
    "\n",
    "#scatter = plt.plot(data2['Wavelength'], data2['F_lam'])\n",
    "                                        #, '.g-') \n",
    "#plt.title('PhoSim SED at z = 0.0099')\n",
    "#plt.xlim([0., 1000.])\n",
    "#plt.ylim([0.,1.1])\n",
    "#plt.xlabel('Wavelength (nm)')\n",
    "#plt.ylabel('Flux')\n",
    "#plt.show()\n"
   ]
  },
  {
   "cell_type": "markdown",
   "id": "e8aed19d",
   "metadata": {},
   "source": [
    "## Output the data to a text file"
   ]
  },
  {
   "cell_type": "code",
   "execution_count": 55,
   "id": "145ded61",
   "metadata": {},
   "outputs": [],
   "source": [
    "Flim = Flam/(1E-17)\n",
    "#print(lam_nm)\n",
    "#print(Flim)\n",
    "\n",
    "#lam_nm.rename(index={0:\"# Wavelength (nm)\"})\n",
    "#Flim.columns = '  F_lamA (normalized erg/cm2/s/A)'\n",
    "\n",
    "#print(lam_nm)\n",
    "\n",
    "#Flimm = Flim['Llam'].data.tolist()\n",
    "#lamm_nm = lam_nm['LAMBDA'].data.tolist()\n",
    "#print(lam_nm)\n",
    "#print(datta)\n",
    "#print(SED)\n",
    "#print(SED)\n",
    "#print(lam_nm)\n",
    "#print(max(Flam))\n",
    "#df = pd.DataFrame(SED, columns = ['# Wavelength (nm)', 'F_lamA (normalized erg/cm2/s/A)'])\n",
    "#print(df)\n",
    "\n",
    "str_list = '# Wavelength (nm)   F_lamA (normalized erg/cm2/s/A)'\n",
    "pd.concat([lam_nm, Flim], axis=1).to_csv('output/kasen.spec', header = ['# Wavelength (nm)' ,   'F_lamA (normalized erg/cm2/s/A)'], index = False, sep=' ')\n",
    "\n",
    "#Flim.to_csv('output/kasen.spec', index = False, sep=' ')\n"
   ]
  },
  {
   "cell_type": "code",
   "execution_count": null,
   "id": "69b4d429",
   "metadata": {},
   "outputs": [],
   "source": []
  },
  {
   "cell_type": "code",
   "execution_count": null,
   "id": "68570594",
   "metadata": {},
   "outputs": [],
   "source": []
  }
 ],
 "metadata": {
  "kernelspec": {
   "display_name": "Python 3",
   "language": "python",
   "name": "python3"
  },
  "language_info": {
   "codemirror_mode": {
    "name": "ipython",
    "version": 3
   },
   "file_extension": ".py",
   "mimetype": "text/x-python",
   "name": "python",
   "nbconvert_exporter": "python",
   "pygments_lexer": "ipython3",
   "version": "3.9.5"
  }
 },
 "nbformat": 4,
 "nbformat_minor": 5
}
