{
 "cells": [
  {
   "cell_type": "markdown",
   "id": "b6747441",
   "metadata": {},
   "source": [
    "## This notebook plots the KN lightcurves"
   ]
  },
  {
   "cell_type": "code",
   "execution_count": null,
   "id": "0affb14b",
   "metadata": {},
   "outputs": [],
   "source": [
    "import matplotlib.pyplot as plt\n",
    "import pandas as pd\n",
    "import numpy as np"
   ]
  },
  {
   "cell_type": "code",
   "execution_count": null,
   "id": "c4d1ebea",
   "metadata": {},
   "outputs": [],
   "source": [
    "min_x = 0\n",
    "max_x = 10\n",
    "min_y = 20\n",
    "max_y = 30"
   ]
  },
  {
   "cell_type": "code",
   "execution_count": null,
   "id": "e3f54cf8",
   "metadata": {},
   "outputs": [],
   "source": [
    "# These functions plot band graphs"
   ]
  },
  {
   "cell_type": "code",
   "execution_count": null,
   "id": "e27449c0",
   "metadata": {},
   "outputs": [],
   "source": [
    "def plot_u_band(file_name):\n",
    "    for x in range(len(data2)):\n",
    "        u = data2['u'][x]\n",
    "        days_u = data2['time'][x]\n",
    "        scatter = plt.plot(days_u, u, '.g-') \n",
    "    plt.title('u-band ' + file_name)\n",
    "    plt.xlabel('Days After')\n",
    "    plt.ylabel('u-band magnitude')\n",
    "    plt.xlim(min_x,max_x)\n",
    "    plt.ylim(min_y, max_y)\n",
    "    plt.gca().invert_yaxis()\n",
    "    plt.show()"
   ]
  },
  {
   "cell_type": "code",
   "execution_count": null,
   "id": "8b37858c",
   "metadata": {},
   "outputs": [],
   "source": [
    "def plot_g_band(file_name):\n",
    "    for x in range(len(data2)):\n",
    "        g = data2['g'][x]\n",
    "        days_g = data2['time'][x]\n",
    "        plt.figure(0)\n",
    "        scatter = plt.plot(days_g, g, '.b-')\n",
    "    plt.figure(0)\n",
    "    plt.title('g-band ' + file_name)\n",
    "    plt.xlabel('Days After')\n",
    "    plt.ylabel('g-band magnitude')\n",
    "    plt.xlim(min_x, max_x)\n",
    "    plt.ylim(min_y, max_y)\n",
    "    plt.gca().invert_yaxis()\n",
    "    plt.show()"
   ]
  },
  {
   "cell_type": "code",
   "execution_count": null,
   "id": "4793a33b",
   "metadata": {},
   "outputs": [],
   "source": [
    "def plot_r_band(file_name):\n",
    "    for x in range(len(data2)):\n",
    "        r = data2['r'][x]\n",
    "        days_r = data2['time'][x]\n",
    "        scatter = plt.plot(days_r, r, '.g-') \n",
    "    plt.title('r-band ' + file_name)\n",
    "    plt.xlabel('Days After')\n",
    "    plt.ylabel('r-band magnitude')\n",
    "    plt.xlim(min_x, max_x)\n",
    "    plt.ylim(min_y, max_y)\n",
    "    plt.gca().invert_yaxis()\n",
    "    plt.show()"
   ]
  },
  {
   "cell_type": "code",
   "execution_count": null,
   "id": "f1b477ba",
   "metadata": {},
   "outputs": [],
   "source": [
    "def plot_i_band(file_name):\n",
    "    for x in range(len(data2)):\n",
    "        i = data2['i'][x]\n",
    "        days_i = data2['time'][x]\n",
    "        scatter = plt.plot(days_i, i, '.r-') \n",
    "    plt.title('i-band ' + file_name)\n",
    "    plt.xlabel('Days After')\n",
    "    plt.ylabel('i-band magnitude')\n",
    "    plt.xlim(min_x,max_x)\n",
    "    plt.ylim(min_y, max_y)\n",
    "    plt.gca().invert_yaxis()\n",
    "    plt.show()"
   ]
  },
  {
   "cell_type": "code",
   "execution_count": null,
   "id": "3f3b78b2",
   "metadata": {},
   "outputs": [],
   "source": [
    "def plot_z_band(file_name):\n",
    "    for x in range(len(data2)):\n",
    "        z = data2['z'][x]\n",
    "        days_z = data2['time'][x]\n",
    "        scatter = plt.plot(days_z, z, '.y-') \n",
    "    plt.title('z-band ' + file_name)\n",
    "    plt.xlabel('Days After')\n",
    "    plt.ylabel('z-band magnitude')\n",
    "    plt.xlim(min_x, max_x)\n",
    "    plt.ylim(min_y, max_y)\n",
    "    plt.gca().invert_yaxis()\n",
    "    plt.show()"
   ]
  },
  {
   "cell_type": "code",
   "execution_count": null,
   "id": "38618e68",
   "metadata": {},
   "outputs": [],
   "source": [
    "def plot_y_band(file_name):\n",
    "    for x in range(len(data2)):\n",
    "        y = data2['y'][x]\n",
    "        days_y = data2['time'][x]\n",
    "        scatter = plt.plot(days_y, y, '.b-') \n",
    "    plt.title('y-band ' + file_name)\n",
    "    plt.xlabel('Days After')\n",
    "    plt.ylabel('y-band magnitude')\n",
    "    plt.xlim(min_x, max_x)\n",
    "    plt.ylim(min_y, max_y)\n",
    "    plt.gca().invert_yaxis()\n",
    "    plt.show()"
   ]
  },
  {
   "cell_type": "code",
   "execution_count": null,
   "id": "b626c750",
   "metadata": {},
   "outputs": [],
   "source": [
    "# plot_joint_bands(file_name) plots all of the individual bands onto one "
   ]
  },
  {
   "cell_type": "code",
   "execution_count": null,
   "id": "a3b5e5a6",
   "metadata": {},
   "outputs": [],
   "source": [
    "def plot_joint_bands(file_name):\n",
    "    for x in range(len(data2)):\n",
    "        u = data2['u'][x]\n",
    "        g = data2['g'][x]\n",
    "        r = data2['r'][x]\n",
    "        i = data2['i'][x]\n",
    "        z = data2['z'][x]\n",
    "        y = data2['y'][x]\n",
    "        days = data2['time'][x]\n",
    "        scatter = plt.plot(days, u, '.b',) \n",
    "        scatter = plt.plot(days, g, '.g-')\n",
    "        scatter = plt.plot(days, r, '.r-')\n",
    "        scatter = plt.plot(days, i, '.m-')\n",
    "        scatter = plt.plot(days, z, '.k-') \n",
    "        scatter = plt.plot(days, y, '.y-')\n",
    "    # plot with all bands \n",
    "    plt.title('Joint Band Plot for ' + file_name)\n",
    "    plt.xlabel('Days After')\n",
    "    plt.ylabel('Magnitude')\n",
    "    plt.xlim(min_x, max_x)\n",
    "    plt.ylim(min_y, max_y)\n",
    "    plt.gca().invert_yaxis()\n",
    "    # creates labels for the bands in the legend\n",
    "    plt.plot(days, u, '.b', label = \"u\") \n",
    "    plt.plot(days, g, '.g-', label = \"g\")\n",
    "    plt.plot(days, r, '.r-', label = \"r\")\n",
    "    plt.plot(days, i, '.m-', label = \"i\")\n",
    "    plt.plot(days, z, '.k-', label = \"z\") \n",
    "    plt.plot(days, y, '.y-', label = \"y\")\n",
    "    plt.legend()\n",
    "    plt.show()"
   ]
  },
  {
   "cell_type": "code",
   "execution_count": null,
   "id": "10fe12f5",
   "metadata": {},
   "outputs": [],
   "source": [
    "# Read in files, plot all individual band graphs, plot joint graph"
   ]
  },
  {
   "cell_type": "code",
   "execution_count": null,
   "id": "20892b1f",
   "metadata": {},
   "outputs": [],
   "source": [
    "# traverse through the 20 light curve files\n",
    "for file_number in range(20):\n",
    "    file_name = 'light_curve_' + str(file_number) + '.txt'\n",
    "    file_path = 'input/light_curves/' + file_name\n",
    "    data2 = pd.read_csv(file_path)\n",
    "    plot_u_band(file_name)\n",
    "    plot_g_band(file_name)\n",
    "    plot_r_band(file_name)\n",
    "    plot_i_band(file_name)\n",
    "    plot_z_band(file_name)\n",
    "    plot_y_band(file_name)\n",
    "    plot_joint_bands(file_name)\n",
    "    "
   ]
  },
  {
   "cell_type": "code",
   "execution_count": null,
   "id": "bb3fb10c",
   "metadata": {},
   "outputs": [],
   "source": [
    "    # mask out the parallel lines (-9999: if it underflows)\n",
    "    # filter anything less than 0\n",
    "    # no parallel lines on the graph --> did not add the mask"
   ]
  }
 ],
 "metadata": {
  "kernelspec": {
   "display_name": "LSST",
   "language": "python",
   "name": "lsst"
  },
  "language_info": {
   "codemirror_mode": {
    "name": "ipython",
    "version": 3
   },
   "file_extension": ".py",
   "mimetype": "text/x-python",
   "name": "python",
   "nbconvert_exporter": "python",
   "pygments_lexer": "ipython3",
   "version": "3.10.10"
  }
 },
 "nbformat": 4,
 "nbformat_minor": 5
}
