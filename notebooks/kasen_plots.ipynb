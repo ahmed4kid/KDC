{
 "cells": [
  {
   "cell_type": "code",
   "execution_count": null,
   "id": "a5fb82eb",
   "metadata": {},
   "outputs": [],
   "source": [
    "import matplotlib.pyplot as plt\n",
    "import pandas as pd\n",
    "import numpy as np"
   ]
  },
  {
   "cell_type": "code",
   "execution_count": null,
   "id": "f89503f9",
   "metadata": {},
   "outputs": [],
   "source": [
    "data = pd.read_csv('output/kasen.data', delim_whitespace=True)\n",
    "\n",
    "d=data['d']\n",
    "n = data['n']\n",
    "m = data['m']\n",
    "vk = data['vk']\n",
    "lan = data['lan']\n",
    "mag_r = data['mag_r']\n",
    "kasen_model = data['kasen_model']\n"
   ]
  },
  {
   "cell_type": "code",
   "execution_count": null,
   "id": "6c6d7793",
   "metadata": {},
   "outputs": [],
   "source": [
    "scatter = plt.plot(m, mag_r, '.g') \n",
    "plt.title('Ejecta mass vs. magnitude')\n",
    "plt.xlabel('Ejecta mass')\n",
    "plt.ylabel('r-band magnitude')\n",
    "#plt.xlim(57980,57996)\n",
    "plt.gca().invert_yaxis()\n",
    "plt.show()"
   ]
  },
  {
   "cell_type": "code",
   "execution_count": null,
   "id": "314179df",
   "metadata": {},
   "outputs": [],
   "source": []
  }
 ],
 "metadata": {
  "kernelspec": {
   "display_name": "Python 3",
   "language": "python",
   "name": "python3"
  },
  "language_info": {
   "codemirror_mode": {
    "name": "ipython",
    "version": 3
   },
   "file_extension": ".py",
   "mimetype": "text/x-python",
   "name": "python",
   "nbconvert_exporter": "python",
   "pygments_lexer": "ipython3",
   "version": "3.9.5"
  }
 },
 "nbformat": 4,
 "nbformat_minor": 5
}
