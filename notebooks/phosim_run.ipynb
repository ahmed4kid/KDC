{
 "cells": [
  {
   "cell_type": "markdown",
   "metadata": {},
   "source": [
    "## This takes output from PhoSim and produces images of the object"
   ]
  },
  {
   "cell_type": "code",
   "execution_count": 1,
   "metadata": {},
   "outputs": [],
   "source": [
    "#import math\n",
    "#import fitsio \n",
    "#import matplotlib.pyplot as plt\n",
    "#from astropy.visualization import astropy_mpl_style\n",
    "#from astropy.utils.data import get_pkg_data_filename\n",
    "from astropy.io import fits\n",
    "import glob\n",
    "import imageio\n",
    "\n",
    "home_dir = '/Users/mwiesner/'"
   ]
  },
  {
   "cell_type": "markdown",
   "metadata": {},
   "source": [
    "This makes plots for u-band"
   ]
  },
  {
   "cell_type": "code",
   "execution_count": 2,
   "metadata": {
    "scrolled": true
   },
   "outputs": [
    {
     "ename": "NameError",
     "evalue": "name 'get_pkg_data_filename' is not defined",
     "output_type": "error",
     "traceback": [
      "\u001b[0;31m---------------------------------------------------------------------------\u001b[0m",
      "\u001b[0;31mNameError\u001b[0m                                 Traceback (most recent call last)",
      "\u001b[0;32m<ipython-input-2-6d8b13df6b29>\u001b[0m in \u001b[0;36m<module>\u001b[0;34m\u001b[0m\n\u001b[1;32m      1\u001b[0m \u001b[0;32mfor\u001b[0m \u001b[0mx\u001b[0m \u001b[0;32min\u001b[0m \u001b[0mrange\u001b[0m \u001b[0;34m(\u001b[0m\u001b[0;36m0\u001b[0m\u001b[0;34m,\u001b[0m \u001b[0;36m3\u001b[0m\u001b[0;34m)\u001b[0m\u001b[0;34m:\u001b[0m\u001b[0;34m\u001b[0m\u001b[0;34m\u001b[0m\u001b[0m\n\u001b[0;32m----> 2\u001b[0;31m     \u001b[0mimage_file\u001b[0m \u001b[0;34m=\u001b[0m \u001b[0mget_pkg_data_filename\u001b[0m\u001b[0;34m(\u001b[0m\u001b[0mhome_dir\u001b[0m\u001b[0;34m+\u001b[0m\u001b[0;34m\"phosim_output/KN_u_\"\u001b[0m\u001b[0;34m+\u001b[0m\u001b[0mstr\u001b[0m\u001b[0;34m(\u001b[0m\u001b[0mx\u001b[0m\u001b[0;34m)\u001b[0m\u001b[0;34m+\u001b[0m\u001b[0;34m\"/lsst_e_99999999_f1_R22_S11_E000.fits\"\u001b[0m\u001b[0;34m)\u001b[0m\u001b[0;34m\u001b[0m\u001b[0;34m\u001b[0m\u001b[0m\n\u001b[0m\u001b[1;32m      3\u001b[0m     \u001b[0mimage_data\u001b[0m \u001b[0;34m=\u001b[0m \u001b[0mfits\u001b[0m\u001b[0;34m.\u001b[0m\u001b[0mgetdata\u001b[0m\u001b[0;34m(\u001b[0m\u001b[0mimage_file\u001b[0m\u001b[0;34m)\u001b[0m\u001b[0;34m\u001b[0m\u001b[0;34m\u001b[0m\u001b[0m\n\u001b[1;32m      4\u001b[0m     \u001b[0mplt\u001b[0m\u001b[0;34m.\u001b[0m\u001b[0mfigure\u001b[0m\u001b[0;34m(\u001b[0m\u001b[0;34m)\u001b[0m\u001b[0;34m\u001b[0m\u001b[0;34m\u001b[0m\u001b[0m\n\u001b[1;32m      5\u001b[0m     \u001b[0;31m#if x == 1:\u001b[0m\u001b[0;34m\u001b[0m\u001b[0;34m\u001b[0m\u001b[0;34m\u001b[0m\u001b[0m\n",
      "\u001b[0;31mNameError\u001b[0m: name 'get_pkg_data_filename' is not defined"
     ]
    }
   ],
   "source": [
    "for x in range (0, 3):\n",
    "    image_file = get_pkg_data_filename(home_dir+\"phosim_output/KN_u_\"+str(x)+\"/lsst_e_99999999_f1_R22_S11_E000.fits\")\n",
    "    image_data = fits.getdata(image_file)\n",
    "    plt.figure()\n",
    "    #if x == 1:\n",
    "    #    plt.xlim(2015, 2045)\n",
    "    #    plt.ylim(2065,2095)\n",
    "    #else: \n",
    "    plt.xlim(1990, 2020)\n",
    "    plt.ylim(2020,2050)\n",
    "    plt.title(\"u-band run \"+str(x))\n",
    "    plt.imshow(image_data, cmap='gray',vmin=0, vmax=400)\n",
    "    plt.colorbar()\n",
    "    plt.savefig(home_dir+'phosim_output/kn_u_'+str(x)+'.png')\n"
   ]
  },
  {
   "cell_type": "markdown",
   "metadata": {},
   "source": [
    "This makes plots for g-band"
   ]
  },
  {
   "cell_type": "code",
   "execution_count": null,
   "metadata": {},
   "outputs": [],
   "source": [
    "for x in range (0, 5):\n",
    "    image_file = get_pkg_data_filename(home_dir+\"phosim_output/KN_g_\"+str(x)+\"/lsst_e_99999999_f1_R22_S11_E000.fits\")\n",
    "    image_data = fits.getdata(image_file)\n",
    "    plt.figure()\n",
    "    #if x == 1:\n",
    "    #    plt.xlim(2015, 2045)\n",
    "    #    plt.ylim(2065,2095)\n",
    "    #else: \n",
    "    plt.xlim(1990, 2020)\n",
    "    plt.ylim(2020,2050)\n",
    "    plt.title(\"g-band run \"+str(x))\n",
    "    plt.imshow(image_data, cmap='gray',vmin=0, vmax=400)\n",
    "    plt.colorbar()\n",
    "    plt.savefig(home_dir+'phosim_output/kn_g_'+str(x)+'.png')"
   ]
  },
  {
   "cell_type": "markdown",
   "metadata": {},
   "source": [
    "This makes plots for r-band"
   ]
  },
  {
   "cell_type": "code",
   "execution_count": null,
   "metadata": {},
   "outputs": [],
   "source": [
    "for x in range (0, 7):\n",
    "    image_file = get_pkg_data_filename(home_dir+\"phosim_output/KN_r_\"+str(x)+\"/lsst_e_99999999_f1_R22_S11_E000.fits\")\n",
    "    image_data = fits.getdata(image_file)\n",
    "    plt.figure()\n",
    "    #if x == 1:\n",
    "    #    plt.xlim(2015, 2045)\n",
    "    #    plt.ylim(2065,2095)\n",
    "    #else: \n",
    "    plt.xlim(1990, 2020)\n",
    "    plt.ylim(2020,2050)\n",
    "    plt.title(\"r-band run \"+str(x))\n",
    "    plt.imshow(image_data, cmap='gray',vmin=0, vmax=400)\n",
    "    plt.colorbar()\n",
    "    plt.savefig(home_dir+'phosim_output/kn_r_'+str(x)+'.png')"
   ]
  },
  {
   "cell_type": "markdown",
   "metadata": {},
   "source": [
    "This makes plots for i-band"
   ]
  },
  {
   "cell_type": "code",
   "execution_count": null,
   "metadata": {},
   "outputs": [],
   "source": [
    "for x in range (0, 8):\n",
    "    image_file = get_pkg_data_filename(home_dir+\"phosim_output/KN_i_\"+str(x)+\"/lsst_e_99999999_f1_R22_S11_E000.fits\")\n",
    "    image_data = fits.getdata(image_file)\n",
    "    plt.figure()\n",
    "    #if x == 1:\n",
    "    #    plt.xlim(2015, 2045)\n",
    "    #    plt.ylim(2065,2095)\n",
    "    #else: \n",
    "    plt.xlim(1990, 2020)\n",
    "    plt.ylim(2020,2050)\n",
    "    plt.title(\"i-band run \"+str(x))\n",
    "    plt.imshow(image_data, cmap='gray',vmin=0, vmax=400)\n",
    "    plt.colorbar()\n",
    "    plt.savefig(home_dir+'phosim_output/kn_i_'+str(x)+'.png')"
   ]
  },
  {
   "cell_type": "markdown",
   "metadata": {},
   "source": [
    "This makes plots for z-band"
   ]
  },
  {
   "cell_type": "code",
   "execution_count": null,
   "metadata": {},
   "outputs": [],
   "source": [
    "for x in range (0, 9):\n",
    "    image_file = get_pkg_data_filename(home_dir+\"phosim_output/KN_z_\"+str(x)+\"/lsst_e_99999999_f1_R22_S11_E000.fits\")\n",
    "    image_data = fits.getdata(image_file)\n",
    "    plt.figure()\n",
    "    #if x == 1:\n",
    "    #    plt.xlim(2015, 2045)\n",
    "    #    plt.ylim(2065,2095)\n",
    "    #else: \n",
    "    plt.xlim(1990, 2020)\n",
    "    plt.ylim(2020,2050)\n",
    "    plt.title(\"z-band run \"+str(x))\n",
    "    plt.imshow(image_data, cmap='gray',vmin=0, vmax=400)\n",
    "    plt.colorbar()\n",
    "    plt.savefig(home_dir+'phosim_output/kn_z_'+str(x)+'.png')"
   ]
  },
  {
   "cell_type": "markdown",
   "metadata": {},
   "source": [
    "This makes plots for Y-band"
   ]
  },
  {
   "cell_type": "code",
   "execution_count": 3,
   "metadata": {},
   "outputs": [
    {
     "ename": "NameError",
     "evalue": "name 'get_pkg_data_filename' is not defined",
     "output_type": "error",
     "traceback": [
      "\u001b[0;31m---------------------------------------------------------------------------\u001b[0m",
      "\u001b[0;31mNameError\u001b[0m                                 Traceback (most recent call last)",
      "\u001b[0;32m<ipython-input-3-2c87eaf0c557>\u001b[0m in \u001b[0;36m<module>\u001b[0;34m\u001b[0m\n\u001b[1;32m      1\u001b[0m \u001b[0;32mfor\u001b[0m \u001b[0mx\u001b[0m \u001b[0;32min\u001b[0m \u001b[0mrange\u001b[0m \u001b[0;34m(\u001b[0m\u001b[0;36m0\u001b[0m\u001b[0;34m,\u001b[0m \u001b[0;36m9\u001b[0m\u001b[0;34m)\u001b[0m\u001b[0;34m:\u001b[0m\u001b[0;34m\u001b[0m\u001b[0;34m\u001b[0m\u001b[0m\n\u001b[0;32m----> 2\u001b[0;31m     \u001b[0mimage_file\u001b[0m \u001b[0;34m=\u001b[0m \u001b[0mget_pkg_data_filename\u001b[0m\u001b[0;34m(\u001b[0m\u001b[0mhome_dir\u001b[0m\u001b[0;34m+\u001b[0m\u001b[0;34m\"phosim_output/KN_Y_\"\u001b[0m\u001b[0;34m+\u001b[0m\u001b[0mstr\u001b[0m\u001b[0;34m(\u001b[0m\u001b[0mx\u001b[0m\u001b[0;34m)\u001b[0m\u001b[0;34m+\u001b[0m\u001b[0;34m\"/lsst_e_99999999_f1_R22_S11_E000.fits\"\u001b[0m\u001b[0;34m)\u001b[0m\u001b[0;34m\u001b[0m\u001b[0;34m\u001b[0m\u001b[0m\n\u001b[0m\u001b[1;32m      3\u001b[0m     \u001b[0mimage_data\u001b[0m \u001b[0;34m=\u001b[0m \u001b[0mfits\u001b[0m\u001b[0;34m.\u001b[0m\u001b[0mgetdata\u001b[0m\u001b[0;34m(\u001b[0m\u001b[0mimage_file\u001b[0m\u001b[0;34m)\u001b[0m\u001b[0;34m\u001b[0m\u001b[0;34m\u001b[0m\u001b[0m\n\u001b[1;32m      4\u001b[0m     \u001b[0mplt\u001b[0m\u001b[0;34m.\u001b[0m\u001b[0mfigure\u001b[0m\u001b[0;34m(\u001b[0m\u001b[0;34m)\u001b[0m\u001b[0;34m\u001b[0m\u001b[0;34m\u001b[0m\u001b[0m\n\u001b[1;32m      5\u001b[0m     \u001b[0;31m#if x == 1:\u001b[0m\u001b[0;34m\u001b[0m\u001b[0;34m\u001b[0m\u001b[0;34m\u001b[0m\u001b[0m\n",
      "\u001b[0;31mNameError\u001b[0m: name 'get_pkg_data_filename' is not defined"
     ]
    }
   ],
   "source": [
    "for x in range (0, 9):\n",
    "    image_file = get_pkg_data_filename(home_dir+\"phosim_output/KN_Y_\"+str(x)+\"/lsst_e_99999999_f1_R22_S11_E000.fits\")\n",
    "    image_data = fits.getdata(image_file)\n",
    "    plt.figure()\n",
    "    #if x == 1:\n",
    "    #    plt.xlim(2015, 2045)\n",
    "    #    plt.ylim(2065,2095)\n",
    "    #else: \n",
    "    plt.xlim(1990, 2020)\n",
    "    plt.ylim(2020,2050)\n",
    "    plt.title(\"Y-band run \"+str(x))\n",
    "    plt.imshow(image_data, cmap='gray',vmin=0, vmax=400)\n",
    "    plt.colorbar()\n",
    "    plt.savefig(home_dir+'phosim_output/kn_y_'+str(x)+'.png')"
   ]
  },
  {
   "cell_type": "markdown",
   "metadata": {},
   "source": [
    "This is where we make the gifs."
   ]
  },
  {
   "cell_type": "code",
   "execution_count": null,
   "metadata": {},
   "outputs": [],
   "source": [
    "filters = ['u', 'g', 'r', 'i', 'z', 'Y']\n",
    "\n",
    "output_dirname = home_+dir+'images/'\n",
    "\n",
    "for x in range (0,len(filters)):\n",
    "    \n",
    "# Define name of the animated GIF to be output...    \n",
    "    outputAnimGif = home_dir+\"images/phosim_\"+str(filters[x])+\".gif\"\n",
    "\n",
    "# Identify input png files for the animated GIF...\n",
    "    filenameTemplate = \"\"\"kn_%_?.png\"\"\" % (filters[x])\n",
    "    filenameTemplate = os.path.join(output_dirname, filenameTemplate)\n",
    "#print filenameTemplate\n",
    "    filenames = glob.glob(filenameTemplate)\n",
    "#for filename in filenames:\n",
    "#    print filename\n",
    "\n",
    "# Generate animated GIF...\n",
    "    with imageio.get_writer(outputAnimGif, mode='I', duration=0.1) as writer:\n",
    "        for filename in filenames:\n",
    "            print(filename)\n",
    "            image = imageio.imread(filename)\n",
    "            writer.append_data(image)\n",
    "\n",
    "    print(\"\"\"Animated GIF can be found here:  %s\"\"\" % (outputAnimGif))\n",
    "\n"
   ]
  },
  {
   "cell_type": "markdown",
   "metadata": {},
   "source": [
    "## Display Animated Gif\n",
    "See https://github.com/ipython/ipython/issues/10045#issuecomment-608641627"
   ]
  },
  {
   "cell_type": "code",
   "execution_count": null,
   "metadata": {},
   "outputs": [],
   "source": [
    "from IPython.core.interactiveshell import InteractiveShell\n",
    "InteractiveShell.ast_node_interactivity = \"all\"\n",
    "from IPython import display\n",
    "\n",
    "# Display GIF in Jupyter, CoLab, IPython\n",
    "with open(outputAnimGif,'rb') as f:\n",
    "    display.Image(data=f.read(), format='png')"
   ]
  }
 ],
 "metadata": {
  "kernelspec": {
   "display_name": "Python 3",
   "language": "python",
   "name": "python3"
  },
  "language_info": {
   "codemirror_mode": {
    "name": "ipython",
    "version": 3
   },
   "file_extension": ".py",
   "mimetype": "text/x-python",
   "name": "python",
   "nbconvert_exporter": "python",
   "pygments_lexer": "ipython3",
   "version": "3.9.5"
  }
 },
 "nbformat": 4,
 "nbformat_minor": 4
}
