{
 "cells": [
  {
   "cell_type": "markdown",
   "id": "b6747441",
   "metadata": {},
   "source": [
    "## This notebook plots the KN lightcurves"
   ]
  },
  {
   "cell_type": "code",
   "execution_count": 2,
   "id": "35333f7a",
   "metadata": {},
   "outputs": [],
   "source": [
    "import matplotlib.pyplot as plt\n",
    "import pandas as pd\n",
    "import numpy as np\n",
    "from astropy.cosmology import FlatLambdaCDM\n",
    "z = 0.0099"
   ]
  },
  {
   "cell_type": "markdown",
   "id": "651ac6a9",
   "metadata": {},
   "source": [
    "## Read the data, sort it by filter"
   ]
  },
  {
   "cell_type": "code",
   "execution_count": 23,
   "id": "e21b626a",
   "metadata": {},
   "outputs": [
    {
     "name": "stdout",
     "output_type": "stream",
     "text": [
      "Unnamed: 0\n",
      "LAMBDA\n",
      "Llam\n",
      "normLlam\n"
     ]
    }
   ],
   "source": [
    "data = pd.read_csv('/Users/mwiesner/KDC/kasen/SEDs/sed_1.35.spec', sep=',')\n",
    "#data2 = pd.read_csv('~/Exp.40E08.1Z.spec', delim_whitespace=True)\n",
    "\n",
    "for col in data.columns:\n",
    "    print(col)\n",
    "\n",
    "#print(data['Llam'])\n",
    "\n",
    "lam_nm = data['LAMBDA']/10.\n",
    "flux = data['Llam']\n",
    "\n",
    "#i_band_mag = data.loc[data['Band'] == 'i']['Mag']\n"
   ]
  },
  {
   "cell_type": "markdown",
   "id": "efb91bc4",
   "metadata": {},
   "source": [
    "## Make the plots"
   ]
  },
  {
   "cell_type": "code",
   "execution_count": 24,
   "id": "3c01122a",
   "metadata": {},
   "outputs": [],
   "source": [
    "cosmo = FlatLambdaCDM(H0=69.6, Om0=0.286)\n",
    "dc = cosmo.comoving_distance(z)\n",
    "dlum_mpc = (1+z)*dc    #in Mpc\n",
    "dlum_cm =  3.086e+24 * (dlum_mpc)\n",
    "\n",
    "Flam = flux / (4.*np.pi*(dlum_cm)**2. ) #Flam [ergs/s/cm2/Angstrom]"
   ]
  },
  {
   "cell_type": "code",
   "execution_count": 25,
   "id": "bb3fb10c",
   "metadata": {},
   "outputs": [
    {
     "data": {
      "image/png": "[encoded data removed]",
      "text/plain": [
       "<Figure size 432x288 with 1 Axes>"
      ]
     },
     "metadata": {
      "needs_background": "light"
     },
     "output_type": "display_data"
    }
   ],
   "source": [
    "scatter = plt.plot(lam_nm, Flam)\n",
    "                                        #, '.g-') \n",
    "plt.title('Kasen SED at z = 0.0099')\n",
    "plt.xlim([0., 1200.]) #PhoSim doesn't look beyond 1200 nm\n",
    "#plt.ylim([0.,1.1])\n",
    "plt.xlabel('Wavelength (nm)')\n",
    "plt.ylabel('Flux')\n",
    "plt.show()\n",
    "\n",
    "#scatter = plt.plot(data2['Wavelength'], data2['F_lam'])\n",
    "                                        #, '.g-') \n",
    "#plt.title('PhoSim SED at z = 0.0099')\n",
    "#plt.xlim([0., 1000.])\n",
    "#plt.ylim([0.,1.1])\n",
    "#plt.xlabel('Wavelength (nm)')\n",
    "#plt.ylabel('Flux')\n",
    "#plt.show()\n"
   ]
  },
  {
   "cell_type": "markdown",
   "id": "e8aed19d",
   "metadata": {},
   "source": [
    "## Output the data to a text file"
   ]
  },
  {
   "cell_type": "code",
   "execution_count": 26,
   "id": "145ded61",
   "metadata": {},
   "outputs": [
    {
     "name": "stdout",
     "output_type": "stream",
     "text": [
      "0            15.122763\n",
      "1            15.222763\n",
      "2            15.322763\n",
      "3            15.422763\n",
      "4            15.522763\n",
      "              ...     \n",
      "100297    10044.822763\n",
      "100298    10044.922763\n",
      "100299    10045.022763\n",
      "100300    10045.122763\n",
      "100301    10045.222763\n",
      "Name: LAMBDA, Length: 100302, dtype: float64\n",
      "0         0.0\n",
      "1         0.0\n",
      "2         0.0\n",
      "3         0.0\n",
      "4         0.0\n",
      "         ... \n",
      "100297    0.0\n",
      "100298    0.0\n",
      "100299    0.0\n",
      "100300    0.0\n",
      "100301    0.0\n",
      "Name: Llam, Length: 100302, dtype: float64\n"
     ]
    },
    {
     "ename": "NameError",
     "evalue": "name 'SED' is not defined",
     "output_type": "error",
     "traceback": [
      "\u001b[0;31m---------------------------------------------------------------------------\u001b[0m",
      "\u001b[0;31mNameError\u001b[0m                                 Traceback (most recent call last)",
      "\u001b[0;32m<ipython-input-26-83c7ddb92c42>\u001b[0m in \u001b[0;36m<module>\u001b[0;34m\u001b[0m\n\u001b[1;32m      6\u001b[0m \u001b[0;31m#print(lam_nm)\u001b[0m\u001b[0;34m\u001b[0m\u001b[0;34m\u001b[0m\u001b[0;34m\u001b[0m\u001b[0m\n\u001b[1;32m      7\u001b[0m \u001b[0;31m#print(max(Flam))\u001b[0m\u001b[0;34m\u001b[0m\u001b[0;34m\u001b[0m\u001b[0;34m\u001b[0m\u001b[0m\n\u001b[0;32m----> 8\u001b[0;31m \u001b[0mdf\u001b[0m \u001b[0;34m=\u001b[0m \u001b[0mpd\u001b[0m\u001b[0;34m.\u001b[0m\u001b[0mDataFrame\u001b[0m\u001b[0;34m(\u001b[0m\u001b[0mSED\u001b[0m\u001b[0;34m,\u001b[0m \u001b[0mcolumns\u001b[0m \u001b[0;34m=\u001b[0m \u001b[0;34m[\u001b[0m\u001b[0;34m'# Wavelength (nm)'\u001b[0m\u001b[0;34m,\u001b[0m \u001b[0;34m'F_lamA (normalized erg/cm2/s/A)'\u001b[0m\u001b[0;34m]\u001b[0m\u001b[0;34m)\u001b[0m\u001b[0;34m\u001b[0m\u001b[0;34m\u001b[0m\u001b[0m\n\u001b[0m\u001b[1;32m      9\u001b[0m \u001b[0;31m#print(df)\u001b[0m\u001b[0;34m\u001b[0m\u001b[0;34m\u001b[0m\u001b[0;34m\u001b[0m\u001b[0m\n\u001b[1;32m     10\u001b[0m \u001b[0mdf\u001b[0m\u001b[0;34m.\u001b[0m\u001b[0mto_csv\u001b[0m\u001b[0;34m(\u001b[0m\u001b[0;34m'output/kasen.spec'\u001b[0m\u001b[0;34m,\u001b[0m \u001b[0msep\u001b[0m\u001b[0;34m=\u001b[0m\u001b[0;34m' '\u001b[0m\u001b[0;34m)\u001b[0m\u001b[0;34m\u001b[0m\u001b[0;34m\u001b[0m\u001b[0m\n",
      "\u001b[0;31mNameError\u001b[0m: name 'SED' is not defined"
     ]
    }
   ],
   "source": [
    "Flim = Flam/(1E-17)\n",
    "print(lam_nm)\n",
    "print(Flim)\n",
    "#print(SED)\n",
    "#print(SED)\n",
    "#print(lam_nm)\n",
    "#print(max(Flam))\n",
    "df = pd.DataFrame(SED, columns = ['# Wavelength (nm)', 'F_lamA (normalized erg/cm2/s/A)'])\n",
    "#print(df)\n",
    "df.to_csv('output/kasen.spec', sep=' ')"
   ]
  },
  {
   "cell_type": "code",
   "execution_count": null,
   "id": "69b4d429",
   "metadata": {},
   "outputs": [],
   "source": []
  },
  {
   "cell_type": "code",
   "execution_count": null,
   "id": "68570594",
   "metadata": {},
   "outputs": [],
   "source": []
  }
 ],
 "metadata": {
  "kernelspec": {
   "display_name": "Python 3",
   "language": "python",
   "name": "python3"
  },
  "language_info": {
   "codemirror_mode": {
    "name": "ipython",
    "version": 3
   },
   "file_extension": ".py",
   "mimetype": "text/x-python",
   "name": "python",
   "nbconvert_exporter": "python",
   "pygments_lexer": "ipython3",
   "version": "3.8.8"
  }
 },
 "nbformat": 4,
 "nbformat_minor": 5
}
