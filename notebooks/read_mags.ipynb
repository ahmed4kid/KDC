{
 "cells": [
  {
   "cell_type": "code",
   "execution_count": null,
   "id": "6e94ea45",
   "metadata": {},
   "outputs": [],
   "source": [
    "import pandas as pd\n",
    "import numpy as np\n",
    "import random\n",
    "import math\n",
    "\n",
    "infile = pd.read_csv('~/KDC/notebooks/output/list', delim_whitespace=True)\n",
    "namer = infile['name']\n",
    "print(namer)"
   ]
  },
  {
   "cell_type": "markdown",
   "id": "c1b94e34",
   "metadata": {},
   "source": [
    "This routine reads in magnitudes at a particular time."
   ]
  },
  {
   "cell_type": "code",
   "execution_count": null,
   "id": "5e59ef35",
   "metadata": {},
   "outputs": [],
   "source": [
    "r = np.arange(0, 20, dtype=float)\n",
    "\n",
    "\n",
    "for x, z in enumerate(namer):\n",
    "    data = pd.read_csv(\"output/\"+namer[x])\n",
    "    r[x] = data.loc[data['time'] == 8.95]['mag'] \n",
    "for i in range(0,len(r)):\n",
    "    print(r[i])"
   ]
  },
  {
   "cell_type": "code",
   "execution_count": null,
   "id": "7d92d61f",
   "metadata": {},
   "outputs": [],
   "source": [
    "r = np.arange(0, 20, dtype=int)\n",
    "y = np.arange(0,20, dtype=float)\n",
    "\n",
    "for x in range(0,20):\n",
    "    name = 'df_model_'+str(x)+'.csv'\n",
    "    data = pd.read_csv(name)\n",
    "    y[x] = data.loc[(data['LAMBDA'] > 4999.5) & (data['LAMBDA'] < 5000.0)]['Flam'] \n",
    "    z=(-2.5*np.log10((y[x]*4999.74515*4999.74515)/(3e18)))-48.6\n",
    "    print(z)\n",
    "#for i in range(0,len(r)):\n",
    "#    print(r[i])"
   ]
  },
  {
   "cell_type": "code",
   "execution_count": null,
   "id": "7322a8d8",
   "metadata": {},
   "outputs": [],
   "source": [
    "#random.seed()\n",
    "a=np.arange(2,331)\n",
    "#random.randrange(2, 330)\n",
    "random.choices(a,k=20)\n"
   ]
  },
  {
   "cell_type": "code",
   "execution_count": null,
   "id": "540d6647",
   "metadata": {},
   "outputs": [],
   "source": []
  },
  {
   "cell_type": "code",
   "execution_count": null,
   "id": "cd94764e",
   "metadata": {},
   "outputs": [],
   "source": []
  }
 ],
 "metadata": {
  "kernelspec": {
   "display_name": "LSST",
   "language": "python",
   "name": "lsst"
  },
  "language_info": {
   "codemirror_mode": {
    "name": "ipython",
    "version": 3
   },
   "file_extension": ".py",
   "mimetype": "text/x-python",
   "name": "python",
   "nbconvert_exporter": "python",
   "pygments_lexer": "ipython3",
   "version": "3.10.10"
  }
 },
 "nbformat": 4,
 "nbformat_minor": 5
}
