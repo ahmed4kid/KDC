{
 "cells": [
  {
   "cell_type": "code",
   "execution_count": null,
   "id": "8ced281c",
   "metadata": {},
   "outputs": [],
   "source": [
    "import matplotlib.pyplot as plt\n",
    "import pandas as pd\n",
    "import numpy as np\n",
    "import h5py\n",
    "\n",
    "path = '~/Desktop/g_comparison'\n",
    "file = pd.read_csv(path, sep = \"\\t\")\n",
    "file = file.dropna()\n",
    "\n",
    "#mag_500 = file['mag_500']\n",
    "#g = file['g']\n",
    "\n",
    "\n",
    "mag_500_ok = file.loc[file['mag_500'] < 40]['mag_500']\n",
    "g_ok = file.loc[file['mag_500'] < 40]['g']\n",
    "indexer= np.arange(len(g_ok))\n",
    "diff = mag_500_ok - g_ok\n"
   ]
  },
  {
   "cell_type": "code",
   "execution_count": null,
   "id": "5b91d756",
   "metadata": {},
   "outputs": [],
   "source": [
    "min_x = 0\n",
    "max_x = len(g)\n",
    "min_y = -1 \n",
    "max_y = 1\n",
    "\n",
    "plt.scatter(indexer,diff)\n",
    "plt.title('Differences')\n",
    "plt.xlabel('Index')\n",
    "plt.ylabel('Difference')\n",
    "plt.xlim(min_x, max_x)\n",
    "plt.ylim(min_y, max_y)\n",
    "#plt.gca().invert_yaxis()\n",
    "plt.show()\n"
   ]
  },
  {
   "cell_type": "code",
   "execution_count": null,
   "id": "38d0b4b1",
   "metadata": {},
   "outputs": [],
   "source": [
    "with open('differences.txt', 'w') as f:\n",
    "    f.write('index difference' + '\\n')\n",
    "    \n",
    "for line in range(len(file)):\n",
    "    line_num = str(line)\n",
    "    difference = str(file['mag_500'][line] - file['g'][line])\n",
    "    with open('differences.txt', 'a') as f:\n",
    "            region = str(line_num + \": \" + difference + \"\\n\")\n",
    "            f.write(region)\n",
    "with open('differences.txt', 'r') as f:\n",
    "    content = f.read()\n",
    "    print(content)\n",
    "    f.close()\n",
    "\n"
   ]
  },
  {
   "cell_type": "code",
   "execution_count": null,
   "id": "e7f57b80",
   "metadata": {},
   "outputs": [],
   "source": [
    "f = h5py.File('/Users/mwiesner/Kasen_Kilonova_Models_2017/systematic_kilonova_model_grid/knova_d1_n10_m0.1_vk0.05_fd1.0_Xlan1e-5.0.h5','r')\n",
    "#list(f.keys())\n",
    "Lnu    = np.array(f['Lnu'],dtype='d')\n",
    "mu    = np.array(f['mu'],dtype='d')\n",
    "nu    = np.array(f['nu'],dtype='d')\n",
    "times    = np.array(f['time'],dtype='d')\n",
    "\n",
    "# convert time to days\n",
    "times = times/3600.0/24.0\n",
    "\n",
    "#fine = np.where((nu > 6.0E14) & (nu < 6.02E14))\n",
    "#nu_fine = nu[fine]\n",
    "#lambda_fine = ((3.0E8)/nu_fine)*1E9\n",
    "\n",
    "#fine = np.where((times > 1.0) & (times < 2.0) & (nu > 6.0E14) & (nu < 6.02E14))\n",
    "ok = np.where((nu > 6.0E14) & (nu < 6.02E14))\n",
    "#timer = times[fine]\n",
    "nu_ok = nu[ok]\n",
    "print((3E8)/nu_ok)\n",
    "print(Lnu*nu_ok)\n",
    "# specific luminosity (ergs/s/Hz)\n",
    "# this is a 2D array, Lnu[times][nu]\n",
    "#Lnu_all   = np.array(f['Lnu'],dtype='d')\n",
    "#Lun_all = Lnu_alll[ok]\n",
    "#nu = nuu[ok]"
   ]
  },
  {
   "cell_type": "code",
   "execution_count": null,
   "id": "6080d620",
   "metadata": {},
   "outputs": [],
   "source": []
  },
  {
   "cell_type": "code",
   "execution_count": null,
   "id": "b4da17fb",
   "metadata": {},
   "outputs": [],
   "source": []
  }
 ],
 "metadata": {
  "kernelspec": {
   "display_name": "LSST",
   "language": "python",
   "name": "lsst"
  },
  "language_info": {
   "codemirror_mode": {
    "name": "ipython",
    "version": 3
   },
   "file_extension": ".py",
   "mimetype": "text/x-python",
   "name": "python",
   "nbconvert_exporter": "python",
   "pygments_lexer": "ipython3",
   "version": "3.10.10"
  }
 },
 "nbformat": 4,
 "nbformat_minor": 5
}
