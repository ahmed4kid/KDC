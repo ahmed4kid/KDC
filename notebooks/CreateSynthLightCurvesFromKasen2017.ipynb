{
 "cells": [
  {
   "cell_type": "markdown",
   "metadata": {},
   "source": [
    "## Initial Setup"
   ]
  },
  {
   "cell_type": "code",
   "execution_count": 135,
   "metadata": {},
   "outputs": [
    {
     "data": {
      "text/plain": [
       "11"
      ]
     },
     "execution_count": 135,
     "metadata": {},
     "output_type": "execute_result"
    }
   ],
   "source": [
    "# Initial setup...\n",
    "import numpy as np\n",
    "import pandas as pd\n",
    "from astropy.io import fits\n",
    "from astropy.table import Table\n",
    "import fitsio\n",
    "from scipy import interpolate\n",
    "import glob\n",
    "import math\n",
    "import os\n",
    "import sys\n",
    "import os.path\n",
    "from pathlib import Path\n",
    "import h5py\n",
    "import bisect\n",
    "\n",
    "import argparse\n",
    "\n",
    "# v. 2.6.1 (which works with python 2.7) installed from \n",
    "#  https://imageio.readthedocs.io/en/stable/installation.html\n",
    "import imageio\n",
    "\n",
    "import matplotlib.pyplot as plt\n",
    "\n",
    "%matplotlib inline\n",
    "\n",
    "#This is the output light curve file\n",
    "myfile = Path(\"output/light_curve.txt\")\n",
    "\n",
    "#This is the output file that contains the time after GW event\n",
    "myfile2 = Path(\"output/time.txt\")\n",
    "\n",
    "#I did this so i\n",
    "if myfile.exists():\n",
    "    !rm output/light_curve.txt\n",
    "if myfile2.exists():\n",
    "    !rm output/time.txt\n",
    "\n",
    "f = open(\"output/light_curve.txt\", \"w\")\n",
    "f.write('u, g, r, i, z, y \\n')\n",
    "f2 = open(\"output/time.txt\", \"w\")\n",
    "f2.write(\"day_after \\n\")"
   ]
  },
  {
   "cell_type": "markdown",
   "metadata": {},
   "source": [
    "## User input"
   ]
  },
  {
   "cell_type": "code",
   "execution_count": 136,
   "metadata": {},
   "outputs": [],
   "source": [
    "# Redshift of kilonova...\n",
    "z_kn = 0.0099\n",
    "\n",
    "# If debug=True, just plot/calculate synthetic mags for the 4.00days past merger KN \n",
    "debug=False\n",
    "\n",
    "# Kasen (2017) models directory name:\n",
    "#kasen_dirname='/data/des40.a/data/dtucker/DESGW_analysis/Kasen_Kilonova_Models_2017/kilonova_models'\n",
    "\n",
    "#kasen_dirname= kasen_filename\n",
    "#kasen_filename = \"/Users/mwiesner/KDC/notebooks/output/blue_red.csv\"\n",
    "\n",
    "#fblue='/Users/mwiesner/Kasen_Kilonova_Models_2017/systematic_kilonova_model_grid/knova_d1_n10_m0.025_vk0.30_fd1.0_Xlan1e-4.0.h5'\n",
    "#fred = '/Users/mwiesner/Kasen_Kilonova_Models_2017/kilonova_models/knova_d1_n10_m0.040_vk0.15_Xlan1e-1.5.h5'\n",
    "\n",
    "#fblue='/Users/mwiesner/Kasen_Kilonova_Models_2017/systematic_kilonova_model_grid/knova_d1_n10_m0.025_vk0.30_fd1.0_Xlan1e-4.0.h5'\n",
    "#fred = '/Users/mwiesner/Kasen_Kilonova_Models_2017/kilonova_models/knova_d1_n10_m0.040_vk0.15_Xlan1e-1.5.h5'\n",
    "\n",
    "#a ‘blue’ kilonova (light r-process ejecta with M = 0.025M¤, vk = 0.3c\n",
    "#and Xlan = 10-4\n",
    "#) plus a ‘red’ kilonova (heavy r-process ejecta with M = 0.04M¤,\n",
    "#vk = 0.15c, and Xlan = 10-1.5).\n",
    "\n",
    "#Exponent of inner density profile = 1\n",
    "#Exponent of outer density profile = 10\n",
    "#Ejecta mass is 0.030 solar masses\n",
    "#kinetic velocity is 0.05c\n",
    "#\n",
    "#Lanthanide fraction 3.0 \n",
    "#naming convention\n",
    "#d = exponent of inner density profile\n",
    "#n - exponent of \n",
    "#Units of the spectra are ergs/sec/Hz\n",
    "\n",
    "#divide by 4piD^2 to get an observed flux (ergs/sec/Hz/cm^2)\n",
    "#kasen_pathname=os.path.join(kasen_dirname,kasen_filename)\n",
    "\n",
    "# CSV file containing bandpass:\n",
    "# (Need to add LSST passbands...)\n",
    "bandpassFile = '/Users/mwiesner/KDC/kasen/DES_STD_BANDPASSES_Y3A2_ugrizY.test.csv'\n",
    "#bandpassFile = '/Users/mwiesner/KDC/notebooks/input/LSST.dat'\n",
    "\n",
    "# Comma-separated list with no spaces of passbands to be used...\n",
    "bandList = ['u','g','r','i','z','Y']\n",
    "\n",
    "# bandpass color palette:\n",
    "bandpassColors_dict = {'u':'#56b4e9',\n",
    "                       'g':'#008060',\n",
    "                       'r':'#ff4000',\n",
    "                       'i':'#850000',\n",
    "                       'z':'#6600cc',\n",
    "                       'y':'#000000',\n",
    "                       'Y':'#000000'\n",
    "                      }\n",
    "    \n",
    "# Verbosity level of output to screen (0,1,2,...)\n",
    "verbose = 0\n",
    "\n",
    "# Output directory...\n",
    "output_dirname = '/Users/mwiesner/KDC/kasen'\n",
    "sed_dirname = '/Users/mwiesner/KDC/kasen/temp/'\n"
   ]
  },
  {
   "cell_type": "markdown",
   "metadata": {},
   "source": [
    "## Synthetic Photometry Methods\n",
    "\n",
    "Based on /data/des40.a/data/dtucker/Y6A1_abscal/calc_abmag.py, which itself made use of some variations of code developed by Keith Bechtol and Eli Rykoff for DES Y3 interstellar reddening corrections...\n"
   ]
  },
  {
   "cell_type": "code",
   "execution_count": 137,
   "metadata": {},
   "outputs": [],
   "source": [
    "# Create an argparse Namespace and run \"calc_abmag(args)\"...\n",
    "#  (e.g., run_calc_abmag('u,g,r,i,z,Y', bandpassFile, tempFile, 'LAMBDA', 'Flam', 'Flam', verbose) )\n",
    "\n",
    "def run_calc_abmag(bandList, bandpassFile, spectrumFile, colname_wave, colname_flam, flux_type, verbose):\n",
    "    \n",
    "    args = argparse.Namespace(bandList = bandList, \n",
    "                              bandpassFile = bandpassFile, \n",
    "                              spectrumFile = spectrumFile, \n",
    "                              colname_wave = colname_wave, \n",
    "                              colname_flam = colname_flam, \n",
    "                              flux_type = flux_type, \n",
    "                              verbose = verbose)\n",
    "    \n",
    "    if args.verbose > 0: print(args)\n",
    "\n",
    "    status = calc_abmag(args)\n",
    "    \n",
    "     \n",
    "    return status\n",
    "\n",
    "    \n",
    "    \n",
    "#parser.add_argument('--bandList', help='comma-separated list with no spaces', default='g,r,i,z,Y')\n",
    "#parser.add_argument('--bandpassFile', help='name of the input plan file', default='DES_STD_BANDPASSES_Y3A2_ugrizY.test.csv')\n",
    "#parser.add_argument('--spectrumFile', help='name of the input plan file (can be CSV file or a synphot-style FITS file')\n",
    "#parser.add_argument('--colname_wave', help='name of the wavelength column (in case of a CSV spectrumFile)', default='wave')\n",
    "#parser.add_argument('--colname_flux', help='name of the flux column (in case of a CSV spectrumFile)', default='flux')\n",
    "#parser.add_argument('--flux_type', help='type of flux (Flam [ergs/sec/cm**2/Angstrom] or Fnu [ergs/sec/cm**2/Hz])? ', default='Flam')\n",
    "#parser.add_argument('--verbose', help='verbosity level of output to screen (0,1,2,...)', default=0, type=int)\n",
    "    "
   ]
  },
  {
   "cell_type": "code",
   "execution_count": 138,
   "metadata": {},
   "outputs": [],
   "source": [
    "# Main method for calculating synthetic AB magnitudes...\n",
    "\n",
    "def calc_abmag(args):\n",
    "\n",
    "    #  Extract the bandList...\n",
    "    bandList = args.bandList\n",
    "    bandList = bandList.split(',')\n",
    "    if args.verbose > 0:\n",
    "        print('bandList: ', bandList)\n",
    "\n",
    "    #  Extract the name of the bandpassFile...\n",
    "    bandpassFile = args.bandpassFile\n",
    "    if os.path.isfile(bandpassFile)==False:\n",
    "        print(\"\"\"bandpassFile %s does not exist...\"\"\" % (bandpassFile))\n",
    "        print('Returning with error code 1 now...')\n",
    "        return 1\n",
    "    if args.verbose > 0:\n",
    "        print('bandpassFile: ', bandpassFile)\n",
    "\n",
    "    #  Extract the name of the spectrum file...\n",
    "    spectrumFile = args.spectrumFile\n",
    "    if os.path.isfile(spectrumFile)==False:\n",
    "        print(\"\"\"spectrumFile %s does not exist...\"\"\" % (spectrumFile))\n",
    "        print('Returning with error code 1 now...')\n",
    "        return 1\n",
    "    if args.verbose > 0:\n",
    "        print('spectrumFile: ', spectrumFile)\n",
    "\n",
    "    # Try to determine spectrumFile type (FITS file or CSV file)...\n",
    "    spectrumType = 'Unknown'\n",
    "    try:\n",
    "        hdulist = fits.open(spectrumFile)\n",
    "        hdulist.close()\n",
    "        spectrumType = 'FITS'\n",
    "    except IOError:\n",
    "        if args.verbose > 2:\n",
    "            print(\"\"\"spectrumFile %s is not a FITS file...\"\"\" % (spectrumFile))\n",
    "        try:\n",
    "            df_test = pd.read_csv(spectrumFile)\n",
    "            spectrumType = 'CSV'\n",
    "        except IOError:\n",
    "            if args.verbose > 2:\n",
    "                print(\"\"\"spectrumFile %s is not a CSV file...\"\"\" % (spectrumFile))\n",
    "\n",
    "    # Read in spectrumFile and create a SciPy interpolated function of the spectrum...\n",
    "    if spectrumType == 'FITS':\n",
    "        flux,wave_lo,wave_hi = getSpectrumSynphot(spectrumFile, fluxFactor=1.0)\n",
    "    elif spectrumType == 'CSV':\n",
    "        flux,wave_lo,wave_hi = getSpectrumCSV(spectrumFile, \n",
    "                                              colname_wave=args.colname_wave, colname_flam=args.colname_flam, \n",
    "                                              fluxFactor=1.0)\n",
    "    else:\n",
    "        print(\"\"\"Spectrum file %s is of unknown type...\"\"\" % (spectrumFile))\n",
    "        print('Returning with error code 1 now...')\n",
    "        return 1\n",
    "\n",
    "    # Read the bandpassFile into a Pandas DataFrame...\n",
    "    df_resp = pd.read_csv(bandpassFile, comment='#')\n",
    "\n",
    "    # Check to make sure the spectrumFile covers at least the same wavelength range\n",
    "    #  as the bandpassFile...\n",
    "    if ( (wave_lo > df_resp['LAMBDA'].min()) or (wave_hi < df_resp['LAMBDA'].max()) ):\n",
    "        print(\"\"\"WARNING:  %s does not cover the full wavelength range of %s\"\"\" % (spectrumFile, bandpassFile))\n",
    "        print('Returning with error code 1 now...')\n",
    "        return 1\n",
    "\n",
    "    # Create wavelength_array and flux_array...\n",
    "    delta_wavelength = 1.0 # angstroms\n",
    "    wavelength_array = np.arange(wave_lo, wave_hi, delta_wavelength)\n",
    "    flux_array = flux(wavelength_array)\n",
    "    \n",
    "\n",
    "    # If needed, convert flux from flam to fnu...\n",
    "    if args.flux_type == 'Fnu':\n",
    "        fnu_array = flux_array\n",
    "    elif args.flux_type == 'Flam':\n",
    "        c_kms = 299792.5        # speed of light in km/s\n",
    "        c_ms = 1000.*c_kms      # speed of light in m/s\n",
    "        c_as = (1.000e10)*c_ms  # speed of light in Angstroms/sec\n",
    "        fnu_array = flux_array * wavelength_array * wavelength_array / c_as\n",
    "    else:\n",
    "        print(\"\"\"Flux type %s is unknown...\"\"\" % (args.flux_type))\n",
    "        print('Returning with error code 1 now...')\n",
    "        return 1\n",
    "\n",
    "\n",
    "    # Print out header...\n",
    "    outputLine = ''\n",
    "    for band in bandList:\n",
    "        outputLine =  \"\"\"%s,%s\"\"\" % (outputLine, band)\n",
    "    print(outputLine[1:])\n",
    "\n",
    "    outputLine = ''\n",
    "    for band in bandList:\n",
    "\n",
    "        response = interpolate.interp1d(df_resp['LAMBDA'], df_resp[band],\n",
    "                                        bounds_error=False, fill_value=0.,\n",
    "                                        kind='linear')\n",
    "        response_array = response(wavelength_array)\n",
    "\n",
    "        try:\n",
    "            abmag = calc_abmag_value(wavelength_array, response_array, fnu_array)\n",
    "        except Exception:\n",
    "            abmag = -9999.\n",
    "\n",
    "        outputLine =  \"\"\"%s,%.4f\"\"\" % (outputLine, abmag)\n",
    "\n",
    "    print(outputLine[1:])\n",
    "    f.write(str(outputLine[1:])+\"\\n\")\n",
    "\n",
    "    return 0"
   ]
  },
  {
   "cell_type": "code",
   "execution_count": 139,
   "metadata": {},
   "outputs": [],
   "source": [
    "# Calculate abmag using the wavelength version of the Fukugita et al. (1996) equation...\n",
    "\n",
    "def calc_abmag_value(wavelength_array, response_array, fnu_array):\n",
    "\n",
    "    # Calculate the abmag...\n",
    "    numerator = np.sum(fnu_array * response_array / wavelength_array)\n",
    "    denominator = np.sum(response_array / wavelength_array)\n",
    "    abmag_value = -2.5*math.log10(numerator/denominator) - 48.60\n",
    "\n",
    "    return abmag_value"
   ]
  },
  {
   "cell_type": "code",
   "execution_count": 140,
   "metadata": {},
   "outputs": [],
   "source": [
    "# Return a SciPy interpolation function of a Synphot-style FITS spectrum...\n",
    "#  (Based on code from Keith Bechtol's synthesize_locus.py.)\n",
    "# Unless otherwise noted, fluxes are assumed to be Flam and wavelengths\n",
    "#  are assumed to be in Angstroms...\n",
    "\n",
    "def getSpectrumSynphot(synphotFileName, fluxFactor=1.0):\n",
    "\n",
    "    try:\n",
    "\n",
    "        hdulist = fits.open(synphotFileName)\n",
    "        t = Table.read(hdulist[1])\n",
    "        hdulist.close()\n",
    "\n",
    "    except IOError:\n",
    "\n",
    "        print(\"\"\"Could not read %s\"\"\" % synphotFileName)\n",
    "        sys.exit(1)\n",
    "\n",
    "\n",
    "    wave = t['WAVELENGTH'].data.tolist()\n",
    "    wave_lo = min(wave)\n",
    "    wave_hi = max(wave)\n",
    "    t['FLUX'] = fluxFactor*t['FLUX']\n",
    "    flam = t['FLUX'].data.tolist()\n",
    "    flam = t['FLUX'].data.tolist()\n",
    "    data = {'wavelength': wave, 'flux': flam}\n",
    "\n",
    "    f = interpolate.interp1d(data['wavelength'], data['flux'],\n",
    "                             bounds_error=True,\n",
    "                             kind='linear')\n",
    "\n",
    "    return f,wave_lo,wave_hi"
   ]
  },
  {
   "cell_type": "code",
   "execution_count": 141,
   "metadata": {},
   "outputs": [],
   "source": [
    "# Return a SciPy interpolation function of a CSV-style spectrum...\n",
    "#  (Based on code from Keith Bechtol's synthesize_locus.py.)\n",
    "# Unless otherwise noted, fluxes are assumed to be Flam and wavelengths\n",
    "#  are assumed to be in Angstroms...\n",
    "\n",
    "def getSpectrumCSV(csvFileName, colname_wave='wave', colname_flam='flux', fluxFactor=1.0):\n",
    "\n",
    "    try:\n",
    "\n",
    "        df = pd.read_csv(csvFileName)\n",
    "\n",
    "    except IOError:\n",
    "\n",
    "        print(\"\"\"Could not read %s\"\"\" % csvFileName)\n",
    "        sys.exit(1)\n",
    "\n",
    "\n",
    "    columnNameList = df.columns.tolist()\n",
    "\n",
    "    if colname_wave not in columnNameList:\n",
    "        print(\"\"\"Column %s not in %s\"\"\" % (colname_wave, csvFileName))\n",
    "        sys.exit(1)\n",
    "\n",
    "    if colname_flam not in columnNameList:\n",
    "        print(\"\"\"Column %s not in %s\"\"\" % (colname_wave, csvFileName))\n",
    "        sys.exit(1)\n",
    "\n",
    "    wave = df[colname_wave].tolist()\n",
    "    wave_lo = min(wave)\n",
    "    wave_hi = max(wave)\n",
    "    df[colname_flam] = fluxFactor*df[colname_flam]\n",
    "    flam = df[colname_flam].tolist()\n",
    "    data = {'wavelength': wave, 'flux': flam}\n",
    "\n",
    "    f = interpolate.interp1d(data['wavelength'], data['flux'],\n",
    "                             bounds_error=True,\n",
    "                             kind='linear')\n",
    "\n",
    "    return f,wave_lo,wave_hi"
   ]
  },
  {
   "cell_type": "markdown",
   "metadata": {},
   "source": [
    "## Other Useful Methods"
   ]
  },
  {
   "cell_type": "code",
   "execution_count": 142,
   "metadata": {},
   "outputs": [],
   "source": [
    "# Redshift to luminosity distance...\n",
    "#  Default values of H0 and Omega0 are from Bennett et al. (2014)...\n",
    "def zToDlum(z, H0=69.6, Om0=0.286):\n",
    "    from astropy.cosmology import FlatLambdaCDM\n",
    "    cosmo = FlatLambdaCDM(H0=H0, Om0=Om0)\n",
    "    # comoving distance...\n",
    "    Dcom = cosmo.comoving_distance(z)\n",
    "    # luminosity distance...\n",
    "    Dlum = (1.+z)*Dcom\n",
    "    return Dlum\n",
    "\n",
    "\n",
    "# Mpc_to_cm...\n",
    "def Mpc_to_cm(Dmpc):\n",
    "    Dcm = Dmpc*1.00e6*3.086e+18\n",
    "    return Dcm"
   ]
  },
  {
   "cell_type": "markdown",
   "metadata": {},
   "source": [
    "## Read in bandpass file"
   ]
  },
  {
   "cell_type": "code",
   "execution_count": 143,
   "metadata": {},
   "outputs": [],
   "source": [
    "df_band = pd.read_csv(bandpassFile, comment='#')"
   ]
  },
  {
   "cell_type": "markdown",
   "metadata": {},
   "source": [
    "## Read in and Plot Kilonova SED..."
   ]
  },
  {
   "cell_type": "code",
   "execution_count": 144,
   "metadata": {},
   "outputs": [
    {
     "name": "stdout",
     "output_type": "stream",
     "text": [
      "working on  0.05\n"
     ]
    },
    {
     "name": "stderr",
     "output_type": "stream",
     "text": [
      "WARNING: VerifyWarning: Error validating header for HDU #0 (note: Astropy uses zero-based indexing).\n",
      "    Header size is not multiple of 2880: 6581349\n",
      "There may be extra bytes after the last HDU or the file is corrupted. [astropy.io.fits.hdu.hdulist]\n"
     ]
    },
    {
     "name": "stdout",
     "output_type": "stream",
     "text": [
      "u,g,r,i,z,Y\n",
      "15.2793,14.8312,15.0661,15.3878,15.6802,15.8389\n",
      "woof 0\n",
      "working on  0.14999999\n"
     ]
    },
    {
     "name": "stderr",
     "output_type": "stream",
     "text": [
      "WARNING: VerifyWarning: Error validating header for HDU #0 (note: Astropy uses zero-based indexing).\n",
      "    Header size is not multiple of 2880: 6758655\n",
      "There may be extra bytes after the last HDU or the file is corrupted. [astropy.io.fits.hdu.hdulist]\n"
     ]
    },
    {
     "name": "stdout",
     "output_type": "stream",
     "text": [
      "u,g,r,i,z,Y\n",
      "15.7241,14.4999,14.6433,14.9596,15.2473,15.4218\n",
      "woof 0\n",
      "working on  0.25\n"
     ]
    },
    {
     "name": "stderr",
     "output_type": "stream",
     "text": [
      "WARNING: VerifyWarning: Error validating header for HDU #0 (note: Astropy uses zero-based indexing).\n",
      "    Header size is not multiple of 2880: 6906450\n",
      "There may be extra bytes after the last HDU or the file is corrupted. [astropy.io.fits.hdu.hdulist]\n"
     ]
    },
    {
     "name": "stdout",
     "output_type": "stream",
     "text": [
      "u,g,r,i,z,Y\n",
      "16.3811,14.5013,14.4570,14.7249,15.0186,15.2095\n",
      "woof 0\n",
      "working on  0.35\n"
     ]
    },
    {
     "name": "stderr",
     "output_type": "stream",
     "text": [
      "WARNING: VerifyWarning: Error validating header for HDU #0 (note: Astropy uses zero-based indexing).\n",
      "    Header size is not multiple of 2880: 7149123\n",
      "There may be extra bytes after the last HDU or the file is corrupted. [astropy.io.fits.hdu.hdulist]\n"
     ]
    },
    {
     "name": "stdout",
     "output_type": "stream",
     "text": [
      "u,g,r,i,z,Y\n",
      "16.7042,14.6863,14.3812,14.5642,14.8979,15.0947\n",
      "woof 0\n",
      "working on  0.45000002\n"
     ]
    },
    {
     "name": "stderr",
     "output_type": "stream",
     "text": [
      "WARNING: VerifyWarning: Error validating header for HDU #0 (note: Astropy uses zero-based indexing).\n",
      "    Header size is not multiple of 2880: 7125403\n",
      "There may be extra bytes after the last HDU or the file is corrupted. [astropy.io.fits.hdu.hdulist]\n"
     ]
    },
    {
     "name": "stdout",
     "output_type": "stream",
     "text": [
      "u,g,r,i,z,Y\n",
      "17.0206,14.9304,14.3712,14.4763,14.8081,15.0114\n",
      "woof 0\n",
      "working on  0.55\n"
     ]
    },
    {
     "name": "stderr",
     "output_type": "stream",
     "text": [
      "WARNING: VerifyWarning: Error validating header for HDU #0 (note: Astropy uses zero-based indexing).\n",
      "    Header size is not multiple of 2880: 7104897\n",
      "There may be extra bytes after the last HDU or the file is corrupted. [astropy.io.fits.hdu.hdulist]\n"
     ]
    },
    {
     "name": "stdout",
     "output_type": "stream",
     "text": [
      "u,g,r,i,z,Y\n",
      "17.2918,15.2038,14.4000,14.4370,14.7085,14.8976\n",
      "woof 0\n",
      "working on  0.65000004\n"
     ]
    },
    {
     "name": "stderr",
     "output_type": "stream",
     "text": [
      "WARNING: VerifyWarning: Error validating header for HDU #0 (note: Astropy uses zero-based indexing).\n",
      "    Header size is not multiple of 2880: 7230362\n",
      "There may be extra bytes after the last HDU or the file is corrupted. [astropy.io.fits.hdu.hdulist]\n"
     ]
    },
    {
     "name": "stdout",
     "output_type": "stream",
     "text": [
      "u,g,r,i,z,Y\n",
      "17.5760,15.4450,14.4952,14.4059,14.6183,14.8036\n",
      "woof 0\n",
      "working on  0.75\n"
     ]
    },
    {
     "name": "stderr",
     "output_type": "stream",
     "text": [
      "WARNING: VerifyWarning: Error validating header for HDU #0 (note: Astropy uses zero-based indexing).\n",
      "    Header size is not multiple of 2880: 7321739\n",
      "There may be extra bytes after the last HDU or the file is corrupted. [astropy.io.fits.hdu.hdulist]\n"
     ]
    },
    {
     "name": "stdout",
     "output_type": "stream",
     "text": [
      "u,g,r,i,z,Y\n",
      "17.7953,15.6982,14.6304,14.4141,14.5388,14.7043\n",
      "woof 0\n",
      "working on  0.84999996\n"
     ]
    },
    {
     "name": "stderr",
     "output_type": "stream",
     "text": [
      "WARNING: VerifyWarning: Error validating header for HDU #0 (note: Astropy uses zero-based indexing).\n",
      "    Header size is not multiple of 2880: 7254149\n",
      "There may be extra bytes after the last HDU or the file is corrupted. [astropy.io.fits.hdu.hdulist]\n"
     ]
    },
    {
     "name": "stdout",
     "output_type": "stream",
     "text": [
      "u,g,r,i,z,Y\n",
      "18.0536,15.9300,14.8014,14.4349,14.4952,14.6447\n",
      "woof 0\n",
      "working on  0.95\n"
     ]
    },
    {
     "name": "stderr",
     "output_type": "stream",
     "text": [
      "WARNING: VerifyWarning: Error validating header for HDU #0 (note: Astropy uses zero-based indexing).\n",
      "    Header size is not multiple of 2880: 7365054\n",
      "There may be extra bytes after the last HDU or the file is corrupted. [astropy.io.fits.hdu.hdulist]\n"
     ]
    },
    {
     "name": "stdout",
     "output_type": "stream",
     "text": [
      "u,g,r,i,z,Y\n",
      "18.1599,16.1178,14.9703,14.4775,14.4737,14.5891\n",
      "woof 0\n",
      "working on  1.0500001\n"
     ]
    },
    {
     "name": "stderr",
     "output_type": "stream",
     "text": [
      "WARNING: VerifyWarning: Error validating header for HDU #0 (note: Astropy uses zero-based indexing).\n",
      "    Header size is not multiple of 2880: 7428280\n",
      "There may be extra bytes after the last HDU or the file is corrupted. [astropy.io.fits.hdu.hdulist]\n"
     ]
    },
    {
     "name": "stdout",
     "output_type": "stream",
     "text": [
      "u,g,r,i,z,Y\n",
      "18.3700,16.2860,15.1170,14.5327,14.4657,14.5631\n",
      "woof 0\n",
      "working on  1.15\n"
     ]
    },
    {
     "name": "stderr",
     "output_type": "stream",
     "text": [
      "WARNING: VerifyWarning: Error validating header for HDU #0 (note: Astropy uses zero-based indexing).\n",
      "    Header size is not multiple of 2880: 7470460\n",
      "There may be extra bytes after the last HDU or the file is corrupted. [astropy.io.fits.hdu.hdulist]\n"
     ]
    },
    {
     "name": "stdout",
     "output_type": "stream",
     "text": [
      "u,g,r,i,z,Y\n",
      "18.5636,16.4364,15.2493,14.6013,14.4817,14.5452\n",
      "woof 0\n",
      "working on  1.25\n"
     ]
    },
    {
     "name": "stderr",
     "output_type": "stream",
     "text": [
      "WARNING: VerifyWarning: Error validating header for HDU #0 (note: Astropy uses zero-based indexing).\n",
      "    Header size is not multiple of 2880: 7354119\n",
      "There may be extra bytes after the last HDU or the file is corrupted. [astropy.io.fits.hdu.hdulist]\n"
     ]
    },
    {
     "name": "stdout",
     "output_type": "stream",
     "text": [
      "u,g,r,i,z,Y\n",
      "18.6348,16.5697,15.3617,14.6810,14.5095,14.5247\n",
      "woof 0\n",
      "working on  1.35\n"
     ]
    },
    {
     "name": "stderr",
     "output_type": "stream",
     "text": [
      "WARNING: VerifyWarning: Error validating header for HDU #0 (note: Astropy uses zero-based indexing).\n",
      "    Header size is not multiple of 2880: 7527229\n",
      "There may be extra bytes after the last HDU or the file is corrupted. [astropy.io.fits.hdu.hdulist]\n"
     ]
    },
    {
     "name": "stdout",
     "output_type": "stream",
     "text": [
      "u,g,r,i,z,Y\n",
      "18.7703,16.7160,15.4624,14.7680,14.5609,14.5442\n",
      "woof 0\n",
      "working on  1.4499999\n"
     ]
    },
    {
     "name": "stderr",
     "output_type": "stream",
     "text": [
      "WARNING: VerifyWarning: Error validating header for HDU #0 (note: Astropy uses zero-based indexing).\n",
      "    Header size is not multiple of 2880: 7601244\n",
      "There may be extra bytes after the last HDU or the file is corrupted. [astropy.io.fits.hdu.hdulist]\n"
     ]
    },
    {
     "name": "stdout",
     "output_type": "stream",
     "text": [
      "u,g,r,i,z,Y\n",
      "18.9174,16.8219,15.5643,14.8527,14.5963,14.5706\n",
      "woof 0\n",
      "working on  1.5500001\n"
     ]
    },
    {
     "name": "stderr",
     "output_type": "stream",
     "text": [
      "WARNING: VerifyWarning: Error validating header for HDU #0 (note: Astropy uses zero-based indexing).\n",
      "    Header size is not multiple of 2880: 7586847\n",
      "There may be extra bytes after the last HDU or the file is corrupted. [astropy.io.fits.hdu.hdulist]\n"
     ]
    },
    {
     "name": "stdout",
     "output_type": "stream",
     "text": [
      "u,g,r,i,z,Y\n",
      "19.0135,16.9250,15.6301,14.9369,14.6514,14.5886\n",
      "woof 0\n",
      "working on  1.65\n"
     ]
    },
    {
     "name": "stderr",
     "output_type": "stream",
     "text": [
      "WARNING: VerifyWarning: Error validating header for HDU #0 (note: Astropy uses zero-based indexing).\n",
      "    Header size is not multiple of 2880: 7657324\n",
      "There may be extra bytes after the last HDU or the file is corrupted. [astropy.io.fits.hdu.hdulist]\n"
     ]
    },
    {
     "name": "stdout",
     "output_type": "stream",
     "text": [
      "u,g,r,i,z,Y\n",
      "19.0712,17.0272,15.7131,15.0085,14.7030,14.6150\n",
      "woof 0\n",
      "working on  1.75\n"
     ]
    },
    {
     "name": "stderr",
     "output_type": "stream",
     "text": [
      "WARNING: VerifyWarning: Error validating header for HDU #0 (note: Astropy uses zero-based indexing).\n",
      "    Header size is not multiple of 2880: 7706863\n",
      "There may be extra bytes after the last HDU or the file is corrupted. [astropy.io.fits.hdu.hdulist]\n"
     ]
    },
    {
     "name": "stdout",
     "output_type": "stream",
     "text": [
      "u,g,r,i,z,Y\n",
      "19.1220,17.1358,15.7980,15.0796,14.7517,14.6586\n",
      "woof 0\n",
      "working on  1.85\n"
     ]
    },
    {
     "name": "stderr",
     "output_type": "stream",
     "text": [
      "WARNING: VerifyWarning: Error validating header for HDU #0 (note: Astropy uses zero-based indexing).\n",
      "    Header size is not multiple of 2880: 7573123\n",
      "There may be extra bytes after the last HDU or the file is corrupted. [astropy.io.fits.hdu.hdulist]\n"
     ]
    },
    {
     "name": "stdout",
     "output_type": "stream",
     "text": [
      "u,g,r,i,z,Y\n",
      "19.2095,17.2185,15.8608,15.1605,14.8111,14.6758\n",
      "woof 0\n",
      "working on  1.9499999\n"
     ]
    },
    {
     "name": "stderr",
     "output_type": "stream",
     "text": [
      "WARNING: VerifyWarning: Error validating header for HDU #0 (note: Astropy uses zero-based indexing).\n",
      "    Header size is not multiple of 2880: 7733797\n",
      "There may be extra bytes after the last HDU or the file is corrupted. [astropy.io.fits.hdu.hdulist]\n"
     ]
    },
    {
     "name": "stdout",
     "output_type": "stream",
     "text": [
      "u,g,r,i,z,Y\n",
      "19.3449,17.2949,15.9449,15.2311,14.8600,14.7306\n",
      "woof 0\n",
      "working on  2.05\n"
     ]
    },
    {
     "name": "stderr",
     "output_type": "stream",
     "text": [
      "WARNING: VerifyWarning: Error validating header for HDU #0 (note: Astropy uses zero-based indexing).\n",
      "    Header size is not multiple of 2880: 7843566\n",
      "There may be extra bytes after the last HDU or the file is corrupted. [astropy.io.fits.hdu.hdulist]\n"
     ]
    },
    {
     "name": "stdout",
     "output_type": "stream",
     "text": [
      "u,g,r,i,z,Y\n",
      "19.3467,17.3997,16.0128,15.2885,14.9004,14.7489\n",
      "woof 0\n",
      "working on  2.1499999\n"
     ]
    },
    {
     "name": "stderr",
     "output_type": "stream",
     "text": [
      "WARNING: VerifyWarning: Error validating header for HDU #0 (note: Astropy uses zero-based indexing).\n",
      "    Header size is not multiple of 2880: 7840365\n",
      "There may be extra bytes after the last HDU or the file is corrupted. [astropy.io.fits.hdu.hdulist]\n"
     ]
    },
    {
     "name": "stdout",
     "output_type": "stream",
     "text": [
      "u,g,r,i,z,Y\n",
      "19.4384,17.4671,16.0782,15.3652,14.9825,14.8367\n",
      "woof 0\n",
      "working on  2.25\n"
     ]
    },
    {
     "name": "stderr",
     "output_type": "stream",
     "text": [
      "WARNING: VerifyWarning: Error validating header for HDU #0 (note: Astropy uses zero-based indexing).\n",
      "    Header size is not multiple of 2880: 7762082\n",
      "There may be extra bytes after the last HDU or the file is corrupted. [astropy.io.fits.hdu.hdulist]\n"
     ]
    },
    {
     "name": "stdout",
     "output_type": "stream",
     "text": [
      "u,g,r,i,z,Y\n",
      "19.5513,17.5536,16.1429,15.4356,15.0370,14.8502\n",
      "woof 0\n",
      "working on  2.3500001\n"
     ]
    },
    {
     "name": "stderr",
     "output_type": "stream",
     "text": [
      "WARNING: VerifyWarning: Error validating header for HDU #0 (note: Astropy uses zero-based indexing).\n",
      "    Header size is not multiple of 2880: 7924124\n",
      "There may be extra bytes after the last HDU or the file is corrupted. [astropy.io.fits.hdu.hdulist]\n"
     ]
    },
    {
     "name": "stdout",
     "output_type": "stream",
     "text": [
      "u,g,r,i,z,Y\n",
      "19.6275,17.6202,16.1761,15.4952,15.0919,14.9222\n",
      "woof 0\n",
      "working on  2.45\n"
     ]
    },
    {
     "name": "stderr",
     "output_type": "stream",
     "text": [
      "WARNING: VerifyWarning: Error validating header for HDU #0 (note: Astropy uses zero-based indexing).\n",
      "    Header size is not multiple of 2880: 8009431\n",
      "There may be extra bytes after the last HDU or the file is corrupted. [astropy.io.fits.hdu.hdulist]\n"
     ]
    },
    {
     "name": "stdout",
     "output_type": "stream",
     "text": [
      "u,g,r,i,z,Y\n",
      "19.6944,17.6911,16.2612,15.5579,15.1608,14.9780\n",
      "woof 0\n",
      "working on  2.55\n"
     ]
    },
    {
     "name": "stderr",
     "output_type": "stream",
     "text": [
      "WARNING: VerifyWarning: Error validating header for HDU #0 (note: Astropy uses zero-based indexing).\n",
      "    Header size is not multiple of 2880: 7744829\n",
      "There may be extra bytes after the last HDU or the file is corrupted. [astropy.io.fits.hdu.hdulist]\n"
     ]
    },
    {
     "name": "stdout",
     "output_type": "stream",
     "text": [
      "u,g,r,i,z,Y\n",
      "19.7361,17.7565,16.3286,15.6072,15.2051,15.0018\n",
      "woof 0\n",
      "working on  2.6499999\n"
     ]
    },
    {
     "name": "stderr",
     "output_type": "stream",
     "text": [
      "WARNING: VerifyWarning: Error validating header for HDU #0 (note: Astropy uses zero-based indexing).\n",
      "    Header size is not multiple of 2880: 7910787\n",
      "There may be extra bytes after the last HDU or the file is corrupted. [astropy.io.fits.hdu.hdulist]\n"
     ]
    },
    {
     "name": "stdout",
     "output_type": "stream",
     "text": [
      "u,g,r,i,z,Y\n",
      "19.8282,17.8128,16.3668,15.6796,15.2755,15.0777\n",
      "woof 0\n",
      "working on  2.75\n"
     ]
    },
    {
     "name": "stderr",
     "output_type": "stream",
     "text": [
      "WARNING: VerifyWarning: Error validating header for HDU #0 (note: Astropy uses zero-based indexing).\n",
      "    Header size is not multiple of 2880: 7807452\n",
      "There may be extra bytes after the last HDU or the file is corrupted. [astropy.io.fits.hdu.hdulist]\n"
     ]
    },
    {
     "name": "stdout",
     "output_type": "stream",
     "text": [
      "u,g,r,i,z,Y\n",
      "19.8760,17.8703,16.4446,15.7348,15.3316,15.1272\n",
      "woof 0\n",
      "working on  2.8500001\n"
     ]
    },
    {
     "name": "stderr",
     "output_type": "stream",
     "text": [
      "WARNING: VerifyWarning: Error validating header for HDU #0 (note: Astropy uses zero-based indexing).\n",
      "    Header size is not multiple of 2880: 7929898\n",
      "There may be extra bytes after the last HDU or the file is corrupted. [astropy.io.fits.hdu.hdulist]\n"
     ]
    },
    {
     "name": "stdout",
     "output_type": "stream",
     "text": [
      "u,g,r,i,z,Y\n",
      "19.8836,17.9151,16.5053,15.8022,15.3833,15.1637\n",
      "woof 0\n",
      "working on  2.95\n"
     ]
    },
    {
     "name": "stderr",
     "output_type": "stream",
     "text": [
      "WARNING: VerifyWarning: Error validating header for HDU #0 (note: Astropy uses zero-based indexing).\n",
      "    Header size is not multiple of 2880: 7834408\n",
      "There may be extra bytes after the last HDU or the file is corrupted. [astropy.io.fits.hdu.hdulist]\n"
     ]
    },
    {
     "name": "stdout",
     "output_type": "stream",
     "text": [
      "u,g,r,i,z,Y\n",
      "20.0195,18.0010,16.5590,15.8530,15.4514,15.2336\n",
      "woof 0\n",
      "working on  3.05\n"
     ]
    },
    {
     "name": "stderr",
     "output_type": "stream",
     "text": [
      "WARNING: VerifyWarning: Error validating header for HDU #0 (note: Astropy uses zero-based indexing).\n",
      "    Header size is not multiple of 2880: 8028282\n",
      "There may be extra bytes after the last HDU or the file is corrupted. [astropy.io.fits.hdu.hdulist]\n"
     ]
    },
    {
     "name": "stdout",
     "output_type": "stream",
     "text": [
      "u,g,r,i,z,Y\n",
      "20.0692,18.0560,16.6109,15.9026,15.4683,15.2579\n",
      "woof 0\n",
      "working on  3.1499999\n"
     ]
    },
    {
     "name": "stderr",
     "output_type": "stream",
     "text": [
      "WARNING: VerifyWarning: Error validating header for HDU #0 (note: Astropy uses zero-based indexing).\n",
      "    Header size is not multiple of 2880: 7904748\n",
      "There may be extra bytes after the last HDU or the file is corrupted. [astropy.io.fits.hdu.hdulist]\n"
     ]
    },
    {
     "name": "stdout",
     "output_type": "stream",
     "text": [
      "u,g,r,i,z,Y\n",
      "20.1940,18.1332,16.6456,15.9548,15.5399,15.3093\n",
      "woof 0\n",
      "working on  3.25\n"
     ]
    },
    {
     "name": "stderr",
     "output_type": "stream",
     "text": [
      "WARNING: VerifyWarning: Error validating header for HDU #0 (note: Astropy uses zero-based indexing).\n",
      "    Header size is not multiple of 2880: 7871486\n",
      "There may be extra bytes after the last HDU or the file is corrupted. [astropy.io.fits.hdu.hdulist]\n"
     ]
    },
    {
     "name": "stdout",
     "output_type": "stream",
     "text": [
      "u,g,r,i,z,Y\n",
      "20.2350,18.1415,16.7179,16.0178,15.6001,15.3678\n",
      "woof 0\n",
      "working on  3.3500001\n"
     ]
    },
    {
     "name": "stderr",
     "output_type": "stream",
     "text": [
      "WARNING: VerifyWarning: Error validating header for HDU #0 (note: Astropy uses zero-based indexing).\n",
      "    Header size is not multiple of 2880: 7923826\n",
      "There may be extra bytes after the last HDU or the file is corrupted. [astropy.io.fits.hdu.hdulist]\n"
     ]
    },
    {
     "name": "stdout",
     "output_type": "stream",
     "text": [
      "u,g,r,i,z,Y\n",
      "20.2546,18.2056,16.7841,16.0792,15.6570,15.4310\n",
      "woof 0\n",
      "working on  3.45\n"
     ]
    },
    {
     "name": "stderr",
     "output_type": "stream",
     "text": [
      "WARNING: VerifyWarning: Error validating header for HDU #0 (note: Astropy uses zero-based indexing).\n",
      "    Header size is not multiple of 2880: 7783908\n",
      "There may be extra bytes after the last HDU or the file is corrupted. [astropy.io.fits.hdu.hdulist]\n"
     ]
    },
    {
     "name": "stdout",
     "output_type": "stream",
     "text": [
      "u,g,r,i,z,Y\n",
      "20.3334,18.2536,16.7931,16.1193,15.6897,15.4496\n",
      "woof 0\n",
      "working on  3.55\n"
     ]
    },
    {
     "name": "stderr",
     "output_type": "stream",
     "text": [
      "WARNING: VerifyWarning: Error validating header for HDU #0 (note: Astropy uses zero-based indexing).\n",
      "    Header size is not multiple of 2880: 7902397\n",
      "There may be extra bytes after the last HDU or the file is corrupted. [astropy.io.fits.hdu.hdulist]\n"
     ]
    },
    {
     "name": "stdout",
     "output_type": "stream",
     "text": [
      "u,g,r,i,z,Y\n",
      "20.3455,18.3074,16.8874,16.1760,15.7354,15.4898\n",
      "woof 0\n",
      "working on  3.6499999\n"
     ]
    },
    {
     "name": "stderr",
     "output_type": "stream",
     "text": [
      "WARNING: VerifyWarning: Error validating header for HDU #0 (note: Astropy uses zero-based indexing).\n",
      "    Header size is not multiple of 2880: 7883721\n",
      "There may be extra bytes after the last HDU or the file is corrupted. [astropy.io.fits.hdu.hdulist]\n"
     ]
    },
    {
     "name": "stdout",
     "output_type": "stream",
     "text": [
      "u,g,r,i,z,Y\n",
      "20.4447,18.3455,16.9297,16.2148,15.7965,15.5632\n",
      "woof 0\n",
      "working on  3.75\n"
     ]
    },
    {
     "name": "stderr",
     "output_type": "stream",
     "text": [
      "WARNING: VerifyWarning: Error validating header for HDU #0 (note: Astropy uses zero-based indexing).\n",
      "    Header size is not multiple of 2880: 7908741\n",
      "There may be extra bytes after the last HDU or the file is corrupted. [astropy.io.fits.hdu.hdulist]\n"
     ]
    },
    {
     "name": "stdout",
     "output_type": "stream",
     "text": [
      "u,g,r,i,z,Y\n",
      "20.4368,18.4040,16.9653,16.2794,15.8378,15.5929\n",
      "woof 0\n",
      "working on  3.8500001\n"
     ]
    },
    {
     "name": "stderr",
     "output_type": "stream",
     "text": [
      "WARNING: VerifyWarning: Error validating header for HDU #0 (note: Astropy uses zero-based indexing).\n",
      "    Header size is not multiple of 2880: 7858666\n",
      "There may be extra bytes after the last HDU or the file is corrupted. [astropy.io.fits.hdu.hdulist]\n"
     ]
    },
    {
     "name": "stdout",
     "output_type": "stream",
     "text": [
      "u,g,r,i,z,Y\n",
      "20.5611,18.4723,17.0218,16.3348,15.8697,15.6016\n",
      "woof 0\n",
      "working on  3.95\n"
     ]
    },
    {
     "name": "stderr",
     "output_type": "stream",
     "text": [
      "WARNING: VerifyWarning: Error validating header for HDU #0 (note: Astropy uses zero-based indexing).\n",
      "    Header size is not multiple of 2880: 7769056\n",
      "There may be extra bytes after the last HDU or the file is corrupted. [astropy.io.fits.hdu.hdulist]\n"
     ]
    },
    {
     "name": "stdout",
     "output_type": "stream",
     "text": [
      "u,g,r,i,z,Y\n",
      "20.5866,18.5139,17.0873,16.3839,15.9342,15.6748\n",
      "woof 0\n",
      "working on  4.0499997\n"
     ]
    },
    {
     "name": "stderr",
     "output_type": "stream",
     "text": [
      "WARNING: VerifyWarning: Error validating header for HDU #0 (note: Astropy uses zero-based indexing).\n",
      "    Header size is not multiple of 2880: 7873039\n",
      "There may be extra bytes after the last HDU or the file is corrupted. [astropy.io.fits.hdu.hdulist]\n"
     ]
    },
    {
     "name": "stdout",
     "output_type": "stream",
     "text": [
      "u,g,r,i,z,Y\n",
      "20.6686,18.5483,17.1294,16.4169,15.9785,15.7444\n",
      "woof 0\n",
      "working on  4.15\n"
     ]
    },
    {
     "name": "stderr",
     "output_type": "stream",
     "text": [
      "WARNING: VerifyWarning: Error validating header for HDU #0 (note: Astropy uses zero-based indexing).\n",
      "    Header size is not multiple of 2880: 7877084\n",
      "There may be extra bytes after the last HDU or the file is corrupted. [astropy.io.fits.hdu.hdulist]\n"
     ]
    },
    {
     "name": "stdout",
     "output_type": "stream",
     "text": [
      "u,g,r,i,z,Y\n",
      "20.7716,18.5893,17.1897,16.4616,16.0175,15.7652\n",
      "woof 0\n",
      "working on  4.25\n"
     ]
    },
    {
     "name": "stderr",
     "output_type": "stream",
     "text": [
      "WARNING: VerifyWarning: Error validating header for HDU #0 (note: Astropy uses zero-based indexing).\n",
      "    Header size is not multiple of 2880: 7738329\n",
      "There may be extra bytes after the last HDU or the file is corrupted. [astropy.io.fits.hdu.hdulist]\n"
     ]
    },
    {
     "name": "stdout",
     "output_type": "stream",
     "text": [
      "u,g,r,i,z,Y\n",
      "20.8691,18.6063,17.2063,16.5108,16.0532,15.7738\n",
      "woof 0\n",
      "working on  4.35\n"
     ]
    },
    {
     "name": "stderr",
     "output_type": "stream",
     "text": [
      "WARNING: VerifyWarning: Error validating header for HDU #0 (note: Astropy uses zero-based indexing).\n",
      "    Header size is not multiple of 2880: 7739559\n",
      "There may be extra bytes after the last HDU or the file is corrupted. [astropy.io.fits.hdu.hdulist]\n"
     ]
    },
    {
     "name": "stdout",
     "output_type": "stream",
     "text": [
      "u,g,r,i,z,Y\n",
      "20.8190,18.6610,17.2697,16.5798,16.1045,15.8254\n",
      "woof 0\n",
      "working on  4.4500003\n"
     ]
    },
    {
     "name": "stderr",
     "output_type": "stream",
     "text": [
      "WARNING: VerifyWarning: Error validating header for HDU #0 (note: Astropy uses zero-based indexing).\n",
      "    Header size is not multiple of 2880: 7763946\n",
      "There may be extra bytes after the last HDU or the file is corrupted. [astropy.io.fits.hdu.hdulist]\n"
     ]
    },
    {
     "name": "stdout",
     "output_type": "stream",
     "text": [
      "u,g,r,i,z,Y\n",
      "20.9358,18.7147,17.3089,16.6120,16.1592,15.9048\n",
      "woof 0\n",
      "working on  4.5499997\n"
     ]
    },
    {
     "name": "stderr",
     "output_type": "stream",
     "text": [
      "WARNING: VerifyWarning: Error validating header for HDU #0 (note: Astropy uses zero-based indexing).\n",
      "    Header size is not multiple of 2880: 7902212\n",
      "There may be extra bytes after the last HDU or the file is corrupted. [astropy.io.fits.hdu.hdulist]\n"
     ]
    },
    {
     "name": "stdout",
     "output_type": "stream",
     "text": [
      "u,g,r,i,z,Y\n",
      "20.9366,18.7625,17.3576,16.6472,16.1776,15.9419\n",
      "woof 0\n",
      "working on  4.65\n"
     ]
    },
    {
     "name": "stderr",
     "output_type": "stream",
     "text": [
      "WARNING: VerifyWarning: Error validating header for HDU #0 (note: Astropy uses zero-based indexing).\n",
      "    Header size is not multiple of 2880: 7972109\n",
      "There may be extra bytes after the last HDU or the file is corrupted. [astropy.io.fits.hdu.hdulist]\n"
     ]
    },
    {
     "name": "stdout",
     "output_type": "stream",
     "text": [
      "u,g,r,i,z,Y\n",
      "21.1044,18.8024,17.3889,16.6831,16.2194,15.9749\n",
      "woof 0\n",
      "working on  4.75\n"
     ]
    },
    {
     "name": "stderr",
     "output_type": "stream",
     "text": [
      "WARNING: VerifyWarning: Error validating header for HDU #0 (note: Astropy uses zero-based indexing).\n",
      "    Header size is not multiple of 2880: 7757287\n",
      "There may be extra bytes after the last HDU or the file is corrupted. [astropy.io.fits.hdu.hdulist]\n"
     ]
    },
    {
     "name": "stdout",
     "output_type": "stream",
     "text": [
      "u,g,r,i,z,Y\n",
      "21.1957,18.8495,17.4549,16.7523,16.2446,15.9892\n",
      "woof 0\n",
      "working on  4.85\n"
     ]
    },
    {
     "name": "stderr",
     "output_type": "stream",
     "text": [
      "WARNING: VerifyWarning: Error validating header for HDU #0 (note: Astropy uses zero-based indexing).\n",
      "    Header size is not multiple of 2880: 7921201\n",
      "There may be extra bytes after the last HDU or the file is corrupted. [astropy.io.fits.hdu.hdulist]\n"
     ]
    },
    {
     "name": "stdout",
     "output_type": "stream",
     "text": [
      "u,g,r,i,z,Y\n",
      "21.1555,18.9034,17.4767,16.8030,16.3204,16.0606\n",
      "woof 0\n",
      "working on  4.9500003\n"
     ]
    },
    {
     "name": "stderr",
     "output_type": "stream",
     "text": [
      "WARNING: VerifyWarning: Error validating header for HDU #0 (note: Astropy uses zero-based indexing).\n",
      "    Header size is not multiple of 2880: 7890772\n",
      "There may be extra bytes after the last HDU or the file is corrupted. [astropy.io.fits.hdu.hdulist]\n"
     ]
    },
    {
     "name": "stdout",
     "output_type": "stream",
     "text": [
      "u,g,r,i,z,Y\n",
      "21.2839,18.9486,17.5381,16.8391,16.3463,16.0712\n",
      "woof 0\n",
      "working on  5.0499997\n"
     ]
    },
    {
     "name": "stderr",
     "output_type": "stream",
     "text": [
      "WARNING: VerifyWarning: Error validating header for HDU #0 (note: Astropy uses zero-based indexing).\n",
      "    Header size is not multiple of 2880: 7999418\n",
      "There may be extra bytes after the last HDU or the file is corrupted. [astropy.io.fits.hdu.hdulist]\n"
     ]
    },
    {
     "name": "stdout",
     "output_type": "stream",
     "text": [
      "u,g,r,i,z,Y\n",
      "21.3679,18.9747,17.5839,16.8755,16.3857,16.1056\n",
      "woof 0\n",
      "working on  5.15\n"
     ]
    },
    {
     "name": "stderr",
     "output_type": "stream",
     "text": [
      "WARNING: VerifyWarning: Error validating header for HDU #0 (note: Astropy uses zero-based indexing).\n",
      "    Header size is not multiple of 2880: 7963184\n",
      "There may be extra bytes after the last HDU or the file is corrupted. [astropy.io.fits.hdu.hdulist]\n"
     ]
    },
    {
     "name": "stdout",
     "output_type": "stream",
     "text": [
      "u,g,r,i,z,Y\n",
      "21.4736,19.0416,17.6126,16.9177,16.4269,16.1653\n",
      "woof 0\n",
      "working on  5.25\n"
     ]
    },
    {
     "name": "stderr",
     "output_type": "stream",
     "text": [
      "WARNING: VerifyWarning: Error validating header for HDU #0 (note: Astropy uses zero-based indexing).\n",
      "    Header size is not multiple of 2880: 7978072\n",
      "There may be extra bytes after the last HDU or the file is corrupted. [astropy.io.fits.hdu.hdulist]\n"
     ]
    },
    {
     "name": "stdout",
     "output_type": "stream",
     "text": [
      "u,g,r,i,z,Y\n",
      "21.4979,19.0733,17.6858,16.9707,16.4482,16.1822\n",
      "woof 0\n",
      "working on  5.35\n"
     ]
    },
    {
     "name": "stderr",
     "output_type": "stream",
     "text": [
      "WARNING: VerifyWarning: Error validating header for HDU #0 (note: Astropy uses zero-based indexing).\n",
      "    Header size is not multiple of 2880: 8089433\n",
      "There may be extra bytes after the last HDU or the file is corrupted. [astropy.io.fits.hdu.hdulist]\n"
     ]
    },
    {
     "name": "stdout",
     "output_type": "stream",
     "text": [
      "u,g,r,i,z,Y\n",
      "21.6218,19.1109,17.6796,17.0142,16.5084,16.2851\n",
      "woof 0\n",
      "working on  5.4500003\n"
     ]
    },
    {
     "name": "stderr",
     "output_type": "stream",
     "text": [
      "WARNING: VerifyWarning: Error validating header for HDU #0 (note: Astropy uses zero-based indexing).\n",
      "    Header size is not multiple of 2880: 7985344\n",
      "There may be extra bytes after the last HDU or the file is corrupted. [astropy.io.fits.hdu.hdulist]\n"
     ]
    },
    {
     "name": "stdout",
     "output_type": "stream",
     "text": [
      "u,g,r,i,z,Y\n",
      "21.6814,19.1497,17.7512,17.0533,16.5651,16.3170\n",
      "woof 0\n",
      "working on  5.5499997\n"
     ]
    },
    {
     "name": "stderr",
     "output_type": "stream",
     "text": [
      "WARNING: VerifyWarning: Error validating header for HDU #0 (note: Astropy uses zero-based indexing).\n",
      "    Header size is not multiple of 2880: 8024632\n",
      "There may be extra bytes after the last HDU or the file is corrupted. [astropy.io.fits.hdu.hdulist]\n"
     ]
    },
    {
     "name": "stdout",
     "output_type": "stream",
     "text": [
      "u,g,r,i,z,Y\n",
      "21.6048,19.1919,17.7881,17.0837,16.5930,16.3586\n",
      "woof 0\n",
      "working on  5.65\n"
     ]
    },
    {
     "name": "stderr",
     "output_type": "stream",
     "text": [
      "WARNING: VerifyWarning: Error validating header for HDU #0 (note: Astropy uses zero-based indexing).\n",
      "    Header size is not multiple of 2880: 7955819\n",
      "There may be extra bytes after the last HDU or the file is corrupted. [astropy.io.fits.hdu.hdulist]\n"
     ]
    },
    {
     "name": "stdout",
     "output_type": "stream",
     "text": [
      "u,g,r,i,z,Y\n",
      "21.8063,19.2060,17.8319,17.1213,16.6119,16.3472\n",
      "woof 0\n",
      "working on  5.75\n"
     ]
    },
    {
     "name": "stderr",
     "output_type": "stream",
     "text": [
      "WARNING: VerifyWarning: Error validating header for HDU #0 (note: Astropy uses zero-based indexing).\n",
      "    Header size is not multiple of 2880: 8074582\n",
      "There may be extra bytes after the last HDU or the file is corrupted. [astropy.io.fits.hdu.hdulist]\n"
     ]
    },
    {
     "name": "stdout",
     "output_type": "stream",
     "text": [
      "u,g,r,i,z,Y\n",
      "21.7400,19.2826,17.8443,17.1864,16.6746,16.4427\n",
      "woof 0\n",
      "working on  5.85\n"
     ]
    },
    {
     "name": "stderr",
     "output_type": "stream",
     "text": [
      "WARNING: VerifyWarning: Error validating header for HDU #0 (note: Astropy uses zero-based indexing).\n",
      "    Header size is not multiple of 2880: 7871985\n",
      "There may be extra bytes after the last HDU or the file is corrupted. [astropy.io.fits.hdu.hdulist]\n"
     ]
    },
    {
     "name": "stdout",
     "output_type": "stream",
     "text": [
      "u,g,r,i,z,Y\n",
      "21.7380,19.3069,17.9148,17.2255,16.7026,16.4709\n",
      "woof 0\n",
      "working on  5.9500003\n"
     ]
    },
    {
     "name": "stderr",
     "output_type": "stream",
     "text": [
      "WARNING: VerifyWarning: Error validating header for HDU #0 (note: Astropy uses zero-based indexing).\n",
      "    Header size is not multiple of 2880: 7955413\n",
      "There may be extra bytes after the last HDU or the file is corrupted. [astropy.io.fits.hdu.hdulist]\n"
     ]
    },
    {
     "name": "stdout",
     "output_type": "stream",
     "text": [
      "u,g,r,i,z,Y\n",
      "22.0116,19.3589,17.9503,17.2636,16.7306,16.5082\n",
      "woof 0\n",
      "working on  6.0499997\n"
     ]
    },
    {
     "name": "stderr",
     "output_type": "stream",
     "text": [
      "WARNING: VerifyWarning: Error validating header for HDU #0 (note: Astropy uses zero-based indexing).\n",
      "    Header size is not multiple of 2880: 7932154\n",
      "There may be extra bytes after the last HDU or the file is corrupted. [astropy.io.fits.hdu.hdulist]\n"
     ]
    },
    {
     "name": "stdout",
     "output_type": "stream",
     "text": [
      "u,g,r,i,z,Y\n",
      "21.9521,19.3612,17.9811,17.3268,16.8024,16.5479\n",
      "woof 0\n",
      "working on  6.15\n"
     ]
    },
    {
     "name": "stderr",
     "output_type": "stream",
     "text": [
      "WARNING: VerifyWarning: Error validating header for HDU #0 (note: Astropy uses zero-based indexing).\n",
      "    Header size is not multiple of 2880: 7951663\n",
      "There may be extra bytes after the last HDU or the file is corrupted. [astropy.io.fits.hdu.hdulist]\n"
     ]
    },
    {
     "name": "stdout",
     "output_type": "stream",
     "text": [
      "u,g,r,i,z,Y\n",
      "21.9945,19.4225,18.0278,17.3428,16.8164,16.5849\n",
      "woof 0\n",
      "working on  6.25\n"
     ]
    },
    {
     "name": "stderr",
     "output_type": "stream",
     "text": [
      "WARNING: VerifyWarning: Error validating header for HDU #0 (note: Astropy uses zero-based indexing).\n",
      "    Header size is not multiple of 2880: 8073671\n",
      "There may be extra bytes after the last HDU or the file is corrupted. [astropy.io.fits.hdu.hdulist]\n"
     ]
    },
    {
     "name": "stdout",
     "output_type": "stream",
     "text": [
      "u,g,r,i,z,Y\n",
      "22.0831,19.4971,18.0455,17.3805,16.8888,16.6324\n",
      "woof 0\n",
      "working on  6.35\n"
     ]
    },
    {
     "name": "stderr",
     "output_type": "stream",
     "text": [
      "WARNING: VerifyWarning: Error validating header for HDU #0 (note: Astropy uses zero-based indexing).\n",
      "    Header size is not multiple of 2880: 7996156\n",
      "There may be extra bytes after the last HDU or the file is corrupted. [astropy.io.fits.hdu.hdulist]\n"
     ]
    },
    {
     "name": "stdout",
     "output_type": "stream",
     "text": [
      "u,g,r,i,z,Y\n",
      "22.2366,19.5159,18.1024,17.4239,16.8883,16.6467\n",
      "woof 0\n",
      "working on  6.4500003\n"
     ]
    },
    {
     "name": "stderr",
     "output_type": "stream",
     "text": [
      "WARNING: VerifyWarning: Error validating header for HDU #0 (note: Astropy uses zero-based indexing).\n",
      "    Header size is not multiple of 2880: 8006641\n",
      "There may be extra bytes after the last HDU or the file is corrupted. [astropy.io.fits.hdu.hdulist]\n"
     ]
    },
    {
     "name": "stdout",
     "output_type": "stream",
     "text": [
      "u,g,r,i,z,Y\n",
      "22.3151,19.5638,18.1309,17.4396,16.9124,16.7101\n",
      "woof 0\n",
      "working on  6.5499997\n"
     ]
    },
    {
     "name": "stderr",
     "output_type": "stream",
     "text": [
      "WARNING: VerifyWarning: Error validating header for HDU #0 (note: Astropy uses zero-based indexing).\n",
      "    Header size is not multiple of 2880: 8040386\n",
      "There may be extra bytes after the last HDU or the file is corrupted. [astropy.io.fits.hdu.hdulist]\n"
     ]
    },
    {
     "name": "stdout",
     "output_type": "stream",
     "text": [
      "u,g,r,i,z,Y\n",
      "22.3650,19.6011,18.1781,17.4716,16.9533,16.7330\n",
      "woof 0\n",
      "working on  6.65\n"
     ]
    },
    {
     "name": "stderr",
     "output_type": "stream",
     "text": [
      "WARNING: VerifyWarning: Error validating header for HDU #0 (note: Astropy uses zero-based indexing).\n",
      "    Header size is not multiple of 2880: 8046396\n",
      "There may be extra bytes after the last HDU or the file is corrupted. [astropy.io.fits.hdu.hdulist]\n"
     ]
    },
    {
     "name": "stdout",
     "output_type": "stream",
     "text": [
      "u,g,r,i,z,Y\n",
      "22.1913,19.6054,18.2243,17.5338,16.9694,16.7249\n",
      "woof 0\n",
      "working on  6.75\n"
     ]
    },
    {
     "name": "stderr",
     "output_type": "stream",
     "text": [
      "WARNING: VerifyWarning: Error validating header for HDU #0 (note: Astropy uses zero-based indexing).\n",
      "    Header size is not multiple of 2880: 8030288\n",
      "There may be extra bytes after the last HDU or the file is corrupted. [astropy.io.fits.hdu.hdulist]\n"
     ]
    },
    {
     "name": "stdout",
     "output_type": "stream",
     "text": [
      "u,g,r,i,z,Y\n",
      "22.3784,19.6506,18.2395,17.5527,17.0300,16.8183\n",
      "woof 0\n",
      "working on  6.85\n"
     ]
    },
    {
     "name": "stderr",
     "output_type": "stream",
     "text": [
      "WARNING: VerifyWarning: Error validating header for HDU #0 (note: Astropy uses zero-based indexing).\n",
      "    Header size is not multiple of 2880: 8032827\n",
      "There may be extra bytes after the last HDU or the file is corrupted. [astropy.io.fits.hdu.hdulist]\n"
     ]
    },
    {
     "name": "stdout",
     "output_type": "stream",
     "text": [
      "u,g,r,i,z,Y\n",
      "22.5010,19.6800,18.2982,17.5937,17.0457,16.8538\n",
      "woof 0\n",
      "working on  6.9500003\n"
     ]
    },
    {
     "name": "stderr",
     "output_type": "stream",
     "text": [
      "WARNING: VerifyWarning: Error validating header for HDU #0 (note: Astropy uses zero-based indexing).\n",
      "    Header size is not multiple of 2880: 7993171\n",
      "There may be extra bytes after the last HDU or the file is corrupted. [astropy.io.fits.hdu.hdulist]\n"
     ]
    },
    {
     "name": "stdout",
     "output_type": "stream",
     "text": [
      "u,g,r,i,z,Y\n",
      "22.5597,19.7780,18.2871,17.6144,17.1144,16.9495\n",
      "woof 0\n",
      "working on  7.0499997\n"
     ]
    },
    {
     "name": "stderr",
     "output_type": "stream",
     "text": [
      "WARNING: VerifyWarning: Error validating header for HDU #0 (note: Astropy uses zero-based indexing).\n",
      "    Header size is not multiple of 2880: 8116214\n",
      "There may be extra bytes after the last HDU or the file is corrupted. [astropy.io.fits.hdu.hdulist]\n"
     ]
    },
    {
     "name": "stdout",
     "output_type": "stream",
     "text": [
      "u,g,r,i,z,Y\n",
      "22.4910,19.7853,18.3627,17.6883,17.1707,16.9458\n",
      "woof 0\n",
      "working on  7.15\n"
     ]
    },
    {
     "name": "stderr",
     "output_type": "stream",
     "text": [
      "WARNING: VerifyWarning: Error validating header for HDU #0 (note: Astropy uses zero-based indexing).\n",
      "    Header size is not multiple of 2880: 8030661\n",
      "There may be extra bytes after the last HDU or the file is corrupted. [astropy.io.fits.hdu.hdulist]\n"
     ]
    },
    {
     "name": "stdout",
     "output_type": "stream",
     "text": [
      "u,g,r,i,z,Y\n",
      "22.6073,19.8280,18.3934,17.6925,17.1932,16.9921\n",
      "woof 0\n",
      "working on  7.25\n"
     ]
    },
    {
     "name": "stderr",
     "output_type": "stream",
     "text": [
      "WARNING: VerifyWarning: Error validating header for HDU #0 (note: Astropy uses zero-based indexing).\n",
      "    Header size is not multiple of 2880: 8162959\n",
      "There may be extra bytes after the last HDU or the file is corrupted. [astropy.io.fits.hdu.hdulist]\n"
     ]
    },
    {
     "name": "stdout",
     "output_type": "stream",
     "text": [
      "u,g,r,i,z,Y\n",
      "22.9153,19.8767,18.4097,17.7383,17.1783,16.9896\n",
      "woof 0\n",
      "working on  7.35\n"
     ]
    },
    {
     "name": "stderr",
     "output_type": "stream",
     "text": [
      "WARNING: VerifyWarning: Error validating header for HDU #0 (note: Astropy uses zero-based indexing).\n",
      "    Header size is not multiple of 2880: 8124639\n",
      "There may be extra bytes after the last HDU or the file is corrupted. [astropy.io.fits.hdu.hdulist]\n"
     ]
    },
    {
     "name": "stdout",
     "output_type": "stream",
     "text": [
      "u,g,r,i,z,Y\n",
      "22.7432,19.9447,18.4628,17.7735,17.2373,17.0637\n",
      "woof 0\n",
      "working on  7.4500003\n"
     ]
    },
    {
     "name": "stderr",
     "output_type": "stream",
     "text": [
      "WARNING: VerifyWarning: Error validating header for HDU #0 (note: Astropy uses zero-based indexing).\n",
      "    Header size is not multiple of 2880: 8050827\n",
      "There may be extra bytes after the last HDU or the file is corrupted. [astropy.io.fits.hdu.hdulist]\n"
     ]
    },
    {
     "name": "stdout",
     "output_type": "stream",
     "text": [
      "u,g,r,i,z,Y\n",
      "22.9984,19.9778,18.4936,17.8248,17.2695,17.0821\n",
      "woof 0\n",
      "working on  7.5499997\n"
     ]
    },
    {
     "name": "stderr",
     "output_type": "stream",
     "text": [
      "WARNING: VerifyWarning: Error validating header for HDU #0 (note: Astropy uses zero-based indexing).\n",
      "    Header size is not multiple of 2880: 8088784\n",
      "There may be extra bytes after the last HDU or the file is corrupted. [astropy.io.fits.hdu.hdulist]\n"
     ]
    },
    {
     "name": "stdout",
     "output_type": "stream",
     "text": [
      "u,g,r,i,z,Y\n",
      "23.1058,20.0132,18.5207,17.8589,17.2721,17.0568\n",
      "woof 0\n",
      "working on  7.65\n"
     ]
    },
    {
     "name": "stderr",
     "output_type": "stream",
     "text": [
      "WARNING: VerifyWarning: Error validating header for HDU #0 (note: Astropy uses zero-based indexing).\n",
      "    Header size is not multiple of 2880: 8108558\n",
      "There may be extra bytes after the last HDU or the file is corrupted. [astropy.io.fits.hdu.hdulist]\n"
     ]
    },
    {
     "name": "stdout",
     "output_type": "stream",
     "text": [
      "u,g,r,i,z,Y\n",
      "23.2372,20.0411,18.5677,17.8711,17.3227,17.1548\n",
      "woof 0\n",
      "working on  7.75\n"
     ]
    },
    {
     "name": "stderr",
     "output_type": "stream",
     "text": [
      "WARNING: VerifyWarning: Error validating header for HDU #0 (note: Astropy uses zero-based indexing).\n",
      "    Header size is not multiple of 2880: 8090869\n",
      "There may be extra bytes after the last HDU or the file is corrupted. [astropy.io.fits.hdu.hdulist]\n"
     ]
    },
    {
     "name": "stdout",
     "output_type": "stream",
     "text": [
      "u,g,r,i,z,Y\n",
      "23.1608,20.0949,18.5966,17.9079,17.3811,17.1602\n",
      "woof 0\n",
      "working on  7.85\n"
     ]
    },
    {
     "name": "stderr",
     "output_type": "stream",
     "text": [
      "WARNING: VerifyWarning: Error validating header for HDU #0 (note: Astropy uses zero-based indexing).\n",
      "    Header size is not multiple of 2880: 8030963\n",
      "There may be extra bytes after the last HDU or the file is corrupted. [astropy.io.fits.hdu.hdulist]\n"
     ]
    },
    {
     "name": "stdout",
     "output_type": "stream",
     "text": [
      "u,g,r,i,z,Y\n",
      "23.1598,20.1046,18.6338,17.9404,17.4172,17.2060\n",
      "woof 0\n",
      "working on  7.9500003\n"
     ]
    },
    {
     "name": "stderr",
     "output_type": "stream",
     "text": [
      "WARNING: VerifyWarning: Error validating header for HDU #0 (note: Astropy uses zero-based indexing).\n",
      "    Header size is not multiple of 2880: 8027892\n",
      "There may be extra bytes after the last HDU or the file is corrupted. [astropy.io.fits.hdu.hdulist]\n"
     ]
    },
    {
     "name": "stdout",
     "output_type": "stream",
     "text": [
      "u,g,r,i,z,Y\n",
      "23.2750,20.1642,18.6690,17.9746,17.4382,17.2549\n",
      "woof 0\n",
      "working on  8.05\n"
     ]
    },
    {
     "name": "stderr",
     "output_type": "stream",
     "text": [
      "WARNING: VerifyWarning: Error validating header for HDU #0 (note: Astropy uses zero-based indexing).\n",
      "    Header size is not multiple of 2880: 8126573\n",
      "There may be extra bytes after the last HDU or the file is corrupted. [astropy.io.fits.hdu.hdulist]\n"
     ]
    },
    {
     "name": "stdout",
     "output_type": "stream",
     "text": [
      "u,g,r,i,z,Y\n",
      "23.4393,20.2270,18.6992,18.0002,17.4775,17.3230\n",
      "woof 0\n",
      "working on  8.150001\n"
     ]
    },
    {
     "name": "stderr",
     "output_type": "stream",
     "text": [
      "WARNING: VerifyWarning: Error validating header for HDU #0 (note: Astropy uses zero-based indexing).\n",
      "    Header size is not multiple of 2880: 8147039\n",
      "There may be extra bytes after the last HDU or the file is corrupted. [astropy.io.fits.hdu.hdulist]\n"
     ]
    },
    {
     "name": "stdout",
     "output_type": "stream",
     "text": [
      "u,g,r,i,z,Y\n",
      "23.5516,20.2514,18.7130,18.0620,17.5303,17.2935\n",
      "woof 0\n",
      "working on  8.25\n"
     ]
    },
    {
     "name": "stderr",
     "output_type": "stream",
     "text": [
      "WARNING: VerifyWarning: Error validating header for HDU #0 (note: Astropy uses zero-based indexing).\n",
      "    Header size is not multiple of 2880: 8106257\n",
      "There may be extra bytes after the last HDU or the file is corrupted. [astropy.io.fits.hdu.hdulist]\n"
     ]
    },
    {
     "name": "stdout",
     "output_type": "stream",
     "text": [
      "u,g,r,i,z,Y\n",
      "23.4721,20.2809,18.7911,18.0675,17.5313,17.3741\n",
      "woof 0\n",
      "working on  8.349999\n"
     ]
    },
    {
     "name": "stderr",
     "output_type": "stream",
     "text": [
      "WARNING: VerifyWarning: Error validating header for HDU #0 (note: Astropy uses zero-based indexing).\n",
      "    Header size is not multiple of 2880: 8142687\n",
      "There may be extra bytes after the last HDU or the file is corrupted. [astropy.io.fits.hdu.hdulist]\n"
     ]
    },
    {
     "name": "stdout",
     "output_type": "stream",
     "text": [
      "u,g,r,i,z,Y\n",
      "23.4588,20.3528,18.7961,18.1082,17.5735,17.3802\n",
      "woof 0\n",
      "working on  8.45\n"
     ]
    },
    {
     "name": "stderr",
     "output_type": "stream",
     "text": [
      "WARNING: VerifyWarning: Error validating header for HDU #0 (note: Astropy uses zero-based indexing).\n",
      "    Header size is not multiple of 2880: 8148182\n",
      "There may be extra bytes after the last HDU or the file is corrupted. [astropy.io.fits.hdu.hdulist]\n"
     ]
    },
    {
     "name": "stdout",
     "output_type": "stream",
     "text": [
      "u,g,r,i,z,Y\n",
      "23.6271,20.3375,18.8089,18.1354,17.5882,17.3866\n",
      "woof 0\n",
      "working on  8.55\n"
     ]
    },
    {
     "name": "stderr",
     "output_type": "stream",
     "text": [
      "WARNING: VerifyWarning: Error validating header for HDU #0 (note: Astropy uses zero-based indexing).\n",
      "    Header size is not multiple of 2880: 8146089\n",
      "There may be extra bytes after the last HDU or the file is corrupted. [astropy.io.fits.hdu.hdulist]\n"
     ]
    },
    {
     "name": "stdout",
     "output_type": "stream",
     "text": [
      "u,g,r,i,z,Y\n",
      "23.7640,20.4697,18.8485,18.1813,17.6545,17.4094\n",
      "woof 0\n",
      "working on  8.650001\n"
     ]
    },
    {
     "name": "stderr",
     "output_type": "stream",
     "text": [
      "WARNING: VerifyWarning: Error validating header for HDU #0 (note: Astropy uses zero-based indexing).\n",
      "    Header size is not multiple of 2880: 8127514\n",
      "There may be extra bytes after the last HDU or the file is corrupted. [astropy.io.fits.hdu.hdulist]\n"
     ]
    },
    {
     "name": "stdout",
     "output_type": "stream",
     "text": [
      "u,g,r,i,z,Y\n",
      "23.7623,20.5032,18.8918,18.1988,17.6977,17.4889\n",
      "woof 0\n",
      "working on  8.75\n"
     ]
    },
    {
     "name": "stderr",
     "output_type": "stream",
     "text": [
      "WARNING: VerifyWarning: Error validating header for HDU #0 (note: Astropy uses zero-based indexing).\n",
      "    Header size is not multiple of 2880: 8119003\n",
      "There may be extra bytes after the last HDU or the file is corrupted. [astropy.io.fits.hdu.hdulist]\n"
     ]
    },
    {
     "name": "stdout",
     "output_type": "stream",
     "text": [
      "u,g,r,i,z,Y\n",
      "23.9385,20.5050,18.9329,18.2375,17.7001,17.5028\n",
      "woof 0\n",
      "working on  8.849999\n"
     ]
    },
    {
     "name": "stderr",
     "output_type": "stream",
     "text": [
      "WARNING: VerifyWarning: Error validating header for HDU #0 (note: Astropy uses zero-based indexing).\n",
      "    Header size is not multiple of 2880: 8143053\n",
      "There may be extra bytes after the last HDU or the file is corrupted. [astropy.io.fits.hdu.hdulist]\n"
     ]
    },
    {
     "name": "stdout",
     "output_type": "stream",
     "text": [
      "u,g,r,i,z,Y\n",
      "24.0103,20.5748,18.9722,18.2066,17.7517,17.5665\n",
      "woof 0\n",
      "working on  8.95\n"
     ]
    },
    {
     "name": "stderr",
     "output_type": "stream",
     "text": [
      "WARNING: VerifyWarning: Error validating header for HDU #0 (note: Astropy uses zero-based indexing).\n",
      "    Header size is not multiple of 2880: 8131740\n",
      "There may be extra bytes after the last HDU or the file is corrupted. [astropy.io.fits.hdu.hdulist]\n"
     ]
    },
    {
     "name": "stdout",
     "output_type": "stream",
     "text": [
      "u,g,r,i,z,Y\n",
      "23.8076,20.5764,19.0184,18.3214,17.8249,17.5932\n",
      "woof 0\n",
      "working on  9.05\n"
     ]
    },
    {
     "name": "stderr",
     "output_type": "stream",
     "text": [
      "WARNING: VerifyWarning: Error validating header for HDU #0 (note: Astropy uses zero-based indexing).\n",
      "    Header size is not multiple of 2880: 8132654\n",
      "There may be extra bytes after the last HDU or the file is corrupted. [astropy.io.fits.hdu.hdulist]\n"
     ]
    },
    {
     "name": "stdout",
     "output_type": "stream",
     "text": [
      "u,g,r,i,z,Y\n",
      "24.4797,21.0254,19.4722,18.7453,18.1172,17.7879\n",
      "woof 0\n",
      "working on  9.150001\n"
     ]
    },
    {
     "name": "stderr",
     "output_type": "stream",
     "text": [
      "WARNING: VerifyWarning: Error validating header for HDU #0 (note: Astropy uses zero-based indexing).\n",
      "    Header size is not multiple of 2880: 8130277\n",
      "There may be extra bytes after the last HDU or the file is corrupted. [astropy.io.fits.hdu.hdulist]\n"
     ]
    },
    {
     "name": "stdout",
     "output_type": "stream",
     "text": [
      "u,g,r,i,z,Y\n",
      "25.5757,21.7270,20.0047,19.1118,18.3274,17.9803\n",
      "woof 0\n",
      "working on  9.25\n"
     ]
    },
    {
     "name": "stderr",
     "output_type": "stream",
     "text": [
      "WARNING: VerifyWarning: Error validating header for HDU #0 (note: Astropy uses zero-based indexing).\n",
      "    Header size is not multiple of 2880: 8099498\n",
      "There may be extra bytes after the last HDU or the file is corrupted. [astropy.io.fits.hdu.hdulist]\n"
     ]
    },
    {
     "name": "stdout",
     "output_type": "stream",
     "text": [
      "u,g,r,i,z,Y\n",
      "25.7373,22.5782,20.5676,19.3935,18.5143,18.1741\n",
      "woof 0\n",
      "working on  9.349999\n"
     ]
    },
    {
     "name": "stderr",
     "output_type": "stream",
     "text": [
      "WARNING: VerifyWarning: Error validating header for HDU #0 (note: Astropy uses zero-based indexing).\n",
      "    Header size is not multiple of 2880: 8112872\n",
      "There may be extra bytes after the last HDU or the file is corrupted. [astropy.io.fits.hdu.hdulist]\n"
     ]
    },
    {
     "name": "stdout",
     "output_type": "stream",
     "text": [
      "u,g,r,i,z,Y\n",
      "27.6586,23.4449,21.0110,19.5532,18.5549,18.1014\n",
      "woof 0\n",
      "working on  9.45\n"
     ]
    },
    {
     "name": "stderr",
     "output_type": "stream",
     "text": [
      "WARNING: VerifyWarning: Error validating header for HDU #0 (note: Astropy uses zero-based indexing).\n",
      "    Header size is not multiple of 2880: 8091194\n",
      "There may be extra bytes after the last HDU or the file is corrupted. [astropy.io.fits.hdu.hdulist]\n"
     ]
    },
    {
     "name": "stdout",
     "output_type": "stream",
     "text": [
      "u,g,r,i,z,Y\n",
      "27.4300,24.2343,21.1642,19.5946,18.5533,18.1303\n",
      "woof 0\n",
      "working on  9.55\n"
     ]
    },
    {
     "name": "stderr",
     "output_type": "stream",
     "text": [
      "WARNING: VerifyWarning: Error validating header for HDU #0 (note: Astropy uses zero-based indexing).\n",
      "    Header size is not multiple of 2880: 8039826\n",
      "There may be extra bytes after the last HDU or the file is corrupted. [astropy.io.fits.hdu.hdulist]\n"
     ]
    },
    {
     "name": "stdout",
     "output_type": "stream",
     "text": [
      "u,g,r,i,z,Y\n",
      "27.6714,24.8137,21.1761,19.5963,18.5800,18.1864\n",
      "woof 0\n",
      "working on  9.650001\n"
     ]
    },
    {
     "name": "stderr",
     "output_type": "stream",
     "text": [
      "WARNING: VerifyWarning: Error validating header for HDU #0 (note: Astropy uses zero-based indexing).\n",
      "    Header size is not multiple of 2880: 8054397\n",
      "There may be extra bytes after the last HDU or the file is corrupted. [astropy.io.fits.hdu.hdulist]\n"
     ]
    },
    {
     "name": "stdout",
     "output_type": "stream",
     "text": [
      "u,g,r,i,z,Y\n",
      "29.0725,23.9773,21.2764,19.6216,18.6089,18.1964\n",
      "woof 0\n",
      "working on  9.75\n"
     ]
    },
    {
     "name": "stderr",
     "output_type": "stream",
     "text": [
      "WARNING: VerifyWarning: Error validating header for HDU #0 (note: Astropy uses zero-based indexing).\n",
      "    Header size is not multiple of 2880: 8071488\n",
      "There may be extra bytes after the last HDU or the file is corrupted. [astropy.io.fits.hdu.hdulist]\n"
     ]
    },
    {
     "name": "stdout",
     "output_type": "stream",
     "text": [
      "u,g,r,i,z,Y\n",
      "31.8413,24.7232,21.1627,19.6715,18.7089,18.1887\n",
      "woof 0\n",
      "working on  9.849999\n"
     ]
    },
    {
     "name": "stderr",
     "output_type": "stream",
     "text": [
      "WARNING: VerifyWarning: Error validating header for HDU #0 (note: Astropy uses zero-based indexing).\n",
      "    Header size is not multiple of 2880: 8020114\n",
      "There may be extra bytes after the last HDU or the file is corrupted. [astropy.io.fits.hdu.hdulist]\n"
     ]
    },
    {
     "name": "stdout",
     "output_type": "stream",
     "text": [
      "u,g,r,i,z,Y\n",
      "-9999.0000,24.6891,21.3468,19.6459,18.6584,18.2056\n",
      "woof 0\n",
      "working on  9.95\n"
     ]
    },
    {
     "name": "stderr",
     "output_type": "stream",
     "text": [
      "WARNING: VerifyWarning: Error validating header for HDU #0 (note: Astropy uses zero-based indexing).\n",
      "    Header size is not multiple of 2880: 8055578\n",
      "There may be extra bytes after the last HDU or the file is corrupted. [astropy.io.fits.hdu.hdulist]\n"
     ]
    },
    {
     "name": "stdout",
     "output_type": "stream",
     "text": [
      "u,g,r,i,z,Y\n",
      "-9999.0000,24.7033,21.3637,19.7759,18.8298,18.3587\n",
      "woof 0\n",
      "working on  10.05\n"
     ]
    },
    {
     "name": "stderr",
     "output_type": "stream",
     "text": [
      "WARNING: VerifyWarning: Error validating header for HDU #0 (note: Astropy uses zero-based indexing).\n",
      "    Header size is not multiple of 2880: 8054522\n",
      "There may be extra bytes after the last HDU or the file is corrupted. [astropy.io.fits.hdu.hdulist]\n"
     ]
    },
    {
     "name": "stdout",
     "output_type": "stream",
     "text": [
      "u,g,r,i,z,Y\n",
      "28.9220,24.4311,21.2672,19.7254,18.7503,18.3094\n",
      "woof 0\n",
      "working on  10.150001\n"
     ]
    },
    {
     "name": "stderr",
     "output_type": "stream",
     "text": [
      "WARNING: VerifyWarning: Error validating header for HDU #0 (note: Astropy uses zero-based indexing).\n",
      "    Header size is not multiple of 2880: 8043769\n",
      "There may be extra bytes after the last HDU or the file is corrupted. [astropy.io.fits.hdu.hdulist]\n"
     ]
    },
    {
     "name": "stdout",
     "output_type": "stream",
     "text": [
      "u,g,r,i,z,Y\n",
      "-9999.0000,24.7481,21.2930,19.7055,18.9061,18.4412\n",
      "woof 0\n",
      "working on  10.25\n"
     ]
    },
    {
     "name": "stderr",
     "output_type": "stream",
     "text": [
      "WARNING: VerifyWarning: Error validating header for HDU #0 (note: Astropy uses zero-based indexing).\n",
      "    Header size is not multiple of 2880: 8050912\n",
      "There may be extra bytes after the last HDU or the file is corrupted. [astropy.io.fits.hdu.hdulist]\n"
     ]
    },
    {
     "name": "stdout",
     "output_type": "stream",
     "text": [
      "u,g,r,i,z,Y\n",
      "-9999.0000,24.3479,21.2916,19.6022,18.8954,18.4263\n",
      "woof 0\n",
      "working on  10.349999\n"
     ]
    },
    {
     "name": "stderr",
     "output_type": "stream",
     "text": [
      "WARNING: VerifyWarning: Error validating header for HDU #0 (note: Astropy uses zero-based indexing).\n",
      "    Header size is not multiple of 2880: 8042344\n",
      "There may be extra bytes after the last HDU or the file is corrupted. [astropy.io.fits.hdu.hdulist]\n"
     ]
    },
    {
     "name": "stdout",
     "output_type": "stream",
     "text": [
      "u,g,r,i,z,Y\n",
      "-9999.0000,24.4648,21.3587,19.6985,18.8782,18.4716\n",
      "woof 0\n",
      "working on  10.45\n"
     ]
    },
    {
     "name": "stderr",
     "output_type": "stream",
     "text": [
      "WARNING: VerifyWarning: Error validating header for HDU #0 (note: Astropy uses zero-based indexing).\n",
      "    Header size is not multiple of 2880: 8032885\n",
      "There may be extra bytes after the last HDU or the file is corrupted. [astropy.io.fits.hdu.hdulist]\n"
     ]
    },
    {
     "name": "stdout",
     "output_type": "stream",
     "text": [
      "u,g,r,i,z,Y\n",
      "-9999.0000,25.0269,21.3691,19.7404,18.9897,18.5972\n",
      "woof 0\n",
      "working on  10.55\n"
     ]
    },
    {
     "name": "stderr",
     "output_type": "stream",
     "text": [
      "WARNING: VerifyWarning: Error validating header for HDU #0 (note: Astropy uses zero-based indexing).\n",
      "    Header size is not multiple of 2880: 8018552\n",
      "There may be extra bytes after the last HDU or the file is corrupted. [astropy.io.fits.hdu.hdulist]\n"
     ]
    },
    {
     "name": "stdout",
     "output_type": "stream",
     "text": [
      "u,g,r,i,z,Y\n",
      "-9999.0000,24.4900,21.2989,19.6800,18.8768,18.5712\n",
      "woof 0\n",
      "working on  10.650001\n"
     ]
    },
    {
     "name": "stderr",
     "output_type": "stream",
     "text": [
      "WARNING: VerifyWarning: Error validating header for HDU #0 (note: Astropy uses zero-based indexing).\n",
      "    Header size is not multiple of 2880: 8040509\n",
      "There may be extra bytes after the last HDU or the file is corrupted. [astropy.io.fits.hdu.hdulist]\n"
     ]
    },
    {
     "name": "stdout",
     "output_type": "stream",
     "text": [
      "u,g,r,i,z,Y\n",
      "27.0822,24.4052,21.3903,19.6965,18.9768,18.5674\n",
      "woof 0\n",
      "working on  10.75\n"
     ]
    },
    {
     "name": "stderr",
     "output_type": "stream",
     "text": [
      "WARNING: VerifyWarning: Error validating header for HDU #0 (note: Astropy uses zero-based indexing).\n",
      "    Header size is not multiple of 2880: 8036207\n",
      "There may be extra bytes after the last HDU or the file is corrupted. [astropy.io.fits.hdu.hdulist]\n"
     ]
    },
    {
     "name": "stdout",
     "output_type": "stream",
     "text": [
      "u,g,r,i,z,Y\n",
      "-9999.0000,24.9203,21.3317,19.7049,18.9863,18.6017\n",
      "woof 0\n",
      "working on  10.849999\n"
     ]
    },
    {
     "name": "stderr",
     "output_type": "stream",
     "text": [
      "WARNING: VerifyWarning: Error validating header for HDU #0 (note: Astropy uses zero-based indexing).\n",
      "    Header size is not multiple of 2880: 8045459\n",
      "There may be extra bytes after the last HDU or the file is corrupted. [astropy.io.fits.hdu.hdulist]\n"
     ]
    },
    {
     "name": "stdout",
     "output_type": "stream",
     "text": [
      "u,g,r,i,z,Y\n",
      "-9999.0000,24.5937,21.3870,19.7354,19.0895,18.8123\n",
      "woof 0\n",
      "working on  10.95\n"
     ]
    },
    {
     "name": "stderr",
     "output_type": "stream",
     "text": [
      "WARNING: VerifyWarning: Error validating header for HDU #0 (note: Astropy uses zero-based indexing).\n",
      "    Header size is not multiple of 2880: 8026346\n",
      "There may be extra bytes after the last HDU or the file is corrupted. [astropy.io.fits.hdu.hdulist]\n"
     ]
    },
    {
     "name": "stdout",
     "output_type": "stream",
     "text": [
      "u,g,r,i,z,Y\n",
      "-9999.0000,24.4297,21.4132,19.7303,19.0668,18.7838\n",
      "woof 0\n",
      "working on  11.05\n"
     ]
    },
    {
     "name": "stderr",
     "output_type": "stream",
     "text": [
      "WARNING: VerifyWarning: Error validating header for HDU #0 (note: Astropy uses zero-based indexing).\n",
      "    Header size is not multiple of 2880: 8030933\n",
      "There may be extra bytes after the last HDU or the file is corrupted. [astropy.io.fits.hdu.hdulist]\n"
     ]
    },
    {
     "name": "stdout",
     "output_type": "stream",
     "text": [
      "u,g,r,i,z,Y\n",
      "-9999.0000,25.0020,21.5063,19.7673,19.0421,18.7378\n",
      "woof 0\n",
      "working on  11.150001\n"
     ]
    },
    {
     "name": "stderr",
     "output_type": "stream",
     "text": [
      "WARNING: VerifyWarning: Error validating header for HDU #0 (note: Astropy uses zero-based indexing).\n",
      "    Header size is not multiple of 2880: 8033968\n",
      "There may be extra bytes after the last HDU or the file is corrupted. [astropy.io.fits.hdu.hdulist]\n"
     ]
    },
    {
     "name": "stdout",
     "output_type": "stream",
     "text": [
      "u,g,r,i,z,Y\n",
      "-9999.0000,24.2213,21.4415,19.7932,19.0873,18.7739\n",
      "woof 0\n",
      "working on  11.25\n"
     ]
    },
    {
     "name": "stderr",
     "output_type": "stream",
     "text": [
      "WARNING: VerifyWarning: Error validating header for HDU #0 (note: Astropy uses zero-based indexing).\n",
      "    Header size is not multiple of 2880: 8034553\n",
      "There may be extra bytes after the last HDU or the file is corrupted. [astropy.io.fits.hdu.hdulist]\n"
     ]
    },
    {
     "name": "stdout",
     "output_type": "stream",
     "text": [
      "u,g,r,i,z,Y\n",
      "-9999.0000,24.6294,21.5586,19.7361,19.1866,18.9618\n",
      "woof 0\n",
      "working on  11.349999\n"
     ]
    },
    {
     "name": "stderr",
     "output_type": "stream",
     "text": [
      "WARNING: VerifyWarning: Error validating header for HDU #0 (note: Astropy uses zero-based indexing).\n",
      "    Header size is not multiple of 2880: 8014382\n",
      "There may be extra bytes after the last HDU or the file is corrupted. [astropy.io.fits.hdu.hdulist]\n"
     ]
    },
    {
     "name": "stdout",
     "output_type": "stream",
     "text": [
      "u,g,r,i,z,Y\n",
      "-9999.0000,24.5514,21.5441,19.8072,19.2531,18.9479\n",
      "woof 0\n",
      "working on  11.45\n"
     ]
    },
    {
     "name": "stderr",
     "output_type": "stream",
     "text": [
      "WARNING: VerifyWarning: Error validating header for HDU #0 (note: Astropy uses zero-based indexing).\n",
      "    Header size is not multiple of 2880: 8028128\n",
      "There may be extra bytes after the last HDU or the file is corrupted. [astropy.io.fits.hdu.hdulist]\n"
     ]
    },
    {
     "name": "stdout",
     "output_type": "stream",
     "text": [
      "u,g,r,i,z,Y\n",
      "-9999.0000,24.6820,21.4965,19.8739,19.2540,18.9920\n",
      "woof 0\n",
      "working on  11.55\n"
     ]
    },
    {
     "name": "stderr",
     "output_type": "stream",
     "text": [
      "WARNING: VerifyWarning: Error validating header for HDU #0 (note: Astropy uses zero-based indexing).\n",
      "    Header size is not multiple of 2880: 8003593\n",
      "There may be extra bytes after the last HDU or the file is corrupted. [astropy.io.fits.hdu.hdulist]\n"
     ]
    },
    {
     "name": "stdout",
     "output_type": "stream",
     "text": [
      "u,g,r,i,z,Y\n",
      "-9999.0000,24.9701,21.6333,19.8347,19.2499,19.0396\n",
      "woof 0\n",
      "working on  11.650001\n"
     ]
    },
    {
     "name": "stderr",
     "output_type": "stream",
     "text": [
      "WARNING: VerifyWarning: Error validating header for HDU #0 (note: Astropy uses zero-based indexing).\n",
      "    Header size is not multiple of 2880: 8039975\n",
      "There may be extra bytes after the last HDU or the file is corrupted. [astropy.io.fits.hdu.hdulist]\n"
     ]
    },
    {
     "name": "stdout",
     "output_type": "stream",
     "text": [
      "u,g,r,i,z,Y\n",
      "-9999.0000,24.3328,21.5777,19.9113,19.3113,19.1130\n",
      "woof 0\n",
      "working on  11.75\n"
     ]
    },
    {
     "name": "stderr",
     "output_type": "stream",
     "text": [
      "WARNING: VerifyWarning: Error validating header for HDU #0 (note: Astropy uses zero-based indexing).\n",
      "    Header size is not multiple of 2880: 8047458\n",
      "There may be extra bytes after the last HDU or the file is corrupted. [astropy.io.fits.hdu.hdulist]\n"
     ]
    },
    {
     "name": "stdout",
     "output_type": "stream",
     "text": [
      "u,g,r,i,z,Y\n",
      "-9999.0000,24.2789,21.4827,19.8302,19.2851,19.1555\n",
      "woof 0\n",
      "working on  11.849999\n"
     ]
    },
    {
     "name": "stderr",
     "output_type": "stream",
     "text": [
      "WARNING: VerifyWarning: Error validating header for HDU #0 (note: Astropy uses zero-based indexing).\n",
      "    Header size is not multiple of 2880: 8018976\n",
      "There may be extra bytes after the last HDU or the file is corrupted. [astropy.io.fits.hdu.hdulist]\n"
     ]
    },
    {
     "name": "stdout",
     "output_type": "stream",
     "text": [
      "u,g,r,i,z,Y\n",
      "-9999.0000,24.6326,21.5264,19.7886,19.3610,19.1857\n",
      "woof 0\n",
      "working on  11.95\n"
     ]
    },
    {
     "name": "stderr",
     "output_type": "stream",
     "text": [
      "WARNING: VerifyWarning: Error validating header for HDU #0 (note: Astropy uses zero-based indexing).\n",
      "    Header size is not multiple of 2880: 8036822\n",
      "There may be extra bytes after the last HDU or the file is corrupted. [astropy.io.fits.hdu.hdulist]\n"
     ]
    },
    {
     "name": "stdout",
     "output_type": "stream",
     "text": [
      "u,g,r,i,z,Y\n",
      "-9999.0000,24.3164,21.6657,19.8566,19.3652,19.2234\n",
      "woof 0\n",
      "working on  12.05\n"
     ]
    },
    {
     "name": "stderr",
     "output_type": "stream",
     "text": [
      "WARNING: VerifyWarning: Error validating header for HDU #0 (note: Astropy uses zero-based indexing).\n",
      "    Header size is not multiple of 2880: 8008199\n",
      "There may be extra bytes after the last HDU or the file is corrupted. [astropy.io.fits.hdu.hdulist]\n"
     ]
    },
    {
     "name": "stdout",
     "output_type": "stream",
     "text": [
      "u,g,r,i,z,Y\n",
      "-9999.0000,24.3842,21.5714,19.8313,19.3474,19.1104\n",
      "woof 0\n",
      "working on  12.150001\n"
     ]
    },
    {
     "name": "stderr",
     "output_type": "stream",
     "text": [
      "WARNING: VerifyWarning: Error validating header for HDU #0 (note: Astropy uses zero-based indexing).\n",
      "    Header size is not multiple of 2880: 8023050\n",
      "There may be extra bytes after the last HDU or the file is corrupted. [astropy.io.fits.hdu.hdulist]\n"
     ]
    },
    {
     "name": "stdout",
     "output_type": "stream",
     "text": [
      "u,g,r,i,z,Y\n",
      "-9999.0000,24.4195,21.6867,19.9092,19.2942,19.1506\n",
      "woof 0\n",
      "working on  12.25\n"
     ]
    },
    {
     "name": "stderr",
     "output_type": "stream",
     "text": [
      "WARNING: VerifyWarning: Error validating header for HDU #0 (note: Astropy uses zero-based indexing).\n",
      "    Header size is not multiple of 2880: 8000567\n",
      "There may be extra bytes after the last HDU or the file is corrupted. [astropy.io.fits.hdu.hdulist]\n"
     ]
    },
    {
     "name": "stdout",
     "output_type": "stream",
     "text": [
      "u,g,r,i,z,Y\n",
      "-9999.0000,24.7348,21.4512,19.8829,19.4563,19.3163\n",
      "woof 0\n",
      "working on  12.349999\n"
     ]
    },
    {
     "name": "stderr",
     "output_type": "stream",
     "text": [
      "WARNING: VerifyWarning: Error validating header for HDU #0 (note: Astropy uses zero-based indexing).\n",
      "    Header size is not multiple of 2880: 7984714\n",
      "There may be extra bytes after the last HDU or the file is corrupted. [astropy.io.fits.hdu.hdulist]\n"
     ]
    },
    {
     "name": "stdout",
     "output_type": "stream",
     "text": [
      "u,g,r,i,z,Y\n",
      "27.4881,24.4547,21.7001,19.8492,19.3508,19.3747\n",
      "woof 0\n",
      "working on  12.45\n"
     ]
    },
    {
     "name": "stderr",
     "output_type": "stream",
     "text": [
      "WARNING: VerifyWarning: Error validating header for HDU #0 (note: Astropy uses zero-based indexing).\n",
      "    Header size is not multiple of 2880: 8037257\n",
      "There may be extra bytes after the last HDU or the file is corrupted. [astropy.io.fits.hdu.hdulist]\n"
     ]
    },
    {
     "name": "stdout",
     "output_type": "stream",
     "text": [
      "u,g,r,i,z,Y\n",
      "-9999.0000,24.8823,21.6421,19.8722,19.4709,19.3947\n",
      "woof 0\n",
      "working on  12.55\n"
     ]
    },
    {
     "name": "stderr",
     "output_type": "stream",
     "text": [
      "WARNING: VerifyWarning: Error validating header for HDU #0 (note: Astropy uses zero-based indexing).\n",
      "    Header size is not multiple of 2880: 8021799\n",
      "There may be extra bytes after the last HDU or the file is corrupted. [astropy.io.fits.hdu.hdulist]\n"
     ]
    },
    {
     "name": "stdout",
     "output_type": "stream",
     "text": [
      "u,g,r,i,z,Y\n",
      "-9999.0000,24.5436,21.5820,19.9193,19.5007,19.3963\n",
      "woof 0\n",
      "working on  12.650001\n"
     ]
    },
    {
     "name": "stderr",
     "output_type": "stream",
     "text": [
      "WARNING: VerifyWarning: Error validating header for HDU #0 (note: Astropy uses zero-based indexing).\n",
      "    Header size is not multiple of 2880: 7988157\n",
      "There may be extra bytes after the last HDU or the file is corrupted. [astropy.io.fits.hdu.hdulist]\n"
     ]
    },
    {
     "name": "stdout",
     "output_type": "stream",
     "text": [
      "u,g,r,i,z,Y\n",
      "-9999.0000,24.6063,21.6479,19.9609,19.4561,19.4509\n",
      "woof 0\n",
      "working on  12.75\n"
     ]
    },
    {
     "name": "stderr",
     "output_type": "stream",
     "text": [
      "WARNING: VerifyWarning: Error validating header for HDU #0 (note: Astropy uses zero-based indexing).\n",
      "    Header size is not multiple of 2880: 7983983\n",
      "There may be extra bytes after the last HDU or the file is corrupted. [astropy.io.fits.hdu.hdulist]\n"
     ]
    },
    {
     "name": "stdout",
     "output_type": "stream",
     "text": [
      "u,g,r,i,z,Y\n",
      "-9999.0000,24.9555,21.6255,19.9587,19.5342,19.5833\n",
      "woof 0\n",
      "working on  12.849999\n"
     ]
    },
    {
     "name": "stderr",
     "output_type": "stream",
     "text": [
      "WARNING: VerifyWarning: Error validating header for HDU #0 (note: Astropy uses zero-based indexing).\n",
      "    Header size is not multiple of 2880: 7996761\n",
      "There may be extra bytes after the last HDU or the file is corrupted. [astropy.io.fits.hdu.hdulist]\n"
     ]
    },
    {
     "name": "stdout",
     "output_type": "stream",
     "text": [
      "u,g,r,i,z,Y\n",
      "33.4210,24.6755,21.5529,19.9570,19.4647,19.4140\n",
      "woof 0\n",
      "working on  12.95\n"
     ]
    },
    {
     "name": "stderr",
     "output_type": "stream",
     "text": [
      "WARNING: VerifyWarning: Error validating header for HDU #0 (note: Astropy uses zero-based indexing).\n",
      "    Header size is not multiple of 2880: 7992551\n",
      "There may be extra bytes after the last HDU or the file is corrupted. [astropy.io.fits.hdu.hdulist]\n"
     ]
    },
    {
     "name": "stdout",
     "output_type": "stream",
     "text": [
      "u,g,r,i,z,Y\n",
      "-9999.0000,24.9992,21.6557,19.9384,19.5407,19.5629\n",
      "woof 0\n",
      "working on  13.05\n"
     ]
    },
    {
     "name": "stderr",
     "output_type": "stream",
     "text": [
      "WARNING: VerifyWarning: Error validating header for HDU #0 (note: Astropy uses zero-based indexing).\n",
      "    Header size is not multiple of 2880: 8030772\n",
      "There may be extra bytes after the last HDU or the file is corrupted. [astropy.io.fits.hdu.hdulist]\n"
     ]
    },
    {
     "name": "stdout",
     "output_type": "stream",
     "text": [
      "u,g,r,i,z,Y\n",
      "-9999.0000,25.2950,21.7328,19.9658,19.5000,19.5528\n",
      "woof 0\n",
      "working on  13.150001\n"
     ]
    },
    {
     "name": "stderr",
     "output_type": "stream",
     "text": [
      "WARNING: VerifyWarning: Error validating header for HDU #0 (note: Astropy uses zero-based indexing).\n",
      "    Header size is not multiple of 2880: 7940879\n",
      "There may be extra bytes after the last HDU or the file is corrupted. [astropy.io.fits.hdu.hdulist]\n"
     ]
    },
    {
     "name": "stdout",
     "output_type": "stream",
     "text": [
      "u,g,r,i,z,Y\n",
      "-9999.0000,24.5149,21.6890,20.0047,19.4994,19.5043\n",
      "woof 0\n",
      "working on  13.25\n"
     ]
    },
    {
     "name": "stderr",
     "output_type": "stream",
     "text": [
      "WARNING: VerifyWarning: Error validating header for HDU #0 (note: Astropy uses zero-based indexing).\n",
      "    Header size is not multiple of 2880: 8046231\n",
      "There may be extra bytes after the last HDU or the file is corrupted. [astropy.io.fits.hdu.hdulist]\n"
     ]
    },
    {
     "name": "stdout",
     "output_type": "stream",
     "text": [
      "u,g,r,i,z,Y\n",
      "-9999.0000,24.5925,21.8406,19.9886,19.5588,19.6658\n",
      "woof 0\n",
      "working on  13.349999\n"
     ]
    },
    {
     "name": "stderr",
     "output_type": "stream",
     "text": [
      "WARNING: VerifyWarning: Error validating header for HDU #0 (note: Astropy uses zero-based indexing).\n",
      "    Header size is not multiple of 2880: 7993378\n",
      "There may be extra bytes after the last HDU or the file is corrupted. [astropy.io.fits.hdu.hdulist]\n"
     ]
    },
    {
     "name": "stdout",
     "output_type": "stream",
     "text": [
      "u,g,r,i,z,Y\n",
      "-9999.0000,24.4483,21.6486,19.9695,19.6047,19.6548\n",
      "woof 0\n",
      "working on  13.45\n"
     ]
    },
    {
     "name": "stderr",
     "output_type": "stream",
     "text": [
      "WARNING: VerifyWarning: Error validating header for HDU #0 (note: Astropy uses zero-based indexing).\n",
      "    Header size is not multiple of 2880: 7975998\n",
      "There may be extra bytes after the last HDU or the file is corrupted. [astropy.io.fits.hdu.hdulist]\n"
     ]
    },
    {
     "name": "stdout",
     "output_type": "stream",
     "text": [
      "u,g,r,i,z,Y\n",
      "-9999.0000,24.5717,21.7419,19.9929,19.5656,19.6487\n",
      "woof 0\n",
      "working on  13.55\n"
     ]
    },
    {
     "name": "stderr",
     "output_type": "stream",
     "text": [
      "WARNING: VerifyWarning: Error validating header for HDU #0 (note: Astropy uses zero-based indexing).\n",
      "    Header size is not multiple of 2880: 8047662\n",
      "There may be extra bytes after the last HDU or the file is corrupted. [astropy.io.fits.hdu.hdulist]\n"
     ]
    },
    {
     "name": "stdout",
     "output_type": "stream",
     "text": [
      "u,g,r,i,z,Y\n",
      "-9999.0000,24.7696,21.8039,20.0269,19.5746,19.6714\n",
      "woof 0\n",
      "working on  13.650001\n"
     ]
    },
    {
     "name": "stderr",
     "output_type": "stream",
     "text": [
      "WARNING: VerifyWarning: Error validating header for HDU #0 (note: Astropy uses zero-based indexing).\n",
      "    Header size is not multiple of 2880: 8032851\n",
      "There may be extra bytes after the last HDU or the file is corrupted. [astropy.io.fits.hdu.hdulist]\n"
     ]
    },
    {
     "name": "stdout",
     "output_type": "stream",
     "text": [
      "u,g,r,i,z,Y\n",
      "34.9659,24.4803,21.8201,20.0394,19.6366,19.7347\n",
      "woof 0\n",
      "working on  13.75\n"
     ]
    },
    {
     "name": "stderr",
     "output_type": "stream",
     "text": [
      "WARNING: VerifyWarning: Error validating header for HDU #0 (note: Astropy uses zero-based indexing).\n",
      "    Header size is not multiple of 2880: 8058666\n",
      "There may be extra bytes after the last HDU or the file is corrupted. [astropy.io.fits.hdu.hdulist]\n"
     ]
    },
    {
     "name": "stdout",
     "output_type": "stream",
     "text": [
      "u,g,r,i,z,Y\n",
      "37.2100,24.3587,21.8421,20.1433,19.6360,19.7114\n",
      "woof 0\n",
      "working on  13.849999\n"
     ]
    },
    {
     "name": "stderr",
     "output_type": "stream",
     "text": [
      "WARNING: VerifyWarning: Error validating header for HDU #0 (note: Astropy uses zero-based indexing).\n",
      "    Header size is not multiple of 2880: 8038428\n",
      "There may be extra bytes after the last HDU or the file is corrupted. [astropy.io.fits.hdu.hdulist]\n"
     ]
    },
    {
     "name": "stdout",
     "output_type": "stream",
     "text": [
      "u,g,r,i,z,Y\n",
      "-9999.0000,24.7670,21.9121,20.0587,19.6175,19.7222\n",
      "woof 0\n",
      "working on  13.95\n"
     ]
    },
    {
     "name": "stderr",
     "output_type": "stream",
     "text": [
      "WARNING: VerifyWarning: Error validating header for HDU #0 (note: Astropy uses zero-based indexing).\n",
      "    Header size is not multiple of 2880: 8010070\n",
      "There may be extra bytes after the last HDU or the file is corrupted. [astropy.io.fits.hdu.hdulist]\n"
     ]
    },
    {
     "name": "stdout",
     "output_type": "stream",
     "text": [
      "u,g,r,i,z,Y\n",
      "32.1419,24.6396,21.8327,20.0998,19.6710,19.7758\n",
      "woof 0\n",
      "working on  14.05\n"
     ]
    },
    {
     "name": "stderr",
     "output_type": "stream",
     "text": [
      "WARNING: VerifyWarning: Error validating header for HDU #0 (note: Astropy uses zero-based indexing).\n",
      "    Header size is not multiple of 2880: 8005336\n",
      "There may be extra bytes after the last HDU or the file is corrupted. [astropy.io.fits.hdu.hdulist]\n"
     ]
    },
    {
     "name": "stdout",
     "output_type": "stream",
     "text": [
      "u,g,r,i,z,Y\n",
      "-9999.0000,24.5204,21.8733,20.1314,19.7173,19.7405\n",
      "woof 0\n",
      "working on  14.150001\n"
     ]
    },
    {
     "name": "stderr",
     "output_type": "stream",
     "text": [
      "WARNING: VerifyWarning: Error validating header for HDU #0 (note: Astropy uses zero-based indexing).\n",
      "    Header size is not multiple of 2880: 8039767\n",
      "There may be extra bytes after the last HDU or the file is corrupted. [astropy.io.fits.hdu.hdulist]\n"
     ]
    },
    {
     "name": "stdout",
     "output_type": "stream",
     "text": [
      "u,g,r,i,z,Y\n",
      "-9999.0000,24.5188,21.9099,20.1810,19.7386,19.8251\n",
      "woof 0\n",
      "working on  14.25\n"
     ]
    },
    {
     "name": "stderr",
     "output_type": "stream",
     "text": [
      "WARNING: VerifyWarning: Error validating header for HDU #0 (note: Astropy uses zero-based indexing).\n",
      "    Header size is not multiple of 2880: 8053458\n",
      "There may be extra bytes after the last HDU or the file is corrupted. [astropy.io.fits.hdu.hdulist]\n"
     ]
    },
    {
     "name": "stdout",
     "output_type": "stream",
     "text": [
      "u,g,r,i,z,Y\n",
      "-9999.0000,24.4645,21.9332,20.1617,19.6659,19.8325\n",
      "woof 0\n",
      "working on  14.349999\n"
     ]
    },
    {
     "name": "stderr",
     "output_type": "stream",
     "text": [
      "WARNING: VerifyWarning: Error validating header for HDU #0 (note: Astropy uses zero-based indexing).\n",
      "    Header size is not multiple of 2880: 8051973\n",
      "There may be extra bytes after the last HDU or the file is corrupted. [astropy.io.fits.hdu.hdulist]\n"
     ]
    },
    {
     "name": "stdout",
     "output_type": "stream",
     "text": [
      "u,g,r,i,z,Y\n",
      "37.2107,24.6208,21.9637,20.1911,19.6639,19.8709\n",
      "woof 0\n",
      "working on  14.45\n"
     ]
    },
    {
     "name": "stderr",
     "output_type": "stream",
     "text": [
      "WARNING: VerifyWarning: Error validating header for HDU #0 (note: Astropy uses zero-based indexing).\n",
      "    Header size is not multiple of 2880: 8011945\n",
      "There may be extra bytes after the last HDU or the file is corrupted. [astropy.io.fits.hdu.hdulist]\n"
     ]
    },
    {
     "name": "stdout",
     "output_type": "stream",
     "text": [
      "u,g,r,i,z,Y\n",
      "-9999.0000,24.3686,22.0472,20.1967,19.7874,19.8568\n",
      "woof 0\n",
      "working on  14.55\n"
     ]
    },
    {
     "name": "stderr",
     "output_type": "stream",
     "text": [
      "WARNING: VerifyWarning: Error validating header for HDU #0 (note: Astropy uses zero-based indexing).\n",
      "    Header size is not multiple of 2880: 8024898\n",
      "There may be extra bytes after the last HDU or the file is corrupted. [astropy.io.fits.hdu.hdulist]\n"
     ]
    },
    {
     "name": "stdout",
     "output_type": "stream",
     "text": [
      "u,g,r,i,z,Y\n",
      "-9999.0000,24.7326,21.8885,20.2190,19.7932,19.8780\n",
      "woof 0\n",
      "working on  14.650001\n"
     ]
    },
    {
     "name": "stderr",
     "output_type": "stream",
     "text": [
      "WARNING: VerifyWarning: Error validating header for HDU #0 (note: Astropy uses zero-based indexing).\n",
      "    Header size is not multiple of 2880: 8020138\n",
      "There may be extra bytes after the last HDU or the file is corrupted. [astropy.io.fits.hdu.hdulist]\n"
     ]
    },
    {
     "name": "stdout",
     "output_type": "stream",
     "text": [
      "u,g,r,i,z,Y\n",
      "-9999.0000,24.7343,22.0309,20.2173,19.7887,19.9244\n",
      "woof 0\n",
      "working on  14.75\n"
     ]
    },
    {
     "name": "stderr",
     "output_type": "stream",
     "text": [
      "WARNING: VerifyWarning: Error validating header for HDU #0 (note: Astropy uses zero-based indexing).\n",
      "    Header size is not multiple of 2880: 8043033\n",
      "There may be extra bytes after the last HDU or the file is corrupted. [astropy.io.fits.hdu.hdulist]\n"
     ]
    },
    {
     "name": "stdout",
     "output_type": "stream",
     "text": [
      "u,g,r,i,z,Y\n",
      "-9999.0000,24.8665,21.9144,20.2153,19.8535,19.9785\n",
      "woof 0\n",
      "working on  14.849999\n"
     ]
    },
    {
     "name": "stderr",
     "output_type": "stream",
     "text": [
      "WARNING: VerifyWarning: Error validating header for HDU #0 (note: Astropy uses zero-based indexing).\n",
      "    Header size is not multiple of 2880: 8046095\n",
      "There may be extra bytes after the last HDU or the file is corrupted. [astropy.io.fits.hdu.hdulist]\n"
     ]
    },
    {
     "name": "stdout",
     "output_type": "stream",
     "text": [
      "u,g,r,i,z,Y\n",
      "33.3156,24.7750,21.9777,20.3267,19.8958,20.0015\n",
      "woof 0\n",
      "working on  14.95\n"
     ]
    },
    {
     "name": "stderr",
     "output_type": "stream",
     "text": [
      "WARNING: VerifyWarning: Error validating header for HDU #0 (note: Astropy uses zero-based indexing).\n",
      "    Header size is not multiple of 2880: 8019668\n",
      "There may be extra bytes after the last HDU or the file is corrupted. [astropy.io.fits.hdu.hdulist]\n"
     ]
    },
    {
     "name": "stdout",
     "output_type": "stream",
     "text": [
      "u,g,r,i,z,Y\n",
      "-9999.0000,24.6231,22.0180,20.3606,19.8622,19.9831\n",
      "woof 0\n",
      "working on  15.05\n"
     ]
    },
    {
     "name": "stderr",
     "output_type": "stream",
     "text": [
      "WARNING: VerifyWarning: Error validating header for HDU #0 (note: Astropy uses zero-based indexing).\n",
      "    Header size is not multiple of 2880: 8046769\n",
      "There may be extra bytes after the last HDU or the file is corrupted. [astropy.io.fits.hdu.hdulist]\n"
     ]
    },
    {
     "name": "stdout",
     "output_type": "stream",
     "text": [
      "u,g,r,i,z,Y\n",
      "-9999.0000,24.7489,22.0596,20.3250,19.9201,19.9933\n",
      "woof 0\n",
      "working on  15.150001\n"
     ]
    },
    {
     "name": "stderr",
     "output_type": "stream",
     "text": [
      "WARNING: VerifyWarning: Error validating header for HDU #0 (note: Astropy uses zero-based indexing).\n",
      "    Header size is not multiple of 2880: 8047308\n",
      "There may be extra bytes after the last HDU or the file is corrupted. [astropy.io.fits.hdu.hdulist]\n"
     ]
    },
    {
     "name": "stdout",
     "output_type": "stream",
     "text": [
      "u,g,r,i,z,Y\n",
      "-9999.0000,24.4457,22.0264,20.3644,19.8524,19.9721\n",
      "woof 0\n",
      "working on  15.25\n"
     ]
    },
    {
     "name": "stderr",
     "output_type": "stream",
     "text": [
      "WARNING: VerifyWarning: Error validating header for HDU #0 (note: Astropy uses zero-based indexing).\n",
      "    Header size is not multiple of 2880: 7979957\n",
      "There may be extra bytes after the last HDU or the file is corrupted. [astropy.io.fits.hdu.hdulist]\n"
     ]
    },
    {
     "name": "stdout",
     "output_type": "stream",
     "text": [
      "u,g,r,i,z,Y\n",
      "-9999.0000,24.7644,22.1031,20.4172,19.9007,20.0356\n",
      "woof 0\n",
      "working on  15.349999\n"
     ]
    },
    {
     "name": "stderr",
     "output_type": "stream",
     "text": [
      "WARNING: VerifyWarning: Error validating header for HDU #0 (note: Astropy uses zero-based indexing).\n",
      "    Header size is not multiple of 2880: 8033747\n",
      "There may be extra bytes after the last HDU or the file is corrupted. [astropy.io.fits.hdu.hdulist]\n"
     ]
    },
    {
     "name": "stdout",
     "output_type": "stream",
     "text": [
      "u,g,r,i,z,Y\n",
      "-9999.0000,24.4782,22.0021,20.3640,20.0558,20.2066\n",
      "woof 0\n",
      "working on  15.45\n"
     ]
    },
    {
     "name": "stderr",
     "output_type": "stream",
     "text": [
      "WARNING: VerifyWarning: Error validating header for HDU #0 (note: Astropy uses zero-based indexing).\n",
      "    Header size is not multiple of 2880: 8042803\n",
      "There may be extra bytes after the last HDU or the file is corrupted. [astropy.io.fits.hdu.hdulist]\n"
     ]
    },
    {
     "name": "stdout",
     "output_type": "stream",
     "text": [
      "u,g,r,i,z,Y\n",
      "-9999.0000,24.7791,22.0177,20.3854,19.9607,20.1345\n",
      "woof 0\n",
      "working on  15.55\n"
     ]
    },
    {
     "name": "stderr",
     "output_type": "stream",
     "text": [
      "WARNING: VerifyWarning: Error validating header for HDU #0 (note: Astropy uses zero-based indexing).\n",
      "    Header size is not multiple of 2880: 8022933\n",
      "There may be extra bytes after the last HDU or the file is corrupted. [astropy.io.fits.hdu.hdulist]\n"
     ]
    },
    {
     "name": "stdout",
     "output_type": "stream",
     "text": [
      "u,g,r,i,z,Y\n",
      "-9999.0000,24.6977,22.2071,20.4275,20.0123,20.2323\n",
      "woof 0\n",
      "working on  15.650001\n"
     ]
    },
    {
     "name": "stderr",
     "output_type": "stream",
     "text": [
      "WARNING: VerifyWarning: Error validating header for HDU #0 (note: Astropy uses zero-based indexing).\n",
      "    Header size is not multiple of 2880: 8039762\n",
      "There may be extra bytes after the last HDU or the file is corrupted. [astropy.io.fits.hdu.hdulist]\n"
     ]
    },
    {
     "name": "stdout",
     "output_type": "stream",
     "text": [
      "u,g,r,i,z,Y\n",
      "-9999.0000,24.5974,21.9981,20.3695,19.9542,20.1303\n",
      "woof 0\n",
      "working on  15.75\n"
     ]
    },
    {
     "name": "stderr",
     "output_type": "stream",
     "text": [
      "WARNING: VerifyWarning: Error validating header for HDU #0 (note: Astropy uses zero-based indexing).\n",
      "    Header size is not multiple of 2880: 8025193\n",
      "There may be extra bytes after the last HDU or the file is corrupted. [astropy.io.fits.hdu.hdulist]\n"
     ]
    },
    {
     "name": "stdout",
     "output_type": "stream",
     "text": [
      "u,g,r,i,z,Y\n",
      "-9999.0000,24.7542,22.1074,20.4470,19.9779,20.1271\n",
      "woof 0\n",
      "working on  15.849999\n"
     ]
    },
    {
     "name": "stderr",
     "output_type": "stream",
     "text": [
      "WARNING: VerifyWarning: Error validating header for HDU #0 (note: Astropy uses zero-based indexing).\n",
      "    Header size is not multiple of 2880: 8004430\n",
      "There may be extra bytes after the last HDU or the file is corrupted. [astropy.io.fits.hdu.hdulist]\n"
     ]
    },
    {
     "name": "stdout",
     "output_type": "stream",
     "text": [
      "u,g,r,i,z,Y\n",
      "-9999.0000,24.5444,22.1305,20.3972,20.0220,20.1175\n",
      "woof 0\n",
      "working on  15.95\n"
     ]
    },
    {
     "name": "stderr",
     "output_type": "stream",
     "text": [
      "WARNING: VerifyWarning: Error validating header for HDU #0 (note: Astropy uses zero-based indexing).\n",
      "    Header size is not multiple of 2880: 8020385\n",
      "There may be extra bytes after the last HDU or the file is corrupted. [astropy.io.fits.hdu.hdulist]\n"
     ]
    },
    {
     "name": "stdout",
     "output_type": "stream",
     "text": [
      "u,g,r,i,z,Y\n",
      "-9999.0000,24.7226,22.2206,20.4198,20.0346,20.2255\n",
      "woof 0\n",
      "working on  16.050001\n"
     ]
    },
    {
     "name": "stderr",
     "output_type": "stream",
     "text": [
      "WARNING: VerifyWarning: Error validating header for HDU #0 (note: Astropy uses zero-based indexing).\n",
      "    Header size is not multiple of 2880: 8009761\n",
      "There may be extra bytes after the last HDU or the file is corrupted. [astropy.io.fits.hdu.hdulist]\n"
     ]
    },
    {
     "name": "stdout",
     "output_type": "stream",
     "text": [
      "u,g,r,i,z,Y\n",
      "-9999.0000,24.7502,22.1513,20.5085,20.1376,20.4347\n",
      "woof 0\n",
      "working on  16.15\n"
     ]
    },
    {
     "name": "stderr",
     "output_type": "stream",
     "text": [
      "WARNING: VerifyWarning: Error validating header for HDU #0 (note: Astropy uses zero-based indexing).\n",
      "    Header size is not multiple of 2880: 7922184\n",
      "There may be extra bytes after the last HDU or the file is corrupted. [astropy.io.fits.hdu.hdulist]\n"
     ]
    },
    {
     "name": "stdout",
     "output_type": "stream",
     "text": [
      "u,g,r,i,z,Y\n",
      "34.9823,24.4852,22.1673,20.5907,20.1510,20.3612\n",
      "woof 0\n",
      "working on  16.25\n"
     ]
    },
    {
     "name": "stderr",
     "output_type": "stream",
     "text": [
      "WARNING: VerifyWarning: Error validating header for HDU #0 (note: Astropy uses zero-based indexing).\n",
      "    Header size is not multiple of 2880: 8004912\n",
      "There may be extra bytes after the last HDU or the file is corrupted. [astropy.io.fits.hdu.hdulist]\n"
     ]
    },
    {
     "name": "stdout",
     "output_type": "stream",
     "text": [
      "u,g,r,i,z,Y\n",
      "-9999.0000,24.6695,22.2301,20.5109,20.1227,20.3453\n",
      "woof 0\n",
      "working on  16.35\n"
     ]
    },
    {
     "name": "stderr",
     "output_type": "stream",
     "text": [
      "WARNING: VerifyWarning: Error validating header for HDU #0 (note: Astropy uses zero-based indexing).\n",
      "    Header size is not multiple of 2880: 7998468\n",
      "There may be extra bytes after the last HDU or the file is corrupted. [astropy.io.fits.hdu.hdulist]\n"
     ]
    },
    {
     "name": "stdout",
     "output_type": "stream",
     "text": [
      "u,g,r,i,z,Y\n",
      "-9999.0000,24.8368,22.0901,20.5559,20.0630,20.3273\n",
      "woof 0\n",
      "working on  16.449999\n"
     ]
    },
    {
     "name": "stderr",
     "output_type": "stream",
     "text": [
      "WARNING: VerifyWarning: Error validating header for HDU #0 (note: Astropy uses zero-based indexing).\n",
      "    Header size is not multiple of 2880: 8049776\n",
      "There may be extra bytes after the last HDU or the file is corrupted. [astropy.io.fits.hdu.hdulist]\n"
     ]
    },
    {
     "name": "stdout",
     "output_type": "stream",
     "text": [
      "u,g,r,i,z,Y\n",
      "-9999.0000,24.6243,22.1556,20.5324,20.1548,20.3379\n",
      "woof 0\n",
      "working on  16.550001\n"
     ]
    },
    {
     "name": "stderr",
     "output_type": "stream",
     "text": [
      "WARNING: VerifyWarning: Error validating header for HDU #0 (note: Astropy uses zero-based indexing).\n",
      "    Header size is not multiple of 2880: 8041631\n",
      "There may be extra bytes after the last HDU or the file is corrupted. [astropy.io.fits.hdu.hdulist]\n"
     ]
    },
    {
     "name": "stdout",
     "output_type": "stream",
     "text": [
      "u,g,r,i,z,Y\n",
      "-9999.0000,24.7739,22.3109,20.6576,20.1816,20.3559\n",
      "woof 0\n",
      "working on  16.65\n"
     ]
    },
    {
     "name": "stderr",
     "output_type": "stream",
     "text": [
      "WARNING: VerifyWarning: Error validating header for HDU #0 (note: Astropy uses zero-based indexing).\n",
      "    Header size is not multiple of 2880: 8025542\n",
      "There may be extra bytes after the last HDU or the file is corrupted. [astropy.io.fits.hdu.hdulist]\n"
     ]
    },
    {
     "name": "stdout",
     "output_type": "stream",
     "text": [
      "u,g,r,i,z,Y\n",
      "-9999.0000,24.4591,22.1943,20.6469,20.2148,20.3951\n",
      "woof 0\n",
      "working on  16.75\n"
     ]
    },
    {
     "name": "stderr",
     "output_type": "stream",
     "text": [
      "WARNING: VerifyWarning: Error validating header for HDU #0 (note: Astropy uses zero-based indexing).\n",
      "    Header size is not multiple of 2880: 8035722\n",
      "There may be extra bytes after the last HDU or the file is corrupted. [astropy.io.fits.hdu.hdulist]\n"
     ]
    },
    {
     "name": "stdout",
     "output_type": "stream",
     "text": [
      "u,g,r,i,z,Y\n",
      "-9999.0000,24.7178,22.3969,20.7028,20.2178,20.4641\n",
      "woof 0\n",
      "working on  16.85\n"
     ]
    },
    {
     "name": "stderr",
     "output_type": "stream",
     "text": [
      "WARNING: VerifyWarning: Error validating header for HDU #0 (note: Astropy uses zero-based indexing).\n",
      "    Header size is not multiple of 2880: 8004069\n",
      "There may be extra bytes after the last HDU or the file is corrupted. [astropy.io.fits.hdu.hdulist]\n"
     ]
    },
    {
     "name": "stdout",
     "output_type": "stream",
     "text": [
      "u,g,r,i,z,Y\n",
      "-9999.0000,24.6311,22.2839,20.6782,20.2620,20.3848\n",
      "woof 0\n",
      "working on  16.949999\n"
     ]
    },
    {
     "name": "stderr",
     "output_type": "stream",
     "text": [
      "WARNING: VerifyWarning: Error validating header for HDU #0 (note: Astropy uses zero-based indexing).\n",
      "    Header size is not multiple of 2880: 8030804\n",
      "There may be extra bytes after the last HDU or the file is corrupted. [astropy.io.fits.hdu.hdulist]\n"
     ]
    },
    {
     "name": "stdout",
     "output_type": "stream",
     "text": [
      "u,g,r,i,z,Y\n",
      "-9999.0000,24.9245,22.2773,20.7465,20.2702,20.4743\n",
      "woof 0\n",
      "working on  17.050001\n"
     ]
    },
    {
     "name": "stderr",
     "output_type": "stream",
     "text": [
      "WARNING: VerifyWarning: Error validating header for HDU #0 (note: Astropy uses zero-based indexing).\n",
      "    Header size is not multiple of 2880: 8036064\n",
      "There may be extra bytes after the last HDU or the file is corrupted. [astropy.io.fits.hdu.hdulist]\n"
     ]
    },
    {
     "name": "stdout",
     "output_type": "stream",
     "text": [
      "u,g,r,i,z,Y\n",
      "-9999.0000,24.6740,22.2752,20.7852,20.2710,20.4773\n",
      "woof 0\n",
      "working on  17.15\n"
     ]
    },
    {
     "name": "stderr",
     "output_type": "stream",
     "text": [
      "WARNING: VerifyWarning: Error validating header for HDU #0 (note: Astropy uses zero-based indexing).\n",
      "    Header size is not multiple of 2880: 8036574\n",
      "There may be extra bytes after the last HDU or the file is corrupted. [astropy.io.fits.hdu.hdulist]\n"
     ]
    },
    {
     "name": "stdout",
     "output_type": "stream",
     "text": [
      "u,g,r,i,z,Y\n",
      "-9999.0000,24.4983,22.3560,20.7446,20.2775,20.4732\n",
      "woof 0\n",
      "working on  17.25\n"
     ]
    },
    {
     "name": "stderr",
     "output_type": "stream",
     "text": [
      "WARNING: VerifyWarning: Error validating header for HDU #0 (note: Astropy uses zero-based indexing).\n",
      "    Header size is not multiple of 2880: 7949080\n",
      "There may be extra bytes after the last HDU or the file is corrupted. [astropy.io.fits.hdu.hdulist]\n"
     ]
    },
    {
     "name": "stdout",
     "output_type": "stream",
     "text": [
      "u,g,r,i,z,Y\n",
      "-9999.0000,24.5184,22.3929,20.7303,20.3432,20.5622\n",
      "woof 0\n",
      "working on  17.35\n"
     ]
    },
    {
     "name": "stderr",
     "output_type": "stream",
     "text": [
      "WARNING: VerifyWarning: Error validating header for HDU #0 (note: Astropy uses zero-based indexing).\n",
      "    Header size is not multiple of 2880: 8017269\n",
      "There may be extra bytes after the last HDU or the file is corrupted. [astropy.io.fits.hdu.hdulist]\n"
     ]
    },
    {
     "name": "stdout",
     "output_type": "stream",
     "text": [
      "u,g,r,i,z,Y\n",
      "-9999.0000,24.6906,22.2009,20.7870,20.4295,20.7453\n",
      "woof 0\n",
      "working on  17.449999\n"
     ]
    },
    {
     "name": "stderr",
     "output_type": "stream",
     "text": [
      "WARNING: VerifyWarning: Error validating header for HDU #0 (note: Astropy uses zero-based indexing).\n",
      "    Header size is not multiple of 2880: 8020046\n",
      "There may be extra bytes after the last HDU or the file is corrupted. [astropy.io.fits.hdu.hdulist]\n"
     ]
    },
    {
     "name": "stdout",
     "output_type": "stream",
     "text": [
      "u,g,r,i,z,Y\n",
      "-9999.0000,24.4935,22.3566,20.8403,20.3845,20.6224\n",
      "woof 0\n",
      "working on  17.550001\n"
     ]
    },
    {
     "name": "stderr",
     "output_type": "stream",
     "text": [
      "WARNING: VerifyWarning: Error validating header for HDU #0 (note: Astropy uses zero-based indexing).\n",
      "    Header size is not multiple of 2880: 8040136\n",
      "There may be extra bytes after the last HDU or the file is corrupted. [astropy.io.fits.hdu.hdulist]\n"
     ]
    },
    {
     "name": "stdout",
     "output_type": "stream",
     "text": [
      "u,g,r,i,z,Y\n",
      "-9999.0000,24.9336,22.3894,20.8183,20.3517,20.5093\n",
      "woof 0\n",
      "working on  17.65\n"
     ]
    },
    {
     "name": "stderr",
     "output_type": "stream",
     "text": [
      "WARNING: VerifyWarning: Error validating header for HDU #0 (note: Astropy uses zero-based indexing).\n",
      "    Header size is not multiple of 2880: 8036084\n",
      "There may be extra bytes after the last HDU or the file is corrupted. [astropy.io.fits.hdu.hdulist]\n"
     ]
    },
    {
     "name": "stdout",
     "output_type": "stream",
     "text": [
      "u,g,r,i,z,Y\n",
      "-9999.0000,24.6841,22.4772,20.8308,20.3333,20.5596\n",
      "woof 0\n",
      "working on  17.75\n"
     ]
    },
    {
     "name": "stderr",
     "output_type": "stream",
     "text": [
      "WARNING: VerifyWarning: Error validating header for HDU #0 (note: Astropy uses zero-based indexing).\n",
      "    Header size is not multiple of 2880: 7958382\n",
      "There may be extra bytes after the last HDU or the file is corrupted. [astropy.io.fits.hdu.hdulist]\n"
     ]
    },
    {
     "name": "stdout",
     "output_type": "stream",
     "text": [
      "u,g,r,i,z,Y\n",
      "-9999.0000,24.6152,22.5426,20.8611,20.4551,20.5850\n",
      "woof 0\n",
      "working on  17.85\n"
     ]
    },
    {
     "name": "stderr",
     "output_type": "stream",
     "text": [
      "WARNING: VerifyWarning: Error validating header for HDU #0 (note: Astropy uses zero-based indexing).\n",
      "    Header size is not multiple of 2880: 7979356\n",
      "There may be extra bytes after the last HDU or the file is corrupted. [astropy.io.fits.hdu.hdulist]\n"
     ]
    },
    {
     "name": "stdout",
     "output_type": "stream",
     "text": [
      "u,g,r,i,z,Y\n",
      "-9999.0000,24.7014,22.4601,20.9142,20.4540,20.6441\n",
      "woof 0\n",
      "working on  17.949999\n"
     ]
    },
    {
     "name": "stderr",
     "output_type": "stream",
     "text": [
      "WARNING: VerifyWarning: Error validating header for HDU #0 (note: Astropy uses zero-based indexing).\n",
      "    Header size is not multiple of 2880: 8039112\n",
      "There may be extra bytes after the last HDU or the file is corrupted. [astropy.io.fits.hdu.hdulist]\n"
     ]
    },
    {
     "name": "stdout",
     "output_type": "stream",
     "text": [
      "u,g,r,i,z,Y\n",
      "-9999.0000,24.6661,22.3863,21.0080,20.5087,20.8978\n",
      "woof 0\n",
      "working on  18.050001\n"
     ]
    },
    {
     "name": "stderr",
     "output_type": "stream",
     "text": [
      "WARNING: VerifyWarning: Error validating header for HDU #0 (note: Astropy uses zero-based indexing).\n",
      "    Header size is not multiple of 2880: 8042780\n",
      "There may be extra bytes after the last HDU or the file is corrupted. [astropy.io.fits.hdu.hdulist]\n"
     ]
    },
    {
     "name": "stdout",
     "output_type": "stream",
     "text": [
      "u,g,r,i,z,Y\n",
      "-9999.0000,24.5220,22.4102,20.9088,20.5220,20.8146\n",
      "woof 0\n",
      "working on  18.15\n"
     ]
    },
    {
     "name": "stderr",
     "output_type": "stream",
     "text": [
      "WARNING: VerifyWarning: Error validating header for HDU #0 (note: Astropy uses zero-based indexing).\n",
      "    Header size is not multiple of 2880: 7993410\n",
      "There may be extra bytes after the last HDU or the file is corrupted. [astropy.io.fits.hdu.hdulist]\n"
     ]
    },
    {
     "name": "stdout",
     "output_type": "stream",
     "text": [
      "u,g,r,i,z,Y\n",
      "-9999.0000,24.8310,22.6308,21.0151,20.5928,20.7682\n",
      "woof 0\n",
      "working on  18.25\n"
     ]
    },
    {
     "name": "stderr",
     "output_type": "stream",
     "text": [
      "WARNING: VerifyWarning: Error validating header for HDU #0 (note: Astropy uses zero-based indexing).\n",
      "    Header size is not multiple of 2880: 8036467\n",
      "There may be extra bytes after the last HDU or the file is corrupted. [astropy.io.fits.hdu.hdulist]\n"
     ]
    },
    {
     "name": "stdout",
     "output_type": "stream",
     "text": [
      "u,g,r,i,z,Y\n",
      "35.6498,24.6143,22.4587,20.9517,20.4971,20.6300\n",
      "woof 0\n",
      "working on  18.35\n"
     ]
    },
    {
     "name": "stderr",
     "output_type": "stream",
     "text": [
      "WARNING: VerifyWarning: Error validating header for HDU #0 (note: Astropy uses zero-based indexing).\n",
      "    Header size is not multiple of 2880: 8031433\n",
      "There may be extra bytes after the last HDU or the file is corrupted. [astropy.io.fits.hdu.hdulist]\n"
     ]
    },
    {
     "name": "stdout",
     "output_type": "stream",
     "text": [
      "u,g,r,i,z,Y\n",
      "35.5238,24.6135,22.4721,21.0545,20.5738,20.7954\n",
      "woof 0\n",
      "working on  18.449999\n"
     ]
    },
    {
     "name": "stderr",
     "output_type": "stream",
     "text": [
      "WARNING: VerifyWarning: Error validating header for HDU #0 (note: Astropy uses zero-based indexing).\n",
      "    Header size is not multiple of 2880: 8029685\n",
      "There may be extra bytes after the last HDU or the file is corrupted. [astropy.io.fits.hdu.hdulist]\n"
     ]
    },
    {
     "name": "stdout",
     "output_type": "stream",
     "text": [
      "u,g,r,i,z,Y\n",
      "-9999.0000,24.5293,22.5336,21.0797,20.5807,20.8961\n",
      "woof 0\n",
      "working on  18.550001\n"
     ]
    },
    {
     "name": "stderr",
     "output_type": "stream",
     "text": [
      "WARNING: VerifyWarning: Error validating header for HDU #0 (note: Astropy uses zero-based indexing).\n",
      "    Header size is not multiple of 2880: 8015616\n",
      "There may be extra bytes after the last HDU or the file is corrupted. [astropy.io.fits.hdu.hdulist]\n"
     ]
    },
    {
     "name": "stdout",
     "output_type": "stream",
     "text": [
      "u,g,r,i,z,Y\n",
      "-9999.0000,24.8305,22.5146,21.0711,20.6574,20.8912\n",
      "woof 0\n",
      "working on  18.65\n"
     ]
    },
    {
     "name": "stderr",
     "output_type": "stream",
     "text": [
      "WARNING: VerifyWarning: Error validating header for HDU #0 (note: Astropy uses zero-based indexing).\n",
      "    Header size is not multiple of 2880: 8030375\n",
      "There may be extra bytes after the last HDU or the file is corrupted. [astropy.io.fits.hdu.hdulist]\n"
     ]
    },
    {
     "name": "stdout",
     "output_type": "stream",
     "text": [
      "u,g,r,i,z,Y\n",
      "-9999.0000,24.7843,22.5164,21.0660,20.6462,20.8367\n",
      "woof 0\n",
      "working on  18.75\n"
     ]
    },
    {
     "name": "stderr",
     "output_type": "stream",
     "text": [
      "WARNING: VerifyWarning: Error validating header for HDU #0 (note: Astropy uses zero-based indexing).\n",
      "    Header size is not multiple of 2880: 8008770\n",
      "There may be extra bytes after the last HDU or the file is corrupted. [astropy.io.fits.hdu.hdulist]\n"
     ]
    },
    {
     "name": "stdout",
     "output_type": "stream",
     "text": [
      "u,g,r,i,z,Y\n",
      "-9999.0000,24.8183,22.4419,21.1927,20.7073,20.8792\n",
      "woof 0\n",
      "working on  18.85\n"
     ]
    },
    {
     "name": "stderr",
     "output_type": "stream",
     "text": [
      "WARNING: VerifyWarning: Error validating header for HDU #0 (note: Astropy uses zero-based indexing).\n",
      "    Header size is not multiple of 2880: 8015703\n",
      "There may be extra bytes after the last HDU or the file is corrupted. [astropy.io.fits.hdu.hdulist]\n"
     ]
    },
    {
     "name": "stdout",
     "output_type": "stream",
     "text": [
      "u,g,r,i,z,Y\n",
      "-9999.0000,24.6852,22.6643,21.1578,20.7584,20.9574\n",
      "woof 0\n",
      "working on  18.949999\n"
     ]
    },
    {
     "name": "stderr",
     "output_type": "stream",
     "text": [
      "WARNING: VerifyWarning: Error validating header for HDU #0 (note: Astropy uses zero-based indexing).\n",
      "    Header size is not multiple of 2880: 8017777\n",
      "There may be extra bytes after the last HDU or the file is corrupted. [astropy.io.fits.hdu.hdulist]\n"
     ]
    },
    {
     "name": "stdout",
     "output_type": "stream",
     "text": [
      "u,g,r,i,z,Y\n",
      "-9999.0000,24.5724,22.6037,21.1836,20.7925,21.0267\n",
      "woof 0\n",
      "working on  19.050001\n"
     ]
    },
    {
     "name": "stderr",
     "output_type": "stream",
     "text": [
      "WARNING: VerifyWarning: Error validating header for HDU #0 (note: Astropy uses zero-based indexing).\n",
      "    Header size is not multiple of 2880: 7970447\n",
      "There may be extra bytes after the last HDU or the file is corrupted. [astropy.io.fits.hdu.hdulist]\n"
     ]
    },
    {
     "name": "stdout",
     "output_type": "stream",
     "text": [
      "u,g,r,i,z,Y\n",
      "28.4956,24.6574,22.6063,21.2218,20.7403,21.0369\n",
      "woof 0\n",
      "working on  19.15\n"
     ]
    },
    {
     "name": "stderr",
     "output_type": "stream",
     "text": [
      "WARNING: VerifyWarning: Error validating header for HDU #0 (note: Astropy uses zero-based indexing).\n",
      "    Header size is not multiple of 2880: 8016782\n",
      "There may be extra bytes after the last HDU or the file is corrupted. [astropy.io.fits.hdu.hdulist]\n"
     ]
    },
    {
     "name": "stdout",
     "output_type": "stream",
     "text": [
      "u,g,r,i,z,Y\n",
      "-9999.0000,24.7245,22.4917,21.1734,20.7064,20.8979\n",
      "woof 0\n",
      "working on  19.25\n"
     ]
    },
    {
     "name": "stderr",
     "output_type": "stream",
     "text": [
      "WARNING: VerifyWarning: Error validating header for HDU #0 (note: Astropy uses zero-based indexing).\n",
      "    Header size is not multiple of 2880: 8009582\n",
      "There may be extra bytes after the last HDU or the file is corrupted. [astropy.io.fits.hdu.hdulist]\n"
     ]
    },
    {
     "name": "stdout",
     "output_type": "stream",
     "text": [
      "u,g,r,i,z,Y\n",
      "-9999.0000,24.5959,22.5856,21.2012,20.7880,21.0928\n",
      "woof 0\n",
      "working on  19.35\n"
     ]
    },
    {
     "name": "stderr",
     "output_type": "stream",
     "text": [
      "WARNING: VerifyWarning: Error validating header for HDU #0 (note: Astropy uses zero-based indexing).\n",
      "    Header size is not multiple of 2880: 7999817\n",
      "There may be extra bytes after the last HDU or the file is corrupted. [astropy.io.fits.hdu.hdulist]\n"
     ]
    },
    {
     "name": "stdout",
     "output_type": "stream",
     "text": [
      "u,g,r,i,z,Y\n",
      "-9999.0000,24.9072,22.7127,21.2448,20.7957,20.8852\n",
      "woof 0\n",
      "working on  19.449999\n"
     ]
    },
    {
     "name": "stderr",
     "output_type": "stream",
     "text": [
      "WARNING: VerifyWarning: Error validating header for HDU #0 (note: Astropy uses zero-based indexing).\n",
      "    Header size is not multiple of 2880: 8032771\n",
      "There may be extra bytes after the last HDU or the file is corrupted. [astropy.io.fits.hdu.hdulist]\n"
     ]
    },
    {
     "name": "stdout",
     "output_type": "stream",
     "text": [
      "u,g,r,i,z,Y\n",
      "-9999.0000,24.7228,22.6474,21.2614,20.8410,21.0697\n",
      "woof 0\n",
      "working on  19.550001\n"
     ]
    },
    {
     "name": "stderr",
     "output_type": "stream",
     "text": [
      "WARNING: VerifyWarning: Error validating header for HDU #0 (note: Astropy uses zero-based indexing).\n",
      "    Header size is not multiple of 2880: 8013773\n",
      "There may be extra bytes after the last HDU or the file is corrupted. [astropy.io.fits.hdu.hdulist]\n"
     ]
    },
    {
     "name": "stdout",
     "output_type": "stream",
     "text": [
      "u,g,r,i,z,Y\n",
      "-9999.0000,24.7790,22.7070,21.2884,20.7981,21.0067\n",
      "woof 0\n",
      "working on  19.65\n"
     ]
    },
    {
     "name": "stderr",
     "output_type": "stream",
     "text": [
      "WARNING: VerifyWarning: Error validating header for HDU #0 (note: Astropy uses zero-based indexing).\n",
      "    Header size is not multiple of 2880: 8003952\n",
      "There may be extra bytes after the last HDU or the file is corrupted. [astropy.io.fits.hdu.hdulist]\n"
     ]
    },
    {
     "name": "stdout",
     "output_type": "stream",
     "text": [
      "u,g,r,i,z,Y\n",
      "-9999.0000,24.7851,22.8035,21.2553,20.8358,21.2057\n",
      "woof 0\n",
      "working on  19.75\n"
     ]
    },
    {
     "name": "stderr",
     "output_type": "stream",
     "text": [
      "WARNING: VerifyWarning: Error validating header for HDU #0 (note: Astropy uses zero-based indexing).\n",
      "    Header size is not multiple of 2880: 8008802\n",
      "There may be extra bytes after the last HDU or the file is corrupted. [astropy.io.fits.hdu.hdulist]\n"
     ]
    },
    {
     "name": "stdout",
     "output_type": "stream",
     "text": [
      "u,g,r,i,z,Y\n",
      "-9999.0000,24.7725,22.6690,21.4137,21.0019,21.2421\n",
      "woof 0\n",
      "working on  19.85\n"
     ]
    },
    {
     "name": "stderr",
     "output_type": "stream",
     "text": [
      "WARNING: VerifyWarning: Error validating header for HDU #0 (note: Astropy uses zero-based indexing).\n",
      "    Header size is not multiple of 2880: 8019056\n",
      "There may be extra bytes after the last HDU or the file is corrupted. [astropy.io.fits.hdu.hdulist]\n"
     ]
    },
    {
     "name": "stdout",
     "output_type": "stream",
     "text": [
      "u,g,r,i,z,Y\n",
      "-9999.0000,24.8742,22.6805,21.3525,20.9362,21.3437\n",
      "woof 0\n",
      "working on  19.949999\n"
     ]
    },
    {
     "name": "stderr",
     "output_type": "stream",
     "text": [
      "WARNING: VerifyWarning: Error validating header for HDU #0 (note: Astropy uses zero-based indexing).\n",
      "    Header size is not multiple of 2880: 8043260\n",
      "There may be extra bytes after the last HDU or the file is corrupted. [astropy.io.fits.hdu.hdulist]\n"
     ]
    },
    {
     "name": "stdout",
     "output_type": "stream",
     "text": [
      "u,g,r,i,z,Y\n",
      "-9999.0000,24.7367,22.8118,21.3831,20.9799,21.2243\n",
      "woof 0\n",
      "working on  20.050001\n"
     ]
    },
    {
     "name": "stderr",
     "output_type": "stream",
     "text": [
      "WARNING: VerifyWarning: Error validating header for HDU #0 (note: Astropy uses zero-based indexing).\n",
      "    Header size is not multiple of 2880: 8022799\n",
      "There may be extra bytes after the last HDU or the file is corrupted. [astropy.io.fits.hdu.hdulist]\n"
     ]
    },
    {
     "name": "stdout",
     "output_type": "stream",
     "text": [
      "u,g,r,i,z,Y\n",
      "-9999.0000,24.7539,22.7548,21.4926,20.9212,21.1396\n",
      "woof 0\n",
      "working on  20.15\n"
     ]
    },
    {
     "name": "stderr",
     "output_type": "stream",
     "text": [
      "WARNING: VerifyWarning: Error validating header for HDU #0 (note: Astropy uses zero-based indexing).\n",
      "    Header size is not multiple of 2880: 8032258\n",
      "There may be extra bytes after the last HDU or the file is corrupted. [astropy.io.fits.hdu.hdulist]\n"
     ]
    },
    {
     "name": "stdout",
     "output_type": "stream",
     "text": [
      "u,g,r,i,z,Y\n",
      "-9999.0000,24.8089,22.7966,21.4207,20.9201,21.2327\n",
      "woof 0\n",
      "working on  20.25\n"
     ]
    },
    {
     "name": "stderr",
     "output_type": "stream",
     "text": [
      "WARNING: VerifyWarning: Error validating header for HDU #0 (note: Astropy uses zero-based indexing).\n",
      "    Header size is not multiple of 2880: 8026654\n",
      "There may be extra bytes after the last HDU or the file is corrupted. [astropy.io.fits.hdu.hdulist]\n"
     ]
    },
    {
     "name": "stdout",
     "output_type": "stream",
     "text": [
      "u,g,r,i,z,Y\n",
      "-9999.0000,24.7446,22.9359,21.5644,21.0290,21.3276\n",
      "woof 0\n",
      "working on  20.35\n"
     ]
    },
    {
     "name": "stderr",
     "output_type": "stream",
     "text": [
      "WARNING: VerifyWarning: Error validating header for HDU #0 (note: Astropy uses zero-based indexing).\n",
      "    Header size is not multiple of 2880: 7977934\n",
      "There may be extra bytes after the last HDU or the file is corrupted. [astropy.io.fits.hdu.hdulist]\n"
     ]
    },
    {
     "name": "stdout",
     "output_type": "stream",
     "text": [
      "u,g,r,i,z,Y\n",
      "-9999.0000,25.0016,22.9057,21.7221,21.4125,21.6911\n",
      "woof 0\n",
      "working on  20.449999\n"
     ]
    },
    {
     "name": "stderr",
     "output_type": "stream",
     "text": [
      "WARNING: VerifyWarning: Error validating header for HDU #0 (note: Astropy uses zero-based indexing).\n",
      "    Header size is not multiple of 2880: 7951013\n",
      "There may be extra bytes after the last HDU or the file is corrupted. [astropy.io.fits.hdu.hdulist]\n"
     ]
    },
    {
     "name": "stdout",
     "output_type": "stream",
     "text": [
      "u,g,r,i,z,Y\n",
      "-9999.0000,25.1819,23.4536,22.1618,21.7447,22.0918\n",
      "woof 0\n",
      "working on  20.550001\n"
     ]
    },
    {
     "name": "stderr",
     "output_type": "stream",
     "text": [
      "WARNING: VerifyWarning: Error validating header for HDU #0 (note: Astropy uses zero-based indexing).\n",
      "    Header size is not multiple of 2880: 7871069\n",
      "There may be extra bytes after the last HDU or the file is corrupted. [astropy.io.fits.hdu.hdulist]\n"
     ]
    },
    {
     "name": "stdout",
     "output_type": "stream",
     "text": [
      "u,g,r,i,z,Y\n",
      "-9999.0000,25.1823,23.4468,22.4611,22.1689,22.4515\n",
      "woof 0\n",
      "working on  20.65\n"
     ]
    },
    {
     "name": "stderr",
     "output_type": "stream",
     "text": [
      "WARNING: VerifyWarning: Error validating header for HDU #0 (note: Astropy uses zero-based indexing).\n",
      "    Header size is not multiple of 2880: 7815338\n",
      "There may be extra bytes after the last HDU or the file is corrupted. [astropy.io.fits.hdu.hdulist]\n"
     ]
    },
    {
     "name": "stdout",
     "output_type": "stream",
     "text": [
      "u,g,r,i,z,Y\n",
      "-9999.0000,25.7898,23.7991,22.9701,22.7192,23.0835\n",
      "woof 0\n",
      "working on  20.75\n"
     ]
    },
    {
     "name": "stderr",
     "output_type": "stream",
     "text": [
      "WARNING: VerifyWarning: Error validating header for HDU #0 (note: Astropy uses zero-based indexing).\n",
      "    Header size is not multiple of 2880: 7746190\n",
      "There may be extra bytes after the last HDU or the file is corrupted. [astropy.io.fits.hdu.hdulist]\n"
     ]
    },
    {
     "name": "stdout",
     "output_type": "stream",
     "text": [
      "u,g,r,i,z,Y\n",
      "-9999.0000,25.7014,24.1349,23.6805,22.9383,23.6044\n",
      "woof 0\n",
      "working on  20.85\n"
     ]
    },
    {
     "name": "stderr",
     "output_type": "stream",
     "text": [
      "WARNING: VerifyWarning: Error validating header for HDU #0 (note: Astropy uses zero-based indexing).\n",
      "    Header size is not multiple of 2880: 7427232\n",
      "There may be extra bytes after the last HDU or the file is corrupted. [astropy.io.fits.hdu.hdulist]\n"
     ]
    },
    {
     "name": "stdout",
     "output_type": "stream",
     "text": [
      "u,g,r,i,z,Y\n",
      "-9999.0000,25.6399,24.4978,24.1737,24.0424,24.4316\n",
      "woof 0\n",
      "working on  20.949999\n"
     ]
    },
    {
     "name": "stderr",
     "output_type": "stream",
     "text": [
      "WARNING: VerifyWarning: Error validating header for HDU #0 (note: Astropy uses zero-based indexing).\n",
      "    Header size is not multiple of 2880: 7131210\n",
      "There may be extra bytes after the last HDU or the file is corrupted. [astropy.io.fits.hdu.hdulist]\n"
     ]
    },
    {
     "name": "stdout",
     "output_type": "stream",
     "text": [
      "u,g,r,i,z,Y\n",
      "-9999.0000,26.5841,24.9713,24.4757,24.7041,25.1184\n",
      "woof 0\n",
      "working on  21.050001\n"
     ]
    },
    {
     "name": "stderr",
     "output_type": "stream",
     "text": [
      "WARNING: VerifyWarning: Error validating header for HDU #0 (note: Astropy uses zero-based indexing).\n",
      "    Header size is not multiple of 2880: 6713142\n",
      "There may be extra bytes after the last HDU or the file is corrupted. [astropy.io.fits.hdu.hdulist]\n"
     ]
    },
    {
     "name": "stdout",
     "output_type": "stream",
     "text": [
      "u,g,r,i,z,Y\n",
      "-9999.0000,26.3689,25.3398,25.1375,24.9214,25.2606\n",
      "woof 0\n",
      "working on  21.15\n"
     ]
    },
    {
     "name": "stderr",
     "output_type": "stream",
     "text": [
      "WARNING: VerifyWarning: Error validating header for HDU #0 (note: Astropy uses zero-based indexing).\n",
      "    Header size is not multiple of 2880: 6263004\n",
      "There may be extra bytes after the last HDU or the file is corrupted. [astropy.io.fits.hdu.hdulist]\n"
     ]
    },
    {
     "name": "stdout",
     "output_type": "stream",
     "text": [
      "u,g,r,i,z,Y\n",
      "-9999.0000,26.8016,25.7068,25.5012,25.5328,25.3340\n",
      "woof 0\n",
      "working on  21.25\n"
     ]
    },
    {
     "name": "stderr",
     "output_type": "stream",
     "text": [
      "WARNING: VerifyWarning: Error validating header for HDU #0 (note: Astropy uses zero-based indexing).\n",
      "    Header size is not multiple of 2880: 5822826\n",
      "There may be extra bytes after the last HDU or the file is corrupted. [astropy.io.fits.hdu.hdulist]\n"
     ]
    },
    {
     "name": "stdout",
     "output_type": "stream",
     "text": [
      "u,g,r,i,z,Y\n",
      "-9999.0000,26.3221,25.4823,25.3073,25.9077,26.9807\n",
      "woof 0\n",
      "working on  21.35\n"
     ]
    },
    {
     "name": "stderr",
     "output_type": "stream",
     "text": [
      "WARNING: VerifyWarning: Error validating header for HDU #0 (note: Astropy uses zero-based indexing).\n",
      "    Header size is not multiple of 2880: 5867297\n",
      "There may be extra bytes after the last HDU or the file is corrupted. [astropy.io.fits.hdu.hdulist]\n"
     ]
    },
    {
     "name": "stdout",
     "output_type": "stream",
     "text": [
      "u,g,r,i,z,Y\n",
      "-9999.0000,26.6832,25.5155,25.5447,26.6185,25.7179\n",
      "woof 0\n",
      "working on  21.449999\n"
     ]
    },
    {
     "name": "stderr",
     "output_type": "stream",
     "text": [
      "WARNING: VerifyWarning: Error validating header for HDU #0 (note: Astropy uses zero-based indexing).\n",
      "    Header size is not multiple of 2880: 5149885\n",
      "There may be extra bytes after the last HDU or the file is corrupted. [astropy.io.fits.hdu.hdulist]\n"
     ]
    },
    {
     "name": "stdout",
     "output_type": "stream",
     "text": [
      "u,g,r,i,z,Y\n",
      "-9999.0000,26.2148,25.4929,25.9185,26.7046,-9999.0000\n",
      "woof 0\n",
      "working on  21.550001\n"
     ]
    },
    {
     "name": "stderr",
     "output_type": "stream",
     "text": [
      "WARNING: VerifyWarning: Error validating header for HDU #0 (note: Astropy uses zero-based indexing).\n",
      "    Header size is not multiple of 2880: 5295209\n",
      "There may be extra bytes after the last HDU or the file is corrupted. [astropy.io.fits.hdu.hdulist]\n"
     ]
    },
    {
     "name": "stdout",
     "output_type": "stream",
     "text": [
      "u,g,r,i,z,Y\n",
      "-9999.0000,26.6980,26.0417,25.8635,26.6381,26.8724\n",
      "woof 0\n",
      "working on  21.65\n"
     ]
    },
    {
     "name": "stderr",
     "output_type": "stream",
     "text": [
      "WARNING: VerifyWarning: Error validating header for HDU #0 (note: Astropy uses zero-based indexing).\n",
      "    Header size is not multiple of 2880: 4689246\n",
      "There may be extra bytes after the last HDU or the file is corrupted. [astropy.io.fits.hdu.hdulist]\n"
     ]
    },
    {
     "name": "stdout",
     "output_type": "stream",
     "text": [
      "u,g,r,i,z,Y\n",
      "-9999.0000,27.2745,26.1494,26.5787,26.3718,26.6848\n",
      "woof 0\n",
      "working on  21.75\n"
     ]
    },
    {
     "name": "stderr",
     "output_type": "stream",
     "text": [
      "WARNING: VerifyWarning: Error validating header for HDU #0 (note: Astropy uses zero-based indexing).\n",
      "    Header size is not multiple of 2880: 4766409\n",
      "There may be extra bytes after the last HDU or the file is corrupted. [astropy.io.fits.hdu.hdulist]\n"
     ]
    },
    {
     "name": "stdout",
     "output_type": "stream",
     "text": [
      "u,g,r,i,z,Y\n",
      "-9999.0000,27.3565,26.1588,26.4137,26.4118,26.6782\n",
      "woof 0\n",
      "working on  21.85\n"
     ]
    },
    {
     "name": "stderr",
     "output_type": "stream",
     "text": [
      "WARNING: VerifyWarning: Error validating header for HDU #0 (note: Astropy uses zero-based indexing).\n",
      "    Header size is not multiple of 2880: 4517939\n",
      "There may be extra bytes after the last HDU or the file is corrupted. [astropy.io.fits.hdu.hdulist]\n"
     ]
    },
    {
     "name": "stdout",
     "output_type": "stream",
     "text": [
      "u,g,r,i,z,Y\n",
      "-9999.0000,27.9433,26.1625,26.4411,28.0661,-9999.0000\n",
      "woof 0\n",
      "working on  21.949999\n"
     ]
    },
    {
     "name": "stderr",
     "output_type": "stream",
     "text": [
      "WARNING: VerifyWarning: Error validating header for HDU #0 (note: Astropy uses zero-based indexing).\n",
      "    Header size is not multiple of 2880: 4472672\n",
      "There may be extra bytes after the last HDU or the file is corrupted. [astropy.io.fits.hdu.hdulist]\n"
     ]
    },
    {
     "name": "stdout",
     "output_type": "stream",
     "text": [
      "u,g,r,i,z,Y\n",
      "-9999.0000,27.8720,25.8974,26.8408,28.1976,29.5719\n",
      "woof 0\n",
      "working on  22.050001\n"
     ]
    },
    {
     "name": "stderr",
     "output_type": "stream",
     "text": [
      "WARNING: VerifyWarning: Error validating header for HDU #0 (note: Astropy uses zero-based indexing).\n",
      "    Header size is not multiple of 2880: 4443080\n",
      "There may be extra bytes after the last HDU or the file is corrupted. [astropy.io.fits.hdu.hdulist]\n"
     ]
    },
    {
     "name": "stdout",
     "output_type": "stream",
     "text": [
      "u,g,r,i,z,Y\n",
      "-9999.0000,27.8150,26.3281,27.8090,26.7045,29.4371\n",
      "woof 0\n",
      "working on  22.15\n"
     ]
    },
    {
     "name": "stderr",
     "output_type": "stream",
     "text": [
      "WARNING: VerifyWarning: Error validating header for HDU #0 (note: Astropy uses zero-based indexing).\n",
      "    Header size is not multiple of 2880: 4334490\n",
      "There may be extra bytes after the last HDU or the file is corrupted. [astropy.io.fits.hdu.hdulist]\n"
     ]
    },
    {
     "name": "stdout",
     "output_type": "stream",
     "text": [
      "u,g,r,i,z,Y\n",
      "-9999.0000,29.9571,26.8563,27.8713,26.6275,26.4931\n",
      "woof 0\n",
      "working on  22.25\n"
     ]
    },
    {
     "name": "stderr",
     "output_type": "stream",
     "text": [
      "WARNING: VerifyWarning: Error validating header for HDU #0 (note: Astropy uses zero-based indexing).\n",
      "    Header size is not multiple of 2880: 4011631\n",
      "There may be extra bytes after the last HDU or the file is corrupted. [astropy.io.fits.hdu.hdulist]\n"
     ]
    },
    {
     "name": "stdout",
     "output_type": "stream",
     "text": [
      "u,g,r,i,z,Y\n",
      "-9999.0000,28.9629,26.3796,27.1677,27.3881,27.5048\n",
      "woof 0\n",
      "working on  22.35\n"
     ]
    },
    {
     "name": "stderr",
     "output_type": "stream",
     "text": [
      "WARNING: VerifyWarning: Error validating header for HDU #0 (note: Astropy uses zero-based indexing).\n",
      "    Header size is not multiple of 2880: 4136410\n",
      "There may be extra bytes after the last HDU or the file is corrupted. [astropy.io.fits.hdu.hdulist]\n"
     ]
    },
    {
     "name": "stdout",
     "output_type": "stream",
     "text": [
      "u,g,r,i,z,Y\n",
      "-9999.0000,29.7718,26.7644,28.6218,27.3598,45.2557\n",
      "woof 0\n",
      "working on  22.449999\n"
     ]
    },
    {
     "name": "stderr",
     "output_type": "stream",
     "text": [
      "WARNING: VerifyWarning: Error validating header for HDU #0 (note: Astropy uses zero-based indexing).\n",
      "    Header size is not multiple of 2880: 4248690\n",
      "There may be extra bytes after the last HDU or the file is corrupted. [astropy.io.fits.hdu.hdulist]\n"
     ]
    },
    {
     "name": "stdout",
     "output_type": "stream",
     "text": [
      "u,g,r,i,z,Y\n",
      "-9999.0000,28.9001,27.0976,28.2438,27.7746,27.4357\n",
      "woof 0\n",
      "working on  22.550001\n"
     ]
    },
    {
     "name": "stderr",
     "output_type": "stream",
     "text": [
      "WARNING: VerifyWarning: Error validating header for HDU #0 (note: Astropy uses zero-based indexing).\n",
      "    Header size is not multiple of 2880: 3920794\n",
      "There may be extra bytes after the last HDU or the file is corrupted. [astropy.io.fits.hdu.hdulist]\n"
     ]
    },
    {
     "name": "stdout",
     "output_type": "stream",
     "text": [
      "u,g,r,i,z,Y\n",
      "-9999.0000,29.7071,28.4632,-9999.0000,-9999.0000,-9999.0000\n",
      "woof 0\n",
      "working on  22.65\n"
     ]
    },
    {
     "name": "stderr",
     "output_type": "stream",
     "text": [
      "WARNING: VerifyWarning: Error validating header for HDU #0 (note: Astropy uses zero-based indexing).\n",
      "    Header size is not multiple of 2880: 3834240\n",
      "There may be extra bytes after the last HDU or the file is corrupted. [astropy.io.fits.hdu.hdulist]\n"
     ]
    },
    {
     "name": "stdout",
     "output_type": "stream",
     "text": [
      "u,g,r,i,z,Y\n",
      "-9999.0000,48.6813,27.2386,33.6352,-9999.0000,-9999.0000\n",
      "woof 0\n",
      "working on  22.75\n"
     ]
    },
    {
     "name": "stderr",
     "output_type": "stream",
     "text": [
      "WARNING: VerifyWarning: Error validating header for HDU #0 (note: Astropy uses zero-based indexing).\n",
      "    Header size is not multiple of 2880: 3655369\n",
      "There may be extra bytes after the last HDU or the file is corrupted. [astropy.io.fits.hdu.hdulist]\n"
     ]
    },
    {
     "name": "stdout",
     "output_type": "stream",
     "text": [
      "u,g,r,i,z,Y\n",
      "-9999.0000,-9999.0000,-9999.0000,28.9025,-9999.0000,-9999.0000\n",
      "woof 0\n",
      "working on  22.85\n"
     ]
    },
    {
     "name": "stderr",
     "output_type": "stream",
     "text": [
      "WARNING: VerifyWarning: Error validating header for HDU #0 (note: Astropy uses zero-based indexing).\n",
      "    Header size is not multiple of 2880: 3742476\n",
      "There may be extra bytes after the last HDU or the file is corrupted. [astropy.io.fits.hdu.hdulist]\n"
     ]
    },
    {
     "name": "stdout",
     "output_type": "stream",
     "text": [
      "u,g,r,i,z,Y\n",
      "-9999.0000,-9999.0000,29.1869,-9999.0000,-9999.0000,-9999.0000\n",
      "woof 0\n",
      "working on  22.949999\n"
     ]
    },
    {
     "name": "stderr",
     "output_type": "stream",
     "text": [
      "WARNING: VerifyWarning: Error validating header for HDU #0 (note: Astropy uses zero-based indexing).\n",
      "    Header size is not multiple of 2880: 3936294\n",
      "There may be extra bytes after the last HDU or the file is corrupted. [astropy.io.fits.hdu.hdulist]\n"
     ]
    },
    {
     "name": "stdout",
     "output_type": "stream",
     "text": [
      "u,g,r,i,z,Y\n",
      "-9999.0000,31.3441,29.5493,-9999.0000,-9999.0000,-9999.0000\n",
      "woof 0\n",
      "working on  23.050001\n"
     ]
    },
    {
     "name": "stderr",
     "output_type": "stream",
     "text": [
      "WARNING: VerifyWarning: Error validating header for HDU #0 (note: Astropy uses zero-based indexing).\n",
      "    Header size is not multiple of 2880: 3795508\n",
      "There may be extra bytes after the last HDU or the file is corrupted. [astropy.io.fits.hdu.hdulist]\n"
     ]
    },
    {
     "name": "stdout",
     "output_type": "stream",
     "text": [
      "u,g,r,i,z,Y\n",
      "-9999.0000,-9999.0000,29.0939,-9999.0000,-9999.0000,-9999.0000\n",
      "woof 0\n",
      "working on  23.15\n"
     ]
    },
    {
     "name": "stderr",
     "output_type": "stream",
     "text": [
      "WARNING: VerifyWarning: Error validating header for HDU #0 (note: Astropy uses zero-based indexing).\n",
      "    Header size is not multiple of 2880: 3546406\n",
      "There may be extra bytes after the last HDU or the file is corrupted. [astropy.io.fits.hdu.hdulist]\n"
     ]
    },
    {
     "name": "stdout",
     "output_type": "stream",
     "text": [
      "u,g,r,i,z,Y\n",
      "-9999.0000,-9999.0000,29.0925,40.5548,-9999.0000,-9999.0000\n",
      "woof 0\n",
      "working on  23.25\n"
     ]
    },
    {
     "name": "stderr",
     "output_type": "stream",
     "text": [
      "WARNING: VerifyWarning: Error validating header for HDU #0 (note: Astropy uses zero-based indexing).\n",
      "    Header size is not multiple of 2880: 3449415\n",
      "There may be extra bytes after the last HDU or the file is corrupted. [astropy.io.fits.hdu.hdulist]\n"
     ]
    },
    {
     "name": "stdout",
     "output_type": "stream",
     "text": [
      "u,g,r,i,z,Y\n",
      "-9999.0000,-9999.0000,29.2496,-9999.0000,-9999.0000,-9999.0000\n",
      "woof 0\n",
      "working on  23.35\n"
     ]
    },
    {
     "name": "stderr",
     "output_type": "stream",
     "text": [
      "WARNING: VerifyWarning: Error validating header for HDU #0 (note: Astropy uses zero-based indexing).\n",
      "    Header size is not multiple of 2880: 3620650\n",
      "There may be extra bytes after the last HDU or the file is corrupted. [astropy.io.fits.hdu.hdulist]\n"
     ]
    },
    {
     "name": "stdout",
     "output_type": "stream",
     "text": [
      "u,g,r,i,z,Y\n",
      "-9999.0000,-9999.0000,28.5024,28.7790,34.0241,-9999.0000\n",
      "woof 0\n",
      "working on  23.449999\n"
     ]
    },
    {
     "name": "stderr",
     "output_type": "stream",
     "text": [
      "WARNING: VerifyWarning: Error validating header for HDU #0 (note: Astropy uses zero-based indexing).\n",
      "    Header size is not multiple of 2880: 3563264\n",
      "There may be extra bytes after the last HDU or the file is corrupted. [astropy.io.fits.hdu.hdulist]\n"
     ]
    },
    {
     "name": "stdout",
     "output_type": "stream",
     "text": [
      "u,g,r,i,z,Y\n",
      "-9999.0000,-9999.0000,-9999.0000,28.7461,33.6956,-9999.0000\n",
      "woof 0\n",
      "working on  23.550001\n"
     ]
    },
    {
     "name": "stderr",
     "output_type": "stream",
     "text": [
      "WARNING: VerifyWarning: Error validating header for HDU #0 (note: Astropy uses zero-based indexing).\n",
      "    Header size is not multiple of 2880: 3484448\n",
      "There may be extra bytes after the last HDU or the file is corrupted. [astropy.io.fits.hdu.hdulist]\n"
     ]
    },
    {
     "name": "stdout",
     "output_type": "stream",
     "text": [
      "u,g,r,i,z,Y\n",
      "-9999.0000,-9999.0000,29.4584,-9999.0000,-9999.0000,-9999.0000\n",
      "woof 0\n",
      "working on  23.65\n"
     ]
    },
    {
     "name": "stderr",
     "output_type": "stream",
     "text": [
      "WARNING: VerifyWarning: Error validating header for HDU #0 (note: Astropy uses zero-based indexing).\n",
      "    Header size is not multiple of 2880: 3331752\n",
      "There may be extra bytes after the last HDU or the file is corrupted. [astropy.io.fits.hdu.hdulist]\n"
     ]
    },
    {
     "name": "stdout",
     "output_type": "stream",
     "text": [
      "u,g,r,i,z,Y\n",
      "-9999.0000,-9999.0000,29.2091,-9999.0000,-9999.0000,-9999.0000\n",
      "woof 0\n",
      "working on  23.75\n"
     ]
    },
    {
     "name": "stderr",
     "output_type": "stream",
     "text": [
      "WARNING: VerifyWarning: Error validating header for HDU #0 (note: Astropy uses zero-based indexing).\n",
      "    Header size is not multiple of 2880: 3050693\n",
      "There may be extra bytes after the last HDU or the file is corrupted. [astropy.io.fits.hdu.hdulist]\n"
     ]
    },
    {
     "name": "stdout",
     "output_type": "stream",
     "text": [
      "u,g,r,i,z,Y\n",
      "-9999.0000,-9999.0000,-9999.0000,-9999.0000,-9999.0000,-9999.0000\n",
      "woof 0\n",
      "working on  23.85\n"
     ]
    },
    {
     "name": "stderr",
     "output_type": "stream",
     "text": [
      "WARNING: VerifyWarning: Error validating header for HDU #0 (note: Astropy uses zero-based indexing).\n",
      "    Header size is not multiple of 2880: 2899259\n",
      "There may be extra bytes after the last HDU or the file is corrupted. [astropy.io.fits.hdu.hdulist]\n"
     ]
    },
    {
     "name": "stdout",
     "output_type": "stream",
     "text": [
      "u,g,r,i,z,Y\n",
      "-9999.0000,-9999.0000,-9999.0000,-9999.0000,-9999.0000,-9999.0000\n",
      "woof 0\n",
      "working on  23.949999\n"
     ]
    },
    {
     "name": "stderr",
     "output_type": "stream",
     "text": [
      "WARNING: VerifyWarning: Error validating header for HDU #0 (note: Astropy uses zero-based indexing).\n",
      "    Header size is not multiple of 2880: 2963113\n",
      "There may be extra bytes after the last HDU or the file is corrupted. [astropy.io.fits.hdu.hdulist]\n"
     ]
    },
    {
     "name": "stdout",
     "output_type": "stream",
     "text": [
      "u,g,r,i,z,Y\n",
      "-9999.0000,-9999.0000,-9999.0000,-9999.0000,-9999.0000,-9999.0000\n",
      "woof 0\n",
      "working on  24.050001\n"
     ]
    },
    {
     "name": "stderr",
     "output_type": "stream",
     "text": [
      "WARNING: VerifyWarning: Error validating header for HDU #0 (note: Astropy uses zero-based indexing).\n",
      "    Header size is not multiple of 2880: 2936161\n",
      "There may be extra bytes after the last HDU or the file is corrupted. [astropy.io.fits.hdu.hdulist]\n"
     ]
    },
    {
     "name": "stdout",
     "output_type": "stream",
     "text": [
      "u,g,r,i,z,Y\n",
      "-9999.0000,-9999.0000,-9999.0000,-9999.0000,-9999.0000,-9999.0000\n",
      "woof 0\n",
      "working on  24.15\n"
     ]
    },
    {
     "name": "stderr",
     "output_type": "stream",
     "text": [
      "WARNING: VerifyWarning: Error validating header for HDU #0 (note: Astropy uses zero-based indexing).\n",
      "    Header size is not multiple of 2880: 2959057\n",
      "There may be extra bytes after the last HDU or the file is corrupted. [astropy.io.fits.hdu.hdulist]\n"
     ]
    },
    {
     "name": "stdout",
     "output_type": "stream",
     "text": [
      "u,g,r,i,z,Y\n",
      "-9999.0000,-9999.0000,-9999.0000,-9999.0000,-9999.0000,-9999.0000\n",
      "woof 0\n",
      "working on  24.25\n"
     ]
    },
    {
     "name": "stderr",
     "output_type": "stream",
     "text": [
      "WARNING: VerifyWarning: Error validating header for HDU #0 (note: Astropy uses zero-based indexing).\n",
      "    Header size is not multiple of 2880: 2894717\n",
      "There may be extra bytes after the last HDU or the file is corrupted. [astropy.io.fits.hdu.hdulist]\n"
     ]
    },
    {
     "name": "stdout",
     "output_type": "stream",
     "text": [
      "u,g,r,i,z,Y\n",
      "-9999.0000,-9999.0000,-9999.0000,-9999.0000,-9999.0000,-9999.0000\n",
      "woof 0\n",
      "working on  24.35\n"
     ]
    },
    {
     "name": "stderr",
     "output_type": "stream",
     "text": [
      "WARNING: VerifyWarning: Error validating header for HDU #0 (note: Astropy uses zero-based indexing).\n",
      "    Header size is not multiple of 2880: 2900917\n",
      "There may be extra bytes after the last HDU or the file is corrupted. [astropy.io.fits.hdu.hdulist]\n"
     ]
    },
    {
     "name": "stdout",
     "output_type": "stream",
     "text": [
      "u,g,r,i,z,Y\n",
      "-9999.0000,-9999.0000,-9999.0000,-9999.0000,-9999.0000,-9999.0000\n",
      "woof 0\n",
      "working on  24.449999\n"
     ]
    },
    {
     "name": "stderr",
     "output_type": "stream",
     "text": [
      "WARNING: VerifyWarning: Error validating header for HDU #0 (note: Astropy uses zero-based indexing).\n",
      "    Header size is not multiple of 2880: 2893360\n",
      "There may be extra bytes after the last HDU or the file is corrupted. [astropy.io.fits.hdu.hdulist]\n"
     ]
    },
    {
     "name": "stdout",
     "output_type": "stream",
     "text": [
      "u,g,r,i,z,Y\n",
      "-9999.0000,-9999.0000,-9999.0000,-9999.0000,-9999.0000,-9999.0000\n",
      "woof 0\n",
      "working on  24.550001\n"
     ]
    },
    {
     "name": "stderr",
     "output_type": "stream",
     "text": [
      "WARNING: VerifyWarning: Error validating header for HDU #0 (note: Astropy uses zero-based indexing).\n",
      "    Header size is not multiple of 2880: 2878597\n",
      "There may be extra bytes after the last HDU or the file is corrupted. [astropy.io.fits.hdu.hdulist]\n"
     ]
    },
    {
     "name": "stdout",
     "output_type": "stream",
     "text": [
      "u,g,r,i,z,Y\n",
      "-9999.0000,-9999.0000,-9999.0000,-9999.0000,-9999.0000,-9999.0000\n",
      "woof 0\n",
      "working on  24.65\n"
     ]
    },
    {
     "name": "stderr",
     "output_type": "stream",
     "text": [
      "WARNING: VerifyWarning: Error validating header for HDU #0 (note: Astropy uses zero-based indexing).\n",
      "    Header size is not multiple of 2880: 2929661\n",
      "There may be extra bytes after the last HDU or the file is corrupted. [astropy.io.fits.hdu.hdulist]\n"
     ]
    },
    {
     "name": "stdout",
     "output_type": "stream",
     "text": [
      "u,g,r,i,z,Y\n",
      "-9999.0000,-9999.0000,-9999.0000,-9999.0000,-9999.0000,-9999.0000\n",
      "woof 0\n",
      "working on  24.75\n"
     ]
    },
    {
     "name": "stderr",
     "output_type": "stream",
     "text": [
      "WARNING: VerifyWarning: Error validating header for HDU #0 (note: Astropy uses zero-based indexing).\n",
      "    Header size is not multiple of 2880: 2897352\n",
      "There may be extra bytes after the last HDU or the file is corrupted. [astropy.io.fits.hdu.hdulist]\n"
     ]
    },
    {
     "name": "stdout",
     "output_type": "stream",
     "text": [
      "u,g,r,i,z,Y\n",
      "-9999.0000,-9999.0000,-9999.0000,-9999.0000,-9999.0000,-9999.0000\n",
      "woof 0\n",
      "working on  24.85\n",
      "u,g,r,i,z,Y\n",
      "-9999.0000,-9999.0000,-9999.0000,-9999.0000,-9999.0000,-9999.0000\n",
      "woof 0\n",
      "working on  24.949999\n",
      "Index out of bounds?\n",
      "Yay! All done.\n"
     ]
    },
    {
     "name": "stderr",
     "output_type": "stream",
     "text": [
      "WARNING: VerifyWarning: Error validating header for HDU #0 (note: Astropy uses zero-based indexing).\n",
      "    Header size is not multiple of 2880: 2845409\n",
      "There may be extra bytes after the last HDU or the file is corrupted. [astropy.io.fits.hdu.hdulist]\n"
     ]
    }
   ],
   "source": [
    "c = 2.99e10   # speed of light in cm/sec...\n",
    "\n",
    "# open Kasen model file\n",
    "#fin    = h5py.File(kasen_pathname,'r')\n",
    "\n",
    "fblue='/Users/mwiesner/Kasen_Kilonova_Models_2017/systematic_kilonova_model_grid/knova_d1_n10_m0.025_vk0.30_fd1.0_Xlan1e-4.0.h5'\n",
    "#fblue = '/Users/mwiesner/KDC/kasen/knova_d1_n10_m0.030_vk0.05_fd1.0_Xlan1e-3.0.h5'\n",
    "fred = '/Users/mwiesner/Kasen_Kilonova_Models_2017/kilonova_models/knova_d1_n10_m0.040_vk0.15_Xlan1e-1.5.h5'\n",
    "\n",
    "#BLUE FILE\n",
    "# open model file\n",
    "fin    = h5py.File(fblue,'r')\n",
    "# frequency in Hz\n",
    "nu    = np.array(fin['nu'],dtype='d')\n",
    "# array of time in seconds\n",
    "times = np.array(fin['time'])\n",
    "# convert time to days\n",
    "times = times/3600.0/24.0\n",
    "\n",
    "# specific luminosity (ergs/s/Hz)\n",
    "# this is a 2D array, Lnu[times][nu]\n",
    "Lnu_all   = np.array(fin['Lnu'],dtype='d')\n",
    "#_____________________________________________\n",
    "\n",
    "#RED FILE\n",
    "# open model file\n",
    "fin2    = h5py.File(fred,'r')\n",
    "\n",
    "# frequency in Hz\n",
    "nu2    = np.array(fin2['nu'],dtype='d')\n",
    "# array of time in seconds\n",
    "times2 = np.array(fin2['time'])\n",
    "# convert time to days\n",
    "times2 = times2/3600.0/24.0\n",
    "\n",
    "# specific luminosity (ergs/s/Hz)\n",
    "# this is a 2D array, Lnu[times][nu]\n",
    "Lnu_all2   = np.array(fin2['Lnu'],dtype='d')\n",
    "\n",
    "for t_kn in times:\n",
    "    if t_kn < 0.00: continue\n",
    "    \n",
    "    if debug == True:  t_kn = 4.0\n",
    "        \n",
    "    print('working on ',t_kn)\n",
    "    f2.write(str(t_kn)+\" \\n\")\n",
    "    \n",
    "    try:\n",
    "        # index corresponding to t_kn\n",
    "        it = bisect.bisect(times,t_kn)\n",
    "        # spectrum at this epoch\n",
    "        Lnu = Lnu_all[it,:]\n",
    "        Lnu2 = Lnu_all2[it,:]\n",
    "    except:\n",
    "        print(\"Index out of bounds?\")\n",
    "        continue\n",
    "    \n",
    "    # Convert to in Llam (ergs/s/Angstrom)...\n",
    "    lam0  = c/nu*1e8          # rest-frame wavelength\n",
    "    lam   = lam0*(1+z_kn)     # redshifted wavelength\n",
    "    Llam = Lnu*nu**2.0/c/1e8  # Llam\n",
    "       \n",
    "    #Makes a dataframe of rest-frame wavelength, redshifted wavelength and flux\n",
    "    \n",
    "    df_model_blue = pd.DataFrame({'LAMBDA0':lam0, 'LAMBDA':lam, 'Llam':Llam})\n",
    "\n",
    "    # Convert to in Llam (ergs/s/Angstrom)...\n",
    "    lam02  = c/nu2*1e8      # rest-frame wavelength\n",
    "    lam2   = lam02*(1+z_kn) # redshifted wavelength\n",
    "    Llam2 = Lnu2*nu2**2.0/c/1e8  # Llam\n",
    "          \n",
    "    df_model_red = pd.DataFrame({'LAMBDA0':lam02, 'LAMBDA':lam2, 'Llam':Llam2})\n",
    "\n",
    "    df_model_comb['Llam'] = df_model_blue['Llam'] + df_model_red['Llam']\n",
    "\n",
    "    df_model_combined = pd.DataFrame({\"LAMBDA\":df_model_red['LAMBDA'], \"Llam\":df_model_comb['Llam']})\n",
    "        \n",
    "  #  plt.annotate('t = '+str(t_kn)+' day', (28000, this), horizontalalignment='right', fontsize=22)\n",
    "    \n",
    "    #print min(lam), max(lam)\n",
    "    wavelength_array = np.arange(min(lam02), max(lam02), 1.0)\n",
    "    \n",
    "    spec_flux_model = interpolate.interp1d(df_model_combined.LAMBDA, df_model_combined.Llam,bounds_error=False, fill_value=0.,kind='linear')\n",
    "    spec_flux_model_array = spec_flux_model(wavelength_array)\n",
    "\n",
    "    df_model_new = pd.DataFrame({'LAMBDA':wavelength_array, 'Llam':spec_flux_model_array})\n",
    "\n",
    "    #norm = df_model_new['Llam'].median()\n",
    "    norm = df_model_new[( (df_model_new.LAMBDA > 3000.) & (df_model_new.LAMBDA < 12000.) )].Llam.max()\n",
    "\n",
    "    df_model_new['normLlam'] = df_model_new['Llam']/norm\n",
    "\n",
    " #   spec_flux_model = interpolate.interp1d(df_model.LAMBDA0, df_model.Llam,bounds_error=False, fill_value=0.,kind='linear')\n",
    " #   spec_flux_model_array = spec_flux_model(wavelength_array)\n",
    "\n",
    " #   df_model_new = pd.DataFrame({'LAMBDA':wavelength_array, 'Llam':spec_flux_model_array})\n",
    "\n",
    "    #norm = df_model_new['Llam'].median()\n",
    " #   norm = df_model_new[( (df_model_new.LAMBDA > 0.) & (df_model_new.LAMBDA < 12000.) )].Llam.max()\n",
    " #   df_model_new['normLlam'] = df_model_new['Llam']/norm\n",
    "\n",
    "    #ax = df_model_new.plot('LAMBDA','normLlam', c='#000000', label='Model', fontsize=18)\n",
    " #   ax = df_model_new.plot('LAMBDA','normLlam', c='#888888', label='Model')\n",
    "    \n",
    "    \n",
    "    outputFile1 = sed_dirname+'sed_'+\"{:.2f}\".format(t_kn)+'.spec'\n",
    "    #outputFile1 = os.path.join(sed_dirname, outputFile1)\n",
    "  #  print(df_model_new['LAMBDA'])\n",
    "    df_model_new.to_csv(outputFile1,mode='w', index = False)\n",
    "\n",
    "  #  for band in bandList:\n",
    "        #print band\n",
    "   #     df_band.plot('LAMBDA', band, c=bandpassColors_dict[band], ax=ax)\n",
    "\n",
    "    #title = \"\"\"%s\"\"\" % (fblue)\n",
    "    #plt.title(title, fontsize=16)\n",
    "    #plt.xlim([3000., 11000.])\n",
    "    #plt.ylim([0.,1.1])\n",
    "    #ax.legend(loc='upper right', fontsize=14, framealpha=0.5)\n",
    "    #plt.legend(bbox_to_anchor=(1.05, 1.0), loc='upper left')\n",
    "    #ax.set_xlabel('wavelength (observed frame) [$\\\\AA$]',fontsize=16)\n",
    "    #ax.set_ylabel('Relative $F_{\\lambda}$',fontsize=16)\n",
    "    #ax.tick_params(axis = 'both', which = 'major', labelsize = 16)\n",
    "    #textstr = \"\"\"$z$=%.3f\\n$t$=%.2f days\"\"\" % (z_kn, t_kn)\n",
    "    #props = dict(boxstyle='round', facecolor='wheat', alpha=0.5)\n",
    "    #ax.text(0.05, 0.95, textstr, transform=ax.transAxes, fontsize=14, verticalalignment='top', bbox=props)\n",
    "    #ax.grid(False)\n",
    "    #plt.show()\n",
    "    \n",
    "    #ax2 = df_model_blue.plot('LAMBDA','Llam', color='blue', label='light r-process component',xlim=[3000.,30000.])\n",
    "  #  df_model_blue.plot('LAMBDA', 'Llam', ax=ax, xlim=[3000.,30000.], label='light r-process component')\n",
    "    #df_model_red.plot('LAMBDA', 'Llam', color='red', ax=ax2, label='heavy r-process component')\n",
    "    #df_model_comb.plot('LAMBDA', 'Llam', color='black', ax=ax2, label = 'composite')\n",
    "    #plt.show()\n",
    "  #  outputFile = \"\"\"KNspectrum.%s_z%.3f_a%05.2f.png\"\"\" % (fblue, z_kn, t_kn)\n",
    "    #outputFile = os.path.join(output_dirname, outputFile)\n",
    "    \n",
    "    #plt.tight_layout()\n",
    "  #  plt.savefig(outputFile)\n",
    "\n",
    "    # Distance to KN in cm...\n",
    "    Dlum = zToDlum(z_kn)\n",
    "    Dlum_cm = Mpc_to_cm(Dlum)\n",
    "\n",
    "    # Calculate Flam [ergs/s/cm**2/Angstrom] from Llam [ergs/s/Angstrom] and Dlum_cm [cm]...\n",
    "    df_model_new['Flam'] = df_model_new['Llam']/(Dlum_cm*Dlum_cm)\n",
    "\n",
    "    # Write df_model_new to a temporary output file...\n",
    "    tempFile = os.path.join(output_dirname,'temp_KNSpectrum.csv')\n",
    "    df_model_new.to_csv(tempFile, index=False)\n",
    "\n",
    "    run_calc_abmag('u,g,r,i,z,Y', bandpassFile, tempFile, 'LAMBDA', 'Flam', 'Flam', verbose)\n",
    "\n",
    "    print('woof', woof)\n",
    "    \n",
    "    if debug == True:  break\n",
    "\n",
    "print(\"Yay! All done.\")\n",
    "f.close()\n",
    "f2.close()\n"
   ]
  },
  {
   "cell_type": "markdown",
   "metadata": {},
   "source": [
    "## Create Animated Gif\n",
    "See https://stackoverflow.com/questions/753190/programmatically-generate-video-or-animated-gif-in-python, as suggested by S. Allam."
   ]
  },
  {
   "cell_type": "code",
   "execution_count": 122,
   "metadata": {},
   "outputs": [],
   "source": [
    "f.close()\n",
    "f2.close()"
   ]
  },
  {
   "cell_type": "code",
   "execution_count": 58,
   "metadata": {},
   "outputs": [
    {
     "ename": "NameError",
     "evalue": "name 'kasen_filename' is not defined",
     "output_type": "error",
     "traceback": [
      "\u001b[0;31m---------------------------------------------------------------------------\u001b[0m",
      "\u001b[0;31mNameError\u001b[0m                                 Traceback (most recent call last)",
      "\u001b[0;32m<ipython-input-58-afb3c2b0464f>\u001b[0m in \u001b[0;36m<module>\u001b[0;34m\u001b[0m\n\u001b[1;32m      1\u001b[0m \u001b[0;31m# Define name of the animated GIF to be output...\u001b[0m\u001b[0;34m\u001b[0m\u001b[0;34m\u001b[0m\u001b[0;34m\u001b[0m\u001b[0m\n\u001b[0;32m----> 2\u001b[0;31m \u001b[0moutputAnimGif\u001b[0m \u001b[0;34m=\u001b[0m \u001b[0;34m\"\"\"KNspectrum.%s_z%.3f.gif\"\"\"\u001b[0m \u001b[0;34m%\u001b[0m \u001b[0;34m(\u001b[0m\u001b[0mkasen_filename\u001b[0m\u001b[0;34m,\u001b[0m \u001b[0mt_kn\u001b[0m\u001b[0;34m)\u001b[0m\u001b[0;34m\u001b[0m\u001b[0;34m\u001b[0m\u001b[0m\n\u001b[0m\u001b[1;32m      3\u001b[0m \u001b[0moutputAnimGif\u001b[0m \u001b[0;34m=\u001b[0m \u001b[0mos\u001b[0m\u001b[0;34m.\u001b[0m\u001b[0mpath\u001b[0m\u001b[0;34m.\u001b[0m\u001b[0mjoin\u001b[0m\u001b[0;34m(\u001b[0m\u001b[0moutput_dirname\u001b[0m\u001b[0;34m,\u001b[0m \u001b[0moutputAnimGif\u001b[0m\u001b[0;34m)\u001b[0m\u001b[0;34m\u001b[0m\u001b[0;34m\u001b[0m\u001b[0m\n\u001b[1;32m      4\u001b[0m \u001b[0;34m\u001b[0m\u001b[0m\n\u001b[1;32m      5\u001b[0m \u001b[0;31m# Identify input png files for the animated GIF...\u001b[0m\u001b[0;34m\u001b[0m\u001b[0;34m\u001b[0m\u001b[0;34m\u001b[0m\u001b[0m\n",
      "\u001b[0;31mNameError\u001b[0m: name 'kasen_filename' is not defined"
     ]
    }
   ],
   "source": [
    "# Define name of the animated GIF to be output...    \n",
    "kasen_filename = 'blue_red'\n",
    "outputAnimGif = \"\"\"KNspectrum.%s_z%.3f.gif\"\"\" % (kasen_filename, t_kn)\n",
    "outputAnimGif = os.path.join(output_dirname, outputAnimGif)\n",
    "\n",
    "# Identify input png files for the animated GIF...\n",
    "filenameTemplate = \"\"\"KNspectrum.%s_z%.3f_a??.??.png\"\"\" % (kasen_filename, z_kn)\n",
    "filenameTemplate = os.path.join(output_dirname, filenameTemplate)\n",
    "#print filenameTemplate\n",
    "filenames = glob.glob(filenameTemplate)\n",
    "#for filename in filenames:\n",
    "#    print filename\n",
    "\n",
    "\n",
    "# Generate animated GIF...\n",
    "with imageio.get_writer(outputAnimGif, mode='I', duration=0.1) as writer:\n",
    "    for filename in filenames:\n",
    "        print(filename)\n",
    "        image = imageio.imread(filename)\n",
    "        writer.append_data(image)\n",
    "\n",
    "print(\"\"\"Animated GIF can be found here:  %s\"\"\" % (outputAnimGif))"
   ]
  },
  {
   "cell_type": "markdown",
   "metadata": {},
   "source": [
    "## Display Animated Gif\n",
    "See https://github.com/ipython/ipython/issues/10045#issuecomment-608641627"
   ]
  },
  {
   "cell_type": "code",
   "execution_count": 105,
   "metadata": {},
   "outputs": [],
   "source": [
    "from IPython.core.interactiveshell import InteractiveShell\n",
    "InteractiveShell.ast_node_interactivity = \"all\"\n",
    "from IPython import display\n",
    "\n",
    "# Display GIF in Jupyter, CoLab, IPython\n",
    "with open(outputAnimGif,'rb') as f:\n",
    "    display.Image(data=f.read(), format='png')"
   ]
  },
  {
   "cell_type": "markdown",
   "metadata": {},
   "source": [
    "## Write final spectrum model to CSV file (example):"
   ]
  },
  {
   "cell_type": "code",
   "execution_count": 11,
   "metadata": {},
   "outputs": [],
   "source": [
    "#df_model_new.to_csv('test.csv', index=False)\n",
    "#!head -50  test.csv"
   ]
  },
  {
   "cell_type": "markdown",
   "metadata": {},
   "source": [
    "## Read in KN SED and Calculate KN Synthetic Magnitudes"
   ]
  },
  {
   "cell_type": "code",
   "execution_count": 70,
   "metadata": {},
   "outputs": [
    {
     "name": "stdout",
     "output_type": "stream",
     "text": [
      "time after KN:  0.05\n"
     ]
    },
    {
     "name": "stderr",
     "output_type": "stream",
     "text": [
      "WARNING: VerifyWarning: Error validating header for HDU #0 (note: Astropy uses zero-based indexing).\n",
      "    Header size is not multiple of 2880: 4152158\n",
      "There may be extra bytes after the last HDU or the file is corrupted. [astropy.io.fits.hdu.hdulist]\n"
     ]
    },
    {
     "name": "stdout",
     "output_type": "stream",
     "text": [
      "u,g,r,i,z,Y\n",
      "18.5923,18.2342,18.0889,18.1812,18.3238,18.3117\n",
      "time after KN:  0.14999999\n"
     ]
    },
    {
     "name": "stderr",
     "output_type": "stream",
     "text": [
      "WARNING: VerifyWarning: Error validating header for HDU #0 (note: Astropy uses zero-based indexing).\n",
      "    Header size is not multiple of 2880: 4607852\n",
      "There may be extra bytes after the last HDU or the file is corrupted. [astropy.io.fits.hdu.hdulist]\n"
     ]
    },
    {
     "name": "stdout",
     "output_type": "stream",
     "text": [
      "u,g,r,i,z,Y\n",
      "17.8894,17.4411,17.2526,17.3307,17.5152,17.5250\n",
      "time after KN:  0.25\n"
     ]
    },
    {
     "name": "stderr",
     "output_type": "stream",
     "text": [
      "WARNING: VerifyWarning: Error validating header for HDU #0 (note: Astropy uses zero-based indexing).\n",
      "    Header size is not multiple of 2880: 4935668\n",
      "There may be extra bytes after the last HDU or the file is corrupted. [astropy.io.fits.hdu.hdulist]\n"
     ]
    },
    {
     "name": "stdout",
     "output_type": "stream",
     "text": [
      "u,g,r,i,z,Y\n",
      "17.6889,17.0494,16.8084,16.8796,17.0514,17.0068\n",
      "time after KN:  0.35\n"
     ]
    },
    {
     "name": "stderr",
     "output_type": "stream",
     "text": [
      "WARNING: VerifyWarning: Error validating header for HDU #0 (note: Astropy uses zero-based indexing).\n",
      "    Header size is not multiple of 2880: 5170886\n",
      "There may be extra bytes after the last HDU or the file is corrupted. [astropy.io.fits.hdu.hdulist]\n"
     ]
    },
    {
     "name": "stdout",
     "output_type": "stream",
     "text": [
      "u,g,r,i,z,Y\n",
      "17.5594,16.7802,16.4953,16.4993,16.7070,16.6979\n",
      "time after KN:  0.45000002\n"
     ]
    },
    {
     "name": "stderr",
     "output_type": "stream",
     "text": [
      "WARNING: VerifyWarning: Error validating header for HDU #0 (note: Astropy uses zero-based indexing).\n",
      "    Header size is not multiple of 2880: 5398271\n",
      "There may be extra bytes after the last HDU or the file is corrupted. [astropy.io.fits.hdu.hdulist]\n"
     ]
    },
    {
     "name": "stdout",
     "output_type": "stream",
     "text": [
      "u,g,r,i,z,Y\n",
      "17.5655,16.6171,16.2554,16.2749,16.4688,16.4531\n",
      "time after KN:  0.55\n"
     ]
    },
    {
     "name": "stderr",
     "output_type": "stream",
     "text": [
      "WARNING: VerifyWarning: Error validating header for HDU #0 (note: Astropy uses zero-based indexing).\n",
      "    Header size is not multiple of 2880: 5556868\n",
      "There may be extra bytes after the last HDU or the file is corrupted. [astropy.io.fits.hdu.hdulist]\n"
     ]
    },
    {
     "name": "stdout",
     "output_type": "stream",
     "text": [
      "u,g,r,i,z,Y\n",
      "17.6111,16.5124,16.0717,16.0956,16.2486,16.2309\n",
      "time after KN:  0.65000004\n"
     ]
    },
    {
     "name": "stderr",
     "output_type": "stream",
     "text": [
      "WARNING: VerifyWarning: Error validating header for HDU #0 (note: Astropy uses zero-based indexing).\n",
      "    Header size is not multiple of 2880: 5650511\n",
      "There may be extra bytes after the last HDU or the file is corrupted. [astropy.io.fits.hdu.hdulist]\n"
     ]
    },
    {
     "name": "stdout",
     "output_type": "stream",
     "text": [
      "u,g,r,i,z,Y\n",
      "17.5879,16.4118,15.9158,15.9694,16.1040,16.1354\n",
      "time after KN:  0.75\n"
     ]
    },
    {
     "name": "stderr",
     "output_type": "stream",
     "text": [
      "WARNING: VerifyWarning: Error validating header for HDU #0 (note: Astropy uses zero-based indexing).\n",
      "    Header size is not multiple of 2880: 5769004\n",
      "There may be extra bytes after the last HDU or the file is corrupted. [astropy.io.fits.hdu.hdulist]\n"
     ]
    },
    {
     "name": "stdout",
     "output_type": "stream",
     "text": [
      "u,g,r,i,z,Y\n",
      "17.6923,16.3710,15.7964,15.8455,15.9590,16.0190\n",
      "time after KN:  0.84999996\n"
     ]
    },
    {
     "name": "stderr",
     "output_type": "stream",
     "text": [
      "WARNING: VerifyWarning: Error validating header for HDU #0 (note: Astropy uses zero-based indexing).\n",
      "    Header size is not multiple of 2880: 5782572\n",
      "There may be extra bytes after the last HDU or the file is corrupted. [astropy.io.fits.hdu.hdulist]\n"
     ]
    },
    {
     "name": "stdout",
     "output_type": "stream",
     "text": [
      "u,g,r,i,z,Y\n",
      "17.7817,16.3621,15.6969,15.7487,15.8474,15.8942\n",
      "time after KN:  0.95\n"
     ]
    },
    {
     "name": "stderr",
     "output_type": "stream",
     "text": [
      "WARNING: VerifyWarning: Error validating header for HDU #0 (note: Astropy uses zero-based indexing).\n",
      "    Header size is not multiple of 2880: 5764292\n",
      "There may be extra bytes after the last HDU or the file is corrupted. [astropy.io.fits.hdu.hdulist]\n"
     ]
    },
    {
     "name": "stdout",
     "output_type": "stream",
     "text": [
      "u,g,r,i,z,Y\n",
      "17.9031,16.3704,15.6245,15.7009,15.7448,15.8500\n",
      "time after KN:  1.0500001\n"
     ]
    },
    {
     "name": "stderr",
     "output_type": "stream",
     "text": [
      "WARNING: VerifyWarning: Error validating header for HDU #0 (note: Astropy uses zero-based indexing).\n",
      "    Header size is not multiple of 2880: 5834748\n",
      "There may be extra bytes after the last HDU or the file is corrupted. [astropy.io.fits.hdu.hdulist]\n"
     ]
    },
    {
     "name": "stdout",
     "output_type": "stream",
     "text": [
      "u,g,r,i,z,Y\n",
      "18.0035,16.4049,15.5772,15.6424,15.6546,15.7474\n",
      "time after KN:  1.15\n"
     ]
    },
    {
     "name": "stderr",
     "output_type": "stream",
     "text": [
      "WARNING: VerifyWarning: Error validating header for HDU #0 (note: Astropy uses zero-based indexing).\n",
      "    Header size is not multiple of 2880: 5873611\n",
      "There may be extra bytes after the last HDU or the file is corrupted. [astropy.io.fits.hdu.hdulist]\n"
     ]
    },
    {
     "name": "stdout",
     "output_type": "stream",
     "text": [
      "u,g,r,i,z,Y\n",
      "18.1403,16.4481,15.5338,15.5756,15.5934,15.6822\n",
      "time after KN:  1.25\n"
     ]
    },
    {
     "name": "stderr",
     "output_type": "stream",
     "text": [
      "WARNING: VerifyWarning: Error validating header for HDU #0 (note: Astropy uses zero-based indexing).\n",
      "    Header size is not multiple of 2880: 5928863\n",
      "There may be extra bytes after the last HDU or the file is corrupted. [astropy.io.fits.hdu.hdulist]\n"
     ]
    },
    {
     "name": "stdout",
     "output_type": "stream",
     "text": [
      "u,g,r,i,z,Y\n",
      "18.2293,16.5077,15.4820,15.5175,15.5104,15.6053\n",
      "time after KN:  1.35\n"
     ]
    },
    {
     "name": "stderr",
     "output_type": "stream",
     "text": [
      "WARNING: VerifyWarning: Error validating header for HDU #0 (note: Astropy uses zero-based indexing).\n",
      "    Header size is not multiple of 2880: 5916178\n",
      "There may be extra bytes after the last HDU or the file is corrupted. [astropy.io.fits.hdu.hdulist]\n"
     ]
    },
    {
     "name": "stdout",
     "output_type": "stream",
     "text": [
      "u,g,r,i,z,Y\n",
      "18.4187,16.5847,15.4473,15.4768,15.4409,15.5333\n",
      "time after KN:  1.4499999\n"
     ]
    },
    {
     "name": "stderr",
     "output_type": "stream",
     "text": [
      "WARNING: VerifyWarning: Error validating header for HDU #0 (note: Astropy uses zero-based indexing).\n",
      "    Header size is not multiple of 2880: 5919290\n",
      "There may be extra bytes after the last HDU or the file is corrupted. [astropy.io.fits.hdu.hdulist]\n"
     ]
    },
    {
     "name": "stdout",
     "output_type": "stream",
     "text": [
      "u,g,r,i,z,Y\n",
      "18.4438,16.6210,15.4568,15.4745,15.4537,15.5140\n",
      "time after KN:  1.5500001\n"
     ]
    },
    {
     "name": "stderr",
     "output_type": "stream",
     "text": [
      "WARNING: VerifyWarning: Error validating header for HDU #0 (note: Astropy uses zero-based indexing).\n",
      "    Header size is not multiple of 2880: 5900177\n",
      "There may be extra bytes after the last HDU or the file is corrupted. [astropy.io.fits.hdu.hdulist]\n"
     ]
    },
    {
     "name": "stdout",
     "output_type": "stream",
     "text": [
      "u,g,r,i,z,Y\n",
      "18.4913,16.7145,15.4592,15.4474,15.3791,15.4395\n",
      "time after KN:  1.65\n"
     ]
    },
    {
     "name": "stderr",
     "output_type": "stream",
     "text": [
      "WARNING: VerifyWarning: Error validating header for HDU #0 (note: Astropy uses zero-based indexing).\n",
      "    Header size is not multiple of 2880: 5918329\n",
      "There may be extra bytes after the last HDU or the file is corrupted. [astropy.io.fits.hdu.hdulist]\n"
     ]
    },
    {
     "name": "stdout",
     "output_type": "stream",
     "text": [
      "u,g,r,i,z,Y\n",
      "18.6765,16.8156,15.4598,15.4151,15.3412,15.3878\n",
      "time after KN:  1.75\n"
     ]
    },
    {
     "name": "stderr",
     "output_type": "stream",
     "text": [
      "WARNING: VerifyWarning: Error validating header for HDU #0 (note: Astropy uses zero-based indexing).\n",
      "    Header size is not multiple of 2880: 5847318\n",
      "There may be extra bytes after the last HDU or the file is corrupted. [astropy.io.fits.hdu.hdulist]\n"
     ]
    },
    {
     "name": "stdout",
     "output_type": "stream",
     "text": [
      "u,g,r,i,z,Y\n",
      "18.6463,16.8540,15.4906,15.4399,15.3447,15.3695\n",
      "time after KN:  1.85\n"
     ]
    },
    {
     "name": "stderr",
     "output_type": "stream",
     "text": [
      "WARNING: VerifyWarning: Error validating header for HDU #0 (note: Astropy uses zero-based indexing).\n",
      "    Header size is not multiple of 2880: 5903415\n",
      "There may be extra bytes after the last HDU or the file is corrupted. [astropy.io.fits.hdu.hdulist]\n"
     ]
    },
    {
     "name": "stdout",
     "output_type": "stream",
     "text": [
      "u,g,r,i,z,Y\n",
      "18.8385,16.9955,15.4947,15.3822,15.2909,15.3048\n",
      "time after KN:  1.9499999\n"
     ]
    },
    {
     "name": "stderr",
     "output_type": "stream",
     "text": [
      "WARNING: VerifyWarning: Error validating header for HDU #0 (note: Astropy uses zero-based indexing).\n",
      "    Header size is not multiple of 2880: 5904171\n",
      "There may be extra bytes after the last HDU or the file is corrupted. [astropy.io.fits.hdu.hdulist]\n"
     ]
    },
    {
     "name": "stdout",
     "output_type": "stream",
     "text": [
      "u,g,r,i,z,Y\n",
      "18.8100,17.0254,15.5494,15.4301,15.3231,15.2888\n",
      "time after KN:  2.05\n"
     ]
    },
    {
     "name": "stderr",
     "output_type": "stream",
     "text": [
      "WARNING: VerifyWarning: Error validating header for HDU #0 (note: Astropy uses zero-based indexing).\n",
      "    Header size is not multiple of 2880: 5890759\n",
      "There may be extra bytes after the last HDU or the file is corrupted. [astropy.io.fits.hdu.hdulist]\n"
     ]
    },
    {
     "name": "stdout",
     "output_type": "stream",
     "text": [
      "u,g,r,i,z,Y\n",
      "18.9825,17.2144,15.5725,15.3810,15.2557,15.2208\n",
      "time after KN:  2.1499999\n"
     ]
    },
    {
     "name": "stderr",
     "output_type": "stream",
     "text": [
      "WARNING: VerifyWarning: Error validating header for HDU #0 (note: Astropy uses zero-based indexing).\n",
      "    Header size is not multiple of 2880: 5811631\n",
      "There may be extra bytes after the last HDU or the file is corrupted. [astropy.io.fits.hdu.hdulist]\n"
     ]
    },
    {
     "name": "stdout",
     "output_type": "stream",
     "text": [
      "u,g,r,i,z,Y\n",
      "18.8557,17.2345,15.6171,15.4231,15.2969,15.2371\n",
      "time after KN:  2.25\n"
     ]
    },
    {
     "name": "stderr",
     "output_type": "stream",
     "text": [
      "WARNING: VerifyWarning: Error validating header for HDU #0 (note: Astropy uses zero-based indexing).\n",
      "    Header size is not multiple of 2880: 5935818\n",
      "There may be extra bytes after the last HDU or the file is corrupted. [astropy.io.fits.hdu.hdulist]\n"
     ]
    },
    {
     "name": "stdout",
     "output_type": "stream",
     "text": [
      "u,g,r,i,z,Y\n",
      "19.0444,17.4597,15.6645,15.3752,15.2418,15.1580\n",
      "time after KN:  2.3500001\n"
     ]
    },
    {
     "name": "stderr",
     "output_type": "stream",
     "text": [
      "WARNING: VerifyWarning: Error validating header for HDU #0 (note: Astropy uses zero-based indexing).\n",
      "    Header size is not multiple of 2880: 5831773\n",
      "There may be extra bytes after the last HDU or the file is corrupted. [astropy.io.fits.hdu.hdulist]\n"
     ]
    },
    {
     "name": "stdout",
     "output_type": "stream",
     "text": [
      "u,g,r,i,z,Y\n",
      "18.9935,17.4494,15.7233,15.4240,15.2851,15.1714\n",
      "time after KN:  2.45\n"
     ]
    },
    {
     "name": "stderr",
     "output_type": "stream",
     "text": [
      "WARNING: VerifyWarning: Error validating header for HDU #0 (note: Astropy uses zero-based indexing).\n",
      "    Header size is not multiple of 2880: 5877648\n",
      "There may be extra bytes after the last HDU or the file is corrupted. [astropy.io.fits.hdu.hdulist]\n"
     ]
    },
    {
     "name": "stdout",
     "output_type": "stream",
     "text": [
      "u,g,r,i,z,Y\n",
      "19.2225,17.7075,15.7830,15.4166,15.2476,15.1228\n",
      "time after KN:  2.55\n"
     ]
    },
    {
     "name": "stderr",
     "output_type": "stream",
     "text": [
      "WARNING: VerifyWarning: Error validating header for HDU #0 (note: Astropy uses zero-based indexing).\n",
      "    Header size is not multiple of 2880: 5745786\n",
      "There may be extra bytes after the last HDU or the file is corrupted. [astropy.io.fits.hdu.hdulist]\n"
     ]
    },
    {
     "name": "stdout",
     "output_type": "stream",
     "text": [
      "u,g,r,i,z,Y\n",
      "19.1854,17.7885,15.8620,15.4292,15.2774,15.1137\n",
      "time after KN:  2.6499999\n"
     ]
    },
    {
     "name": "stderr",
     "output_type": "stream",
     "text": [
      "WARNING: VerifyWarning: Error validating header for HDU #0 (note: Astropy uses zero-based indexing).\n",
      "    Header size is not multiple of 2880: 5818619\n",
      "There may be extra bytes after the last HDU or the file is corrupted. [astropy.io.fits.hdu.hdulist]\n"
     ]
    },
    {
     "name": "stdout",
     "output_type": "stream",
     "text": [
      "u,g,r,i,z,Y\n",
      "19.2203,17.8609,15.9049,15.4744,15.2754,15.1415\n",
      "time after KN:  2.75\n"
     ]
    },
    {
     "name": "stderr",
     "output_type": "stream",
     "text": [
      "WARNING: VerifyWarning: Error validating header for HDU #0 (note: Astropy uses zero-based indexing).\n",
      "    Header size is not multiple of 2880: 5723470\n",
      "There may be extra bytes after the last HDU or the file is corrupted. [astropy.io.fits.hdu.hdulist]\n"
     ]
    },
    {
     "name": "stdout",
     "output_type": "stream",
     "text": [
      "u,g,r,i,z,Y\n",
      "19.4234,18.0728,15.9870,15.4520,15.2294,15.0823\n",
      "time after KN:  2.8500001\n"
     ]
    },
    {
     "name": "stderr",
     "output_type": "stream",
     "text": [
      "WARNING: VerifyWarning: Error validating header for HDU #0 (note: Astropy uses zero-based indexing).\n",
      "    Header size is not multiple of 2880: 5824205\n",
      "There may be extra bytes after the last HDU or the file is corrupted. [astropy.io.fits.hdu.hdulist]\n"
     ]
    },
    {
     "name": "stdout",
     "output_type": "stream",
     "text": [
      "u,g,r,i,z,Y\n",
      "19.4158,18.0891,16.0667,15.4980,15.2659,15.0879\n",
      "time after KN:  2.95\n"
     ]
    },
    {
     "name": "stderr",
     "output_type": "stream",
     "text": [
      "WARNING: VerifyWarning: Error validating header for HDU #0 (note: Astropy uses zero-based indexing).\n",
      "    Header size is not multiple of 2880: 5840592\n",
      "There may be extra bytes after the last HDU or the file is corrupted. [astropy.io.fits.hdu.hdulist]\n"
     ]
    },
    {
     "name": "stdout",
     "output_type": "stream",
     "text": [
      "u,g,r,i,z,Y\n",
      "19.5626,18.2867,16.1397,15.5547,15.2597,15.0791\n",
      "time after KN:  3.05\n"
     ]
    },
    {
     "name": "stderr",
     "output_type": "stream",
     "text": [
      "WARNING: VerifyWarning: Error validating header for HDU #0 (note: Astropy uses zero-based indexing).\n",
      "    Header size is not multiple of 2880: 5793940\n",
      "There may be extra bytes after the last HDU or the file is corrupted. [astropy.io.fits.hdu.hdulist]\n"
     ]
    },
    {
     "name": "stdout",
     "output_type": "stream",
     "text": [
      "u,g,r,i,z,Y\n",
      "19.7678,18.4063,16.2455,15.5752,15.2644,15.0681\n",
      "time after KN:  3.1499999\n"
     ]
    },
    {
     "name": "stderr",
     "output_type": "stream",
     "text": [
      "WARNING: VerifyWarning: Error validating header for HDU #0 (note: Astropy uses zero-based indexing).\n",
      "    Header size is not multiple of 2880: 5781303\n",
      "There may be extra bytes after the last HDU or the file is corrupted. [astropy.io.fits.hdu.hdulist]\n"
     ]
    },
    {
     "name": "stdout",
     "output_type": "stream",
     "text": [
      "u,g,r,i,z,Y\n",
      "19.7120,18.4030,16.3028,15.6231,15.3029,15.0872\n",
      "time after KN:  3.25\n"
     ]
    },
    {
     "name": "stderr",
     "output_type": "stream",
     "text": [
      "WARNING: VerifyWarning: Error validating header for HDU #0 (note: Astropy uses zero-based indexing).\n",
      "    Header size is not multiple of 2880: 5624035\n",
      "There may be extra bytes after the last HDU or the file is corrupted. [astropy.io.fits.hdu.hdulist]\n"
     ]
    },
    {
     "name": "stdout",
     "output_type": "stream",
     "text": [
      "u,g,r,i,z,Y\n",
      "19.9661,18.6054,16.4328,15.6948,15.2955,15.0700\n",
      "time after KN:  3.3500001\n"
     ]
    },
    {
     "name": "stderr",
     "output_type": "stream",
     "text": [
      "WARNING: VerifyWarning: Error validating header for HDU #0 (note: Astropy uses zero-based indexing).\n",
      "    Header size is not multiple of 2880: 5765600\n",
      "There may be extra bytes after the last HDU or the file is corrupted. [astropy.io.fits.hdu.hdulist]\n"
     ]
    },
    {
     "name": "stdout",
     "output_type": "stream",
     "text": [
      "u,g,r,i,z,Y\n",
      "20.1596,18.7651,16.5820,15.7959,15.3171,15.0674\n",
      "time after KN:  3.45\n"
     ]
    },
    {
     "name": "stderr",
     "output_type": "stream",
     "text": [
      "WARNING: VerifyWarning: Error validating header for HDU #0 (note: Astropy uses zero-based indexing).\n",
      "    Header size is not multiple of 2880: 5821608\n",
      "There may be extra bytes after the last HDU or the file is corrupted. [astropy.io.fits.hdu.hdulist]\n"
     ]
    },
    {
     "name": "stdout",
     "output_type": "stream",
     "text": [
      "u,g,r,i,z,Y\n",
      "20.1950,18.7570,16.6822,15.8284,15.3825,15.0867\n",
      "time after KN:  3.55\n"
     ]
    },
    {
     "name": "stderr",
     "output_type": "stream",
     "text": [
      "WARNING: VerifyWarning: Error validating header for HDU #0 (note: Astropy uses zero-based indexing).\n",
      "    Header size is not multiple of 2880: 5726117\n",
      "There may be extra bytes after the last HDU or the file is corrupted. [astropy.io.fits.hdu.hdulist]\n"
     ]
    },
    {
     "name": "stdout",
     "output_type": "stream",
     "text": [
      "u,g,r,i,z,Y\n",
      "20.3220,18.8349,16.7370,15.8614,15.3782,15.0899\n",
      "time after KN:  3.6499999\n"
     ]
    },
    {
     "name": "stderr",
     "output_type": "stream",
     "text": [
      "WARNING: VerifyWarning: Error validating header for HDU #0 (note: Astropy uses zero-based indexing).\n",
      "    Header size is not multiple of 2880: 5599590\n",
      "There may be extra bytes after the last HDU or the file is corrupted. [astropy.io.fits.hdu.hdulist]\n"
     ]
    },
    {
     "name": "stdout",
     "output_type": "stream",
     "text": [
      "u,g,r,i,z,Y\n",
      "20.5136,19.1446,16.9788,15.9872,15.4130,15.0828\n",
      "time after KN:  3.75\n"
     ]
    },
    {
     "name": "stderr",
     "output_type": "stream",
     "text": [
      "WARNING: VerifyWarning: Error validating header for HDU #0 (note: Astropy uses zero-based indexing).\n",
      "    Header size is not multiple of 2880: 5766378\n",
      "There may be extra bytes after the last HDU or the file is corrupted. [astropy.io.fits.hdu.hdulist]\n"
     ]
    },
    {
     "name": "stdout",
     "output_type": "stream",
     "text": [
      "u,g,r,i,z,Y\n",
      "20.7251,19.2444,17.1040,16.1028,15.4861,15.1230\n",
      "time after KN:  3.8500001\n",
      "u,g,r,i,z,Y\n",
      "20.6622,19.2305,17.1561,16.1341,15.5459,15.1239\n",
      "time after KN:  3.95\n"
     ]
    },
    {
     "name": "stderr",
     "output_type": "stream",
     "text": [
      "WARNING: VerifyWarning: Error validating header for HDU #0 (note: Astropy uses zero-based indexing).\n",
      "    Header size is not multiple of 2880: 5749781\n",
      "There may be extra bytes after the last HDU or the file is corrupted. [astropy.io.fits.hdu.hdulist]\n"
     ]
    },
    {
     "name": "stdout",
     "output_type": "stream",
     "text": [
      "u,g,r,i,z,Y\n",
      "20.9459,19.4318,17.2588,16.1641,15.5326,15.1279\n",
      "time after KN:  4.0499997\n"
     ]
    },
    {
     "name": "stderr",
     "output_type": "stream",
     "text": [
      "WARNING: VerifyWarning: Error validating header for HDU #0 (note: Astropy uses zero-based indexing).\n",
      "    Header size is not multiple of 2880: 5687207\n",
      "There may be extra bytes after the last HDU or the file is corrupted. [astropy.io.fits.hdu.hdulist]\n"
     ]
    },
    {
     "name": "stdout",
     "output_type": "stream",
     "text": [
      "u,g,r,i,z,Y\n",
      "21.2994,19.6112,17.4484,16.3031,15.6212,15.1562\n",
      "time after KN:  4.15\n"
     ]
    },
    {
     "name": "stderr",
     "output_type": "stream",
     "text": [
      "WARNING: VerifyWarning: Error validating header for HDU #0 (note: Astropy uses zero-based indexing).\n",
      "    Header size is not multiple of 2880: 5623645\n",
      "There may be extra bytes after the last HDU or the file is corrupted. [astropy.io.fits.hdu.hdulist]\n"
     ]
    },
    {
     "name": "stdout",
     "output_type": "stream",
     "text": [
      "u,g,r,i,z,Y\n",
      "21.3573,19.7826,17.5712,16.4396,15.7698,15.2343\n",
      "time after KN:  4.25\n"
     ]
    },
    {
     "name": "stderr",
     "output_type": "stream",
     "text": [
      "WARNING: VerifyWarning: Error validating header for HDU #0 (note: Astropy uses zero-based indexing).\n",
      "    Header size is not multiple of 2880: 5717690\n",
      "There may be extra bytes after the last HDU or the file is corrupted. [astropy.io.fits.hdu.hdulist]\n"
     ]
    },
    {
     "name": "stdout",
     "output_type": "stream",
     "text": [
      "u,g,r,i,z,Y\n",
      "21.2961,19.7043,17.6233,16.4676,15.8224,15.2500\n",
      "time after KN:  4.35\n"
     ]
    },
    {
     "name": "stderr",
     "output_type": "stream",
     "text": [
      "WARNING: VerifyWarning: Error validating header for HDU #0 (note: Astropy uses zero-based indexing).\n",
      "    Header size is not multiple of 2880: 5746893\n",
      "There may be extra bytes after the last HDU or the file is corrupted. [astropy.io.fits.hdu.hdulist]\n"
     ]
    },
    {
     "name": "stdout",
     "output_type": "stream",
     "text": [
      "u,g,r,i,z,Y\n",
      "21.5887,20.0402,17.6581,16.5086,15.8234,15.2387\n",
      "time after KN:  4.4500003\n"
     ]
    },
    {
     "name": "stderr",
     "output_type": "stream",
     "text": [
      "WARNING: VerifyWarning: Error validating header for HDU #0 (note: Astropy uses zero-based indexing).\n",
      "    Header size is not multiple of 2880: 5729888\n",
      "There may be extra bytes after the last HDU or the file is corrupted. [astropy.io.fits.hdu.hdulist]\n"
     ]
    },
    {
     "name": "stdout",
     "output_type": "stream",
     "text": [
      "u,g,r,i,z,Y\n",
      "21.7895,20.1664,17.8115,16.6171,15.8815,15.2615\n",
      "time after KN:  4.5499997\n"
     ]
    },
    {
     "name": "stderr",
     "output_type": "stream",
     "text": [
      "WARNING: VerifyWarning: Error validating header for HDU #0 (note: Astropy uses zero-based indexing).\n",
      "    Header size is not multiple of 2880: 5699748\n",
      "There may be extra bytes after the last HDU or the file is corrupted. [astropy.io.fits.hdu.hdulist]\n"
     ]
    },
    {
     "name": "stdout",
     "output_type": "stream",
     "text": [
      "u,g,r,i,z,Y\n",
      "22.1197,20.2661,17.9324,16.7922,16.0403,15.3860\n",
      "time after KN:  4.65\n"
     ]
    },
    {
     "name": "stderr",
     "output_type": "stream",
     "text": [
      "WARNING: VerifyWarning: Error validating header for HDU #0 (note: Astropy uses zero-based indexing).\n",
      "    Header size is not multiple of 2880: 5664109\n",
      "There may be extra bytes after the last HDU or the file is corrupted. [astropy.io.fits.hdu.hdulist]\n"
     ]
    },
    {
     "name": "stdout",
     "output_type": "stream",
     "text": [
      "u,g,r,i,z,Y\n",
      "22.2708,20.3824,18.0013,16.8440,16.1549,15.4879\n",
      "time after KN:  4.75\n"
     ]
    },
    {
     "name": "stderr",
     "output_type": "stream",
     "text": [
      "WARNING: VerifyWarning: Error validating header for HDU #0 (note: Astropy uses zero-based indexing).\n",
      "    Header size is not multiple of 2880: 5576623\n",
      "There may be extra bytes after the last HDU or the file is corrupted. [astropy.io.fits.hdu.hdulist]\n"
     ]
    },
    {
     "name": "stdout",
     "output_type": "stream",
     "text": [
      "u,g,r,i,z,Y\n",
      "22.2066,20.4629,18.0103,16.8820,16.1760,15.5200\n",
      "time after KN:  4.85\n"
     ]
    },
    {
     "name": "stderr",
     "output_type": "stream",
     "text": [
      "WARNING: VerifyWarning: Error validating header for HDU #0 (note: Astropy uses zero-based indexing).\n",
      "    Header size is not multiple of 2880: 5705615\n",
      "There may be extra bytes after the last HDU or the file is corrupted. [astropy.io.fits.hdu.hdulist]\n"
     ]
    },
    {
     "name": "stdout",
     "output_type": "stream",
     "text": [
      "u,g,r,i,z,Y\n",
      "22.6728,20.7715,18.1933,16.9522,16.1900,15.5265\n",
      "time after KN:  4.9500003\n"
     ]
    },
    {
     "name": "stderr",
     "output_type": "stream",
     "text": [
      "WARNING: VerifyWarning: Error validating header for HDU #0 (note: Astropy uses zero-based indexing).\n",
      "    Header size is not multiple of 2880: 5749508\n",
      "There may be extra bytes after the last HDU or the file is corrupted. [astropy.io.fits.hdu.hdulist]\n"
     ]
    },
    {
     "name": "stdout",
     "output_type": "stream",
     "text": [
      "u,g,r,i,z,Y\n",
      "22.7776,20.8326,18.2741,17.0260,16.2669,15.5567\n",
      "time after KN:  5.0499997\n"
     ]
    },
    {
     "name": "stderr",
     "output_type": "stream",
     "text": [
      "WARNING: VerifyWarning: Error validating header for HDU #0 (note: Astropy uses zero-based indexing).\n",
      "    Header size is not multiple of 2880: 5623442\n",
      "There may be extra bytes after the last HDU or the file is corrupted. [astropy.io.fits.hdu.hdulist]\n"
     ]
    },
    {
     "name": "stdout",
     "output_type": "stream",
     "text": [
      "u,g,r,i,z,Y\n",
      "23.0411,20.9804,18.3817,17.1637,16.4110,15.7425\n",
      "time after KN:  5.15\n"
     ]
    },
    {
     "name": "stderr",
     "output_type": "stream",
     "text": [
      "WARNING: VerifyWarning: Error validating header for HDU #0 (note: Astropy uses zero-based indexing).\n",
      "    Header size is not multiple of 2880: 5675348\n",
      "There may be extra bytes after the last HDU or the file is corrupted. [astropy.io.fits.hdu.hdulist]\n"
     ]
    },
    {
     "name": "stdout",
     "output_type": "stream",
     "text": [
      "u,g,r,i,z,Y\n",
      "23.2353,21.0043,18.4464,17.2139,16.4360,15.8101\n",
      "time after KN:  5.25\n"
     ]
    },
    {
     "name": "stderr",
     "output_type": "stream",
     "text": [
      "WARNING: VerifyWarning: Error validating header for HDU #0 (note: Astropy uses zero-based indexing).\n",
      "    Header size is not multiple of 2880: 5777437\n",
      "There may be extra bytes after the last HDU or the file is corrupted. [astropy.io.fits.hdu.hdulist]\n"
     ]
    },
    {
     "name": "stdout",
     "output_type": "stream",
     "text": [
      "u,g,r,i,z,Y\n",
      "23.2368,21.1596,18.5250,17.2421,16.4972,15.8695\n",
      "time after KN:  5.35\n"
     ]
    },
    {
     "name": "stderr",
     "output_type": "stream",
     "text": [
      "WARNING: VerifyWarning: Error validating header for HDU #0 (note: Astropy uses zero-based indexing).\n",
      "    Header size is not multiple of 2880: 5727608\n",
      "There may be extra bytes after the last HDU or the file is corrupted. [astropy.io.fits.hdu.hdulist]\n"
     ]
    },
    {
     "name": "stdout",
     "output_type": "stream",
     "text": [
      "u,g,r,i,z,Y\n",
      "23.6895,21.4584,18.6139,17.3119,16.5193,15.8751\n",
      "time after KN:  5.4500003\n"
     ]
    },
    {
     "name": "stderr",
     "output_type": "stream",
     "text": [
      "WARNING: VerifyWarning: Error validating header for HDU #0 (note: Astropy uses zero-based indexing).\n",
      "    Header size is not multiple of 2880: 5716344\n",
      "There may be extra bytes after the last HDU or the file is corrupted. [astropy.io.fits.hdu.hdulist]\n"
     ]
    },
    {
     "name": "stdout",
     "output_type": "stream",
     "text": [
      "u,g,r,i,z,Y\n",
      "23.6191,21.5579,18.7117,17.3926,16.5990,15.9101\n",
      "time after KN:  5.5499997\n"
     ]
    },
    {
     "name": "stderr",
     "output_type": "stream",
     "text": [
      "WARNING: VerifyWarning: Error validating header for HDU #0 (note: Astropy uses zero-based indexing).\n",
      "    Header size is not multiple of 2880: 5821147\n",
      "There may be extra bytes after the last HDU or the file is corrupted. [astropy.io.fits.hdu.hdulist]\n"
     ]
    },
    {
     "name": "stdout",
     "output_type": "stream",
     "text": [
      "u,g,r,i,z,Y\n",
      "23.8714,21.5550,18.8589,17.4832,16.6881,16.0086\n",
      "time after KN:  5.65\n"
     ]
    },
    {
     "name": "stderr",
     "output_type": "stream",
     "text": [
      "WARNING: VerifyWarning: Error validating header for HDU #0 (note: Astropy uses zero-based indexing).\n",
      "    Header size is not multiple of 2880: 5668714\n",
      "There may be extra bytes after the last HDU or the file is corrupted. [astropy.io.fits.hdu.hdulist]\n"
     ]
    },
    {
     "name": "stdout",
     "output_type": "stream",
     "text": [
      "u,g,r,i,z,Y\n",
      "23.6740,21.6829,18.9292,17.5790,16.7736,16.1039\n",
      "time after KN:  5.75\n"
     ]
    },
    {
     "name": "stderr",
     "output_type": "stream",
     "text": [
      "WARNING: VerifyWarning: Error validating header for HDU #0 (note: Astropy uses zero-based indexing).\n",
      "    Header size is not multiple of 2880: 5774075\n",
      "There may be extra bytes after the last HDU or the file is corrupted. [astropy.io.fits.hdu.hdulist]\n"
     ]
    },
    {
     "name": "stdout",
     "output_type": "stream",
     "text": [
      "u,g,r,i,z,Y\n",
      "24.3214,21.7764,18.9593,17.6485,16.7919,16.1435\n",
      "time after KN:  5.85\n"
     ]
    },
    {
     "name": "stderr",
     "output_type": "stream",
     "text": [
      "WARNING: VerifyWarning: Error validating header for HDU #0 (note: Astropy uses zero-based indexing).\n",
      "    Header size is not multiple of 2880: 5697022\n",
      "There may be extra bytes after the last HDU or the file is corrupted. [astropy.io.fits.hdu.hdulist]\n"
     ]
    },
    {
     "name": "stdout",
     "output_type": "stream",
     "text": [
      "u,g,r,i,z,Y\n",
      "24.3197,22.0424,19.0428,17.6438,16.8174,16.1885\n",
      "time after KN:  5.9500003\n"
     ]
    },
    {
     "name": "stderr",
     "output_type": "stream",
     "text": [
      "WARNING: VerifyWarning: Error validating header for HDU #0 (note: Astropy uses zero-based indexing).\n",
      "    Header size is not multiple of 2880: 5735679\n",
      "There may be extra bytes after the last HDU or the file is corrupted. [astropy.io.fits.hdu.hdulist]\n"
     ]
    },
    {
     "name": "stdout",
     "output_type": "stream",
     "text": [
      "u,g,r,i,z,Y\n",
      "25.1070,22.1576,19.1025,17.7293,16.8169,16.1712\n",
      "time after KN:  6.0499997\n"
     ]
    },
    {
     "name": "stderr",
     "output_type": "stream",
     "text": [
      "WARNING: VerifyWarning: Error validating header for HDU #0 (note: Astropy uses zero-based indexing).\n",
      "    Header size is not multiple of 2880: 5723627\n",
      "There may be extra bytes after the last HDU or the file is corrupted. [astropy.io.fits.hdu.hdulist]\n"
     ]
    },
    {
     "name": "stdout",
     "output_type": "stream",
     "text": [
      "u,g,r,i,z,Y\n",
      "25.1761,22.2215,19.2833,17.8098,16.9104,16.2168\n",
      "time after KN:  6.15\n"
     ]
    },
    {
     "name": "stderr",
     "output_type": "stream",
     "text": [
      "WARNING: VerifyWarning: Error validating header for HDU #0 (note: Astropy uses zero-based indexing).\n",
      "    Header size is not multiple of 2880: 5868802\n",
      "There may be extra bytes after the last HDU or the file is corrupted. [astropy.io.fits.hdu.hdulist]\n"
     ]
    },
    {
     "name": "stdout",
     "output_type": "stream",
     "text": [
      "u,g,r,i,z,Y\n",
      "25.5129,22.3502,19.3695,17.8908,16.9954,16.3184\n",
      "time after KN:  6.25\n"
     ]
    },
    {
     "name": "stderr",
     "output_type": "stream",
     "text": [
      "WARNING: VerifyWarning: Error validating header for HDU #0 (note: Astropy uses zero-based indexing).\n",
      "    Header size is not multiple of 2880: 5599086\n",
      "There may be extra bytes after the last HDU or the file is corrupted. [astropy.io.fits.hdu.hdulist]\n"
     ]
    },
    {
     "name": "stdout",
     "output_type": "stream",
     "text": [
      "u,g,r,i,z,Y\n",
      "26.3259,22.4595,19.3960,17.9990,17.0605,16.3596\n",
      "time after KN:  6.35\n"
     ]
    },
    {
     "name": "stderr",
     "output_type": "stream",
     "text": [
      "WARNING: VerifyWarning: Error validating header for HDU #0 (note: Astropy uses zero-based indexing).\n",
      "    Header size is not multiple of 2880: 5796487\n",
      "There may be extra bytes after the last HDU or the file is corrupted. [astropy.io.fits.hdu.hdulist]\n"
     ]
    },
    {
     "name": "stdout",
     "output_type": "stream",
     "text": [
      "u,g,r,i,z,Y\n",
      "24.5306,22.4593,19.4644,17.9772,17.0865,16.4482\n",
      "time after KN:  6.4500003\n"
     ]
    },
    {
     "name": "stderr",
     "output_type": "stream",
     "text": [
      "WARNING: VerifyWarning: Error validating header for HDU #0 (note: Astropy uses zero-based indexing).\n",
      "    Header size is not multiple of 2880: 5766855\n",
      "There may be extra bytes after the last HDU or the file is corrupted. [astropy.io.fits.hdu.hdulist]\n"
     ]
    },
    {
     "name": "stdout",
     "output_type": "stream",
     "text": [
      "u,g,r,i,z,Y\n",
      "24.7957,22.6010,19.5274,18.0664,17.1188,16.4490\n",
      "time after KN:  6.5499997\n"
     ]
    },
    {
     "name": "stderr",
     "output_type": "stream",
     "text": [
      "WARNING: VerifyWarning: Error validating header for HDU #0 (note: Astropy uses zero-based indexing).\n",
      "    Header size is not multiple of 2880: 5747843\n",
      "There may be extra bytes after the last HDU or the file is corrupted. [astropy.io.fits.hdu.hdulist]\n"
     ]
    },
    {
     "name": "stdout",
     "output_type": "stream",
     "text": [
      "u,g,r,i,z,Y\n",
      "26.0117,22.9176,19.5231,18.1104,17.0985,16.4494\n",
      "time after KN:  6.65\n"
     ]
    },
    {
     "name": "stderr",
     "output_type": "stream",
     "text": [
      "WARNING: VerifyWarning: Error validating header for HDU #0 (note: Astropy uses zero-based indexing).\n",
      "    Header size is not multiple of 2880: 5815232\n",
      "There may be extra bytes after the last HDU or the file is corrupted. [astropy.io.fits.hdu.hdulist]\n"
     ]
    },
    {
     "name": "stdout",
     "output_type": "stream",
     "text": [
      "u,g,r,i,z,Y\n",
      "26.0846,22.7994,19.6156,18.1239,17.2041,16.4679\n",
      "time after KN:  6.75\n"
     ]
    },
    {
     "name": "stderr",
     "output_type": "stream",
     "text": [
      "WARNING: VerifyWarning: Error validating header for HDU #0 (note: Astropy uses zero-based indexing).\n",
      "    Header size is not multiple of 2880: 5742377\n",
      "There may be extra bytes after the last HDU or the file is corrupted. [astropy.io.fits.hdu.hdulist]\n"
     ]
    },
    {
     "name": "stdout",
     "output_type": "stream",
     "text": [
      "u,g,r,i,z,Y\n",
      "25.4207,22.9608,19.7882,18.2517,17.2469,16.5419\n",
      "time after KN:  6.85\n"
     ]
    },
    {
     "name": "stderr",
     "output_type": "stream",
     "text": [
      "WARNING: VerifyWarning: Error validating header for HDU #0 (note: Astropy uses zero-based indexing).\n",
      "    Header size is not multiple of 2880: 5605358\n",
      "There may be extra bytes after the last HDU or the file is corrupted. [astropy.io.fits.hdu.hdulist]\n"
     ]
    },
    {
     "name": "stdout",
     "output_type": "stream",
     "text": [
      "u,g,r,i,z,Y\n",
      "24.8808,23.2000,19.9266,18.2717,17.3516,16.6156\n",
      "time after KN:  6.9500003\n"
     ]
    },
    {
     "name": "stderr",
     "output_type": "stream",
     "text": [
      "WARNING: VerifyWarning: Error validating header for HDU #0 (note: Astropy uses zero-based indexing).\n",
      "    Header size is not multiple of 2880: 5703458\n",
      "There may be extra bytes after the last HDU or the file is corrupted. [astropy.io.fits.hdu.hdulist]\n"
     ]
    },
    {
     "name": "stdout",
     "output_type": "stream",
     "text": [
      "u,g,r,i,z,Y\n",
      "25.7759,23.0369,19.8888,18.3308,17.3472,16.6393\n",
      "time after KN:  7.0499997\n"
     ]
    },
    {
     "name": "stderr",
     "output_type": "stream",
     "text": [
      "WARNING: VerifyWarning: Error validating header for HDU #0 (note: Astropy uses zero-based indexing).\n",
      "    Header size is not multiple of 2880: 5899719\n",
      "There may be extra bytes after the last HDU or the file is corrupted. [astropy.io.fits.hdu.hdulist]\n"
     ]
    },
    {
     "name": "stdout",
     "output_type": "stream",
     "text": [
      "u,g,r,i,z,Y\n",
      "26.2651,23.2050,19.9415,18.3913,17.3801,16.6525\n",
      "time after KN:  7.15\n"
     ]
    },
    {
     "name": "stderr",
     "output_type": "stream",
     "text": [
      "WARNING: VerifyWarning: Error validating header for HDU #0 (note: Astropy uses zero-based indexing).\n",
      "    Header size is not multiple of 2880: 5786237\n",
      "There may be extra bytes after the last HDU or the file is corrupted. [astropy.io.fits.hdu.hdulist]\n"
     ]
    },
    {
     "name": "stdout",
     "output_type": "stream",
     "text": [
      "u,g,r,i,z,Y\n",
      "26.0720,23.2233,19.9464,18.4003,17.3470,16.6883\n",
      "time after KN:  7.25\n"
     ]
    },
    {
     "name": "stderr",
     "output_type": "stream",
     "text": [
      "WARNING: VerifyWarning: Error validating header for HDU #0 (note: Astropy uses zero-based indexing).\n",
      "    Header size is not multiple of 2880: 5817006\n",
      "There may be extra bytes after the last HDU or the file is corrupted. [astropy.io.fits.hdu.hdulist]\n"
     ]
    },
    {
     "name": "stdout",
     "output_type": "stream",
     "text": [
      "u,g,r,i,z,Y\n",
      "26.2065,23.5597,20.0606,18.4526,17.3986,16.7084\n",
      "time after KN:  7.35\n"
     ]
    },
    {
     "name": "stderr",
     "output_type": "stream",
     "text": [
      "WARNING: VerifyWarning: Error validating header for HDU #0 (note: Astropy uses zero-based indexing).\n",
      "    Header size is not multiple of 2880: 5883425\n",
      "There may be extra bytes after the last HDU or the file is corrupted. [astropy.io.fits.hdu.hdulist]\n"
     ]
    },
    {
     "name": "stdout",
     "output_type": "stream",
     "text": [
      "u,g,r,i,z,Y\n",
      "26.9439,23.8745,20.1029,18.5053,17.4590,16.7209\n",
      "time after KN:  7.4500003\n"
     ]
    },
    {
     "name": "stderr",
     "output_type": "stream",
     "text": [
      "WARNING: VerifyWarning: Error validating header for HDU #0 (note: Astropy uses zero-based indexing).\n",
      "    Header size is not multiple of 2880: 5687411\n",
      "There may be extra bytes after the last HDU or the file is corrupted. [astropy.io.fits.hdu.hdulist]\n"
     ]
    },
    {
     "name": "stdout",
     "output_type": "stream",
     "text": [
      "u,g,r,i,z,Y\n",
      "27.0770,23.6948,20.2997,18.5729,17.5398,16.7862\n",
      "time after KN:  7.5499997\n"
     ]
    },
    {
     "name": "stderr",
     "output_type": "stream",
     "text": [
      "WARNING: VerifyWarning: Error validating header for HDU #0 (note: Astropy uses zero-based indexing).\n",
      "    Header size is not multiple of 2880: 5770739\n",
      "There may be extra bytes after the last HDU or the file is corrupted. [astropy.io.fits.hdu.hdulist]\n"
     ]
    },
    {
     "name": "stdout",
     "output_type": "stream",
     "text": [
      "u,g,r,i,z,Y\n",
      "-9999.0000,23.8437,20.2505,18.6532,17.6034,16.8258\n",
      "time after KN:  7.65\n"
     ]
    },
    {
     "name": "stderr",
     "output_type": "stream",
     "text": [
      "WARNING: VerifyWarning: Error validating header for HDU #0 (note: Astropy uses zero-based indexing).\n",
      "    Header size is not multiple of 2880: 5805322\n",
      "There may be extra bytes after the last HDU or the file is corrupted. [astropy.io.fits.hdu.hdulist]\n"
     ]
    },
    {
     "name": "stdout",
     "output_type": "stream",
     "text": [
      "u,g,r,i,z,Y\n",
      "26.5706,23.5410,20.3551,18.6797,17.6415,16.8828\n",
      "time after KN:  7.75\n"
     ]
    },
    {
     "name": "stderr",
     "output_type": "stream",
     "text": [
      "WARNING: VerifyWarning: Error validating header for HDU #0 (note: Astropy uses zero-based indexing).\n",
      "    Header size is not multiple of 2880: 5756193\n",
      "There may be extra bytes after the last HDU or the file is corrupted. [astropy.io.fits.hdu.hdulist]\n"
     ]
    },
    {
     "name": "stdout",
     "output_type": "stream",
     "text": [
      "u,g,r,i,z,Y\n",
      "-9999.0000,23.5329,20.4662,18.6731,17.6907,16.8980\n",
      "time after KN:  7.85\n"
     ]
    },
    {
     "name": "stderr",
     "output_type": "stream",
     "text": [
      "WARNING: VerifyWarning: Error validating header for HDU #0 (note: Astropy uses zero-based indexing).\n",
      "    Header size is not multiple of 2880: 5641705\n",
      "There may be extra bytes after the last HDU or the file is corrupted. [astropy.io.fits.hdu.hdulist]\n"
     ]
    },
    {
     "name": "stdout",
     "output_type": "stream",
     "text": [
      "u,g,r,i,z,Y\n",
      "26.3692,23.8735,20.2953,18.7409,17.6085,16.8953\n",
      "time after KN:  7.9500003\n"
     ]
    },
    {
     "name": "stderr",
     "output_type": "stream",
     "text": [
      "WARNING: VerifyWarning: Error validating header for HDU #0 (note: Astropy uses zero-based indexing).\n",
      "    Header size is not multiple of 2880: 5776484\n",
      "There may be extra bytes after the last HDU or the file is corrupted. [astropy.io.fits.hdu.hdulist]\n"
     ]
    },
    {
     "name": "stdout",
     "output_type": "stream",
     "text": [
      "u,g,r,i,z,Y\n",
      "26.7518,24.2828,20.3937,18.7330,17.6275,16.9386\n",
      "time after KN:  8.05\n"
     ]
    },
    {
     "name": "stderr",
     "output_type": "stream",
     "text": [
      "WARNING: VerifyWarning: Error validating header for HDU #0 (note: Astropy uses zero-based indexing).\n",
      "    Header size is not multiple of 2880: 5639780\n",
      "There may be extra bytes after the last HDU or the file is corrupted. [astropy.io.fits.hdu.hdulist]\n"
     ]
    },
    {
     "name": "stdout",
     "output_type": "stream",
     "text": [
      "u,g,r,i,z,Y\n",
      "27.1793,24.2922,20.5385,18.7567,17.7119,16.9430\n",
      "time after KN:  8.150001\n"
     ]
    },
    {
     "name": "stderr",
     "output_type": "stream",
     "text": [
      "WARNING: VerifyWarning: Error validating header for HDU #0 (note: Astropy uses zero-based indexing).\n",
      "    Header size is not multiple of 2880: 5711932\n",
      "There may be extra bytes after the last HDU or the file is corrupted. [astropy.io.fits.hdu.hdulist]\n"
     ]
    },
    {
     "name": "stdout",
     "output_type": "stream",
     "text": [
      "u,g,r,i,z,Y\n",
      "-9999.0000,24.2596,20.5125,18.8135,17.7295,17.0067\n",
      "time after KN:  8.25\n"
     ]
    },
    {
     "name": "stderr",
     "output_type": "stream",
     "text": [
      "WARNING: VerifyWarning: Error validating header for HDU #0 (note: Astropy uses zero-based indexing).\n",
      "    Header size is not multiple of 2880: 5641857\n",
      "There may be extra bytes after the last HDU or the file is corrupted. [astropy.io.fits.hdu.hdulist]\n"
     ]
    },
    {
     "name": "stdout",
     "output_type": "stream",
     "text": [
      "u,g,r,i,z,Y\n",
      "27.1521,24.2763,20.6881,18.8623,17.8172,17.0553\n",
      "time after KN:  8.349999\n"
     ]
    },
    {
     "name": "stderr",
     "output_type": "stream",
     "text": [
      "WARNING: VerifyWarning: Error validating header for HDU #0 (note: Astropy uses zero-based indexing).\n",
      "    Header size is not multiple of 2880: 5752260\n",
      "There may be extra bytes after the last HDU or the file is corrupted. [astropy.io.fits.hdu.hdulist]\n"
     ]
    },
    {
     "name": "stdout",
     "output_type": "stream",
     "text": [
      "u,g,r,i,z,Y\n",
      "-9999.0000,24.4561,20.7008,18.9175,17.8714,17.1272\n",
      "time after KN:  8.45\n"
     ]
    },
    {
     "name": "stderr",
     "output_type": "stream",
     "text": [
      "WARNING: VerifyWarning: Error validating header for HDU #0 (note: Astropy uses zero-based indexing).\n",
      "    Header size is not multiple of 2880: 5618229\n",
      "There may be extra bytes after the last HDU or the file is corrupted. [astropy.io.fits.hdu.hdulist]\n"
     ]
    },
    {
     "name": "stdout",
     "output_type": "stream",
     "text": [
      "u,g,r,i,z,Y\n",
      "-9999.0000,24.5342,20.6778,19.0672,17.9087,17.1114\n",
      "time after KN:  8.55\n"
     ]
    },
    {
     "name": "stderr",
     "output_type": "stream",
     "text": [
      "WARNING: VerifyWarning: Error validating header for HDU #0 (note: Astropy uses zero-based indexing).\n",
      "    Header size is not multiple of 2880: 5698451\n",
      "There may be extra bytes after the last HDU or the file is corrupted. [astropy.io.fits.hdu.hdulist]\n"
     ]
    },
    {
     "name": "stdout",
     "output_type": "stream",
     "text": [
      "u,g,r,i,z,Y\n",
      "26.4115,24.6936,20.7834,19.0043,17.9234,17.1483\n",
      "time after KN:  8.650001\n"
     ]
    },
    {
     "name": "stderr",
     "output_type": "stream",
     "text": [
      "WARNING: VerifyWarning: Error validating header for HDU #0 (note: Astropy uses zero-based indexing).\n",
      "    Header size is not multiple of 2880: 5692797\n",
      "There may be extra bytes after the last HDU or the file is corrupted. [astropy.io.fits.hdu.hdulist]\n"
     ]
    },
    {
     "name": "stdout",
     "output_type": "stream",
     "text": [
      "u,g,r,i,z,Y\n",
      "-9999.0000,24.3690,20.8594,19.1160,17.8952,17.1514\n",
      "time after KN:  8.75\n"
     ]
    },
    {
     "name": "stderr",
     "output_type": "stream",
     "text": [
      "WARNING: VerifyWarning: Error validating header for HDU #0 (note: Astropy uses zero-based indexing).\n",
      "    Header size is not multiple of 2880: 5725100\n",
      "There may be extra bytes after the last HDU or the file is corrupted. [astropy.io.fits.hdu.hdulist]\n"
     ]
    },
    {
     "name": "stdout",
     "output_type": "stream",
     "text": [
      "u,g,r,i,z,Y\n",
      "28.6211,24.4829,20.7658,19.0373,17.9196,17.2156\n",
      "time after KN:  8.849999\n"
     ]
    },
    {
     "name": "stderr",
     "output_type": "stream",
     "text": [
      "WARNING: VerifyWarning: Error validating header for HDU #0 (note: Astropy uses zero-based indexing).\n",
      "    Header size is not multiple of 2880: 5628246\n",
      "There may be extra bytes after the last HDU or the file is corrupted. [astropy.io.fits.hdu.hdulist]\n"
     ]
    },
    {
     "name": "stdout",
     "output_type": "stream",
     "text": [
      "u,g,r,i,z,Y\n",
      "-9999.0000,24.5016,20.9073,19.1117,17.9480,17.2159\n",
      "time after KN:  8.95\n"
     ]
    },
    {
     "name": "stderr",
     "output_type": "stream",
     "text": [
      "WARNING: VerifyWarning: Error validating header for HDU #0 (note: Astropy uses zero-based indexing).\n",
      "    Header size is not multiple of 2880: 5499690\n",
      "There may be extra bytes after the last HDU or the file is corrupted. [astropy.io.fits.hdu.hdulist]\n"
     ]
    },
    {
     "name": "stdout",
     "output_type": "stream",
     "text": [
      "u,g,r,i,z,Y\n",
      "-9999.0000,24.8571,20.9111,19.0977,17.9891,17.2160\n",
      "time after KN:  9.05\n"
     ]
    },
    {
     "name": "stderr",
     "output_type": "stream",
     "text": [
      "WARNING: VerifyWarning: Error validating header for HDU #0 (note: Astropy uses zero-based indexing).\n",
      "    Header size is not multiple of 2880: 5583607\n",
      "There may be extra bytes after the last HDU or the file is corrupted. [astropy.io.fits.hdu.hdulist]\n"
     ]
    },
    {
     "name": "stdout",
     "output_type": "stream",
     "text": [
      "u,g,r,i,z,Y\n",
      "-9999.0000,25.0289,21.0184,19.2290,18.0518,17.2703\n",
      "time after KN:  9.150001\n"
     ]
    },
    {
     "name": "stderr",
     "output_type": "stream",
     "text": [
      "WARNING: VerifyWarning: Error validating header for HDU #0 (note: Astropy uses zero-based indexing).\n",
      "    Header size is not multiple of 2880: 5560595\n",
      "There may be extra bytes after the last HDU or the file is corrupted. [astropy.io.fits.hdu.hdulist]\n"
     ]
    },
    {
     "name": "stdout",
     "output_type": "stream",
     "text": [
      "u,g,r,i,z,Y\n",
      "-9999.0000,24.5506,21.1811,19.2771,18.1250,17.3248\n",
      "time after KN:  9.25\n"
     ]
    },
    {
     "name": "stderr",
     "output_type": "stream",
     "text": [
      "WARNING: VerifyWarning: Error validating header for HDU #0 (note: Astropy uses zero-based indexing).\n",
      "    Header size is not multiple of 2880: 5650776\n",
      "There may be extra bytes after the last HDU or the file is corrupted. [astropy.io.fits.hdu.hdulist]\n"
     ]
    },
    {
     "name": "stdout",
     "output_type": "stream",
     "text": [
      "u,g,r,i,z,Y\n",
      "27.6220,24.7304,21.0039,19.3064,18.1638,17.3402\n",
      "time after KN:  9.349999\n"
     ]
    },
    {
     "name": "stderr",
     "output_type": "stream",
     "text": [
      "WARNING: VerifyWarning: Error validating header for HDU #0 (note: Astropy uses zero-based indexing).\n",
      "    Header size is not multiple of 2880: 5619944\n",
      "There may be extra bytes after the last HDU or the file is corrupted. [astropy.io.fits.hdu.hdulist]\n"
     ]
    },
    {
     "name": "stdout",
     "output_type": "stream",
     "text": [
      "u,g,r,i,z,Y\n",
      "27.2700,24.6786,21.1388,19.4161,18.1623,17.4015\n",
      "time after KN:  9.45\n"
     ]
    },
    {
     "name": "stderr",
     "output_type": "stream",
     "text": [
      "WARNING: VerifyWarning: Error validating header for HDU #0 (note: Astropy uses zero-based indexing).\n",
      "    Header size is not multiple of 2880: 5514423\n",
      "There may be extra bytes after the last HDU or the file is corrupted. [astropy.io.fits.hdu.hdulist]\n"
     ]
    },
    {
     "name": "stdout",
     "output_type": "stream",
     "text": [
      "u,g,r,i,z,Y\n",
      "-9999.0000,25.1237,21.1386,19.3629,18.1771,17.4302\n",
      "time after KN:  9.55\n"
     ]
    },
    {
     "name": "stderr",
     "output_type": "stream",
     "text": [
      "WARNING: VerifyWarning: Error validating header for HDU #0 (note: Astropy uses zero-based indexing).\n",
      "    Header size is not multiple of 2880: 5552905\n",
      "There may be extra bytes after the last HDU or the file is corrupted. [astropy.io.fits.hdu.hdulist]\n"
     ]
    },
    {
     "name": "stdout",
     "output_type": "stream",
     "text": [
      "u,g,r,i,z,Y\n",
      "27.8850,24.7900,21.2403,19.3431,18.2327,17.4557\n",
      "time after KN:  9.650001\n"
     ]
    },
    {
     "name": "stderr",
     "output_type": "stream",
     "text": [
      "WARNING: VerifyWarning: Error validating header for HDU #0 (note: Astropy uses zero-based indexing).\n",
      "    Header size is not multiple of 2880: 5574495\n",
      "There may be extra bytes after the last HDU or the file is corrupted. [astropy.io.fits.hdu.hdulist]\n"
     ]
    },
    {
     "name": "stdout",
     "output_type": "stream",
     "text": [
      "u,g,r,i,z,Y\n",
      "-9999.0000,25.1706,21.0902,19.3874,18.2720,17.4838\n",
      "time after KN:  9.75\n"
     ]
    },
    {
     "name": "stderr",
     "output_type": "stream",
     "text": [
      "WARNING: VerifyWarning: Error validating header for HDU #0 (note: Astropy uses zero-based indexing).\n",
      "    Header size is not multiple of 2880: 5357898\n",
      "There may be extra bytes after the last HDU or the file is corrupted. [astropy.io.fits.hdu.hdulist]\n"
     ]
    },
    {
     "name": "stdout",
     "output_type": "stream",
     "text": [
      "u,g,r,i,z,Y\n",
      "33.1988,25.0203,21.2050,19.4007,18.2317,17.5100\n",
      "time after KN:  9.849999\n"
     ]
    },
    {
     "name": "stderr",
     "output_type": "stream",
     "text": [
      "WARNING: VerifyWarning: Error validating header for HDU #0 (note: Astropy uses zero-based indexing).\n",
      "    Header size is not multiple of 2880: 5441523\n",
      "There may be extra bytes after the last HDU or the file is corrupted. [astropy.io.fits.hdu.hdulist]\n"
     ]
    },
    {
     "name": "stdout",
     "output_type": "stream",
     "text": [
      "u,g,r,i,z,Y\n",
      "-9999.0000,24.8660,21.3755,19.4346,18.2765,17.5400\n",
      "time after KN:  9.95\n"
     ]
    },
    {
     "name": "stderr",
     "output_type": "stream",
     "text": [
      "WARNING: VerifyWarning: Error validating header for HDU #0 (note: Astropy uses zero-based indexing).\n",
      "    Header size is not multiple of 2880: 5510514\n",
      "There may be extra bytes after the last HDU or the file is corrupted. [astropy.io.fits.hdu.hdulist]\n"
     ]
    },
    {
     "name": "stdout",
     "output_type": "stream",
     "text": [
      "u,g,r,i,z,Y\n",
      "27.8801,24.7151,21.3524,19.4977,18.2874,17.5610\n",
      "time after KN:  10.05\n"
     ]
    },
    {
     "name": "stderr",
     "output_type": "stream",
     "text": [
      "WARNING: VerifyWarning: Error validating header for HDU #0 (note: Astropy uses zero-based indexing).\n",
      "    Header size is not multiple of 2880: 5548127\n",
      "There may be extra bytes after the last HDU or the file is corrupted. [astropy.io.fits.hdu.hdulist]\n"
     ]
    },
    {
     "name": "stdout",
     "output_type": "stream",
     "text": [
      "u,g,r,i,z,Y\n",
      "26.4477,25.3227,21.5397,19.5505,18.3910,17.6360\n",
      "time after KN:  10.150001\n"
     ]
    },
    {
     "name": "stderr",
     "output_type": "stream",
     "text": [
      "WARNING: VerifyWarning: Error validating header for HDU #0 (note: Astropy uses zero-based indexing).\n",
      "    Header size is not multiple of 2880: 5564351\n",
      "There may be extra bytes after the last HDU or the file is corrupted. [astropy.io.fits.hdu.hdulist]\n"
     ]
    },
    {
     "name": "stdout",
     "output_type": "stream",
     "text": [
      "u,g,r,i,z,Y\n",
      "-9999.0000,25.4775,21.5529,19.5882,18.4013,17.6235\n",
      "time after KN:  10.25\n"
     ]
    },
    {
     "name": "stderr",
     "output_type": "stream",
     "text": [
      "WARNING: VerifyWarning: Error validating header for HDU #0 (note: Astropy uses zero-based indexing).\n",
      "    Header size is not multiple of 2880: 5535788\n",
      "There may be extra bytes after the last HDU or the file is corrupted. [astropy.io.fits.hdu.hdulist]\n"
     ]
    },
    {
     "name": "stdout",
     "output_type": "stream",
     "text": [
      "u,g,r,i,z,Y\n",
      "-9999.0000,25.8316,21.5290,19.6922,18.5112,17.6733\n",
      "time after KN:  10.349999\n"
     ]
    },
    {
     "name": "stderr",
     "output_type": "stream",
     "text": [
      "WARNING: VerifyWarning: Error validating header for HDU #0 (note: Astropy uses zero-based indexing).\n",
      "    Header size is not multiple of 2880: 5449385\n",
      "There may be extra bytes after the last HDU or the file is corrupted. [astropy.io.fits.hdu.hdulist]\n"
     ]
    },
    {
     "name": "stdout",
     "output_type": "stream",
     "text": [
      "u,g,r,i,z,Y\n",
      "-9999.0000,24.5837,21.5077,19.6258,18.5001,17.6986\n",
      "time after KN:  10.45\n"
     ]
    },
    {
     "name": "stderr",
     "output_type": "stream",
     "text": [
      "WARNING: VerifyWarning: Error validating header for HDU #0 (note: Astropy uses zero-based indexing).\n",
      "    Header size is not multiple of 2880: 5492340\n",
      "There may be extra bytes after the last HDU or the file is corrupted. [astropy.io.fits.hdu.hdulist]\n"
     ]
    },
    {
     "name": "stdout",
     "output_type": "stream",
     "text": [
      "u,g,r,i,z,Y\n",
      "-9999.0000,25.3052,21.4755,19.6767,18.5229,17.7458\n",
      "time after KN:  10.55\n"
     ]
    },
    {
     "name": "stderr",
     "output_type": "stream",
     "text": [
      "WARNING: VerifyWarning: Error validating header for HDU #0 (note: Astropy uses zero-based indexing).\n",
      "    Header size is not multiple of 2880: 5235572\n",
      "There may be extra bytes after the last HDU or the file is corrupted. [astropy.io.fits.hdu.hdulist]\n"
     ]
    },
    {
     "name": "stdout",
     "output_type": "stream",
     "text": [
      "u,g,r,i,z,Y\n",
      "-9999.0000,26.6378,21.7902,19.7160,18.5995,17.7937\n",
      "time after KN:  10.650001\n"
     ]
    },
    {
     "name": "stderr",
     "output_type": "stream",
     "text": [
      "WARNING: VerifyWarning: Error validating header for HDU #0 (note: Astropy uses zero-based indexing).\n",
      "    Header size is not multiple of 2880: 5536610\n",
      "There may be extra bytes after the last HDU or the file is corrupted. [astropy.io.fits.hdu.hdulist]\n"
     ]
    },
    {
     "name": "stdout",
     "output_type": "stream",
     "text": [
      "u,g,r,i,z,Y\n",
      "-9999.0000,25.0532,21.6943,19.7164,18.6418,17.8483\n",
      "time after KN:  10.75\n"
     ]
    },
    {
     "name": "stderr",
     "output_type": "stream",
     "text": [
      "WARNING: VerifyWarning: Error validating header for HDU #0 (note: Astropy uses zero-based indexing).\n",
      "    Header size is not multiple of 2880: 5480056\n",
      "There may be extra bytes after the last HDU or the file is corrupted. [astropy.io.fits.hdu.hdulist]\n"
     ]
    },
    {
     "name": "stdout",
     "output_type": "stream",
     "text": [
      "u,g,r,i,z,Y\n",
      "-9999.0000,25.9181,21.8042,19.6850,18.5891,17.8336\n",
      "time after KN:  10.849999\n"
     ]
    },
    {
     "name": "stderr",
     "output_type": "stream",
     "text": [
      "WARNING: VerifyWarning: Error validating header for HDU #0 (note: Astropy uses zero-based indexing).\n",
      "    Header size is not multiple of 2880: 5460909\n",
      "There may be extra bytes after the last HDU or the file is corrupted. [astropy.io.fits.hdu.hdulist]\n"
     ]
    },
    {
     "name": "stdout",
     "output_type": "stream",
     "text": [
      "u,g,r,i,z,Y\n",
      "31.1513,25.5544,21.8320,19.8884,18.6610,17.8862\n",
      "time after KN:  10.95\n"
     ]
    },
    {
     "name": "stderr",
     "output_type": "stream",
     "text": [
      "WARNING: VerifyWarning: Error validating header for HDU #0 (note: Astropy uses zero-based indexing).\n",
      "    Header size is not multiple of 2880: 5271302\n",
      "There may be extra bytes after the last HDU or the file is corrupted. [astropy.io.fits.hdu.hdulist]\n"
     ]
    },
    {
     "name": "stdout",
     "output_type": "stream",
     "text": [
      "u,g,r,i,z,Y\n",
      "27.7501,26.1871,21.7733,19.7992,18.6807,17.9297\n",
      "time after KN:  11.05\n"
     ]
    },
    {
     "name": "stderr",
     "output_type": "stream",
     "text": [
      "WARNING: VerifyWarning: Error validating header for HDU #0 (note: Astropy uses zero-based indexing).\n",
      "    Header size is not multiple of 2880: 5369229\n",
      "There may be extra bytes after the last HDU or the file is corrupted. [astropy.io.fits.hdu.hdulist]\n"
     ]
    },
    {
     "name": "stdout",
     "output_type": "stream",
     "text": [
      "u,g,r,i,z,Y\n",
      "-9999.0000,25.9408,21.9553,19.8829,18.7539,17.9721\n",
      "time after KN:  11.150001\n"
     ]
    },
    {
     "name": "stderr",
     "output_type": "stream",
     "text": [
      "WARNING: VerifyWarning: Error validating header for HDU #0 (note: Astropy uses zero-based indexing).\n",
      "    Header size is not multiple of 2880: 5223139\n",
      "There may be extra bytes after the last HDU or the file is corrupted. [astropy.io.fits.hdu.hdulist]\n"
     ]
    },
    {
     "name": "stdout",
     "output_type": "stream",
     "text": [
      "u,g,r,i,z,Y\n",
      "-9999.0000,26.0099,22.1335,19.9343,18.7968,18.0118\n",
      "time after KN:  11.25\n"
     ]
    },
    {
     "name": "stderr",
     "output_type": "stream",
     "text": [
      "WARNING: VerifyWarning: Error validating header for HDU #0 (note: Astropy uses zero-based indexing).\n",
      "    Header size is not multiple of 2880: 5324263\n",
      "There may be extra bytes after the last HDU or the file is corrupted. [astropy.io.fits.hdu.hdulist]\n"
     ]
    },
    {
     "name": "stdout",
     "output_type": "stream",
     "text": [
      "u,g,r,i,z,Y\n",
      "-9999.0000,25.6075,21.8224,19.9640,18.7910,17.9932\n",
      "time after KN:  11.349999\n"
     ]
    },
    {
     "name": "stderr",
     "output_type": "stream",
     "text": [
      "WARNING: VerifyWarning: Error validating header for HDU #0 (note: Astropy uses zero-based indexing).\n",
      "    Header size is not multiple of 2880: 5381895\n",
      "There may be extra bytes after the last HDU or the file is corrupted. [astropy.io.fits.hdu.hdulist]\n"
     ]
    },
    {
     "name": "stdout",
     "output_type": "stream",
     "text": [
      "u,g,r,i,z,Y\n",
      "-9999.0000,25.8070,21.9362,20.0177,18.7982,18.0710\n",
      "time after KN:  11.45\n"
     ]
    },
    {
     "name": "stderr",
     "output_type": "stream",
     "text": [
      "WARNING: VerifyWarning: Error validating header for HDU #0 (note: Astropy uses zero-based indexing).\n",
      "    Header size is not multiple of 2880: 5264456\n",
      "There may be extra bytes after the last HDU or the file is corrupted. [astropy.io.fits.hdu.hdulist]\n"
     ]
    },
    {
     "name": "stdout",
     "output_type": "stream",
     "text": [
      "u,g,r,i,z,Y\n",
      "-9999.0000,26.7457,22.0721,20.0066,18.8051,18.1400\n",
      "time after KN:  11.55\n"
     ]
    },
    {
     "name": "stderr",
     "output_type": "stream",
     "text": [
      "WARNING: VerifyWarning: Error validating header for HDU #0 (note: Astropy uses zero-based indexing).\n",
      "    Header size is not multiple of 2880: 5366917\n",
      "There may be extra bytes after the last HDU or the file is corrupted. [astropy.io.fits.hdu.hdulist]\n"
     ]
    },
    {
     "name": "stdout",
     "output_type": "stream",
     "text": [
      "u,g,r,i,z,Y\n",
      "-9999.0000,25.8219,22.0397,20.1324,18.9106,18.1570\n",
      "time after KN:  11.650001\n"
     ]
    },
    {
     "name": "stderr",
     "output_type": "stream",
     "text": [
      "WARNING: VerifyWarning: Error validating header for HDU #0 (note: Astropy uses zero-based indexing).\n",
      "    Header size is not multiple of 2880: 5429693\n",
      "There may be extra bytes after the last HDU or the file is corrupted. [astropy.io.fits.hdu.hdulist]\n"
     ]
    },
    {
     "name": "stdout",
     "output_type": "stream",
     "text": [
      "u,g,r,i,z,Y\n",
      "-9999.0000,26.6032,22.1110,20.1417,18.9432,18.1647\n",
      "time after KN:  11.75\n"
     ]
    },
    {
     "name": "stderr",
     "output_type": "stream",
     "text": [
      "WARNING: VerifyWarning: Error validating header for HDU #0 (note: Astropy uses zero-based indexing).\n",
      "    Header size is not multiple of 2880: 5393225\n",
      "There may be extra bytes after the last HDU or the file is corrupted. [astropy.io.fits.hdu.hdulist]\n"
     ]
    },
    {
     "name": "stdout",
     "output_type": "stream",
     "text": [
      "u,g,r,i,z,Y\n",
      "30.1655,25.9438,22.2018,20.1084,18.9114,18.2412\n",
      "time after KN:  11.849999\n"
     ]
    },
    {
     "name": "stderr",
     "output_type": "stream",
     "text": [
      "WARNING: VerifyWarning: Error validating header for HDU #0 (note: Astropy uses zero-based indexing).\n",
      "    Header size is not multiple of 2880: 5388930\n",
      "There may be extra bytes after the last HDU or the file is corrupted. [astropy.io.fits.hdu.hdulist]\n"
     ]
    },
    {
     "name": "stdout",
     "output_type": "stream",
     "text": [
      "u,g,r,i,z,Y\n",
      "30.4927,26.0379,22.1655,20.2600,19.0193,18.2121\n",
      "time after KN:  11.95\n"
     ]
    },
    {
     "name": "stderr",
     "output_type": "stream",
     "text": [
      "WARNING: VerifyWarning: Error validating header for HDU #0 (note: Astropy uses zero-based indexing).\n",
      "    Header size is not multiple of 2880: 5153413\n",
      "There may be extra bytes after the last HDU or the file is corrupted. [astropy.io.fits.hdu.hdulist]\n"
     ]
    },
    {
     "name": "stdout",
     "output_type": "stream",
     "text": [
      "u,g,r,i,z,Y\n",
      "-9999.0000,26.5409,22.1288,20.1849,19.0347,18.2796\n",
      "time after KN:  12.05\n"
     ]
    },
    {
     "name": "stderr",
     "output_type": "stream",
     "text": [
      "WARNING: VerifyWarning: Error validating header for HDU #0 (note: Astropy uses zero-based indexing).\n",
      "    Header size is not multiple of 2880: 5381459\n",
      "There may be extra bytes after the last HDU or the file is corrupted. [astropy.io.fits.hdu.hdulist]\n"
     ]
    },
    {
     "name": "stdout",
     "output_type": "stream",
     "text": [
      "u,g,r,i,z,Y\n",
      "-9999.0000,28.3849,22.3433,20.2713,19.0969,18.3320\n",
      "time after KN:  12.150001\n"
     ]
    },
    {
     "name": "stderr",
     "output_type": "stream",
     "text": [
      "WARNING: VerifyWarning: Error validating header for HDU #0 (note: Astropy uses zero-based indexing).\n",
      "    Header size is not multiple of 2880: 5246883\n",
      "There may be extra bytes after the last HDU or the file is corrupted. [astropy.io.fits.hdu.hdulist]\n"
     ]
    },
    {
     "name": "stdout",
     "output_type": "stream",
     "text": [
      "u,g,r,i,z,Y\n",
      "-9999.0000,27.2581,22.3288,20.2121,19.0746,18.3023\n",
      "time after KN:  12.25\n"
     ]
    },
    {
     "name": "stderr",
     "output_type": "stream",
     "text": [
      "WARNING: VerifyWarning: Error validating header for HDU #0 (note: Astropy uses zero-based indexing).\n",
      "    Header size is not multiple of 2880: 5191304\n",
      "There may be extra bytes after the last HDU or the file is corrupted. [astropy.io.fits.hdu.hdulist]\n"
     ]
    },
    {
     "name": "stdout",
     "output_type": "stream",
     "text": [
      "u,g,r,i,z,Y\n",
      "-9999.0000,26.6379,22.3700,20.3358,19.1285,18.3958\n",
      "time after KN:  12.349999\n"
     ]
    },
    {
     "name": "stderr",
     "output_type": "stream",
     "text": [
      "WARNING: VerifyWarning: Error validating header for HDU #0 (note: Astropy uses zero-based indexing).\n",
      "    Header size is not multiple of 2880: 5207975\n",
      "There may be extra bytes after the last HDU or the file is corrupted. [astropy.io.fits.hdu.hdulist]\n"
     ]
    },
    {
     "name": "stdout",
     "output_type": "stream",
     "text": [
      "u,g,r,i,z,Y\n",
      "-9999.0000,26.1750,22.5127,20.3190,19.1652,18.3852\n",
      "time after KN:  12.45\n"
     ]
    },
    {
     "name": "stderr",
     "output_type": "stream",
     "text": [
      "WARNING: VerifyWarning: Error validating header for HDU #0 (note: Astropy uses zero-based indexing).\n",
      "    Header size is not multiple of 2880: 5336917\n",
      "There may be extra bytes after the last HDU or the file is corrupted. [astropy.io.fits.hdu.hdulist]\n"
     ]
    },
    {
     "name": "stdout",
     "output_type": "stream",
     "text": [
      "u,g,r,i,z,Y\n",
      "-9999.0000,26.4766,22.3307,20.3800,19.1989,18.4337\n",
      "time after KN:  12.55\n"
     ]
    },
    {
     "name": "stderr",
     "output_type": "stream",
     "text": [
      "WARNING: VerifyWarning: Error validating header for HDU #0 (note: Astropy uses zero-based indexing).\n",
      "    Header size is not multiple of 2880: 5142858\n",
      "There may be extra bytes after the last HDU or the file is corrupted. [astropy.io.fits.hdu.hdulist]\n"
     ]
    },
    {
     "name": "stdout",
     "output_type": "stream",
     "text": [
      "u,g,r,i,z,Y\n",
      "-9999.0000,26.5241,22.4406,20.3984,19.1840,18.4719\n",
      "time after KN:  12.650001\n"
     ]
    },
    {
     "name": "stderr",
     "output_type": "stream",
     "text": [
      "WARNING: VerifyWarning: Error validating header for HDU #0 (note: Astropy uses zero-based indexing).\n",
      "    Header size is not multiple of 2880: 5231352\n",
      "There may be extra bytes after the last HDU or the file is corrupted. [astropy.io.fits.hdu.hdulist]\n"
     ]
    },
    {
     "name": "stdout",
     "output_type": "stream",
     "text": [
      "u,g,r,i,z,Y\n",
      "-9999.0000,26.9519,22.5315,20.3917,19.2459,18.5284\n",
      "time after KN:  12.75\n"
     ]
    },
    {
     "name": "stderr",
     "output_type": "stream",
     "text": [
      "WARNING: VerifyWarning: Error validating header for HDU #0 (note: Astropy uses zero-based indexing).\n",
      "    Header size is not multiple of 2880: 5272096\n",
      "There may be extra bytes after the last HDU or the file is corrupted. [astropy.io.fits.hdu.hdulist]\n"
     ]
    },
    {
     "name": "stdout",
     "output_type": "stream",
     "text": [
      "u,g,r,i,z,Y\n",
      "-9999.0000,27.6461,22.6258,20.4801,19.2334,18.5702\n",
      "time after KN:  12.849999\n"
     ]
    },
    {
     "name": "stderr",
     "output_type": "stream",
     "text": [
      "WARNING: VerifyWarning: Error validating header for HDU #0 (note: Astropy uses zero-based indexing).\n",
      "    Header size is not multiple of 2880: 5364167\n",
      "There may be extra bytes after the last HDU or the file is corrupted. [astropy.io.fits.hdu.hdulist]\n"
     ]
    },
    {
     "name": "stdout",
     "output_type": "stream",
     "text": [
      "u,g,r,i,z,Y\n",
      "-9999.0000,28.2093,22.6544,20.4738,19.2747,18.6270\n",
      "time after KN:  12.95\n"
     ]
    },
    {
     "name": "stderr",
     "output_type": "stream",
     "text": [
      "WARNING: VerifyWarning: Error validating header for HDU #0 (note: Astropy uses zero-based indexing).\n",
      "    Header size is not multiple of 2880: 5206252\n",
      "There may be extra bytes after the last HDU or the file is corrupted. [astropy.io.fits.hdu.hdulist]\n"
     ]
    },
    {
     "name": "stdout",
     "output_type": "stream",
     "text": [
      "u,g,r,i,z,Y\n",
      "-9999.0000,27.0374,22.6866,20.5719,19.3801,18.6100\n",
      "time after KN:  13.05\n"
     ]
    },
    {
     "name": "stderr",
     "output_type": "stream",
     "text": [
      "WARNING: VerifyWarning: Error validating header for HDU #0 (note: Astropy uses zero-based indexing).\n",
      "    Header size is not multiple of 2880: 5220961\n",
      "There may be extra bytes after the last HDU or the file is corrupted. [astropy.io.fits.hdu.hdulist]\n"
     ]
    },
    {
     "name": "stdout",
     "output_type": "stream",
     "text": [
      "u,g,r,i,z,Y\n",
      "-9999.0000,26.8527,22.6064,20.7141,19.3400,18.7075\n",
      "time after KN:  13.150001\n"
     ]
    },
    {
     "name": "stderr",
     "output_type": "stream",
     "text": [
      "WARNING: VerifyWarning: Error validating header for HDU #0 (note: Astropy uses zero-based indexing).\n",
      "    Header size is not multiple of 2880: 5470501\n",
      "There may be extra bytes after the last HDU or the file is corrupted. [astropy.io.fits.hdu.hdulist]\n"
     ]
    },
    {
     "name": "stdout",
     "output_type": "stream",
     "text": [
      "u,g,r,i,z,Y\n",
      "-9999.0000,27.0818,22.7952,20.6113,19.4256,18.6533\n",
      "time after KN:  13.25\n"
     ]
    },
    {
     "name": "stderr",
     "output_type": "stream",
     "text": [
      "WARNING: VerifyWarning: Error validating header for HDU #0 (note: Astropy uses zero-based indexing).\n",
      "    Header size is not multiple of 2880: 5389208\n",
      "There may be extra bytes after the last HDU or the file is corrupted. [astropy.io.fits.hdu.hdulist]\n"
     ]
    },
    {
     "name": "stdout",
     "output_type": "stream",
     "text": [
      "u,g,r,i,z,Y\n",
      "-9999.0000,26.3744,22.7238,20.6054,19.3824,18.7012\n",
      "time after KN:  13.349999\n"
     ]
    },
    {
     "name": "stderr",
     "output_type": "stream",
     "text": [
      "WARNING: VerifyWarning: Error validating header for HDU #0 (note: Astropy uses zero-based indexing).\n",
      "    Header size is not multiple of 2880: 5348337\n",
      "There may be extra bytes after the last HDU or the file is corrupted. [astropy.io.fits.hdu.hdulist]\n"
     ]
    },
    {
     "name": "stdout",
     "output_type": "stream",
     "text": [
      "u,g,r,i,z,Y\n",
      "-9999.0000,27.3130,22.7304,20.6846,19.5111,18.7342\n",
      "time after KN:  13.45\n"
     ]
    },
    {
     "name": "stderr",
     "output_type": "stream",
     "text": [
      "WARNING: VerifyWarning: Error validating header for HDU #0 (note: Astropy uses zero-based indexing).\n",
      "    Header size is not multiple of 2880: 5331346\n",
      "There may be extra bytes after the last HDU or the file is corrupted. [astropy.io.fits.hdu.hdulist]\n"
     ]
    },
    {
     "name": "stdout",
     "output_type": "stream",
     "text": [
      "u,g,r,i,z,Y\n",
      "-9999.0000,26.9160,22.9683,20.6983,19.5520,18.7926\n",
      "time after KN:  13.55\n"
     ]
    },
    {
     "name": "stderr",
     "output_type": "stream",
     "text": [
      "WARNING: VerifyWarning: Error validating header for HDU #0 (note: Astropy uses zero-based indexing).\n",
      "    Header size is not multiple of 2880: 5330888\n",
      "There may be extra bytes after the last HDU or the file is corrupted. [astropy.io.fits.hdu.hdulist]\n"
     ]
    },
    {
     "name": "stdout",
     "output_type": "stream",
     "text": [
      "u,g,r,i,z,Y\n",
      "-9999.0000,27.0921,22.7664,20.6522,19.4942,18.8302\n",
      "time after KN:  13.650001\n"
     ]
    },
    {
     "name": "stderr",
     "output_type": "stream",
     "text": [
      "WARNING: VerifyWarning: Error validating header for HDU #0 (note: Astropy uses zero-based indexing).\n",
      "    Header size is not multiple of 2880: 5185699\n",
      "There may be extra bytes after the last HDU or the file is corrupted. [astropy.io.fits.hdu.hdulist]\n"
     ]
    },
    {
     "name": "stdout",
     "output_type": "stream",
     "text": [
      "u,g,r,i,z,Y\n",
      "-9999.0000,27.3677,22.9797,20.7074,19.4607,18.8820\n",
      "time after KN:  13.75\n"
     ]
    },
    {
     "name": "stderr",
     "output_type": "stream",
     "text": [
      "WARNING: VerifyWarning: Error validating header for HDU #0 (note: Astropy uses zero-based indexing).\n",
      "    Header size is not multiple of 2880: 5470521\n",
      "There may be extra bytes after the last HDU or the file is corrupted. [astropy.io.fits.hdu.hdulist]\n"
     ]
    },
    {
     "name": "stdout",
     "output_type": "stream",
     "text": [
      "u,g,r,i,z,Y\n",
      "-9999.0000,27.9450,22.8660,20.8708,19.5329,18.9078\n",
      "time after KN:  13.849999\n"
     ]
    },
    {
     "name": "stderr",
     "output_type": "stream",
     "text": [
      "WARNING: VerifyWarning: Error validating header for HDU #0 (note: Astropy uses zero-based indexing).\n",
      "    Header size is not multiple of 2880: 5340979\n",
      "There may be extra bytes after the last HDU or the file is corrupted. [astropy.io.fits.hdu.hdulist]\n"
     ]
    },
    {
     "name": "stdout",
     "output_type": "stream",
     "text": [
      "u,g,r,i,z,Y\n",
      "-9999.0000,26.8681,22.9497,20.8584,19.5849,18.9329\n",
      "time after KN:  13.95\n"
     ]
    },
    {
     "name": "stderr",
     "output_type": "stream",
     "text": [
      "WARNING: VerifyWarning: Error validating header for HDU #0 (note: Astropy uses zero-based indexing).\n",
      "    Header size is not multiple of 2880: 5243680\n",
      "There may be extra bytes after the last HDU or the file is corrupted. [astropy.io.fits.hdu.hdulist]\n"
     ]
    },
    {
     "name": "stdout",
     "output_type": "stream",
     "text": [
      "u,g,r,i,z,Y\n",
      "-9999.0000,26.9338,23.0606,20.7897,19.6384,18.9875\n",
      "time after KN:  14.05\n"
     ]
    },
    {
     "name": "stderr",
     "output_type": "stream",
     "text": [
      "WARNING: VerifyWarning: Error validating header for HDU #0 (note: Astropy uses zero-based indexing).\n",
      "    Header size is not multiple of 2880: 5432006\n",
      "There may be extra bytes after the last HDU or the file is corrupted. [astropy.io.fits.hdu.hdulist]\n"
     ]
    },
    {
     "name": "stdout",
     "output_type": "stream",
     "text": [
      "u,g,r,i,z,Y\n",
      "-9999.0000,27.7121,22.9226,20.8940,19.6266,18.9547\n",
      "time after KN:  14.150001\n"
     ]
    },
    {
     "name": "stderr",
     "output_type": "stream",
     "text": [
      "WARNING: VerifyWarning: Error validating header for HDU #0 (note: Astropy uses zero-based indexing).\n",
      "    Header size is not multiple of 2880: 5475234\n",
      "There may be extra bytes after the last HDU or the file is corrupted. [astropy.io.fits.hdu.hdulist]\n"
     ]
    },
    {
     "name": "stdout",
     "output_type": "stream",
     "text": [
      "u,g,r,i,z,Y\n",
      "-9999.0000,26.6702,23.1905,20.8895,19.7581,19.0099\n",
      "time after KN:  14.25\n"
     ]
    },
    {
     "name": "stderr",
     "output_type": "stream",
     "text": [
      "WARNING: VerifyWarning: Error validating header for HDU #0 (note: Astropy uses zero-based indexing).\n",
      "    Header size is not multiple of 2880: 5380271\n",
      "There may be extra bytes after the last HDU or the file is corrupted. [astropy.io.fits.hdu.hdulist]\n"
     ]
    },
    {
     "name": "stdout",
     "output_type": "stream",
     "text": [
      "u,g,r,i,z,Y\n",
      "-9999.0000,26.4640,23.0523,20.9759,19.7680,19.0665\n",
      "time after KN:  14.349999\n"
     ]
    },
    {
     "name": "stderr",
     "output_type": "stream",
     "text": [
      "WARNING: VerifyWarning: Error validating header for HDU #0 (note: Astropy uses zero-based indexing).\n",
      "    Header size is not multiple of 2880: 5240474\n",
      "There may be extra bytes after the last HDU or the file is corrupted. [astropy.io.fits.hdu.hdulist]\n"
     ]
    },
    {
     "name": "stdout",
     "output_type": "stream",
     "text": [
      "u,g,r,i,z,Y\n",
      "-9999.0000,27.2719,23.0188,20.9538,19.7251,19.0174\n",
      "time after KN:  14.45\n"
     ]
    },
    {
     "name": "stderr",
     "output_type": "stream",
     "text": [
      "WARNING: VerifyWarning: Error validating header for HDU #0 (note: Astropy uses zero-based indexing).\n",
      "    Header size is not multiple of 2880: 5309061\n",
      "There may be extra bytes after the last HDU or the file is corrupted. [astropy.io.fits.hdu.hdulist]\n"
     ]
    },
    {
     "name": "stdout",
     "output_type": "stream",
     "text": [
      "u,g,r,i,z,Y\n",
      "-9999.0000,26.9028,23.1923,21.0381,19.6964,19.1807\n",
      "time after KN:  14.55\n"
     ]
    },
    {
     "name": "stderr",
     "output_type": "stream",
     "text": [
      "WARNING: VerifyWarning: Error validating header for HDU #0 (note: Astropy uses zero-based indexing).\n",
      "    Header size is not multiple of 2880: 5543704\n",
      "There may be extra bytes after the last HDU or the file is corrupted. [astropy.io.fits.hdu.hdulist]\n"
     ]
    },
    {
     "name": "stdout",
     "output_type": "stream",
     "text": [
      "u,g,r,i,z,Y\n",
      "-9999.0000,27.5848,23.1021,20.9007,19.7847,19.1704\n",
      "time after KN:  14.650001\n"
     ]
    },
    {
     "name": "stderr",
     "output_type": "stream",
     "text": [
      "WARNING: VerifyWarning: Error validating header for HDU #0 (note: Astropy uses zero-based indexing).\n",
      "    Header size is not multiple of 2880: 5468241\n",
      "There may be extra bytes after the last HDU or the file is corrupted. [astropy.io.fits.hdu.hdulist]\n"
     ]
    },
    {
     "name": "stdout",
     "output_type": "stream",
     "text": [
      "u,g,r,i,z,Y\n",
      "-9999.0000,26.6515,23.1607,20.9420,19.8361,19.1900\n",
      "time after KN:  14.75\n"
     ]
    },
    {
     "name": "stderr",
     "output_type": "stream",
     "text": [
      "WARNING: VerifyWarning: Error validating header for HDU #0 (note: Astropy uses zero-based indexing).\n",
      "    Header size is not multiple of 2880: 5421763\n",
      "There may be extra bytes after the last HDU or the file is corrupted. [astropy.io.fits.hdu.hdulist]\n"
     ]
    },
    {
     "name": "stdout",
     "output_type": "stream",
     "text": [
      "u,g,r,i,z,Y\n",
      "-9999.0000,26.9155,23.3635,20.9894,19.7716,19.2674\n",
      "time after KN:  14.849999\n"
     ]
    },
    {
     "name": "stderr",
     "output_type": "stream",
     "text": [
      "WARNING: VerifyWarning: Error validating header for HDU #0 (note: Astropy uses zero-based indexing).\n",
      "    Header size is not multiple of 2880: 5499238\n",
      "There may be extra bytes after the last HDU or the file is corrupted. [astropy.io.fits.hdu.hdulist]\n"
     ]
    },
    {
     "name": "stdout",
     "output_type": "stream",
     "text": [
      "u,g,r,i,z,Y\n",
      "-9999.0000,26.7718,23.0353,20.9721,19.7435,19.2568\n",
      "time after KN:  14.95\n"
     ]
    },
    {
     "name": "stderr",
     "output_type": "stream",
     "text": [
      "WARNING: VerifyWarning: Error validating header for HDU #0 (note: Astropy uses zero-based indexing).\n",
      "    Header size is not multiple of 2880: 5574595\n",
      "There may be extra bytes after the last HDU or the file is corrupted. [astropy.io.fits.hdu.hdulist]\n"
     ]
    },
    {
     "name": "stdout",
     "output_type": "stream",
     "text": [
      "u,g,r,i,z,Y\n",
      "-9999.0000,27.0752,23.1819,21.1191,19.8399,19.2381\n",
      "time after KN:  15.05\n"
     ]
    },
    {
     "name": "stderr",
     "output_type": "stream",
     "text": [
      "WARNING: VerifyWarning: Error validating header for HDU #0 (note: Astropy uses zero-based indexing).\n",
      "    Header size is not multiple of 2880: 5489423\n",
      "There may be extra bytes after the last HDU or the file is corrupted. [astropy.io.fits.hdu.hdulist]\n"
     ]
    },
    {
     "name": "stdout",
     "output_type": "stream",
     "text": [
      "u,g,r,i,z,Y\n",
      "-9999.0000,27.0232,23.3671,21.1627,19.8539,19.2595\n",
      "time after KN:  15.150001\n"
     ]
    },
    {
     "name": "stderr",
     "output_type": "stream",
     "text": [
      "WARNING: VerifyWarning: Error validating header for HDU #0 (note: Astropy uses zero-based indexing).\n",
      "    Header size is not multiple of 2880: 5513427\n",
      "There may be extra bytes after the last HDU or the file is corrupted. [astropy.io.fits.hdu.hdulist]\n"
     ]
    },
    {
     "name": "stdout",
     "output_type": "stream",
     "text": [
      "u,g,r,i,z,Y\n",
      "-9999.0000,27.5469,23.4086,21.0908,19.8605,19.3893\n",
      "time after KN:  15.25\n"
     ]
    },
    {
     "name": "stderr",
     "output_type": "stream",
     "text": [
      "WARNING: VerifyWarning: Error validating header for HDU #0 (note: Astropy uses zero-based indexing).\n",
      "    Header size is not multiple of 2880: 5423362\n",
      "There may be extra bytes after the last HDU or the file is corrupted. [astropy.io.fits.hdu.hdulist]\n"
     ]
    },
    {
     "name": "stdout",
     "output_type": "stream",
     "text": [
      "u,g,r,i,z,Y\n",
      "-9999.0000,27.3709,23.2825,21.1484,19.9127,19.3573\n",
      "time after KN:  15.349999\n"
     ]
    },
    {
     "name": "stderr",
     "output_type": "stream",
     "text": [
      "WARNING: VerifyWarning: Error validating header for HDU #0 (note: Astropy uses zero-based indexing).\n",
      "    Header size is not multiple of 2880: 5454206\n",
      "There may be extra bytes after the last HDU or the file is corrupted. [astropy.io.fits.hdu.hdulist]\n"
     ]
    },
    {
     "name": "stdout",
     "output_type": "stream",
     "text": [
      "u,g,r,i,z,Y\n",
      "-9999.0000,27.0344,23.1910,21.1873,19.9153,19.4108\n",
      "time after KN:  15.45\n"
     ]
    },
    {
     "name": "stderr",
     "output_type": "stream",
     "text": [
      "WARNING: VerifyWarning: Error validating header for HDU #0 (note: Astropy uses zero-based indexing).\n",
      "    Header size is not multiple of 2880: 5436011\n",
      "There may be extra bytes after the last HDU or the file is corrupted. [astropy.io.fits.hdu.hdulist]\n"
     ]
    },
    {
     "name": "stdout",
     "output_type": "stream",
     "text": [
      "u,g,r,i,z,Y\n",
      "-9999.0000,26.8711,23.3232,21.0963,19.8961,19.4405\n",
      "time after KN:  15.55\n"
     ]
    },
    {
     "name": "stderr",
     "output_type": "stream",
     "text": [
      "WARNING: VerifyWarning: Error validating header for HDU #0 (note: Astropy uses zero-based indexing).\n",
      "    Header size is not multiple of 2880: 5538797\n",
      "There may be extra bytes after the last HDU or the file is corrupted. [astropy.io.fits.hdu.hdulist]\n"
     ]
    },
    {
     "name": "stdout",
     "output_type": "stream",
     "text": [
      "u,g,r,i,z,Y\n",
      "-9999.0000,27.0484,23.2860,21.1557,20.0339,19.4598\n",
      "time after KN:  15.650001\n"
     ]
    },
    {
     "name": "stderr",
     "output_type": "stream",
     "text": [
      "WARNING: VerifyWarning: Error validating header for HDU #0 (note: Astropy uses zero-based indexing).\n",
      "    Header size is not multiple of 2880: 5491971\n",
      "There may be extra bytes after the last HDU or the file is corrupted. [astropy.io.fits.hdu.hdulist]\n"
     ]
    },
    {
     "name": "stdout",
     "output_type": "stream",
     "text": [
      "u,g,r,i,z,Y\n",
      "-9999.0000,26.6035,23.3344,21.2182,19.9842,19.5057\n",
      "time after KN:  15.75\n"
     ]
    },
    {
     "name": "stderr",
     "output_type": "stream",
     "text": [
      "WARNING: VerifyWarning: Error validating header for HDU #0 (note: Astropy uses zero-based indexing).\n",
      "    Header size is not multiple of 2880: 5516581\n",
      "There may be extra bytes after the last HDU or the file is corrupted. [astropy.io.fits.hdu.hdulist]\n"
     ]
    },
    {
     "name": "stdout",
     "output_type": "stream",
     "text": [
      "u,g,r,i,z,Y\n",
      "-9999.0000,27.1363,23.2416,21.1721,19.9986,19.5252\n",
      "time after KN:  15.849999\n"
     ]
    },
    {
     "name": "stderr",
     "output_type": "stream",
     "text": [
      "WARNING: VerifyWarning: Error validating header for HDU #0 (note: Astropy uses zero-based indexing).\n",
      "    Header size is not multiple of 2880: 5437730\n",
      "There may be extra bytes after the last HDU or the file is corrupted. [astropy.io.fits.hdu.hdulist]\n"
     ]
    },
    {
     "name": "stdout",
     "output_type": "stream",
     "text": [
      "u,g,r,i,z,Y\n",
      "-9999.0000,26.8208,23.4158,21.1076,19.9975,19.5720\n",
      "time after KN:  15.95\n"
     ]
    },
    {
     "name": "stderr",
     "output_type": "stream",
     "text": [
      "WARNING: VerifyWarning: Error validating header for HDU #0 (note: Astropy uses zero-based indexing).\n",
      "    Header size is not multiple of 2880: 5369480\n",
      "There may be extra bytes after the last HDU or the file is corrupted. [astropy.io.fits.hdu.hdulist]\n"
     ]
    },
    {
     "name": "stdout",
     "output_type": "stream",
     "text": [
      "u,g,r,i,z,Y\n",
      "-9999.0000,27.0170,23.2794,21.2193,20.0427,19.6004\n",
      "time after KN:  16.050001\n"
     ]
    },
    {
     "name": "stderr",
     "output_type": "stream",
     "text": [
      "WARNING: VerifyWarning: Error validating header for HDU #0 (note: Astropy uses zero-based indexing).\n",
      "    Header size is not multiple of 2880: 5515475\n",
      "There may be extra bytes after the last HDU or the file is corrupted. [astropy.io.fits.hdu.hdulist]\n"
     ]
    },
    {
     "name": "stdout",
     "output_type": "stream",
     "text": [
      "u,g,r,i,z,Y\n",
      "-9999.0000,26.8029,23.3651,21.2480,20.1045,19.5909\n",
      "time after KN:  16.15\n"
     ]
    },
    {
     "name": "stderr",
     "output_type": "stream",
     "text": [
      "WARNING: VerifyWarning: Error validating header for HDU #0 (note: Astropy uses zero-based indexing).\n",
      "    Header size is not multiple of 2880: 5549692\n",
      "There may be extra bytes after the last HDU or the file is corrupted. [astropy.io.fits.hdu.hdulist]\n"
     ]
    },
    {
     "name": "stdout",
     "output_type": "stream",
     "text": [
      "u,g,r,i,z,Y\n",
      "-9999.0000,26.4795,23.3448,21.1520,20.0639,19.6219\n",
      "time after KN:  16.25\n"
     ]
    },
    {
     "name": "stderr",
     "output_type": "stream",
     "text": [
      "WARNING: VerifyWarning: Error validating header for HDU #0 (note: Astropy uses zero-based indexing).\n",
      "    Header size is not multiple of 2880: 5584875\n",
      "There may be extra bytes after the last HDU or the file is corrupted. [astropy.io.fits.hdu.hdulist]\n"
     ]
    },
    {
     "name": "stdout",
     "output_type": "stream",
     "text": [
      "u,g,r,i,z,Y\n",
      "-9999.0000,27.0033,23.2253,21.2238,20.1448,19.6800\n",
      "time after KN:  16.35\n"
     ]
    },
    {
     "name": "stderr",
     "output_type": "stream",
     "text": [
      "WARNING: VerifyWarning: Error validating header for HDU #0 (note: Astropy uses zero-based indexing).\n",
      "    Header size is not multiple of 2880: 5416436\n",
      "There may be extra bytes after the last HDU or the file is corrupted. [astropy.io.fits.hdu.hdulist]\n"
     ]
    },
    {
     "name": "stdout",
     "output_type": "stream",
     "text": [
      "u,g,r,i,z,Y\n",
      "-9999.0000,27.4361,23.4360,21.2194,20.0263,19.7170\n",
      "time after KN:  16.449999\n"
     ]
    },
    {
     "name": "stderr",
     "output_type": "stream",
     "text": [
      "WARNING: VerifyWarning: Error validating header for HDU #0 (note: Astropy uses zero-based indexing).\n",
      "    Header size is not multiple of 2880: 5434499\n",
      "There may be extra bytes after the last HDU or the file is corrupted. [astropy.io.fits.hdu.hdulist]\n"
     ]
    },
    {
     "name": "stdout",
     "output_type": "stream",
     "text": [
      "u,g,r,i,z,Y\n",
      "-9999.0000,27.4719,23.3826,21.2375,20.1816,19.8162\n",
      "time after KN:  16.550001\n"
     ]
    },
    {
     "name": "stderr",
     "output_type": "stream",
     "text": [
      "WARNING: VerifyWarning: Error validating header for HDU #0 (note: Astropy uses zero-based indexing).\n",
      "    Header size is not multiple of 2880: 5585625\n",
      "There may be extra bytes after the last HDU or the file is corrupted. [astropy.io.fits.hdu.hdulist]\n"
     ]
    },
    {
     "name": "stdout",
     "output_type": "stream",
     "text": [
      "u,g,r,i,z,Y\n",
      "-9999.0000,27.0662,23.1627,21.1852,20.2016,19.8484\n",
      "time after KN:  16.65\n"
     ]
    },
    {
     "name": "stderr",
     "output_type": "stream",
     "text": [
      "WARNING: VerifyWarning: Error validating header for HDU #0 (note: Astropy uses zero-based indexing).\n",
      "    Header size is not multiple of 2880: 5526077\n",
      "There may be extra bytes after the last HDU or the file is corrupted. [astropy.io.fits.hdu.hdulist]\n"
     ]
    },
    {
     "name": "stdout",
     "output_type": "stream",
     "text": [
      "u,g,r,i,z,Y\n",
      "-9999.0000,26.8754,23.4321,21.2398,20.1153,19.8153\n",
      "time after KN:  16.75\n"
     ]
    },
    {
     "name": "stderr",
     "output_type": "stream",
     "text": [
      "WARNING: VerifyWarning: Error validating header for HDU #0 (note: Astropy uses zero-based indexing).\n",
      "    Header size is not multiple of 2880: 5763044\n",
      "There may be extra bytes after the last HDU or the file is corrupted. [astropy.io.fits.hdu.hdulist]\n"
     ]
    },
    {
     "name": "stdout",
     "output_type": "stream",
     "text": [
      "u,g,r,i,z,Y\n",
      "-9999.0000,28.1924,23.4355,21.2123,20.1312,19.8190\n",
      "time after KN:  16.85\n"
     ]
    },
    {
     "name": "stderr",
     "output_type": "stream",
     "text": [
      "WARNING: VerifyWarning: Error validating header for HDU #0 (note: Astropy uses zero-based indexing).\n",
      "    Header size is not multiple of 2880: 5642687\n",
      "There may be extra bytes after the last HDU or the file is corrupted. [astropy.io.fits.hdu.hdulist]\n"
     ]
    },
    {
     "name": "stdout",
     "output_type": "stream",
     "text": [
      "u,g,r,i,z,Y\n",
      "-9999.0000,27.2144,23.4260,21.1562,20.0999,19.8294\n",
      "time after KN:  16.949999\n"
     ]
    },
    {
     "name": "stderr",
     "output_type": "stream",
     "text": [
      "WARNING: VerifyWarning: Error validating header for HDU #0 (note: Astropy uses zero-based indexing).\n",
      "    Header size is not multiple of 2880: 5486966\n",
      "There may be extra bytes after the last HDU or the file is corrupted. [astropy.io.fits.hdu.hdulist]\n"
     ]
    },
    {
     "name": "stdout",
     "output_type": "stream",
     "text": [
      "u,g,r,i,z,Y\n",
      "-9999.0000,27.3391,23.3361,21.2465,20.1532,19.8039\n",
      "time after KN:  17.050001\n"
     ]
    },
    {
     "name": "stderr",
     "output_type": "stream",
     "text": [
      "WARNING: VerifyWarning: Error validating header for HDU #0 (note: Astropy uses zero-based indexing).\n",
      "    Header size is not multiple of 2880: 5566086\n",
      "There may be extra bytes after the last HDU or the file is corrupted. [astropy.io.fits.hdu.hdulist]\n"
     ]
    },
    {
     "name": "stdout",
     "output_type": "stream",
     "text": [
      "u,g,r,i,z,Y\n",
      "28.5105,27.2952,23.4064,21.2351,20.1868,19.9112\n",
      "time after KN:  17.15\n"
     ]
    },
    {
     "name": "stderr",
     "output_type": "stream",
     "text": [
      "WARNING: VerifyWarning: Error validating header for HDU #0 (note: Astropy uses zero-based indexing).\n",
      "    Header size is not multiple of 2880: 5547179\n",
      "There may be extra bytes after the last HDU or the file is corrupted. [astropy.io.fits.hdu.hdulist]\n"
     ]
    },
    {
     "name": "stdout",
     "output_type": "stream",
     "text": [
      "u,g,r,i,z,Y\n",
      "-9999.0000,27.3084,23.4880,21.3170,20.2038,19.8547\n",
      "time after KN:  17.25\n"
     ]
    },
    {
     "name": "stderr",
     "output_type": "stream",
     "text": [
      "WARNING: VerifyWarning: Error validating header for HDU #0 (note: Astropy uses zero-based indexing).\n",
      "    Header size is not multiple of 2880: 5580117\n",
      "There may be extra bytes after the last HDU or the file is corrupted. [astropy.io.fits.hdu.hdulist]\n"
     ]
    },
    {
     "name": "stdout",
     "output_type": "stream",
     "text": [
      "u,g,r,i,z,Y\n",
      "-9999.0000,27.3543,23.5632,21.2045,20.1868,19.9906\n",
      "time after KN:  17.35\n"
     ]
    },
    {
     "name": "stderr",
     "output_type": "stream",
     "text": [
      "WARNING: VerifyWarning: Error validating header for HDU #0 (note: Astropy uses zero-based indexing).\n",
      "    Header size is not multiple of 2880: 5505175\n",
      "There may be extra bytes after the last HDU or the file is corrupted. [astropy.io.fits.hdu.hdulist]\n"
     ]
    },
    {
     "name": "stdout",
     "output_type": "stream",
     "text": [
      "u,g,r,i,z,Y\n",
      "-9999.0000,28.2481,23.3967,21.2881,20.2961,19.9568\n",
      "time after KN:  17.449999\n"
     ]
    },
    {
     "name": "stderr",
     "output_type": "stream",
     "text": [
      "WARNING: VerifyWarning: Error validating header for HDU #0 (note: Astropy uses zero-based indexing).\n",
      "    Header size is not multiple of 2880: 5528399\n",
      "There may be extra bytes after the last HDU or the file is corrupted. [astropy.io.fits.hdu.hdulist]\n"
     ]
    },
    {
     "name": "stdout",
     "output_type": "stream",
     "text": [
      "u,g,r,i,z,Y\n",
      "-9999.0000,26.9262,23.4291,21.3318,20.2110,20.0575\n",
      "time after KN:  17.550001\n"
     ]
    },
    {
     "name": "stderr",
     "output_type": "stream",
     "text": [
      "WARNING: VerifyWarning: Error validating header for HDU #0 (note: Astropy uses zero-based indexing).\n",
      "    Header size is not multiple of 2880: 5669680\n",
      "There may be extra bytes after the last HDU or the file is corrupted. [astropy.io.fits.hdu.hdulist]\n"
     ]
    },
    {
     "name": "stdout",
     "output_type": "stream",
     "text": [
      "u,g,r,i,z,Y\n",
      "-9999.0000,28.0908,23.4521,21.3268,20.2643,20.0027\n",
      "time after KN:  17.65\n"
     ]
    },
    {
     "name": "stderr",
     "output_type": "stream",
     "text": [
      "WARNING: VerifyWarning: Error validating header for HDU #0 (note: Astropy uses zero-based indexing).\n",
      "    Header size is not multiple of 2880: 5517284\n",
      "There may be extra bytes after the last HDU or the file is corrupted. [astropy.io.fits.hdu.hdulist]\n"
     ]
    },
    {
     "name": "stdout",
     "output_type": "stream",
     "text": [
      "u,g,r,i,z,Y\n",
      "-9999.0000,27.4914,23.3153,21.3314,20.1945,20.0592\n",
      "time after KN:  17.75\n"
     ]
    },
    {
     "name": "stderr",
     "output_type": "stream",
     "text": [
      "WARNING: VerifyWarning: Error validating header for HDU #0 (note: Astropy uses zero-based indexing).\n",
      "    Header size is not multiple of 2880: 5390082\n",
      "There may be extra bytes after the last HDU or the file is corrupted. [astropy.io.fits.hdu.hdulist]\n"
     ]
    },
    {
     "name": "stdout",
     "output_type": "stream",
     "text": [
      "u,g,r,i,z,Y\n",
      "-9999.0000,28.1536,23.3237,21.3405,20.2458,20.0803\n",
      "time after KN:  17.85\n"
     ]
    },
    {
     "name": "stderr",
     "output_type": "stream",
     "text": [
      "WARNING: VerifyWarning: Error validating header for HDU #0 (note: Astropy uses zero-based indexing).\n",
      "    Header size is not multiple of 2880: 5534916\n",
      "There may be extra bytes after the last HDU or the file is corrupted. [astropy.io.fits.hdu.hdulist]\n"
     ]
    },
    {
     "name": "stdout",
     "output_type": "stream",
     "text": [
      "u,g,r,i,z,Y\n",
      "-9999.0000,27.2158,23.5078,21.2651,20.2373,20.1297\n",
      "time after KN:  17.949999\n"
     ]
    },
    {
     "name": "stderr",
     "output_type": "stream",
     "text": [
      "WARNING: VerifyWarning: Error validating header for HDU #0 (note: Astropy uses zero-based indexing).\n",
      "    Header size is not multiple of 2880: 5620471\n",
      "There may be extra bytes after the last HDU or the file is corrupted. [astropy.io.fits.hdu.hdulist]\n"
     ]
    },
    {
     "name": "stdout",
     "output_type": "stream",
     "text": [
      "u,g,r,i,z,Y\n",
      "-9999.0000,27.0840,23.5549,21.2561,20.2087,20.2005\n",
      "time after KN:  18.050001\n"
     ]
    },
    {
     "name": "stderr",
     "output_type": "stream",
     "text": [
      "WARNING: VerifyWarning: Error validating header for HDU #0 (note: Astropy uses zero-based indexing).\n",
      "    Header size is not multiple of 2880: 5498689\n",
      "There may be extra bytes after the last HDU or the file is corrupted. [astropy.io.fits.hdu.hdulist]\n"
     ]
    },
    {
     "name": "stdout",
     "output_type": "stream",
     "text": [
      "u,g,r,i,z,Y\n",
      "-9999.0000,27.9384,23.4085,21.3227,20.2020,20.0885\n",
      "time after KN:  18.15\n"
     ]
    },
    {
     "name": "stderr",
     "output_type": "stream",
     "text": [
      "WARNING: VerifyWarning: Error validating header for HDU #0 (note: Astropy uses zero-based indexing).\n",
      "    Header size is not multiple of 2880: 5488261\n",
      "There may be extra bytes after the last HDU or the file is corrupted. [astropy.io.fits.hdu.hdulist]\n"
     ]
    },
    {
     "name": "stdout",
     "output_type": "stream",
     "text": [
      "u,g,r,i,z,Y\n",
      "-9999.0000,27.3807,23.3601,21.3299,20.2609,20.1763\n",
      "time after KN:  18.25\n"
     ]
    },
    {
     "name": "stderr",
     "output_type": "stream",
     "text": [
      "WARNING: VerifyWarning: Error validating header for HDU #0 (note: Astropy uses zero-based indexing).\n",
      "    Header size is not multiple of 2880: 5513796\n",
      "There may be extra bytes after the last HDU or the file is corrupted. [astropy.io.fits.hdu.hdulist]\n"
     ]
    },
    {
     "name": "stdout",
     "output_type": "stream",
     "text": [
      "u,g,r,i,z,Y\n",
      "-9999.0000,27.7398,23.4065,21.2575,20.2717,20.1332\n",
      "time after KN:  18.35\n"
     ]
    },
    {
     "name": "stderr",
     "output_type": "stream",
     "text": [
      "WARNING: VerifyWarning: Error validating header for HDU #0 (note: Astropy uses zero-based indexing).\n",
      "    Header size is not multiple of 2880: 5567751\n",
      "There may be extra bytes after the last HDU or the file is corrupted. [astropy.io.fits.hdu.hdulist]\n"
     ]
    },
    {
     "name": "stdout",
     "output_type": "stream",
     "text": [
      "u,g,r,i,z,Y\n",
      "-9999.0000,27.3256,23.5172,21.3812,20.2599,20.2036\n",
      "time after KN:  18.449999\n"
     ]
    },
    {
     "name": "stderr",
     "output_type": "stream",
     "text": [
      "WARNING: VerifyWarning: Error validating header for HDU #0 (note: Astropy uses zero-based indexing).\n",
      "    Header size is not multiple of 2880: 5533552\n",
      "There may be extra bytes after the last HDU or the file is corrupted. [astropy.io.fits.hdu.hdulist]\n"
     ]
    },
    {
     "name": "stdout",
     "output_type": "stream",
     "text": [
      "u,g,r,i,z,Y\n",
      "-9999.0000,27.6912,23.4405,21.3226,20.3163,20.2140\n",
      "time after KN:  18.550001\n"
     ]
    },
    {
     "name": "stderr",
     "output_type": "stream",
     "text": [
      "WARNING: VerifyWarning: Error validating header for HDU #0 (note: Astropy uses zero-based indexing).\n",
      "    Header size is not multiple of 2880: 5634124\n",
      "There may be extra bytes after the last HDU or the file is corrupted. [astropy.io.fits.hdu.hdulist]\n"
     ]
    },
    {
     "name": "stdout",
     "output_type": "stream",
     "text": [
      "u,g,r,i,z,Y\n",
      "-9999.0000,27.5733,23.4745,21.3669,20.2909,20.2884\n",
      "time after KN:  18.65\n"
     ]
    },
    {
     "name": "stderr",
     "output_type": "stream",
     "text": [
      "WARNING: VerifyWarning: Error validating header for HDU #0 (note: Astropy uses zero-based indexing).\n",
      "    Header size is not multiple of 2880: 5652517\n",
      "There may be extra bytes after the last HDU or the file is corrupted. [astropy.io.fits.hdu.hdulist]\n"
     ]
    },
    {
     "name": "stdout",
     "output_type": "stream",
     "text": [
      "u,g,r,i,z,Y\n",
      "-9999.0000,26.7894,23.4258,21.3515,20.2963,20.2687\n",
      "time after KN:  18.75\n"
     ]
    },
    {
     "name": "stderr",
     "output_type": "stream",
     "text": [
      "WARNING: VerifyWarning: Error validating header for HDU #0 (note: Astropy uses zero-based indexing).\n",
      "    Header size is not multiple of 2880: 5506209\n",
      "There may be extra bytes after the last HDU or the file is corrupted. [astropy.io.fits.hdu.hdulist]\n"
     ]
    },
    {
     "name": "stdout",
     "output_type": "stream",
     "text": [
      "u,g,r,i,z,Y\n",
      "-9999.0000,27.2044,23.4608,21.3560,20.2905,20.3458\n",
      "time after KN:  18.85\n"
     ]
    },
    {
     "name": "stderr",
     "output_type": "stream",
     "text": [
      "WARNING: VerifyWarning: Error validating header for HDU #0 (note: Astropy uses zero-based indexing).\n",
      "    Header size is not multiple of 2880: 5598936\n",
      "There may be extra bytes after the last HDU or the file is corrupted. [astropy.io.fits.hdu.hdulist]\n"
     ]
    },
    {
     "name": "stdout",
     "output_type": "stream",
     "text": [
      "u,g,r,i,z,Y\n",
      "-9999.0000,28.0976,23.4481,21.4097,20.3133,20.3382\n",
      "time after KN:  18.949999\n"
     ]
    },
    {
     "name": "stderr",
     "output_type": "stream",
     "text": [
      "WARNING: VerifyWarning: Error validating header for HDU #0 (note: Astropy uses zero-based indexing).\n",
      "    Header size is not multiple of 2880: 5498608\n",
      "There may be extra bytes after the last HDU or the file is corrupted. [astropy.io.fits.hdu.hdulist]\n"
     ]
    },
    {
     "name": "stdout",
     "output_type": "stream",
     "text": [
      "u,g,r,i,z,Y\n",
      "-9999.0000,27.8514,23.5629,21.3500,20.2818,20.3136\n",
      "time after KN:  19.050001\n"
     ]
    },
    {
     "name": "stderr",
     "output_type": "stream",
     "text": [
      "WARNING: VerifyWarning: Error validating header for HDU #0 (note: Astropy uses zero-based indexing).\n",
      "    Header size is not multiple of 2880: 5470952\n",
      "There may be extra bytes after the last HDU or the file is corrupted. [astropy.io.fits.hdu.hdulist]\n"
     ]
    },
    {
     "name": "stdout",
     "output_type": "stream",
     "text": [
      "u,g,r,i,z,Y\n",
      "-9999.0000,27.0526,23.5200,21.3643,20.2096,20.3741\n",
      "time after KN:  19.15\n"
     ]
    },
    {
     "name": "stderr",
     "output_type": "stream",
     "text": [
      "WARNING: VerifyWarning: Error validating header for HDU #0 (note: Astropy uses zero-based indexing).\n",
      "    Header size is not multiple of 2880: 5648935\n",
      "There may be extra bytes after the last HDU or the file is corrupted. [astropy.io.fits.hdu.hdulist]\n"
     ]
    },
    {
     "name": "stdout",
     "output_type": "stream",
     "text": [
      "u,g,r,i,z,Y\n",
      "-9999.0000,27.8369,23.7159,21.3488,20.2458,20.4418\n",
      "time after KN:  19.25\n"
     ]
    },
    {
     "name": "stderr",
     "output_type": "stream",
     "text": [
      "WARNING: VerifyWarning: Error validating header for HDU #0 (note: Astropy uses zero-based indexing).\n",
      "    Header size is not multiple of 2880: 5746147\n",
      "There may be extra bytes after the last HDU or the file is corrupted. [astropy.io.fits.hdu.hdulist]\n"
     ]
    },
    {
     "name": "stdout",
     "output_type": "stream",
     "text": [
      "u,g,r,i,z,Y\n",
      "-9999.0000,26.8216,23.4400,21.3919,20.3033,20.3227\n",
      "time after KN:  19.35\n"
     ]
    },
    {
     "name": "stderr",
     "output_type": "stream",
     "text": [
      "WARNING: VerifyWarning: Error validating header for HDU #0 (note: Astropy uses zero-based indexing).\n",
      "    Header size is not multiple of 2880: 5644948\n",
      "There may be extra bytes after the last HDU or the file is corrupted. [astropy.io.fits.hdu.hdulist]\n"
     ]
    },
    {
     "name": "stdout",
     "output_type": "stream",
     "text": [
      "u,g,r,i,z,Y\n",
      "-9999.0000,27.2167,23.6353,21.4476,20.3246,20.4091\n",
      "time after KN:  19.449999\n"
     ]
    },
    {
     "name": "stderr",
     "output_type": "stream",
     "text": [
      "WARNING: VerifyWarning: Error validating header for HDU #0 (note: Astropy uses zero-based indexing).\n",
      "    Header size is not multiple of 2880: 5545036\n",
      "There may be extra bytes after the last HDU or the file is corrupted. [astropy.io.fits.hdu.hdulist]\n"
     ]
    },
    {
     "name": "stdout",
     "output_type": "stream",
     "text": [
      "u,g,r,i,z,Y\n",
      "-9999.0000,27.2983,23.4970,21.3446,20.3277,20.4406\n",
      "time after KN:  19.550001\n"
     ]
    },
    {
     "name": "stderr",
     "output_type": "stream",
     "text": [
      "WARNING: VerifyWarning: Error validating header for HDU #0 (note: Astropy uses zero-based indexing).\n",
      "    Header size is not multiple of 2880: 5554449\n",
      "There may be extra bytes after the last HDU or the file is corrupted. [astropy.io.fits.hdu.hdulist]\n"
     ]
    },
    {
     "name": "stdout",
     "output_type": "stream",
     "text": [
      "u,g,r,i,z,Y\n",
      "-9999.0000,26.7582,23.5381,21.3557,20.3471,20.4791\n",
      "time after KN:  19.65\n"
     ]
    },
    {
     "name": "stderr",
     "output_type": "stream",
     "text": [
      "WARNING: VerifyWarning: Error validating header for HDU #0 (note: Astropy uses zero-based indexing).\n",
      "    Header size is not multiple of 2880: 5557357\n",
      "There may be extra bytes after the last HDU or the file is corrupted. [astropy.io.fits.hdu.hdulist]\n"
     ]
    },
    {
     "name": "stdout",
     "output_type": "stream",
     "text": [
      "u,g,r,i,z,Y\n",
      "-9999.0000,26.8144,23.4701,21.4400,20.3539,20.5151\n",
      "time after KN:  19.75\n"
     ]
    },
    {
     "name": "stderr",
     "output_type": "stream",
     "text": [
      "WARNING: VerifyWarning: Error validating header for HDU #0 (note: Astropy uses zero-based indexing).\n",
      "    Header size is not multiple of 2880: 5547043\n",
      "There may be extra bytes after the last HDU or the file is corrupted. [astropy.io.fits.hdu.hdulist]\n"
     ]
    },
    {
     "name": "stdout",
     "output_type": "stream",
     "text": [
      "u,g,r,i,z,Y\n",
      "-9999.0000,27.9914,23.5442,21.4148,20.3182,20.5207\n",
      "time after KN:  19.85\n"
     ]
    },
    {
     "name": "stderr",
     "output_type": "stream",
     "text": [
      "WARNING: VerifyWarning: Error validating header for HDU #0 (note: Astropy uses zero-based indexing).\n",
      "    Header size is not multiple of 2880: 5540087\n",
      "There may be extra bytes after the last HDU or the file is corrupted. [astropy.io.fits.hdu.hdulist]\n"
     ]
    },
    {
     "name": "stdout",
     "output_type": "stream",
     "text": [
      "u,g,r,i,z,Y\n",
      "-9999.0000,27.8117,23.4366,21.4169,20.2780,20.5605\n",
      "time after KN:  19.949999\n"
     ]
    },
    {
     "name": "stderr",
     "output_type": "stream",
     "text": [
      "WARNING: VerifyWarning: Error validating header for HDU #0 (note: Astropy uses zero-based indexing).\n",
      "    Header size is not multiple of 2880: 5619800\n",
      "There may be extra bytes after the last HDU or the file is corrupted. [astropy.io.fits.hdu.hdulist]\n"
     ]
    },
    {
     "name": "stdout",
     "output_type": "stream",
     "text": [
      "u,g,r,i,z,Y\n",
      "-9999.0000,27.6600,23.4481,21.3778,20.3324,20.4719\n",
      "time after KN:  20.050001\n"
     ]
    },
    {
     "name": "stderr",
     "output_type": "stream",
     "text": [
      "WARNING: VerifyWarning: Error validating header for HDU #0 (note: Astropy uses zero-based indexing).\n",
      "    Header size is not multiple of 2880: 5626236\n",
      "There may be extra bytes after the last HDU or the file is corrupted. [astropy.io.fits.hdu.hdulist]\n"
     ]
    },
    {
     "name": "stdout",
     "output_type": "stream",
     "text": [
      "u,g,r,i,z,Y\n",
      "-9999.0000,27.5624,23.3722,21.4008,20.3775,20.5660\n",
      "time after KN:  20.15\n"
     ]
    },
    {
     "name": "stderr",
     "output_type": "stream",
     "text": [
      "WARNING: VerifyWarning: Error validating header for HDU #0 (note: Astropy uses zero-based indexing).\n",
      "    Header size is not multiple of 2880: 5513863\n",
      "There may be extra bytes after the last HDU or the file is corrupted. [astropy.io.fits.hdu.hdulist]\n"
     ]
    },
    {
     "name": "stdout",
     "output_type": "stream",
     "text": [
      "u,g,r,i,z,Y\n",
      "-9999.0000,27.1115,23.4869,21.4124,20.2738,20.5962\n",
      "time after KN:  20.25\n"
     ]
    },
    {
     "name": "stderr",
     "output_type": "stream",
     "text": [
      "WARNING: VerifyWarning: Error validating header for HDU #0 (note: Astropy uses zero-based indexing).\n",
      "    Header size is not multiple of 2880: 5693517\n",
      "There may be extra bytes after the last HDU or the file is corrupted. [astropy.io.fits.hdu.hdulist]\n"
     ]
    },
    {
     "name": "stdout",
     "output_type": "stream",
     "text": [
      "u,g,r,i,z,Y\n",
      "-9999.0000,26.9283,23.4908,21.4175,20.2759,20.5822\n",
      "time after KN:  20.35\n"
     ]
    },
    {
     "name": "stderr",
     "output_type": "stream",
     "text": [
      "WARNING: VerifyWarning: Error validating header for HDU #0 (note: Astropy uses zero-based indexing).\n",
      "    Header size is not multiple of 2880: 5665915\n",
      "There may be extra bytes after the last HDU or the file is corrupted. [astropy.io.fits.hdu.hdulist]\n"
     ]
    },
    {
     "name": "stdout",
     "output_type": "stream",
     "text": [
      "u,g,r,i,z,Y\n",
      "-9999.0000,26.8298,23.3510,21.4158,20.3291,20.5707\n",
      "time after KN:  20.449999\n"
     ]
    },
    {
     "name": "stderr",
     "output_type": "stream",
     "text": [
      "WARNING: VerifyWarning: Error validating header for HDU #0 (note: Astropy uses zero-based indexing).\n",
      "    Header size is not multiple of 2880: 5693599\n",
      "There may be extra bytes after the last HDU or the file is corrupted. [astropy.io.fits.hdu.hdulist]\n"
     ]
    },
    {
     "name": "stdout",
     "output_type": "stream",
     "text": [
      "u,g,r,i,z,Y\n",
      "-9999.0000,27.1980,23.4515,21.5029,20.3323,20.6041\n",
      "time after KN:  20.550001\n"
     ]
    },
    {
     "name": "stderr",
     "output_type": "stream",
     "text": [
      "WARNING: VerifyWarning: Error validating header for HDU #0 (note: Astropy uses zero-based indexing).\n",
      "    Header size is not multiple of 2880: 5575721\n",
      "There may be extra bytes after the last HDU or the file is corrupted. [astropy.io.fits.hdu.hdulist]\n"
     ]
    },
    {
     "name": "stdout",
     "output_type": "stream",
     "text": [
      "u,g,r,i,z,Y\n",
      "-9999.0000,27.3603,23.6249,21.4391,20.3354,20.6401\n",
      "time after KN:  20.65\n"
     ]
    },
    {
     "name": "stderr",
     "output_type": "stream",
     "text": [
      "WARNING: VerifyWarning: Error validating header for HDU #0 (note: Astropy uses zero-based indexing).\n",
      "    Header size is not multiple of 2880: 5642372\n",
      "There may be extra bytes after the last HDU or the file is corrupted. [astropy.io.fits.hdu.hdulist]\n"
     ]
    },
    {
     "name": "stdout",
     "output_type": "stream",
     "text": [
      "u,g,r,i,z,Y\n",
      "-9999.0000,27.4849,23.5594,21.4514,20.3709,20.6734\n",
      "time after KN:  20.75\n"
     ]
    },
    {
     "name": "stderr",
     "output_type": "stream",
     "text": [
      "WARNING: VerifyWarning: Error validating header for HDU #0 (note: Astropy uses zero-based indexing).\n",
      "    Header size is not multiple of 2880: 5505774\n",
      "There may be extra bytes after the last HDU or the file is corrupted. [astropy.io.fits.hdu.hdulist]\n"
     ]
    },
    {
     "name": "stdout",
     "output_type": "stream",
     "text": [
      "u,g,r,i,z,Y\n",
      "-9999.0000,26.9535,23.4498,21.3692,20.3344,20.6667\n",
      "time after KN:  20.85\n"
     ]
    },
    {
     "name": "stderr",
     "output_type": "stream",
     "text": [
      "WARNING: VerifyWarning: Error validating header for HDU #0 (note: Astropy uses zero-based indexing).\n",
      "    Header size is not multiple of 2880: 5650207\n",
      "There may be extra bytes after the last HDU or the file is corrupted. [astropy.io.fits.hdu.hdulist]\n"
     ]
    },
    {
     "name": "stdout",
     "output_type": "stream",
     "text": [
      "u,g,r,i,z,Y\n",
      "-9999.0000,27.0713,23.3681,21.4385,20.4003,20.7001\n",
      "time after KN:  20.949999\n"
     ]
    },
    {
     "name": "stderr",
     "output_type": "stream",
     "text": [
      "WARNING: VerifyWarning: Error validating header for HDU #0 (note: Astropy uses zero-based indexing).\n",
      "    Header size is not multiple of 2880: 5538394\n",
      "There may be extra bytes after the last HDU or the file is corrupted. [astropy.io.fits.hdu.hdulist]\n"
     ]
    },
    {
     "name": "stdout",
     "output_type": "stream",
     "text": [
      "u,g,r,i,z,Y\n",
      "-9999.0000,26.8750,23.4583,21.4050,20.2899,20.7192\n",
      "time after KN:  21.050001\n"
     ]
    },
    {
     "name": "stderr",
     "output_type": "stream",
     "text": [
      "WARNING: VerifyWarning: Error validating header for HDU #0 (note: Astropy uses zero-based indexing).\n",
      "    Header size is not multiple of 2880: 5658025\n",
      "There may be extra bytes after the last HDU or the file is corrupted. [astropy.io.fits.hdu.hdulist]\n"
     ]
    },
    {
     "name": "stdout",
     "output_type": "stream",
     "text": [
      "u,g,r,i,z,Y\n",
      "-9999.0000,27.5638,23.4640,21.4280,20.3654,20.7643\n",
      "time after KN:  21.15\n"
     ]
    },
    {
     "name": "stderr",
     "output_type": "stream",
     "text": [
      "WARNING: VerifyWarning: Error validating header for HDU #0 (note: Astropy uses zero-based indexing).\n",
      "    Header size is not multiple of 2880: 5585776\n",
      "There may be extra bytes after the last HDU or the file is corrupted. [astropy.io.fits.hdu.hdulist]\n"
     ]
    },
    {
     "name": "stdout",
     "output_type": "stream",
     "text": [
      "u,g,r,i,z,Y\n",
      "-9999.0000,27.1627,23.3461,21.4301,20.3836,20.7081\n",
      "time after KN:  21.25\n"
     ]
    },
    {
     "name": "stderr",
     "output_type": "stream",
     "text": [
      "WARNING: VerifyWarning: Error validating header for HDU #0 (note: Astropy uses zero-based indexing).\n",
      "    Header size is not multiple of 2880: 5508806\n",
      "There may be extra bytes after the last HDU or the file is corrupted. [astropy.io.fits.hdu.hdulist]\n"
     ]
    },
    {
     "name": "stdout",
     "output_type": "stream",
     "text": [
      "u,g,r,i,z,Y\n",
      "-9999.0000,27.4614,23.6266,21.4612,20.3681,20.7998\n",
      "time after KN:  21.35\n"
     ]
    },
    {
     "name": "stderr",
     "output_type": "stream",
     "text": [
      "WARNING: VerifyWarning: Error validating header for HDU #0 (note: Astropy uses zero-based indexing).\n",
      "    Header size is not multiple of 2880: 5605874\n",
      "There may be extra bytes after the last HDU or the file is corrupted. [astropy.io.fits.hdu.hdulist]\n"
     ]
    },
    {
     "name": "stdout",
     "output_type": "stream",
     "text": [
      "u,g,r,i,z,Y\n",
      "-9999.0000,27.0830,23.4870,21.4649,20.3732,20.7339\n",
      "time after KN:  21.449999\n"
     ]
    },
    {
     "name": "stderr",
     "output_type": "stream",
     "text": [
      "WARNING: VerifyWarning: Error validating header for HDU #0 (note: Astropy uses zero-based indexing).\n",
      "    Header size is not multiple of 2880: 5621084\n",
      "There may be extra bytes after the last HDU or the file is corrupted. [astropy.io.fits.hdu.hdulist]\n"
     ]
    },
    {
     "name": "stdout",
     "output_type": "stream",
     "text": [
      "u,g,r,i,z,Y\n",
      "-9999.0000,27.1258,23.3516,21.5459,20.3692,20.8391\n",
      "time after KN:  21.550001\n"
     ]
    },
    {
     "name": "stderr",
     "output_type": "stream",
     "text": [
      "WARNING: VerifyWarning: Error validating header for HDU #0 (note: Astropy uses zero-based indexing).\n",
      "    Header size is not multiple of 2880: 5581332\n",
      "There may be extra bytes after the last HDU or the file is corrupted. [astropy.io.fits.hdu.hdulist]\n"
     ]
    },
    {
     "name": "stdout",
     "output_type": "stream",
     "text": [
      "u,g,r,i,z,Y\n",
      "-9999.0000,27.3223,23.5451,21.5368,20.4035,20.8007\n",
      "time after KN:  21.65\n"
     ]
    },
    {
     "name": "stderr",
     "output_type": "stream",
     "text": [
      "WARNING: VerifyWarning: Error validating header for HDU #0 (note: Astropy uses zero-based indexing).\n",
      "    Header size is not multiple of 2880: 5606786\n",
      "There may be extra bytes after the last HDU or the file is corrupted. [astropy.io.fits.hdu.hdulist]\n"
     ]
    },
    {
     "name": "stdout",
     "output_type": "stream",
     "text": [
      "u,g,r,i,z,Y\n",
      "-9999.0000,26.6458,23.5125,21.4969,20.4646,20.8491\n",
      "time after KN:  21.75\n"
     ]
    },
    {
     "name": "stderr",
     "output_type": "stream",
     "text": [
      "WARNING: VerifyWarning: Error validating header for HDU #0 (note: Astropy uses zero-based indexing).\n",
      "    Header size is not multiple of 2880: 5562708\n",
      "There may be extra bytes after the last HDU or the file is corrupted. [astropy.io.fits.hdu.hdulist]\n"
     ]
    },
    {
     "name": "stdout",
     "output_type": "stream",
     "text": [
      "u,g,r,i,z,Y\n",
      "-9999.0000,27.6772,23.3870,21.5099,20.4108,20.8205\n",
      "time after KN:  21.85\n"
     ]
    },
    {
     "name": "stderr",
     "output_type": "stream",
     "text": [
      "WARNING: VerifyWarning: Error validating header for HDU #0 (note: Astropy uses zero-based indexing).\n",
      "    Header size is not multiple of 2880: 5515995\n",
      "There may be extra bytes after the last HDU or the file is corrupted. [astropy.io.fits.hdu.hdulist]\n"
     ]
    },
    {
     "name": "stdout",
     "output_type": "stream",
     "text": [
      "u,g,r,i,z,Y\n",
      "-9999.0000,27.8394,23.6037,21.5282,20.3920,20.8395\n",
      "time after KN:  21.949999\n"
     ]
    },
    {
     "name": "stderr",
     "output_type": "stream",
     "text": [
      "WARNING: VerifyWarning: Error validating header for HDU #0 (note: Astropy uses zero-based indexing).\n",
      "    Header size is not multiple of 2880: 5471059\n",
      "There may be extra bytes after the last HDU or the file is corrupted. [astropy.io.fits.hdu.hdulist]\n"
     ]
    },
    {
     "name": "stdout",
     "output_type": "stream",
     "text": [
      "u,g,r,i,z,Y\n",
      "-9999.0000,27.2963,23.5725,21.5491,20.4504,20.9121\n",
      "time after KN:  22.050001\n"
     ]
    },
    {
     "name": "stderr",
     "output_type": "stream",
     "text": [
      "WARNING: VerifyWarning: Error validating header for HDU #0 (note: Astropy uses zero-based indexing).\n",
      "    Header size is not multiple of 2880: 5512346\n",
      "There may be extra bytes after the last HDU or the file is corrupted. [astropy.io.fits.hdu.hdulist]\n"
     ]
    },
    {
     "name": "stdout",
     "output_type": "stream",
     "text": [
      "u,g,r,i,z,Y\n",
      "-9999.0000,27.4542,23.4670,21.4745,20.4203,20.9029\n",
      "time after KN:  22.15\n"
     ]
    },
    {
     "name": "stderr",
     "output_type": "stream",
     "text": [
      "WARNING: VerifyWarning: Error validating header for HDU #0 (note: Astropy uses zero-based indexing).\n",
      "    Header size is not multiple of 2880: 5472648\n",
      "There may be extra bytes after the last HDU or the file is corrupted. [astropy.io.fits.hdu.hdulist]\n"
     ]
    },
    {
     "name": "stdout",
     "output_type": "stream",
     "text": [
      "u,g,r,i,z,Y\n",
      "-9999.0000,27.3231,23.6393,21.5199,20.4029,20.9766\n",
      "time after KN:  22.25\n"
     ]
    },
    {
     "name": "stderr",
     "output_type": "stream",
     "text": [
      "WARNING: VerifyWarning: Error validating header for HDU #0 (note: Astropy uses zero-based indexing).\n",
      "    Header size is not multiple of 2880: 5542390\n",
      "There may be extra bytes after the last HDU or the file is corrupted. [astropy.io.fits.hdu.hdulist]\n"
     ]
    },
    {
     "name": "stdout",
     "output_type": "stream",
     "text": [
      "u,g,r,i,z,Y\n",
      "-9999.0000,27.3404,23.4829,21.5131,20.4166,20.8949\n",
      "time after KN:  22.35\n"
     ]
    },
    {
     "name": "stderr",
     "output_type": "stream",
     "text": [
      "WARNING: VerifyWarning: Error validating header for HDU #0 (note: Astropy uses zero-based indexing).\n",
      "    Header size is not multiple of 2880: 5553100\n",
      "There may be extra bytes after the last HDU or the file is corrupted. [astropy.io.fits.hdu.hdulist]\n"
     ]
    },
    {
     "name": "stdout",
     "output_type": "stream",
     "text": [
      "u,g,r,i,z,Y\n",
      "-9999.0000,26.8329,23.4984,21.5724,20.4082,20.8803\n",
      "time after KN:  22.449999\n"
     ]
    },
    {
     "name": "stderr",
     "output_type": "stream",
     "text": [
      "WARNING: VerifyWarning: Error validating header for HDU #0 (note: Astropy uses zero-based indexing).\n",
      "    Header size is not multiple of 2880: 5561316\n",
      "There may be extra bytes after the last HDU or the file is corrupted. [astropy.io.fits.hdu.hdulist]\n"
     ]
    },
    {
     "name": "stdout",
     "output_type": "stream",
     "text": [
      "u,g,r,i,z,Y\n",
      "-9999.0000,27.2407,23.5761,21.4818,20.5074,20.9661\n",
      "time after KN:  22.550001\n"
     ]
    },
    {
     "name": "stderr",
     "output_type": "stream",
     "text": [
      "WARNING: VerifyWarning: Error validating header for HDU #0 (note: Astropy uses zero-based indexing).\n",
      "    Header size is not multiple of 2880: 5512709\n",
      "There may be extra bytes after the last HDU or the file is corrupted. [astropy.io.fits.hdu.hdulist]\n"
     ]
    },
    {
     "name": "stdout",
     "output_type": "stream",
     "text": [
      "u,g,r,i,z,Y\n",
      "-9999.0000,26.7079,23.4360,21.4936,20.3814,20.9660\n",
      "time after KN:  22.65\n"
     ]
    },
    {
     "name": "stderr",
     "output_type": "stream",
     "text": [
      "WARNING: VerifyWarning: Error validating header for HDU #0 (note: Astropy uses zero-based indexing).\n",
      "    Header size is not multiple of 2880: 5610717\n",
      "There may be extra bytes after the last HDU or the file is corrupted. [astropy.io.fits.hdu.hdulist]\n"
     ]
    },
    {
     "name": "stdout",
     "output_type": "stream",
     "text": [
      "u,g,r,i,z,Y\n",
      "-9999.0000,27.2857,23.4738,21.6012,20.4899,20.9435\n",
      "time after KN:  22.75\n"
     ]
    },
    {
     "name": "stderr",
     "output_type": "stream",
     "text": [
      "WARNING: VerifyWarning: Error validating header for HDU #0 (note: Astropy uses zero-based indexing).\n",
      "    Header size is not multiple of 2880: 5571679\n",
      "There may be extra bytes after the last HDU or the file is corrupted. [astropy.io.fits.hdu.hdulist]\n"
     ]
    },
    {
     "name": "stdout",
     "output_type": "stream",
     "text": [
      "u,g,r,i,z,Y\n",
      "-9999.0000,27.1263,23.5649,21.5596,20.4389,21.0141\n",
      "time after KN:  22.85\n"
     ]
    },
    {
     "name": "stderr",
     "output_type": "stream",
     "text": [
      "WARNING: VerifyWarning: Error validating header for HDU #0 (note: Astropy uses zero-based indexing).\n",
      "    Header size is not multiple of 2880: 5599473\n",
      "There may be extra bytes after the last HDU or the file is corrupted. [astropy.io.fits.hdu.hdulist]\n"
     ]
    },
    {
     "name": "stdout",
     "output_type": "stream",
     "text": [
      "u,g,r,i,z,Y\n",
      "-9999.0000,27.3407,23.5158,21.6182,20.4809,21.0217\n",
      "time after KN:  22.949999\n"
     ]
    },
    {
     "name": "stderr",
     "output_type": "stream",
     "text": [
      "WARNING: VerifyWarning: Error validating header for HDU #0 (note: Astropy uses zero-based indexing).\n",
      "    Header size is not multiple of 2880: 5583026\n",
      "There may be extra bytes after the last HDU or the file is corrupted. [astropy.io.fits.hdu.hdulist]\n"
     ]
    },
    {
     "name": "stdout",
     "output_type": "stream",
     "text": [
      "u,g,r,i,z,Y\n",
      "-9999.0000,27.3136,23.5404,21.5955,20.4489,21.0194\n",
      "time after KN:  23.050001\n"
     ]
    },
    {
     "name": "stderr",
     "output_type": "stream",
     "text": [
      "WARNING: VerifyWarning: Error validating header for HDU #0 (note: Astropy uses zero-based indexing).\n",
      "    Header size is not multiple of 2880: 5599312\n",
      "There may be extra bytes after the last HDU or the file is corrupted. [astropy.io.fits.hdu.hdulist]\n"
     ]
    },
    {
     "name": "stdout",
     "output_type": "stream",
     "text": [
      "u,g,r,i,z,Y\n",
      "-9999.0000,27.6901,23.5283,21.6103,20.4965,21.0763\n",
      "time after KN:  23.15\n"
     ]
    },
    {
     "name": "stderr",
     "output_type": "stream",
     "text": [
      "WARNING: VerifyWarning: Error validating header for HDU #0 (note: Astropy uses zero-based indexing).\n",
      "    Header size is not multiple of 2880: 5599574\n",
      "There may be extra bytes after the last HDU or the file is corrupted. [astropy.io.fits.hdu.hdulist]\n"
     ]
    },
    {
     "name": "stdout",
     "output_type": "stream",
     "text": [
      "u,g,r,i,z,Y\n",
      "-9999.0000,27.2884,23.5675,21.5783,20.5172,21.0254\n",
      "time after KN:  23.25\n"
     ]
    },
    {
     "name": "stderr",
     "output_type": "stream",
     "text": [
      "WARNING: VerifyWarning: Error validating header for HDU #0 (note: Astropy uses zero-based indexing).\n",
      "    Header size is not multiple of 2880: 5634985\n",
      "There may be extra bytes after the last HDU or the file is corrupted. [astropy.io.fits.hdu.hdulist]\n"
     ]
    },
    {
     "name": "stdout",
     "output_type": "stream",
     "text": [
      "u,g,r,i,z,Y\n",
      "-9999.0000,26.8218,23.6069,21.6743,20.4998,21.0438\n",
      "time after KN:  23.35\n"
     ]
    },
    {
     "name": "stderr",
     "output_type": "stream",
     "text": [
      "WARNING: VerifyWarning: Error validating header for HDU #0 (note: Astropy uses zero-based indexing).\n",
      "    Header size is not multiple of 2880: 5697912\n",
      "There may be extra bytes after the last HDU or the file is corrupted. [astropy.io.fits.hdu.hdulist]\n"
     ]
    },
    {
     "name": "stdout",
     "output_type": "stream",
     "text": [
      "u,g,r,i,z,Y\n",
      "-9999.0000,27.3278,23.5697,21.6409,20.4751,21.0817\n",
      "time after KN:  23.449999\n"
     ]
    },
    {
     "name": "stderr",
     "output_type": "stream",
     "text": [
      "WARNING: VerifyWarning: Error validating header for HDU #0 (note: Astropy uses zero-based indexing).\n",
      "    Header size is not multiple of 2880: 5591582\n",
      "There may be extra bytes after the last HDU or the file is corrupted. [astropy.io.fits.hdu.hdulist]\n"
     ]
    },
    {
     "name": "stdout",
     "output_type": "stream",
     "text": [
      "u,g,r,i,z,Y\n",
      "-9999.0000,27.0969,23.5878,21.6513,20.4328,21.1285\n",
      "time after KN:  23.550001\n"
     ]
    },
    {
     "name": "stderr",
     "output_type": "stream",
     "text": [
      "WARNING: VerifyWarning: Error validating header for HDU #0 (note: Astropy uses zero-based indexing).\n",
      "    Header size is not multiple of 2880: 5587574\n",
      "There may be extra bytes after the last HDU or the file is corrupted. [astropy.io.fits.hdu.hdulist]\n"
     ]
    },
    {
     "name": "stdout",
     "output_type": "stream",
     "text": [
      "u,g,r,i,z,Y\n",
      "-9999.0000,27.8168,23.6825,21.5668,20.4643,21.0275\n",
      "time after KN:  23.65\n"
     ]
    },
    {
     "name": "stderr",
     "output_type": "stream",
     "text": [
      "WARNING: VerifyWarning: Error validating header for HDU #0 (note: Astropy uses zero-based indexing).\n",
      "    Header size is not multiple of 2880: 5496565\n",
      "There may be extra bytes after the last HDU or the file is corrupted. [astropy.io.fits.hdu.hdulist]\n"
     ]
    },
    {
     "name": "stdout",
     "output_type": "stream",
     "text": [
      "u,g,r,i,z,Y\n",
      "-9999.0000,27.8445,23.6060,21.6216,20.5427,21.1952\n",
      "time after KN:  23.75\n"
     ]
    },
    {
     "name": "stderr",
     "output_type": "stream",
     "text": [
      "WARNING: VerifyWarning: Error validating header for HDU #0 (note: Astropy uses zero-based indexing).\n",
      "    Header size is not multiple of 2880: 5534389\n",
      "There may be extra bytes after the last HDU or the file is corrupted. [astropy.io.fits.hdu.hdulist]\n"
     ]
    },
    {
     "name": "stdout",
     "output_type": "stream",
     "text": [
      "u,g,r,i,z,Y\n",
      "-9999.0000,27.0734,23.5318,21.6423,20.5316,21.1389\n",
      "time after KN:  23.85\n"
     ]
    },
    {
     "name": "stderr",
     "output_type": "stream",
     "text": [
      "WARNING: VerifyWarning: Error validating header for HDU #0 (note: Astropy uses zero-based indexing).\n",
      "    Header size is not multiple of 2880: 5612911\n",
      "There may be extra bytes after the last HDU or the file is corrupted. [astropy.io.fits.hdu.hdulist]\n"
     ]
    },
    {
     "name": "stdout",
     "output_type": "stream",
     "text": [
      "u,g,r,i,z,Y\n",
      "-9999.0000,27.3545,23.5621,21.6865,20.5233,21.1669\n",
      "time after KN:  23.949999\n"
     ]
    },
    {
     "name": "stderr",
     "output_type": "stream",
     "text": [
      "WARNING: VerifyWarning: Error validating header for HDU #0 (note: Astropy uses zero-based indexing).\n",
      "    Header size is not multiple of 2880: 5632116\n",
      "There may be extra bytes after the last HDU or the file is corrupted. [astropy.io.fits.hdu.hdulist]\n"
     ]
    },
    {
     "name": "stdout",
     "output_type": "stream",
     "text": [
      "u,g,r,i,z,Y\n",
      "-9999.0000,27.0301,23.5021,21.7340,20.6073,21.1659\n",
      "time after KN:  24.050001\n"
     ]
    },
    {
     "name": "stderr",
     "output_type": "stream",
     "text": [
      "WARNING: VerifyWarning: Error validating header for HDU #0 (note: Astropy uses zero-based indexing).\n",
      "    Header size is not multiple of 2880: 5605957\n",
      "There may be extra bytes after the last HDU or the file is corrupted. [astropy.io.fits.hdu.hdulist]\n"
     ]
    },
    {
     "name": "stdout",
     "output_type": "stream",
     "text": [
      "u,g,r,i,z,Y\n",
      "-9999.0000,27.2213,23.6867,21.6459,20.5566,21.1799\n",
      "time after KN:  24.15\n"
     ]
    },
    {
     "name": "stderr",
     "output_type": "stream",
     "text": [
      "WARNING: VerifyWarning: Error validating header for HDU #0 (note: Astropy uses zero-based indexing).\n",
      "    Header size is not multiple of 2880: 5657700\n",
      "There may be extra bytes after the last HDU or the file is corrupted. [astropy.io.fits.hdu.hdulist]\n"
     ]
    },
    {
     "name": "stdout",
     "output_type": "stream",
     "text": [
      "u,g,r,i,z,Y\n",
      "-9999.0000,27.3474,23.5216,21.7163,20.5487,21.1667\n",
      "time after KN:  24.25\n"
     ]
    },
    {
     "name": "stderr",
     "output_type": "stream",
     "text": [
      "WARNING: VerifyWarning: Error validating header for HDU #0 (note: Astropy uses zero-based indexing).\n",
      "    Header size is not multiple of 2880: 5606295\n",
      "There may be extra bytes after the last HDU or the file is corrupted. [astropy.io.fits.hdu.hdulist]\n"
     ]
    },
    {
     "name": "stdout",
     "output_type": "stream",
     "text": [
      "u,g,r,i,z,Y\n",
      "-9999.0000,26.9392,23.5698,21.6855,20.5527,21.2385\n",
      "time after KN:  24.35\n"
     ]
    },
    {
     "name": "stderr",
     "output_type": "stream",
     "text": [
      "WARNING: VerifyWarning: Error validating header for HDU #0 (note: Astropy uses zero-based indexing).\n",
      "    Header size is not multiple of 2880: 5544607\n",
      "There may be extra bytes after the last HDU or the file is corrupted. [astropy.io.fits.hdu.hdulist]\n"
     ]
    },
    {
     "name": "stdout",
     "output_type": "stream",
     "text": [
      "u,g,r,i,z,Y\n",
      "-9999.0000,27.3788,23.5964,21.6774,20.5385,21.1580\n",
      "time after KN:  24.449999\n"
     ]
    },
    {
     "name": "stderr",
     "output_type": "stream",
     "text": [
      "WARNING: VerifyWarning: Error validating header for HDU #0 (note: Astropy uses zero-based indexing).\n",
      "    Header size is not multiple of 2880: 5610565\n",
      "There may be extra bytes after the last HDU or the file is corrupted. [astropy.io.fits.hdu.hdulist]\n"
     ]
    },
    {
     "name": "stdout",
     "output_type": "stream",
     "text": [
      "u,g,r,i,z,Y\n",
      "-9999.0000,27.1916,23.6210,21.7089,20.5934,21.2376\n",
      "time after KN:  24.550001\n"
     ]
    },
    {
     "name": "stderr",
     "output_type": "stream",
     "text": [
      "WARNING: VerifyWarning: Error validating header for HDU #0 (note: Astropy uses zero-based indexing).\n",
      "    Header size is not multiple of 2880: 5662193\n",
      "There may be extra bytes after the last HDU or the file is corrupted. [astropy.io.fits.hdu.hdulist]\n"
     ]
    },
    {
     "name": "stdout",
     "output_type": "stream",
     "text": [
      "u,g,r,i,z,Y\n",
      "-9999.0000,27.5830,23.6152,21.6720,20.5793,21.1703\n",
      "time after KN:  24.65\n"
     ]
    },
    {
     "name": "stderr",
     "output_type": "stream",
     "text": [
      "WARNING: VerifyWarning: Error validating header for HDU #0 (note: Astropy uses zero-based indexing).\n",
      "    Header size is not multiple of 2880: 5644737\n",
      "There may be extra bytes after the last HDU or the file is corrupted. [astropy.io.fits.hdu.hdulist]\n"
     ]
    },
    {
     "name": "stdout",
     "output_type": "stream",
     "text": [
      "u,g,r,i,z,Y\n",
      "-9999.0000,26.8100,23.6344,21.7376,20.6115,21.3086\n",
      "time after KN:  24.75\n"
     ]
    },
    {
     "name": "stderr",
     "output_type": "stream",
     "text": [
      "WARNING: VerifyWarning: Error validating header for HDU #0 (note: Astropy uses zero-based indexing).\n",
      "    Header size is not multiple of 2880: 5554299\n",
      "There may be extra bytes after the last HDU or the file is corrupted. [astropy.io.fits.hdu.hdulist]\n"
     ]
    },
    {
     "name": "stdout",
     "output_type": "stream",
     "text": [
      "u,g,r,i,z,Y\n",
      "-9999.0000,26.8419,23.6185,21.6701,20.6294,21.3028\n",
      "time after KN:  24.85\n",
      "u,g,r,i,z,Y\n",
      "-9999.0000,27.5229,23.6176,21.7386,20.5769,21.3029\n",
      "time after KN:  24.949999\n"
     ]
    },
    {
     "name": "stderr",
     "output_type": "stream",
     "text": [
      "WARNING: VerifyWarning: Error validating header for HDU #0 (note: Astropy uses zero-based indexing).\n",
      "    Header size is not multiple of 2880: 5579200\n",
      "There may be extra bytes after the last HDU or the file is corrupted. [astropy.io.fits.hdu.hdulist]\n"
     ]
    },
    {
     "ename": "IndexError",
     "evalue": "index 270 is out of bounds for axis 0 with size 270",
     "output_type": "error",
     "traceback": [
      "\u001b[0;31m---------------------------------------------------------------------------\u001b[0m",
      "\u001b[0;31mIndexError\u001b[0m                                Traceback (most recent call last)",
      "\u001b[0;32m<ipython-input-70-e91ca0b0f3f4>\u001b[0m in \u001b[0;36m<module>\u001b[0;34m\u001b[0m\n\u001b[1;32m     29\u001b[0m \u001b[0;34m\u001b[0m\u001b[0m\n\u001b[1;32m     30\u001b[0m     \u001b[0;31m# spectrum at this epoch\u001b[0m\u001b[0;34m\u001b[0m\u001b[0;34m\u001b[0m\u001b[0;34m\u001b[0m\u001b[0m\n\u001b[0;32m---> 31\u001b[0;31m     \u001b[0mLnu\u001b[0m \u001b[0;34m=\u001b[0m \u001b[0mLnu_all\u001b[0m\u001b[0;34m[\u001b[0m\u001b[0mit\u001b[0m\u001b[0;34m,\u001b[0m\u001b[0;34m:\u001b[0m\u001b[0;34m]\u001b[0m\u001b[0;34m\u001b[0m\u001b[0;34m\u001b[0m\u001b[0m\n\u001b[0m\u001b[1;32m     32\u001b[0m \u001b[0;34m\u001b[0m\u001b[0m\n\u001b[1;32m     33\u001b[0m     \u001b[0;31m# Convert to in Llam (ergs/s/Angstrom)...\u001b[0m\u001b[0;34m\u001b[0m\u001b[0;34m\u001b[0m\u001b[0;34m\u001b[0m\u001b[0m\n",
      "\u001b[0;31mIndexError\u001b[0m: index 270 is out of bounds for axis 0 with size 270"
     ]
    }
   ],
   "source": [
    "c = 2.99e10   # speed of light in cm/sec...\n",
    "\n",
    "# open model file\n",
    "fin    = h5py.File(kasen_pathname,'r')\n",
    "\n",
    "# frequency in Hz\n",
    "nu    = np.array(fin['nu'],dtype='d')\n",
    "# array of time in seconds\n",
    "times = np.array(fin['time'])\n",
    "# covert time to days\n",
    "times = times/3600.0/24.0\n",
    "\n",
    "# specific luminosity (ergs/s/Hz)\n",
    "# this is a 2D array, Lnu[times][nu]\n",
    "Lnu_all   = np.array(fin['Lnu'],dtype='d')\n",
    "\n",
    "# loop over times [in days] after merger:\n",
    "for t_kn in times:\n",
    "    \n",
    "    if t_kn < 0.00: continue\n",
    "\n",
    "    if debug == True:  t_kn = 4.0\n",
    "\n",
    "    print('time after KN: ', t_kn,) \n",
    "    f2.write(str(t_kn)+\"\\n\")\n",
    "\n",
    "    # index corresponding to t\n",
    "    it = bisect.bisect(times,t_kn)\n",
    "    \n",
    "    # spectrum at this epoch\n",
    "    Lnu = Lnu_all[it,:]\n",
    "\n",
    "    # Convert to in Llam (ergs/s/Angstrom)...\n",
    "    lam0  = c/nu*1e8          # rest-frame wavelength\n",
    "    lam   = lam0*(1+z_kn)     # redshifted wavelength\n",
    "    Llam = Lnu*nu**2.0/c/1e8  # Llam\n",
    "\n",
    "    df_model = pd.DataFrame({'LAMBDA0':lam0, 'LAMBDA':lam, 'Llam':Llam})\n",
    "\n",
    "    #print min(lam), max(lam)\n",
    "    wavelength_array = np.arange(min(lam), max(lam), 1.0)\n",
    "        \n",
    "    spec_flux_model = interpolate.interp1d(df_model.LAMBDA, df_model.Llam,bounds_error=False, fill_value=0.,kind='linear')\n",
    "    spec_flux_model_array = spec_flux_model(wavelength_array)\n",
    "\n",
    "    df_model_new = pd.DataFrame({'LAMBDA':wavelength_array, 'Llam':spec_flux_model_array})\n",
    "\n",
    "    # Distance to KN in cm...\n",
    "    Dlum = zToDlum(z_kn)\n",
    "    Dlum_cm = Mpc_to_cm(Dlum)\n",
    "\n",
    "    # Calculate Flam [ergs/s/cm**2/Angstrom] from Llam [ergs/s/Angstrom] and Dlum_cm [cm]...\n",
    "    df_model_new['Flam'] = df_model_new['Llam']/(Dlum_cm*Dlum_cm)\n",
    "\n",
    "    # Write df_model_new to a temporary output file...\n",
    "    tempFile = os.path.join(output_dirname,'temp_KNSpectrum.csv')\n",
    "    df_model_new.to_csv(tempFile, index=False)\n",
    "\n",
    "    run_calc_abmag('u,g,r,i,z,Y', bandpassFile, tempFile, 'LAMBDA', 'Flam', 'Flam', verbose)\n",
    "    \n",
    "    if debug == True:  break\n"
   ]
  }
 ],
 "metadata": {
  "kernelspec": {
   "display_name": "Python 3",
   "language": "python",
   "name": "python3"
  },
  "language_info": {
   "codemirror_mode": {
    "name": "ipython",
    "version": 3
   },
   "file_extension": ".py",
   "mimetype": "text/x-python",
   "name": "python",
   "nbconvert_exporter": "python",
   "pygments_lexer": "ipython3",
   "version": "3.9.5"
  }
 },
 "nbformat": 4,
 "nbformat_minor": 2
}
