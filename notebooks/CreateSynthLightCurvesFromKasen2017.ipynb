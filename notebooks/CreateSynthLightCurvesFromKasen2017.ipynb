{
 "cells": [
  {
   "cell_type": "markdown",
   "metadata": {},
   "source": [
    "## Initial Setup"
   ]
  },
  {
   "cell_type": "code",
   "execution_count": null,
   "metadata": {},
   "outputs": [],
   "source": [
    "# Initial setup...\n",
    "import numpy as np\n",
    "import pandas as pd\n",
    "from astropy.io import fits\n",
    "from astropy.table import Table\n",
    "import fitsio\n",
    "from scipy import interpolate\n",
    "import glob\n",
    "import math\n",
    "import os\n",
    "import sys\n",
    "\n",
    "import h5py\n",
    "import bisect\n",
    "\n",
    "import argparse\n",
    "\n",
    "# v. 2.6.1 (which works with python 2.7) installed from \n",
    "#  https://imageio.readthedocs.io/en/stable/installation.html\n",
    "import imageio\n",
    "\n",
    "import matplotlib.pyplot as plt\n",
    "\n",
    "%matplotlib inline"
   ]
  },
  {
   "cell_type": "markdown",
   "metadata": {},
   "source": [
    "## User input"
   ]
  },
  {
   "cell_type": "code",
   "execution_count": null,
   "metadata": {},
   "outputs": [],
   "source": [
    "# If debug=True, just plot/calculate synthetic mags for the 4.00days past merger KN \n",
    "debug=False\n",
    "\n",
    "# Kasen (2017) models directory name:\n",
    "#kasen_dirname='/data/des40.a/data/dtucker/DESGW_analysis/Kasen_Kilonova_Models_2017/kilonova_models'\n",
    "\n",
    "kasen_dirname= '/Users/mwiesner/KDC/kasen'\n",
    "kasen_filename='knova_d1_n10_m0.030_vk0.05_fd1.0_Xlan1e-3.0.h5'\n",
    "kasen_pathname=os.path.join(kasen_dirname,kasen_filename)\n",
    "\n",
    "# Redshift of kilonova...\n",
    "z_kn = 0.0099\n",
    "\n",
    "# CSV file containing bandpass:\n",
    "# (Need to add LSST passbands...)\n",
    "bandpassFile = '/Users/mwiesner/KDC/kasen/DES_STD_BANDPASSES_Y3A2_ugrizY.test.csv'\n",
    "\n",
    "# Comma-separated list with no spaces of passbands to be used...\n",
    "bandList = ['u','g','r','i','z','Y']\n",
    "\n",
    "# bandpass color palette:\n",
    "bandpassColors_dict = {'u':'#56b4e9',\n",
    "                       'g':'#008060',\n",
    "                       'r':'#ff4000',\n",
    "                       'i':'#850000',\n",
    "                       'z':'#6600cc',\n",
    "                       'y':'#000000',\n",
    "                       'Y':'#000000'\n",
    "                      }\n",
    "    \n",
    "# Verbosity level of output to screen (0,1,2,...)\n",
    "verbose = 0\n",
    "\n",
    "# Output directory...\n",
    "output_dirname = '/Users/mwiesner/KDC/kasen'\n",
    "sed_dirname = '/Users/mwiesner/KDC/kasen/SEDs/'\n"
   ]
  },
  {
   "cell_type": "markdown",
   "metadata": {},
   "source": [
    "## Synthetic Photometry Methods\n",
    "\n",
    "Based on /data/des40.a/data/dtucker/Y6A1_abscal/calc_abmag.py, which itself made use of some variations of code developed by Keith Bechtol and Eli Rykoff for DES Y3 interstellar reddening corrections...\n"
   ]
  },
  {
   "cell_type": "code",
   "execution_count": null,
   "metadata": {},
   "outputs": [],
   "source": [
    "# Create an argparse Namespace and run \"calc_abmag(args)\"...\n",
    "#  (e.g., run_calc_abmag('u,g,r,i,z,Y', bandpassFile, tempFile, 'LAMBDA', 'Flam', 'Flam', verbose) )\n",
    "\n",
    "def run_calc_abmag(bandList, bandpassFile, spectrumFile, colname_wave, colname_flam, flux_type, verbose):\n",
    "    \n",
    "    args = argparse.Namespace(bandList = bandList, \n",
    "                              bandpassFile = bandpassFile, \n",
    "                              spectrumFile = spectrumFile, \n",
    "                              colname_wave = colname_wave, \n",
    "                              colname_flam = colname_flam, \n",
    "                              flux_type = flux_type, \n",
    "                              verbose = verbose)\n",
    "    \n",
    "    if args.verbose > 0: print(args)\n",
    "\n",
    "    status = calc_abmag(args)\n",
    "\n",
    "    return status\n",
    "\n",
    "    \n",
    "    \n",
    "#parser.add_argument('--bandList', help='comma-separated list with no spaces', default='g,r,i,z,Y')\n",
    "#parser.add_argument('--bandpassFile', help='name of the input plan file', default='DES_STD_BANDPASSES_Y3A2_ugrizY.test.csv')\n",
    "#parser.add_argument('--spectrumFile', help='name of the input plan file (can be CSV file or a synphot-style FITS file')\n",
    "#parser.add_argument('--colname_wave', help='name of the wavelength column (in case of a CSV spectrumFile)', default='wave')\n",
    "#parser.add_argument('--colname_flux', help='name of the flux column (in case of a CSV spectrumFile)', default='flux')\n",
    "#parser.add_argument('--flux_type', help='type of flux (Flam [ergs/sec/cm**2/Angstrom] or Fnu [ergs/sec/cm**2/Hz])? ', default='Flam')\n",
    "#parser.add_argument('--verbose', help='verbosity level of output to screen (0,1,2,...)', default=0, type=int)\n",
    "    "
   ]
  },
  {
   "cell_type": "code",
   "execution_count": null,
   "metadata": {},
   "outputs": [],
   "source": [
    "# Main method for calculating synthetic AB magnitudes...\n",
    "\n",
    "def calc_abmag(args):\n",
    "\n",
    "    #  Extract the bandList...\n",
    "    bandList = args.bandList\n",
    "    bandList = bandList.split(',')\n",
    "    if args.verbose > 0:\n",
    "        print('bandList: ', bandList)\n",
    "\n",
    "    #  Extract the name of the bandpassFile...\n",
    "    bandpassFile = args.bandpassFile\n",
    "    if os.path.isfile(bandpassFile)==False:\n",
    "        print(\"\"\"bandpassFile %s does not exist...\"\"\" % (bandpassFile))\n",
    "        print('Returning with error code 1 now...')\n",
    "        return 1\n",
    "    if args.verbose > 0:\n",
    "        print('bandpassFile: ', bandpassFile)\n",
    "\n",
    "    #  Extract the name of the spectrum file...\n",
    "    spectrumFile = args.spectrumFile\n",
    "    if os.path.isfile(spectrumFile)==False:\n",
    "        print(\"\"\"spectrumFile %s does not exist...\"\"\" % (spectrumFile))\n",
    "        print('Returning with error code 1 now...')\n",
    "        return 1\n",
    "    if args.verbose > 0:\n",
    "        print('spectrumFile: ', spectrumFile)\n",
    "\n",
    "    # Try to determine spectrumFile type (FITS file or CSV file)...\n",
    "    spectrumType = 'Unknown'\n",
    "    try:\n",
    "        hdulist = fits.open(spectrumFile)\n",
    "        hdulist.close()\n",
    "        spectrumType = 'FITS'\n",
    "    except IOError:\n",
    "        if args.verbose > 2:\n",
    "            print(\"\"\"spectrumFile %s is not a FITS file...\"\"\" % (spectrumFile))\n",
    "        try:\n",
    "            df_test = pd.read_csv(spectrumFile)\n",
    "            spectrumType = 'CSV'\n",
    "        except IOError:\n",
    "            if args.verbose > 2:\n",
    "                print(\"\"\"spectrumFile %s is not a CSV file...\"\"\" % (spectrumFile))\n",
    "\n",
    "    # Read in spectrumFile and create a SciPy interpolated function of the spectrum...\n",
    "    if spectrumType == 'FITS':\n",
    "        flux,wave_lo,wave_hi = getSpectrumSynphot(spectrumFile, fluxFactor=1.0)\n",
    "    elif spectrumType == 'CSV':\n",
    "        flux,wave_lo,wave_hi = getSpectrumCSV(spectrumFile, \n",
    "                                              colname_wave=args.colname_wave, colname_flam=args.colname_flam, \n",
    "                                              fluxFactor=1.0)\n",
    "    else:\n",
    "        print(\"\"\"Spectrum file %s is of unknown type...\"\"\" % (spectrumFile))\n",
    "        print('Returning with error code 1 now...')\n",
    "        return 1\n",
    "\n",
    "    # Read the bandpassFile into a Pandas DataFrame...\n",
    "    df_resp = pd.read_csv(bandpassFile, comment='#')\n",
    "\n",
    "    # Check to make sure the spectrumFile covers at least the same wavelength range\n",
    "    #  as the bandpassFile...\n",
    "    if ( (wave_lo > df_resp['LAMBDA'].min()) or (wave_hi < df_resp['LAMBDA'].max()) ):\n",
    "        print(\"\"\"WARNING:  %s does not cover the full wavelength range of %s\"\"\" % (spectrumFile, bandpassFile))\n",
    "        print('Returning with error code 1 now...')\n",
    "        return 1\n",
    "\n",
    "    # Create wavelength_array and flux_array...\n",
    "    delta_wavelength = 1.0 # angstroms\n",
    "    wavelength_array = np.arange(wave_lo, wave_hi, delta_wavelength)\n",
    "    flux_array = flux(wavelength_array)\n",
    "    \n",
    "\n",
    "    # If needed, convert flux from flam to fnu...\n",
    "    if args.flux_type == 'Fnu':\n",
    "        fnu_array = flux_array\n",
    "    elif args.flux_type == 'Flam':\n",
    "        c_kms = 299792.5        # speed of light in km/s\n",
    "        c_ms = 1000.*c_kms      # speed of light in m/s\n",
    "        c_as = (1.000e10)*c_ms  # speed of light in Angstroms/sec\n",
    "        fnu_array = flux_array * wavelength_array * wavelength_array / c_as\n",
    "    else:\n",
    "        print(\"\"\"Flux type %s is unknown...\"\"\" % (args.flux_type))\n",
    "        print('Returning with error code 1 now...')\n",
    "        return 1\n",
    "\n",
    "\n",
    "    # Print out header...\n",
    "    outputLine = ''\n",
    "    for band in bandList:\n",
    "        outputLine =  \"\"\"%s,%s\"\"\" % (outputLine, band)\n",
    "    print(outputLine[1:])\n",
    "\n",
    "    outputLine = ''\n",
    "    for band in bandList:\n",
    "\n",
    "        response = interpolate.interp1d(df_resp['LAMBDA'], df_resp[band],\n",
    "                                        bounds_error=False, fill_value=0.,\n",
    "                                        kind='linear')\n",
    "        response_array = response(wavelength_array)\n",
    "\n",
    "        try:\n",
    "            abmag = calc_abmag_value(wavelength_array, response_array, fnu_array)\n",
    "        except Exception:\n",
    "            abmag = -9999.\n",
    "\n",
    "        outputLine =  \"\"\"%s,%.4f\"\"\" % (outputLine, abmag)\n",
    "\n",
    "    print(outputLine[1:])\n",
    "\n",
    "    return 0"
   ]
  },
  {
   "cell_type": "code",
   "execution_count": null,
   "metadata": {},
   "outputs": [],
   "source": [
    "# Calculate abmag using the wavelength version of the Fukugita et al. (1996) equation...\n",
    "\n",
    "def calc_abmag_value(wavelength_array, response_array, fnu_array):\n",
    "\n",
    "    # Calculate the abmag...\n",
    "    numerator = np.sum(fnu_array * response_array / wavelength_array)\n",
    "    denominator = np.sum(response_array / wavelength_array)\n",
    "    abmag_value = -2.5*math.log10(numerator/denominator) - 48.60\n",
    "\n",
    "    return abmag_value"
   ]
  },
  {
   "cell_type": "code",
   "execution_count": null,
   "metadata": {},
   "outputs": [],
   "source": [
    "# Return a SciPy interpolation function of a Synphot-style FITS spectrum...\n",
    "#  (Based on code from Keith Bechtol's synthesize_locus.py.)\n",
    "# Unless otherwise noted, fluxes are assumed to be Flam and wavelengths\n",
    "#  are assumed to be in Angstroms...\n",
    "\n",
    "def getSpectrumSynphot(synphotFileName, fluxFactor=1.0):\n",
    "\n",
    "    try:\n",
    "\n",
    "        hdulist = fits.open(synphotFileName)\n",
    "        t = Table.read(hdulist[1])\n",
    "        hdulist.close()\n",
    "\n",
    "    except IOError:\n",
    "\n",
    "        print(\"\"\"Could not read %s\"\"\" % synphotFileName)\n",
    "        sys.exit(1)\n",
    "\n",
    "\n",
    "    wave = t['WAVELENGTH'].data.tolist()\n",
    "    wave_lo = min(wave)\n",
    "    wave_hi = max(wave)\n",
    "    t['FLUX'] = fluxFactor*t['FLUX']\n",
    "    flam = t['FLUX'].data.tolist()\n",
    "    flam = t['FLUX'].data.tolist()\n",
    "    data = {'wavelength': wave, 'flux': flam}\n",
    "\n",
    "    f = interpolate.interp1d(data['wavelength'], data['flux'],\n",
    "                             bounds_error=True,\n",
    "                             kind='linear')\n",
    "\n",
    "    return f,wave_lo,wave_hi"
   ]
  },
  {
   "cell_type": "code",
   "execution_count": null,
   "metadata": {},
   "outputs": [],
   "source": [
    "# Return a SciPy interpolation function of a CSV-style spectrum...\n",
    "#  (Based on code from Keith Bechtol's synthesize_locus.py.)\n",
    "# Unless otherwise noted, fluxes are assumed to be Flam and wavelengths\n",
    "#  are assumed to be in Angstroms...\n",
    "\n",
    "def getSpectrumCSV(csvFileName, colname_wave='wave', colname_flam='flux', fluxFactor=1.0):\n",
    "\n",
    "    try:\n",
    "\n",
    "        df = pd.read_csv(csvFileName)\n",
    "\n",
    "    except IOError:\n",
    "\n",
    "        print(\"\"\"Could not read %s\"\"\" % csvFileName)\n",
    "        sys.exit(1)\n",
    "\n",
    "\n",
    "    columnNameList = df.columns.tolist()\n",
    "\n",
    "    if colname_wave not in columnNameList:\n",
    "        print(\"\"\"Column %s not in %s\"\"\" % (colname_wave, csvFileName))\n",
    "        sys.exit(1)\n",
    "\n",
    "    if colname_flam not in columnNameList:\n",
    "        print(\"\"\"Column %s not in %s\"\"\" % (colname_wave, csvFileName))\n",
    "        sys.exit(1)\n",
    "\n",
    "    wave = df[colname_wave].tolist()\n",
    "    wave_lo = min(wave)\n",
    "    wave_hi = max(wave)\n",
    "    df[colname_flam] = fluxFactor*df[colname_flam]\n",
    "    flam = df[colname_flam].tolist()\n",
    "    data = {'wavelength': wave, 'flux': flam}\n",
    "\n",
    "    f = interpolate.interp1d(data['wavelength'], data['flux'],\n",
    "                             bounds_error=True,\n",
    "                             kind='linear')\n",
    "\n",
    "    return f,wave_lo,wave_hi"
   ]
  },
  {
   "cell_type": "markdown",
   "metadata": {},
   "source": [
    "## Other Useful Methods"
   ]
  },
  {
   "cell_type": "code",
   "execution_count": null,
   "metadata": {},
   "outputs": [],
   "source": [
    "# Redshift to luminosity distance...\n",
    "#  Default values of H0 and Omega0 are from Bennett et al. (2014)...\n",
    "def zToDlum(z, H0=69.6, Om0=0.286):\n",
    "    from astropy.cosmology import FlatLambdaCDM\n",
    "    cosmo = FlatLambdaCDM(H0=H0, Om0=Om0)\n",
    "    # comoving distance...\n",
    "    Dcom = cosmo.comoving_distance(z)\n",
    "    # luminosity distance...\n",
    "    Dlum = (1.+z)*Dcom\n",
    "    return Dlum\n",
    "\n",
    "\n",
    "# Mpc_to_cm...\n",
    "def Mpc_to_cm(Dmpc):\n",
    "    Dcm = Dmpc*1.00e6*3.086e+18\n",
    "    return Dcm"
   ]
  },
  {
   "cell_type": "markdown",
   "metadata": {},
   "source": [
    "## Read in bandpass file"
   ]
  },
  {
   "cell_type": "code",
   "execution_count": null,
   "metadata": {},
   "outputs": [],
   "source": [
    "df_band = pd.read_csv(bandpassFile, comment='#')"
   ]
  },
  {
   "cell_type": "markdown",
   "metadata": {},
   "source": [
    "## Read in and Plot Kilonova SED..."
   ]
  },
  {
   "cell_type": "code",
   "execution_count": null,
   "metadata": {},
   "outputs": [],
   "source": [
    "c = 2.99e10   # speed of light in cm/sec...\n",
    "\n",
    "# open model file\n",
    "fin    = h5py.File(kasen_pathname,'r')\n",
    "\n",
    "# frequency in Hz\n",
    "nu    = np.array(fin['nu'],dtype='d')\n",
    "# array of time in seconds\n",
    "times = np.array(fin['time'])\n",
    "# covert time to days\n",
    "times = times/3600.0/24.0\n",
    "\n",
    "# specific luminosity (ergs/s/Hz)\n",
    "# this is a 2D array, Lnu[times][nu]\n",
    "Lnu_all   = np.array(fin['Lnu'],dtype='d')\n",
    "\n",
    "# loop over times [in days] after merger:\n",
    "for t_kn in times:\n",
    "    \n",
    "    if t_kn < 0.00: continue\n",
    "    \n",
    "    if debug == True:  t_kn = 4.0\n",
    "\n",
    "    print(t_kn)\n",
    "\n",
    "    try:\n",
    "        # index corresponding to t_kn\n",
    "        it = bisect.bisect(times,t_kn)\n",
    "        # spectrum at this epoch\n",
    "        Lnu = Lnu_all[it,:]\n",
    "    except:\n",
    "        print(\"Index out of bounds?\")\n",
    "        continue\n",
    "\n",
    "\n",
    "    # Convert to in Llam (ergs/s/Angstrom)...\n",
    "    lam0  = c/nu*1e8          # rest-frame wavelength\n",
    "    lam   = lam0*(1+z_kn)     # redshifted wavelength\n",
    "    Llam = Lnu*nu**2.0/c/1e8  # Llam\n",
    "\n",
    "    df_model = pd.DataFrame({'LAMBDA0':lam0, 'LAMBDA':lam, 'Llam':Llam})\n",
    "\n",
    "    #print min(lam), max(lam)\n",
    "    wavelength_array = np.arange(min(lam), max(lam), 1.0)\n",
    "\n",
    "    spec_flux_model = interpolate.interp1d(df_model.LAMBDA, df_model.Llam,bounds_error=False, fill_value=0.,kind='linear')\n",
    "    spec_flux_model_array = spec_flux_model(wavelength_array)\n",
    "\n",
    "    df_model_new = pd.DataFrame({'LAMBDA':wavelength_array, 'Llam':spec_flux_model_array})\n",
    "\n",
    "    #norm = df_model_new['Llam'].median()\n",
    "    norm = df_model_new[( (df_model_new.LAMBDA > 3000.) & (df_model_new.LAMBDA < 12000.) )].Llam.max()\n",
    "\n",
    "    df_model_new['normLlam'] = df_model_new['Llam']/norm\n",
    "\n",
    "    #ax = df_model_new.plot('LAMBDA','normLlam', c='#000000', label='Model', fontsize=18)\n",
    "    ax = df_model_new.plot('LAMBDA','normLlam', c='#888888', label='Model')\n",
    "    \n",
    "    \n",
    "    outputFile1 = sed_dirname+'sed_'+\"{:.2f}\".format(t_kn)+'.spec'\n",
    "    #outputFile1 = os.path.join(sed_dirname, outputFile1)\n",
    "    df_model_new.to_csv(outputFile1,mode='w')\n",
    "\n",
    "    for band in bandList:\n",
    "        #print band\n",
    "        df_band.plot('LAMBDA', band, c=bandpassColors_dict[band], ax=ax)\n",
    "\n",
    "    title = \"\"\"%s\"\"\" % (kasen_filename)\n",
    "    plt.title(title, fontsize=16)\n",
    "    plt.xlim([3000., 11000.])\n",
    "    plt.ylim([0.,1.1])\n",
    "    #ax.legend(loc='upper right', fontsize=14, framealpha=0.5)\n",
    "    plt.legend(bbox_to_anchor=(1.05, 1.0), loc='upper left')\n",
    "    ax.set_xlabel('wavelength (observed frame) [$\\\\AA$]',fontsize=16)\n",
    "    ax.set_ylabel('Relative $F_{\\lambda}$',fontsize=16)\n",
    "    ax.tick_params(axis = 'both', which = 'major', labelsize = 16)\n",
    "    textstr = \"\"\"$z$=%.3f\\n$t$=%.2f days\"\"\" % (z_kn, t_kn)\n",
    "    props = dict(boxstyle='round', facecolor='wheat', alpha=0.5)\n",
    "    ax.text(0.05, 0.95, textstr, transform=ax.transAxes, fontsize=14, verticalalignment='top', bbox=props)\n",
    "    ax.grid(False)\n",
    "    \n",
    "  #  outputFile = \"\"\"KNspectrum.%s_z%.3f_a%05.2f.png\"\"\" % (kasen_filename, z_kn, t_kn)\n",
    "  #  outputFile = os.path.join(output_dirname, outputFile)\n",
    "    \n",
    "    #plt.tight_layout()\n",
    "   # plt.savefig(outputFile)\n",
    "\n",
    "    if debug == True:  break\n",
    "\n"
   ]
  },
  {
   "cell_type": "markdown",
   "metadata": {},
   "source": [
    "## Create Animated Gif\n",
    "See https://stackoverflow.com/questions/753190/programmatically-generate-video-or-animated-gif-in-python, as suggested by S. Allam."
   ]
  },
  {
   "cell_type": "code",
   "execution_count": 174,
   "metadata": {},
   "outputs": [
    {
     "name": "stdout",
     "output_type": "stream",
     "text": [
      "Animated GIF can be found here:  /Users/mwiesner/KDC/kasen/KNspectrum.knova_d1_n10_m0.030_vk0.05_fd1.0_Xlan1e-3.0.h5_z10.950.gif\n"
     ]
    }
   ],
   "source": [
    "# Define name of the animated GIF to be output...    \n",
    "outputAnimGif = \"\"\"KNspectrum.%s_z%.3f.gif\"\"\" % (kasen_filename, t_kn)\n",
    "outputAnimGif = os.path.join(output_dirname, outputAnimGif)\n",
    "\n",
    "# Identify input png files for the animated GIF...\n",
    "filenameTemplate = \"\"\"KNspectrum.%s_z%.3f_a??.??.png\"\"\" % (kasen_filename, z_kn)\n",
    "filenameTemplate = os.path.join(output_dirname, filenameTemplate)\n",
    "#print filenameTemplate\n",
    "filenames = glob.glob(filenameTemplate)\n",
    "#for filename in filenames:\n",
    "#    print filename\n",
    "\n",
    "\n",
    "# Generate animated GIF...\n",
    "with imageio.get_writer(outputAnimGif, mode='I', duration=0.1) as writer:\n",
    "    for filename in filenames:\n",
    "        print(filename)\n",
    "        image = imageio.imread(filename)\n",
    "        writer.append_data(image)\n",
    "\n",
    "print(\"\"\"Animated GIF can be found here:  %s\"\"\" % (outputAnimGif))"
   ]
  },
  {
   "cell_type": "markdown",
   "metadata": {},
   "source": [
    "## Display Animated Gif\n",
    "See https://github.com/ipython/ipython/issues/10045#issuecomment-608641627"
   ]
  },
  {
   "cell_type": "code",
   "execution_count": 82,
   "metadata": {},
   "outputs": [],
   "source": [
    "from IPython.core.interactiveshell import InteractiveShell\n",
    "InteractiveShell.ast_node_interactivity = \"all\"\n",
    "from IPython import display\n",
    "\n",
    "# Display GIF in Jupyter, CoLab, IPython\n",
    "with open(outputAnimGif,'rb') as f:\n",
    "    display.Image(data=f.read(), format='png')"
   ]
  },
  {
   "cell_type": "markdown",
   "metadata": {},
   "source": [
    "## Write final spectrum model to CSV file (example):"
   ]
  },
  {
   "cell_type": "code",
   "execution_count": 83,
   "metadata": {},
   "outputs": [],
   "source": [
    "#df_model_new.to_csv('test.csv', index=False)\n",
    "#!head -50  test.csv"
   ]
  },
  {
   "cell_type": "markdown",
   "metadata": {},
   "source": [
    "## Read in KN SED and Calculate KN Synthetic Magnitudes"
   ]
  },
  {
   "cell_type": "code",
   "execution_count": 84,
   "metadata": {},
   "outputs": [
    {
     "name": "stdout",
     "output_type": "stream",
     "text": [
      "0.05\n",
      "u,g,r,i,z,Y\n",
      "18.5166,18.2309,18.0471,18.2128,18.3667,18.3022\n"
     ]
    },
    {
     "name": "stderr",
     "output_type": "stream",
     "text": [
      "WARNING: VerifyWarning: Error validating header for HDU #0 (note: Astropy uses zero-based indexing).\n",
      "    Header size is not multiple of 2880: 4152158\n",
      "There may be extra bytes after the last HDU or the file is corrupted. [astropy.io.fits.hdu.hdulist]\n"
     ]
    },
    {
     "data": {
      "text/plain": [
       "0"
      ]
     },
     "execution_count": 84,
     "metadata": {},
     "output_type": "execute_result"
    },
    {
     "name": "stdout",
     "output_type": "stream",
     "text": [
      "0.14999999\n",
      "u,g,r,i,z,Y\n",
      "17.8009,17.4383,17.2115,17.3857,17.5426,17.6123\n"
     ]
    },
    {
     "name": "stderr",
     "output_type": "stream",
     "text": [
      "WARNING: VerifyWarning: Error validating header for HDU #0 (note: Astropy uses zero-based indexing).\n",
      "    Header size is not multiple of 2880: 4607852\n",
      "There may be extra bytes after the last HDU or the file is corrupted. [astropy.io.fits.hdu.hdulist]\n"
     ]
    },
    {
     "data": {
      "text/plain": [
       "0"
      ]
     },
     "execution_count": 84,
     "metadata": {},
     "output_type": "execute_result"
    },
    {
     "name": "stdout",
     "output_type": "stream",
     "text": [
      "0.25\n",
      "u,g,r,i,z,Y\n",
      "17.6133,17.0388,16.7675,16.9369,17.0462,17.1011\n"
     ]
    },
    {
     "name": "stderr",
     "output_type": "stream",
     "text": [
      "WARNING: VerifyWarning: Error validating header for HDU #0 (note: Astropy uses zero-based indexing).\n",
      "    Header size is not multiple of 2880: 4935668\n",
      "There may be extra bytes after the last HDU or the file is corrupted. [astropy.io.fits.hdu.hdulist]\n"
     ]
    },
    {
     "data": {
      "text/plain": [
       "0"
      ]
     },
     "execution_count": 84,
     "metadata": {},
     "output_type": "execute_result"
    },
    {
     "name": "stdout",
     "output_type": "stream",
     "text": [
      "0.35\n",
      "u,g,r,i,z,Y\n",
      "17.5364,16.7657,16.4429,16.5667,16.7144,16.7394\n"
     ]
    },
    {
     "name": "stderr",
     "output_type": "stream",
     "text": [
      "WARNING: VerifyWarning: Error validating header for HDU #0 (note: Astropy uses zero-based indexing).\n",
      "    Header size is not multiple of 2880: 5170886\n",
      "There may be extra bytes after the last HDU or the file is corrupted. [astropy.io.fits.hdu.hdulist]\n"
     ]
    },
    {
     "data": {
      "text/plain": [
       "0"
      ]
     },
     "execution_count": 84,
     "metadata": {},
     "output_type": "execute_result"
    },
    {
     "name": "stdout",
     "output_type": "stream",
     "text": [
      "0.45000002\n",
      "u,g,r,i,z,Y\n",
      "17.5694,16.5987,16.2182,16.3375,16.4730,16.4923\n"
     ]
    },
    {
     "name": "stderr",
     "output_type": "stream",
     "text": [
      "WARNING: VerifyWarning: Error validating header for HDU #0 (note: Astropy uses zero-based indexing).\n",
      "    Header size is not multiple of 2880: 5398271\n",
      "There may be extra bytes after the last HDU or the file is corrupted. [astropy.io.fits.hdu.hdulist]\n"
     ]
    },
    {
     "data": {
      "text/plain": [
       "0"
      ]
     },
     "execution_count": 84,
     "metadata": {},
     "output_type": "execute_result"
    },
    {
     "name": "stdout",
     "output_type": "stream",
     "text": [
      "0.55\n",
      "u,g,r,i,z,Y\n",
      "17.6298,16.4923,16.0316,16.1543,16.2368,16.2848\n"
     ]
    },
    {
     "name": "stderr",
     "output_type": "stream",
     "text": [
      "WARNING: VerifyWarning: Error validating header for HDU #0 (note: Astropy uses zero-based indexing).\n",
      "    Header size is not multiple of 2880: 5556868\n",
      "There may be extra bytes after the last HDU or the file is corrupted. [astropy.io.fits.hdu.hdulist]\n"
     ]
    },
    {
     "data": {
      "text/plain": [
       "0"
      ]
     },
     "execution_count": 84,
     "metadata": {},
     "output_type": "execute_result"
    },
    {
     "name": "stdout",
     "output_type": "stream",
     "text": [
      "0.65000004\n",
      "u,g,r,i,z,Y\n",
      "17.6181,16.3884,15.8878,16.0304,16.1042,16.1941\n"
     ]
    },
    {
     "name": "stderr",
     "output_type": "stream",
     "text": [
      "WARNING: VerifyWarning: Error validating header for HDU #0 (note: Astropy uses zero-based indexing).\n",
      "    Header size is not multiple of 2880: 5650511\n",
      "There may be extra bytes after the last HDU or the file is corrupted. [astropy.io.fits.hdu.hdulist]\n"
     ]
    },
    {
     "data": {
      "text/plain": [
       "0"
      ]
     },
     "execution_count": 84,
     "metadata": {},
     "output_type": "execute_result"
    },
    {
     "name": "stdout",
     "output_type": "stream",
     "text": [
      "0.75\n",
      "u,g,r,i,z,Y\n",
      "17.6945,16.3471,15.7726,15.8981,15.9650,16.0707\n"
     ]
    },
    {
     "name": "stderr",
     "output_type": "stream",
     "text": [
      "WARNING: VerifyWarning: Error validating header for HDU #0 (note: Astropy uses zero-based indexing).\n",
      "    Header size is not multiple of 2880: 5769004\n",
      "There may be extra bytes after the last HDU or the file is corrupted. [astropy.io.fits.hdu.hdulist]\n"
     ]
    },
    {
     "data": {
      "text/plain": [
       "0"
      ]
     },
     "execution_count": 84,
     "metadata": {},
     "output_type": "execute_result"
    },
    {
     "name": "stdout",
     "output_type": "stream",
     "text": [
      "0.84999996\n",
      "u,g,r,i,z,Y\n",
      "17.7723,16.3342,15.6722,15.8044,15.8415,15.9322\n"
     ]
    },
    {
     "name": "stderr",
     "output_type": "stream",
     "text": [
      "WARNING: VerifyWarning: Error validating header for HDU #0 (note: Astropy uses zero-based indexing).\n",
      "    Header size is not multiple of 2880: 5782572\n",
      "There may be extra bytes after the last HDU or the file is corrupted. [astropy.io.fits.hdu.hdulist]\n"
     ]
    },
    {
     "data": {
      "text/plain": [
       "0"
      ]
     },
     "execution_count": 84,
     "metadata": {},
     "output_type": "execute_result"
    },
    {
     "name": "stdout",
     "output_type": "stream",
     "text": [
      "0.95\n",
      "u,g,r,i,z,Y\n",
      "17.8555,16.3462,15.6072,15.7519,15.7472,15.8839\n"
     ]
    },
    {
     "name": "stderr",
     "output_type": "stream",
     "text": [
      "WARNING: VerifyWarning: Error validating header for HDU #0 (note: Astropy uses zero-based indexing).\n",
      "    Header size is not multiple of 2880: 5764292\n",
      "There may be extra bytes after the last HDU or the file is corrupted. [astropy.io.fits.hdu.hdulist]\n"
     ]
    },
    {
     "data": {
      "text/plain": [
       "0"
      ]
     },
     "execution_count": 84,
     "metadata": {},
     "output_type": "execute_result"
    },
    {
     "name": "stdout",
     "output_type": "stream",
     "text": [
      "1.0500001\n",
      "u,g,r,i,z,Y\n",
      "17.9311,16.3803,15.5553,15.6878,15.6471,15.7715\n"
     ]
    },
    {
     "name": "stderr",
     "output_type": "stream",
     "text": [
      "WARNING: VerifyWarning: Error validating header for HDU #0 (note: Astropy uses zero-based indexing).\n",
      "    Header size is not multiple of 2880: 5834748\n",
      "There may be extra bytes after the last HDU or the file is corrupted. [astropy.io.fits.hdu.hdulist]\n"
     ]
    },
    {
     "data": {
      "text/plain": [
       "0"
      ]
     },
     "execution_count": 84,
     "metadata": {},
     "output_type": "execute_result"
    },
    {
     "name": "stdout",
     "output_type": "stream",
     "text": [
      "1.15\n",
      "u,g,r,i,z,Y\n",
      "18.0509,16.4230,15.5131,15.6236,15.5733,15.6976\n"
     ]
    },
    {
     "name": "stderr",
     "output_type": "stream",
     "text": [
      "WARNING: VerifyWarning: Error validating header for HDU #0 (note: Astropy uses zero-based indexing).\n",
      "    Header size is not multiple of 2880: 5873611\n",
      "There may be extra bytes after the last HDU or the file is corrupted. [astropy.io.fits.hdu.hdulist]\n"
     ]
    },
    {
     "data": {
      "text/plain": [
       "0"
      ]
     },
     "execution_count": 84,
     "metadata": {},
     "output_type": "execute_result"
    },
    {
     "name": "stdout",
     "output_type": "stream",
     "text": [
      "1.25\n",
      "u,g,r,i,z,Y\n",
      "18.1172,16.4884,15.4647,15.5543,15.4927,15.6247\n"
     ]
    },
    {
     "name": "stderr",
     "output_type": "stream",
     "text": [
      "WARNING: VerifyWarning: Error validating header for HDU #0 (note: Astropy uses zero-based indexing).\n",
      "    Header size is not multiple of 2880: 5928863\n",
      "There may be extra bytes after the last HDU or the file is corrupted. [astropy.io.fits.hdu.hdulist]\n"
     ]
    },
    {
     "data": {
      "text/plain": [
       "0"
      ]
     },
     "execution_count": 84,
     "metadata": {},
     "output_type": "execute_result"
    },
    {
     "name": "stdout",
     "output_type": "stream",
     "text": [
      "1.35\n",
      "u,g,r,i,z,Y\n",
      "18.2558,16.5704,15.4257,15.5113,15.4135,15.5615\n"
     ]
    },
    {
     "name": "stderr",
     "output_type": "stream",
     "text": [
      "WARNING: VerifyWarning: Error validating header for HDU #0 (note: Astropy uses zero-based indexing).\n",
      "    Header size is not multiple of 2880: 5916178\n",
      "There may be extra bytes after the last HDU or the file is corrupted. [astropy.io.fits.hdu.hdulist]\n"
     ]
    },
    {
     "data": {
      "text/plain": [
       "0"
      ]
     },
     "execution_count": 84,
     "metadata": {},
     "output_type": "execute_result"
    },
    {
     "name": "stdout",
     "output_type": "stream",
     "text": [
      "1.4499999\n",
      "u,g,r,i,z,Y\n",
      "18.3287,16.6090,15.4355,15.5078,15.4247,15.5211\n"
     ]
    },
    {
     "name": "stderr",
     "output_type": "stream",
     "text": [
      "WARNING: VerifyWarning: Error validating header for HDU #0 (note: Astropy uses zero-based indexing).\n",
      "    Header size is not multiple of 2880: 5919290\n",
      "There may be extra bytes after the last HDU or the file is corrupted. [astropy.io.fits.hdu.hdulist]\n"
     ]
    },
    {
     "data": {
      "text/plain": [
       "0"
      ]
     },
     "execution_count": 84,
     "metadata": {},
     "output_type": "execute_result"
    },
    {
     "name": "stdout",
     "output_type": "stream",
     "text": [
      "1.5500001\n",
      "u,g,r,i,z,Y\n",
      "18.3670,16.7064,15.4446,15.4638,15.3396,15.4442\n"
     ]
    },
    {
     "name": "stderr",
     "output_type": "stream",
     "text": [
      "WARNING: VerifyWarning: Error validating header for HDU #0 (note: Astropy uses zero-based indexing).\n",
      "    Header size is not multiple of 2880: 5900177\n",
      "There may be extra bytes after the last HDU or the file is corrupted. [astropy.io.fits.hdu.hdulist]\n"
     ]
    },
    {
     "data": {
      "text/plain": [
       "0"
      ]
     },
     "execution_count": 84,
     "metadata": {},
     "output_type": "execute_result"
    },
    {
     "name": "stdout",
     "output_type": "stream",
     "text": [
      "1.65\n",
      "u,g,r,i,z,Y\n",
      "18.4837,16.8087,15.4260,15.4312,15.2990,15.4068\n"
     ]
    },
    {
     "name": "stderr",
     "output_type": "stream",
     "text": [
      "WARNING: VerifyWarning: Error validating header for HDU #0 (note: Astropy uses zero-based indexing).\n",
      "    Header size is not multiple of 2880: 5918329\n",
      "There may be extra bytes after the last HDU or the file is corrupted. [astropy.io.fits.hdu.hdulist]\n"
     ]
    },
    {
     "data": {
      "text/plain": [
       "0"
      ]
     },
     "execution_count": 84,
     "metadata": {},
     "output_type": "execute_result"
    },
    {
     "name": "stdout",
     "output_type": "stream",
     "text": [
      "1.75\n",
      "u,g,r,i,z,Y\n",
      "18.4725,16.8444,15.4584,15.4539,15.2867,15.3817\n"
     ]
    },
    {
     "name": "stderr",
     "output_type": "stream",
     "text": [
      "WARNING: VerifyWarning: Error validating header for HDU #0 (note: Astropy uses zero-based indexing).\n",
      "    Header size is not multiple of 2880: 5847318\n",
      "There may be extra bytes after the last HDU or the file is corrupted. [astropy.io.fits.hdu.hdulist]\n"
     ]
    },
    {
     "data": {
      "text/plain": [
       "0"
      ]
     },
     "execution_count": 84,
     "metadata": {},
     "output_type": "execute_result"
    },
    {
     "name": "stdout",
     "output_type": "stream",
     "text": [
      "1.85\n",
      "u,g,r,i,z,Y\n",
      "18.6400,16.9920,15.4492,15.3863,15.2325,15.3039\n"
     ]
    },
    {
     "name": "stderr",
     "output_type": "stream",
     "text": [
      "WARNING: VerifyWarning: Error validating header for HDU #0 (note: Astropy uses zero-based indexing).\n",
      "    Header size is not multiple of 2880: 5903415\n",
      "There may be extra bytes after the last HDU or the file is corrupted. [astropy.io.fits.hdu.hdulist]\n"
     ]
    },
    {
     "data": {
      "text/plain": [
       "0"
      ]
     },
     "execution_count": 84,
     "metadata": {},
     "output_type": "execute_result"
    },
    {
     "name": "stdout",
     "output_type": "stream",
     "text": [
      "1.9499999\n",
      "u,g,r,i,z,Y\n",
      "18.6127,17.0221,15.4982,15.4341,15.2457,15.2923\n"
     ]
    },
    {
     "name": "stderr",
     "output_type": "stream",
     "text": [
      "WARNING: VerifyWarning: Error validating header for HDU #0 (note: Astropy uses zero-based indexing).\n",
      "    Header size is not multiple of 2880: 5904171\n",
      "There may be extra bytes after the last HDU or the file is corrupted. [astropy.io.fits.hdu.hdulist]\n"
     ]
    },
    {
     "data": {
      "text/plain": [
       "0"
      ]
     },
     "execution_count": 84,
     "metadata": {},
     "output_type": "execute_result"
    },
    {
     "name": "stdout",
     "output_type": "stream",
     "text": [
      "2.05\n",
      "u,g,r,i,z,Y\n",
      "18.7589,17.2170,15.5084,15.3748,15.1736,15.2215\n"
     ]
    },
    {
     "name": "stderr",
     "output_type": "stream",
     "text": [
      "WARNING: VerifyWarning: Error validating header for HDU #0 (note: Astropy uses zero-based indexing).\n",
      "    Header size is not multiple of 2880: 5890759\n",
      "There may be extra bytes after the last HDU or the file is corrupted. [astropy.io.fits.hdu.hdulist]\n"
     ]
    },
    {
     "data": {
      "text/plain": [
       "0"
      ]
     },
     "execution_count": 84,
     "metadata": {},
     "output_type": "execute_result"
    },
    {
     "name": "stdout",
     "output_type": "stream",
     "text": [
      "2.1499999\n",
      "u,g,r,i,z,Y\n",
      "18.6328,17.2282,15.5470,15.4164,15.2047,15.2361\n"
     ]
    },
    {
     "name": "stderr",
     "output_type": "stream",
     "text": [
      "WARNING: VerifyWarning: Error validating header for HDU #0 (note: Astropy uses zero-based indexing).\n",
      "    Header size is not multiple of 2880: 5811631\n",
      "There may be extra bytes after the last HDU or the file is corrupted. [astropy.io.fits.hdu.hdulist]\n"
     ]
    },
    {
     "data": {
      "text/plain": [
       "0"
      ]
     },
     "execution_count": 84,
     "metadata": {},
     "output_type": "execute_result"
    },
    {
     "name": "stdout",
     "output_type": "stream",
     "text": [
      "2.25\n",
      "u,g,r,i,z,Y\n",
      "18.7782,17.4513,15.5663,15.3591,15.1454,15.1549\n"
     ]
    },
    {
     "name": "stderr",
     "output_type": "stream",
     "text": [
      "WARNING: VerifyWarning: Error validating header for HDU #0 (note: Astropy uses zero-based indexing).\n",
      "    Header size is not multiple of 2880: 5935818\n",
      "There may be extra bytes after the last HDU or the file is corrupted. [astropy.io.fits.hdu.hdulist]\n"
     ]
    },
    {
     "data": {
      "text/plain": [
       "0"
      ]
     },
     "execution_count": 84,
     "metadata": {},
     "output_type": "execute_result"
    },
    {
     "name": "stdout",
     "output_type": "stream",
     "text": [
      "2.3500001\n",
      "u,g,r,i,z,Y\n",
      "18.7980,17.4393,15.6277,15.4092,15.1719,15.1645\n"
     ]
    },
    {
     "name": "stderr",
     "output_type": "stream",
     "text": [
      "WARNING: VerifyWarning: Error validating header for HDU #0 (note: Astropy uses zero-based indexing).\n",
      "    Header size is not multiple of 2880: 5831773\n",
      "There may be extra bytes after the last HDU or the file is corrupted. [astropy.io.fits.hdu.hdulist]\n"
     ]
    },
    {
     "data": {
      "text/plain": [
       "0"
      ]
     },
     "execution_count": 84,
     "metadata": {},
     "output_type": "execute_result"
    },
    {
     "name": "stdout",
     "output_type": "stream",
     "text": [
      "2.45\n",
      "u,g,r,i,z,Y\n",
      "18.9786,17.6904,15.6604,15.3892,15.1365,15.1216\n"
     ]
    },
    {
     "name": "stderr",
     "output_type": "stream",
     "text": [
      "WARNING: VerifyWarning: Error validating header for HDU #0 (note: Astropy uses zero-based indexing).\n",
      "    Header size is not multiple of 2880: 5877648\n",
      "There may be extra bytes after the last HDU or the file is corrupted. [astropy.io.fits.hdu.hdulist]\n"
     ]
    },
    {
     "data": {
      "text/plain": [
       "0"
      ]
     },
     "execution_count": 84,
     "metadata": {},
     "output_type": "execute_result"
    },
    {
     "name": "stdout",
     "output_type": "stream",
     "text": [
      "2.55\n",
      "u,g,r,i,z,Y\n",
      "18.9746,17.7754,15.7378,15.3980,15.1457,15.1066\n"
     ]
    },
    {
     "name": "stderr",
     "output_type": "stream",
     "text": [
      "WARNING: VerifyWarning: Error validating header for HDU #0 (note: Astropy uses zero-based indexing).\n",
      "    Header size is not multiple of 2880: 5745786\n",
      "There may be extra bytes after the last HDU or the file is corrupted. [astropy.io.fits.hdu.hdulist]\n"
     ]
    },
    {
     "data": {
      "text/plain": [
       "0"
      ]
     },
     "execution_count": 84,
     "metadata": {},
     "output_type": "execute_result"
    },
    {
     "name": "stdout",
     "output_type": "stream",
     "text": [
      "2.6499999\n",
      "u,g,r,i,z,Y\n",
      "19.0087,17.8452,15.7687,15.4361,15.1615,15.1385\n"
     ]
    },
    {
     "name": "stderr",
     "output_type": "stream",
     "text": [
      "WARNING: VerifyWarning: Error validating header for HDU #0 (note: Astropy uses zero-based indexing).\n",
      "    Header size is not multiple of 2880: 5818619\n",
      "There may be extra bytes after the last HDU or the file is corrupted. [astropy.io.fits.hdu.hdulist]\n"
     ]
    },
    {
     "data": {
      "text/plain": [
       "0"
      ]
     },
     "execution_count": 84,
     "metadata": {},
     "output_type": "execute_result"
    },
    {
     "name": "stdout",
     "output_type": "stream",
     "text": [
      "2.75\n",
      "u,g,r,i,z,Y\n",
      "19.1772,18.0592,15.8350,15.4067,15.1024,15.0826\n"
     ]
    },
    {
     "name": "stderr",
     "output_type": "stream",
     "text": [
      "WARNING: VerifyWarning: Error validating header for HDU #0 (note: Astropy uses zero-based indexing).\n",
      "    Header size is not multiple of 2880: 5723470\n",
      "There may be extra bytes after the last HDU or the file is corrupted. [astropy.io.fits.hdu.hdulist]\n"
     ]
    },
    {
     "data": {
      "text/plain": [
       "0"
      ]
     },
     "execution_count": 84,
     "metadata": {},
     "output_type": "execute_result"
    },
    {
     "name": "stdout",
     "output_type": "stream",
     "text": [
      "2.8500001\n",
      "u,g,r,i,z,Y\n",
      "19.1714,18.0785,15.9222,15.4457,15.1264,15.0951\n"
     ]
    },
    {
     "name": "stderr",
     "output_type": "stream",
     "text": [
      "WARNING: VerifyWarning: Error validating header for HDU #0 (note: Astropy uses zero-based indexing).\n",
      "    Header size is not multiple of 2880: 5824205\n",
      "There may be extra bytes after the last HDU or the file is corrupted. [astropy.io.fits.hdu.hdulist]\n"
     ]
    },
    {
     "data": {
      "text/plain": [
       "0"
      ]
     },
     "execution_count": 84,
     "metadata": {},
     "output_type": "execute_result"
    },
    {
     "name": "stdout",
     "output_type": "stream",
     "text": [
      "2.95\n",
      "u,g,r,i,z,Y\n",
      "19.2972,18.2674,15.9771,15.4881,15.1212,15.0872\n"
     ]
    },
    {
     "name": "stderr",
     "output_type": "stream",
     "text": [
      "WARNING: VerifyWarning: Error validating header for HDU #0 (note: Astropy uses zero-based indexing).\n",
      "    Header size is not multiple of 2880: 5840592\n",
      "There may be extra bytes after the last HDU or the file is corrupted. [astropy.io.fits.hdu.hdulist]\n"
     ]
    },
    {
     "data": {
      "text/plain": [
       "0"
      ]
     },
     "execution_count": 84,
     "metadata": {},
     "output_type": "execute_result"
    },
    {
     "name": "stdout",
     "output_type": "stream",
     "text": [
      "3.05\n",
      "u,g,r,i,z,Y\n",
      "19.4529,18.3929,16.0896,15.4944,15.1155,15.0855\n"
     ]
    },
    {
     "name": "stderr",
     "output_type": "stream",
     "text": [
      "WARNING: VerifyWarning: Error validating header for HDU #0 (note: Astropy uses zero-based indexing).\n",
      "    Header size is not multiple of 2880: 5793940\n",
      "There may be extra bytes after the last HDU or the file is corrupted. [astropy.io.fits.hdu.hdulist]\n"
     ]
    },
    {
     "data": {
      "text/plain": [
       "0"
      ]
     },
     "execution_count": 84,
     "metadata": {},
     "output_type": "execute_result"
    },
    {
     "name": "stdout",
     "output_type": "stream",
     "text": [
      "3.1499999\n",
      "u,g,r,i,z,Y\n",
      "19.4315,18.3909,16.1468,15.5434,15.1443,15.0907\n"
     ]
    },
    {
     "name": "stderr",
     "output_type": "stream",
     "text": [
      "WARNING: VerifyWarning: Error validating header for HDU #0 (note: Astropy uses zero-based indexing).\n",
      "    Header size is not multiple of 2880: 5781303\n",
      "There may be extra bytes after the last HDU or the file is corrupted. [astropy.io.fits.hdu.hdulist]\n"
     ]
    },
    {
     "data": {
      "text/plain": [
       "0"
      ]
     },
     "execution_count": 84,
     "metadata": {},
     "output_type": "execute_result"
    },
    {
     "name": "stdout",
     "output_type": "stream",
     "text": [
      "3.25\n",
      "u,g,r,i,z,Y\n",
      "19.6661,18.5961,16.2663,15.5961,15.1296,15.0819\n"
     ]
    },
    {
     "name": "stderr",
     "output_type": "stream",
     "text": [
      "WARNING: VerifyWarning: Error validating header for HDU #0 (note: Astropy uses zero-based indexing).\n",
      "    Header size is not multiple of 2880: 5624035\n",
      "There may be extra bytes after the last HDU or the file is corrupted. [astropy.io.fits.hdu.hdulist]\n"
     ]
    },
    {
     "data": {
      "text/plain": [
       "0"
      ]
     },
     "execution_count": 84,
     "metadata": {},
     "output_type": "execute_result"
    },
    {
     "name": "stdout",
     "output_type": "stream",
     "text": [
      "3.3500001\n",
      "u,g,r,i,z,Y\n",
      "19.8413,18.7476,16.4328,15.6729,15.1247,15.0764\n"
     ]
    },
    {
     "name": "stderr",
     "output_type": "stream",
     "text": [
      "WARNING: VerifyWarning: Error validating header for HDU #0 (note: Astropy uses zero-based indexing).\n",
      "    Header size is not multiple of 2880: 5765600\n",
      "There may be extra bytes after the last HDU or the file is corrupted. [astropy.io.fits.hdu.hdulist]\n"
     ]
    },
    {
     "data": {
      "text/plain": [
       "0"
      ]
     },
     "execution_count": 84,
     "metadata": {},
     "output_type": "execute_result"
    },
    {
     "name": "stdout",
     "output_type": "stream",
     "text": [
      "3.45\n",
      "u,g,r,i,z,Y\n",
      "19.9051,18.7445,16.5355,15.7271,15.1624,15.0945\n"
     ]
    },
    {
     "name": "stderr",
     "output_type": "stream",
     "text": [
      "WARNING: VerifyWarning: Error validating header for HDU #0 (note: Astropy uses zero-based indexing).\n",
      "    Header size is not multiple of 2880: 5821608\n",
      "There may be extra bytes after the last HDU or the file is corrupted. [astropy.io.fits.hdu.hdulist]\n"
     ]
    },
    {
     "data": {
      "text/plain": [
       "0"
      ]
     },
     "execution_count": 84,
     "metadata": {},
     "output_type": "execute_result"
    },
    {
     "name": "stdout",
     "output_type": "stream",
     "text": [
      "3.55\n",
      "u,g,r,i,z,Y\n",
      "20.0146,18.8217,16.5781,15.7482,15.1663,15.0959\n"
     ]
    },
    {
     "name": "stderr",
     "output_type": "stream",
     "text": [
      "WARNING: VerifyWarning: Error validating header for HDU #0 (note: Astropy uses zero-based indexing).\n",
      "    Header size is not multiple of 2880: 5726117\n",
      "There may be extra bytes after the last HDU or the file is corrupted. [astropy.io.fits.hdu.hdulist]\n"
     ]
    },
    {
     "data": {
      "text/plain": [
       "0"
      ]
     },
     "execution_count": 84,
     "metadata": {},
     "output_type": "execute_result"
    },
    {
     "name": "stdout",
     "output_type": "stream",
     "text": [
      "3.6499999\n",
      "u,g,r,i,z,Y\n",
      "20.1559,19.1296,16.8096,15.8625,15.1647,15.0903\n"
     ]
    },
    {
     "name": "stderr",
     "output_type": "stream",
     "text": [
      "WARNING: VerifyWarning: Error validating header for HDU #0 (note: Astropy uses zero-based indexing).\n",
      "    Header size is not multiple of 2880: 5599590\n",
      "There may be extra bytes after the last HDU or the file is corrupted. [astropy.io.fits.hdu.hdulist]\n"
     ]
    },
    {
     "data": {
      "text/plain": [
       "0"
      ]
     },
     "execution_count": 84,
     "metadata": {},
     "output_type": "execute_result"
    },
    {
     "name": "stdout",
     "output_type": "stream",
     "text": [
      "3.75\n",
      "u,g,r,i,z,Y\n",
      "20.4084,19.2393,16.9522,15.9745,15.2135,15.1426\n"
     ]
    },
    {
     "name": "stderr",
     "output_type": "stream",
     "text": [
      "WARNING: VerifyWarning: Error validating header for HDU #0 (note: Astropy uses zero-based indexing).\n",
      "    Header size is not multiple of 2880: 5766378\n",
      "There may be extra bytes after the last HDU or the file is corrupted. [astropy.io.fits.hdu.hdulist]\n"
     ]
    },
    {
     "data": {
      "text/plain": [
       "0"
      ]
     },
     "execution_count": 84,
     "metadata": {},
     "output_type": "execute_result"
    },
    {
     "name": "stdout",
     "output_type": "stream",
     "text": [
      "3.8500001\n",
      "u,g,r,i,z,Y\n",
      "20.3447,19.2177,16.9847,16.0305,15.2406,15.1336\n"
     ]
    },
    {
     "data": {
      "text/plain": [
       "0"
      ]
     },
     "execution_count": 84,
     "metadata": {},
     "output_type": "execute_result"
    },
    {
     "name": "stdout",
     "output_type": "stream",
     "text": [
      "3.95\n",
      "u,g,r,i,z,Y\n",
      "20.6189,19.4276,17.0698,16.0576,15.2319,15.1456\n"
     ]
    },
    {
     "name": "stderr",
     "output_type": "stream",
     "text": [
      "WARNING: VerifyWarning: Error validating header for HDU #0 (note: Astropy uses zero-based indexing).\n",
      "    Header size is not multiple of 2880: 5749781\n",
      "There may be extra bytes after the last HDU or the file is corrupted. [astropy.io.fits.hdu.hdulist]\n"
     ]
    },
    {
     "data": {
      "text/plain": [
       "0"
      ]
     },
     "execution_count": 84,
     "metadata": {},
     "output_type": "execute_result"
    },
    {
     "name": "stdout",
     "output_type": "stream",
     "text": [
      "4.0499997\n",
      "u,g,r,i,z,Y\n",
      "20.8873,19.5964,17.2734,16.1801,15.2853,15.1665\n"
     ]
    },
    {
     "name": "stderr",
     "output_type": "stream",
     "text": [
      "WARNING: VerifyWarning: Error validating header for HDU #0 (note: Astropy uses zero-based indexing).\n",
      "    Header size is not multiple of 2880: 5687207\n",
      "There may be extra bytes after the last HDU or the file is corrupted. [astropy.io.fits.hdu.hdulist]\n"
     ]
    },
    {
     "data": {
      "text/plain": [
       "0"
      ]
     },
     "execution_count": 84,
     "metadata": {},
     "output_type": "execute_result"
    },
    {
     "name": "stdout",
     "output_type": "stream",
     "text": [
      "4.15\n",
      "u,g,r,i,z,Y\n",
      "21.0490,19.7626,17.3952,16.3362,15.3905,15.2289\n"
     ]
    },
    {
     "name": "stderr",
     "output_type": "stream",
     "text": [
      "WARNING: VerifyWarning: Error validating header for HDU #0 (note: Astropy uses zero-based indexing).\n",
      "    Header size is not multiple of 2880: 5623645\n",
      "There may be extra bytes after the last HDU or the file is corrupted. [astropy.io.fits.hdu.hdulist]\n"
     ]
    },
    {
     "data": {
      "text/plain": [
       "0"
      ]
     },
     "execution_count": 84,
     "metadata": {},
     "output_type": "execute_result"
    },
    {
     "name": "stdout",
     "output_type": "stream",
     "text": [
      "4.25\n",
      "u,g,r,i,z,Y\n",
      "20.9963,19.6997,17.4302,16.3552,15.4395,15.2444\n"
     ]
    },
    {
     "name": "stderr",
     "output_type": "stream",
     "text": [
      "WARNING: VerifyWarning: Error validating header for HDU #0 (note: Astropy uses zero-based indexing).\n",
      "    Header size is not multiple of 2880: 5717690\n",
      "There may be extra bytes after the last HDU or the file is corrupted. [astropy.io.fits.hdu.hdulist]\n"
     ]
    },
    {
     "data": {
      "text/plain": [
       "0"
      ]
     },
     "execution_count": 84,
     "metadata": {},
     "output_type": "execute_result"
    },
    {
     "name": "stdout",
     "output_type": "stream",
     "text": [
      "4.35\n",
      "u,g,r,i,z,Y\n",
      "21.2277,20.0288,17.4657,16.3995,15.4242,15.2427\n"
     ]
    },
    {
     "name": "stderr",
     "output_type": "stream",
     "text": [
      "WARNING: VerifyWarning: Error validating header for HDU #0 (note: Astropy uses zero-based indexing).\n",
      "    Header size is not multiple of 2880: 5746893\n",
      "There may be extra bytes after the last HDU or the file is corrupted. [astropy.io.fits.hdu.hdulist]\n"
     ]
    },
    {
     "data": {
      "text/plain": [
       "0"
      ]
     },
     "execution_count": 84,
     "metadata": {},
     "output_type": "execute_result"
    },
    {
     "name": "stdout",
     "output_type": "stream",
     "text": [
      "4.4500003\n",
      "u,g,r,i,z,Y\n",
      "21.5150,20.1437,17.6104,16.4888,15.4655,15.2563\n"
     ]
    },
    {
     "name": "stderr",
     "output_type": "stream",
     "text": [
      "WARNING: VerifyWarning: Error validating header for HDU #0 (note: Astropy uses zero-based indexing).\n",
      "    Header size is not multiple of 2880: 5729888\n",
      "There may be extra bytes after the last HDU or the file is corrupted. [astropy.io.fits.hdu.hdulist]\n"
     ]
    },
    {
     "data": {
      "text/plain": [
       "0"
      ]
     },
     "execution_count": 84,
     "metadata": {},
     "output_type": "execute_result"
    },
    {
     "name": "stdout",
     "output_type": "stream",
     "text": [
      "4.5499997\n",
      "u,g,r,i,z,Y\n",
      "21.8591,20.2399,17.7560,16.6537,15.6053,15.3745\n"
     ]
    },
    {
     "name": "stderr",
     "output_type": "stream",
     "text": [
      "WARNING: VerifyWarning: Error validating header for HDU #0 (note: Astropy uses zero-based indexing).\n",
      "    Header size is not multiple of 2880: 5699748\n",
      "There may be extra bytes after the last HDU or the file is corrupted. [astropy.io.fits.hdu.hdulist]\n"
     ]
    },
    {
     "data": {
      "text/plain": [
       "0"
      ]
     },
     "execution_count": 84,
     "metadata": {},
     "output_type": "execute_result"
    },
    {
     "name": "stdout",
     "output_type": "stream",
     "text": [
      "4.65\n",
      "u,g,r,i,z,Y\n",
      "21.9194,20.3715,17.8010,16.7211,15.7199,15.4549\n"
     ]
    },
    {
     "name": "stderr",
     "output_type": "stream",
     "text": [
      "WARNING: VerifyWarning: Error validating header for HDU #0 (note: Astropy uses zero-based indexing).\n",
      "    Header size is not multiple of 2880: 5664109\n",
      "There may be extra bytes after the last HDU or the file is corrupted. [astropy.io.fits.hdu.hdulist]\n"
     ]
    },
    {
     "data": {
      "text/plain": [
       "0"
      ]
     },
     "execution_count": 84,
     "metadata": {},
     "output_type": "execute_result"
    },
    {
     "name": "stdout",
     "output_type": "stream",
     "text": [
      "4.75\n",
      "u,g,r,i,z,Y\n",
      "21.8436,20.4436,17.7993,16.7500,15.7549,15.4869\n"
     ]
    },
    {
     "name": "stderr",
     "output_type": "stream",
     "text": [
      "WARNING: VerifyWarning: Error validating header for HDU #0 (note: Astropy uses zero-based indexing).\n",
      "    Header size is not multiple of 2880: 5576623\n",
      "There may be extra bytes after the last HDU or the file is corrupted. [astropy.io.fits.hdu.hdulist]\n"
     ]
    },
    {
     "data": {
      "text/plain": [
       "0"
      ]
     },
     "execution_count": 84,
     "metadata": {},
     "output_type": "execute_result"
    },
    {
     "name": "stdout",
     "output_type": "stream",
     "text": [
      "4.85\n",
      "u,g,r,i,z,Y\n",
      "22.1903,20.7630,17.9806,16.7911,15.7677,15.4868\n"
     ]
    },
    {
     "name": "stderr",
     "output_type": "stream",
     "text": [
      "WARNING: VerifyWarning: Error validating header for HDU #0 (note: Astropy uses zero-based indexing).\n",
      "    Header size is not multiple of 2880: 5705615\n",
      "There may be extra bytes after the last HDU or the file is corrupted. [astropy.io.fits.hdu.hdulist]\n"
     ]
    },
    {
     "data": {
      "text/plain": [
       "0"
      ]
     },
     "execution_count": 84,
     "metadata": {},
     "output_type": "execute_result"
    },
    {
     "name": "stdout",
     "output_type": "stream",
     "text": [
      "4.9500003\n",
      "u,g,r,i,z,Y\n",
      "22.4906,20.8108,18.0840,16.8713,15.8124,15.5104\n"
     ]
    },
    {
     "name": "stderr",
     "output_type": "stream",
     "text": [
      "WARNING: VerifyWarning: Error validating header for HDU #0 (note: Astropy uses zero-based indexing).\n",
      "    Header size is not multiple of 2880: 5749508\n",
      "There may be extra bytes after the last HDU or the file is corrupted. [astropy.io.fits.hdu.hdulist]\n"
     ]
    },
    {
     "data": {
      "text/plain": [
       "0"
      ]
     },
     "execution_count": 84,
     "metadata": {},
     "output_type": "execute_result"
    },
    {
     "name": "stdout",
     "output_type": "stream",
     "text": [
      "5.0499997\n",
      "u,g,r,i,z,Y\n",
      "22.6818,20.9557,18.1805,17.0118,15.9869,15.6710\n"
     ]
    },
    {
     "name": "stderr",
     "output_type": "stream",
     "text": [
      "WARNING: VerifyWarning: Error validating header for HDU #0 (note: Astropy uses zero-based indexing).\n",
      "    Header size is not multiple of 2880: 5623442\n",
      "There may be extra bytes after the last HDU or the file is corrupted. [astropy.io.fits.hdu.hdulist]\n"
     ]
    },
    {
     "data": {
      "text/plain": [
       "0"
      ]
     },
     "execution_count": 84,
     "metadata": {},
     "output_type": "execute_result"
    },
    {
     "name": "stdout",
     "output_type": "stream",
     "text": [
      "5.15\n",
      "u,g,r,i,z,Y\n",
      "22.7838,20.9721,18.2371,17.0537,16.0406,15.7590\n"
     ]
    },
    {
     "name": "stderr",
     "output_type": "stream",
     "text": [
      "WARNING: VerifyWarning: Error validating header for HDU #0 (note: Astropy uses zero-based indexing).\n",
      "    Header size is not multiple of 2880: 5675348\n",
      "There may be extra bytes after the last HDU or the file is corrupted. [astropy.io.fits.hdu.hdulist]\n"
     ]
    },
    {
     "data": {
      "text/plain": [
       "0"
      ]
     },
     "execution_count": 84,
     "metadata": {},
     "output_type": "execute_result"
    },
    {
     "name": "stdout",
     "output_type": "stream",
     "text": [
      "5.25\n",
      "u,g,r,i,z,Y\n",
      "22.9081,21.1668,18.2837,17.1101,16.0948,15.8128\n"
     ]
    },
    {
     "name": "stderr",
     "output_type": "stream",
     "text": [
      "WARNING: VerifyWarning: Error validating header for HDU #0 (note: Astropy uses zero-based indexing).\n",
      "    Header size is not multiple of 2880: 5777437\n",
      "There may be extra bytes after the last HDU or the file is corrupted. [astropy.io.fits.hdu.hdulist]\n"
     ]
    },
    {
     "data": {
      "text/plain": [
       "0"
      ]
     },
     "execution_count": 84,
     "metadata": {},
     "output_type": "execute_result"
    },
    {
     "name": "stdout",
     "output_type": "stream",
     "text": [
      "5.35\n",
      "u,g,r,i,z,Y\n",
      "23.2586,21.4601,18.3756,17.1487,16.1138,15.8324\n"
     ]
    },
    {
     "name": "stderr",
     "output_type": "stream",
     "text": [
      "WARNING: VerifyWarning: Error validating header for HDU #0 (note: Astropy uses zero-based indexing).\n",
      "    Header size is not multiple of 2880: 5727608\n",
      "There may be extra bytes after the last HDU or the file is corrupted. [astropy.io.fits.hdu.hdulist]\n"
     ]
    },
    {
     "data": {
      "text/plain": [
       "0"
      ]
     },
     "execution_count": 84,
     "metadata": {},
     "output_type": "execute_result"
    },
    {
     "name": "stdout",
     "output_type": "stream",
     "text": [
      "5.4500003\n",
      "u,g,r,i,z,Y\n",
      "23.3001,21.5217,18.4983,17.2340,16.1646,15.8492\n"
     ]
    },
    {
     "name": "stderr",
     "output_type": "stream",
     "text": [
      "WARNING: VerifyWarning: Error validating header for HDU #0 (note: Astropy uses zero-based indexing).\n",
      "    Header size is not multiple of 2880: 5716344\n",
      "There may be extra bytes after the last HDU or the file is corrupted. [astropy.io.fits.hdu.hdulist]\n"
     ]
    },
    {
     "data": {
      "text/plain": [
       "0"
      ]
     },
     "execution_count": 84,
     "metadata": {},
     "output_type": "execute_result"
    },
    {
     "name": "stdout",
     "output_type": "stream",
     "text": [
      "5.5499997\n",
      "u,g,r,i,z,Y\n",
      "23.7164,21.5516,18.6450,17.3117,16.2623,15.9420\n"
     ]
    },
    {
     "name": "stderr",
     "output_type": "stream",
     "text": [
      "WARNING: VerifyWarning: Error validating header for HDU #0 (note: Astropy uses zero-based indexing).\n",
      "    Header size is not multiple of 2880: 5821147\n",
      "There may be extra bytes after the last HDU or the file is corrupted. [astropy.io.fits.hdu.hdulist]\n"
     ]
    },
    {
     "data": {
      "text/plain": [
       "0"
      ]
     },
     "execution_count": 84,
     "metadata": {},
     "output_type": "execute_result"
    },
    {
     "name": "stdout",
     "output_type": "stream",
     "text": [
      "5.65\n",
      "u,g,r,i,z,Y\n",
      "23.4106,21.6657,18.6968,17.4055,16.3584,16.0341\n"
     ]
    },
    {
     "name": "stderr",
     "output_type": "stream",
     "text": [
      "WARNING: VerifyWarning: Error validating header for HDU #0 (note: Astropy uses zero-based indexing).\n",
      "    Header size is not multiple of 2880: 5668714\n",
      "There may be extra bytes after the last HDU or the file is corrupted. [astropy.io.fits.hdu.hdulist]\n"
     ]
    },
    {
     "data": {
      "text/plain": [
       "0"
      ]
     },
     "execution_count": 84,
     "metadata": {},
     "output_type": "execute_result"
    },
    {
     "name": "stdout",
     "output_type": "stream",
     "text": [
      "5.75\n",
      "u,g,r,i,z,Y\n",
      "24.2896,21.7347,18.7222,17.4675,16.3862,16.0919\n"
     ]
    },
    {
     "name": "stderr",
     "output_type": "stream",
     "text": [
      "WARNING: VerifyWarning: Error validating header for HDU #0 (note: Astropy uses zero-based indexing).\n",
      "    Header size is not multiple of 2880: 5774075\n",
      "There may be extra bytes after the last HDU or the file is corrupted. [astropy.io.fits.hdu.hdulist]\n"
     ]
    },
    {
     "data": {
      "text/plain": [
       "0"
      ]
     },
     "execution_count": 84,
     "metadata": {},
     "output_type": "execute_result"
    },
    {
     "name": "stdout",
     "output_type": "stream",
     "text": [
      "5.85\n",
      "u,g,r,i,z,Y\n",
      "23.8836,22.0581,18.8059,17.4625,16.4298,16.1208\n"
     ]
    },
    {
     "name": "stderr",
     "output_type": "stream",
     "text": [
      "WARNING: VerifyWarning: Error validating header for HDU #0 (note: Astropy uses zero-based indexing).\n",
      "    Header size is not multiple of 2880: 5697022\n",
      "There may be extra bytes after the last HDU or the file is corrupted. [astropy.io.fits.hdu.hdulist]\n"
     ]
    },
    {
     "data": {
      "text/plain": [
       "0"
      ]
     },
     "execution_count": 84,
     "metadata": {},
     "output_type": "execute_result"
    },
    {
     "name": "stdout",
     "output_type": "stream",
     "text": [
      "5.9500003\n",
      "u,g,r,i,z,Y\n",
      "24.4127,22.1167,18.8680,17.5297,16.4073,16.1137\n"
     ]
    },
    {
     "name": "stderr",
     "output_type": "stream",
     "text": [
      "WARNING: VerifyWarning: Error validating header for HDU #0 (note: Astropy uses zero-based indexing).\n",
      "    Header size is not multiple of 2880: 5735679\n",
      "There may be extra bytes after the last HDU or the file is corrupted. [astropy.io.fits.hdu.hdulist]\n"
     ]
    },
    {
     "data": {
      "text/plain": [
       "0"
      ]
     },
     "execution_count": 84,
     "metadata": {},
     "output_type": "execute_result"
    },
    {
     "name": "stdout",
     "output_type": "stream",
     "text": [
      "6.0499997\n",
      "u,g,r,i,z,Y\n",
      "24.7558,22.1678,19.0527,17.6131,16.4784,16.1553\n"
     ]
    },
    {
     "name": "stderr",
     "output_type": "stream",
     "text": [
      "WARNING: VerifyWarning: Error validating header for HDU #0 (note: Astropy uses zero-based indexing).\n",
      "    Header size is not multiple of 2880: 5723627\n",
      "There may be extra bytes after the last HDU or the file is corrupted. [astropy.io.fits.hdu.hdulist]\n"
     ]
    },
    {
     "data": {
      "text/plain": [
       "0"
      ]
     },
     "execution_count": 84,
     "metadata": {},
     "output_type": "execute_result"
    },
    {
     "name": "stdout",
     "output_type": "stream",
     "text": [
      "6.15\n",
      "u,g,r,i,z,Y\n",
      "25.1247,22.3585,19.1408,17.7117,16.5689,16.2475\n"
     ]
    },
    {
     "name": "stderr",
     "output_type": "stream",
     "text": [
      "WARNING: VerifyWarning: Error validating header for HDU #0 (note: Astropy uses zero-based indexing).\n",
      "    Header size is not multiple of 2880: 5868802\n",
      "There may be extra bytes after the last HDU or the file is corrupted. [astropy.io.fits.hdu.hdulist]\n"
     ]
    },
    {
     "data": {
      "text/plain": [
       "0"
      ]
     },
     "execution_count": 84,
     "metadata": {},
     "output_type": "execute_result"
    },
    {
     "name": "stdout",
     "output_type": "stream",
     "text": [
      "6.25\n",
      "u,g,r,i,z,Y\n",
      "25.7487,22.4404,19.1561,17.7993,16.6298,16.2914\n"
     ]
    },
    {
     "name": "stderr",
     "output_type": "stream",
     "text": [
      "WARNING: VerifyWarning: Error validating header for HDU #0 (note: Astropy uses zero-based indexing).\n",
      "    Header size is not multiple of 2880: 5599086\n",
      "There may be extra bytes after the last HDU or the file is corrupted. [astropy.io.fits.hdu.hdulist]\n"
     ]
    },
    {
     "data": {
      "text/plain": [
       "0"
      ]
     },
     "execution_count": 84,
     "metadata": {},
     "output_type": "execute_result"
    },
    {
     "name": "stdout",
     "output_type": "stream",
     "text": [
      "6.35\n",
      "u,g,r,i,z,Y\n",
      "24.2400,22.4588,19.2080,17.7786,16.6965,16.3902\n"
     ]
    },
    {
     "name": "stderr",
     "output_type": "stream",
     "text": [
      "WARNING: VerifyWarning: Error validating header for HDU #0 (note: Astropy uses zero-based indexing).\n",
      "    Header size is not multiple of 2880: 5796487\n",
      "There may be extra bytes after the last HDU or the file is corrupted. [astropy.io.fits.hdu.hdulist]\n"
     ]
    },
    {
     "data": {
      "text/plain": [
       "0"
      ]
     },
     "execution_count": 84,
     "metadata": {},
     "output_type": "execute_result"
    },
    {
     "name": "stdout",
     "output_type": "stream",
     "text": [
      "6.4500003\n",
      "u,g,r,i,z,Y\n",
      "24.4354,22.5621,19.2709,17.8594,16.7023,16.3839\n"
     ]
    },
    {
     "name": "stderr",
     "output_type": "stream",
     "text": [
      "WARNING: VerifyWarning: Error validating header for HDU #0 (note: Astropy uses zero-based indexing).\n",
      "    Header size is not multiple of 2880: 5766855\n",
      "There may be extra bytes after the last HDU or the file is corrupted. [astropy.io.fits.hdu.hdulist]\n"
     ]
    },
    {
     "data": {
      "text/plain": [
       "0"
      ]
     },
     "execution_count": 84,
     "metadata": {},
     "output_type": "execute_result"
    },
    {
     "name": "stdout",
     "output_type": "stream",
     "text": [
      "6.5499997\n",
      "u,g,r,i,z,Y\n",
      "25.7869,22.9565,19.2696,17.8943,16.6878,16.3970\n"
     ]
    },
    {
     "name": "stderr",
     "output_type": "stream",
     "text": [
      "WARNING: VerifyWarning: Error validating header for HDU #0 (note: Astropy uses zero-based indexing).\n",
      "    Header size is not multiple of 2880: 5747843\n",
      "There may be extra bytes after the last HDU or the file is corrupted. [astropy.io.fits.hdu.hdulist]\n"
     ]
    },
    {
     "data": {
      "text/plain": [
       "0"
      ]
     },
     "execution_count": 84,
     "metadata": {},
     "output_type": "execute_result"
    },
    {
     "name": "stdout",
     "output_type": "stream",
     "text": [
      "6.65\n",
      "u,g,r,i,z,Y\n",
      "25.1426,22.7478,19.3566,17.9341,16.7553,16.3887\n"
     ]
    },
    {
     "name": "stderr",
     "output_type": "stream",
     "text": [
      "WARNING: VerifyWarning: Error validating header for HDU #0 (note: Astropy uses zero-based indexing).\n",
      "    Header size is not multiple of 2880: 5815232\n",
      "There may be extra bytes after the last HDU or the file is corrupted. [astropy.io.fits.hdu.hdulist]\n"
     ]
    },
    {
     "data": {
      "text/plain": [
       "0"
      ]
     },
     "execution_count": 84,
     "metadata": {},
     "output_type": "execute_result"
    },
    {
     "name": "stdout",
     "output_type": "stream",
     "text": [
      "6.75\n",
      "u,g,r,i,z,Y\n",
      "24.7541,22.9668,19.5099,18.0391,16.8153,16.4516\n"
     ]
    },
    {
     "name": "stderr",
     "output_type": "stream",
     "text": [
      "WARNING: VerifyWarning: Error validating header for HDU #0 (note: Astropy uses zero-based indexing).\n",
      "    Header size is not multiple of 2880: 5742377\n",
      "There may be extra bytes after the last HDU or the file is corrupted. [astropy.io.fits.hdu.hdulist]\n"
     ]
    },
    {
     "data": {
      "text/plain": [
       "0"
      ]
     },
     "execution_count": 84,
     "metadata": {},
     "output_type": "execute_result"
    },
    {
     "name": "stdout",
     "output_type": "stream",
     "text": [
      "6.85\n",
      "u,g,r,i,z,Y\n",
      "24.5108,23.1459,19.6850,18.0740,16.9052,16.5371\n"
     ]
    },
    {
     "name": "stderr",
     "output_type": "stream",
     "text": [
      "WARNING: VerifyWarning: Error validating header for HDU #0 (note: Astropy uses zero-based indexing).\n",
      "    Header size is not multiple of 2880: 5605358\n",
      "There may be extra bytes after the last HDU or the file is corrupted. [astropy.io.fits.hdu.hdulist]\n"
     ]
    },
    {
     "data": {
      "text/plain": [
       "0"
      ]
     },
     "execution_count": 84,
     "metadata": {},
     "output_type": "execute_result"
    },
    {
     "name": "stdout",
     "output_type": "stream",
     "text": [
      "6.9500003\n",
      "u,g,r,i,z,Y\n",
      "25.0616,23.0051,19.6337,18.0989,16.9213,16.5685\n"
     ]
    },
    {
     "name": "stderr",
     "output_type": "stream",
     "text": [
      "WARNING: VerifyWarning: Error validating header for HDU #0 (note: Astropy uses zero-based indexing).\n",
      "    Header size is not multiple of 2880: 5703458\n",
      "There may be extra bytes after the last HDU or the file is corrupted. [astropy.io.fits.hdu.hdulist]\n"
     ]
    },
    {
     "data": {
      "text/plain": [
       "0"
      ]
     },
     "execution_count": 84,
     "metadata": {},
     "output_type": "execute_result"
    },
    {
     "name": "stdout",
     "output_type": "stream",
     "text": [
      "7.0499997\n",
      "u,g,r,i,z,Y\n",
      "26.5640,23.1310,19.6686,18.1606,16.9366,16.5724\n"
     ]
    },
    {
     "name": "stderr",
     "output_type": "stream",
     "text": [
      "WARNING: VerifyWarning: Error validating header for HDU #0 (note: Astropy uses zero-based indexing).\n",
      "    Header size is not multiple of 2880: 5899719\n",
      "There may be extra bytes after the last HDU or the file is corrupted. [astropy.io.fits.hdu.hdulist]\n"
     ]
    },
    {
     "data": {
      "text/plain": [
       "0"
      ]
     },
     "execution_count": 84,
     "metadata": {},
     "output_type": "execute_result"
    },
    {
     "name": "stdout",
     "output_type": "stream",
     "text": [
      "7.15\n",
      "u,g,r,i,z,Y\n",
      "25.2570,23.1732,19.7096,18.1378,16.9552,16.6200\n"
     ]
    },
    {
     "name": "stderr",
     "output_type": "stream",
     "text": [
      "WARNING: VerifyWarning: Error validating header for HDU #0 (note: Astropy uses zero-based indexing).\n",
      "    Header size is not multiple of 2880: 5786237\n",
      "There may be extra bytes after the last HDU or the file is corrupted. [astropy.io.fits.hdu.hdulist]\n"
     ]
    },
    {
     "data": {
      "text/plain": [
       "0"
      ]
     },
     "execution_count": 84,
     "metadata": {},
     "output_type": "execute_result"
    },
    {
     "name": "stdout",
     "output_type": "stream",
     "text": [
      "7.25\n",
      "u,g,r,i,z,Y\n",
      "25.7610,23.4707,19.7868,18.1942,16.9913,16.6209\n"
     ]
    },
    {
     "name": "stderr",
     "output_type": "stream",
     "text": [
      "WARNING: VerifyWarning: Error validating header for HDU #0 (note: Astropy uses zero-based indexing).\n",
      "    Header size is not multiple of 2880: 5817006\n",
      "There may be extra bytes after the last HDU or the file is corrupted. [astropy.io.fits.hdu.hdulist]\n"
     ]
    },
    {
     "data": {
      "text/plain": [
       "0"
      ]
     },
     "execution_count": 84,
     "metadata": {},
     "output_type": "execute_result"
    },
    {
     "name": "stdout",
     "output_type": "stream",
     "text": [
      "7.35\n",
      "u,g,r,i,z,Y\n",
      "27.0721,23.8161,19.8464,18.2660,17.0171,16.6307\n"
     ]
    },
    {
     "name": "stderr",
     "output_type": "stream",
     "text": [
      "WARNING: VerifyWarning: Error validating header for HDU #0 (note: Astropy uses zero-based indexing).\n",
      "    Header size is not multiple of 2880: 5883425\n",
      "There may be extra bytes after the last HDU or the file is corrupted. [astropy.io.fits.hdu.hdulist]\n"
     ]
    },
    {
     "data": {
      "text/plain": [
       "0"
      ]
     },
     "execution_count": 84,
     "metadata": {},
     "output_type": "execute_result"
    },
    {
     "name": "stdout",
     "output_type": "stream",
     "text": [
      "7.4500003\n",
      "u,g,r,i,z,Y\n",
      "27.8814,23.6282,20.0281,18.3359,17.0920,16.7029\n"
     ]
    },
    {
     "name": "stderr",
     "output_type": "stream",
     "text": [
      "WARNING: VerifyWarning: Error validating header for HDU #0 (note: Astropy uses zero-based indexing).\n",
      "    Header size is not multiple of 2880: 5687411\n",
      "There may be extra bytes after the last HDU or the file is corrupted. [astropy.io.fits.hdu.hdulist]\n"
     ]
    },
    {
     "data": {
      "text/plain": [
       "0"
      ]
     },
     "execution_count": 84,
     "metadata": {},
     "output_type": "execute_result"
    },
    {
     "name": "stdout",
     "output_type": "stream",
     "text": [
      "7.5499997\n",
      "u,g,r,i,z,Y\n",
      "33.0819,23.8005,19.9948,18.4282,17.1377,16.7291\n"
     ]
    },
    {
     "name": "stderr",
     "output_type": "stream",
     "text": [
      "WARNING: VerifyWarning: Error validating header for HDU #0 (note: Astropy uses zero-based indexing).\n",
      "    Header size is not multiple of 2880: 5770739\n",
      "There may be extra bytes after the last HDU or the file is corrupted. [astropy.io.fits.hdu.hdulist]\n"
     ]
    },
    {
     "data": {
      "text/plain": [
       "0"
      ]
     },
     "execution_count": 84,
     "metadata": {},
     "output_type": "execute_result"
    },
    {
     "name": "stdout",
     "output_type": "stream",
     "text": [
      "7.65\n",
      "u,g,r,i,z,Y\n",
      "25.9540,23.5173,20.0667,18.4377,17.2082,16.7771\n"
     ]
    },
    {
     "name": "stderr",
     "output_type": "stream",
     "text": [
      "WARNING: VerifyWarning: Error validating header for HDU #0 (note: Astropy uses zero-based indexing).\n",
      "    Header size is not multiple of 2880: 5805322\n",
      "There may be extra bytes after the last HDU or the file is corrupted. [astropy.io.fits.hdu.hdulist]\n"
     ]
    },
    {
     "data": {
      "text/plain": [
       "0"
      ]
     },
     "execution_count": 84,
     "metadata": {},
     "output_type": "execute_result"
    },
    {
     "name": "stdout",
     "output_type": "stream",
     "text": [
      "7.75\n",
      "u,g,r,i,z,Y\n",
      "38.4917,23.5759,20.1584,18.4388,17.2341,16.8009\n"
     ]
    },
    {
     "name": "stderr",
     "output_type": "stream",
     "text": [
      "WARNING: VerifyWarning: Error validating header for HDU #0 (note: Astropy uses zero-based indexing).\n",
      "    Header size is not multiple of 2880: 5756193\n",
      "There may be extra bytes after the last HDU or the file is corrupted. [astropy.io.fits.hdu.hdulist]\n"
     ]
    },
    {
     "data": {
      "text/plain": [
       "0"
      ]
     },
     "execution_count": 84,
     "metadata": {},
     "output_type": "execute_result"
    },
    {
     "name": "stdout",
     "output_type": "stream",
     "text": [
      "7.85\n",
      "u,g,r,i,z,Y\n",
      "25.7552,23.8607,20.0651,18.4626,17.1871,16.8275\n"
     ]
    },
    {
     "name": "stderr",
     "output_type": "stream",
     "text": [
      "WARNING: VerifyWarning: Error validating header for HDU #0 (note: Astropy uses zero-based indexing).\n",
      "    Header size is not multiple of 2880: 5641705\n",
      "There may be extra bytes after the last HDU or the file is corrupted. [astropy.io.fits.hdu.hdulist]\n"
     ]
    },
    {
     "data": {
      "text/plain": [
       "0"
      ]
     },
     "execution_count": 84,
     "metadata": {},
     "output_type": "execute_result"
    },
    {
     "name": "stdout",
     "output_type": "stream",
     "text": [
      "7.9500003\n",
      "u,g,r,i,z,Y\n",
      "26.2344,24.2640,20.1102,18.4610,17.2134,16.8606\n"
     ]
    },
    {
     "name": "stderr",
     "output_type": "stream",
     "text": [
      "WARNING: VerifyWarning: Error validating header for HDU #0 (note: Astropy uses zero-based indexing).\n",
      "    Header size is not multiple of 2880: 5776484\n",
      "There may be extra bytes after the last HDU or the file is corrupted. [astropy.io.fits.hdu.hdulist]\n"
     ]
    },
    {
     "data": {
      "text/plain": [
       "0"
      ]
     },
     "execution_count": 84,
     "metadata": {},
     "output_type": "execute_result"
    },
    {
     "name": "stdout",
     "output_type": "stream",
     "text": [
      "8.05\n",
      "u,g,r,i,z,Y\n",
      "27.3572,24.2961,20.2387,18.5412,17.2511,16.8638\n"
     ]
    },
    {
     "name": "stderr",
     "output_type": "stream",
     "text": [
      "WARNING: VerifyWarning: Error validating header for HDU #0 (note: Astropy uses zero-based indexing).\n",
      "    Header size is not multiple of 2880: 5639780\n",
      "There may be extra bytes after the last HDU or the file is corrupted. [astropy.io.fits.hdu.hdulist]\n"
     ]
    },
    {
     "data": {
      "text/plain": [
       "0"
      ]
     },
     "execution_count": 84,
     "metadata": {},
     "output_type": "execute_result"
    },
    {
     "name": "stdout",
     "output_type": "stream",
     "text": [
      "8.150001\n",
      "u,g,r,i,z,Y\n",
      "-9999.0000,24.2310,20.2575,18.5748,17.3028,16.9160\n"
     ]
    },
    {
     "name": "stderr",
     "output_type": "stream",
     "text": [
      "WARNING: VerifyWarning: Error validating header for HDU #0 (note: Astropy uses zero-based indexing).\n",
      "    Header size is not multiple of 2880: 5711932\n",
      "There may be extra bytes after the last HDU or the file is corrupted. [astropy.io.fits.hdu.hdulist]\n"
     ]
    },
    {
     "data": {
      "text/plain": [
       "0"
      ]
     },
     "execution_count": 84,
     "metadata": {},
     "output_type": "execute_result"
    },
    {
     "name": "stdout",
     "output_type": "stream",
     "text": [
      "8.25\n",
      "u,g,r,i,z,Y\n",
      "25.8261,24.2325,20.3645,18.6488,17.3645,16.9658\n"
     ]
    },
    {
     "name": "stderr",
     "output_type": "stream",
     "text": [
      "WARNING: VerifyWarning: Error validating header for HDU #0 (note: Astropy uses zero-based indexing).\n",
      "    Header size is not multiple of 2880: 5641857\n",
      "There may be extra bytes after the last HDU or the file is corrupted. [astropy.io.fits.hdu.hdulist]\n"
     ]
    },
    {
     "data": {
      "text/plain": [
       "0"
      ]
     },
     "execution_count": 84,
     "metadata": {},
     "output_type": "execute_result"
    },
    {
     "name": "stdout",
     "output_type": "stream",
     "text": [
      "8.349999\n",
      "u,g,r,i,z,Y\n",
      "-9999.0000,24.4483,20.3992,18.6786,17.4369,17.0140\n"
     ]
    },
    {
     "name": "stderr",
     "output_type": "stream",
     "text": [
      "WARNING: VerifyWarning: Error validating header for HDU #0 (note: Astropy uses zero-based indexing).\n",
      "    Header size is not multiple of 2880: 5752260\n",
      "There may be extra bytes after the last HDU or the file is corrupted. [astropy.io.fits.hdu.hdulist]\n"
     ]
    },
    {
     "data": {
      "text/plain": [
       "0"
      ]
     },
     "execution_count": 84,
     "metadata": {},
     "output_type": "execute_result"
    },
    {
     "name": "stdout",
     "output_type": "stream",
     "text": [
      "8.45\n",
      "u,g,r,i,z,Y\n",
      "-9999.0000,24.4667,20.3940,18.7916,17.4514,17.0201\n"
     ]
    },
    {
     "name": "stderr",
     "output_type": "stream",
     "text": [
      "WARNING: VerifyWarning: Error validating header for HDU #0 (note: Astropy uses zero-based indexing).\n",
      "    Header size is not multiple of 2880: 5618229\n",
      "There may be extra bytes after the last HDU or the file is corrupted. [astropy.io.fits.hdu.hdulist]\n"
     ]
    },
    {
     "data": {
      "text/plain": [
       "0"
      ]
     },
     "execution_count": 84,
     "metadata": {},
     "output_type": "execute_result"
    },
    {
     "name": "stdout",
     "output_type": "stream",
     "text": [
      "8.55\n",
      "u,g,r,i,z,Y\n",
      "26.4588,24.6476,20.4792,18.7285,17.4877,17.0481\n"
     ]
    },
    {
     "name": "stderr",
     "output_type": "stream",
     "text": [
      "WARNING: VerifyWarning: Error validating header for HDU #0 (note: Astropy uses zero-based indexing).\n",
      "    Header size is not multiple of 2880: 5698451\n",
      "There may be extra bytes after the last HDU or the file is corrupted. [astropy.io.fits.hdu.hdulist]\n"
     ]
    },
    {
     "data": {
      "text/plain": [
       "0"
      ]
     },
     "execution_count": 84,
     "metadata": {},
     "output_type": "execute_result"
    },
    {
     "name": "stdout",
     "output_type": "stream",
     "text": [
      "8.650001\n",
      "u,g,r,i,z,Y\n",
      "-9999.0000,24.3747,20.5461,18.8354,17.4615,17.0566\n"
     ]
    },
    {
     "name": "stderr",
     "output_type": "stream",
     "text": [
      "WARNING: VerifyWarning: Error validating header for HDU #0 (note: Astropy uses zero-based indexing).\n",
      "    Header size is not multiple of 2880: 5692797\n",
      "There may be extra bytes after the last HDU or the file is corrupted. [astropy.io.fits.hdu.hdulist]\n"
     ]
    },
    {
     "data": {
      "text/plain": [
       "0"
      ]
     },
     "execution_count": 84,
     "metadata": {},
     "output_type": "execute_result"
    },
    {
     "name": "stdout",
     "output_type": "stream",
     "text": [
      "8.75\n",
      "u,g,r,i,z,Y\n",
      "29.7359,24.3723,20.4434,18.7650,17.5161,17.1371\n"
     ]
    },
    {
     "name": "stderr",
     "output_type": "stream",
     "text": [
      "WARNING: VerifyWarning: Error validating header for HDU #0 (note: Astropy uses zero-based indexing).\n",
      "    Header size is not multiple of 2880: 5725100\n",
      "There may be extra bytes after the last HDU or the file is corrupted. [astropy.io.fits.hdu.hdulist]\n"
     ]
    },
    {
     "data": {
      "text/plain": [
       "0"
      ]
     },
     "execution_count": 84,
     "metadata": {},
     "output_type": "execute_result"
    },
    {
     "name": "stdout",
     "output_type": "stream",
     "text": [
      "8.849999\n",
      "u,g,r,i,z,Y\n",
      "-9999.0000,24.4467,20.6231,18.8558,17.5142,17.1180\n"
     ]
    },
    {
     "name": "stderr",
     "output_type": "stream",
     "text": [
      "WARNING: VerifyWarning: Error validating header for HDU #0 (note: Astropy uses zero-based indexing).\n",
      "    Header size is not multiple of 2880: 5628246\n",
      "There may be extra bytes after the last HDU or the file is corrupted. [astropy.io.fits.hdu.hdulist]\n"
     ]
    },
    {
     "data": {
      "text/plain": [
       "0"
      ]
     },
     "execution_count": 84,
     "metadata": {},
     "output_type": "execute_result"
    },
    {
     "name": "stdout",
     "output_type": "stream",
     "text": [
      "8.95\n",
      "u,g,r,i,z,Y\n",
      "-9999.0000,24.9517,20.6477,18.8296,17.5406,17.1167\n"
     ]
    },
    {
     "name": "stderr",
     "output_type": "stream",
     "text": [
      "WARNING: VerifyWarning: Error validating header for HDU #0 (note: Astropy uses zero-based indexing).\n",
      "    Header size is not multiple of 2880: 5499690\n",
      "There may be extra bytes after the last HDU or the file is corrupted. [astropy.io.fits.hdu.hdulist]\n"
     ]
    },
    {
     "data": {
      "text/plain": [
       "0"
      ]
     },
     "execution_count": 84,
     "metadata": {},
     "output_type": "execute_result"
    },
    {
     "name": "stdout",
     "output_type": "stream",
     "text": [
      "9.05\n",
      "u,g,r,i,z,Y\n",
      "-9999.0000,25.0192,20.7341,18.9544,17.5909,17.1739\n"
     ]
    },
    {
     "name": "stderr",
     "output_type": "stream",
     "text": [
      "WARNING: VerifyWarning: Error validating header for HDU #0 (note: Astropy uses zero-based indexing).\n",
      "    Header size is not multiple of 2880: 5583607\n",
      "There may be extra bytes after the last HDU or the file is corrupted. [astropy.io.fits.hdu.hdulist]\n"
     ]
    },
    {
     "data": {
      "text/plain": [
       "0"
      ]
     },
     "execution_count": 84,
     "metadata": {},
     "output_type": "execute_result"
    },
    {
     "name": "stdout",
     "output_type": "stream",
     "text": [
      "9.150001\n",
      "u,g,r,i,z,Y\n",
      "35.9270,24.5164,20.8509,18.9946,17.6710,17.2227\n"
     ]
    },
    {
     "name": "stderr",
     "output_type": "stream",
     "text": [
      "WARNING: VerifyWarning: Error validating header for HDU #0 (note: Astropy uses zero-based indexing).\n",
      "    Header size is not multiple of 2880: 5560595\n",
      "There may be extra bytes after the last HDU or the file is corrupted. [astropy.io.fits.hdu.hdulist]\n"
     ]
    },
    {
     "data": {
      "text/plain": [
       "0"
      ]
     },
     "execution_count": 84,
     "metadata": {},
     "output_type": "execute_result"
    },
    {
     "name": "stdout",
     "output_type": "stream",
     "text": [
      "9.25\n",
      "u,g,r,i,z,Y\n",
      "26.4386,24.7828,20.7876,19.0244,17.6976,17.2477\n"
     ]
    },
    {
     "name": "stderr",
     "output_type": "stream",
     "text": [
      "WARNING: VerifyWarning: Error validating header for HDU #0 (note: Astropy uses zero-based indexing).\n",
      "    Header size is not multiple of 2880: 5650776\n",
      "There may be extra bytes after the last HDU or the file is corrupted. [astropy.io.fits.hdu.hdulist]\n"
     ]
    },
    {
     "data": {
      "text/plain": [
       "0"
      ]
     },
     "execution_count": 84,
     "metadata": {},
     "output_type": "execute_result"
    },
    {
     "name": "stdout",
     "output_type": "stream",
     "text": [
      "9.349999\n",
      "u,g,r,i,z,Y\n",
      "27.7587,24.6018,20.8523,19.1351,17.7196,17.3096\n"
     ]
    },
    {
     "name": "stderr",
     "output_type": "stream",
     "text": [
      "WARNING: VerifyWarning: Error validating header for HDU #0 (note: Astropy uses zero-based indexing).\n",
      "    Header size is not multiple of 2880: 5619944\n",
      "There may be extra bytes after the last HDU or the file is corrupted. [astropy.io.fits.hdu.hdulist]\n"
     ]
    },
    {
     "data": {
      "text/plain": [
       "0"
      ]
     },
     "execution_count": 84,
     "metadata": {},
     "output_type": "execute_result"
    },
    {
     "name": "stdout",
     "output_type": "stream",
     "text": [
      "9.45\n",
      "u,g,r,i,z,Y\n",
      "-9999.0000,25.0134,20.8039,19.0526,17.7698,17.3137\n"
     ]
    },
    {
     "name": "stderr",
     "output_type": "stream",
     "text": [
      "WARNING: VerifyWarning: Error validating header for HDU #0 (note: Astropy uses zero-based indexing).\n",
      "    Header size is not multiple of 2880: 5514423\n",
      "There may be extra bytes after the last HDU or the file is corrupted. [astropy.io.fits.hdu.hdulist]\n"
     ]
    },
    {
     "data": {
      "text/plain": [
       "0"
      ]
     },
     "execution_count": 84,
     "metadata": {},
     "output_type": "execute_result"
    },
    {
     "name": "stdout",
     "output_type": "stream",
     "text": [
      "9.55\n",
      "u,g,r,i,z,Y\n",
      "26.3969,24.6250,20.9282,19.0708,17.8022,17.3715\n"
     ]
    },
    {
     "name": "stderr",
     "output_type": "stream",
     "text": [
      "WARNING: VerifyWarning: Error validating header for HDU #0 (note: Astropy uses zero-based indexing).\n",
      "    Header size is not multiple of 2880: 5552905\n",
      "There may be extra bytes after the last HDU or the file is corrupted. [astropy.io.fits.hdu.hdulist]\n"
     ]
    },
    {
     "data": {
      "text/plain": [
       "0"
      ]
     },
     "execution_count": 84,
     "metadata": {},
     "output_type": "execute_result"
    },
    {
     "name": "stdout",
     "output_type": "stream",
     "text": [
      "9.650001\n",
      "u,g,r,i,z,Y\n",
      "-9999.0000,25.2679,20.8190,19.1272,17.8207,17.4088\n"
     ]
    },
    {
     "name": "stderr",
     "output_type": "stream",
     "text": [
      "WARNING: VerifyWarning: Error validating header for HDU #0 (note: Astropy uses zero-based indexing).\n",
      "    Header size is not multiple of 2880: 5574495\n",
      "There may be extra bytes after the last HDU or the file is corrupted. [astropy.io.fits.hdu.hdulist]\n"
     ]
    },
    {
     "data": {
      "text/plain": [
       "0"
      ]
     },
     "execution_count": 84,
     "metadata": {},
     "output_type": "execute_result"
    },
    {
     "name": "stdout",
     "output_type": "stream",
     "text": [
      "9.75\n",
      "u,g,r,i,z,Y\n",
      "33.7749,24.9572,20.9173,19.1228,17.8165,17.4171\n"
     ]
    },
    {
     "name": "stderr",
     "output_type": "stream",
     "text": [
      "WARNING: VerifyWarning: Error validating header for HDU #0 (note: Astropy uses zero-based indexing).\n",
      "    Header size is not multiple of 2880: 5357898\n",
      "There may be extra bytes after the last HDU or the file is corrupted. [astropy.io.fits.hdu.hdulist]\n"
     ]
    },
    {
     "data": {
      "text/plain": [
       "0"
      ]
     },
     "execution_count": 84,
     "metadata": {},
     "output_type": "execute_result"
    },
    {
     "name": "stdout",
     "output_type": "stream",
     "text": [
      "9.849999\n",
      "u,g,r,i,z,Y\n",
      "-9999.0000,24.7777,21.1294,19.1505,17.8601,17.4435\n"
     ]
    },
    {
     "name": "stderr",
     "output_type": "stream",
     "text": [
      "WARNING: VerifyWarning: Error validating header for HDU #0 (note: Astropy uses zero-based indexing).\n",
      "    Header size is not multiple of 2880: 5441523\n",
      "There may be extra bytes after the last HDU or the file is corrupted. [astropy.io.fits.hdu.hdulist]\n"
     ]
    },
    {
     "data": {
      "text/plain": [
       "0"
      ]
     },
     "execution_count": 84,
     "metadata": {},
     "output_type": "execute_result"
    },
    {
     "name": "stdout",
     "output_type": "stream",
     "text": [
      "9.95\n",
      "u,g,r,i,z,Y\n",
      "29.3779,24.8270,21.0736,19.1800,17.8781,17.4768\n"
     ]
    },
    {
     "name": "stderr",
     "output_type": "stream",
     "text": [
      "WARNING: VerifyWarning: Error validating header for HDU #0 (note: Astropy uses zero-based indexing).\n",
      "    Header size is not multiple of 2880: 5510514\n",
      "There may be extra bytes after the last HDU or the file is corrupted. [astropy.io.fits.hdu.hdulist]\n"
     ]
    },
    {
     "data": {
      "text/plain": [
       "0"
      ]
     },
     "execution_count": 84,
     "metadata": {},
     "output_type": "execute_result"
    },
    {
     "name": "stdout",
     "output_type": "stream",
     "text": [
      "10.05\n",
      "u,g,r,i,z,Y\n",
      "26.0970,25.2489,21.1719,19.2816,17.9641,17.5295\n"
     ]
    },
    {
     "name": "stderr",
     "output_type": "stream",
     "text": [
      "WARNING: VerifyWarning: Error validating header for HDU #0 (note: Astropy uses zero-based indexing).\n",
      "    Header size is not multiple of 2880: 5548127\n",
      "There may be extra bytes after the last HDU or the file is corrupted. [astropy.io.fits.hdu.hdulist]\n"
     ]
    },
    {
     "data": {
      "text/plain": [
       "0"
      ]
     },
     "execution_count": 84,
     "metadata": {},
     "output_type": "execute_result"
    },
    {
     "name": "stdout",
     "output_type": "stream",
     "text": [
      "10.150001\n",
      "u,g,r,i,z,Y\n",
      "-9999.0000,25.4921,21.2171,19.3349,17.9453,17.5052\n"
     ]
    },
    {
     "name": "stderr",
     "output_type": "stream",
     "text": [
      "WARNING: VerifyWarning: Error validating header for HDU #0 (note: Astropy uses zero-based indexing).\n",
      "    Header size is not multiple of 2880: 5564351\n",
      "There may be extra bytes after the last HDU or the file is corrupted. [astropy.io.fits.hdu.hdulist]\n"
     ]
    },
    {
     "data": {
      "text/plain": [
       "0"
      ]
     },
     "execution_count": 84,
     "metadata": {},
     "output_type": "execute_result"
    },
    {
     "name": "stdout",
     "output_type": "stream",
     "text": [
      "10.25\n",
      "u,g,r,i,z,Y\n",
      "-9999.0000,25.9552,21.2829,19.4219,18.0332,17.5829\n"
     ]
    },
    {
     "name": "stderr",
     "output_type": "stream",
     "text": [
      "WARNING: VerifyWarning: Error validating header for HDU #0 (note: Astropy uses zero-based indexing).\n",
      "    Header size is not multiple of 2880: 5535788\n",
      "There may be extra bytes after the last HDU or the file is corrupted. [astropy.io.fits.hdu.hdulist]\n"
     ]
    },
    {
     "data": {
      "text/plain": [
       "0"
      ]
     },
     "execution_count": 84,
     "metadata": {},
     "output_type": "execute_result"
    },
    {
     "name": "stdout",
     "output_type": "stream",
     "text": [
      "10.349999\n",
      "u,g,r,i,z,Y\n",
      "-9999.0000,24.5734,21.1749,19.3600,18.0520,17.6152\n"
     ]
    },
    {
     "name": "stderr",
     "output_type": "stream",
     "text": [
      "WARNING: VerifyWarning: Error validating header for HDU #0 (note: Astropy uses zero-based indexing).\n",
      "    Header size is not multiple of 2880: 5449385\n",
      "There may be extra bytes after the last HDU or the file is corrupted. [astropy.io.fits.hdu.hdulist]\n"
     ]
    },
    {
     "data": {
      "text/plain": [
       "0"
      ]
     },
     "execution_count": 84,
     "metadata": {},
     "output_type": "execute_result"
    },
    {
     "name": "stdout",
     "output_type": "stream",
     "text": [
      "10.45\n",
      "u,g,r,i,z,Y\n",
      "-9999.0000,25.5742,21.1892,19.4083,18.0869,17.6441\n"
     ]
    },
    {
     "name": "stderr",
     "output_type": "stream",
     "text": [
      "WARNING: VerifyWarning: Error validating header for HDU #0 (note: Astropy uses zero-based indexing).\n",
      "    Header size is not multiple of 2880: 5492340\n",
      "There may be extra bytes after the last HDU or the file is corrupted. [astropy.io.fits.hdu.hdulist]\n"
     ]
    },
    {
     "data": {
      "text/plain": [
       "0"
      ]
     },
     "execution_count": 84,
     "metadata": {},
     "output_type": "execute_result"
    },
    {
     "name": "stdout",
     "output_type": "stream",
     "text": [
      "10.55\n",
      "u,g,r,i,z,Y\n",
      "-9999.0000,27.1253,21.4614,19.4301,18.1550,17.6967\n"
     ]
    },
    {
     "name": "stderr",
     "output_type": "stream",
     "text": [
      "WARNING: VerifyWarning: Error validating header for HDU #0 (note: Astropy uses zero-based indexing).\n",
      "    Header size is not multiple of 2880: 5235572\n",
      "There may be extra bytes after the last HDU or the file is corrupted. [astropy.io.fits.hdu.hdulist]\n"
     ]
    },
    {
     "data": {
      "text/plain": [
       "0"
      ]
     },
     "execution_count": 84,
     "metadata": {},
     "output_type": "execute_result"
    },
    {
     "name": "stdout",
     "output_type": "stream",
     "text": [
      "10.650001\n",
      "u,g,r,i,z,Y\n",
      "-9999.0000,24.9910,21.3083,19.4894,18.1968,17.7705\n"
     ]
    },
    {
     "name": "stderr",
     "output_type": "stream",
     "text": [
      "WARNING: VerifyWarning: Error validating header for HDU #0 (note: Astropy uses zero-based indexing).\n",
      "    Header size is not multiple of 2880: 5536610\n",
      "There may be extra bytes after the last HDU or the file is corrupted. [astropy.io.fits.hdu.hdulist]\n"
     ]
    },
    {
     "data": {
      "text/plain": [
       "0"
      ]
     },
     "execution_count": 84,
     "metadata": {},
     "output_type": "execute_result"
    },
    {
     "name": "stdout",
     "output_type": "stream",
     "text": [
      "10.75\n",
      "u,g,r,i,z,Y\n",
      "-9999.0000,25.7605,21.4817,19.4043,18.1580,17.7366\n"
     ]
    },
    {
     "name": "stderr",
     "output_type": "stream",
     "text": [
      "WARNING: VerifyWarning: Error validating header for HDU #0 (note: Astropy uses zero-based indexing).\n",
      "    Header size is not multiple of 2880: 5480056\n",
      "There may be extra bytes after the last HDU or the file is corrupted. [astropy.io.fits.hdu.hdulist]\n"
     ]
    },
    {
     "data": {
      "text/plain": [
       "0"
      ]
     },
     "execution_count": 84,
     "metadata": {},
     "output_type": "execute_result"
    },
    {
     "name": "stdout",
     "output_type": "stream",
     "text": [
      "10.849999\n",
      "u,g,r,i,z,Y\n",
      "33.2822,25.4970,21.4907,19.5720,18.2332,17.7827\n"
     ]
    },
    {
     "name": "stderr",
     "output_type": "stream",
     "text": [
      "WARNING: VerifyWarning: Error validating header for HDU #0 (note: Astropy uses zero-based indexing).\n",
      "    Header size is not multiple of 2880: 5460909\n",
      "There may be extra bytes after the last HDU or the file is corrupted. [astropy.io.fits.hdu.hdulist]\n"
     ]
    },
    {
     "data": {
      "text/plain": [
       "0"
      ]
     },
     "execution_count": 84,
     "metadata": {},
     "output_type": "execute_result"
    },
    {
     "name": "stdout",
     "output_type": "stream",
     "text": [
      "10.95\n",
      "u,g,r,i,z,Y\n",
      "26.8415,26.3015,21.4267,19.5095,18.2557,17.8352\n"
     ]
    },
    {
     "name": "stderr",
     "output_type": "stream",
     "text": [
      "WARNING: VerifyWarning: Error validating header for HDU #0 (note: Astropy uses zero-based indexing).\n",
      "    Header size is not multiple of 2880: 5271302\n",
      "There may be extra bytes after the last HDU or the file is corrupted. [astropy.io.fits.hdu.hdulist]\n"
     ]
    },
    {
     "data": {
      "text/plain": [
       "0"
      ]
     },
     "execution_count": 84,
     "metadata": {},
     "output_type": "execute_result"
    },
    {
     "name": "stdout",
     "output_type": "stream",
     "text": [
      "11.05\n",
      "u,g,r,i,z,Y\n",
      "-9999.0000,25.8146,21.6154,19.6233,18.3011,17.8671\n"
     ]
    },
    {
     "name": "stderr",
     "output_type": "stream",
     "text": [
      "WARNING: VerifyWarning: Error validating header for HDU #0 (note: Astropy uses zero-based indexing).\n",
      "    Header size is not multiple of 2880: 5369229\n",
      "There may be extra bytes after the last HDU or the file is corrupted. [astropy.io.fits.hdu.hdulist]\n"
     ]
    },
    {
     "data": {
      "text/plain": [
       "0"
      ]
     },
     "execution_count": 84,
     "metadata": {},
     "output_type": "execute_result"
    },
    {
     "name": "stdout",
     "output_type": "stream",
     "text": [
      "11.150001\n",
      "u,g,r,i,z,Y\n",
      "-9999.0000,25.9644,21.7253,19.6656,18.3542,17.9010\n"
     ]
    },
    {
     "name": "stderr",
     "output_type": "stream",
     "text": [
      "WARNING: VerifyWarning: Error validating header for HDU #0 (note: Astropy uses zero-based indexing).\n",
      "    Header size is not multiple of 2880: 5223139\n",
      "There may be extra bytes after the last HDU or the file is corrupted. [astropy.io.fits.hdu.hdulist]\n"
     ]
    },
    {
     "data": {
      "text/plain": [
       "0"
      ]
     },
     "execution_count": 84,
     "metadata": {},
     "output_type": "execute_result"
    },
    {
     "name": "stdout",
     "output_type": "stream",
     "text": [
      "11.25\n",
      "u,g,r,i,z,Y\n",
      "-9999.0000,25.6486,21.5273,19.6820,18.3378,17.9173\n"
     ]
    },
    {
     "name": "stderr",
     "output_type": "stream",
     "text": [
      "WARNING: VerifyWarning: Error validating header for HDU #0 (note: Astropy uses zero-based indexing).\n",
      "    Header size is not multiple of 2880: 5324263\n",
      "There may be extra bytes after the last HDU or the file is corrupted. [astropy.io.fits.hdu.hdulist]\n"
     ]
    },
    {
     "data": {
      "text/plain": [
       "0"
      ]
     },
     "execution_count": 84,
     "metadata": {},
     "output_type": "execute_result"
    },
    {
     "name": "stdout",
     "output_type": "stream",
     "text": [
      "11.349999\n",
      "u,g,r,i,z,Y\n",
      "-9999.0000,25.7249,21.6444,19.7225,18.3828,17.9736\n"
     ]
    },
    {
     "name": "stderr",
     "output_type": "stream",
     "text": [
      "WARNING: VerifyWarning: Error validating header for HDU #0 (note: Astropy uses zero-based indexing).\n",
      "    Header size is not multiple of 2880: 5381895\n",
      "There may be extra bytes after the last HDU or the file is corrupted. [astropy.io.fits.hdu.hdulist]\n"
     ]
    },
    {
     "data": {
      "text/plain": [
       "0"
      ]
     },
     "execution_count": 84,
     "metadata": {},
     "output_type": "execute_result"
    },
    {
     "name": "stdout",
     "output_type": "stream",
     "text": [
      "11.45\n",
      "u,g,r,i,z,Y\n",
      "-9999.0000,27.0249,21.7282,19.6784,18.4448,18.0609\n"
     ]
    },
    {
     "name": "stderr",
     "output_type": "stream",
     "text": [
      "WARNING: VerifyWarning: Error validating header for HDU #0 (note: Astropy uses zero-based indexing).\n",
      "    Header size is not multiple of 2880: 5264456\n",
      "There may be extra bytes after the last HDU or the file is corrupted. [astropy.io.fits.hdu.hdulist]\n"
     ]
    },
    {
     "data": {
      "text/plain": [
       "0"
      ]
     },
     "execution_count": 84,
     "metadata": {},
     "output_type": "execute_result"
    },
    {
     "name": "stdout",
     "output_type": "stream",
     "text": [
      "11.55\n",
      "u,g,r,i,z,Y\n",
      "-9999.0000,25.7673,21.7019,19.8088,18.4868,18.0570\n"
     ]
    },
    {
     "name": "stderr",
     "output_type": "stream",
     "text": [
      "WARNING: VerifyWarning: Error validating header for HDU #0 (note: Astropy uses zero-based indexing).\n",
      "    Header size is not multiple of 2880: 5366917\n",
      "There may be extra bytes after the last HDU or the file is corrupted. [astropy.io.fits.hdu.hdulist]\n"
     ]
    },
    {
     "data": {
      "text/plain": [
       "0"
      ]
     },
     "execution_count": 84,
     "metadata": {},
     "output_type": "execute_result"
    },
    {
     "name": "stdout",
     "output_type": "stream",
     "text": [
      "11.650001\n",
      "u,g,r,i,z,Y\n",
      "-9999.0000,26.5535,21.8319,19.7840,18.5213,18.0644\n"
     ]
    },
    {
     "name": "stderr",
     "output_type": "stream",
     "text": [
      "WARNING: VerifyWarning: Error validating header for HDU #0 (note: Astropy uses zero-based indexing).\n",
      "    Header size is not multiple of 2880: 5429693\n",
      "There may be extra bytes after the last HDU or the file is corrupted. [astropy.io.fits.hdu.hdulist]\n"
     ]
    },
    {
     "data": {
      "text/plain": [
       "0"
      ]
     },
     "execution_count": 84,
     "metadata": {},
     "output_type": "execute_result"
    },
    {
     "name": "stdout",
     "output_type": "stream",
     "text": [
      "11.75\n",
      "u,g,r,i,z,Y\n",
      "32.0857,25.9337,21.8670,19.8117,18.5230,18.1746\n"
     ]
    },
    {
     "name": "stderr",
     "output_type": "stream",
     "text": [
      "WARNING: VerifyWarning: Error validating header for HDU #0 (note: Astropy uses zero-based indexing).\n",
      "    Header size is not multiple of 2880: 5393225\n",
      "There may be extra bytes after the last HDU or the file is corrupted. [astropy.io.fits.hdu.hdulist]\n"
     ]
    },
    {
     "data": {
      "text/plain": [
       "0"
      ]
     },
     "execution_count": 84,
     "metadata": {},
     "output_type": "execute_result"
    },
    {
     "name": "stdout",
     "output_type": "stream",
     "text": [
      "11.849999\n",
      "u,g,r,i,z,Y\n",
      "32.4128,25.9110,21.8475,19.9371,18.5534,18.1130\n"
     ]
    },
    {
     "name": "stderr",
     "output_type": "stream",
     "text": [
      "WARNING: VerifyWarning: Error validating header for HDU #0 (note: Astropy uses zero-based indexing).\n",
      "    Header size is not multiple of 2880: 5388930\n",
      "There may be extra bytes after the last HDU or the file is corrupted. [astropy.io.fits.hdu.hdulist]\n"
     ]
    },
    {
     "data": {
      "text/plain": [
       "0"
      ]
     },
     "execution_count": 84,
     "metadata": {},
     "output_type": "execute_result"
    },
    {
     "name": "stdout",
     "output_type": "stream",
     "text": [
      "11.95\n",
      "u,g,r,i,z,Y\n",
      "-9999.0000,27.0609,21.7445,19.9419,18.5955,18.2011\n"
     ]
    },
    {
     "name": "stderr",
     "output_type": "stream",
     "text": [
      "WARNING: VerifyWarning: Error validating header for HDU #0 (note: Astropy uses zero-based indexing).\n",
      "    Header size is not multiple of 2880: 5153413\n",
      "There may be extra bytes after the last HDU or the file is corrupted. [astropy.io.fits.hdu.hdulist]\n"
     ]
    },
    {
     "data": {
      "text/plain": [
       "0"
      ]
     },
     "execution_count": 84,
     "metadata": {},
     "output_type": "execute_result"
    },
    {
     "name": "stdout",
     "output_type": "stream",
     "text": [
      "12.05\n",
      "u,g,r,i,z,Y\n",
      "-9999.0000,33.0306,21.9886,20.0078,18.6526,18.2649\n"
     ]
    },
    {
     "name": "stderr",
     "output_type": "stream",
     "text": [
      "WARNING: VerifyWarning: Error validating header for HDU #0 (note: Astropy uses zero-based indexing).\n",
      "    Header size is not multiple of 2880: 5381459\n",
      "There may be extra bytes after the last HDU or the file is corrupted. [astropy.io.fits.hdu.hdulist]\n"
     ]
    },
    {
     "data": {
      "text/plain": [
       "0"
      ]
     },
     "execution_count": 84,
     "metadata": {},
     "output_type": "execute_result"
    },
    {
     "name": "stdout",
     "output_type": "stream",
     "text": [
      "12.150001\n",
      "u,g,r,i,z,Y\n",
      "-9999.0000,27.2279,21.9889,19.9408,18.6297,18.2403\n"
     ]
    },
    {
     "name": "stderr",
     "output_type": "stream",
     "text": [
      "WARNING: VerifyWarning: Error validating header for HDU #0 (note: Astropy uses zero-based indexing).\n",
      "    Header size is not multiple of 2880: 5246883\n",
      "There may be extra bytes after the last HDU or the file is corrupted. [astropy.io.fits.hdu.hdulist]\n"
     ]
    },
    {
     "data": {
      "text/plain": [
       "0"
      ]
     },
     "execution_count": 84,
     "metadata": {},
     "output_type": "execute_result"
    },
    {
     "name": "stdout",
     "output_type": "stream",
     "text": [
      "12.25\n",
      "u,g,r,i,z,Y\n",
      "-9999.0000,26.4610,22.0521,20.0450,18.7031,18.3227\n"
     ]
    },
    {
     "name": "stderr",
     "output_type": "stream",
     "text": [
      "WARNING: VerifyWarning: Error validating header for HDU #0 (note: Astropy uses zero-based indexing).\n",
      "    Header size is not multiple of 2880: 5191304\n",
      "There may be extra bytes after the last HDU or the file is corrupted. [astropy.io.fits.hdu.hdulist]\n"
     ]
    },
    {
     "data": {
      "text/plain": [
       "0"
      ]
     },
     "execution_count": 84,
     "metadata": {},
     "output_type": "execute_result"
    },
    {
     "name": "stdout",
     "output_type": "stream",
     "text": [
      "12.349999\n",
      "u,g,r,i,z,Y\n",
      "-9999.0000,26.0601,22.0933,20.0691,18.7167,18.3064\n"
     ]
    },
    {
     "name": "stderr",
     "output_type": "stream",
     "text": [
      "WARNING: VerifyWarning: Error validating header for HDU #0 (note: Astropy uses zero-based indexing).\n",
      "    Header size is not multiple of 2880: 5207975\n",
      "There may be extra bytes after the last HDU or the file is corrupted. [astropy.io.fits.hdu.hdulist]\n"
     ]
    },
    {
     "data": {
      "text/plain": [
       "0"
      ]
     },
     "execution_count": 84,
     "metadata": {},
     "output_type": "execute_result"
    },
    {
     "name": "stdout",
     "output_type": "stream",
     "text": [
      "12.45\n",
      "u,g,r,i,z,Y\n",
      "-9999.0000,26.3675,22.0079,20.0796,18.7531,18.3532\n"
     ]
    },
    {
     "name": "stderr",
     "output_type": "stream",
     "text": [
      "WARNING: VerifyWarning: Error validating header for HDU #0 (note: Astropy uses zero-based indexing).\n",
      "    Header size is not multiple of 2880: 5336917\n",
      "There may be extra bytes after the last HDU or the file is corrupted. [astropy.io.fits.hdu.hdulist]\n"
     ]
    },
    {
     "data": {
      "text/plain": [
       "0"
      ]
     },
     "execution_count": 84,
     "metadata": {},
     "output_type": "execute_result"
    },
    {
     "name": "stdout",
     "output_type": "stream",
     "text": [
      "12.55\n",
      "u,g,r,i,z,Y\n",
      "-9999.0000,26.3645,22.1297,20.0613,18.7781,18.3864\n"
     ]
    },
    {
     "name": "stderr",
     "output_type": "stream",
     "text": [
      "WARNING: VerifyWarning: Error validating header for HDU #0 (note: Astropy uses zero-based indexing).\n",
      "    Header size is not multiple of 2880: 5142858\n",
      "There may be extra bytes after the last HDU or the file is corrupted. [astropy.io.fits.hdu.hdulist]\n"
     ]
    },
    {
     "data": {
      "text/plain": [
       "0"
      ]
     },
     "execution_count": 84,
     "metadata": {},
     "output_type": "execute_result"
    },
    {
     "name": "stdout",
     "output_type": "stream",
     "text": [
      "12.650001\n",
      "u,g,r,i,z,Y\n",
      "-9999.0000,27.0401,22.1483,20.0957,18.8387,18.4557\n"
     ]
    },
    {
     "name": "stderr",
     "output_type": "stream",
     "text": [
      "WARNING: VerifyWarning: Error validating header for HDU #0 (note: Astropy uses zero-based indexing).\n",
      "    Header size is not multiple of 2880: 5231352\n",
      "There may be extra bytes after the last HDU or the file is corrupted. [astropy.io.fits.hdu.hdulist]\n"
     ]
    },
    {
     "data": {
      "text/plain": [
       "0"
      ]
     },
     "execution_count": 84,
     "metadata": {},
     "output_type": "execute_result"
    },
    {
     "name": "stdout",
     "output_type": "stream",
     "text": [
      "12.75\n",
      "u,g,r,i,z,Y\n",
      "-9999.0000,27.5832,22.2806,20.1451,18.8621,18.4789\n"
     ]
    },
    {
     "name": "stderr",
     "output_type": "stream",
     "text": [
      "WARNING: VerifyWarning: Error validating header for HDU #0 (note: Astropy uses zero-based indexing).\n",
      "    Header size is not multiple of 2880: 5272096\n",
      "There may be extra bytes after the last HDU or the file is corrupted. [astropy.io.fits.hdu.hdulist]\n"
     ]
    },
    {
     "data": {
      "text/plain": [
       "0"
      ]
     },
     "execution_count": 84,
     "metadata": {},
     "output_type": "execute_result"
    },
    {
     "name": "stdout",
     "output_type": "stream",
     "text": [
      "12.849999\n",
      "u,g,r,i,z,Y\n",
      "-9999.0000,28.5470,22.2295,20.1786,18.9008,18.5463\n"
     ]
    },
    {
     "name": "stderr",
     "output_type": "stream",
     "text": [
      "WARNING: VerifyWarning: Error validating header for HDU #0 (note: Astropy uses zero-based indexing).\n",
      "    Header size is not multiple of 2880: 5364167\n",
      "There may be extra bytes after the last HDU or the file is corrupted. [astropy.io.fits.hdu.hdulist]\n"
     ]
    },
    {
     "data": {
      "text/plain": [
       "0"
      ]
     },
     "execution_count": 84,
     "metadata": {},
     "output_type": "execute_result"
    },
    {
     "name": "stdout",
     "output_type": "stream",
     "text": [
      "12.95\n",
      "u,g,r,i,z,Y\n",
      "-9999.0000,27.1011,22.3224,20.3296,18.9193,18.5344\n"
     ]
    },
    {
     "name": "stderr",
     "output_type": "stream",
     "text": [
      "WARNING: VerifyWarning: Error validating header for HDU #0 (note: Astropy uses zero-based indexing).\n",
      "    Header size is not multiple of 2880: 5206252\n",
      "There may be extra bytes after the last HDU or the file is corrupted. [astropy.io.fits.hdu.hdulist]\n"
     ]
    },
    {
     "data": {
      "text/plain": [
       "0"
      ]
     },
     "execution_count": 84,
     "metadata": {},
     "output_type": "execute_result"
    },
    {
     "name": "stdout",
     "output_type": "stream",
     "text": [
      "13.05\n",
      "u,g,r,i,z,Y\n",
      "-9999.0000,26.9095,22.2977,20.3488,18.9674,18.6332\n"
     ]
    },
    {
     "name": "stderr",
     "output_type": "stream",
     "text": [
      "WARNING: VerifyWarning: Error validating header for HDU #0 (note: Astropy uses zero-based indexing).\n",
      "    Header size is not multiple of 2880: 5220961\n",
      "There may be extra bytes after the last HDU or the file is corrupted. [astropy.io.fits.hdu.hdulist]\n"
     ]
    },
    {
     "data": {
      "text/plain": [
       "0"
      ]
     },
     "execution_count": 84,
     "metadata": {},
     "output_type": "execute_result"
    },
    {
     "name": "stdout",
     "output_type": "stream",
     "text": [
      "13.150001\n",
      "u,g,r,i,z,Y\n",
      "-9999.0000,27.5846,22.3882,20.3280,18.9751,18.5769\n"
     ]
    },
    {
     "name": "stderr",
     "output_type": "stream",
     "text": [
      "WARNING: VerifyWarning: Error validating header for HDU #0 (note: Astropy uses zero-based indexing).\n",
      "    Header size is not multiple of 2880: 5470501\n",
      "There may be extra bytes after the last HDU or the file is corrupted. [astropy.io.fits.hdu.hdulist]\n"
     ]
    },
    {
     "data": {
      "text/plain": [
       "0"
      ]
     },
     "execution_count": 84,
     "metadata": {},
     "output_type": "execute_result"
    },
    {
     "name": "stdout",
     "output_type": "stream",
     "text": [
      "13.25\n",
      "u,g,r,i,z,Y\n",
      "-9999.0000,26.2798,22.4270,20.2885,18.9813,18.6332\n"
     ]
    },
    {
     "name": "stderr",
     "output_type": "stream",
     "text": [
      "WARNING: VerifyWarning: Error validating header for HDU #0 (note: Astropy uses zero-based indexing).\n",
      "    Header size is not multiple of 2880: 5389208\n",
      "There may be extra bytes after the last HDU or the file is corrupted. [astropy.io.fits.hdu.hdulist]\n"
     ]
    },
    {
     "data": {
      "text/plain": [
       "0"
      ]
     },
     "execution_count": 84,
     "metadata": {},
     "output_type": "execute_result"
    },
    {
     "name": "stdout",
     "output_type": "stream",
     "text": [
      "13.349999\n",
      "u,g,r,i,z,Y\n",
      "-9999.0000,27.2179,22.3674,20.3567,19.0933,18.6423\n"
     ]
    },
    {
     "name": "stderr",
     "output_type": "stream",
     "text": [
      "WARNING: VerifyWarning: Error validating header for HDU #0 (note: Astropy uses zero-based indexing).\n",
      "    Header size is not multiple of 2880: 5348337\n",
      "There may be extra bytes after the last HDU or the file is corrupted. [astropy.io.fits.hdu.hdulist]\n"
     ]
    },
    {
     "data": {
      "text/plain": [
       "0"
      ]
     },
     "execution_count": 84,
     "metadata": {},
     "output_type": "execute_result"
    },
    {
     "name": "stdout",
     "output_type": "stream",
     "text": [
      "13.45\n",
      "u,g,r,i,z,Y\n",
      "-9999.0000,26.8360,22.5716,20.4565,19.1033,18.7266\n"
     ]
    },
    {
     "name": "stderr",
     "output_type": "stream",
     "text": [
      "WARNING: VerifyWarning: Error validating header for HDU #0 (note: Astropy uses zero-based indexing).\n",
      "    Header size is not multiple of 2880: 5331346\n",
      "There may be extra bytes after the last HDU or the file is corrupted. [astropy.io.fits.hdu.hdulist]\n"
     ]
    },
    {
     "data": {
      "text/plain": [
       "0"
      ]
     },
     "execution_count": 84,
     "metadata": {},
     "output_type": "execute_result"
    },
    {
     "name": "stdout",
     "output_type": "stream",
     "text": [
      "13.55\n",
      "u,g,r,i,z,Y\n",
      "-9999.0000,27.2268,22.4171,20.3709,19.1108,18.7350\n"
     ]
    },
    {
     "name": "stderr",
     "output_type": "stream",
     "text": [
      "WARNING: VerifyWarning: Error validating header for HDU #0 (note: Astropy uses zero-based indexing).\n",
      "    Header size is not multiple of 2880: 5330888\n",
      "There may be extra bytes after the last HDU or the file is corrupted. [astropy.io.fits.hdu.hdulist]\n"
     ]
    },
    {
     "data": {
      "text/plain": [
       "0"
      ]
     },
     "execution_count": 84,
     "metadata": {},
     "output_type": "execute_result"
    },
    {
     "name": "stdout",
     "output_type": "stream",
     "text": [
      "13.650001\n",
      "u,g,r,i,z,Y\n",
      "-9999.0000,27.3248,22.5886,20.3742,19.1172,18.8453\n"
     ]
    },
    {
     "name": "stderr",
     "output_type": "stream",
     "text": [
      "WARNING: VerifyWarning: Error validating header for HDU #0 (note: Astropy uses zero-based indexing).\n",
      "    Header size is not multiple of 2880: 5185699\n",
      "There may be extra bytes after the last HDU or the file is corrupted. [astropy.io.fits.hdu.hdulist]\n"
     ]
    },
    {
     "data": {
      "text/plain": [
       "0"
      ]
     },
     "execution_count": 84,
     "metadata": {},
     "output_type": "execute_result"
    },
    {
     "name": "stdout",
     "output_type": "stream",
     "text": [
      "13.75\n",
      "u,g,r,i,z,Y\n",
      "-9999.0000,28.3600,22.5370,20.5307,19.1562,18.8204\n"
     ]
    },
    {
     "name": "stderr",
     "output_type": "stream",
     "text": [
      "WARNING: VerifyWarning: Error validating header for HDU #0 (note: Astropy uses zero-based indexing).\n",
      "    Header size is not multiple of 2880: 5470521\n",
      "There may be extra bytes after the last HDU or the file is corrupted. [astropy.io.fits.hdu.hdulist]\n"
     ]
    },
    {
     "data": {
      "text/plain": [
       "0"
      ]
     },
     "execution_count": 84,
     "metadata": {},
     "output_type": "execute_result"
    },
    {
     "name": "stdout",
     "output_type": "stream",
     "text": [
      "13.849999\n",
      "u,g,r,i,z,Y\n",
      "-9999.0000,26.9652,22.6023,20.5537,19.1802,18.8756\n"
     ]
    },
    {
     "name": "stderr",
     "output_type": "stream",
     "text": [
      "WARNING: VerifyWarning: Error validating header for HDU #0 (note: Astropy uses zero-based indexing).\n",
      "    Header size is not multiple of 2880: 5340979\n",
      "There may be extra bytes after the last HDU or the file is corrupted. [astropy.io.fits.hdu.hdulist]\n"
     ]
    },
    {
     "data": {
      "text/plain": [
       "0"
      ]
     },
     "execution_count": 84,
     "metadata": {},
     "output_type": "execute_result"
    },
    {
     "name": "stdout",
     "output_type": "stream",
     "text": [
      "13.95\n",
      "u,g,r,i,z,Y\n",
      "-9999.0000,26.8236,22.6653,20.4695,19.2552,18.9328\n"
     ]
    },
    {
     "name": "stderr",
     "output_type": "stream",
     "text": [
      "WARNING: VerifyWarning: Error validating header for HDU #0 (note: Astropy uses zero-based indexing).\n",
      "    Header size is not multiple of 2880: 5243680\n",
      "There may be extra bytes after the last HDU or the file is corrupted. [astropy.io.fits.hdu.hdulist]\n"
     ]
    },
    {
     "data": {
      "text/plain": [
       "0"
      ]
     },
     "execution_count": 84,
     "metadata": {},
     "output_type": "execute_result"
    },
    {
     "name": "stdout",
     "output_type": "stream",
     "text": [
      "14.05\n",
      "u,g,r,i,z,Y\n",
      "-9999.0000,27.5920,22.5669,20.5809,19.2124,18.8914\n"
     ]
    },
    {
     "name": "stderr",
     "output_type": "stream",
     "text": [
      "WARNING: VerifyWarning: Error validating header for HDU #0 (note: Astropy uses zero-based indexing).\n",
      "    Header size is not multiple of 2880: 5432006\n",
      "There may be extra bytes after the last HDU or the file is corrupted. [astropy.io.fits.hdu.hdulist]\n"
     ]
    },
    {
     "data": {
      "text/plain": [
       "0"
      ]
     },
     "execution_count": 84,
     "metadata": {},
     "output_type": "execute_result"
    },
    {
     "name": "stdout",
     "output_type": "stream",
     "text": [
      "14.150001\n",
      "u,g,r,i,z,Y\n",
      "-9999.0000,26.5812,22.8851,20.5872,19.3327,18.9426\n"
     ]
    },
    {
     "name": "stderr",
     "output_type": "stream",
     "text": [
      "WARNING: VerifyWarning: Error validating header for HDU #0 (note: Astropy uses zero-based indexing).\n",
      "    Header size is not multiple of 2880: 5475234\n",
      "There may be extra bytes after the last HDU or the file is corrupted. [astropy.io.fits.hdu.hdulist]\n"
     ]
    },
    {
     "data": {
      "text/plain": [
       "0"
      ]
     },
     "execution_count": 84,
     "metadata": {},
     "output_type": "execute_result"
    },
    {
     "name": "stdout",
     "output_type": "stream",
     "text": [
      "14.25\n",
      "u,g,r,i,z,Y\n",
      "-9999.0000,26.4924,22.6938,20.6785,19.3635,18.9939\n"
     ]
    },
    {
     "name": "stderr",
     "output_type": "stream",
     "text": [
      "WARNING: VerifyWarning: Error validating header for HDU #0 (note: Astropy uses zero-based indexing).\n",
      "    Header size is not multiple of 2880: 5380271\n",
      "There may be extra bytes after the last HDU or the file is corrupted. [astropy.io.fits.hdu.hdulist]\n"
     ]
    },
    {
     "data": {
      "text/plain": [
       "0"
      ]
     },
     "execution_count": 84,
     "metadata": {},
     "output_type": "execute_result"
    },
    {
     "name": "stdout",
     "output_type": "stream",
     "text": [
      "14.349999\n",
      "u,g,r,i,z,Y\n",
      "-9999.0000,27.2309,22.6109,20.6355,19.3127,18.9523\n"
     ]
    },
    {
     "name": "stderr",
     "output_type": "stream",
     "text": [
      "WARNING: VerifyWarning: Error validating header for HDU #0 (note: Astropy uses zero-based indexing).\n",
      "    Header size is not multiple of 2880: 5240474\n",
      "There may be extra bytes after the last HDU or the file is corrupted. [astropy.io.fits.hdu.hdulist]\n"
     ]
    },
    {
     "data": {
      "text/plain": [
       "0"
      ]
     },
     "execution_count": 84,
     "metadata": {},
     "output_type": "execute_result"
    },
    {
     "name": "stdout",
     "output_type": "stream",
     "text": [
      "14.45\n",
      "u,g,r,i,z,Y\n",
      "-9999.0000,26.9367,22.8406,20.6674,19.3890,19.1276\n"
     ]
    },
    {
     "name": "stderr",
     "output_type": "stream",
     "text": [
      "WARNING: VerifyWarning: Error validating header for HDU #0 (note: Astropy uses zero-based indexing).\n",
      "    Header size is not multiple of 2880: 5309061\n",
      "There may be extra bytes after the last HDU or the file is corrupted. [astropy.io.fits.hdu.hdulist]\n"
     ]
    },
    {
     "data": {
      "text/plain": [
       "0"
      ]
     },
     "execution_count": 84,
     "metadata": {},
     "output_type": "execute_result"
    },
    {
     "name": "stdout",
     "output_type": "stream",
     "text": [
      "14.55\n",
      "u,g,r,i,z,Y\n",
      "-9999.0000,27.7780,22.7351,20.6329,19.4200,19.1203\n"
     ]
    },
    {
     "name": "stderr",
     "output_type": "stream",
     "text": [
      "WARNING: VerifyWarning: Error validating header for HDU #0 (note: Astropy uses zero-based indexing).\n",
      "    Header size is not multiple of 2880: 5543704\n",
      "There may be extra bytes after the last HDU or the file is corrupted. [astropy.io.fits.hdu.hdulist]\n"
     ]
    },
    {
     "data": {
      "text/plain": [
       "0"
      ]
     },
     "execution_count": 84,
     "metadata": {},
     "output_type": "execute_result"
    },
    {
     "name": "stdout",
     "output_type": "stream",
     "text": [
      "14.650001\n",
      "u,g,r,i,z,Y\n",
      "-9999.0000,26.6814,22.7467,20.6821,19.4454,19.1356\n"
     ]
    },
    {
     "name": "stderr",
     "output_type": "stream",
     "text": [
      "WARNING: VerifyWarning: Error validating header for HDU #0 (note: Astropy uses zero-based indexing).\n",
      "    Header size is not multiple of 2880: 5468241\n",
      "There may be extra bytes after the last HDU or the file is corrupted. [astropy.io.fits.hdu.hdulist]\n"
     ]
    },
    {
     "data": {
      "text/plain": [
       "0"
      ]
     },
     "execution_count": 84,
     "metadata": {},
     "output_type": "execute_result"
    },
    {
     "name": "stdout",
     "output_type": "stream",
     "text": [
      "14.75\n",
      "u,g,r,i,z,Y\n",
      "-9999.0000,26.8889,23.0010,20.6456,19.4593,19.2031\n"
     ]
    },
    {
     "name": "stderr",
     "output_type": "stream",
     "text": [
      "WARNING: VerifyWarning: Error validating header for HDU #0 (note: Astropy uses zero-based indexing).\n",
      "    Header size is not multiple of 2880: 5421763\n",
      "There may be extra bytes after the last HDU or the file is corrupted. [astropy.io.fits.hdu.hdulist]\n"
     ]
    },
    {
     "data": {
      "text/plain": [
       "0"
      ]
     },
     "execution_count": 84,
     "metadata": {},
     "output_type": "execute_result"
    },
    {
     "name": "stdout",
     "output_type": "stream",
     "text": [
      "14.849999\n",
      "u,g,r,i,z,Y\n",
      "-9999.0000,26.9051,22.7181,20.6681,19.4278,19.1997\n"
     ]
    },
    {
     "name": "stderr",
     "output_type": "stream",
     "text": [
      "WARNING: VerifyWarning: Error validating header for HDU #0 (note: Astropy uses zero-based indexing).\n",
      "    Header size is not multiple of 2880: 5499238\n",
      "There may be extra bytes after the last HDU or the file is corrupted. [astropy.io.fits.hdu.hdulist]\n"
     ]
    },
    {
     "data": {
      "text/plain": [
       "0"
      ]
     },
     "execution_count": 84,
     "metadata": {},
     "output_type": "execute_result"
    },
    {
     "name": "stdout",
     "output_type": "stream",
     "text": [
      "14.95\n",
      "u,g,r,i,z,Y\n",
      "-9999.0000,27.3347,22.8271,20.7939,19.4632,19.2185\n"
     ]
    },
    {
     "name": "stderr",
     "output_type": "stream",
     "text": [
      "WARNING: VerifyWarning: Error validating header for HDU #0 (note: Astropy uses zero-based indexing).\n",
      "    Header size is not multiple of 2880: 5574595\n",
      "There may be extra bytes after the last HDU or the file is corrupted. [astropy.io.fits.hdu.hdulist]\n"
     ]
    },
    {
     "data": {
      "text/plain": [
       "0"
      ]
     },
     "execution_count": 84,
     "metadata": {},
     "output_type": "execute_result"
    },
    {
     "name": "stdout",
     "output_type": "stream",
     "text": [
      "15.05\n",
      "u,g,r,i,z,Y\n",
      "-9999.0000,27.1219,23.0038,20.7850,19.4933,19.2124\n"
     ]
    },
    {
     "name": "stderr",
     "output_type": "stream",
     "text": [
      "WARNING: VerifyWarning: Error validating header for HDU #0 (note: Astropy uses zero-based indexing).\n",
      "    Header size is not multiple of 2880: 5489423\n",
      "There may be extra bytes after the last HDU or the file is corrupted. [astropy.io.fits.hdu.hdulist]\n"
     ]
    },
    {
     "data": {
      "text/plain": [
       "0"
      ]
     },
     "execution_count": 84,
     "metadata": {},
     "output_type": "execute_result"
    },
    {
     "name": "stdout",
     "output_type": "stream",
     "text": [
      "15.150001\n",
      "u,g,r,i,z,Y\n",
      "-9999.0000,27.6890,22.9702,20.7835,19.5600,19.3299\n"
     ]
    },
    {
     "name": "stderr",
     "output_type": "stream",
     "text": [
      "WARNING: VerifyWarning: Error validating header for HDU #0 (note: Astropy uses zero-based indexing).\n",
      "    Header size is not multiple of 2880: 5513427\n",
      "There may be extra bytes after the last HDU or the file is corrupted. [astropy.io.fits.hdu.hdulist]\n"
     ]
    },
    {
     "data": {
      "text/plain": [
       "0"
      ]
     },
     "execution_count": 84,
     "metadata": {},
     "output_type": "execute_result"
    },
    {
     "name": "stdout",
     "output_type": "stream",
     "text": [
      "15.25\n",
      "u,g,r,i,z,Y\n",
      "-9999.0000,27.4840,22.9323,20.7930,19.5795,19.2917\n"
     ]
    },
    {
     "name": "stderr",
     "output_type": "stream",
     "text": [
      "WARNING: VerifyWarning: Error validating header for HDU #0 (note: Astropy uses zero-based indexing).\n",
      "    Header size is not multiple of 2880: 5423362\n",
      "There may be extra bytes after the last HDU or the file is corrupted. [astropy.io.fits.hdu.hdulist]\n"
     ]
    },
    {
     "data": {
      "text/plain": [
       "0"
      ]
     },
     "execution_count": 84,
     "metadata": {},
     "output_type": "execute_result"
    },
    {
     "name": "stdout",
     "output_type": "stream",
     "text": [
      "15.349999\n",
      "u,g,r,i,z,Y\n",
      "-9999.0000,26.9885,22.8517,20.8537,19.6111,19.3432\n"
     ]
    },
    {
     "name": "stderr",
     "output_type": "stream",
     "text": [
      "WARNING: VerifyWarning: Error validating header for HDU #0 (note: Astropy uses zero-based indexing).\n",
      "    Header size is not multiple of 2880: 5454206\n",
      "There may be extra bytes after the last HDU or the file is corrupted. [astropy.io.fits.hdu.hdulist]\n"
     ]
    },
    {
     "data": {
      "text/plain": [
       "0"
      ]
     },
     "execution_count": 84,
     "metadata": {},
     "output_type": "execute_result"
    },
    {
     "name": "stdout",
     "output_type": "stream",
     "text": [
      "15.45\n",
      "u,g,r,i,z,Y\n",
      "-9999.0000,27.0263,22.9168,20.7406,19.6201,19.3814\n"
     ]
    },
    {
     "name": "stderr",
     "output_type": "stream",
     "text": [
      "WARNING: VerifyWarning: Error validating header for HDU #0 (note: Astropy uses zero-based indexing).\n",
      "    Header size is not multiple of 2880: 5436011\n",
      "There may be extra bytes after the last HDU or the file is corrupted. [astropy.io.fits.hdu.hdulist]\n"
     ]
    },
    {
     "data": {
      "text/plain": [
       "0"
      ]
     },
     "execution_count": 84,
     "metadata": {},
     "output_type": "execute_result"
    },
    {
     "name": "stdout",
     "output_type": "stream",
     "text": [
      "15.55\n",
      "u,g,r,i,z,Y\n",
      "-9999.0000,26.9475,22.9369,20.8498,19.6836,19.4474\n"
     ]
    },
    {
     "name": "stderr",
     "output_type": "stream",
     "text": [
      "WARNING: VerifyWarning: Error validating header for HDU #0 (note: Astropy uses zero-based indexing).\n",
      "    Header size is not multiple of 2880: 5538797\n",
      "There may be extra bytes after the last HDU or the file is corrupted. [astropy.io.fits.hdu.hdulist]\n"
     ]
    },
    {
     "data": {
      "text/plain": [
       "0"
      ]
     },
     "execution_count": 84,
     "metadata": {},
     "output_type": "execute_result"
    },
    {
     "name": "stdout",
     "output_type": "stream",
     "text": [
      "15.650001\n",
      "u,g,r,i,z,Y\n",
      "-9999.0000,26.7481,22.9064,20.8820,19.6820,19.4608\n"
     ]
    },
    {
     "name": "stderr",
     "output_type": "stream",
     "text": [
      "WARNING: VerifyWarning: Error validating header for HDU #0 (note: Astropy uses zero-based indexing).\n",
      "    Header size is not multiple of 2880: 5491971\n",
      "There may be extra bytes after the last HDU or the file is corrupted. [astropy.io.fits.hdu.hdulist]\n"
     ]
    },
    {
     "data": {
      "text/plain": [
       "0"
      ]
     },
     "execution_count": 84,
     "metadata": {},
     "output_type": "execute_result"
    },
    {
     "name": "stdout",
     "output_type": "stream",
     "text": [
      "15.75\n",
      "u,g,r,i,z,Y\n",
      "-9999.0000,27.0926,22.8810,20.8674,19.6931,19.5015\n"
     ]
    },
    {
     "name": "stderr",
     "output_type": "stream",
     "text": [
      "WARNING: VerifyWarning: Error validating header for HDU #0 (note: Astropy uses zero-based indexing).\n",
      "    Header size is not multiple of 2880: 5516581\n",
      "There may be extra bytes after the last HDU or the file is corrupted. [astropy.io.fits.hdu.hdulist]\n"
     ]
    },
    {
     "data": {
      "text/plain": [
       "0"
      ]
     },
     "execution_count": 84,
     "metadata": {},
     "output_type": "execute_result"
    },
    {
     "name": "stdout",
     "output_type": "stream",
     "text": [
      "15.849999\n",
      "u,g,r,i,z,Y\n",
      "-9999.0000,26.7570,22.9877,20.8329,19.7172,19.5361\n"
     ]
    },
    {
     "name": "stderr",
     "output_type": "stream",
     "text": [
      "WARNING: VerifyWarning: Error validating header for HDU #0 (note: Astropy uses zero-based indexing).\n",
      "    Header size is not multiple of 2880: 5437730\n",
      "There may be extra bytes after the last HDU or the file is corrupted. [astropy.io.fits.hdu.hdulist]\n"
     ]
    },
    {
     "data": {
      "text/plain": [
       "0"
      ]
     },
     "execution_count": 84,
     "metadata": {},
     "output_type": "execute_result"
    },
    {
     "name": "stdout",
     "output_type": "stream",
     "text": [
      "15.95\n",
      "u,g,r,i,z,Y\n",
      "-9999.0000,26.8908,23.0105,20.8909,19.7613,19.5332\n"
     ]
    },
    {
     "name": "stderr",
     "output_type": "stream",
     "text": [
      "WARNING: VerifyWarning: Error validating header for HDU #0 (note: Astropy uses zero-based indexing).\n",
      "    Header size is not multiple of 2880: 5369480\n",
      "There may be extra bytes after the last HDU or the file is corrupted. [astropy.io.fits.hdu.hdulist]\n"
     ]
    },
    {
     "data": {
      "text/plain": [
       "0"
      ]
     },
     "execution_count": 84,
     "metadata": {},
     "output_type": "execute_result"
    },
    {
     "name": "stdout",
     "output_type": "stream",
     "text": [
      "16.050001\n",
      "u,g,r,i,z,Y\n",
      "-9999.0000,26.6205,22.9672,20.9356,19.7980,19.5153\n"
     ]
    },
    {
     "name": "stderr",
     "output_type": "stream",
     "text": [
      "WARNING: VerifyWarning: Error validating header for HDU #0 (note: Astropy uses zero-based indexing).\n",
      "    Header size is not multiple of 2880: 5515475\n",
      "There may be extra bytes after the last HDU or the file is corrupted. [astropy.io.fits.hdu.hdulist]\n"
     ]
    },
    {
     "data": {
      "text/plain": [
       "0"
      ]
     },
     "execution_count": 84,
     "metadata": {},
     "output_type": "execute_result"
    },
    {
     "name": "stdout",
     "output_type": "stream",
     "text": [
      "16.15\n",
      "u,g,r,i,z,Y\n",
      "-9999.0000,26.5843,23.0033,20.8461,19.7867,19.5899\n"
     ]
    },
    {
     "name": "stderr",
     "output_type": "stream",
     "text": [
      "WARNING: VerifyWarning: Error validating header for HDU #0 (note: Astropy uses zero-based indexing).\n",
      "    Header size is not multiple of 2880: 5549692\n",
      "There may be extra bytes after the last HDU or the file is corrupted. [astropy.io.fits.hdu.hdulist]\n"
     ]
    },
    {
     "data": {
      "text/plain": [
       "0"
      ]
     },
     "execution_count": 84,
     "metadata": {},
     "output_type": "execute_result"
    },
    {
     "name": "stdout",
     "output_type": "stream",
     "text": [
      "16.25\n",
      "u,g,r,i,z,Y\n",
      "-9999.0000,26.8650,22.9510,20.8730,19.8806,19.6477\n"
     ]
    },
    {
     "name": "stderr",
     "output_type": "stream",
     "text": [
      "WARNING: VerifyWarning: Error validating header for HDU #0 (note: Astropy uses zero-based indexing).\n",
      "    Header size is not multiple of 2880: 5584875\n",
      "There may be extra bytes after the last HDU or the file is corrupted. [astropy.io.fits.hdu.hdulist]\n"
     ]
    },
    {
     "data": {
      "text/plain": [
       "0"
      ]
     },
     "execution_count": 84,
     "metadata": {},
     "output_type": "execute_result"
    },
    {
     "name": "stdout",
     "output_type": "stream",
     "text": [
      "16.35\n",
      "u,g,r,i,z,Y\n",
      "-9999.0000,27.3292,23.0058,20.8194,19.8127,19.7364\n"
     ]
    },
    {
     "name": "stderr",
     "output_type": "stream",
     "text": [
      "WARNING: VerifyWarning: Error validating header for HDU #0 (note: Astropy uses zero-based indexing).\n",
      "    Header size is not multiple of 2880: 5416436\n",
      "There may be extra bytes after the last HDU or the file is corrupted. [astropy.io.fits.hdu.hdulist]\n"
     ]
    },
    {
     "data": {
      "text/plain": [
       "0"
      ]
     },
     "execution_count": 84,
     "metadata": {},
     "output_type": "execute_result"
    },
    {
     "name": "stdout",
     "output_type": "stream",
     "text": [
      "16.449999\n",
      "u,g,r,i,z,Y\n",
      "-9999.0000,27.5329,23.0471,20.9170,19.9470,19.7781\n"
     ]
    },
    {
     "name": "stderr",
     "output_type": "stream",
     "text": [
      "WARNING: VerifyWarning: Error validating header for HDU #0 (note: Astropy uses zero-based indexing).\n",
      "    Header size is not multiple of 2880: 5434499\n",
      "There may be extra bytes after the last HDU or the file is corrupted. [astropy.io.fits.hdu.hdulist]\n"
     ]
    },
    {
     "data": {
      "text/plain": [
       "0"
      ]
     },
     "execution_count": 84,
     "metadata": {},
     "output_type": "execute_result"
    },
    {
     "name": "stdout",
     "output_type": "stream",
     "text": [
      "16.550001\n",
      "u,g,r,i,z,Y\n",
      "-9999.0000,27.0019,22.8875,20.8766,19.9939,19.7977\n"
     ]
    },
    {
     "name": "stderr",
     "output_type": "stream",
     "text": [
      "WARNING: VerifyWarning: Error validating header for HDU #0 (note: Astropy uses zero-based indexing).\n",
      "    Header size is not multiple of 2880: 5585625\n",
      "There may be extra bytes after the last HDU or the file is corrupted. [astropy.io.fits.hdu.hdulist]\n"
     ]
    },
    {
     "data": {
      "text/plain": [
       "0"
      ]
     },
     "execution_count": 84,
     "metadata": {},
     "output_type": "execute_result"
    },
    {
     "name": "stdout",
     "output_type": "stream",
     "text": [
      "16.65\n",
      "u,g,r,i,z,Y\n",
      "-9999.0000,26.8286,23.0971,20.8869,19.9081,19.8367\n"
     ]
    },
    {
     "name": "stderr",
     "output_type": "stream",
     "text": [
      "WARNING: VerifyWarning: Error validating header for HDU #0 (note: Astropy uses zero-based indexing).\n",
      "    Header size is not multiple of 2880: 5526077\n",
      "There may be extra bytes after the last HDU or the file is corrupted. [astropy.io.fits.hdu.hdulist]\n"
     ]
    },
    {
     "data": {
      "text/plain": [
       "0"
      ]
     },
     "execution_count": 84,
     "metadata": {},
     "output_type": "execute_result"
    },
    {
     "name": "stdout",
     "output_type": "stream",
     "text": [
      "16.75\n",
      "u,g,r,i,z,Y\n",
      "-9999.0000,28.0399,23.0413,20.9122,19.8939,19.7854\n"
     ]
    },
    {
     "name": "stderr",
     "output_type": "stream",
     "text": [
      "WARNING: VerifyWarning: Error validating header for HDU #0 (note: Astropy uses zero-based indexing).\n",
      "    Header size is not multiple of 2880: 5763044\n",
      "There may be extra bytes after the last HDU or the file is corrupted. [astropy.io.fits.hdu.hdulist]\n"
     ]
    },
    {
     "data": {
      "text/plain": [
       "0"
      ]
     },
     "execution_count": 84,
     "metadata": {},
     "output_type": "execute_result"
    },
    {
     "name": "stdout",
     "output_type": "stream",
     "text": [
      "16.85\n",
      "u,g,r,i,z,Y\n",
      "-9999.0000,27.0962,22.9849,20.8452,19.9179,19.7567\n"
     ]
    },
    {
     "name": "stderr",
     "output_type": "stream",
     "text": [
      "WARNING: VerifyWarning: Error validating header for HDU #0 (note: Astropy uses zero-based indexing).\n",
      "    Header size is not multiple of 2880: 5642687\n",
      "There may be extra bytes after the last HDU or the file is corrupted. [astropy.io.fits.hdu.hdulist]\n"
     ]
    },
    {
     "data": {
      "text/plain": [
       "0"
      ]
     },
     "execution_count": 84,
     "metadata": {},
     "output_type": "execute_result"
    },
    {
     "name": "stdout",
     "output_type": "stream",
     "text": [
      "16.949999\n",
      "u,g,r,i,z,Y\n",
      "-9999.0000,27.2548,23.0377,20.8643,19.9336,19.7643\n"
     ]
    },
    {
     "name": "stderr",
     "output_type": "stream",
     "text": [
      "WARNING: VerifyWarning: Error validating header for HDU #0 (note: Astropy uses zero-based indexing).\n",
      "    Header size is not multiple of 2880: 5486966\n",
      "There may be extra bytes after the last HDU or the file is corrupted. [astropy.io.fits.hdu.hdulist]\n"
     ]
    },
    {
     "data": {
      "text/plain": [
       "0"
      ]
     },
     "execution_count": 84,
     "metadata": {},
     "output_type": "execute_result"
    },
    {
     "name": "stdout",
     "output_type": "stream",
     "text": [
      "17.050001\n",
      "u,g,r,i,z,Y\n",
      "28.1598,27.2889,23.0040,20.9119,20.0120,19.8730\n"
     ]
    },
    {
     "name": "stderr",
     "output_type": "stream",
     "text": [
      "WARNING: VerifyWarning: Error validating header for HDU #0 (note: Astropy uses zero-based indexing).\n",
      "    Header size is not multiple of 2880: 5566086\n",
      "There may be extra bytes after the last HDU or the file is corrupted. [astropy.io.fits.hdu.hdulist]\n"
     ]
    },
    {
     "data": {
      "text/plain": [
       "0"
      ]
     },
     "execution_count": 84,
     "metadata": {},
     "output_type": "execute_result"
    },
    {
     "name": "stdout",
     "output_type": "stream",
     "text": [
      "17.15\n",
      "u,g,r,i,z,Y\n",
      "-9999.0000,27.2746,23.1189,20.9819,19.9646,19.8503\n"
     ]
    },
    {
     "name": "stderr",
     "output_type": "stream",
     "text": [
      "WARNING: VerifyWarning: Error validating header for HDU #0 (note: Astropy uses zero-based indexing).\n",
      "    Header size is not multiple of 2880: 5547179\n",
      "There may be extra bytes after the last HDU or the file is corrupted. [astropy.io.fits.hdu.hdulist]\n"
     ]
    },
    {
     "data": {
      "text/plain": [
       "0"
      ]
     },
     "execution_count": 84,
     "metadata": {},
     "output_type": "execute_result"
    },
    {
     "name": "stdout",
     "output_type": "stream",
     "text": [
      "17.25\n",
      "u,g,r,i,z,Y\n",
      "-9999.0000,27.4379,23.0715,20.8733,20.0306,19.9872\n"
     ]
    },
    {
     "name": "stderr",
     "output_type": "stream",
     "text": [
      "WARNING: VerifyWarning: Error validating header for HDU #0 (note: Astropy uses zero-based indexing).\n",
      "    Header size is not multiple of 2880: 5580117\n",
      "There may be extra bytes after the last HDU or the file is corrupted. [astropy.io.fits.hdu.hdulist]\n"
     ]
    },
    {
     "data": {
      "text/plain": [
       "0"
      ]
     },
     "execution_count": 84,
     "metadata": {},
     "output_type": "execute_result"
    },
    {
     "name": "stdout",
     "output_type": "stream",
     "text": [
      "17.35\n",
      "u,g,r,i,z,Y\n",
      "-9999.0000,28.5592,22.9910,20.9496,20.0883,19.9518\n"
     ]
    },
    {
     "name": "stderr",
     "output_type": "stream",
     "text": [
      "WARNING: VerifyWarning: Error validating header for HDU #0 (note: Astropy uses zero-based indexing).\n",
      "    Header size is not multiple of 2880: 5505175\n",
      "There may be extra bytes after the last HDU or the file is corrupted. [astropy.io.fits.hdu.hdulist]\n"
     ]
    },
    {
     "data": {
      "text/plain": [
       "0"
      ]
     },
     "execution_count": 84,
     "metadata": {},
     "output_type": "execute_result"
    },
    {
     "name": "stdout",
     "output_type": "stream",
     "text": [
      "17.449999\n",
      "u,g,r,i,z,Y\n",
      "-9999.0000,26.9812,23.0754,20.9261,20.0888,19.9977\n"
     ]
    },
    {
     "name": "stderr",
     "output_type": "stream",
     "text": [
      "WARNING: VerifyWarning: Error validating header for HDU #0 (note: Astropy uses zero-based indexing).\n",
      "    Header size is not multiple of 2880: 5528399\n",
      "There may be extra bytes after the last HDU or the file is corrupted. [astropy.io.fits.hdu.hdulist]\n"
     ]
    },
    {
     "data": {
      "text/plain": [
       "0"
      ]
     },
     "execution_count": 84,
     "metadata": {},
     "output_type": "execute_result"
    },
    {
     "name": "stdout",
     "output_type": "stream",
     "text": [
      "17.550001\n",
      "u,g,r,i,z,Y\n",
      "-9999.0000,28.5843,23.1242,21.0017,20.0812,19.9482\n"
     ]
    },
    {
     "name": "stderr",
     "output_type": "stream",
     "text": [
      "WARNING: VerifyWarning: Error validating header for HDU #0 (note: Astropy uses zero-based indexing).\n",
      "    Header size is not multiple of 2880: 5669680\n",
      "There may be extra bytes after the last HDU or the file is corrupted. [astropy.io.fits.hdu.hdulist]\n"
     ]
    },
    {
     "data": {
      "text/plain": [
       "0"
      ]
     },
     "execution_count": 84,
     "metadata": {},
     "output_type": "execute_result"
    },
    {
     "name": "stdout",
     "output_type": "stream",
     "text": [
      "17.65\n",
      "u,g,r,i,z,Y\n",
      "-9999.0000,27.7406,23.0368,20.9433,20.0831,20.0775\n"
     ]
    },
    {
     "name": "stderr",
     "output_type": "stream",
     "text": [
      "WARNING: VerifyWarning: Error validating header for HDU #0 (note: Astropy uses zero-based indexing).\n",
      "    Header size is not multiple of 2880: 5517284\n",
      "There may be extra bytes after the last HDU or the file is corrupted. [astropy.io.fits.hdu.hdulist]\n"
     ]
    },
    {
     "data": {
      "text/plain": [
       "0"
      ]
     },
     "execution_count": 84,
     "metadata": {},
     "output_type": "execute_result"
    },
    {
     "name": "stdout",
     "output_type": "stream",
     "text": [
      "17.75\n",
      "u,g,r,i,z,Y\n",
      "-9999.0000,28.3106,23.0414,20.9888,20.0928,20.0865\n"
     ]
    },
    {
     "name": "stderr",
     "output_type": "stream",
     "text": [
      "WARNING: VerifyWarning: Error validating header for HDU #0 (note: Astropy uses zero-based indexing).\n",
      "    Header size is not multiple of 2880: 5390082\n",
      "There may be extra bytes after the last HDU or the file is corrupted. [astropy.io.fits.hdu.hdulist]\n"
     ]
    },
    {
     "data": {
      "text/plain": [
       "0"
      ]
     },
     "execution_count": 84,
     "metadata": {},
     "output_type": "execute_result"
    },
    {
     "name": "stdout",
     "output_type": "stream",
     "text": [
      "17.85\n",
      "u,g,r,i,z,Y\n",
      "-9999.0000,27.2110,23.0283,20.9224,20.1348,20.1561\n"
     ]
    },
    {
     "name": "stderr",
     "output_type": "stream",
     "text": [
      "WARNING: VerifyWarning: Error validating header for HDU #0 (note: Astropy uses zero-based indexing).\n",
      "    Header size is not multiple of 2880: 5534916\n",
      "There may be extra bytes after the last HDU or the file is corrupted. [astropy.io.fits.hdu.hdulist]\n"
     ]
    },
    {
     "data": {
      "text/plain": [
       "0"
      ]
     },
     "execution_count": 84,
     "metadata": {},
     "output_type": "execute_result"
    },
    {
     "name": "stdout",
     "output_type": "stream",
     "text": [
      "17.949999\n",
      "u,g,r,i,z,Y\n",
      "-9999.0000,26.9529,23.1918,20.9089,20.1242,20.1963\n"
     ]
    },
    {
     "name": "stderr",
     "output_type": "stream",
     "text": [
      "WARNING: VerifyWarning: Error validating header for HDU #0 (note: Astropy uses zero-based indexing).\n",
      "    Header size is not multiple of 2880: 5620471\n",
      "There may be extra bytes after the last HDU or the file is corrupted. [astropy.io.fits.hdu.hdulist]\n"
     ]
    },
    {
     "data": {
      "text/plain": [
       "0"
      ]
     },
     "execution_count": 84,
     "metadata": {},
     "output_type": "execute_result"
    },
    {
     "name": "stdout",
     "output_type": "stream",
     "text": [
      "18.050001\n",
      "u,g,r,i,z,Y\n",
      "-9999.0000,28.1648,23.0800,20.9353,20.0722,20.0820\n"
     ]
    },
    {
     "name": "stderr",
     "output_type": "stream",
     "text": [
      "WARNING: VerifyWarning: Error validating header for HDU #0 (note: Astropy uses zero-based indexing).\n",
      "    Header size is not multiple of 2880: 5498689\n",
      "There may be extra bytes after the last HDU or the file is corrupted. [astropy.io.fits.hdu.hdulist]\n"
     ]
    },
    {
     "data": {
      "text/plain": [
       "0"
      ]
     },
     "execution_count": 84,
     "metadata": {},
     "output_type": "execute_result"
    },
    {
     "name": "stdout",
     "output_type": "stream",
     "text": [
      "18.15\n",
      "u,g,r,i,z,Y\n",
      "-9999.0000,27.6135,23.0482,20.9735,20.1469,20.1893\n"
     ]
    },
    {
     "name": "stderr",
     "output_type": "stream",
     "text": [
      "WARNING: VerifyWarning: Error validating header for HDU #0 (note: Astropy uses zero-based indexing).\n",
      "    Header size is not multiple of 2880: 5488261\n",
      "There may be extra bytes after the last HDU or the file is corrupted. [astropy.io.fits.hdu.hdulist]\n"
     ]
    },
    {
     "data": {
      "text/plain": [
       "0"
      ]
     },
     "execution_count": 84,
     "metadata": {},
     "output_type": "execute_result"
    },
    {
     "name": "stdout",
     "output_type": "stream",
     "text": [
      "18.25\n",
      "u,g,r,i,z,Y\n",
      "-9999.0000,27.8799,23.0287,20.8922,20.1599,20.1302\n"
     ]
    },
    {
     "name": "stderr",
     "output_type": "stream",
     "text": [
      "WARNING: VerifyWarning: Error validating header for HDU #0 (note: Astropy uses zero-based indexing).\n",
      "    Header size is not multiple of 2880: 5513796\n",
      "There may be extra bytes after the last HDU or the file is corrupted. [astropy.io.fits.hdu.hdulist]\n"
     ]
    },
    {
     "data": {
      "text/plain": [
       "0"
      ]
     },
     "execution_count": 84,
     "metadata": {},
     "output_type": "execute_result"
    },
    {
     "name": "stdout",
     "output_type": "stream",
     "text": [
      "18.35\n",
      "u,g,r,i,z,Y\n",
      "-9999.0000,27.5232,23.1376,20.9889,20.1674,20.2708\n"
     ]
    },
    {
     "name": "stderr",
     "output_type": "stream",
     "text": [
      "WARNING: VerifyWarning: Error validating header for HDU #0 (note: Astropy uses zero-based indexing).\n",
      "    Header size is not multiple of 2880: 5567751\n",
      "There may be extra bytes after the last HDU or the file is corrupted. [astropy.io.fits.hdu.hdulist]\n"
     ]
    },
    {
     "data": {
      "text/plain": [
       "0"
      ]
     },
     "execution_count": 84,
     "metadata": {},
     "output_type": "execute_result"
    },
    {
     "name": "stdout",
     "output_type": "stream",
     "text": [
      "18.449999\n",
      "u,g,r,i,z,Y\n",
      "-9999.0000,27.9141,23.0263,20.9776,20.2049,20.2553\n"
     ]
    },
    {
     "name": "stderr",
     "output_type": "stream",
     "text": [
      "WARNING: VerifyWarning: Error validating header for HDU #0 (note: Astropy uses zero-based indexing).\n",
      "    Header size is not multiple of 2880: 5533552\n",
      "There may be extra bytes after the last HDU or the file is corrupted. [astropy.io.fits.hdu.hdulist]\n"
     ]
    },
    {
     "data": {
      "text/plain": [
       "0"
      ]
     },
     "execution_count": 84,
     "metadata": {},
     "output_type": "execute_result"
    },
    {
     "name": "stdout",
     "output_type": "stream",
     "text": [
      "18.550001\n",
      "u,g,r,i,z,Y\n",
      "-9999.0000,27.8713,23.2192,21.0052,20.2067,20.3093\n"
     ]
    },
    {
     "name": "stderr",
     "output_type": "stream",
     "text": [
      "WARNING: VerifyWarning: Error validating header for HDU #0 (note: Astropy uses zero-based indexing).\n",
      "    Header size is not multiple of 2880: 5634124\n",
      "There may be extra bytes after the last HDU or the file is corrupted. [astropy.io.fits.hdu.hdulist]\n"
     ]
    },
    {
     "data": {
      "text/plain": [
       "0"
      ]
     },
     "execution_count": 84,
     "metadata": {},
     "output_type": "execute_result"
    },
    {
     "name": "stdout",
     "output_type": "stream",
     "text": [
      "18.65\n",
      "u,g,r,i,z,Y\n",
      "-9999.0000,26.6917,23.0679,21.0060,20.2121,20.2895\n"
     ]
    },
    {
     "name": "stderr",
     "output_type": "stream",
     "text": [
      "WARNING: VerifyWarning: Error validating header for HDU #0 (note: Astropy uses zero-based indexing).\n",
      "    Header size is not multiple of 2880: 5652517\n",
      "There may be extra bytes after the last HDU or the file is corrupted. [astropy.io.fits.hdu.hdulist]\n"
     ]
    },
    {
     "data": {
      "text/plain": [
       "0"
      ]
     },
     "execution_count": 84,
     "metadata": {},
     "output_type": "execute_result"
    },
    {
     "name": "stdout",
     "output_type": "stream",
     "text": [
      "18.75\n",
      "u,g,r,i,z,Y\n",
      "-9999.0000,27.3601,23.0354,21.0098,20.2418,20.3645\n"
     ]
    },
    {
     "name": "stderr",
     "output_type": "stream",
     "text": [
      "WARNING: VerifyWarning: Error validating header for HDU #0 (note: Astropy uses zero-based indexing).\n",
      "    Header size is not multiple of 2880: 5506209\n",
      "There may be extra bytes after the last HDU or the file is corrupted. [astropy.io.fits.hdu.hdulist]\n"
     ]
    },
    {
     "data": {
      "text/plain": [
       "0"
      ]
     },
     "execution_count": 84,
     "metadata": {},
     "output_type": "execute_result"
    },
    {
     "name": "stdout",
     "output_type": "stream",
     "text": [
      "18.85\n",
      "u,g,r,i,z,Y\n",
      "-9999.0000,28.3539,23.1572,21.0166,20.2617,20.3941\n"
     ]
    },
    {
     "name": "stderr",
     "output_type": "stream",
     "text": [
      "WARNING: VerifyWarning: Error validating header for HDU #0 (note: Astropy uses zero-based indexing).\n",
      "    Header size is not multiple of 2880: 5598936\n",
      "There may be extra bytes after the last HDU or the file is corrupted. [astropy.io.fits.hdu.hdulist]\n"
     ]
    },
    {
     "data": {
      "text/plain": [
       "0"
      ]
     },
     "execution_count": 84,
     "metadata": {},
     "output_type": "execute_result"
    },
    {
     "name": "stdout",
     "output_type": "stream",
     "text": [
      "18.949999\n",
      "u,g,r,i,z,Y\n",
      "-9999.0000,27.8034,23.1250,20.9795,20.2151,20.3366\n"
     ]
    },
    {
     "name": "stderr",
     "output_type": "stream",
     "text": [
      "WARNING: VerifyWarning: Error validating header for HDU #0 (note: Astropy uses zero-based indexing).\n",
      "    Header size is not multiple of 2880: 5498608\n",
      "There may be extra bytes after the last HDU or the file is corrupted. [astropy.io.fits.hdu.hdulist]\n"
     ]
    },
    {
     "data": {
      "text/plain": [
       "0"
      ]
     },
     "execution_count": 84,
     "metadata": {},
     "output_type": "execute_result"
    },
    {
     "name": "stdout",
     "output_type": "stream",
     "text": [
      "19.050001\n",
      "u,g,r,i,z,Y\n",
      "-9999.0000,27.0270,23.1811,20.9879,20.1952,20.4193\n"
     ]
    },
    {
     "name": "stderr",
     "output_type": "stream",
     "text": [
      "WARNING: VerifyWarning: Error validating header for HDU #0 (note: Astropy uses zero-based indexing).\n",
      "    Header size is not multiple of 2880: 5470952\n",
      "There may be extra bytes after the last HDU or the file is corrupted. [astropy.io.fits.hdu.hdulist]\n"
     ]
    },
    {
     "data": {
      "text/plain": [
       "0"
      ]
     },
     "execution_count": 84,
     "metadata": {},
     "output_type": "execute_result"
    },
    {
     "name": "stdout",
     "output_type": "stream",
     "text": [
      "19.15\n",
      "u,g,r,i,z,Y\n",
      "-9999.0000,27.9320,23.2071,20.9436,20.2688,20.4830\n"
     ]
    },
    {
     "name": "stderr",
     "output_type": "stream",
     "text": [
      "WARNING: VerifyWarning: Error validating header for HDU #0 (note: Astropy uses zero-based indexing).\n",
      "    Header size is not multiple of 2880: 5648935\n",
      "There may be extra bytes after the last HDU or the file is corrupted. [astropy.io.fits.hdu.hdulist]\n"
     ]
    },
    {
     "data": {
      "text/plain": [
       "0"
      ]
     },
     "execution_count": 84,
     "metadata": {},
     "output_type": "execute_result"
    },
    {
     "name": "stdout",
     "output_type": "stream",
     "text": [
      "19.25\n",
      "u,g,r,i,z,Y\n",
      "-9999.0000,26.7131,23.0624,21.0024,20.2389,20.3680\n"
     ]
    },
    {
     "name": "stderr",
     "output_type": "stream",
     "text": [
      "WARNING: VerifyWarning: Error validating header for HDU #0 (note: Astropy uses zero-based indexing).\n",
      "    Header size is not multiple of 2880: 5746147\n",
      "There may be extra bytes after the last HDU or the file is corrupted. [astropy.io.fits.hdu.hdulist]\n"
     ]
    },
    {
     "data": {
      "text/plain": [
       "0"
      ]
     },
     "execution_count": 84,
     "metadata": {},
     "output_type": "execute_result"
    },
    {
     "name": "stdout",
     "output_type": "stream",
     "text": [
      "19.35\n",
      "u,g,r,i,z,Y\n",
      "-9999.0000,27.0115,23.2865,21.0263,20.3047,20.4396\n"
     ]
    },
    {
     "name": "stderr",
     "output_type": "stream",
     "text": [
      "WARNING: VerifyWarning: Error validating header for HDU #0 (note: Astropy uses zero-based indexing).\n",
      "    Header size is not multiple of 2880: 5644948\n",
      "There may be extra bytes after the last HDU or the file is corrupted. [astropy.io.fits.hdu.hdulist]\n"
     ]
    },
    {
     "data": {
      "text/plain": [
       "0"
      ]
     },
     "execution_count": 84,
     "metadata": {},
     "output_type": "execute_result"
    },
    {
     "name": "stdout",
     "output_type": "stream",
     "text": [
      "19.449999\n",
      "u,g,r,i,z,Y\n",
      "-9999.0000,27.3410,23.0661,21.0131,20.2999,20.4833\n"
     ]
    },
    {
     "name": "stderr",
     "output_type": "stream",
     "text": [
      "WARNING: VerifyWarning: Error validating header for HDU #0 (note: Astropy uses zero-based indexing).\n",
      "    Header size is not multiple of 2880: 5545036\n",
      "There may be extra bytes after the last HDU or the file is corrupted. [astropy.io.fits.hdu.hdulist]\n"
     ]
    },
    {
     "data": {
      "text/plain": [
       "0"
      ]
     },
     "execution_count": 84,
     "metadata": {},
     "output_type": "execute_result"
    },
    {
     "name": "stdout",
     "output_type": "stream",
     "text": [
      "19.550001\n",
      "u,g,r,i,z,Y\n",
      "-9999.0000,26.7474,23.1573,21.0073,20.3392,20.5227\n"
     ]
    },
    {
     "name": "stderr",
     "output_type": "stream",
     "text": [
      "WARNING: VerifyWarning: Error validating header for HDU #0 (note: Astropy uses zero-based indexing).\n",
      "    Header size is not multiple of 2880: 5554449\n",
      "There may be extra bytes after the last HDU or the file is corrupted. [astropy.io.fits.hdu.hdulist]\n"
     ]
    },
    {
     "data": {
      "text/plain": [
       "0"
      ]
     },
     "execution_count": 84,
     "metadata": {},
     "output_type": "execute_result"
    },
    {
     "name": "stdout",
     "output_type": "stream",
     "text": [
      "19.65\n",
      "u,g,r,i,z,Y\n",
      "-9999.0000,26.7386,23.1585,21.0522,20.3469,20.5561\n"
     ]
    },
    {
     "name": "stderr",
     "output_type": "stream",
     "text": [
      "WARNING: VerifyWarning: Error validating header for HDU #0 (note: Astropy uses zero-based indexing).\n",
      "    Header size is not multiple of 2880: 5557357\n",
      "There may be extra bytes after the last HDU or the file is corrupted. [astropy.io.fits.hdu.hdulist]\n"
     ]
    },
    {
     "data": {
      "text/plain": [
       "0"
      ]
     },
     "execution_count": 84,
     "metadata": {},
     "output_type": "execute_result"
    },
    {
     "name": "stdout",
     "output_type": "stream",
     "text": [
      "19.75\n",
      "u,g,r,i,z,Y\n",
      "-9999.0000,28.0368,23.1352,21.0396,20.3110,20.5851\n"
     ]
    },
    {
     "name": "stderr",
     "output_type": "stream",
     "text": [
      "WARNING: VerifyWarning: Error validating header for HDU #0 (note: Astropy uses zero-based indexing).\n",
      "    Header size is not multiple of 2880: 5547043\n",
      "There may be extra bytes after the last HDU or the file is corrupted. [astropy.io.fits.hdu.hdulist]\n"
     ]
    },
    {
     "data": {
      "text/plain": [
       "0"
      ]
     },
     "execution_count": 84,
     "metadata": {},
     "output_type": "execute_result"
    },
    {
     "name": "stdout",
     "output_type": "stream",
     "text": [
      "19.85\n",
      "u,g,r,i,z,Y\n",
      "-9999.0000,27.9912,23.0737,21.0175,20.3264,20.6028\n"
     ]
    },
    {
     "name": "stderr",
     "output_type": "stream",
     "text": [
      "WARNING: VerifyWarning: Error validating header for HDU #0 (note: Astropy uses zero-based indexing).\n",
      "    Header size is not multiple of 2880: 5540087\n",
      "There may be extra bytes after the last HDU or the file is corrupted. [astropy.io.fits.hdu.hdulist]\n"
     ]
    },
    {
     "data": {
      "text/plain": [
       "0"
      ]
     },
     "execution_count": 84,
     "metadata": {},
     "output_type": "execute_result"
    },
    {
     "name": "stdout",
     "output_type": "stream",
     "text": [
      "19.949999\n",
      "u,g,r,i,z,Y\n",
      "-9999.0000,27.5079,23.0145,21.0644,20.3111,20.4929\n"
     ]
    },
    {
     "name": "stderr",
     "output_type": "stream",
     "text": [
      "WARNING: VerifyWarning: Error validating header for HDU #0 (note: Astropy uses zero-based indexing).\n",
      "    Header size is not multiple of 2880: 5619800\n",
      "There may be extra bytes after the last HDU or the file is corrupted. [astropy.io.fits.hdu.hdulist]\n"
     ]
    },
    {
     "data": {
      "text/plain": [
       "0"
      ]
     },
     "execution_count": 84,
     "metadata": {},
     "output_type": "execute_result"
    },
    {
     "name": "stdout",
     "output_type": "stream",
     "text": [
      "20.050001\n",
      "u,g,r,i,z,Y\n",
      "-9999.0000,27.8685,22.9997,21.0223,20.4024,20.6133\n"
     ]
    },
    {
     "name": "stderr",
     "output_type": "stream",
     "text": [
      "WARNING: VerifyWarning: Error validating header for HDU #0 (note: Astropy uses zero-based indexing).\n",
      "    Header size is not multiple of 2880: 5626236\n",
      "There may be extra bytes after the last HDU or the file is corrupted. [astropy.io.fits.hdu.hdulist]\n"
     ]
    },
    {
     "data": {
      "text/plain": [
       "0"
      ]
     },
     "execution_count": 84,
     "metadata": {},
     "output_type": "execute_result"
    },
    {
     "name": "stdout",
     "output_type": "stream",
     "text": [
      "20.15\n",
      "u,g,r,i,z,Y\n",
      "-9999.0000,27.2898,23.0931,21.0113,20.3243,20.6572\n"
     ]
    },
    {
     "name": "stderr",
     "output_type": "stream",
     "text": [
      "WARNING: VerifyWarning: Error validating header for HDU #0 (note: Astropy uses zero-based indexing).\n",
      "    Header size is not multiple of 2880: 5513863\n",
      "There may be extra bytes after the last HDU or the file is corrupted. [astropy.io.fits.hdu.hdulist]\n"
     ]
    },
    {
     "data": {
      "text/plain": [
       "0"
      ]
     },
     "execution_count": 84,
     "metadata": {},
     "output_type": "execute_result"
    },
    {
     "name": "stdout",
     "output_type": "stream",
     "text": [
      "20.25\n",
      "u,g,r,i,z,Y\n",
      "-9999.0000,26.9865,23.1129,21.0265,20.3097,20.6823\n"
     ]
    },
    {
     "name": "stderr",
     "output_type": "stream",
     "text": [
      "WARNING: VerifyWarning: Error validating header for HDU #0 (note: Astropy uses zero-based indexing).\n",
      "    Header size is not multiple of 2880: 5693517\n",
      "There may be extra bytes after the last HDU or the file is corrupted. [astropy.io.fits.hdu.hdulist]\n"
     ]
    },
    {
     "data": {
      "text/plain": [
       "0"
      ]
     },
     "execution_count": 84,
     "metadata": {},
     "output_type": "execute_result"
    },
    {
     "name": "stdout",
     "output_type": "stream",
     "text": [
      "20.35\n",
      "u,g,r,i,z,Y\n",
      "-9999.0000,26.8178,23.0285,21.0444,20.3530,20.6236\n"
     ]
    },
    {
     "name": "stderr",
     "output_type": "stream",
     "text": [
      "WARNING: VerifyWarning: Error validating header for HDU #0 (note: Astropy uses zero-based indexing).\n",
      "    Header size is not multiple of 2880: 5665915\n",
      "There may be extra bytes after the last HDU or the file is corrupted. [astropy.io.fits.hdu.hdulist]\n"
     ]
    },
    {
     "data": {
      "text/plain": [
       "0"
      ]
     },
     "execution_count": 84,
     "metadata": {},
     "output_type": "execute_result"
    },
    {
     "name": "stdout",
     "output_type": "stream",
     "text": [
      "20.449999\n",
      "u,g,r,i,z,Y\n",
      "-9999.0000,27.1981,23.1395,21.0789,20.3753,20.7006\n"
     ]
    },
    {
     "name": "stderr",
     "output_type": "stream",
     "text": [
      "WARNING: VerifyWarning: Error validating header for HDU #0 (note: Astropy uses zero-based indexing).\n",
      "    Header size is not multiple of 2880: 5693599\n",
      "There may be extra bytes after the last HDU or the file is corrupted. [astropy.io.fits.hdu.hdulist]\n"
     ]
    },
    {
     "data": {
      "text/plain": [
       "0"
      ]
     },
     "execution_count": 84,
     "metadata": {},
     "output_type": "execute_result"
    },
    {
     "name": "stdout",
     "output_type": "stream",
     "text": [
      "20.550001\n",
      "u,g,r,i,z,Y\n",
      "-9999.0000,27.2629,23.1969,21.0279,20.3935,20.7029\n"
     ]
    },
    {
     "name": "stderr",
     "output_type": "stream",
     "text": [
      "WARNING: VerifyWarning: Error validating header for HDU #0 (note: Astropy uses zero-based indexing).\n",
      "    Header size is not multiple of 2880: 5575721\n",
      "There may be extra bytes after the last HDU or the file is corrupted. [astropy.io.fits.hdu.hdulist]\n"
     ]
    },
    {
     "data": {
      "text/plain": [
       "0"
      ]
     },
     "execution_count": 84,
     "metadata": {},
     "output_type": "execute_result"
    },
    {
     "name": "stdout",
     "output_type": "stream",
     "text": [
      "20.65\n",
      "u,g,r,i,z,Y\n",
      "-9999.0000,27.5437,23.3025,21.0341,20.4296,20.7515\n"
     ]
    },
    {
     "name": "stderr",
     "output_type": "stream",
     "text": [
      "WARNING: VerifyWarning: Error validating header for HDU #0 (note: Astropy uses zero-based indexing).\n",
      "    Header size is not multiple of 2880: 5642372\n",
      "There may be extra bytes after the last HDU or the file is corrupted. [astropy.io.fits.hdu.hdulist]\n"
     ]
    },
    {
     "data": {
      "text/plain": [
       "0"
      ]
     },
     "execution_count": 84,
     "metadata": {},
     "output_type": "execute_result"
    },
    {
     "name": "stdout",
     "output_type": "stream",
     "text": [
      "20.75\n",
      "u,g,r,i,z,Y\n",
      "-9999.0000,27.1622,23.0582,20.9990,20.3967,20.7155\n"
     ]
    },
    {
     "name": "stderr",
     "output_type": "stream",
     "text": [
      "WARNING: VerifyWarning: Error validating header for HDU #0 (note: Astropy uses zero-based indexing).\n",
      "    Header size is not multiple of 2880: 5505774\n",
      "There may be extra bytes after the last HDU or the file is corrupted. [astropy.io.fits.hdu.hdulist]\n"
     ]
    },
    {
     "data": {
      "text/plain": [
       "0"
      ]
     },
     "execution_count": 84,
     "metadata": {},
     "output_type": "execute_result"
    },
    {
     "name": "stdout",
     "output_type": "stream",
     "text": [
      "20.85\n",
      "u,g,r,i,z,Y\n",
      "-9999.0000,26.9987,22.9982,21.0635,20.4408,20.7676\n"
     ]
    },
    {
     "name": "stderr",
     "output_type": "stream",
     "text": [
      "WARNING: VerifyWarning: Error validating header for HDU #0 (note: Astropy uses zero-based indexing).\n",
      "    Header size is not multiple of 2880: 5650207\n",
      "There may be extra bytes after the last HDU or the file is corrupted. [astropy.io.fits.hdu.hdulist]\n"
     ]
    },
    {
     "data": {
      "text/plain": [
       "0"
      ]
     },
     "execution_count": 84,
     "metadata": {},
     "output_type": "execute_result"
    },
    {
     "name": "stdout",
     "output_type": "stream",
     "text": [
      "20.949999\n",
      "u,g,r,i,z,Y\n",
      "-9999.0000,26.7364,23.0807,20.9759,20.3864,20.8077\n"
     ]
    },
    {
     "name": "stderr",
     "output_type": "stream",
     "text": [
      "WARNING: VerifyWarning: Error validating header for HDU #0 (note: Astropy uses zero-based indexing).\n",
      "    Header size is not multiple of 2880: 5538394\n",
      "There may be extra bytes after the last HDU or the file is corrupted. [astropy.io.fits.hdu.hdulist]\n"
     ]
    },
    {
     "data": {
      "text/plain": [
       "0"
      ]
     },
     "execution_count": 84,
     "metadata": {},
     "output_type": "execute_result"
    },
    {
     "name": "stdout",
     "output_type": "stream",
     "text": [
      "21.050001\n",
      "u,g,r,i,z,Y\n",
      "-9999.0000,27.5011,23.1279,21.0365,20.4679,20.8558\n"
     ]
    },
    {
     "name": "stderr",
     "output_type": "stream",
     "text": [
      "WARNING: VerifyWarning: Error validating header for HDU #0 (note: Astropy uses zero-based indexing).\n",
      "    Header size is not multiple of 2880: 5658025\n",
      "There may be extra bytes after the last HDU or the file is corrupted. [astropy.io.fits.hdu.hdulist]\n"
     ]
    },
    {
     "data": {
      "text/plain": [
       "0"
      ]
     },
     "execution_count": 84,
     "metadata": {},
     "output_type": "execute_result"
    },
    {
     "name": "stdout",
     "output_type": "stream",
     "text": [
      "21.15\n",
      "u,g,r,i,z,Y\n",
      "-9999.0000,27.0285,22.9938,21.0515,20.4471,20.7179\n"
     ]
    },
    {
     "name": "stderr",
     "output_type": "stream",
     "text": [
      "WARNING: VerifyWarning: Error validating header for HDU #0 (note: Astropy uses zero-based indexing).\n",
      "    Header size is not multiple of 2880: 5585776\n",
      "There may be extra bytes after the last HDU or the file is corrupted. [astropy.io.fits.hdu.hdulist]\n"
     ]
    },
    {
     "data": {
      "text/plain": [
       "0"
      ]
     },
     "execution_count": 84,
     "metadata": {},
     "output_type": "execute_result"
    },
    {
     "name": "stdout",
     "output_type": "stream",
     "text": [
      "21.25\n",
      "u,g,r,i,z,Y\n",
      "-9999.0000,27.3548,23.2409,21.0860,20.4500,20.8340\n"
     ]
    },
    {
     "name": "stderr",
     "output_type": "stream",
     "text": [
      "WARNING: VerifyWarning: Error validating header for HDU #0 (note: Astropy uses zero-based indexing).\n",
      "    Header size is not multiple of 2880: 5508806\n",
      "There may be extra bytes after the last HDU or the file is corrupted. [astropy.io.fits.hdu.hdulist]\n"
     ]
    },
    {
     "data": {
      "text/plain": [
       "0"
      ]
     },
     "execution_count": 84,
     "metadata": {},
     "output_type": "execute_result"
    },
    {
     "name": "stdout",
     "output_type": "stream",
     "text": [
      "21.35\n",
      "u,g,r,i,z,Y\n",
      "-9999.0000,27.0449,23.1904,21.0551,20.4455,20.8292\n"
     ]
    },
    {
     "name": "stderr",
     "output_type": "stream",
     "text": [
      "WARNING: VerifyWarning: Error validating header for HDU #0 (note: Astropy uses zero-based indexing).\n",
      "    Header size is not multiple of 2880: 5605874\n",
      "There may be extra bytes after the last HDU or the file is corrupted. [astropy.io.fits.hdu.hdulist]\n"
     ]
    },
    {
     "data": {
      "text/plain": [
       "0"
      ]
     },
     "execution_count": 84,
     "metadata": {},
     "output_type": "execute_result"
    },
    {
     "name": "stdout",
     "output_type": "stream",
     "text": [
      "21.449999\n",
      "u,g,r,i,z,Y\n",
      "-9999.0000,27.2493,23.0632,21.0853,20.4892,20.9440\n"
     ]
    },
    {
     "name": "stderr",
     "output_type": "stream",
     "text": [
      "WARNING: VerifyWarning: Error validating header for HDU #0 (note: Astropy uses zero-based indexing).\n",
      "    Header size is not multiple of 2880: 5621084\n",
      "There may be extra bytes after the last HDU or the file is corrupted. [astropy.io.fits.hdu.hdulist]\n"
     ]
    },
    {
     "data": {
      "text/plain": [
       "0"
      ]
     },
     "execution_count": 84,
     "metadata": {},
     "output_type": "execute_result"
    },
    {
     "name": "stdout",
     "output_type": "stream",
     "text": [
      "21.550001\n",
      "u,g,r,i,z,Y\n",
      "-9999.0000,27.5199,23.2091,21.1112,20.4771,20.8669\n"
     ]
    },
    {
     "name": "stderr",
     "output_type": "stream",
     "text": [
      "WARNING: VerifyWarning: Error validating header for HDU #0 (note: Astropy uses zero-based indexing).\n",
      "    Header size is not multiple of 2880: 5581332\n",
      "There may be extra bytes after the last HDU or the file is corrupted. [astropy.io.fits.hdu.hdulist]\n"
     ]
    },
    {
     "data": {
      "text/plain": [
       "0"
      ]
     },
     "execution_count": 84,
     "metadata": {},
     "output_type": "execute_result"
    },
    {
     "name": "stdout",
     "output_type": "stream",
     "text": [
      "21.65\n",
      "u,g,r,i,z,Y\n",
      "-9999.0000,26.6771,23.2376,21.1231,20.5429,20.9331\n"
     ]
    },
    {
     "name": "stderr",
     "output_type": "stream",
     "text": [
      "WARNING: VerifyWarning: Error validating header for HDU #0 (note: Astropy uses zero-based indexing).\n",
      "    Header size is not multiple of 2880: 5606786\n",
      "There may be extra bytes after the last HDU or the file is corrupted. [astropy.io.fits.hdu.hdulist]\n"
     ]
    },
    {
     "data": {
      "text/plain": [
       "0"
      ]
     },
     "execution_count": 84,
     "metadata": {},
     "output_type": "execute_result"
    },
    {
     "name": "stdout",
     "output_type": "stream",
     "text": [
      "21.75\n",
      "u,g,r,i,z,Y\n",
      "-9999.0000,27.7852,23.0877,21.0964,20.5060,20.9133\n"
     ]
    },
    {
     "name": "stderr",
     "output_type": "stream",
     "text": [
      "WARNING: VerifyWarning: Error validating header for HDU #0 (note: Astropy uses zero-based indexing).\n",
      "    Header size is not multiple of 2880: 5562708\n",
      "There may be extra bytes after the last HDU or the file is corrupted. [astropy.io.fits.hdu.hdulist]\n"
     ]
    },
    {
     "data": {
      "text/plain": [
       "0"
      ]
     },
     "execution_count": 84,
     "metadata": {},
     "output_type": "execute_result"
    },
    {
     "name": "stdout",
     "output_type": "stream",
     "text": [
      "21.85\n",
      "u,g,r,i,z,Y\n",
      "-9999.0000,28.0489,23.2824,21.1213,20.4805,20.9049\n"
     ]
    },
    {
     "name": "stderr",
     "output_type": "stream",
     "text": [
      "WARNING: VerifyWarning: Error validating header for HDU #0 (note: Astropy uses zero-based indexing).\n",
      "    Header size is not multiple of 2880: 5515995\n",
      "There may be extra bytes after the last HDU or the file is corrupted. [astropy.io.fits.hdu.hdulist]\n"
     ]
    },
    {
     "data": {
      "text/plain": [
       "0"
      ]
     },
     "execution_count": 84,
     "metadata": {},
     "output_type": "execute_result"
    },
    {
     "name": "stdout",
     "output_type": "stream",
     "text": [
      "21.949999\n",
      "u,g,r,i,z,Y\n",
      "-9999.0000,27.2564,23.1119,21.2138,20.5092,21.0316\n"
     ]
    },
    {
     "name": "stderr",
     "output_type": "stream",
     "text": [
      "WARNING: VerifyWarning: Error validating header for HDU #0 (note: Astropy uses zero-based indexing).\n",
      "    Header size is not multiple of 2880: 5471059\n",
      "There may be extra bytes after the last HDU or the file is corrupted. [astropy.io.fits.hdu.hdulist]\n"
     ]
    },
    {
     "data": {
      "text/plain": [
       "0"
      ]
     },
     "execution_count": 84,
     "metadata": {},
     "output_type": "execute_result"
    },
    {
     "name": "stdout",
     "output_type": "stream",
     "text": [
      "22.050001\n",
      "u,g,r,i,z,Y\n",
      "-9999.0000,27.4440,23.1539,21.0938,20.5344,20.9775\n"
     ]
    },
    {
     "name": "stderr",
     "output_type": "stream",
     "text": [
      "WARNING: VerifyWarning: Error validating header for HDU #0 (note: Astropy uses zero-based indexing).\n",
      "    Header size is not multiple of 2880: 5512346\n",
      "There may be extra bytes after the last HDU or the file is corrupted. [astropy.io.fits.hdu.hdulist]\n"
     ]
    },
    {
     "data": {
      "text/plain": [
       "0"
      ]
     },
     "execution_count": 84,
     "metadata": {},
     "output_type": "execute_result"
    },
    {
     "name": "stdout",
     "output_type": "stream",
     "text": [
      "22.15\n",
      "u,g,r,i,z,Y\n",
      "-9999.0000,27.2716,23.2249,21.0887,20.5558,21.0762\n"
     ]
    },
    {
     "name": "stderr",
     "output_type": "stream",
     "text": [
      "WARNING: VerifyWarning: Error validating header for HDU #0 (note: Astropy uses zero-based indexing).\n",
      "    Header size is not multiple of 2880: 5472648\n",
      "There may be extra bytes after the last HDU or the file is corrupted. [astropy.io.fits.hdu.hdulist]\n"
     ]
    },
    {
     "data": {
      "text/plain": [
       "0"
      ]
     },
     "execution_count": 84,
     "metadata": {},
     "output_type": "execute_result"
    },
    {
     "name": "stdout",
     "output_type": "stream",
     "text": [
      "22.25\n",
      "u,g,r,i,z,Y\n",
      "-9999.0000,27.2810,23.1001,21.0953,20.5362,20.9943\n"
     ]
    },
    {
     "name": "stderr",
     "output_type": "stream",
     "text": [
      "WARNING: VerifyWarning: Error validating header for HDU #0 (note: Astropy uses zero-based indexing).\n",
      "    Header size is not multiple of 2880: 5542390\n",
      "There may be extra bytes after the last HDU or the file is corrupted. [astropy.io.fits.hdu.hdulist]\n"
     ]
    },
    {
     "data": {
      "text/plain": [
       "0"
      ]
     },
     "execution_count": 84,
     "metadata": {},
     "output_type": "execute_result"
    },
    {
     "name": "stdout",
     "output_type": "stream",
     "text": [
      "22.35\n",
      "u,g,r,i,z,Y\n",
      "-9999.0000,26.8184,23.2395,21.1634,20.4956,21.0031\n"
     ]
    },
    {
     "name": "stderr",
     "output_type": "stream",
     "text": [
      "WARNING: VerifyWarning: Error validating header for HDU #0 (note: Astropy uses zero-based indexing).\n",
      "    Header size is not multiple of 2880: 5553100\n",
      "There may be extra bytes after the last HDU or the file is corrupted. [astropy.io.fits.hdu.hdulist]\n"
     ]
    },
    {
     "data": {
      "text/plain": [
       "0"
      ]
     },
     "execution_count": 84,
     "metadata": {},
     "output_type": "execute_result"
    },
    {
     "name": "stdout",
     "output_type": "stream",
     "text": [
      "22.449999\n",
      "u,g,r,i,z,Y\n",
      "-9999.0000,27.2122,23.1902,21.1354,20.6083,21.0539\n"
     ]
    },
    {
     "name": "stderr",
     "output_type": "stream",
     "text": [
      "WARNING: VerifyWarning: Error validating header for HDU #0 (note: Astropy uses zero-based indexing).\n",
      "    Header size is not multiple of 2880: 5561316\n",
      "There may be extra bytes after the last HDU or the file is corrupted. [astropy.io.fits.hdu.hdulist]\n"
     ]
    },
    {
     "data": {
      "text/plain": [
       "0"
      ]
     },
     "execution_count": 84,
     "metadata": {},
     "output_type": "execute_result"
    },
    {
     "name": "stdout",
     "output_type": "stream",
     "text": [
      "22.550001\n",
      "u,g,r,i,z,Y\n",
      "-9999.0000,26.7065,23.0733,21.0896,20.5108,21.0544\n"
     ]
    },
    {
     "name": "stderr",
     "output_type": "stream",
     "text": [
      "WARNING: VerifyWarning: Error validating header for HDU #0 (note: Astropy uses zero-based indexing).\n",
      "    Header size is not multiple of 2880: 5512709\n",
      "There may be extra bytes after the last HDU or the file is corrupted. [astropy.io.fits.hdu.hdulist]\n"
     ]
    },
    {
     "data": {
      "text/plain": [
       "0"
      ]
     },
     "execution_count": 84,
     "metadata": {},
     "output_type": "execute_result"
    },
    {
     "name": "stdout",
     "output_type": "stream",
     "text": [
      "22.65\n",
      "u,g,r,i,z,Y\n",
      "-9999.0000,27.1573,23.1903,21.1921,20.5819,21.0667\n"
     ]
    },
    {
     "name": "stderr",
     "output_type": "stream",
     "text": [
      "WARNING: VerifyWarning: Error validating header for HDU #0 (note: Astropy uses zero-based indexing).\n",
      "    Header size is not multiple of 2880: 5610717\n",
      "There may be extra bytes after the last HDU or the file is corrupted. [astropy.io.fits.hdu.hdulist]\n"
     ]
    },
    {
     "data": {
      "text/plain": [
       "0"
      ]
     },
     "execution_count": 84,
     "metadata": {},
     "output_type": "execute_result"
    },
    {
     "name": "stdout",
     "output_type": "stream",
     "text": [
      "22.75\n",
      "u,g,r,i,z,Y\n",
      "-9999.0000,27.0790,23.2375,21.1256,20.5966,21.1022\n"
     ]
    },
    {
     "name": "stderr",
     "output_type": "stream",
     "text": [
      "WARNING: VerifyWarning: Error validating header for HDU #0 (note: Astropy uses zero-based indexing).\n",
      "    Header size is not multiple of 2880: 5571679\n",
      "There may be extra bytes after the last HDU or the file is corrupted. [astropy.io.fits.hdu.hdulist]\n"
     ]
    },
    {
     "data": {
      "text/plain": [
       "0"
      ]
     },
     "execution_count": 84,
     "metadata": {},
     "output_type": "execute_result"
    },
    {
     "name": "stdout",
     "output_type": "stream",
     "text": [
      "22.85\n",
      "u,g,r,i,z,Y\n",
      "-9999.0000,27.2591,23.2367,21.2044,20.6067,21.1043\n"
     ]
    },
    {
     "name": "stderr",
     "output_type": "stream",
     "text": [
      "WARNING: VerifyWarning: Error validating header for HDU #0 (note: Astropy uses zero-based indexing).\n",
      "    Header size is not multiple of 2880: 5599473\n",
      "There may be extra bytes after the last HDU or the file is corrupted. [astropy.io.fits.hdu.hdulist]\n"
     ]
    },
    {
     "data": {
      "text/plain": [
       "0"
      ]
     },
     "execution_count": 84,
     "metadata": {},
     "output_type": "execute_result"
    },
    {
     "name": "stdout",
     "output_type": "stream",
     "text": [
      "22.949999\n",
      "u,g,r,i,z,Y\n",
      "-9999.0000,27.3218,23.2249,21.1903,20.5735,21.1614\n"
     ]
    },
    {
     "name": "stderr",
     "output_type": "stream",
     "text": [
      "WARNING: VerifyWarning: Error validating header for HDU #0 (note: Astropy uses zero-based indexing).\n",
      "    Header size is not multiple of 2880: 5583026\n",
      "There may be extra bytes after the last HDU or the file is corrupted. [astropy.io.fits.hdu.hdulist]\n"
     ]
    },
    {
     "data": {
      "text/plain": [
       "0"
      ]
     },
     "execution_count": 84,
     "metadata": {},
     "output_type": "execute_result"
    },
    {
     "name": "stdout",
     "output_type": "stream",
     "text": [
      "23.050001\n",
      "u,g,r,i,z,Y\n",
      "-9999.0000,27.7056,23.2245,21.1905,20.6481,21.2110\n"
     ]
    },
    {
     "name": "stderr",
     "output_type": "stream",
     "text": [
      "WARNING: VerifyWarning: Error validating header for HDU #0 (note: Astropy uses zero-based indexing).\n",
      "    Header size is not multiple of 2880: 5599312\n",
      "There may be extra bytes after the last HDU or the file is corrupted. [astropy.io.fits.hdu.hdulist]\n"
     ]
    },
    {
     "data": {
      "text/plain": [
       "0"
      ]
     },
     "execution_count": 84,
     "metadata": {},
     "output_type": "execute_result"
    },
    {
     "name": "stdout",
     "output_type": "stream",
     "text": [
      "23.15\n",
      "u,g,r,i,z,Y\n",
      "-9999.0000,27.2968,23.2314,21.1740,20.6408,21.1243\n"
     ]
    },
    {
     "name": "stderr",
     "output_type": "stream",
     "text": [
      "WARNING: VerifyWarning: Error validating header for HDU #0 (note: Astropy uses zero-based indexing).\n",
      "    Header size is not multiple of 2880: 5599574\n",
      "There may be extra bytes after the last HDU or the file is corrupted. [astropy.io.fits.hdu.hdulist]\n"
     ]
    },
    {
     "data": {
      "text/plain": [
       "0"
      ]
     },
     "execution_count": 84,
     "metadata": {},
     "output_type": "execute_result"
    },
    {
     "name": "stdout",
     "output_type": "stream",
     "text": [
      "23.25\n",
      "u,g,r,i,z,Y\n",
      "-9999.0000,26.7221,23.2653,21.2223,20.6334,21.1322\n"
     ]
    },
    {
     "name": "stderr",
     "output_type": "stream",
     "text": [
      "WARNING: VerifyWarning: Error validating header for HDU #0 (note: Astropy uses zero-based indexing).\n",
      "    Header size is not multiple of 2880: 5634985\n",
      "There may be extra bytes after the last HDU or the file is corrupted. [astropy.io.fits.hdu.hdulist]\n"
     ]
    },
    {
     "data": {
      "text/plain": [
       "0"
      ]
     },
     "execution_count": 84,
     "metadata": {},
     "output_type": "execute_result"
    },
    {
     "name": "stdout",
     "output_type": "stream",
     "text": [
      "23.35\n",
      "u,g,r,i,z,Y\n",
      "-9999.0000,27.3515,23.2766,21.2102,20.6058,21.1537\n"
     ]
    },
    {
     "name": "stderr",
     "output_type": "stream",
     "text": [
      "WARNING: VerifyWarning: Error validating header for HDU #0 (note: Astropy uses zero-based indexing).\n",
      "    Header size is not multiple of 2880: 5697912\n",
      "There may be extra bytes after the last HDU or the file is corrupted. [astropy.io.fits.hdu.hdulist]\n"
     ]
    },
    {
     "data": {
      "text/plain": [
       "0"
      ]
     },
     "execution_count": 84,
     "metadata": {},
     "output_type": "execute_result"
    },
    {
     "name": "stdout",
     "output_type": "stream",
     "text": [
      "23.449999\n",
      "u,g,r,i,z,Y\n",
      "-9999.0000,27.1150,23.2904,21.1835,20.6169,21.1555\n"
     ]
    },
    {
     "name": "stderr",
     "output_type": "stream",
     "text": [
      "WARNING: VerifyWarning: Error validating header for HDU #0 (note: Astropy uses zero-based indexing).\n",
      "    Header size is not multiple of 2880: 5591582\n",
      "There may be extra bytes after the last HDU or the file is corrupted. [astropy.io.fits.hdu.hdulist]\n"
     ]
    },
    {
     "data": {
      "text/plain": [
       "0"
      ]
     },
     "execution_count": 84,
     "metadata": {},
     "output_type": "execute_result"
    },
    {
     "name": "stdout",
     "output_type": "stream",
     "text": [
      "23.550001\n",
      "u,g,r,i,z,Y\n",
      "-9999.0000,27.7754,23.3123,21.1672,20.5920,21.1526\n"
     ]
    },
    {
     "name": "stderr",
     "output_type": "stream",
     "text": [
      "WARNING: VerifyWarning: Error validating header for HDU #0 (note: Astropy uses zero-based indexing).\n",
      "    Header size is not multiple of 2880: 5587574\n",
      "There may be extra bytes after the last HDU or the file is corrupted. [astropy.io.fits.hdu.hdulist]\n"
     ]
    },
    {
     "data": {
      "text/plain": [
       "0"
      ]
     },
     "execution_count": 84,
     "metadata": {},
     "output_type": "execute_result"
    },
    {
     "name": "stdout",
     "output_type": "stream",
     "text": [
      "23.65\n",
      "u,g,r,i,z,Y\n",
      "-9999.0000,27.7479,23.3028,21.1969,20.7192,21.2911\n"
     ]
    },
    {
     "name": "stderr",
     "output_type": "stream",
     "text": [
      "WARNING: VerifyWarning: Error validating header for HDU #0 (note: Astropy uses zero-based indexing).\n",
      "    Header size is not multiple of 2880: 5496565\n",
      "There may be extra bytes after the last HDU or the file is corrupted. [astropy.io.fits.hdu.hdulist]\n"
     ]
    },
    {
     "data": {
      "text/plain": [
       "0"
      ]
     },
     "execution_count": 84,
     "metadata": {},
     "output_type": "execute_result"
    },
    {
     "name": "stdout",
     "output_type": "stream",
     "text": [
      "23.75\n",
      "u,g,r,i,z,Y\n",
      "-9999.0000,27.0281,23.2636,21.2211,20.6737,21.2621\n"
     ]
    },
    {
     "name": "stderr",
     "output_type": "stream",
     "text": [
      "WARNING: VerifyWarning: Error validating header for HDU #0 (note: Astropy uses zero-based indexing).\n",
      "    Header size is not multiple of 2880: 5534389\n",
      "There may be extra bytes after the last HDU or the file is corrupted. [astropy.io.fits.hdu.hdulist]\n"
     ]
    },
    {
     "data": {
      "text/plain": [
       "0"
      ]
     },
     "execution_count": 84,
     "metadata": {},
     "output_type": "execute_result"
    },
    {
     "name": "stdout",
     "output_type": "stream",
     "text": [
      "23.85\n",
      "u,g,r,i,z,Y\n",
      "-9999.0000,27.3019,23.2270,21.2472,20.6900,21.2521\n"
     ]
    },
    {
     "name": "stderr",
     "output_type": "stream",
     "text": [
      "WARNING: VerifyWarning: Error validating header for HDU #0 (note: Astropy uses zero-based indexing).\n",
      "    Header size is not multiple of 2880: 5612911\n",
      "There may be extra bytes after the last HDU or the file is corrupted. [astropy.io.fits.hdu.hdulist]\n"
     ]
    },
    {
     "data": {
      "text/plain": [
       "0"
      ]
     },
     "execution_count": 84,
     "metadata": {},
     "output_type": "execute_result"
    },
    {
     "name": "stdout",
     "output_type": "stream",
     "text": [
      "23.949999\n",
      "u,g,r,i,z,Y\n",
      "-9999.0000,27.1615,23.2761,21.3115,20.7286,21.2468\n"
     ]
    },
    {
     "name": "stderr",
     "output_type": "stream",
     "text": [
      "WARNING: VerifyWarning: Error validating header for HDU #0 (note: Astropy uses zero-based indexing).\n",
      "    Header size is not multiple of 2880: 5632116\n",
      "There may be extra bytes after the last HDU or the file is corrupted. [astropy.io.fits.hdu.hdulist]\n"
     ]
    },
    {
     "data": {
      "text/plain": [
       "0"
      ]
     },
     "execution_count": 84,
     "metadata": {},
     "output_type": "execute_result"
    },
    {
     "name": "stdout",
     "output_type": "stream",
     "text": [
      "24.050001\n",
      "u,g,r,i,z,Y\n",
      "-9999.0000,27.3509,23.3798,21.2539,20.6947,21.2793\n"
     ]
    },
    {
     "name": "stderr",
     "output_type": "stream",
     "text": [
      "WARNING: VerifyWarning: Error validating header for HDU #0 (note: Astropy uses zero-based indexing).\n",
      "    Header size is not multiple of 2880: 5605957\n",
      "There may be extra bytes after the last HDU or the file is corrupted. [astropy.io.fits.hdu.hdulist]\n"
     ]
    },
    {
     "data": {
      "text/plain": [
       "0"
      ]
     },
     "execution_count": 84,
     "metadata": {},
     "output_type": "execute_result"
    },
    {
     "name": "stdout",
     "output_type": "stream",
     "text": [
      "24.15\n",
      "u,g,r,i,z,Y\n",
      "-9999.0000,27.4517,23.1703,21.2929,20.6992,21.3139\n"
     ]
    },
    {
     "name": "stderr",
     "output_type": "stream",
     "text": [
      "WARNING: VerifyWarning: Error validating header for HDU #0 (note: Astropy uses zero-based indexing).\n",
      "    Header size is not multiple of 2880: 5657700\n",
      "There may be extra bytes after the last HDU or the file is corrupted. [astropy.io.fits.hdu.hdulist]\n"
     ]
    },
    {
     "data": {
      "text/plain": [
       "0"
      ]
     },
     "execution_count": 84,
     "metadata": {},
     "output_type": "execute_result"
    },
    {
     "name": "stdout",
     "output_type": "stream",
     "text": [
      "24.25\n",
      "u,g,r,i,z,Y\n",
      "-9999.0000,26.8222,23.2942,21.2507,20.7331,21.3979\n"
     ]
    },
    {
     "name": "stderr",
     "output_type": "stream",
     "text": [
      "WARNING: VerifyWarning: Error validating header for HDU #0 (note: Astropy uses zero-based indexing).\n",
      "    Header size is not multiple of 2880: 5606295\n",
      "There may be extra bytes after the last HDU or the file is corrupted. [astropy.io.fits.hdu.hdulist]\n"
     ]
    },
    {
     "data": {
      "text/plain": [
       "0"
      ]
     },
     "execution_count": 84,
     "metadata": {},
     "output_type": "execute_result"
    },
    {
     "name": "stdout",
     "output_type": "stream",
     "text": [
      "24.35\n",
      "u,g,r,i,z,Y\n",
      "-9999.0000,27.3785,23.2790,21.2224,20.7019,21.2962\n"
     ]
    },
    {
     "name": "stderr",
     "output_type": "stream",
     "text": [
      "WARNING: VerifyWarning: Error validating header for HDU #0 (note: Astropy uses zero-based indexing).\n",
      "    Header size is not multiple of 2880: 5544607\n",
      "There may be extra bytes after the last HDU or the file is corrupted. [astropy.io.fits.hdu.hdulist]\n"
     ]
    },
    {
     "data": {
      "text/plain": [
       "0"
      ]
     },
     "execution_count": 84,
     "metadata": {},
     "output_type": "execute_result"
    },
    {
     "name": "stdout",
     "output_type": "stream",
     "text": [
      "24.449999\n",
      "u,g,r,i,z,Y\n",
      "-9999.0000,27.2946,23.3267,21.2881,20.7578,21.3184\n"
     ]
    },
    {
     "name": "stderr",
     "output_type": "stream",
     "text": [
      "WARNING: VerifyWarning: Error validating header for HDU #0 (note: Astropy uses zero-based indexing).\n",
      "    Header size is not multiple of 2880: 5610565\n",
      "There may be extra bytes after the last HDU or the file is corrupted. [astropy.io.fits.hdu.hdulist]\n"
     ]
    },
    {
     "data": {
      "text/plain": [
       "0"
      ]
     },
     "execution_count": 84,
     "metadata": {},
     "output_type": "execute_result"
    },
    {
     "name": "stdout",
     "output_type": "stream",
     "text": [
      "24.550001\n",
      "u,g,r,i,z,Y\n",
      "-9999.0000,27.6038,23.3354,21.2843,20.7126,21.2882\n"
     ]
    },
    {
     "name": "stderr",
     "output_type": "stream",
     "text": [
      "WARNING: VerifyWarning: Error validating header for HDU #0 (note: Astropy uses zero-based indexing).\n",
      "    Header size is not multiple of 2880: 5662193\n",
      "There may be extra bytes after the last HDU or the file is corrupted. [astropy.io.fits.hdu.hdulist]\n"
     ]
    },
    {
     "data": {
      "text/plain": [
       "0"
      ]
     },
     "execution_count": 84,
     "metadata": {},
     "output_type": "execute_result"
    },
    {
     "name": "stdout",
     "output_type": "stream",
     "text": [
      "24.65\n",
      "u,g,r,i,z,Y\n",
      "-9999.0000,26.7510,23.3190,21.3208,20.7856,21.4258\n"
     ]
    },
    {
     "name": "stderr",
     "output_type": "stream",
     "text": [
      "WARNING: VerifyWarning: Error validating header for HDU #0 (note: Astropy uses zero-based indexing).\n",
      "    Header size is not multiple of 2880: 5644737\n",
      "There may be extra bytes after the last HDU or the file is corrupted. [astropy.io.fits.hdu.hdulist]\n"
     ]
    },
    {
     "data": {
      "text/plain": [
       "0"
      ]
     },
     "execution_count": 84,
     "metadata": {},
     "output_type": "execute_result"
    },
    {
     "name": "stdout",
     "output_type": "stream",
     "text": [
      "24.75\n",
      "u,g,r,i,z,Y\n",
      "-9999.0000,26.7434,23.2762,21.2815,20.8070,21.3963\n"
     ]
    },
    {
     "name": "stderr",
     "output_type": "stream",
     "text": [
      "WARNING: VerifyWarning: Error validating header for HDU #0 (note: Astropy uses zero-based indexing).\n",
      "    Header size is not multiple of 2880: 5554299\n",
      "There may be extra bytes after the last HDU or the file is corrupted. [astropy.io.fits.hdu.hdulist]\n"
     ]
    },
    {
     "data": {
      "text/plain": [
       "0"
      ]
     },
     "execution_count": 84,
     "metadata": {},
     "output_type": "execute_result"
    },
    {
     "name": "stdout",
     "output_type": "stream",
     "text": [
      "24.85\n",
      "u,g,r,i,z,Y\n",
      "-9999.0000,27.6865,23.3361,21.2632,20.7904,21.4049\n"
     ]
    },
    {
     "name": "stderr",
     "output_type": "stream",
     "text": [
      "WARNING: VerifyWarning: Error validating header for HDU #0 (note: Astropy uses zero-based indexing).\n",
      "    Header size is not multiple of 2880: 5579200\n",
      "There may be extra bytes after the last HDU or the file is corrupted. [astropy.io.fits.hdu.hdulist]\n"
     ]
    },
    {
     "data": {
      "text/plain": [
       "0"
      ]
     },
     "execution_count": 84,
     "metadata": {},
     "output_type": "execute_result"
    },
    {
     "name": "stdout",
     "output_type": "stream",
     "text": [
      "24.949999\n"
     ]
    },
    {
     "ename": "IndexError",
     "evalue": "index 270 is out of bounds for axis 0 with size 270",
     "output_type": "error",
     "traceback": [
      "\u001b[0;31m---------------------------------------------------------------------------\u001b[0m",
      "\u001b[0;31mIndexError\u001b[0m                                Traceback (most recent call last)",
      "\u001b[0;32m<ipython-input-84-f06b89ff3e83>\u001b[0m in \u001b[0;36m<module>\u001b[0;34m\u001b[0m\n\u001b[1;32m     28\u001b[0m \u001b[0;34m\u001b[0m\u001b[0m\n\u001b[1;32m     29\u001b[0m     \u001b[0;31m# spectrum at this epoch\u001b[0m\u001b[0;34m\u001b[0m\u001b[0;34m\u001b[0m\u001b[0;34m\u001b[0m\u001b[0m\n\u001b[0;32m---> 30\u001b[0;31m     \u001b[0mLnu\u001b[0m \u001b[0;34m=\u001b[0m \u001b[0mLnu_all\u001b[0m\u001b[0;34m[\u001b[0m\u001b[0mit\u001b[0m\u001b[0;34m,\u001b[0m\u001b[0;34m:\u001b[0m\u001b[0;34m]\u001b[0m\u001b[0;34m\u001b[0m\u001b[0;34m\u001b[0m\u001b[0m\n\u001b[0m\u001b[1;32m     31\u001b[0m \u001b[0;34m\u001b[0m\u001b[0m\n\u001b[1;32m     32\u001b[0m     \u001b[0;31m# Convert to in Llam (ergs/s/Angstrom)...\u001b[0m\u001b[0;34m\u001b[0m\u001b[0;34m\u001b[0m\u001b[0;34m\u001b[0m\u001b[0m\n",
      "\u001b[0;31mIndexError\u001b[0m: index 270 is out of bounds for axis 0 with size 270"
     ]
    }
   ],
   "source": [
    "c = 2.99e10   # speed of light in cm/sec...\n",
    "\n",
    "# open model file\n",
    "fin    = h5py.File(kasen_pathname,'r')\n",
    "\n",
    "# frequency in Hz\n",
    "nu    = np.array(fin['nu'],dtype='d')\n",
    "# array of time in seconds\n",
    "times = np.array(fin['time'])\n",
    "# covert time to days\n",
    "times = times/3600.0/24.0\n",
    "\n",
    "# specific luminosity (ergs/s/Hz)\n",
    "# this is a 2D array, Lnu[times][nu]\n",
    "Lnu_all   = np.array(fin['Lnu'],dtype='d')\n",
    "\n",
    "# loop over times [in days] after merger:\n",
    "for t_kn in times:\n",
    "    \n",
    "    if t_kn < 0.00: continue\n",
    "\n",
    "    if debug == True:  t_kn = 4.0\n",
    "\n",
    "    print(t_kn,) \n",
    "\n",
    "    # index corresponding to t\n",
    "    it = bisect.bisect(times,t_kn)\n",
    "    \n",
    "    # spectrum at this epoch\n",
    "    Lnu = Lnu_all[it,:]\n",
    "\n",
    "    # Convert to in Llam (ergs/s/Angstrom)...\n",
    "    lam0  = c/nu*1e8          # rest-frame wavelength\n",
    "    lam   = lam0*(1+z_kn)     # redshifted wavelength\n",
    "    Llam = Lnu*nu**2.0/c/1e8  # Llam\n",
    "\n",
    "    df_model = pd.DataFrame({'LAMBDA0':lam0, 'LAMBDA':lam, 'Llam':Llam})\n",
    "\n",
    "    #print min(lam), max(lam)\n",
    "    wavelength_array = np.arange(min(lam), max(lam), 1.0)\n",
    "\n",
    "    spec_flux_model = interpolate.interp1d(df_model.LAMBDA, df_model.Llam,bounds_error=False, fill_value=0.,kind='linear')\n",
    "    spec_flux_model_array = spec_flux_model(wavelength_array)\n",
    "\n",
    "    df_model_new = pd.DataFrame({'LAMBDA':wavelength_array, 'Llam':spec_flux_model_array})\n",
    "\n",
    "    # Distance to KN in cm...\n",
    "    Dlum = zToDlum(z_kn)\n",
    "    Dlum_cm = Mpc_to_cm(Dlum)\n",
    "\n",
    "    # Calculate Flam [ergs/s/cm**2/Angstrom] from Llam [ergs/s/Angstrom] and Dlum_cm [cm]...\n",
    "    df_model_new['Flam'] = df_model_new['Llam']/(Dlum_cm*Dlum_cm)\n",
    "\n",
    "    # Write df_model_new to a temporary output file...\n",
    "    tempFile = os.path.join(output_dirname,'temp_KNSpectrum.csv')\n",
    "    df_model_new.to_csv(tempFile, index=False)\n",
    "\n",
    "    run_calc_abmag('u,g,r,i,z,Y', bandpassFile, tempFile, 'LAMBDA', 'Flam', 'Flam', verbose)\n",
    "    \n",
    "    if debug == True:  break"
   ]
  },
  {
   "cell_type": "code",
   "execution_count": null,
   "metadata": {
    "collapsed": true
   },
   "outputs": [],
   "source": []
  }
 ],
 "metadata": {
  "kernelspec": {
   "display_name": "Python 3",
   "language": "python",
   "name": "python3"
  },
  "language_info": {
   "codemirror_mode": {
    "name": "ipython",
    "version": 3
   },
   "file_extension": ".py",
   "mimetype": "text/x-python",
   "name": "python",
   "nbconvert_exporter": "python",
   "pygments_lexer": "ipython3",
   "version": "3.8.8"
  }
 },
 "nbformat": 4,
 "nbformat_minor": 2
}
