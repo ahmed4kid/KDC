{
 "cells": [
  {
   "cell_type": "code",
   "execution_count": null,
   "id": "2476290c",
   "metadata": {},
   "outputs": [],
   "source": [
    "import matplotlib.pyplot as plt\n",
    "import pandas as pd\n",
    "import numpy as np"
   ]
  },
  {
   "cell_type": "code",
   "execution_count": null,
   "id": "c9090079",
   "metadata": {},
   "outputs": [],
   "source": [
    "path = '~/KDC/notebooks/output/'\n",
    "\n",
    "for i in range(20):\n",
    "    filename = 'light_curve_'+str(i)+'.txt'\n",
    "    outfile = 'data'+str(i)\n",
    "    outfile = pd.read_csv(path+filename)\n",
    "    r= outfile['r']\n",
    "    time = outfile['time']\n",
    "    plt.scatter(time,r)\n",
    "plt.xlabel('Days after')\n",
    "plt.gca().invert_yaxis()"
   ]
  },
  {
   "cell_type": "code",
   "execution_count": null,
   "id": "8113fdc2",
   "metadata": {},
   "outputs": [],
   "source": []
  }
 ],
 "metadata": {
  "kernelspec": {
   "display_name": "Python 3",
   "language": "python",
   "name": "python3"
  },
  "language_info": {
   "codemirror_mode": {
    "name": "ipython",
    "version": 3
   },
   "file_extension": ".py",
   "mimetype": "text/x-python",
   "name": "python",
   "nbconvert_exporter": "python",
   "pygments_lexer": "ipython3",
   "version": "3.9.5"
  }
 },
 "nbformat": 4,
 "nbformat_minor": 5
}
