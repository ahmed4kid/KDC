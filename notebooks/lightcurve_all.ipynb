{
 "cells": [
  {
   "cell_type": "code",
   "execution_count": 1,
   "id": "e8ea37f7",
   "metadata": {
    "execution": {
     "iopub.execute_input": "2023-07-03T21:56:39.983626Z",
     "iopub.status.busy": "2023-07-03T21:56:39.982831Z",
     "iopub.status.idle": "2023-07-03T21:56:40.708388Z",
     "shell.execute_reply": "2023-07-03T21:56:40.707849Z",
     "shell.execute_reply.started": "2023-07-03T21:56:39.983534Z"
    },
    "tags": []
   },
   "outputs": [],
   "source": [
    "import matplotlib.pyplot as plt\n",
    "import pandas as pd\n",
    "import numpy as np\n",
    "home = \"/home/mwiesner\""
   ]
  },
  {
   "cell_type": "code",
   "execution_count": 3,
   "id": "b59b0b0e-8461-4206-8a9c-2d5c387cf6a1",
   "metadata": {
    "execution": {
     "iopub.execute_input": "2023-07-03T21:57:03.812828Z",
     "iopub.status.busy": "2023-07-03T21:57:03.812174Z",
     "iopub.status.idle": "2023-07-03T21:57:03.836744Z",
     "shell.execute_reply": "2023-07-03T21:57:03.836221Z",
     "shell.execute_reply.started": "2023-07-03T21:57:03.812799Z"
    },
    "tags": []
   },
   "outputs": [],
   "source": [
    "galaxies = pd.read_csv('DP0/input/truth_DP0_phosim_real.csv')\n",
    "redshift = galaxies['redshift'] #DC2 photo-z\n",
    "kasener = pd.read_csv('/home/mwiesner/KDC/kasen/kasen.data')\n",
    "#kasener = pd.read_csv('/home/mwiesner/KDC/kasen/kasen_all.data')\n",
    "#print(kasener)\n",
    "m = kasener['m']\n",
    "vk = kasener['vk']\n",
    "Xlan = kasener['Xlan']\n",
    "#kasen =  kasener['kasen_model']\n",
    "#print(kasen)"
   ]
  },
  {
   "cell_type": "code",
   "execution_count": null,
   "id": "8ea69d7d",
   "metadata": {
    "tags": []
   },
   "outputs": [],
   "source": [
    "#path = '/home/mwiesner/KDC/notebooks/output/'\n",
    "\n",
    "#import matplotlib.backends.backend_pdf\n",
    "#pdf = matplotlib.backends.backend_pdf.PdfPages(\"kilonova.pdf\")\n",
    "\n",
    "observable = []\n",
    "\n",
    "for i in range(0,len(m)):\n",
    "    #filename = 'light_curve_'+str(i)+'.txt'\n",
    "    filename = 'light_curve_0.0099_'+str(i)+'.txt'\n",
    "  #  outfile = 'data'+str(i)\n",
    "  #  outfile = pd.read_csv(path+filename)\n",
    "    fine = outfile[outfile['u']>-9999]\n",
    "    r = fine['r']\n",
    "    g = fine['g']\n",
    "    ii = fine['i']\n",
    "    u = fine['u']\n",
    "    time = fine['time']\n",
    "    #plt.subplots()\n",
    "    fig = plt.figure()\n",
    "    scatter = plt.plot(time, r, '.r', label = \"r\")\n",
    "    scatter = plt.plot([0,10],[24.03,24.03],'.k-')\n",
    "   # scatter = plt.plot(time, g, '.g', label = \"g\") \n",
    "   # scatter = plt.plot(time, r, '.r', label = \"r\") \n",
    "   # scatter = plt.plot(time, ii, '.b', label = \"i\") \n",
    "    plt.xlabel('Days after')\n",
    "    plt.ylim(20,30)\n",
    "    plt.xlim(0,8)\n",
    "    plt.gca().invert_yaxis()\n",
    "    plt.title('System '+str(i)+': Mass ='+str(m[i])+', vk= '+str(vk[i])+', Xlan='+str(Xlan[i]))\n",
    "    plt.legend()\n",
    "    plt.show()\n",
    "   # pdf.savefig(fig)\n",
    "    if (r < 24.03).any():\n",
    "        observable.append(i)\n",
    "#pdf.close()\n",
    "print(\"Observable in LSST\",len(observable))\n",
    "    #plt.savefig(\"myImagePDF+\"+str(i)+\".pdf\", format=\"pdf\", bbox_inches=\"tight\")"
   ]
  },
  {
   "cell_type": "code",
   "execution_count": null,
   "id": "d285f526-b750-4370-b8f1-9446dbf762a8",
   "metadata": {
    "tags": []
   },
   "outputs": [],
   "source": [
    "outfile = pd.read_csv('output/l)\n",
    "    r= outfile['r']"
   ]
  },
  {
   "cell_type": "code",
   "execution_count": null,
   "id": "9780b695",
   "metadata": {},
   "outputs": [],
   "source": []
  }
 ],
 "metadata": {
  "kernelspec": {
   "display_name": "LSST",
   "language": "python",
   "name": "lsst"
  },
  "language_info": {
   "codemirror_mode": {
    "name": "ipython",
    "version": 3
   },
   "file_extension": ".py",
   "mimetype": "text/x-python",
   "name": "python",
   "nbconvert_exporter": "python",
   "pygments_lexer": "ipython3",
   "version": "3.8.12"
  }
 },
 "nbformat": 4,
 "nbformat_minor": 5
}
